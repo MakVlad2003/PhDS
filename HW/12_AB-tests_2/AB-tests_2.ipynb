{
  "cells": [
    {
      "cell_type": "markdown",
      "metadata": {
        "id": "Ctq3Lc5p7NYY"
      },
      "source": [
        "# ML в Биологии\n",
        "## 12. AB-tests. Part II."
      ]
    },
    {
      "cell_type": "code",
      "execution_count": 2,
      "metadata": {
        "colab": {
          "base_uri": "https://localhost:8080/"
        },
        "id": "ZLOO201gOIGl",
        "outputId": "50d6bc67-7c64-44a1-f5ce-2e7f2c472e78"
      },
      "outputs": [
        {
          "name": "stdout",
          "output_type": "stream",
          "text": [
            "Collecting catboost\n",
            "  Downloading catboost-1.2.7-cp310-cp310-manylinux2014_x86_64.whl.metadata (1.2 kB)\n",
            "Requirement already satisfied: graphviz in /usr/local/lib/python3.10/dist-packages (from catboost) (0.20.3)\n",
            "Requirement already satisfied: matplotlib in /usr/local/lib/python3.10/dist-packages (from catboost) (3.8.0)\n",
            "Requirement already satisfied: numpy<2.0,>=1.16.0 in /usr/local/lib/python3.10/dist-packages (from catboost) (1.26.4)\n",
            "Requirement already satisfied: pandas>=0.24 in /usr/local/lib/python3.10/dist-packages (from catboost) (2.2.2)\n",
            "Requirement already satisfied: scipy in /usr/local/lib/python3.10/dist-packages (from catboost) (1.13.1)\n",
            "Requirement already satisfied: plotly in /usr/local/lib/python3.10/dist-packages (from catboost) (5.24.1)\n",
            "Requirement already satisfied: six in /usr/local/lib/python3.10/dist-packages (from catboost) (1.16.0)\n",
            "Requirement already satisfied: python-dateutil>=2.8.2 in /usr/local/lib/python3.10/dist-packages (from pandas>=0.24->catboost) (2.8.2)\n",
            "Requirement already satisfied: pytz>=2020.1 in /usr/local/lib/python3.10/dist-packages (from pandas>=0.24->catboost) (2024.2)\n",
            "Requirement already satisfied: tzdata>=2022.7 in /usr/local/lib/python3.10/dist-packages (from pandas>=0.24->catboost) (2024.2)\n",
            "Requirement already satisfied: contourpy>=1.0.1 in /usr/local/lib/python3.10/dist-packages (from matplotlib->catboost) (1.3.1)\n",
            "Requirement already satisfied: cycler>=0.10 in /usr/local/lib/python3.10/dist-packages (from matplotlib->catboost) (0.12.1)\n",
            "Requirement already satisfied: fonttools>=4.22.0 in /usr/local/lib/python3.10/dist-packages (from matplotlib->catboost) (4.55.1)\n",
            "Requirement already satisfied: kiwisolver>=1.0.1 in /usr/local/lib/python3.10/dist-packages (from matplotlib->catboost) (1.4.7)\n",
            "Requirement already satisfied: packaging>=20.0 in /usr/local/lib/python3.10/dist-packages (from matplotlib->catboost) (24.2)\n",
            "Requirement already satisfied: pillow>=6.2.0 in /usr/local/lib/python3.10/dist-packages (from matplotlib->catboost) (11.0.0)\n",
            "Requirement already satisfied: pyparsing>=2.3.1 in /usr/local/lib/python3.10/dist-packages (from matplotlib->catboost) (3.2.0)\n",
            "Requirement already satisfied: tenacity>=6.2.0 in /usr/local/lib/python3.10/dist-packages (from plotly->catboost) (9.0.0)\n",
            "Downloading catboost-1.2.7-cp310-cp310-manylinux2014_x86_64.whl (98.7 MB)\n",
            "\u001b[2K   \u001b[90m━━━━━━━━━━━━━━━━━━━━━━━━━━━━━━━━━━━━━━━━\u001b[0m \u001b[32m98.7/98.7 MB\u001b[0m \u001b[31m7.3 MB/s\u001b[0m eta \u001b[36m0:00:00\u001b[0m\n",
            "\u001b[?25hInstalling collected packages: catboost\n",
            "Successfully installed catboost-1.2.7\n"
          ]
        }
      ],
      "source": [
        "import numpy as np\n",
        "import scipy.stats as sps\n",
        "import pandas as pd\n",
        "import matplotlib.pyplot as plt\n",
        "import seaborn as sns\n",
        "from tqdm import tqdm\n",
        "import os\n",
        "\n",
        "from statsmodels.stats.proportion import proportion_confint\n",
        "import statsmodels.formula.api as smf\n",
        "import statsmodels.stats.api as sms\n",
        "from statsmodels.compat import lzip\n",
        "import statsmodels.datasets as smd\n",
        "import statsmodels.api as sm\n",
        "\n",
        "from sklearn.linear_model import LogisticRegression\n",
        "from sklearn.model_selection import train_test_split\n",
        "from sklearn.metrics import roc_auc_score\n",
        "from sklearn.neighbors import NearestNeighbors\n",
        "\n",
        "from sklearn.ensemble import GradientBoostingRegressor\n",
        "from sklearn.linear_model import Ridge\n",
        "from sklearn.preprocessing import LabelEncoder\n",
        "!pip install catboost\n",
        "from catboost import CatBoostClassifier\n",
        "\n",
        "sns.set(palette='Set2', style='whitegrid', font_scale=1.3)\n",
        "\n",
        "pd.options.mode.chained_assignment = None"
      ]
    },
    {
      "cell_type": "code",
      "execution_count": 3,
      "metadata": {
        "id": "q3SvgOOGD5t5"
      },
      "outputs": [],
      "source": [
        "# from google.colab import drive\n",
        "# drive.mount('/content/drive')"
      ]
    },
    {
      "cell_type": "markdown",
      "metadata": {
        "id": "vYwaGAwxWICE"
      },
      "source": [
        "Загрузка и предпроцессинг данных у каждого профиля свои, далее общая часть &mdash; непосредственно задачи, обе выполняются на одном датасете. В задаче 2 косвенно используются результаты задачи 1."
      ]
    },
    {
      "cell_type": "markdown",
      "metadata": {
        "id": "U0M9UaUDAVEu"
      },
      "source": [
        "# Некоторые полезные функции для проведения A/B тестов"
      ]
    },
    {
      "cell_type": "code",
      "execution_count": 4,
      "metadata": {
        "code_folding": [
          0,
          3,
          31
        ],
        "id": "h5-jCiN48PFm"
      },
      "outputs": [],
      "source": [
        "def random_sampler(data, sample_size):\n",
        "    '''\n",
        "    Случайное семплирование двух групп одного размера из данных.\n",
        "\n",
        "    Аргументы:\n",
        "    data -- исходные данные\n",
        "    sample_size -- размер группы\n",
        "\n",
        "    Возвращает:\n",
        "    B_group, A_group -- две группы данных\n",
        "    '''\n",
        "\n",
        "    choiced = data.sample(n=2 * sample_size, replace=False)\n",
        "    B_group, A_group = choiced.iloc[:sample_size], choiced.iloc[sample_size:]\n",
        "    return B_group, A_group\n",
        "\n",
        "\n",
        "def AA_test(\n",
        "    test, x_data, y_data=None,\n",
        "    lin_ttest = False,\n",
        "    n_iter=10000, sample_size=1000, effect=0, relative_effect=True, alpha=0.05\n",
        "):\n",
        "    '''\n",
        "    Проведение серии AA-тестов на искусственных выборках.\n",
        "\n",
        "    Аргументы:\n",
        "    test -- статистический критерий\n",
        "    x_data, y_data -- данные, из которых будут семплирповаться выборки\n",
        "    lin_ttest -- проводим тест с помощью линейной модели (True) или классического t-test (False)\n",
        "    n_iter -- количество итераций\n",
        "    sample_size -- размер выборок\n",
        "    effect -- размер добавляемого эффекта (для оценки мощности)\n",
        "    relative_effect -- является ли эффект относительным или абсолютным\n",
        "    alpha -- теоретический уровень значимости\n",
        "    '''\n",
        "\n",
        "    n_rejects = 0  # количество отвержений H_0\n",
        "\n",
        "    # Проведение экспериментов\n",
        "    for _ in tqdm(range(n_iter)):\n",
        "        # Генерируем выборки\n",
        "        if y_data is None:\n",
        "            x_sample, y_sample = random_sampler(x_data, sample_size)\n",
        "            if lin_ttest:\n",
        "                y_sample['type'] = 1\n",
        "        else:\n",
        "            x_sample = x_data.sample(sample_size, replace=False)\n",
        "            y_sample = y_data.sample(sample_size, replace=False)\n",
        "\n",
        "        # Добавляем эффект, если хотим оценить мощность\n",
        "        if relative_effect:\n",
        "            x_sample *= (1 + effect)\n",
        "        else:\n",
        "            x_sample += effect\n",
        "\n",
        "        # Применяем критерий\n",
        "        n_rejects += test(x_sample, y_sample)\n",
        "\n",
        "    # Реальный уровень значимости\n",
        "    real_alpha, left_alpha, right_alpha = calculate_real_alpha(n_rejects, n_iter)\n",
        "    draw_interval(real_alpha, left_alpha, right_alpha, alpha=alpha)\n",
        "\n",
        "def calculate_real_alpha(n_rejects, n_iter):\n",
        "    '''\n",
        "    Оценка реального уровня значимости и его дов. интервала.\n",
        "\n",
        "    Аргументы:\n",
        "    n_rejects -- количество ошибок в эксперименте\n",
        "    n_iter -- количество экспериментов\n",
        "\n",
        "    Возвращает:\n",
        "    real_alpha -- оценка реального уровня значимости\n",
        "    left_alpha, right_alpha -- границы соотв. дов. интервала\n",
        "    '''\n",
        "\n",
        "    real_alpha = n_rejects / n_iter\n",
        "    left_alpha, right_alpha = proportion_confint(n_rejects, n_iter, method='wilson')\n",
        "\n",
        "    return real_alpha, left_alpha, right_alpha\n",
        "\n",
        "\n",
        "def draw_interval(\n",
        "    real_alpha, left_alpha, right_alpha,\n",
        "    alpha=0.05, figsize=(7, 2)\n",
        "):\n",
        "    '''\n",
        "    Отрисовка интервала для реального уровня значимости\n",
        "\n",
        "    Аргументы:\n",
        "    real_alpha -- оценка уровня значимости\n",
        "    left_alpha, right_alpha -- границы доверительного интервала\n",
        "    alpha -- теоретический уровень значимости\n",
        "    figsize -- размер фигуры matplotlib\n",
        "    '''\n",
        "\n",
        "    with sns.axes_style(\"whitegrid\"):\n",
        "        plt.figure(figsize=(6, 2))\n",
        "        plt.hlines(0, 0, 1, color='black', lw=2, alpha=0.6)\n",
        "        plt.vlines(alpha, -1, 1, color='red', lw=5, linestyle='--', alpha=0.6)\n",
        "        plt.fill_between(\n",
        "            [left_alpha, right_alpha], [0.15]*2, [-0.15]*2,\n",
        "            color='green', alpha=0.6\n",
        "        )\n",
        "        plt.scatter(real_alpha, 0, s=300, marker='*', color='red')\n",
        "        plt.xlim((min(alpha, left_alpha)-1e-3, max(alpha, right_alpha)+1e-3))\n",
        "        plt.title(\n",
        "            f'Доля отвержений = {100*real_alpha:.2f}%, '\n",
        "            f'интервал ({100*left_alpha:.2f}%, {100*right_alpha:.2f}%)'\n",
        "        )\n",
        "        plt.ylim((-0.5, 0.5))\n",
        "        plt.yticks([])\n",
        "        plt.tight_layout()\n",
        "        plt.show()"
      ]
    },
    {
      "cell_type": "markdown",
      "metadata": {
        "id": "cz9xHS_cWICF"
      },
      "source": [
        "# Датасеты по профилям"
      ]
    },
    {
      "cell_type": "markdown",
      "metadata": {
        "id": "RNk9ise87NYb"
      },
      "source": [
        " ## **Профиль биология**\n"
      ]
    },
    {
      "cell_type": "markdown",
      "metadata": {
        "id": "WJrwH8Tb22Qp"
      },
      "source": [
        "### Описание датасета\n",
        "\n",
        "В данных, с которыми вы будете работать, в общей сложности 4603 субъекта, которые соответствовали критериям включения и исключения, были включены из [NHANES](https://www.cdc.gov/nchs/nhanes/index.htm). Из них 362 человека (7,86%) были диагностированы как пациенты с инсультом, в то время как 4241 человек (92,14%) были идентифицированы как пациенты без инсульта.\n",
        "\n",
        "Первый столбец набора данных — это информация о наличии инсульта в анамнезе (`stroke`), а другие столбцы — это предикторы, включая:\n",
        "\n",
        "- `stroke` — есть ли факт перенесенного инсульта в анамнезе (**ТРИТМЕНТ**)\n",
        "- `Low-density lipoprotein` — липопротеины низкой плотности (**ТАРГЕТ**)\n",
        "- `gender` — пол\n",
        "- `age` — возраст\n",
        "- `Race` — раса\n",
        "- `Marital status` — семейное положение\n",
        "- `alcohol` — употребление алкоголя\n",
        "- `smoke` — курение\n",
        "- `sleep disorder` — нарушение сна\n",
        "- `Health Insurance` — медицинская страховка\n",
        "- `General health condition` — оценка общего состояние здоровья\n",
        "- `depression` — депрессия\n",
        "- `sleep time` — время сна\n",
        "- `diabetes` — диабет\n",
        "- `hypertension` — гипертония\n",
        "- `high cholesterol` — высокий уровень холестерина\n",
        "- `Minutes sedentary activity` — минуты малоподвижной активности\n",
        "- `Coronary Heart Disease` — ишемическая болезнь сердца\n",
        "- `Body Mass Index` — индекс массы тела\n",
        "- `Waist Circumference` — окружность талии\n",
        "- `Systolic blood pressure` — систолическое артериальное давление\n",
        "- `Diastolic blood pressure` — диастолическое артериальное давление\n",
        "- `High-density lipoprotein` — липопротеины высокой плотности\n",
        "- `Triglyceride` — триглицериды\n",
        "- `Fasting Glucose` — глюкоза натощак\n",
        "- `Glycohemoglobin` — гликированный гемоглобин\n",
        "\n",
        "Из опросник для типа питания:\n",
        "- `energy` — суточное потребление калорий [kcal]\n",
        "- `protein` — суточное потребление белка [gm]\n",
        "- `Carbohydrate` — суточное потребление углеводов [gm]\n",
        "- `Dietary fiber` — суточное потребление пищевых волокон [gm]\n",
        "- `Total fat` — общий жир\n",
        "- `Total saturated fatty acids` — общее количество насыщенных жирных кислот [gm]\n",
        "- `Total monounsaturated fatty acids` — общее количество мононенасыщенных жирных кислот [gm]\n",
        "- `Total polyunsaturated fatty acids` — общее количество полиненасыщенных жирных кислот [gm]\n",
        "- `Potassium` — калий [mg]\n",
        "- `Sodium` — натрий [mg]\n"
      ]
    },
    {
      "cell_type": "markdown",
      "metadata": {
        "id": "ixO3mH9k_c1X"
      },
      "source": [
        "Задача состоит в том, чтобы исследовать работоспособность различных видов A/B тестирования, в том числе с использованием `Propencity score`, на распределении уровня липопротеинов низкой плотности (`Low-density lipoprotein`)."
      ]
    },
    {
      "cell_type": "markdown",
      "metadata": {
        "id": "AYW4VCQ0APf1"
      },
      "source": [
        "### Загрузка данных и энкодинг тритмента\n"
      ]
    },
    {
      "cell_type": "markdown",
      "metadata": {
        "id": "7-q_3ua7WICH"
      },
      "source": [
        "Загрузите датасет со страницы курса"
      ]
    },
    {
      "cell_type": "code",
      "execution_count": 6,
      "metadata": {
        "id": "mIpPVMN_2j_P"
      },
      "outputs": [],
      "source": [
        "DATA_PATH = r\"/content/hw_data_biology.csv\"\n",
        "data = pd.read_csv(DATA_PATH)\n",
        "data = data.rename(columns={'stroke': 'type'})\n",
        "data.columns = map(lambda x: x.replace(' ', '_').replace('-', '_'), data.columns)\n",
        "target = 'Low_density_lipoprotein'"
      ]
    },
    {
      "cell_type": "markdown",
      "metadata": {
        "id": "-lMmwVfjWICH"
      },
      "source": [
        "Зададим параметры наших тестов: теоретический уровень значимости, размер выборки и количество итераций теста"
      ]
    },
    {
      "cell_type": "code",
      "execution_count": 14,
      "metadata": {
        "id": "sot3bUfhdcc5"
      },
      "outputs": [],
      "source": [
        "alpha = 0.05\n",
        "sample_size = 170\n",
        "n_iter = 10000\n",
        "\n",
        "eff_size = 0.1"
      ]
    },
    {
      "cell_type": "markdown",
      "metadata": {
        "id": "OzITGB6fWICI"
      },
      "source": [
        "# Задача 1"
      ]
    },
    {
      "cell_type": "markdown",
      "metadata": {
        "id": "J3VjT9h_4hwC"
      },
      "source": [
        "### 1. Обычный t-тест\n",
        "\n",
        "Начнём с применения обычного t-test. Оцените **реальный уровень значимости** критерия и его **мощность** на ваших данных"
      ]
    },
    {
      "cell_type": "code",
      "execution_count": 15,
      "metadata": {
        "id": "mC-563PrW5Og"
      },
      "outputs": [],
      "source": [
        "def t_test(x_sample, y_sample):\n",
        "    stat, p_value = sps.ttest_ind(x_sample[target], y_sample[target], equal_var=False)\n",
        "    return p_value < alpha"
      ]
    },
    {
      "cell_type": "code",
      "execution_count": 16,
      "metadata": {
        "colab": {
          "base_uri": "https://localhost:8080/",
          "height": 242
        },
        "id": "7yAbRCdoW9F5",
        "outputId": "39773e92-64f0-4eaa-e21a-1a65c4d0a6a7"
      },
      "outputs": [
        {
          "name": "stdout",
          "output_type": "stream",
          "text": [
            "Оценка уровня значимости (A/A тест): \n",
            "\n"
          ]
        },
        {
          "name": "stderr",
          "output_type": "stream",
          "text": [
            "100%|██████████| 10000/10000 [00:37<00:00, 268.12it/s]\n"
          ]
        },
        {
          "data": {
            "image/png": "[encoded data removed]",
            "text/plain": [
              "<Figure size 600x200 with 1 Axes>"
            ]
          },
          "metadata": {},
          "output_type": "display_data"
        }
      ],
      "source": [
        "print(\"Оценка уровня значимости (A/A тест):\", \"\\n\")\n",
        "\n",
        "AA_test(\n",
        "    test=t_test,\n",
        "    x_data=data,\n",
        "    n_iter=n_iter,\n",
        "    sample_size=sample_size,\n",
        "    alpha=alpha\n",
        ")"
      ]
    },
    {
      "cell_type": "code",
      "execution_count": 17,
      "metadata": {
        "colab": {
          "base_uri": "https://localhost:8080/",
          "height": 242
        },
        "id": "8WzkcF0v7y_2",
        "outputId": "1416079e-7c00-4f33-b699-77ce19842d14"
      },
      "outputs": [
        {
          "name": "stdout",
          "output_type": "stream",
          "text": [
            "Оценка мощности (A/B тест): \n",
            "\n"
          ]
        },
        {
          "name": "stderr",
          "output_type": "stream",
          "text": [
            "100%|██████████| 10000/10000 [00:36<00:00, 271.28it/s]\n"
          ]
        },
        {
          "data": {
            "image/png": "[encoded data removed]",
            "text/plain": [
              "<Figure size 600x200 with 1 Axes>"
            ]
          },
          "metadata": {},
          "output_type": "display_data"
        }
      ],
      "source": [
        "print(\"Оценка мощности (A/B тест):\", \"\\n\")\n",
        "\n",
        "AA_test(\n",
        "    test=t_test,\n",
        "    x_data=data,\n",
        "    n_iter=n_iter,\n",
        "    sample_size=sample_size,\n",
        "    effect=eff_size,\n",
        "    alpha=alpha\n",
        ")"
      ]
    },
    {
      "cell_type": "markdown",
      "metadata": {
        "id": "kBjZZxYGNQtb"
      },
      "source": [
        "### 2. Линейные модели на основе ковариат\n",
        "Перейдём к использованию линейных моделей. Построим следующую модель:\n",
        "\n",
        "$$\n",
        "Y = \\theta_0 + \\theta_1 \\cdot \\text{type} + X^T\\Theta\n",
        "$$\n",
        "\n",
        "где $X$ &mdash; это признаки, влияющие на целевую переменную, `type` &mdash; индикатор принадлежности к тестовой группе.\n",
        "\n",
        "Если будет наблюдаться значимое отклонение значения параметра $\\theta_1$, то можно считать, что среднее двух групп различается. Для проверки этого требуется критерий Стьюдента.\n",
        "\n",
        "Реализуйте функцию проведения A/B теста с помощью линейной модели"
      ]
    },
    {
      "cell_type": "code",
      "execution_count": 18,
      "metadata": {
        "id": "94ca67eMWICJ"
      },
      "outputs": [],
      "source": [
        "def lin_ttest(x_data, y_data, condition):\n",
        "    '''\n",
        "    A/B тест с помощью линейной модели\n",
        "\n",
        "    Аргументы:\n",
        "    x_data -- группа теста\n",
        "    y_data -- группа контроля\n",
        "    condition -- формула, описывающая модель вида 'target ~ type + covariates'\n",
        "\n",
        "    Возвращает:\n",
        "    pvalue\n",
        "    '''\n",
        "\n",
        "    # Обучите модель на объединённых данных и проверьте критерий Стьюдента\n",
        "    x_data['type'] = 1\n",
        "    y_data['type'] = 0\n",
        "    data = pd.concat([x_data, y_data], axis=0)\n",
        "\n",
        "    model = smf.ols(condition, data=data).fit()\n",
        "\n",
        "    return model.pvalues['type']"
      ]
    },
    {
      "cell_type": "markdown",
      "metadata": {
        "id": "LTP8KaydN3dR"
      },
      "source": [
        "Поэкспериментируйте с выбором ковариат. Проведите оценку реального уровня значимости и мощности критерия для разных наборов ковариат (как минимум двух разных комбинаций).\n",
        "\n",
        "Заполните пропуски в функицях, приведенных ниже, передав формулы линейных моделей с выбранными признаками и правильно задав набор данных, на которых будут проводиться AA и AB тесты."
      ]
    },
    {
      "cell_type": "markdown",
      "metadata": {
        "id": "h85UaaqWmOBV"
      },
      "source": [
        "##### Набор ковариат 1"
      ]
    },
    {
      "cell_type": "markdown",
      "metadata": {
        "id": "UYkxLW8pWICJ"
      },
      "source": [
        "Реальный уровень значимости:"
      ]
    },
    {
      "cell_type": "code",
      "execution_count": 19,
      "metadata": {
        "colab": {
          "base_uri": "https://localhost:8080/",
          "height": 207
        },
        "id": "IMXHBBOjN74m",
        "outputId": "3c653b00-119c-4114-c3b0-2315340254b8"
      },
      "outputs": [
        {
          "name": "stderr",
          "output_type": "stream",
          "text": [
            "100%|██████████| 10000/10000 [02:49<00:00, 58.92it/s]\n"
          ]
        },
        {
          "data": {
            "image/png": "[encoded data removed]",
            "text/plain": [
              "<Figure size 600x200 with 1 Axes>"
            ]
          },
          "metadata": {},
          "output_type": "display_data"
        }
      ],
      "source": [
        "f_1 = f\"{target} ~ type + age + gender + Body_Mass_Index\"\n",
        "\n",
        "AA_test(\n",
        "    test=lambda x, y: int(lin_ttest(x, y, f_1) < alpha),\n",
        "    x_data=data,\n",
        "    lin_ttest=True,\n",
        "    effect=0,\n",
        "    sample_size=sample_size,\n",
        "    n_iter=n_iter\n",
        ")"
      ]
    },
    {
      "cell_type": "markdown",
      "metadata": {
        "id": "4ya1D_gjWICK"
      },
      "source": [
        "Соответствующая величина мощности для выбранного теста на имеющихся данных:"
      ]
    },
    {
      "cell_type": "code",
      "execution_count": 20,
      "metadata": {
        "colab": {
          "base_uri": "https://localhost:8080/",
          "height": 207
        },
        "id": "B54jyG-1ZHEZ",
        "outputId": "62904750-1f2a-448d-bd37-4efcb9f0ab06"
      },
      "outputs": [
        {
          "name": "stderr",
          "output_type": "stream",
          "text": [
            "100%|██████████| 10000/10000 [02:30<00:00, 66.60it/s]\n"
          ]
        },
        {
          "data": {
            "image/png": "[encoded data removed]",
            "text/plain": [
              "<Figure size 600x200 with 1 Axes>"
            ]
          },
          "metadata": {},
          "output_type": "display_data"
        }
      ],
      "source": [
        "AA_test(\n",
        "    test=lambda x, y: int(lin_ttest(x, y, f_1) < alpha),\n",
        "    x_data=data,\n",
        "    lin_ttest=True,\n",
        "    effect=eff_size,\n",
        "    sample_size=sample_size,\n",
        "    n_iter=n_iter\n",
        ")"
      ]
    },
    {
      "cell_type": "markdown",
      "metadata": {
        "id": "76fpXZ4CmUDn"
      },
      "source": [
        "##### Набор ковариат 2"
      ]
    },
    {
      "cell_type": "markdown",
      "metadata": {
        "id": "hwlVWXVrWICK"
      },
      "source": [
        "Реальный уровень значимости:"
      ]
    },
    {
      "cell_type": "code",
      "execution_count": 21,
      "metadata": {
        "colab": {
          "base_uri": "https://localhost:8080/",
          "height": 207
        },
        "id": "32GF9nIJWICK",
        "outputId": "576df157-f4e5-4019-d50d-5e89c4c42bc6"
      },
      "outputs": [
        {
          "name": "stderr",
          "output_type": "stream",
          "text": [
            "100%|██████████| 10000/10000 [02:46<00:00, 60.10it/s]\n"
          ]
        },
        {
          "data": {
            "image/png": "[encoded data removed]",
            "text/plain": [
              "<Figure size 600x200 with 1 Axes>"
            ]
          },
          "metadata": {},
          "output_type": "display_data"
        }
      ],
      "source": [
        "f_2 = f\"{target} ~ type + age + hypertension + diabetes + Minutes_sedentary_activity\"\n",
        "\n",
        "AA_test(\n",
        "    test=lambda x, y: int(lin_ttest(x, y, f_2) < alpha),\n",
        "    x_data=data,\n",
        "    lin_ttest=True,\n",
        "    effect=0,\n",
        "    sample_size=sample_size,\n",
        "    n_iter=n_iter\n",
        ")"
      ]
    },
    {
      "cell_type": "markdown",
      "metadata": {
        "id": "chzwNFZNWICL"
      },
      "source": [
        "Соответствующая величина мощности для выбранного теста на имеющихся данных:"
      ]
    },
    {
      "cell_type": "code",
      "execution_count": 22,
      "metadata": {
        "colab": {
          "base_uri": "https://localhost:8080/",
          "height": 207
        },
        "id": "tx0RsyQ5WICL",
        "outputId": "db320065-c847-430b-f51c-6da0c0d38787"
      },
      "outputs": [
        {
          "name": "stderr",
          "output_type": "stream",
          "text": [
            "100%|██████████| 10000/10000 [02:44<00:00, 60.88it/s]\n"
          ]
        },
        {
          "data": {
            "image/png": "[encoded data removed]",
            "text/plain": [
              "<Figure size 600x200 with 1 Axes>"
            ]
          },
          "metadata": {},
          "output_type": "display_data"
        }
      ],
      "source": [
        "AA_test(\n",
        "    test=lambda x, y: int(lin_ttest(x, y, f_2) < alpha),\n",
        "    x_data=data,\n",
        "    lin_ttest=True,\n",
        "    effect=eff_size,\n",
        "    sample_size=sample_size,\n",
        "    n_iter=n_iter\n",
        ")"
      ]
    },
    {
      "cell_type": "markdown",
      "metadata": {
        "id": "1xBmQZWfWICM"
      },
      "source": [
        "Сравните результаты, получившиеся в пункте 1 и пункте 2 (в т.ч. для разных наборов дополнительных признаков), сделайте выводы.\n",
        "\n",
        "*Примечение*: в конце ноутбука есть код для визуализации результатов разных тестов, можете также использовать его для наглядности отображения полученных результатов.\n",
        "\n",
        "**Выводы:**\n",
        "\n",
        "Т-тест показывает значимость, но его мощность ограничена из-за игнорирования ковариатов. Линейная модель эффективнее, так как учитывает их влияние.\n",
        "\n",
        "Ковариаты первого набора (возраст, пол, ИМТ) лишь незначительно увеличивают мощность. Второй набор (возраст, гипертония, диабет, низкая активность) заметно улучшает мощность, объясняя больше вариаций."
      ]
    },
    {
      "cell_type": "markdown",
      "metadata": {
        "id": "9PtgmEtGWICM"
      },
      "source": [
        "# Задача 2 &mdash; продолжение задачи 1\n"
      ]
    },
    {
      "cell_type": "markdown",
      "metadata": {
        "id": "Df2LG0lQWICM"
      },
      "source": [
        "### 3. Propensity score"
      ]
    },
    {
      "cell_type": "markdown",
      "metadata": {
        "id": "Jxo8ArUsWICM"
      },
      "source": [
        "Теперь попробуем применить тесты с использованием учета фичей через Propensity score.\n",
        "\n",
        "**Справка о Propensity Score в задаче A/B тестирования**\n",
        "\n",
        "**Propensity Score (PS)** — это вероятность того, что объект будет назначен в ту или иную группу (например, тестовую) в зависимости от его конфаундеров. В контексте A/B тестирования, propensity score используется для уменьшения смещения и улучшения баланса между группами, что позволяет более точно оценить эффект от внедрения новой функции или изменения.\n",
        "\n",
        "**Плюсы**\n",
        "\n",
        "- **Уменьшение смещения**: Propensity score помогает уменьшить смещение, связанное с неравномерным распределением признаков между группами.\n",
        "- **Улучшение баланса**: Сопоставление по propensity score позволяет создать более сбалансированные группы, что улучшает точность оценки эффекта.\n",
        "- **Повышение достоверности**: Использование propensity score делает результаты A/B тестирования более достоверными и надежными."
      ]
    },
    {
      "cell_type": "markdown",
      "metadata": {
        "id": "N4olU6-b6H9g"
      },
      "source": [
        "#### 3.0. Создание датасета для `Propencity score matching`\n",
        "\n",
        "\n",
        "Выберите те признаки, по которым вы хотите провести сопоставление групп теста и контроля. Обучите модель `LogisticRegression` предсказывать $\\mathsf{E}(T|P(X), X) = \\mathsf{E}(T|P(X))$ &mdash; вероятность принадлежности классу 1 при заданном наборе признаков.\n",
        "\n",
        "*Примечание:* и обучение, и предсказание как правило проводятся на полном датасете."
      ]
    },
    {
      "cell_type": "code",
      "execution_count": 23,
      "metadata": {
        "id": "a8HFEiTZYnTZ"
      },
      "outputs": [],
      "source": [
        "from sklearn.pipeline import Pipeline\n",
        "from sklearn.preprocessing import StandardScaler"
      ]
    },
    {
      "cell_type": "code",
      "execution_count": 24,
      "metadata": {
        "colab": {
          "base_uri": "https://localhost:8080/",
          "height": 206
        },
        "id": "NGkYADKz6XUD",
        "outputId": "7996eb47-ec76-4a18-a00a-a84e0d67ae24"
      },
      "outputs": [
        {
          "data": {
            "application/vnd.google.colaboratory.intrinsic+json": {
              "summary": "{\n  \"name\": \"data[['propensity_score']]\",\n  \"rows\": 5,\n  \"fields\": [\n    {\n      \"column\": \"propensity_score\",\n      \"properties\": {\n        \"dtype\": \"number\",\n        \"std\": 0.02902693852138016,\n        \"min\": 0.014722316765789521,\n        \"max\": 0.09416120900163362,\n        \"num_unique_values\": 4,\n        \"samples\": [\n          0.06849668998901545,\n          0.014722316765789521,\n          0.050795579406931246\n        ],\n        \"semantic_type\": \"\",\n        \"description\": \"\"\n      }\n    }\n  ]\n}",
              "type": "dataframe"
            },
            "text/html": [
              "\n",
              "  <div id=\"df-a6cda8d8-90c1-407a-af75-a42e92c105d4\" class=\"colab-df-container\">\n",
              "    <div>\n",
              "<style scoped>\n",
              "    .dataframe tbody tr th:only-of-type {\n",
              "        vertical-align: middle;\n",
              "    }\n",
              "\n",
              "    .dataframe tbody tr th {\n",
              "        vertical-align: top;\n",
              "    }\n",
              "\n",
              "    .dataframe thead th {\n",
              "        text-align: right;\n",
              "    }\n",
              "</style>\n",
              "<table border=\"1\" class=\"dataframe\">\n",
              "  <thead>\n",
              "    <tr style=\"text-align: right;\">\n",
              "      <th></th>\n",
              "      <th>propensity_score</th>\n",
              "    </tr>\n",
              "  </thead>\n",
              "  <tbody>\n",
              "    <tr>\n",
              "      <th>0</th>\n",
              "      <td>0.050796</td>\n",
              "    </tr>\n",
              "    <tr>\n",
              "      <th>1</th>\n",
              "      <td>0.050796</td>\n",
              "    </tr>\n",
              "    <tr>\n",
              "      <th>2</th>\n",
              "      <td>0.068497</td>\n",
              "    </tr>\n",
              "    <tr>\n",
              "      <th>3</th>\n",
              "      <td>0.094161</td>\n",
              "    </tr>\n",
              "    <tr>\n",
              "      <th>4</th>\n",
              "      <td>0.014722</td>\n",
              "    </tr>\n",
              "  </tbody>\n",
              "</table>\n",
              "</div>\n",
              "    <div class=\"colab-df-buttons\">\n",
              "\n",
              "  <div class=\"colab-df-container\">\n",
              "    <button class=\"colab-df-convert\" onclick=\"convertToInteractive('df-a6cda8d8-90c1-407a-af75-a42e92c105d4')\"\n",
              "            title=\"Convert this dataframe to an interactive table.\"\n",
              "            style=\"display:none;\">\n",
              "\n",
              "  <svg xmlns=\"http://www.w3.org/2000/svg\" height=\"24px\" viewBox=\"0 -960 960 960\">\n",
              "    <path d=\"M120-120v-720h720v720H120Zm60-500h600v-160H180v160Zm220 220h160v-160H400v160Zm0 220h160v-160H400v160ZM180-400h160v-160H180v160Zm440 0h160v-160H620v160ZM180-180h160v-160H180v160Zm440 0h160v-160H620v160Z\"/>\n",
              "  </svg>\n",
              "    </button>\n",
              "\n",
              "  <style>\n",
              "    .colab-df-container {\n",
              "      display:flex;\n",
              "      gap: 12px;\n",
              "    }\n",
              "\n",
              "    .colab-df-convert {\n",
              "      background-color: #E8F0FE;\n",
              "      border: none;\n",
              "      border-radius: 50%;\n",
              "      cursor: pointer;\n",
              "      display: none;\n",
              "      fill: #1967D2;\n",
              "      height: 32px;\n",
              "      padding: 0 0 0 0;\n",
              "      width: 32px;\n",
              "    }\n",
              "\n",
              "    .colab-df-convert:hover {\n",
              "      background-color: #E2EBFA;\n",
              "      box-shadow: 0px 1px 2px rgba(60, 64, 67, 0.3), 0px 1px 3px 1px rgba(60, 64, 67, 0.15);\n",
              "      fill: #174EA6;\n",
              "    }\n",
              "\n",
              "    .colab-df-buttons div {\n",
              "      margin-bottom: 4px;\n",
              "    }\n",
              "\n",
              "    [theme=dark] .colab-df-convert {\n",
              "      background-color: #3B4455;\n",
              "      fill: #D2E3FC;\n",
              "    }\n",
              "\n",
              "    [theme=dark] .colab-df-convert:hover {\n",
              "      background-color: #434B5C;\n",
              "      box-shadow: 0px 1px 3px 1px rgba(0, 0, 0, 0.15);\n",
              "      filter: drop-shadow(0px 1px 2px rgba(0, 0, 0, 0.3));\n",
              "      fill: #FFFFFF;\n",
              "    }\n",
              "  </style>\n",
              "\n",
              "    <script>\n",
              "      const buttonEl =\n",
              "        document.querySelector('#df-a6cda8d8-90c1-407a-af75-a42e92c105d4 button.colab-df-convert');\n",
              "      buttonEl.style.display =\n",
              "        google.colab.kernel.accessAllowed ? 'block' : 'none';\n",
              "\n",
              "      async function convertToInteractive(key) {\n",
              "        const element = document.querySelector('#df-a6cda8d8-90c1-407a-af75-a42e92c105d4');\n",
              "        const dataTable =\n",
              "          await google.colab.kernel.invokeFunction('convertToInteractive',\n",
              "                                                    [key], {});\n",
              "        if (!dataTable) return;\n",
              "\n",
              "        const docLinkHtml = 'Like what you see? Visit the ' +\n",
              "          '<a target=\"_blank\" href=https://colab.research.google.com/notebooks/data_table.ipynb>data table notebook</a>'\n",
              "          + ' to learn more about interactive tables.';\n",
              "        element.innerHTML = '';\n",
              "        dataTable['output_type'] = 'display_data';\n",
              "        await google.colab.output.renderOutput(dataTable, element);\n",
              "        const docLink = document.createElement('div');\n",
              "        docLink.innerHTML = docLinkHtml;\n",
              "        element.appendChild(docLink);\n",
              "      }\n",
              "    </script>\n",
              "  </div>\n",
              "\n",
              "\n",
              "<div id=\"df-6740e2d4-20d2-41c5-aa66-a8da5eb2e71a\">\n",
              "  <button class=\"colab-df-quickchart\" onclick=\"quickchart('df-6740e2d4-20d2-41c5-aa66-a8da5eb2e71a')\"\n",
              "            title=\"Suggest charts\"\n",
              "            style=\"display:none;\">\n",
              "\n",
              "<svg xmlns=\"http://www.w3.org/2000/svg\" height=\"24px\"viewBox=\"0 0 24 24\"\n",
              "     width=\"24px\">\n",
              "    <g>\n",
              "        <path d=\"M19 3H5c-1.1 0-2 .9-2 2v14c0 1.1.9 2 2 2h14c1.1 0 2-.9 2-2V5c0-1.1-.9-2-2-2zM9 17H7v-7h2v7zm4 0h-2V7h2v10zm4 0h-2v-4h2v4z\"/>\n",
              "    </g>\n",
              "</svg>\n",
              "  </button>\n",
              "\n",
              "<style>\n",
              "  .colab-df-quickchart {\n",
              "      --bg-color: #E8F0FE;\n",
              "      --fill-color: #1967D2;\n",
              "      --hover-bg-color: #E2EBFA;\n",
              "      --hover-fill-color: #174EA6;\n",
              "      --disabled-fill-color: #AAA;\n",
              "      --disabled-bg-color: #DDD;\n",
              "  }\n",
              "\n",
              "  [theme=dark] .colab-df-quickchart {\n",
              "      --bg-color: #3B4455;\n",
              "      --fill-color: #D2E3FC;\n",
              "      --hover-bg-color: #434B5C;\n",
              "      --hover-fill-color: #FFFFFF;\n",
              "      --disabled-bg-color: #3B4455;\n",
              "      --disabled-fill-color: #666;\n",
              "  }\n",
              "\n",
              "  .colab-df-quickchart {\n",
              "    background-color: var(--bg-color);\n",
              "    border: none;\n",
              "    border-radius: 50%;\n",
              "    cursor: pointer;\n",
              "    display: none;\n",
              "    fill: var(--fill-color);\n",
              "    height: 32px;\n",
              "    padding: 0;\n",
              "    width: 32px;\n",
              "  }\n",
              "\n",
              "  .colab-df-quickchart:hover {\n",
              "    background-color: var(--hover-bg-color);\n",
              "    box-shadow: 0 1px 2px rgba(60, 64, 67, 0.3), 0 1px 3px 1px rgba(60, 64, 67, 0.15);\n",
              "    fill: var(--button-hover-fill-color);\n",
              "  }\n",
              "\n",
              "  .colab-df-quickchart-complete:disabled,\n",
              "  .colab-df-quickchart-complete:disabled:hover {\n",
              "    background-color: var(--disabled-bg-color);\n",
              "    fill: var(--disabled-fill-color);\n",
              "    box-shadow: none;\n",
              "  }\n",
              "\n",
              "  .colab-df-spinner {\n",
              "    border: 2px solid var(--fill-color);\n",
              "    border-color: transparent;\n",
              "    border-bottom-color: var(--fill-color);\n",
              "    animation:\n",
              "      spin 1s steps(1) infinite;\n",
              "  }\n",
              "\n",
              "  @keyframes spin {\n",
              "    0% {\n",
              "      border-color: transparent;\n",
              "      border-bottom-color: var(--fill-color);\n",
              "      border-left-color: var(--fill-color);\n",
              "    }\n",
              "    20% {\n",
              "      border-color: transparent;\n",
              "      border-left-color: var(--fill-color);\n",
              "      border-top-color: var(--fill-color);\n",
              "    }\n",
              "    30% {\n",
              "      border-color: transparent;\n",
              "      border-left-color: var(--fill-color);\n",
              "      border-top-color: var(--fill-color);\n",
              "      border-right-color: var(--fill-color);\n",
              "    }\n",
              "    40% {\n",
              "      border-color: transparent;\n",
              "      border-right-color: var(--fill-color);\n",
              "      border-top-color: var(--fill-color);\n",
              "    }\n",
              "    60% {\n",
              "      border-color: transparent;\n",
              "      border-right-color: var(--fill-color);\n",
              "    }\n",
              "    80% {\n",
              "      border-color: transparent;\n",
              "      border-right-color: var(--fill-color);\n",
              "      border-bottom-color: var(--fill-color);\n",
              "    }\n",
              "    90% {\n",
              "      border-color: transparent;\n",
              "      border-bottom-color: var(--fill-color);\n",
              "    }\n",
              "  }\n",
              "</style>\n",
              "\n",
              "  <script>\n",
              "    async function quickchart(key) {\n",
              "      const quickchartButtonEl =\n",
              "        document.querySelector('#' + key + ' button');\n",
              "      quickchartButtonEl.disabled = true;  // To prevent multiple clicks.\n",
              "      quickchartButtonEl.classList.add('colab-df-spinner');\n",
              "      try {\n",
              "        const charts = await google.colab.kernel.invokeFunction(\n",
              "            'suggestCharts', [key], {});\n",
              "      } catch (error) {\n",
              "        console.error('Error during call to suggestCharts:', error);\n",
              "      }\n",
              "      quickchartButtonEl.classList.remove('colab-df-spinner');\n",
              "      quickchartButtonEl.classList.add('colab-df-quickchart-complete');\n",
              "    }\n",
              "    (() => {\n",
              "      let quickchartButtonEl =\n",
              "        document.querySelector('#df-6740e2d4-20d2-41c5-aa66-a8da5eb2e71a button');\n",
              "      quickchartButtonEl.style.display =\n",
              "        google.colab.kernel.accessAllowed ? 'block' : 'none';\n",
              "    })();\n",
              "  </script>\n",
              "</div>\n",
              "    </div>\n",
              "  </div>\n"
            ],
            "text/plain": [
              "   propensity_score\n",
              "0          0.050796\n",
              "1          0.050796\n",
              "2          0.068497\n",
              "3          0.094161\n",
              "4          0.014722"
            ]
          },
          "execution_count": 24,
          "metadata": {},
          "output_type": "execute_result"
        }
      ],
      "source": [
        "features = ['age', 'gender', 'Body_Mass_Index', 'hypertension', 'diabetes']\n",
        "X, T = data[features], data['type']\n",
        "# Создадим и обучим модель логистической регрессии\n",
        "\n",
        "model = Pipeline([\n",
        "    ('scaler', StandardScaler()),\n",
        "    ('logreg', LogisticRegression(random_state=42))\n",
        "])\n",
        "\n",
        "model.fit(X, T)\n",
        "\n",
        "# Для удобства предсказанные значения вероятностей можно записать в соответствующую колонку датасета\n",
        "data['propensity_score'] = model.predict_proba(X)[:, 1]\n",
        "data[['propensity_score']].head()"
      ]
    },
    {
      "cell_type": "markdown",
      "metadata": {
        "id": "rIM5PrBDWICN"
      },
      "source": [
        "Посмотрите на гистограмму распределения величины propensity score. Получится ли выделить группы со схожими значениями этого параметра?"
      ]
    },
    {
      "cell_type": "code",
      "execution_count": 25,
      "metadata": {
        "colab": {
          "base_uri": "https://localhost:8080/",
          "height": 790
        },
        "id": "4zNNyGsiWICN",
        "outputId": "deb97f23-7ad6-4e3e-d3d6-061222c2f863"
      },
      "outputs": [
        {
          "data": {
            "image/png": "[encoded data removed]",
            "text/plain": [
              "<Figure size 1200x800 with 1 Axes>"
            ]
          },
          "metadata": {},
          "output_type": "display_data"
        }
      ],
      "source": [
        "plt.figure(figsize=(12, 8))\n",
        "sns.histplot(\n",
        "    data['propensity_score'],\n",
        "    bins=30,\n",
        "    kde=True,\n",
        "    color='skyblue',\n",
        "    alpha=0.8,\n",
        "    edgecolor='black'\n",
        ")\n",
        "plt.title('Распределение Propensity Score', fontsize=18, fontweight='bold', pad=20)\n",
        "plt.xlabel('Propensity Score', fontsize=14, labelpad=10)\n",
        "plt.ylabel('Частота', fontsize=14, labelpad=10)\n",
        "plt.xticks(fontsize=12)\n",
        "plt.yticks(fontsize=12)\n",
        "plt.grid(axis='y', linestyle='--', linewidth=0.7, alpha=0.8)\n",
        "sns.despine()\n",
        "plt.tight_layout()\n",
        "plt.show()"
      ]
    },
    {
      "cell_type": "markdown",
      "metadata": {
        "id": "xZa3A4hWWICN"
      },
      "source": [
        "**Ответ:**\n",
        "\n",
        "На гистограмме наблюдается явно выраженная неоднородность распределения propensity score. В частности, можно выделить несколько пиков: наиболее заметные находятся в диапазонах 0.05–0.075 и 0.10–0.125, а также менее выраженный пик около значения 0.15. Это свидетельствует о том, что propensity score не распределен равномерно, а имеет скопления значений, характерные для определенных групп объектов. Такие особенности распределения могут указывать на существование кластеров или сходных характеристик в подгруппах наблюдений."
      ]
    },
    {
      "cell_type": "markdown",
      "metadata": {
        "id": "YCstc-XecNTW"
      },
      "source": [
        "#### 3.1. Использование propensity score как ковариаты"
      ]
    },
    {
      "cell_type": "markdown",
      "metadata": {
        "id": "zGRxK3d3csZ-"
      },
      "source": [
        "В качестве ковариаты линейной модели можно использовать предсказания модели машинного обучения для интересующего признака. Используйте полученное с помощью `LogisticRegression` значение propensity score в качестве ковариаты. А затем попробуйте предсказывать вероятность попасть с тестовую группу с помощью других моделей, например, `GradientBoostingClassifier` и `CatBoostClassifier`, обученных на выбранных ранее признаках.\n",
        "\n",
        "Проведите те же исследования, что и в *Задаче 1, пункт 2* для A/B с помощью линейных моделей, оценив **реальный уровень значимости** и **мощность** критерия во всех трех случаях."
      ]
    },
    {
      "cell_type": "markdown",
      "metadata": {
        "id": "Lr_e54BnWICN"
      },
      "source": [
        "#### LogisticRegression"
      ]
    },
    {
      "cell_type": "code",
      "execution_count": 26,
      "metadata": {
        "id": "v82Y8QnsWICO"
      },
      "outputs": [],
      "source": [
        "f = f\"{target} ~ type + propensity_score\""
      ]
    },
    {
      "cell_type": "code",
      "execution_count": 27,
      "metadata": {
        "colab": {
          "base_uri": "https://localhost:8080/",
          "height": 242
        },
        "id": "F7ZaalWva945",
        "outputId": "476c7522-c345-45c0-e60c-7473634b4ba4"
      },
      "outputs": [
        {
          "name": "stdout",
          "output_type": "stream",
          "text": [
            "LogisticRegression: Реальный уровень значимости \n",
            "\n"
          ]
        },
        {
          "name": "stderr",
          "output_type": "stream",
          "text": [
            "100%|██████████| 10000/10000 [02:31<00:00, 66.20it/s]\n"
          ]
        },
        {
          "data": {
            "image/png": "[encoded data removed]",
            "text/plain": [
              "<Figure size 600x200 with 1 Axes>"
            ]
          },
          "metadata": {},
          "output_type": "display_data"
        }
      ],
      "source": [
        "print(\"LogisticRegression: Реальный уровень значимости\", \"\\n\")\n",
        "\n",
        "AA_test(\n",
        "    test=lambda x, y: int(lin_ttest(x, y, f) < alpha),\n",
        "    x_data=data,\n",
        "    lin_ttest=True,\n",
        "    effect=0,\n",
        "    sample_size=sample_size,\n",
        "    n_iter=n_iter\n",
        ")"
      ]
    },
    {
      "cell_type": "code",
      "execution_count": 28,
      "metadata": {
        "colab": {
          "base_uri": "https://localhost:8080/",
          "height": 242
        },
        "id": "sY82DcH_bDsW",
        "outputId": "c27fce65-2854-412e-da75-547e7fe4a118"
      },
      "outputs": [
        {
          "name": "stdout",
          "output_type": "stream",
          "text": [
            "LogisticRegression: Мощность теста \n",
            "\n"
          ]
        },
        {
          "name": "stderr",
          "output_type": "stream",
          "text": [
            "100%|██████████| 10000/10000 [03:38<00:00, 45.75it/s]\n"
          ]
        },
        {
          "data": {
            "image/png": "[encoded data removed]",
            "text/plain": [
              "<Figure size 600x200 with 1 Axes>"
            ]
          },
          "metadata": {},
          "output_type": "display_data"
        }
      ],
      "source": [
        "print(\"LogisticRegression: Мощность теста\", \"\\n\")\n",
        "AA_test(\n",
        "    test=lambda x, y: int(lin_ttest(x, y, f) < alpha),\n",
        "    x_data=data,\n",
        "    lin_ttest=True,\n",
        "    effect=eff_size,\n",
        "    sample_size=sample_size,\n",
        "    n_iter=n_iter\n",
        ")"
      ]
    },
    {
      "cell_type": "markdown",
      "metadata": {
        "id": "YbDGAOiUWICO"
      },
      "source": [
        "#### GradientBoostingClassifier"
      ]
    },
    {
      "cell_type": "code",
      "execution_count": 29,
      "metadata": {
        "id": "K6X-Y2NmbUth"
      },
      "outputs": [],
      "source": [
        "from sklearn.ensemble import GradientBoostingClassifier"
      ]
    },
    {
      "cell_type": "code",
      "execution_count": 30,
      "metadata": {
        "colab": {
          "base_uri": "https://localhost:8080/",
          "height": 80
        },
        "id": "0eRWFxmXWICO",
        "outputId": "76d851cc-b2a0-41c7-a298-2caec3146eee"
      },
      "outputs": [
        {
          "data": {
            "text/html": [
              "<style>#sk-container-id-1 {\n",
              "  /* Definition of color scheme common for light and dark mode */\n",
              "  --sklearn-color-text: black;\n",
              "  --sklearn-color-line: gray;\n",
              "  /* Definition of color scheme for unfitted estimators */\n",
              "  --sklearn-color-unfitted-level-0: #fff5e6;\n",
              "  --sklearn-color-unfitted-level-1: #f6e4d2;\n",
              "  --sklearn-color-unfitted-level-2: #ffe0b3;\n",
              "  --sklearn-color-unfitted-level-3: chocolate;\n",
              "  /* Definition of color scheme for fitted estimators */\n",
              "  --sklearn-color-fitted-level-0: #f0f8ff;\n",
              "  --sklearn-color-fitted-level-1: #d4ebff;\n",
              "  --sklearn-color-fitted-level-2: #b3dbfd;\n",
              "  --sklearn-color-fitted-level-3: cornflowerblue;\n",
              "\n",
              "  /* Specific color for light theme */\n",
              "  --sklearn-color-text-on-default-background: var(--sg-text-color, var(--theme-code-foreground, var(--jp-content-font-color1, black)));\n",
              "  --sklearn-color-background: var(--sg-background-color, var(--theme-background, var(--jp-layout-color0, white)));\n",
              "  --sklearn-color-border-box: var(--sg-text-color, var(--theme-code-foreground, var(--jp-content-font-color1, black)));\n",
              "  --sklearn-color-icon: #696969;\n",
              "\n",
              "  @media (prefers-color-scheme: dark) {\n",
              "    /* Redefinition of color scheme for dark theme */\n",
              "    --sklearn-color-text-on-default-background: var(--sg-text-color, var(--theme-code-foreground, var(--jp-content-font-color1, white)));\n",
              "    --sklearn-color-background: var(--sg-background-color, var(--theme-background, var(--jp-layout-color0, #111)));\n",
              "    --sklearn-color-border-box: var(--sg-text-color, var(--theme-code-foreground, var(--jp-content-font-color1, white)));\n",
              "    --sklearn-color-icon: #878787;\n",
              "  }\n",
              "}\n",
              "\n",
              "#sk-container-id-1 {\n",
              "  color: var(--sklearn-color-text);\n",
              "}\n",
              "\n",
              "#sk-container-id-1 pre {\n",
              "  padding: 0;\n",
              "}\n",
              "\n",
              "#sk-container-id-1 input.sk-hidden--visually {\n",
              "  border: 0;\n",
              "  clip: rect(1px 1px 1px 1px);\n",
              "  clip: rect(1px, 1px, 1px, 1px);\n",
              "  height: 1px;\n",
              "  margin: -1px;\n",
              "  overflow: hidden;\n",
              "  padding: 0;\n",
              "  position: absolute;\n",
              "  width: 1px;\n",
              "}\n",
              "\n",
              "#sk-container-id-1 div.sk-dashed-wrapped {\n",
              "  border: 1px dashed var(--sklearn-color-line);\n",
              "  margin: 0 0.4em 0.5em 0.4em;\n",
              "  box-sizing: border-box;\n",
              "  padding-bottom: 0.4em;\n",
              "  background-color: var(--sklearn-color-background);\n",
              "}\n",
              "\n",
              "#sk-container-id-1 div.sk-container {\n",
              "  /* jupyter's `normalize.less` sets `[hidden] { display: none; }`\n",
              "     but bootstrap.min.css set `[hidden] { display: none !important; }`\n",
              "     so we also need the `!important` here to be able to override the\n",
              "     default hidden behavior on the sphinx rendered scikit-learn.org.\n",
              "     See: https://github.com/scikit-learn/scikit-learn/issues/21755 */\n",
              "  display: inline-block !important;\n",
              "  position: relative;\n",
              "}\n",
              "\n",
              "#sk-container-id-1 div.sk-text-repr-fallback {\n",
              "  display: none;\n",
              "}\n",
              "\n",
              "div.sk-parallel-item,\n",
              "div.sk-serial,\n",
              "div.sk-item {\n",
              "  /* draw centered vertical line to link estimators */\n",
              "  background-image: linear-gradient(var(--sklearn-color-text-on-default-background), var(--sklearn-color-text-on-default-background));\n",
              "  background-size: 2px 100%;\n",
              "  background-repeat: no-repeat;\n",
              "  background-position: center center;\n",
              "}\n",
              "\n",
              "/* Parallel-specific style estimator block */\n",
              "\n",
              "#sk-container-id-1 div.sk-parallel-item::after {\n",
              "  content: \"\";\n",
              "  width: 100%;\n",
              "  border-bottom: 2px solid var(--sklearn-color-text-on-default-background);\n",
              "  flex-grow: 1;\n",
              "}\n",
              "\n",
              "#sk-container-id-1 div.sk-parallel {\n",
              "  display: flex;\n",
              "  align-items: stretch;\n",
              "  justify-content: center;\n",
              "  background-color: var(--sklearn-color-background);\n",
              "  position: relative;\n",
              "}\n",
              "\n",
              "#sk-container-id-1 div.sk-parallel-item {\n",
              "  display: flex;\n",
              "  flex-direction: column;\n",
              "}\n",
              "\n",
              "#sk-container-id-1 div.sk-parallel-item:first-child::after {\n",
              "  align-self: flex-end;\n",
              "  width: 50%;\n",
              "}\n",
              "\n",
              "#sk-container-id-1 div.sk-parallel-item:last-child::after {\n",
              "  align-self: flex-start;\n",
              "  width: 50%;\n",
              "}\n",
              "\n",
              "#sk-container-id-1 div.sk-parallel-item:only-child::after {\n",
              "  width: 0;\n",
              "}\n",
              "\n",
              "/* Serial-specific style estimator block */\n",
              "\n",
              "#sk-container-id-1 div.sk-serial {\n",
              "  display: flex;\n",
              "  flex-direction: column;\n",
              "  align-items: center;\n",
              "  background-color: var(--sklearn-color-background);\n",
              "  padding-right: 1em;\n",
              "  padding-left: 1em;\n",
              "}\n",
              "\n",
              "\n",
              "/* Toggleable style: style used for estimator/Pipeline/ColumnTransformer box that is\n",
              "clickable and can be expanded/collapsed.\n",
              "- Pipeline and ColumnTransformer use this feature and define the default style\n",
              "- Estimators will overwrite some part of the style using the `sk-estimator` class\n",
              "*/\n",
              "\n",
              "/* Pipeline and ColumnTransformer style (default) */\n",
              "\n",
              "#sk-container-id-1 div.sk-toggleable {\n",
              "  /* Default theme specific background. It is overwritten whether we have a\n",
              "  specific estimator or a Pipeline/ColumnTransformer */\n",
              "  background-color: var(--sklearn-color-background);\n",
              "}\n",
              "\n",
              "/* Toggleable label */\n",
              "#sk-container-id-1 label.sk-toggleable__label {\n",
              "  cursor: pointer;\n",
              "  display: block;\n",
              "  width: 100%;\n",
              "  margin-bottom: 0;\n",
              "  padding: 0.5em;\n",
              "  box-sizing: border-box;\n",
              "  text-align: center;\n",
              "}\n",
              "\n",
              "#sk-container-id-1 label.sk-toggleable__label-arrow:before {\n",
              "  /* Arrow on the left of the label */\n",
              "  content: \"▸\";\n",
              "  float: left;\n",
              "  margin-right: 0.25em;\n",
              "  color: var(--sklearn-color-icon);\n",
              "}\n",
              "\n",
              "#sk-container-id-1 label.sk-toggleable__label-arrow:hover:before {\n",
              "  color: var(--sklearn-color-text);\n",
              "}\n",
              "\n",
              "/* Toggleable content - dropdown */\n",
              "\n",
              "#sk-container-id-1 div.sk-toggleable__content {\n",
              "  max-height: 0;\n",
              "  max-width: 0;\n",
              "  overflow: hidden;\n",
              "  text-align: left;\n",
              "  /* unfitted */\n",
              "  background-color: var(--sklearn-color-unfitted-level-0);\n",
              "}\n",
              "\n",
              "#sk-container-id-1 div.sk-toggleable__content.fitted {\n",
              "  /* fitted */\n",
              "  background-color: var(--sklearn-color-fitted-level-0);\n",
              "}\n",
              "\n",
              "#sk-container-id-1 div.sk-toggleable__content pre {\n",
              "  margin: 0.2em;\n",
              "  border-radius: 0.25em;\n",
              "  color: var(--sklearn-color-text);\n",
              "  /* unfitted */\n",
              "  background-color: var(--sklearn-color-unfitted-level-0);\n",
              "}\n",
              "\n",
              "#sk-container-id-1 div.sk-toggleable__content.fitted pre {\n",
              "  /* unfitted */\n",
              "  background-color: var(--sklearn-color-fitted-level-0);\n",
              "}\n",
              "\n",
              "#sk-container-id-1 input.sk-toggleable__control:checked~div.sk-toggleable__content {\n",
              "  /* Expand drop-down */\n",
              "  max-height: 200px;\n",
              "  max-width: 100%;\n",
              "  overflow: auto;\n",
              "}\n",
              "\n",
              "#sk-container-id-1 input.sk-toggleable__control:checked~label.sk-toggleable__label-arrow:before {\n",
              "  content: \"▾\";\n",
              "}\n",
              "\n",
              "/* Pipeline/ColumnTransformer-specific style */\n",
              "\n",
              "#sk-container-id-1 div.sk-label input.sk-toggleable__control:checked~label.sk-toggleable__label {\n",
              "  color: var(--sklearn-color-text);\n",
              "  background-color: var(--sklearn-color-unfitted-level-2);\n",
              "}\n",
              "\n",
              "#sk-container-id-1 div.sk-label.fitted input.sk-toggleable__control:checked~label.sk-toggleable__label {\n",
              "  background-color: var(--sklearn-color-fitted-level-2);\n",
              "}\n",
              "\n",
              "/* Estimator-specific style */\n",
              "\n",
              "/* Colorize estimator box */\n",
              "#sk-container-id-1 div.sk-estimator input.sk-toggleable__control:checked~label.sk-toggleable__label {\n",
              "  /* unfitted */\n",
              "  background-color: var(--sklearn-color-unfitted-level-2);\n",
              "}\n",
              "\n",
              "#sk-container-id-1 div.sk-estimator.fitted input.sk-toggleable__control:checked~label.sk-toggleable__label {\n",
              "  /* fitted */\n",
              "  background-color: var(--sklearn-color-fitted-level-2);\n",
              "}\n",
              "\n",
              "#sk-container-id-1 div.sk-label label.sk-toggleable__label,\n",
              "#sk-container-id-1 div.sk-label label {\n",
              "  /* The background is the default theme color */\n",
              "  color: var(--sklearn-color-text-on-default-background);\n",
              "}\n",
              "\n",
              "/* On hover, darken the color of the background */\n",
              "#sk-container-id-1 div.sk-label:hover label.sk-toggleable__label {\n",
              "  color: var(--sklearn-color-text);\n",
              "  background-color: var(--sklearn-color-unfitted-level-2);\n",
              "}\n",
              "\n",
              "/* Label box, darken color on hover, fitted */\n",
              "#sk-container-id-1 div.sk-label.fitted:hover label.sk-toggleable__label.fitted {\n",
              "  color: var(--sklearn-color-text);\n",
              "  background-color: var(--sklearn-color-fitted-level-2);\n",
              "}\n",
              "\n",
              "/* Estimator label */\n",
              "\n",
              "#sk-container-id-1 div.sk-label label {\n",
              "  font-family: monospace;\n",
              "  font-weight: bold;\n",
              "  display: inline-block;\n",
              "  line-height: 1.2em;\n",
              "}\n",
              "\n",
              "#sk-container-id-1 div.sk-label-container {\n",
              "  text-align: center;\n",
              "}\n",
              "\n",
              "/* Estimator-specific */\n",
              "#sk-container-id-1 div.sk-estimator {\n",
              "  font-family: monospace;\n",
              "  border: 1px dotted var(--sklearn-color-border-box);\n",
              "  border-radius: 0.25em;\n",
              "  box-sizing: border-box;\n",
              "  margin-bottom: 0.5em;\n",
              "  /* unfitted */\n",
              "  background-color: var(--sklearn-color-unfitted-level-0);\n",
              "}\n",
              "\n",
              "#sk-container-id-1 div.sk-estimator.fitted {\n",
              "  /* fitted */\n",
              "  background-color: var(--sklearn-color-fitted-level-0);\n",
              "}\n",
              "\n",
              "/* on hover */\n",
              "#sk-container-id-1 div.sk-estimator:hover {\n",
              "  /* unfitted */\n",
              "  background-color: var(--sklearn-color-unfitted-level-2);\n",
              "}\n",
              "\n",
              "#sk-container-id-1 div.sk-estimator.fitted:hover {\n",
              "  /* fitted */\n",
              "  background-color: var(--sklearn-color-fitted-level-2);\n",
              "}\n",
              "\n",
              "/* Specification for estimator info (e.g. \"i\" and \"?\") */\n",
              "\n",
              "/* Common style for \"i\" and \"?\" */\n",
              "\n",
              ".sk-estimator-doc-link,\n",
              "a:link.sk-estimator-doc-link,\n",
              "a:visited.sk-estimator-doc-link {\n",
              "  float: right;\n",
              "  font-size: smaller;\n",
              "  line-height: 1em;\n",
              "  font-family: monospace;\n",
              "  background-color: var(--sklearn-color-background);\n",
              "  border-radius: 1em;\n",
              "  height: 1em;\n",
              "  width: 1em;\n",
              "  text-decoration: none !important;\n",
              "  margin-left: 1ex;\n",
              "  /* unfitted */\n",
              "  border: var(--sklearn-color-unfitted-level-1) 1pt solid;\n",
              "  color: var(--sklearn-color-unfitted-level-1);\n",
              "}\n",
              "\n",
              ".sk-estimator-doc-link.fitted,\n",
              "a:link.sk-estimator-doc-link.fitted,\n",
              "a:visited.sk-estimator-doc-link.fitted {\n",
              "  /* fitted */\n",
              "  border: var(--sklearn-color-fitted-level-1) 1pt solid;\n",
              "  color: var(--sklearn-color-fitted-level-1);\n",
              "}\n",
              "\n",
              "/* On hover */\n",
              "div.sk-estimator:hover .sk-estimator-doc-link:hover,\n",
              ".sk-estimator-doc-link:hover,\n",
              "div.sk-label-container:hover .sk-estimator-doc-link:hover,\n",
              ".sk-estimator-doc-link:hover {\n",
              "  /* unfitted */\n",
              "  background-color: var(--sklearn-color-unfitted-level-3);\n",
              "  color: var(--sklearn-color-background);\n",
              "  text-decoration: none;\n",
              "}\n",
              "\n",
              "div.sk-estimator.fitted:hover .sk-estimator-doc-link.fitted:hover,\n",
              ".sk-estimator-doc-link.fitted:hover,\n",
              "div.sk-label-container:hover .sk-estimator-doc-link.fitted:hover,\n",
              ".sk-estimator-doc-link.fitted:hover {\n",
              "  /* fitted */\n",
              "  background-color: var(--sklearn-color-fitted-level-3);\n",
              "  color: var(--sklearn-color-background);\n",
              "  text-decoration: none;\n",
              "}\n",
              "\n",
              "/* Span, style for the box shown on hovering the info icon */\n",
              ".sk-estimator-doc-link span {\n",
              "  display: none;\n",
              "  z-index: 9999;\n",
              "  position: relative;\n",
              "  font-weight: normal;\n",
              "  right: .2ex;\n",
              "  padding: .5ex;\n",
              "  margin: .5ex;\n",
              "  width: min-content;\n",
              "  min-width: 20ex;\n",
              "  max-width: 50ex;\n",
              "  color: var(--sklearn-color-text);\n",
              "  box-shadow: 2pt 2pt 4pt #999;\n",
              "  /* unfitted */\n",
              "  background: var(--sklearn-color-unfitted-level-0);\n",
              "  border: .5pt solid var(--sklearn-color-unfitted-level-3);\n",
              "}\n",
              "\n",
              ".sk-estimator-doc-link.fitted span {\n",
              "  /* fitted */\n",
              "  background: var(--sklearn-color-fitted-level-0);\n",
              "  border: var(--sklearn-color-fitted-level-3);\n",
              "}\n",
              "\n",
              ".sk-estimator-doc-link:hover span {\n",
              "  display: block;\n",
              "}\n",
              "\n",
              "/* \"?\"-specific style due to the `<a>` HTML tag */\n",
              "\n",
              "#sk-container-id-1 a.estimator_doc_link {\n",
              "  float: right;\n",
              "  font-size: 1rem;\n",
              "  line-height: 1em;\n",
              "  font-family: monospace;\n",
              "  background-color: var(--sklearn-color-background);\n",
              "  border-radius: 1rem;\n",
              "  height: 1rem;\n",
              "  width: 1rem;\n",
              "  text-decoration: none;\n",
              "  /* unfitted */\n",
              "  color: var(--sklearn-color-unfitted-level-1);\n",
              "  border: var(--sklearn-color-unfitted-level-1) 1pt solid;\n",
              "}\n",
              "\n",
              "#sk-container-id-1 a.estimator_doc_link.fitted {\n",
              "  /* fitted */\n",
              "  border: var(--sklearn-color-fitted-level-1) 1pt solid;\n",
              "  color: var(--sklearn-color-fitted-level-1);\n",
              "}\n",
              "\n",
              "/* On hover */\n",
              "#sk-container-id-1 a.estimator_doc_link:hover {\n",
              "  /* unfitted */\n",
              "  background-color: var(--sklearn-color-unfitted-level-3);\n",
              "  color: var(--sklearn-color-background);\n",
              "  text-decoration: none;\n",
              "}\n",
              "\n",
              "#sk-container-id-1 a.estimator_doc_link.fitted:hover {\n",
              "  /* fitted */\n",
              "  background-color: var(--sklearn-color-fitted-level-3);\n",
              "}\n",
              "</style><div id=\"sk-container-id-1\" class=\"sk-top-container\"><div class=\"sk-text-repr-fallback\"><pre>GradientBoostingClassifier(random_state=42)</pre><b>In a Jupyter environment, please rerun this cell to show the HTML representation or trust the notebook. <br />On GitHub, the HTML representation is unable to render, please try loading this page with nbviewer.org.</b></div><div class=\"sk-container\" hidden><div class=\"sk-item\"><div class=\"sk-estimator fitted sk-toggleable\"><input class=\"sk-toggleable__control sk-hidden--visually\" id=\"sk-estimator-id-1\" type=\"checkbox\" checked><label for=\"sk-estimator-id-1\" class=\"sk-toggleable__label fitted sk-toggleable__label-arrow fitted\">&nbsp;&nbsp;GradientBoostingClassifier<a class=\"sk-estimator-doc-link fitted\" rel=\"noreferrer\" target=\"_blank\" href=\"https://scikit-learn.org/1.5/modules/generated/sklearn.ensemble.GradientBoostingClassifier.html\">?<span>Documentation for GradientBoostingClassifier</span></a><span class=\"sk-estimator-doc-link fitted\">i<span>Fitted</span></span></label><div class=\"sk-toggleable__content fitted\"><pre>GradientBoostingClassifier(random_state=42)</pre></div> </div></div></div></div>"
            ],
            "text/plain": [
              "GradientBoostingClassifier(random_state=42)"
            ]
          },
          "execution_count": 30,
          "metadata": {},
          "output_type": "execute_result"
        }
      ],
      "source": [
        "grad_boost = GradientBoostingClassifier(random_state=42)\n",
        "grad_boost.fit(X, T)"
      ]
    },
    {
      "cell_type": "code",
      "execution_count": 31,
      "metadata": {
        "id": "ja2GTeM0bjBP"
      },
      "outputs": [],
      "source": [
        "data['propensity_score_grad_boost'] = grad_boost.predict_proba(X)[:, 1]\n",
        "f_grad_boost = f\"{target} ~ type + propensity_score_grad_boost\""
      ]
    },
    {
      "cell_type": "code",
      "execution_count": 34,
      "metadata": {
        "colab": {
          "base_uri": "https://localhost:8080/",
          "height": 242
        },
        "id": "bpkMXnFubv22",
        "outputId": "343f428b-9501-44f9-eb25-de46838f22f6"
      },
      "outputs": [
        {
          "name": "stdout",
          "output_type": "stream",
          "text": [
            "GradientBoostingClassifier: Реальный уровень значимости \n",
            "\n"
          ]
        },
        {
          "name": "stderr",
          "output_type": "stream",
          "text": [
            "100%|██████████| 10000/10000 [02:16<00:00, 73.26it/s]\n"
          ]
        },
        {
          "data": {
            "image/png": "[encoded data removed]",
            "text/plain": [
              "<Figure size 600x200 with 1 Axes>"
            ]
          },
          "metadata": {},
          "output_type": "display_data"
        }
      ],
      "source": [
        "print(\"GradientBoostingClassifier: Реальный уровень значимости\", \"\\n\")\n",
        "\n",
        "AA_test(\n",
        "    test=lambda x, y: int(lin_ttest(x, y, f_grad_boost) < alpha),\n",
        "    x_data=data,\n",
        "    lin_ttest=True,\n",
        "    effect=0,\n",
        "    sample_size=sample_size,\n",
        "    n_iter=n_iter\n",
        ")"
      ]
    },
    {
      "cell_type": "code",
      "execution_count": 35,
      "metadata": {
        "colab": {
          "base_uri": "https://localhost:8080/",
          "height": 242
        },
        "id": "SKf_AhtMb1wD",
        "outputId": "0e8a8da3-eee2-4fce-e387-e8e4e6c8d8b4"
      },
      "outputs": [
        {
          "name": "stdout",
          "output_type": "stream",
          "text": [
            "GradientBoostingClassifier: Мощность теста \n",
            "\n"
          ]
        },
        {
          "name": "stderr",
          "output_type": "stream",
          "text": [
            "100%|██████████| 10000/10000 [02:20<00:00, 71.05it/s]\n"
          ]
        },
        {
          "data": {
            "image/png": "[encoded data removed]",
            "text/plain": [
              "<Figure size 600x200 with 1 Axes>"
            ]
          },
          "metadata": {},
          "output_type": "display_data"
        }
      ],
      "source": [
        "print(\"GradientBoostingClassifier: Мощность теста\",  \"\\n\")\n",
        "\n",
        "AA_test(\n",
        "    test=lambda x, y: int(lin_ttest(x, y, f_grad_boost) < alpha),\n",
        "    x_data=data,\n",
        "    lin_ttest=True,\n",
        "    effect=eff_size,\n",
        "    sample_size=sample_size,\n",
        "    n_iter=n_iter\n",
        ")"
      ]
    },
    {
      "cell_type": "markdown",
      "metadata": {
        "id": "edFlSGFfWICO"
      },
      "source": [
        "#### CatBoostClassifier"
      ]
    },
    {
      "cell_type": "code",
      "execution_count": 36,
      "metadata": {
        "colab": {
          "base_uri": "https://localhost:8080/"
        },
        "id": "WehakikCbcDy",
        "outputId": "dac9eeb2-449e-4981-92d6-2f915cf7719f"
      },
      "outputs": [
        {
          "name": "stdout",
          "output_type": "stream",
          "text": [
            "Requirement already satisfied: catboost in /usr/local/lib/python3.10/dist-packages (1.2.7)\n",
            "Requirement already satisfied: graphviz in /usr/local/lib/python3.10/dist-packages (from catboost) (0.20.3)\n",
            "Requirement already satisfied: matplotlib in /usr/local/lib/python3.10/dist-packages (from catboost) (3.8.0)\n",
            "Requirement already satisfied: numpy<2.0,>=1.16.0 in /usr/local/lib/python3.10/dist-packages (from catboost) (1.26.4)\n",
            "Requirement already satisfied: pandas>=0.24 in /usr/local/lib/python3.10/dist-packages (from catboost) (2.2.2)\n",
            "Requirement already satisfied: scipy in /usr/local/lib/python3.10/dist-packages (from catboost) (1.13.1)\n",
            "Requirement already satisfied: plotly in /usr/local/lib/python3.10/dist-packages (from catboost) (5.24.1)\n",
            "Requirement already satisfied: six in /usr/local/lib/python3.10/dist-packages (from catboost) (1.16.0)\n",
            "Requirement already satisfied: python-dateutil>=2.8.2 in /usr/local/lib/python3.10/dist-packages (from pandas>=0.24->catboost) (2.8.2)\n",
            "Requirement already satisfied: pytz>=2020.1 in /usr/local/lib/python3.10/dist-packages (from pandas>=0.24->catboost) (2024.2)\n",
            "Requirement already satisfied: tzdata>=2022.7 in /usr/local/lib/python3.10/dist-packages (from pandas>=0.24->catboost) (2024.2)\n",
            "Requirement already satisfied: contourpy>=1.0.1 in /usr/local/lib/python3.10/dist-packages (from matplotlib->catboost) (1.3.1)\n",
            "Requirement already satisfied: cycler>=0.10 in /usr/local/lib/python3.10/dist-packages (from matplotlib->catboost) (0.12.1)\n",
            "Requirement already satisfied: fonttools>=4.22.0 in /usr/local/lib/python3.10/dist-packages (from matplotlib->catboost) (4.55.1)\n",
            "Requirement already satisfied: kiwisolver>=1.0.1 in /usr/local/lib/python3.10/dist-packages (from matplotlib->catboost) (1.4.7)\n",
            "Requirement already satisfied: packaging>=20.0 in /usr/local/lib/python3.10/dist-packages (from matplotlib->catboost) (24.2)\n",
            "Requirement already satisfied: pillow>=6.2.0 in /usr/local/lib/python3.10/dist-packages (from matplotlib->catboost) (11.0.0)\n",
            "Requirement already satisfied: pyparsing>=2.3.1 in /usr/local/lib/python3.10/dist-packages (from matplotlib->catboost) (3.2.0)\n",
            "Requirement already satisfied: tenacity>=6.2.0 in /usr/local/lib/python3.10/dist-packages (from plotly->catboost) (9.0.0)\n"
          ]
        }
      ],
      "source": [
        "!pip install catboost"
      ]
    },
    {
      "cell_type": "code",
      "execution_count": 37,
      "metadata": {
        "id": "tGBTNf0EbYUz"
      },
      "outputs": [],
      "source": [
        "from catboost import CatBoostClassifier"
      ]
    },
    {
      "cell_type": "code",
      "execution_count": 38,
      "metadata": {
        "colab": {
          "base_uri": "https://localhost:8080/"
        },
        "id": "7kYj6ttUWICO",
        "outputId": "52dc5bed-4eee-4a8e-c06f-1b8c388a6be0"
      },
      "outputs": [
        {
          "data": {
            "text/plain": [
              "<catboost.core.CatBoostClassifier at 0x7cc50db18160>"
            ]
          },
          "execution_count": 38,
          "metadata": {},
          "output_type": "execute_result"
        }
      ],
      "source": [
        "cat_boost = CatBoostClassifier(verbose=0, random_state=42)\n",
        "cat_boost.fit(X, T)"
      ]
    },
    {
      "cell_type": "code",
      "execution_count": 39,
      "metadata": {
        "id": "CdltPmAjcAob"
      },
      "outputs": [],
      "source": [
        "data['propensity_score_cat_boost'] = cat_boost.predict_proba(X)[:, 1]\n",
        "f_cat_boost = f\"{target} ~ type + propensity_score_cat_boost\""
      ]
    },
    {
      "cell_type": "code",
      "execution_count": 40,
      "metadata": {
        "colab": {
          "base_uri": "https://localhost:8080/",
          "height": 242
        },
        "id": "upwwOdCqcMfv",
        "outputId": "395e760b-9610-4e6f-8ea0-1888e2e614ff"
      },
      "outputs": [
        {
          "name": "stdout",
          "output_type": "stream",
          "text": [
            "CatBoostClassifier: Реальный уровень значимости \n",
            "\n"
          ]
        },
        {
          "name": "stderr",
          "output_type": "stream",
          "text": [
            "100%|██████████| 10000/10000 [02:52<00:00, 58.08it/s]\n"
          ]
        },
        {
          "data": {
            "image/png": "[encoded data removed]",
            "text/plain": [
              "<Figure size 600x200 with 1 Axes>"
            ]
          },
          "metadata": {},
          "output_type": "display_data"
        }
      ],
      "source": [
        "print(\"CatBoostClassifier: Реальный уровень значимости\", \"\\n\")\n",
        "\n",
        "AA_test(\n",
        "    test=lambda x, y: int(lin_ttest(x, y, f_cat_boost) < alpha),\n",
        "    x_data=data,\n",
        "    lin_ttest=True,\n",
        "    effect=0,\n",
        "    sample_size=sample_size,\n",
        "    n_iter=n_iter\n",
        ")"
      ]
    },
    {
      "cell_type": "code",
      "execution_count": 41,
      "metadata": {
        "colab": {
          "base_uri": "https://localhost:8080/",
          "height": 242
        },
        "id": "KdkJtlUMcYW1",
        "outputId": "04c7de3a-abea-4c3c-fc5e-652e6b955bfd"
      },
      "outputs": [
        {
          "name": "stdout",
          "output_type": "stream",
          "text": [
            "CatBoostClassifier: Мощность теста \n",
            "\n"
          ]
        },
        {
          "name": "stderr",
          "output_type": "stream",
          "text": [
            "100%|██████████| 10000/10000 [02:09<00:00, 77.51it/s]\n"
          ]
        },
        {
          "data": {
            "image/png": "[encoded data removed]",
            "text/plain": [
              "<Figure size 600x200 with 1 Axes>"
            ]
          },
          "metadata": {},
          "output_type": "display_data"
        }
      ],
      "source": [
        "print(\"CatBoostClassifier: Мощность теста\", \"\\n\")\n",
        "\n",
        "AA_test(\n",
        "    test=lambda x, y: int(lin_ttest(x, y, f_cat_boost) < alpha),\n",
        "    x_data=data,\n",
        "    lin_ttest=True,\n",
        "    effect=eff_size,\n",
        "    sample_size=sample_size,\n",
        "    n_iter=n_iter\n",
        ")"
      ]
    },
    {
      "cell_type": "markdown",
      "metadata": {
        "id": "PBxV_w9MWICO"
      },
      "source": [
        "Как изменились параметры теста при использовании в качестве ковариаты propensity score?\n",
        "\n",
        "**Выводы:**\n",
        "\n",
        "Во всех моделях (LogisticRegression, GradientBoostingClassifier, CatBoostClassifier) уровень значимости остается близким к 5%, подтверждая корректность теста.\n",
        "\n",
        "LogisticRegression показала лучшую мощность.\n",
        "\n",
        "Добавление propensity score в качестве ковариаты увеличило мощность теста, что снижает дисбаланс между группами за счет учета дополнительных признаков."
      ]
    },
    {
      "cell_type": "markdown",
      "metadata": {
        "id": "-CbaQL7lWICP"
      },
      "source": [
        "#### 3.2. Propensity score matching"
      ]
    },
    {
      "cell_type": "markdown",
      "metadata": {
        "id": "88rQsrY8WICP"
      },
      "source": [
        "Одно из частых применений propensity score в наблюдательных исследованиях и A/B тестировании &mdash; составление группы контроля из таких объектов, которые имеют величину propensity score, близкую к таковой у тестовой группы.\n",
        "\n",
        "Другими словами, для каждого объекта в группе теста ($type=1$) подбирается ближайший к нему объект из группы контроля ($type=0$), который и войдет в финальную выборку. Сделать это можно, например, с помощью метода `NearestNeighbors`. При этом существуют разные подходы, которые не позволят выбирать одни и те же объекты для разных элементов тестовой группы. Например, при выборе одного и того же элемента из $type=0$ для нескольких объектов $type=1$, мы можем оставлять только ту пару тест-контроль, что имеет наименьшее расстояние между их propensity score. Или выбирать несколько ближайших соседей из контроля для каждого объекта из теста и следить, чтобы пары тест-контроль были уникальны.\n",
        "В обоих случаях размеры групп могут уменьшиться.\n",
        "\n",
        "Реализуйте такой подход для тех значений propensity score, что были получены вами **в пункте 3.0**.\n",
        "\n",
        "*Примечение*: отсечку по радиусу поиска ближайших соседей можно брать как некоторую долю стандартного отклоенения propensity score $\\sigma_{ps}$, например, $1/4$."
      ]
    },
    {
      "cell_type": "code",
      "execution_count": 42,
      "metadata": {
        "id": "26ycU6lPWICP"
      },
      "outputs": [],
      "source": [
        "# Проведение сопоставления на основе propensity score\n",
        "def propensity_score_matching(data, treatment_col='type', score_col='propensity_score'):\n",
        "    '''\n",
        "    Выделяет группу контроля, имеющую похожее распределение величины propensity score, как у тестовой группы\n",
        "\n",
        "    Аргументы:\n",
        "    data -- данные\n",
        "    treatment_col -- название колонки, в которой хранится индикатор принадлежности к группе\n",
        "    score_col --  название колонки данных, на основании значения которой в группе теста будет выбираться группа контроля\n",
        "\n",
        "    Возвращает:\n",
        "    matched_data -- датасет -- подмножество исходного, в котором группы теста и контроля сопоставимы\n",
        "    '''\n",
        "\n",
        "    treatment_data = data[data[treatment_col] == 1]\n",
        "    control_data = data[data[treatment_col] == 0]\n",
        "\n",
        "    treatment_scores = treatment_data[score_col].values.reshape(-1, 1)\n",
        "    control_scores = control_data[score_col].values.reshape(-1, 1)\n",
        "\n",
        "    nn = NearestNeighbors(n_neighbors=1, n_jobs=-1)\n",
        "    nn.fit(control_scores)\n",
        "    distances, indices = nn.kneighbors(treatment_scores)\n",
        "\n",
        "    matched_control_indices = np.unique(indices.flatten())\n",
        "    matched_control_data = control_data.iloc[matched_control_indices]\n",
        "\n",
        "    matched_data = pd.concat([treatment_data, matched_control_data], axis=0).reset_index(drop=True)\n",
        "    return matched_data\n",
        "\n",
        "matched_data = propensity_score_matching(data)"
      ]
    },
    {
      "cell_type": "markdown",
      "metadata": {
        "id": "cJc5YFwDWICP"
      },
      "source": [
        "Посмотрим, как изменятся характеристики стандартного t-test при применении его на группах, выбранных по схожести величины propensity score. Оцените **реальный уровень значимости** и **мощность** на новых выборках."
      ]
    },
    {
      "cell_type": "code",
      "execution_count": 43,
      "metadata": {
        "colab": {
          "base_uri": "https://localhost:8080/",
          "height": 242
        },
        "id": "oCcNSMB1WICP",
        "outputId": "f22a1be4-a7d3-4ca3-b1ef-1abfe85a2a2f"
      },
      "outputs": [
        {
          "name": "stdout",
          "output_type": "stream",
          "text": [
            "Реальный уровень значимости (A/A тест) на сбалансированных выборках \n",
            "\n"
          ]
        },
        {
          "name": "stderr",
          "output_type": "stream",
          "text": [
            "100%|██████████| 10000/10000 [00:29<00:00, 344.75it/s]\n"
          ]
        },
        {
          "data": {
            "image/png": "[encoded data removed]",
            "text/plain": [
              "<Figure size 600x200 with 1 Axes>"
            ]
          },
          "metadata": {},
          "output_type": "display_data"
        }
      ],
      "source": [
        "print(\"Реальный уровень значимости (A/A тест) на сбалансированных выборках\", \"\\n\")\n",
        "\n",
        "AA_test(\n",
        "    test=t_test,\n",
        "    x_data=matched_data,\n",
        "    n_iter=n_iter,\n",
        "    sample_size=sample_size,\n",
        "    alpha=alpha\n",
        ")"
      ]
    },
    {
      "cell_type": "code",
      "execution_count": 44,
      "metadata": {
        "colab": {
          "base_uri": "https://localhost:8080/",
          "height": 242
        },
        "id": "wpMDA41MdNr6",
        "outputId": "352139f5-be76-4395-eb7e-8f1530c169d6"
      },
      "outputs": [
        {
          "name": "stdout",
          "output_type": "stream",
          "text": [
            "Мощность теста (A/B тест) на сбалансированных выборках \n",
            "\n"
          ]
        },
        {
          "name": "stderr",
          "output_type": "stream",
          "text": [
            "100%|██████████| 10000/10000 [00:32<00:00, 303.74it/s]\n"
          ]
        },
        {
          "data": {
            "image/png": "[encoded data removed]",
            "text/plain": [
              "<Figure size 600x200 with 1 Axes>"
            ]
          },
          "metadata": {},
          "output_type": "display_data"
        }
      ],
      "source": [
        "print(\"Мощность теста (A/B тест) на сбалансированных выборках\", \"\\n\")\n",
        "\n",
        "AA_test(\n",
        "    test=t_test,\n",
        "    x_data=matched_data,\n",
        "    effect=eff_size,\n",
        "    n_iter=n_iter,\n",
        "    sample_size=sample_size,\n",
        "    alpha=alpha\n",
        ")"
      ]
    },
    {
      "cell_type": "markdown",
      "metadata": {
        "id": "GDS1T5EyvMzr"
      },
      "source": [
        "**Вывод:**\n",
        "\n",
        "Сопоставление тестовой и контрольной групп на основе propensity score позволило существенно улучшить их баланс, что подтверждается корректным уровнем статистической значимости. Это свидетельствует о более равномерном распределении характеристик между группами после сопоставления, благодаря учёту propensity score как ключевого фактора.\n",
        "\n",
        "Однако мощность теста снизилась. Такое уменьшение может быть связано с сокращением объёма данных, поскольку сопоставление предполагает отбор подмножества наблюдений, соответствующих заданным критериям. Уменьшение размера выборок приводит к снижению статистической мощности, несмотря на улучшение их сбалансированности."
      ]
    },
    {
      "cell_type": "markdown",
      "metadata": {
        "id": "RukbyMsCWICP"
      },
      "source": [
        "## Итоговые выводы по задачам 1 и 2\n",
        "\n",
        "Сделайте вывод о получившихся результатах. Какой тест препочтительнее для данной задачи и почему?"
      ]
    },
    {
      "cell_type": "markdown",
      "metadata": {
        "id": "Lo3wtAa5WICQ"
      },
      "source": [
        "Также вы можете свести результаты всех проведенных вами экспериментов в одну красивую таблицу. Ниже представлен код, который поможет вам это сделать. Заполните пропуски, добавив соответствующие названия тестов, значения реального уровня значимости и мощности, полученные для каждого из них."
      ]
    },
    {
      "cell_type": "code",
      "execution_count": 47,
      "metadata": {
        "colab": {
          "base_uri": "https://localhost:8080/",
          "height": 206
        },
        "id": "j0d49P33WICQ",
        "outputId": "a836dfa8-5740-49b8-ebcb-9aeaef06fc08"
      },
      "outputs": [
        {
          "data": {
            "text/html": [
              "<style type=\"text/css\">\n",
              "#T_09bef_row0_col1 {\n",
              "  background-color: #fdb163;\n",
              "  color: #000000;\n",
              "}\n",
              "#T_09bef_row0_col2 {\n",
              "  background-color: #daf08d;\n",
              "  color: #000000;\n",
              "}\n",
              "#T_09bef_row1_col1, #T_09bef_row4_col2 {\n",
              "  background-color: #a50026;\n",
              "  color: #f1f1f1;\n",
              "}\n",
              "#T_09bef_row1_col2, #T_09bef_row2_col1 {\n",
              "  background-color: #006837;\n",
              "  color: #f1f1f1;\n",
              "}\n",
              "#T_09bef_row2_col2 {\n",
              "  background-color: #08773f;\n",
              "  color: #f1f1f1;\n",
              "}\n",
              "#T_09bef_row3_col1 {\n",
              "  background-color: #6bbf64;\n",
              "  color: #000000;\n",
              "}\n",
              "#T_09bef_row3_col2 {\n",
              "  background-color: #2da155;\n",
              "  color: #f1f1f1;\n",
              "}\n",
              "#T_09bef_row4_col1 {\n",
              "  background-color: #e9f6a1;\n",
              "  color: #000000;\n",
              "}\n",
              "</style>\n",
              "<table id=\"T_09bef\" class=\"dataframe\">\n",
              "  <thead>\n",
              "    <tr>\n",
              "      <th class=\"blank level0\" >&nbsp;</th>\n",
              "      <th id=\"T_09bef_level0_col0\" class=\"col_heading level0 col0\" >Test TYPE</th>\n",
              "      <th id=\"T_09bef_level0_col1\" class=\"col_heading level0 col1\" >AA Test Rejection Rate (%)</th>\n",
              "      <th id=\"T_09bef_level0_col2\" class=\"col_heading level0 col2\" >AB Test Rejection Rate (%)</th>\n",
              "    </tr>\n",
              "  </thead>\n",
              "  <tbody>\n",
              "    <tr>\n",
              "      <th id=\"T_09bef_level0_row0\" class=\"row_heading level0 row0\" >0</th>\n",
              "      <td id=\"T_09bef_row0_col0\" class=\"data row0 col0\" >T-test (original)</td>\n",
              "      <td id=\"T_09bef_row0_col1\" class=\"data row0 col1\" >5.140000</td>\n",
              "      <td id=\"T_09bef_row0_col2\" class=\"data row0 col2\" >88.790000</td>\n",
              "    </tr>\n",
              "    <tr>\n",
              "      <th id=\"T_09bef_level0_row1\" class=\"row_heading level0 row1\" >1</th>\n",
              "      <td id=\"T_09bef_row1_col0\" class=\"data row1 col0\" >LinModel: LogisticRegression (PS)</td>\n",
              "      <td id=\"T_09bef_row1_col1\" class=\"data row1 col1\" >5.360000</td>\n",
              "      <td id=\"T_09bef_row1_col2\" class=\"data row1 col2\" >94.510000</td>\n",
              "    </tr>\n",
              "    <tr>\n",
              "      <th id=\"T_09bef_level0_row2\" class=\"row_heading level0 row2\" >2</th>\n",
              "      <td id=\"T_09bef_row2_col0\" class=\"data row2 col0\" >LinModel: GradientBoostingClassifier (PS)</td>\n",
              "      <td id=\"T_09bef_row2_col1\" class=\"data row2 col1\" >4.640000</td>\n",
              "      <td id=\"T_09bef_row2_col2\" class=\"data row2 col2\" >94.020000</td>\n",
              "    </tr>\n",
              "    <tr>\n",
              "      <th id=\"T_09bef_level0_row3\" class=\"row_heading level0 row3\" >3</th>\n",
              "      <td id=\"T_09bef_row3_col0\" class=\"data row3 col0\" >LinModel: CatBoostClassifier (PS)</td>\n",
              "      <td id=\"T_09bef_row3_col1\" class=\"data row3 col1\" >4.790000</td>\n",
              "      <td id=\"T_09bef_row3_col2\" class=\"data row3 col2\" >92.690000</td>\n",
              "    </tr>\n",
              "    <tr>\n",
              "      <th id=\"T_09bef_level0_row4\" class=\"row_heading level0 row4\" >4</th>\n",
              "      <td id=\"T_09bef_row4_col0\" class=\"data row4 col0\" >Propensity Score Matching</td>\n",
              "      <td id=\"T_09bef_row4_col1\" class=\"data row4 col1\" >4.960000</td>\n",
              "      <td id=\"T_09bef_row4_col2\" class=\"data row4 col2\" >80.370000</td>\n",
              "    </tr>\n",
              "  </tbody>\n",
              "</table>\n"
            ],
            "text/plain": [
              "<pandas.io.formats.style.Styler at 0x7cc5143de350>"
            ]
          },
          "execution_count": 47,
          "metadata": {},
          "output_type": "execute_result"
        }
      ],
      "source": [
        "import pandas as pd\n",
        "import matplotlib.pyplot as plt\n",
        "import seaborn as sns\n",
        "\n",
        "# Данные\n",
        "data = {\n",
        "    # названия каждого теста, который вы хотите добавить в таблицу, например, 'LinModel: covariate_1+covariate_2'\n",
        "    'Test TYPE': [\n",
        "        'T-test (original)',\n",
        "        'LinModel: LogisticRegression (PS)',\n",
        "        'LinModel: GradientBoostingClassifier (PS)',\n",
        "        'LinModel: CatBoostClassifier (PS)',\n",
        "        'Propensity Score Matching'\n",
        "    ],\n",
        "    'AA Test Rejection Rate (%)': [5.14, 5.36, 4.64, 4.79, 4.96], # величины соответствующих ошибок первого рода тестов\n",
        "    'AB Test Rejection Rate (%)': [88.79, 94.51, 94.02, 92.69, 80.37] # величины соответствующих мощностей тестов\n",
        "}\n",
        "\n",
        "# Создание DataFrame\n",
        "df = pd.DataFrame(data)\n",
        "\n",
        "# Функция для градиентной раскраски столбцов\n",
        "def highlight_gradient(s, reverse=False):\n",
        "    if reverse:\n",
        "        s = s.max() - s\n",
        "    return ['background-color: {}'.format(sns.color_palette(\"RdYlGn\", as_cmap=True)(v)) for v in s]\n",
        "\n",
        "# Применение градиентной раскраски\n",
        "styled_df = df.style.background_gradient(cmap='RdYlGn_r', subset=['AA Test Rejection Rate (%)'])\\\n",
        "                   .background_gradient(cmap='RdYlGn', subset=['AB Test Rejection Rate (%)'])\n",
        "\n",
        "# Визуализация таблицы\n",
        "styled_df"
      ]
    },
    {
      "cell_type": "markdown",
      "metadata": {
        "id": "UQBXXQtnWICQ"
      },
      "source": [
        "**Итоговые выводы:**\n",
        "\n",
        "1. **LogisticRegression (PS)**\n",
        "\n",
        "Демонстрирует наилучший баланс между корректным уровнем значимости (5.36%) и мощностью теста (наиболее высокая среди всех методов). Это свидетельствует о том, что использование propensity score в линейной модели эффективно учитывает ковариаты и минимизирует дисбаланс между группами.\n",
        "\n",
        "2. **GradientBoostingClassifier (PS)** и **CatBoostClassifier (PS)**\n",
        "\n",
        "Показывают сопоставимые результаты. Уровень значимости находится в пределах нормы (4.64% и 4.79% соответственно), а мощность теста остается высокой, что делает их надежными методами для анализа данных, учитывающих сложные нелинейные зависимости.\n",
        "\n",
        "3. **T-test (original)**\n",
        "\n",
        "Демонстрирует более низкую мощность (около 75%), что объясняется отсутствием учета ковариатов. Тем не менее, уровень значимости находится в допустимых пределах (5.14%), что подтверждает корректность метода для простых ситуаций.\n",
        "\n",
        "4. **Propensity Score Matching**\n",
        "\n",
        "Улучшает баланс между тестовой и контрольной группами, как видно из близости уровня значимости к теоретическому значению (4.96%). Однако мощность теста снижается до 65%, что связано с уменьшением размера выборки после сопоставления, несмотря на улучшение сбалансированности групп.\n"
      ]
    }
  ],
  "metadata": {
    "colab": {
      "provenance": []
    },
    "kernelspec": {
      "display_name": "Python 3 (ipykernel)",
      "language": "python",
      "name": "python3"
    },
    "language_info": {
      "codemirror_mode": {
        "name": "ipython",
        "version": 3
      },
      "file_extension": ".py",
      "mimetype": "text/x-python",
      "name": "python",
      "nbconvert_exporter": "python",
      "pygments_lexer": "ipython3",
      "version": "3.10.9"
    }
  },
  "nbformat": 4,
  "nbformat_minor": 0
}
