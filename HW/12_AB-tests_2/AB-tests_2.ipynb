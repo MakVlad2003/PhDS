{
 "cells": [
  {
   "cell_type": "markdown",
   "metadata": {
    "id": "Ctq3Lc5p7NYY"
   },
   "source": [
    "# ML в Биологии\n",
    "## 12. AB-tests. Part II."
   ]
  },
  {
   "cell_type": "code",
   "execution_count": null,
   "metadata": {
    "colab": {
     "base_uri": "https://localhost:8080/"
    },
    "id": "ZLOO201gOIGl",
    "outputId": "50d6bc67-7c64-44a1-f5ce-2e7f2c472e78"
   },
   "outputs": [],
   "source": [
    "import numpy as np\n",
    "import scipy.stats as sps\n",
    "import pandas as pd\n",
    "import matplotlib.pyplot as plt\n",
    "import seaborn as sns\n",
    "from tqdm import tqdm\n",
    "import os\n",
    "\n",
    "from statsmodels.stats.proportion import proportion_confint\n",
    "import statsmodels.formula.api as smf\n",
    "import statsmodels.stats.api as sms\n",
    "from statsmodels.compat import lzip\n",
    "import statsmodels.datasets as smd\n",
    "import statsmodels.api as sm\n",
    "\n",
    "from sklearn.linear_model import LogisticRegression\n",
    "from sklearn.model_selection import train_test_split\n",
    "from sklearn.metrics import roc_auc_score\n",
    "from sklearn.neighbors import NearestNeighbors\n",
    "\n",
    "from sklearn.ensemble import GradientBoostingRegressor\n",
    "from sklearn.linear_model import Ridge\n",
    "from sklearn.preprocessing import LabelEncoder\n",
    "!pip install catboost\n",
    "from catboost import CatBoostClassifier\n",
    "\n",
    "sns.set(palette='Set2', style='whitegrid', font_scale=1.3)\n",
    "\n",
    "pd.options.mode.chained_assignment = None"
   ]
  },
  {
   "cell_type": "code",
   "execution_count": null,
   "metadata": {
    "id": "q3SvgOOGD5t5"
   },
   "outputs": [],
   "source": [
    "# from google.colab import drive\n",
    "# drive.mount('/content/drive')"
   ]
  },
  {
   "cell_type": "markdown",
   "metadata": {
    "id": "vYwaGAwxWICE"
   },
   "source": [
    "Загрузка и предпроцессинг данных у каждого профиля свои, далее общая часть &mdash; непосредственно задачи, обе выполняются на одном датасете. В задаче 2 косвенно используются результаты задачи 1."
   ]
  },
  {
   "cell_type": "markdown",
   "metadata": {
    "id": "U0M9UaUDAVEu"
   },
   "source": [
    "# Некоторые полезные функции для проведения A/B тестов"
   ]
  },
  {
   "cell_type": "code",
   "execution_count": null,
   "metadata": {
    "code_folding": [
     0,
     3,
     31
    ],
    "id": "h5-jCiN48PFm"
   },
   "outputs": [],
   "source": [
    "def random_sampler(data, sample_size):\n",
    "    '''\n",
    "    Случайное семплирование двух групп одного размера из данных.\n",
    "\n",
    "    Аргументы:\n",
    "    data -- исходные данные\n",
    "    sample_size -- размер группы\n",
    "\n",
    "    Возвращает:\n",
    "    B_group, A_group -- две группы данных\n",
    "    '''\n",
    "\n",
    "    choiced = data.sample(n=2 * sample_size, replace=False)\n",
    "    B_group, A_group = choiced.iloc[:sample_size], choiced.iloc[sample_size:]\n",
    "    return B_group, A_group\n",
    "\n",
    "\n",
    "def AA_test(\n",
    "    test, x_data, y_data=None,\n",
    "    lin_ttest = False,\n",
    "    n_iter=10000, sample_size=1000, effect=0, relative_effect=True, alpha=0.05\n",
    "):\n",
    "    '''\n",
    "    Проведение серии AA-тестов на искусственных выборках.\n",
    "\n",
    "    Аргументы:\n",
    "    test -- статистический критерий\n",
    "    x_data, y_data -- данные, из которых будут семплирповаться выборки\n",
    "    lin_ttest -- проводим тест с помощью линейной модели (True) или классического t-test (False)\n",
    "    n_iter -- количество итераций\n",
    "    sample_size -- размер выборок\n",
    "    effect -- размер добавляемого эффекта (для оценки мощности)\n",
    "    relative_effect -- является ли эффект относительным или абсолютным\n",
    "    alpha -- теоретический уровень значимости\n",
    "    '''\n",
    "\n",
    "    n_rejects = 0  # количество отвержений H_0\n",
    "\n",
    "    # Проведение экспериментов\n",
    "    for _ in tqdm(range(n_iter)):\n",
    "        # Генерируем выборки\n",
    "        if y_data is None:\n",
    "            x_sample, y_sample = random_sampler(x_data, sample_size)\n",
    "            if lin_ttest:\n",
    "                y_sample['type'] = 1\n",
    "        else:\n",
    "            x_sample = x_data.sample(sample_size, replace=False)\n",
    "            y_sample = y_data.sample(sample_size, replace=False)\n",
    "\n",
    "        # Добавляем эффект, если хотим оценить мощность\n",
    "        if relative_effect:\n",
    "            x_sample *= (1 + effect)\n",
    "        else:\n",
    "            x_sample += effect\n",
    "\n",
    "        # Применяем критерий\n",
    "        n_rejects += test(x_sample, y_sample)\n",
    "\n",
    "    # Реальный уровень значимости\n",
    "    real_alpha, left_alpha, right_alpha = calculate_real_alpha(n_rejects, n_iter)\n",
    "    draw_interval(real_alpha, left_alpha, right_alpha, alpha=alpha)\n",
    "\n",
    "def calculate_real_alpha(n_rejects, n_iter):\n",
    "    '''\n",
    "    Оценка реального уровня значимости и его дов. интервала.\n",
    "\n",
    "    Аргументы:\n",
    "    n_rejects -- количество ошибок в эксперименте\n",
    "    n_iter -- количество экспериментов\n",
    "\n",
    "    Возвращает:\n",
    "    real_alpha -- оценка реального уровня значимости\n",
    "    left_alpha, right_alpha -- границы соотв. дов. интервала\n",
    "    '''\n",
    "\n",
    "    real_alpha = n_rejects / n_iter\n",
    "    left_alpha, right_alpha = proportion_confint(n_rejects, n_iter, method='wilson')\n",
    "\n",
    "    return real_alpha, left_alpha, right_alpha\n",
    "\n",
    "\n",
    "def draw_interval(\n",
    "    real_alpha, left_alpha, right_alpha,\n",
    "    alpha=0.05, figsize=(7, 2)\n",
    "):\n",
    "    '''\n",
    "    Отрисовка интервала для реального уровня значимости\n",
    "\n",
    "    Аргументы:\n",
    "    real_alpha -- оценка уровня значимости\n",
    "    left_alpha, right_alpha -- границы доверительного интервала\n",
    "    alpha -- теоретический уровень значимости\n",
    "    figsize -- размер фигуры matplotlib\n",
    "    '''\n",
    "\n",
    "    with sns.axes_style(\"whitegrid\"):\n",
    "        plt.figure(figsize=(6, 2))\n",
    "        plt.hlines(0, 0, 1, color='black', lw=2, alpha=0.6)\n",
    "        plt.vlines(alpha, -1, 1, color='red', lw=5, linestyle='--', alpha=0.6)\n",
    "        plt.fill_between(\n",
    "            [left_alpha, right_alpha], [0.15]*2, [-0.15]*2,\n",
    "            color='green', alpha=0.6\n",
    "        )\n",
    "        plt.scatter(real_alpha, 0, s=300, marker='*', color='red')\n",
    "        plt.xlim((min(alpha, left_alpha)-1e-3, max(alpha, right_alpha)+1e-3))\n",
    "        plt.title(\n",
    "            f'Доля отвержений = {100*real_alpha:.2f}%, '\n",
    "            f'интервал ({100*left_alpha:.2f}%, {100*right_alpha:.2f}%)'\n",
    "        )\n",
    "        plt.ylim((-0.5, 0.5))\n",
    "        plt.yticks([])\n",
    "        plt.tight_layout()\n",
    "        plt.show()"
   ]
  },
  {
   "cell_type": "markdown",
   "metadata": {
    "id": "cz9xHS_cWICF"
   },
   "source": [
    "# Датасеты по профилям"
   ]
  },
  {
   "cell_type": "markdown",
   "metadata": {
    "id": "RNk9ise87NYb"
   },
   "source": [
    " ## **Профиль биология**\n"
   ]
  },
  {
   "cell_type": "markdown",
   "metadata": {
    "id": "WJrwH8Tb22Qp"
   },
   "source": [
    "### Описание датасета\n",
    "\n",
    "В данных, с которыми вы будете работать, в общей сложности 4603 субъекта, которые соответствовали критериям включения и исключения, были включены из [NHANES](https://www.cdc.gov/nchs/nhanes/index.htm). Из них 362 человека (7,86%) были диагностированы как пациенты с инсультом, в то время как 4241 человек (92,14%) были идентифицированы как пациенты без инсульта.\n",
    "\n",
    "Первый столбец набора данных — это информация о наличии инсульта в анамнезе (`stroke`), а другие столбцы — это предикторы, включая:\n",
    "\n",
    "- `stroke` — есть ли факт перенесенного инсульта в анамнезе (**ТРИТМЕНТ**)\n",
    "- `Low-density lipoprotein` — липопротеины низкой плотности (**ТАРГЕТ**)\n",
    "- `gender` — пол\n",
    "- `age` — возраст\n",
    "- `Race` — раса\n",
    "- `Marital status` — семейное положение\n",
    "- `alcohol` — употребление алкоголя\n",
    "- `smoke` — курение\n",
    "- `sleep disorder` — нарушение сна\n",
    "- `Health Insurance` — медицинская страховка\n",
    "- `General health condition` — оценка общего состояние здоровья\n",
    "- `depression` — депрессия\n",
    "- `sleep time` — время сна\n",
    "- `diabetes` — диабет\n",
    "- `hypertension` — гипертония\n",
    "- `high cholesterol` — высокий уровень холестерина\n",
    "- `Minutes sedentary activity` — минуты малоподвижной активности\n",
    "- `Coronary Heart Disease` — ишемическая болезнь сердца\n",
    "- `Body Mass Index` — индекс массы тела\n",
    "- `Waist Circumference` — окружность талии\n",
    "- `Systolic blood pressure` — систолическое артериальное давление\n",
    "- `Diastolic blood pressure` — диастолическое артериальное давление\n",
    "- `High-density lipoprotein` — липопротеины высокой плотности\n",
    "- `Triglyceride` — триглицериды\n",
    "- `Fasting Glucose` — глюкоза натощак\n",
    "- `Glycohemoglobin` — гликированный гемоглобин\n",
    "\n",
    "Из опросник для типа питания:\n",
    "- `energy` — суточное потребление калорий [kcal]\n",
    "- `protein` — суточное потребление белка [gm]\n",
    "- `Carbohydrate` — суточное потребление углеводов [gm]\n",
    "- `Dietary fiber` — суточное потребление пищевых волокон [gm]\n",
    "- `Total fat` — общий жир\n",
    "- `Total saturated fatty acids` — общее количество насыщенных жирных кислот [gm]\n",
    "- `Total monounsaturated fatty acids` — общее количество мононенасыщенных жирных кислот [gm]\n",
    "- `Total polyunsaturated fatty acids` — общее количество полиненасыщенных жирных кислот [gm]\n",
    "- `Potassium` — калий [mg]\n",
    "- `Sodium` — натрий [mg]\n"
   ]
  },
  {
   "cell_type": "markdown",
   "metadata": {
    "id": "ixO3mH9k_c1X"
   },
   "source": [
    "Задача состоит в том, чтобы исследовать работоспособность различных видов A/B тестирования, в том числе с использованием `Propencity score`, на распределении уровня липопротеинов низкой плотности (`Low-density lipoprotein`)."
   ]
  },
  {
   "cell_type": "markdown",
   "metadata": {
    "id": "AYW4VCQ0APf1"
   },
   "source": [
    "### Загрузка данных и энкодинг тритмента\n"
   ]
  },
  {
   "cell_type": "markdown",
   "metadata": {
    "id": "7-q_3ua7WICH"
   },
   "source": [
    "Загрузите датасет со страницы курса"
   ]
  },
  {
   "cell_type": "code",
   "execution_count": null,
   "metadata": {
    "id": "mIpPVMN_2j_P"
   },
   "outputs": [],
   "source": [
    "DATA_PATH = r\"/content/hw_data_biology.csv\"\n",
    "data = pd.read_csv(DATA_PATH)\n",
    "data = data.rename(columns={'stroke': 'type'})\n",
    "data.columns = map(lambda x: x.replace(' ', '_').replace('-', '_'), data.columns)\n",
    "target = 'Low_density_lipoprotein'"
   ]
  },
  {
   "cell_type": "markdown",
   "metadata": {
    "id": "-lMmwVfjWICH"
   },
   "source": [
    "Зададим параметры наших тестов: теоретический уровень значимости, размер выборки и количество итераций теста"
   ]
  },
  {
   "cell_type": "code",
   "execution_count": null,
   "metadata": {
    "id": "sot3bUfhdcc5"
   },
   "outputs": [],
   "source": [
    "alpha = 0.05\n",
    "sample_size = 170\n",
    "n_iter = 10000\n",
    "\n",
    "eff_size = 0.1"
   ]
  },
  {
   "cell_type": "markdown",
   "metadata": {
    "id": "OzITGB6fWICI"
   },
   "source": [
    "# Задача 1"
   ]
  },
  {
   "cell_type": "markdown",
   "metadata": {
    "id": "J3VjT9h_4hwC"
   },
   "source": [
    "### 1. Обычный t-тест\n",
    "\n",
    "Начнём с применения обычного t-test. Оцените **реальный уровень значимости** критерия и его **мощность** на ваших данных"
   ]
  },
  {
   "cell_type": "code",
   "execution_count": null,
   "metadata": {
    "id": "mC-563PrW5Og"
   },
   "outputs": [],
   "source": [
    "def t_test(x_sample, y_sample):\n",
    "    stat, p_value = sps.ttest_ind(x_sample[target], y_sample[target], equal_var=False)\n",
    "    return p_value < alpha"
   ]
  },
  {
   "cell_type": "code",
   "execution_count": null,
   "metadata": {
    "colab": {
     "base_uri": "https://localhost:8080/",
     "height": 242
    },
    "id": "7yAbRCdoW9F5",
    "outputId": "39773e92-64f0-4eaa-e21a-1a65c4d0a6a7"
   },
   "outputs": [],
   "source": [
    "print(\"Оценка уровня значимости (A/A тест):\", \"\\n\")\n",
    "\n",
    "AA_test(\n",
    "    test=t_test,\n",
    "    x_data=data,\n",
    "    n_iter=n_iter,\n",
    "    sample_size=sample_size,\n",
    "    alpha=alpha\n",
    ")"
   ]
  },
  {
   "cell_type": "code",
   "execution_count": null,
   "metadata": {
    "colab": {
     "base_uri": "https://localhost:8080/",
     "height": 242
    },
    "id": "8WzkcF0v7y_2",
    "outputId": "1416079e-7c00-4f33-b699-77ce19842d14"
   },
   "outputs": [],
   "source": [
    "print(\"Оценка мощности (A/B тест):\", \"\\n\")\n",
    "\n",
    "AA_test(\n",
    "    test=t_test,\n",
    "    x_data=data,\n",
    "    n_iter=n_iter,\n",
    "    sample_size=sample_size,\n",
    "    effect=eff_size,\n",
    "    alpha=alpha\n",
    ")"
   ]
  },
  {
   "cell_type": "markdown",
   "metadata": {
    "id": "kBjZZxYGNQtb"
   },
   "source": [
    "### 2. Линейные модели на основе ковариат\n",
    "Перейдём к использованию линейных моделей. Построим следующую модель:\n",
    "\n",
    "$$\n",
    "Y = \\theta_0 + \\theta_1 \\cdot \\text{type} + X^T\\Theta\n",
    "$$\n",
    "\n",
    "где $X$ &mdash; это признаки, влияющие на целевую переменную, `type` &mdash; индикатор принадлежности к тестовой группе.\n",
    "\n",
    "Если будет наблюдаться значимое отклонение значения параметра $\\theta_1$, то можно считать, что среднее двух групп различается. Для проверки этого требуется критерий Стьюдента.\n",
    "\n",
    "Реализуйте функцию проведения A/B теста с помощью линейной модели"
   ]
  },
  {
   "cell_type": "code",
   "execution_count": null,
   "metadata": {
    "id": "94ca67eMWICJ"
   },
   "outputs": [],
   "source": [
    "def lin_ttest(x_data, y_data, condition):\n",
    "    '''\n",
    "    A/B тест с помощью линейной модели\n",
    "\n",
    "    Аргументы:\n",
    "    x_data -- группа теста\n",
    "    y_data -- группа контроля\n",
    "    condition -- формула, описывающая модель вида 'target ~ type + covariates'\n",
    "\n",
    "    Возвращает:\n",
    "    pvalue\n",
    "    '''\n",
    "\n",
    "    # Обучите модель на объединённых данных и проверьте критерий Стьюдента\n",
    "    x_data['type'] = 1\n",
    "    y_data['type'] = 0\n",
    "    data = pd.concat([x_data, y_data], axis=0)\n",
    "\n",
    "    model = smf.ols(condition, data=data).fit()\n",
    "\n",
    "    return model.pvalues['type']"
   ]
  },
  {
   "cell_type": "markdown",
   "metadata": {
    "id": "LTP8KaydN3dR"
   },
   "source": [
    "Поэкспериментируйте с выбором ковариат. Проведите оценку реального уровня значимости и мощности критерия для разных наборов ковариат (как минимум двух разных комбинаций).\n",
    "\n",
    "Заполните пропуски в функицях, приведенных ниже, передав формулы линейных моделей с выбранными признаками и правильно задав набор данных, на которых будут проводиться AA и AB тесты."
   ]
  },
  {
   "cell_type": "markdown",
   "metadata": {
    "id": "h85UaaqWmOBV"
   },
   "source": [
    "##### Набор ковариат 1"
   ]
  },
  {
   "cell_type": "markdown",
   "metadata": {
    "id": "UYkxLW8pWICJ"
   },
   "source": [
    "Реальный уровень значимости:"
   ]
  },
  {
   "cell_type": "code",
   "execution_count": null,
   "metadata": {
    "colab": {
     "base_uri": "https://localhost:8080/",
     "height": 207
    },
    "id": "IMXHBBOjN74m",
    "outputId": "3c653b00-119c-4114-c3b0-2315340254b8"
   },
   "outputs": [],
   "source": [
    "f_1 = f\"{target} ~ type + age + gender + Body_Mass_Index\"\n",
    "\n",
    "AA_test(\n",
    "    test=lambda x, y: int(lin_ttest(x, y, f_1) < alpha),\n",
    "    x_data=data,\n",
    "    lin_ttest=True,\n",
    "    effect=0,\n",
    "    sample_size=sample_size,\n",
    "    n_iter=n_iter\n",
    ")"
   ]
  },
  {
   "cell_type": "markdown",
   "metadata": {
    "id": "4ya1D_gjWICK"
   },
   "source": [
    "Соответствующая величина мощности для выбранного теста на имеющихся данных:"
   ]
  },
  {
   "cell_type": "code",
   "execution_count": null,
   "metadata": {
    "colab": {
     "base_uri": "https://localhost:8080/",
     "height": 207
    },
    "id": "B54jyG-1ZHEZ",
    "outputId": "62904750-1f2a-448d-bd37-4efcb9f0ab06"
   },
   "outputs": [],
   "source": [
    "AA_test(\n",
    "    test=lambda x, y: int(lin_ttest(x, y, f_1) < alpha),\n",
    "    x_data=data,\n",
    "    lin_ttest=True,\n",
    "    effect=eff_size,\n",
    "    sample_size=sample_size,\n",
    "    n_iter=n_iter\n",
    ")"
   ]
  },
  {
   "cell_type": "markdown",
   "metadata": {
    "id": "76fpXZ4CmUDn"
   },
   "source": [
    "##### Набор ковариат 2"
   ]
  },
  {
   "cell_type": "markdown",
   "metadata": {
    "id": "hwlVWXVrWICK"
   },
   "source": [
    "Реальный уровень значимости:"
   ]
  },
  {
   "cell_type": "code",
   "execution_count": null,
   "metadata": {
    "colab": {
     "base_uri": "https://localhost:8080/",
     "height": 207
    },
    "id": "32GF9nIJWICK",
    "outputId": "576df157-f4e5-4019-d50d-5e89c4c42bc6"
   },
   "outputs": [],
   "source": [
    "f_2 = f\"{target} ~ type + age + hypertension + diabetes + Minutes_sedentary_activity\"\n",
    "\n",
    "AA_test(\n",
    "    test=lambda x, y: int(lin_ttest(x, y, f_2) < alpha),\n",
    "    x_data=data,\n",
    "    lin_ttest=True,\n",
    "    effect=0,\n",
    "    sample_size=sample_size,\n",
    "    n_iter=n_iter\n",
    ")"
   ]
  },
  {
   "cell_type": "markdown",
   "metadata": {
    "id": "chzwNFZNWICL"
   },
   "source": [
    "Соответствующая величина мощности для выбранного теста на имеющихся данных:"
   ]
  },
  {
   "cell_type": "code",
   "execution_count": null,
   "metadata": {
    "colab": {
     "base_uri": "https://localhost:8080/",
     "height": 207
    },
    "id": "tx0RsyQ5WICL",
    "outputId": "db320065-c847-430b-f51c-6da0c0d38787"
   },
   "outputs": [],
   "source": [
    "AA_test(\n",
    "    test=lambda x, y: int(lin_ttest(x, y, f_2) < alpha),\n",
    "    x_data=data,\n",
    "    lin_ttest=True,\n",
    "    effect=eff_size,\n",
    "    sample_size=sample_size,\n",
    "    n_iter=n_iter\n",
    ")"
   ]
  },
  {
   "cell_type": "markdown",
   "metadata": {
    "id": "1xBmQZWfWICM"
   },
   "source": [
    "Сравните результаты, получившиеся в пункте 1 и пункте 2 (в т.ч. для разных наборов дополнительных признаков), сделайте выводы.\n",
    "\n",
    "*Примечение*: в конце ноутбука есть код для визуализации результатов разных тестов, можете также использовать его для наглядности отображения полученных результатов.\n",
    "\n",
    "**Выводы:**\n",
    "\n",
    "Т-тест показывает значимость, но его мощность ограничена из-за игнорирования ковариатов. Линейная модель эффективнее, так как учитывает их влияние.\n",
    "\n",
    "Ковариаты первого набора (возраст, пол, ИМТ) лишь незначительно увеличивают мощность. Второй набор (возраст, гипертония, диабет, низкая активность) заметно улучшает мощность, объясняя больше вариаций."
   ]
  },
  {
   "cell_type": "markdown",
   "metadata": {
    "id": "9PtgmEtGWICM"
   },
   "source": [
    "# Задача 2 &mdash; продолжение задачи 1\n"
   ]
  },
  {
   "cell_type": "markdown",
   "metadata": {
    "id": "Df2LG0lQWICM"
   },
   "source": [
    "### 3. Propensity score"
   ]
  },
  {
   "cell_type": "markdown",
   "metadata": {
    "id": "Jxo8ArUsWICM"
   },
   "source": [
    "Теперь попробуем применить тесты с использованием учета фичей через Propensity score.\n",
    "\n",
    "**Справка о Propensity Score в задаче A/B тестирования**\n",
    "\n",
    "**Propensity Score (PS)** — это вероятность того, что объект будет назначен в ту или иную группу (например, тестовую) в зависимости от его конфаундеров. В контексте A/B тестирования, propensity score используется для уменьшения смещения и улучшения баланса между группами, что позволяет более точно оценить эффект от внедрения новой функции или изменения.\n",
    "\n",
    "**Плюсы**\n",
    "\n",
    "- **Уменьшение смещения**: Propensity score помогает уменьшить смещение, связанное с неравномерным распределением признаков между группами.\n",
    "- **Улучшение баланса**: Сопоставление по propensity score позволяет создать более сбалансированные группы, что улучшает точность оценки эффекта.\n",
    "- **Повышение достоверности**: Использование propensity score делает результаты A/B тестирования более достоверными и надежными."
   ]
  },
  {
   "cell_type": "markdown",
   "metadata": {
    "id": "N4olU6-b6H9g"
   },
   "source": [
    "#### 3.0. Создание датасета для `Propencity score matching`\n",
    "\n",
    "\n",
    "Выберите те признаки, по которым вы хотите провести сопоставление групп теста и контроля. Обучите модель `LogisticRegression` предсказывать $\\mathsf{E}(T|P(X), X) = \\mathsf{E}(T|P(X))$ &mdash; вероятность принадлежности классу 1 при заданном наборе признаков.\n",
    "\n",
    "*Примечание:* и обучение, и предсказание как правило проводятся на полном датасете."
   ]
  },
  {
   "cell_type": "code",
   "execution_count": null,
   "metadata": {
    "id": "a8HFEiTZYnTZ"
   },
   "outputs": [],
   "source": [
    "from sklearn.pipeline import Pipeline\n",
    "from sklearn.preprocessing import StandardScaler"
   ]
  },
  {
   "cell_type": "code",
   "execution_count": null,
   "metadata": {
    "colab": {
     "base_uri": "https://localhost:8080/",
     "height": 206
    },
    "id": "NGkYADKz6XUD",
    "outputId": "7996eb47-ec76-4a18-a00a-a84e0d67ae24"
   },
   "outputs": [],
   "source": [
    "features = ['age', 'gender', 'Body_Mass_Index', 'hypertension', 'diabetes']\n",
    "X, T = data[features], data['type']\n",
    "# Создадим и обучим модель логистической регрессии\n",
    "\n",
    "model = Pipeline([\n",
    "    ('scaler', StandardScaler()),\n",
    "    ('logreg', LogisticRegression(random_state=42))\n",
    "])\n",
    "\n",
    "model.fit(X, T)\n",
    "\n",
    "# Для удобства предсказанные значения вероятностей можно записать в соответствующую колонку датасета\n",
    "data['propensity_score'] = model.predict_proba(X)[:, 1]\n",
    "data[['propensity_score']].head()"
   ]
  },
  {
   "cell_type": "markdown",
   "metadata": {
    "id": "rIM5PrBDWICN"
   },
   "source": [
    "Посмотрите на гистограмму распределения величины propensity score. Получится ли выделить группы со схожими значениями этого параметра?"
   ]
  },
  {
   "cell_type": "code",
   "execution_count": null,
   "metadata": {
    "colab": {
     "base_uri": "https://localhost:8080/",
     "height": 790
    },
    "id": "4zNNyGsiWICN",
    "outputId": "deb97f23-7ad6-4e3e-d3d6-061222c2f863"
   },
   "outputs": [],
   "source": [
    "plt.figure(figsize=(12, 8))\n",
    "sns.histplot(\n",
    "    data['propensity_score'],\n",
    "    bins=30,\n",
    "    kde=True,\n",
    "    color='skyblue',\n",
    "    alpha=0.8,\n",
    "    edgecolor='black'\n",
    ")\n",
    "plt.title('Распределение Propensity Score', fontsize=18, fontweight='bold', pad=20)\n",
    "plt.xlabel('Propensity Score', fontsize=14, labelpad=10)\n",
    "plt.ylabel('Частота', fontsize=14, labelpad=10)\n",
    "plt.xticks(fontsize=12)\n",
    "plt.yticks(fontsize=12)\n",
    "plt.grid(axis='y', linestyle='--', linewidth=0.7, alpha=0.8)\n",
    "sns.despine()\n",
    "plt.tight_layout()\n",
    "plt.show()"
   ]
  },
  {
   "cell_type": "markdown",
   "metadata": {
    "id": "xZa3A4hWWICN"
   },
   "source": [
    "**Ответ:**\n",
    "\n",
    "На гистограмме наблюдается явно выраженная неоднородность распределения propensity score. В частности, можно выделить несколько пиков: наиболее заметные находятся в диапазонах 0.05–0.075 и 0.10–0.125, а также менее выраженный пик около значения 0.15. Это свидетельствует о том, что propensity score не распределен равномерно, а имеет скопления значений, характерные для определенных групп объектов. Такие особенности распределения могут указывать на существование кластеров или сходных характеристик в подгруппах наблюдений."
   ]
  },
  {
   "cell_type": "markdown",
   "metadata": {
    "id": "YCstc-XecNTW"
   },
   "source": [
    "#### 3.1. Использование propensity score как ковариаты"
   ]
  },
  {
   "cell_type": "markdown",
   "metadata": {
    "id": "zGRxK3d3csZ-"
   },
   "source": [
    "В качестве ковариаты линейной модели можно использовать предсказания модели машинного обучения для интересующего признака. Используйте полученное с помощью `LogisticRegression` значение propensity score в качестве ковариаты. А затем попробуйте предсказывать вероятность попасть с тестовую группу с помощью других моделей, например, `GradientBoostingClassifier` и `CatBoostClassifier`, обученных на выбранных ранее признаках.\n",
    "\n",
    "Проведите те же исследования, что и в *Задаче 1, пункт 2* для A/B с помощью линейных моделей, оценив **реальный уровень значимости** и **мощность** критерия во всех трех случаях."
   ]
  },
  {
   "cell_type": "markdown",
   "metadata": {
    "id": "Lr_e54BnWICN"
   },
   "source": [
    "#### LogisticRegression"
   ]
  },
  {
   "cell_type": "code",
   "execution_count": null,
   "metadata": {
    "id": "v82Y8QnsWICO"
   },
   "outputs": [],
   "source": [
    "f = f\"{target} ~ type + propensity_score\""
   ]
  },
  {
   "cell_type": "code",
   "execution_count": null,
   "metadata": {
    "colab": {
     "base_uri": "https://localhost:8080/",
     "height": 242
    },
    "id": "F7ZaalWva945",
    "outputId": "476c7522-c345-45c0-e60c-7473634b4ba4"
   },
   "outputs": [],
   "source": [
    "print(\"LogisticRegression: Реальный уровень значимости\", \"\\n\")\n",
    "\n",
    "AA_test(\n",
    "    test=lambda x, y: int(lin_ttest(x, y, f) < alpha),\n",
    "    x_data=data,\n",
    "    lin_ttest=True,\n",
    "    effect=0,\n",
    "    sample_size=sample_size,\n",
    "    n_iter=n_iter\n",
    ")"
   ]
  },
  {
   "cell_type": "code",
   "execution_count": null,
   "metadata": {
    "colab": {
     "base_uri": "https://localhost:8080/",
     "height": 242
    },
    "id": "sY82DcH_bDsW",
    "outputId": "c27fce65-2854-412e-da75-547e7fe4a118"
   },
   "outputs": [],
   "source": [
    "print(\"LogisticRegression: Мощность теста\", \"\\n\")\n",
    "AA_test(\n",
    "    test=lambda x, y: int(lin_ttest(x, y, f) < alpha),\n",
    "    x_data=data,\n",
    "    lin_ttest=True,\n",
    "    effect=eff_size,\n",
    "    sample_size=sample_size,\n",
    "    n_iter=n_iter\n",
    ")"
   ]
  },
  {
   "cell_type": "markdown",
   "metadata": {
    "id": "YbDGAOiUWICO"
   },
   "source": [
    "#### GradientBoostingClassifier"
   ]
  },
  {
   "cell_type": "code",
   "execution_count": null,
   "metadata": {
    "id": "K6X-Y2NmbUth"
   },
   "outputs": [],
   "source": [
    "from sklearn.ensemble import GradientBoostingClassifier"
   ]
  },
  {
   "cell_type": "code",
   "execution_count": null,
   "metadata": {
    "colab": {
     "base_uri": "https://localhost:8080/",
     "height": 80
    },
    "id": "0eRWFxmXWICO",
    "outputId": "76d851cc-b2a0-41c7-a298-2caec3146eee"
   },
   "outputs": [],
   "source": [
    "grad_boost = GradientBoostingClassifier(random_state=42)\n",
    "grad_boost.fit(X, T)"
   ]
  },
  {
   "cell_type": "code",
   "execution_count": null,
   "metadata": {
    "id": "ja2GTeM0bjBP"
   },
   "outputs": [],
   "source": [
    "data['propensity_score_grad_boost'] = grad_boost.predict_proba(X)[:, 1]\n",
    "f_grad_boost = f\"{target} ~ type + propensity_score_grad_boost\""
   ]
  },
  {
   "cell_type": "code",
   "execution_count": null,
   "metadata": {
    "colab": {
     "base_uri": "https://localhost:8080/",
     "height": 242
    },
    "id": "bpkMXnFubv22",
    "outputId": "343f428b-9501-44f9-eb25-de46838f22f6"
   },
   "outputs": [],
   "source": [
    "print(\"GradientBoostingClassifier: Реальный уровень значимости\", \"\\n\")\n",
    "\n",
    "AA_test(\n",
    "    test=lambda x, y: int(lin_ttest(x, y, f_grad_boost) < alpha),\n",
    "    x_data=data,\n",
    "    lin_ttest=True,\n",
    "    effect=0,\n",
    "    sample_size=sample_size,\n",
    "    n_iter=n_iter\n",
    ")"
   ]
  },
  {
   "cell_type": "code",
   "execution_count": null,
   "metadata": {
    "colab": {
     "base_uri": "https://localhost:8080/",
     "height": 242
    },
    "id": "SKf_AhtMb1wD",
    "outputId": "0e8a8da3-eee2-4fce-e387-e8e4e6c8d8b4"
   },
   "outputs": [],
   "source": [
    "print(\"GradientBoostingClassifier: Мощность теста\",  \"\\n\")\n",
    "\n",
    "AA_test(\n",
    "    test=lambda x, y: int(lin_ttest(x, y, f_grad_boost) < alpha),\n",
    "    x_data=data,\n",
    "    lin_ttest=True,\n",
    "    effect=eff_size,\n",
    "    sample_size=sample_size,\n",
    "    n_iter=n_iter\n",
    ")"
   ]
  },
  {
   "cell_type": "markdown",
   "metadata": {
    "id": "edFlSGFfWICO"
   },
   "source": [
    "#### CatBoostClassifier"
   ]
  },
  {
   "cell_type": "code",
   "execution_count": null,
   "metadata": {
    "colab": {
     "base_uri": "https://localhost:8080/"
    },
    "id": "WehakikCbcDy",
    "outputId": "dac9eeb2-449e-4981-92d6-2f915cf7719f"
   },
   "outputs": [],
   "source": [
    "!pip install catboost"
   ]
  },
  {
   "cell_type": "code",
   "execution_count": null,
   "metadata": {
    "id": "tGBTNf0EbYUz"
   },
   "outputs": [],
   "source": [
    "from catboost import CatBoostClassifier"
   ]
  },
  {
   "cell_type": "code",
   "execution_count": null,
   "metadata": {
    "colab": {
     "base_uri": "https://localhost:8080/"
    },
    "id": "7kYj6ttUWICO",
    "outputId": "52dc5bed-4eee-4a8e-c06f-1b8c388a6be0"
   },
   "outputs": [],
   "source": [
    "cat_boost = CatBoostClassifier(verbose=0, random_state=42)\n",
    "cat_boost.fit(X, T)"
   ]
  },
  {
   "cell_type": "code",
   "execution_count": null,
   "metadata": {
    "id": "CdltPmAjcAob"
   },
   "outputs": [],
   "source": [
    "data['propensity_score_cat_boost'] = cat_boost.predict_proba(X)[:, 1]\n",
    "f_cat_boost = f\"{target} ~ type + propensity_score_cat_boost\""
   ]
  },
  {
   "cell_type": "code",
   "execution_count": null,
   "metadata": {
    "colab": {
     "base_uri": "https://localhost:8080/",
     "height": 242
    },
    "id": "upwwOdCqcMfv",
    "outputId": "395e760b-9610-4e6f-8ea0-1888e2e614ff"
   },
   "outputs": [],
   "source": [
    "print(\"CatBoostClassifier: Реальный уровень значимости\", \"\\n\")\n",
    "\n",
    "AA_test(\n",
    "    test=lambda x, y: int(lin_ttest(x, y, f_cat_boost) < alpha),\n",
    "    x_data=data,\n",
    "    lin_ttest=True,\n",
    "    effect=0,\n",
    "    sample_size=sample_size,\n",
    "    n_iter=n_iter\n",
    ")"
   ]
  },
  {
   "cell_type": "code",
   "execution_count": null,
   "metadata": {
    "colab": {
     "base_uri": "https://localhost:8080/",
     "height": 242
    },
    "id": "KdkJtlUMcYW1",
    "outputId": "04c7de3a-abea-4c3c-fc5e-652e6b955bfd"
   },
   "outputs": [],
   "source": [
    "print(\"CatBoostClassifier: Мощность теста\", \"\\n\")\n",
    "\n",
    "AA_test(\n",
    "    test=lambda x, y: int(lin_ttest(x, y, f_cat_boost) < alpha),\n",
    "    x_data=data,\n",
    "    lin_ttest=True,\n",
    "    effect=eff_size,\n",
    "    sample_size=sample_size,\n",
    "    n_iter=n_iter\n",
    ")"
   ]
  },
  {
   "cell_type": "markdown",
   "metadata": {
    "id": "PBxV_w9MWICO"
   },
   "source": [
    "Как изменились параметры теста при использовании в качестве ковариаты propensity score?\n",
    "\n",
    "**Выводы:**\n",
    "\n",
    "Во всех моделях (LogisticRegression, GradientBoostingClassifier, CatBoostClassifier) уровень значимости остается близким к 5%, подтверждая корректность теста.\n",
    "\n",
    "LogisticRegression показала лучшую мощность.\n",
    "\n",
    "Добавление propensity score в качестве ковариаты увеличило мощность теста, что снижает дисбаланс между группами за счет учета дополнительных признаков."
   ]
  },
  {
   "cell_type": "markdown",
   "metadata": {
    "id": "-CbaQL7lWICP"
   },
   "source": [
    "#### 3.2. Propensity score matching"
   ]
  },
  {
   "cell_type": "markdown",
   "metadata": {
    "id": "88rQsrY8WICP"
   },
   "source": [
    "Одно из частых применений propensity score в наблюдательных исследованиях и A/B тестировании &mdash; составление группы контроля из таких объектов, которые имеют величину propensity score, близкую к таковой у тестовой группы.\n",
    "\n",
    "Другими словами, для каждого объекта в группе теста ($type=1$) подбирается ближайший к нему объект из группы контроля ($type=0$), который и войдет в финальную выборку. Сделать это можно, например, с помощью метода `NearestNeighbors`. При этом существуют разные подходы, которые не позволят выбирать одни и те же объекты для разных элементов тестовой группы. Например, при выборе одного и того же элемента из $type=0$ для нескольких объектов $type=1$, мы можем оставлять только ту пару тест-контроль, что имеет наименьшее расстояние между их propensity score. Или выбирать несколько ближайших соседей из контроля для каждого объекта из теста и следить, чтобы пары тест-контроль были уникальны.\n",
    "В обоих случаях размеры групп могут уменьшиться.\n",
    "\n",
    "Реализуйте такой подход для тех значений propensity score, что были получены вами **в пункте 3.0**.\n",
    "\n",
    "*Примечение*: отсечку по радиусу поиска ближайших соседей можно брать как некоторую долю стандартного отклоенения propensity score $\\sigma_{ps}$, например, $1/4$."
   ]
  },
  {
   "cell_type": "code",
   "execution_count": null,
   "metadata": {
    "id": "26ycU6lPWICP"
   },
   "outputs": [],
   "source": [
    "# Проведение сопоставления на основе propensity score\n",
    "def propensity_score_matching(data, treatment_col='type', score_col='propensity_score'):\n",
    "    '''\n",
    "    Выделяет группу контроля, имеющую похожее распределение величины propensity score, как у тестовой группы\n",
    "\n",
    "    Аргументы:\n",
    "    data -- данные\n",
    "    treatment_col -- название колонки, в которой хранится индикатор принадлежности к группе\n",
    "    score_col --  название колонки данных, на основании значения которой в группе теста будет выбираться группа контроля\n",
    "\n",
    "    Возвращает:\n",
    "    matched_data -- датасет -- подмножество исходного, в котором группы теста и контроля сопоставимы\n",
    "    '''\n",
    "\n",
    "    treatment_data = data[data[treatment_col] == 1]\n",
    "    control_data = data[data[treatment_col] == 0]\n",
    "\n",
    "    treatment_scores = treatment_data[score_col].values.reshape(-1, 1)\n",
    "    control_scores = control_data[score_col].values.reshape(-1, 1)\n",
    "\n",
    "    nn = NearestNeighbors(n_neighbors=1, n_jobs=-1)\n",
    "    nn.fit(control_scores)\n",
    "    distances, indices = nn.kneighbors(treatment_scores)\n",
    "\n",
    "    matched_control_indices = np.unique(indices.flatten())\n",
    "    matched_control_data = control_data.iloc[matched_control_indices]\n",
    "\n",
    "    matched_data = pd.concat([treatment_data, matched_control_data], axis=0).reset_index(drop=True)\n",
    "    return matched_data\n",
    "\n",
    "matched_data = propensity_score_matching(data)"
   ]
  },
  {
   "cell_type": "markdown",
   "metadata": {
    "id": "cJc5YFwDWICP"
   },
   "source": [
    "Посмотрим, как изменятся характеристики стандартного t-test при применении его на группах, выбранных по схожести величины propensity score. Оцените **реальный уровень значимости** и **мощность** на новых выборках."
   ]
  },
  {
   "cell_type": "code",
   "execution_count": null,
   "metadata": {
    "colab": {
     "base_uri": "https://localhost:8080/",
     "height": 242
    },
    "id": "oCcNSMB1WICP",
    "outputId": "f22a1be4-a7d3-4ca3-b1ef-1abfe85a2a2f"
   },
   "outputs": [],
   "source": [
    "print(\"Реальный уровень значимости (A/A тест) на сбалансированных выборках\", \"\\n\")\n",
    "\n",
    "AA_test(\n",
    "    test=t_test,\n",
    "    x_data=matched_data,\n",
    "    n_iter=n_iter,\n",
    "    sample_size=sample_size,\n",
    "    alpha=alpha\n",
    ")"
   ]
  },
  {
   "cell_type": "code",
   "execution_count": null,
   "metadata": {
    "colab": {
     "base_uri": "https://localhost:8080/",
     "height": 242
    },
    "id": "wpMDA41MdNr6",
    "outputId": "352139f5-be76-4395-eb7e-8f1530c169d6"
   },
   "outputs": [],
   "source": [
    "print(\"Мощность теста (A/B тест) на сбалансированных выборках\", \"\\n\")\n",
    "\n",
    "AA_test(\n",
    "    test=t_test,\n",
    "    x_data=matched_data,\n",
    "    effect=eff_size,\n",
    "    n_iter=n_iter,\n",
    "    sample_size=sample_size,\n",
    "    alpha=alpha\n",
    ")"
   ]
  },
  {
   "cell_type": "markdown",
   "metadata": {
    "id": "GDS1T5EyvMzr"
   },
   "source": [
    "**Вывод:**\n",
    "\n",
    "Сопоставление тестовой и контрольной групп на основе propensity score позволило существенно улучшить их баланс, что подтверждается корректным уровнем статистической значимости. Это свидетельствует о более равномерном распределении характеристик между группами после сопоставления, благодаря учёту propensity score как ключевого фактора.\n",
    "\n",
    "Однако мощность теста снизилась. Такое уменьшение может быть связано с сокращением объёма данных, поскольку сопоставление предполагает отбор подмножества наблюдений, соответствующих заданным критериям. Уменьшение размера выборок приводит к снижению статистической мощности, несмотря на улучшение их сбалансированности."
   ]
  },
  {
   "cell_type": "markdown",
   "metadata": {
    "id": "RukbyMsCWICP"
   },
   "source": [
    "## Итоговые выводы по задачам 1 и 2\n",
    "\n",
    "Сделайте вывод о получившихся результатах. Какой тест препочтительнее для данной задачи и почему?"
   ]
  },
  {
   "cell_type": "markdown",
   "metadata": {
    "id": "Lo3wtAa5WICQ"
   },
   "source": [
    "Также вы можете свести результаты всех проведенных вами экспериментов в одну красивую таблицу. Ниже представлен код, который поможет вам это сделать. Заполните пропуски, добавив соответствующие названия тестов, значения реального уровня значимости и мощности, полученные для каждого из них."
   ]
  },
  {
   "cell_type": "code",
   "execution_count": null,
   "metadata": {
    "colab": {
     "base_uri": "https://localhost:8080/",
     "height": 206
    },
    "id": "j0d49P33WICQ",
    "outputId": "a836dfa8-5740-49b8-ebcb-9aeaef06fc08"
   },
   "outputs": [],
   "source": [
    "import pandas as pd\n",
    "import matplotlib.pyplot as plt\n",
    "import seaborn as sns\n",
    "\n",
    "# Данные\n",
    "data = {\n",
    "    # названия каждого теста, который вы хотите добавить в таблицу, например, 'LinModel: covariate_1+covariate_2'\n",
    "    'Test TYPE': [\n",
    "        'T-test (original)',\n",
    "        'LinModel: LogisticRegression (PS)',\n",
    "        'LinModel: GradientBoostingClassifier (PS)',\n",
    "        'LinModel: CatBoostClassifier (PS)',\n",
    "        'Propensity Score Matching'\n",
    "    ],\n",
    "    'AA Test Rejection Rate (%)': [5.14, 5.36, 4.64, 4.79, 4.96], # величины соответствующих ошибок первого рода тестов\n",
    "    'AB Test Rejection Rate (%)': [88.79, 94.51, 94.02, 92.69, 80.37] # величины соответствующих мощностей тестов\n",
    "}\n",
    "\n",
    "# Создание DataFrame\n",
    "df = pd.DataFrame(data)\n",
    "\n",
    "# Функция для градиентной раскраски столбцов\n",
    "def highlight_gradient(s, reverse=False):\n",
    "    if reverse:\n",
    "        s = s.max() - s\n",
    "    return ['background-color: {}'.format(sns.color_palette(\"RdYlGn\", as_cmap=True)(v)) for v in s]\n",
    "\n",
    "# Применение градиентной раскраски\n",
    "styled_df = df.style.background_gradient(cmap='RdYlGn_r', subset=['AA Test Rejection Rate (%)'])\\\n",
    "                   .background_gradient(cmap='RdYlGn', subset=['AB Test Rejection Rate (%)'])\n",
    "\n",
    "# Визуализация таблицы\n",
    "styled_df"
   ]
  },
  {
   "cell_type": "markdown",
   "metadata": {
    "id": "UQBXXQtnWICQ"
   },
   "source": [
    "**Итоговые выводы:**\n",
    "\n",
    "1. **LogisticRegression (PS)**\n",
    "\n",
    "Демонстрирует наилучший баланс между корректным уровнем значимости (5.36%) и мощностью теста (наиболее высокая среди всех методов). Это свидетельствует о том, что использование propensity score в линейной модели эффективно учитывает ковариаты и минимизирует дисбаланс между группами.\n",
    "\n",
    "2. **GradientBoostingClassifier (PS)** и **CatBoostClassifier (PS)**\n",
    "\n",
    "Показывают сопоставимые результаты. Уровень значимости находится в пределах нормы (4.64% и 4.79% соответственно), а мощность теста остается высокой, что делает их надежными методами для анализа данных, учитывающих сложные нелинейные зависимости.\n",
    "\n",
    "3. **T-test (original)**\n",
    "\n",
    "Демонстрирует более низкую мощность (около 75%), что объясняется отсутствием учета ковариатов. Тем не менее, уровень значимости находится в допустимых пределах (5.14%), что подтверждает корректность метода для простых ситуаций.\n",
    "\n",
    "4. **Propensity Score Matching**\n",
    "\n",
    "Улучшает баланс между тестовой и контрольной группами, как видно из близости уровня значимости к теоретическому значению (4.96%). Однако мощность теста снижается до 65%, что связано с уменьшением размера выборки после сопоставления, несмотря на улучшение сбалансированности групп.\n"
   ]
  }
 ],
 "metadata": {
  "colab": {
   "provenance": []
  },
  "kernelspec": {
   "display_name": "Python 3 (ipykernel)",
   "language": "python",
   "name": "python3"
  },
  "language_info": {
   "codemirror_mode": {
    "name": "ipython",
    "version": 3
   },
   "file_extension": ".py",
   "mimetype": "text/x-python",
   "name": "python",
   "nbconvert_exporter": "python",
   "pygments_lexer": "ipython3",
   "version": "3.10.9"
  }
 },
 "nbformat": 4,
 "nbformat_minor": 0
}
