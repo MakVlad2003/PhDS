{
 "cells": [
  {
   "cell_type": "markdown",
   "metadata": {
    "id": "zMfQFKmJrVZt"
   },
   "source": [
    "# ML в Биологии\n",
    "## 10. T-Tests"
   ]
  },
  {
   "cell_type": "code",
   "execution_count": null,
   "metadata": {
    "id": "nyN6FVSQlivE"
   },
   "outputs": [],
   "source": [
    "import pandas as pd\n",
    "import numpy as np\n",
    "from tqdm import tqdm as tqdm\n",
    "from scipy import integrate\n",
    "import scipy.stats as sps\n",
    "import matplotlib.pyplot as plt\n",
    "import seaborn as sns\n",
    "from tqdm import tqdm as tqdm\n",
    "\n",
    "sns.set_theme(font_scale=1.3, palette='Set2')\n",
    "%matplotlib inline"
   ]
  },
  {
   "cell_type": "markdown",
   "metadata": {
    "id": "ce5TDEV3rVZx"
   },
   "source": [
    "## Задача 1"
   ]
  },
  {
   "cell_type": "markdown",
   "metadata": {
    "id": "46qvBOpkvRlG"
   },
   "source": [
    "### **Профиль биология**\n",
    "\n",
    "Рассмотрим данные об экспрессии белка DYRK1_A в мышах в разные дни. Загрузите датасет с сайта курса. Постройте гистограммы распределений и проведите t-test, чтобы выяснить, различается ли средний уровень экспрессии белка в день 1 и 2."
   ]
  },
  {
   "cell_type": "code",
   "execution_count": null,
   "metadata": {
    "colab": {
     "base_uri": "https://localhost:8080/",
     "height": 206
    },
    "id": "6iCW62aOnhTw",
    "outputId": "ab80be5f-9d37-4c24-fc7e-5fea2fe91eea"
   },
   "outputs": [],
   "source": [
    "df = pd.read_csv('mice_expression.csv')\n",
    "df.head()"
   ]
  },
  {
   "cell_type": "markdown",
   "metadata": {
    "id": "7QhD1uCArzNd"
   },
   "source": [
    " Построим гистограммы распределений:"
   ]
  },
  {
   "cell_type": "code",
   "execution_count": null,
   "metadata": {
    "colab": {
     "base_uri": "https://localhost:8080/",
     "height": 496
    },
    "id": "lqRpjrbor4SS",
    "outputId": "625ece90-77ff-439a-fce8-7d3e9d04006a"
   },
   "outputs": [],
   "source": [
    "fig, ax = plt.subplots(figsize=(9, 5), ncols=1, nrows=1)\n",
    "df.hist(\"Day 1\", bins=50, ax=ax, legend=True, alpha=0.5)\n",
    "df.hist(\"Day 2\", bins=50, ax=ax, legend=True, alpha=0.5)"
   ]
  },
  {
   "cell_type": "markdown",
   "metadata": {
    "id": "mxYT5k2qr8ul"
   },
   "source": [
    "Проведем t-test:"
   ]
  },
  {
   "cell_type": "code",
   "execution_count": null,
   "metadata": {
    "colab": {
     "base_uri": "https://localhost:8080/"
    },
    "id": "oX7KExEtsDh6",
    "outputId": "f04acdc7-d332-4d4d-be6b-fe0f901cab60"
   },
   "outputs": [],
   "source": [
    "sps.ttest_rel(df[\"Day 1\"], df[\"Day 2\"])"
   ]
  },
  {
   "cell_type": "markdown",
   "metadata": {
    "id": "ksXSDYD77Ma4"
   },
   "source": [
    "Объясните выбор теста и сделайте выводы.\n",
    "\n",
    "**Вывод:**\n",
    "\n",
    "Оба распределения в целом напоминают нормальные, поэтому можно использовать t-тест. Так как мы анализируем результаты на одних и тех же мышах, это зависимые выборки, поэтому применяем ttest_rel.\n",
    "\n",
    "Полученное значение p-value меньше 0.05, значит, гипотеза о равенстве средних отклоняется."
   ]
  },
  {
   "cell_type": "markdown",
   "metadata": {
    "id": "GB4hYzvSrVZy"
   },
   "source": [
    "## Задача 2\n"
   ]
  },
  {
   "cell_type": "markdown",
   "metadata": {
    "id": "O4K2dpDKsoJs"
   },
   "source": [
    "### **Профиль биология**\n",
    "\n",
    "\n",
    "Рассмотрим [данные по медицинским страховкам](https://www.kaggle.com/datasets/gauravduttakiit/medical-insurance-cost?select=Train_Data.csv):\n",
    "\n",
    "Скачайте файл с тренировочными данными и оставьте колонку:\n",
    "* `charges` &mdash; стоимость страховки человека."
   ]
  },
  {
   "cell_type": "code",
   "execution_count": null,
   "metadata": {
    "colab": {
     "base_uri": "https://localhost:8080/"
    },
    "id": "yDRHZDuUskMS",
    "outputId": "0b4a932f-c587-4fca-b709-6aaae0c4805e"
   },
   "outputs": [],
   "source": [
    "!unzip /content/archive.zip"
   ]
  },
  {
   "cell_type": "code",
   "execution_count": null,
   "metadata": {
    "colab": {
     "base_uri": "https://localhost:8080/",
     "height": 206
    },
    "id": "6DNvwg1dj_lD",
    "outputId": "aae85201-76d9-49c7-8050-fa45949a2c1f"
   },
   "outputs": [],
   "source": [
    "df = pd.read_csv('Train_Data.csv')\n",
    "df.head()"
   ]
  },
  {
   "cell_type": "markdown",
   "metadata": {
    "id": "nvpeon9Bs3AH"
   },
   "source": [
    "Проведем дополнительный анализ:"
   ]
  },
  {
   "cell_type": "code",
   "execution_count": null,
   "metadata": {
    "colab": {
     "base_uri": "https://localhost:8080/"
    },
    "id": "CjXcwFgOs_81",
    "outputId": "bd0eccc2-345d-4e45-e79b-6dcb7acff4a2"
   },
   "outputs": [],
   "source": [
    "data = df.charges\n",
    "data.shape"
   ]
  },
  {
   "cell_type": "code",
   "execution_count": null,
   "metadata": {
    "colab": {
     "base_uri": "https://localhost:8080/",
     "height": 456
    },
    "id": "WG3hoEOUtDYu",
    "outputId": "c5810ae5-0aaf-40cf-8b80-696fd5e8d0bc"
   },
   "outputs": [],
   "source": [
    "data.hist(bins=60)"
   ]
  },
  {
   "cell_type": "code",
   "execution_count": null,
   "metadata": {
    "colab": {
     "base_uri": "https://localhost:8080/",
     "height": 335
    },
    "id": "z-aCbJRJtGGW",
    "outputId": "79694160-2857-4bcf-c4f3-c7a61ab48622"
   },
   "outputs": [],
   "source": [
    "data.describe()"
   ]
  },
  {
   "cell_type": "markdown",
   "metadata": {
    "id": "2TTIyxjztHnp"
   },
   "source": [
    "**Вывод:**\n",
    "\n",
    "Сразу отметим, что распределение данных здесь явно отличается от нормального, поэтому t-тест вряд ли покажет хорошие результаты.  \n",
    "\n",
    "Также зафиксируем среднее и минимальное значения стоимости страховки."
   ]
  },
  {
   "cell_type": "markdown",
   "metadata": {
    "id": "qbB9qdlREDWc"
   },
   "source": [
    "Министерство здравоохранения хочет провести AB-тест для оценки значимости эффекта от новых рекомендаций по употреблению витаминов и использовать для этого t-test независимых выборок. Ожидается, что новые рекомендации повысят здоровье общества и снизят затраты на страховку. На время тестирования решено выдать рекомендации случайной группе из 1000 людей.\n",
    "\n",
    "**1.**\n",
    "Проведите 2000 случайных AA-тестов для проверки правильности работы t-test. Использовать нужно группы одинакого размера, конечно же, они не должны пересекаться."
   ]
  },
  {
   "cell_type": "code",
   "execution_count": null,
   "metadata": {
    "colab": {
     "base_uri": "https://localhost:8080/"
    },
    "id": "94fDQ9GbEDWc",
    "outputId": "e6a6830e-14b1-446f-a9b2-5b020764a3c3"
   },
   "outputs": [],
   "source": [
    "n_iter = 5000\n",
    "p_vals = []\n",
    "\n",
    "for _ in tqdm(range(n_iter)):\n",
    "    sample = np.random.choice(data.values, 2000, replace=False)\n",
    "\n",
    "    inds1 = np.random.choice(np.arange(2000), 1000, replace=False)\n",
    "    inds2 = list(set(np.arange(2000)) - set(list(inds1)))\n",
    "\n",
    "    s1 = sample[inds1]\n",
    "    s2 = sample[inds2]\n",
    "\n",
    "    _, p_val = sps.ttest_ind(s1, s2)\n",
    "    p_vals.append(p_val)"
   ]
  },
  {
   "cell_type": "markdown",
   "metadata": {
    "id": "e4hRNp5UrVZ2"
   },
   "source": [
    "Вспомните, какое распределение имеет величина p-value в случае, если нулевая гипотеза верна?"
   ]
  },
  {
   "cell_type": "markdown",
   "metadata": {
    "id": "mDOKS4CsrVZ3"
   },
   "source": [
    "**Ответ:**\n",
    "\n",
    "Если нулевая гипотеза верна, то величина p-value имеет равномерное распределение на интервале $[0, 1]$. Это означает, что вероятность получения любого значения p-value внутри этого интервала одинакова."
   ]
  },
  {
   "cell_type": "markdown",
   "metadata": {
    "id": "qkY4s_2EEDWc"
   },
   "source": [
    "Постройте гистограмму значений p-value. Корректно ли работает t-test на ваших данных?"
   ]
  },
  {
   "cell_type": "code",
   "execution_count": null,
   "metadata": {
    "colab": {
     "base_uri": "https://localhost:8080/",
     "height": 456
    },
    "id": "NXqHlq7eEDWd",
    "outputId": "34d66f8d-fc04-4983-b757-81d61b0a99fd"
   },
   "outputs": [],
   "source": [
    "plt.hist(p_vals, bins=50);\n",
    "print('Min p-value: ' + f'{min(p_vals)}')"
   ]
  },
  {
   "cell_type": "markdown",
   "metadata": {
    "id": "sxD_rK80LQmJ"
   },
   "source": [
    "**Вывод:**\n",
    "\n",
    "t-тест не подходит для решения этой задачи, так как p-value имеют равномерное распределение. Это указывает на их случайный характер. Таким образом, использование t-теста для независимых выборок в данной задаче некорректно."
   ]
  },
  {
   "cell_type": "markdown",
   "metadata": {
    "id": "NWAw0FNfEDWd"
   },
   "source": [
    "**2.** Зафиксируйте две выборки одинакового размера: контрольную и тестовую. С помощью проведения AB-теста выясните, какова мощность теста для разных значений эффекта. Схема проведения аналогична предыдущему пункту, но к тестовой группе нужно добавить отрицательное смещение.\n",
    "\n",
    "При добавлении искусственного смещения рекомендуется также добавлять небольшой шум для каждого человека. Поясните, для чего это может быть полезно. Сделайте выводы."
   ]
  },
  {
   "cell_type": "code",
   "execution_count": null,
   "metadata": {
    "colab": {
     "base_uri": "https://localhost:8080/"
    },
    "id": "67yLjbaERIPA",
    "outputId": "4d4d01f2-e381-4843-acdf-bae0b3a053f5"
   },
   "outputs": [],
   "source": [
    "n_iter = 2000\n",
    "alpha = 0.05\n",
    "\n",
    "# количество отвержений H_0\n",
    "n_errors = []\n",
    "shifts = np.linspace(0, 3000, 51)\n",
    "\n",
    "for loc in tqdm(shifts):\n",
    "    n_errors.append(0)\n",
    "    for _ in range(n_iter):\n",
    "        sample = np.random.choice(data.values, 2000, replace=False)\n",
    "\n",
    "        inds1 = np.random.choice(np.arange(2000), 1000, replace=False)\n",
    "        inds2 = list(set(np.arange(2000)) - set(list(inds1)))\n",
    "\n",
    "        s1 = sample[inds1]\n",
    "        s2 = sample[inds2]\n",
    "\n",
    "        noise = sps.norm.rvs(size=1000) * 10\n",
    "\n",
    "        x = s1\n",
    "        y = s2 - loc + noise\n",
    "\n",
    "        _, p_val = sps.ttest_ind(x, y)\n",
    "        n_errors[-1] += p_val < alpha"
   ]
  },
  {
   "cell_type": "code",
   "execution_count": null,
   "metadata": {
    "colab": {
     "base_uri": "https://localhost:8080/",
     "height": 506
    },
    "id": "LwCKeYU5ua0k",
    "outputId": "c66d3886-c3ca-4a82-cf7f-69bbca7003d8"
   },
   "outputs": [],
   "source": [
    "plt.plot(-shifts, np.array(n_errors)/n_iter, lw=3)\n",
    "\n",
    "plt.title('Мощность t-test')\n",
    "plt.xlabel('Смещение')\n",
    "plt.ylabel('Мощность')"
   ]
  },
  {
   "cell_type": "markdown",
   "metadata": {
    "id": "ZH3llScELQ_n"
   },
   "source": [
    "**Вывод:**\n",
    "\n",
    "Мощность теста в целом показывает адекватное поведение.  \n",
    "\n",
    "Она достигает значения 1 при отклонении около 2500, что составляет примерно 20% от среднего значения по выборке — это вполне неплохо.  \n",
    "\n",
    "Однако минимальная стоимость страховки составляет 1122 единицы, поэтому для таких страховок тест может не обнаружить разницу. Цена не может стать отрицательной, максимум снизится на 5–10%. А для таких небольших изменений мощность остается низкой."
   ]
  },
  {
   "cell_type": "markdown",
   "metadata": {
    "id": "1PSBe1LKrVZ4"
   },
   "source": [
    "## Задача 3\n"
   ]
  },
  {
   "cell_type": "markdown",
   "metadata": {
    "id": "E7GvwFhC2MXK"
   },
   "source": [
    "### **Профиль биология**\n",
    "\n",
    "\n",
    "Рассмотрим [данные о расстройствах сна](https://www.kaggle.com/datasets/uom190346a/sleep-health-and-lifestyle-dataset?select=Sleep_health_and_lifestyle_dataset.csv):\n",
    "\n",
    "Датасет содержит информацию об образе жизни людей, целевая переменная — есть ли у них расстройство сна.\n",
    "\n",
    "С помощью методов дисперсионного анализа исследуйте, по каким параметрам наблюдается различие между двумя рассматриваемыми классами (теми, у кого есть расстройство сна, и теми, у кого нет). При возможности оцените также степень различия, в т.ч. доверительный интервал.\n",
    "\n",
    "Скачайте файл и оставьте колонки:\n",
    "* `Age` &mdash; возраст;\n",
    "* `Sleep Duration` &mdash; длительность сна;\n",
    "* `Physical Activity Level` &mdash; уровень физической активности;\n",
    "* `Heart Rate` &mdash; ЧСС;\n",
    "* `Daily Steps` &mdash; число пройденных шагов в день;\n",
    "* `Sleep Disorder` &mdash; целевая переменная."
   ]
  },
  {
   "cell_type": "code",
   "execution_count": null,
   "metadata": {
    "colab": {
     "base_uri": "https://localhost:8080/"
    },
    "id": "jfTJQiAyurFr",
    "outputId": "0eed6240-7df2-47e4-c7f3-a7336d63a1f4"
   },
   "outputs": [],
   "source": [
    "!unzip /content/archive_1.zip"
   ]
  },
  {
   "cell_type": "code",
   "execution_count": null,
   "metadata": {
    "id": "HNoVq5Kc1eei"
   },
   "outputs": [],
   "source": [
    "data = pd.read_csv('Sleep_health_and_lifestyle_dataset.csv')"
   ]
  },
  {
   "cell_type": "code",
   "execution_count": null,
   "metadata": {
    "id": "I16fRLfO4_bO"
   },
   "outputs": [],
   "source": [
    "columns = ['Age', 'Sleep Duration', 'Physical Activity Level',\n",
    "           'Heart Rate', 'Daily Steps', 'Sleep Disorder']"
   ]
  },
  {
   "cell_type": "code",
   "execution_count": null,
   "metadata": {
    "colab": {
     "base_uri": "https://localhost:8080/",
     "height": 423
    },
    "id": "Y5J632Lr4XZi",
    "outputId": "9c779759-d6e2-43aa-969f-15e193764581"
   },
   "outputs": [],
   "source": [
    "data = data[columns]\n",
    "data"
   ]
  },
  {
   "cell_type": "markdown",
   "metadata": {
    "id": "C-UOXpgAJffG"
   },
   "source": [
    "Для упрощения задачи не будем рассматривать вид расстройства сна &mdash; только есть оно или нет."
   ]
  },
  {
   "cell_type": "code",
   "execution_count": null,
   "metadata": {
    "colab": {
     "base_uri": "https://localhost:8080/",
     "height": 423
    },
    "id": "Z5Qm4AvA-4HU",
    "outputId": "18851cf8-7822-4429-c5ec-a11556d09904"
   },
   "outputs": [],
   "source": [
    "dis = data.loc[:, 'Sleep Disorder'].copy()\n",
    "\n",
    "dis[data['Sleep Disorder'].isna()] = 'Order'\n",
    "dis[~data['Sleep Disorder'].isna()] = 'Disorder'\n",
    "\n",
    "data['Sleep Disorder'] = dis\n",
    "data"
   ]
  },
  {
   "cell_type": "markdown",
   "metadata": {
    "id": "hLNZZMKmw0aN"
   },
   "source": [
    "Визуализируйте распределение признаков при разных значениях целевой переменной (например, с помощью pairplot)"
   ]
  },
  {
   "cell_type": "code",
   "execution_count": null,
   "metadata": {
    "colab": {
     "base_uri": "https://localhost:8080/",
     "height": 1000
    },
    "id": "KaOdTGph1wYm",
    "outputId": "70deb5b7-d3ef-4130-9295-9eecffa823f6"
   },
   "outputs": [],
   "source": [
    "sns.pairplot(data, kind='kde', hue='Sleep Disorder')"
   ]
  },
  {
   "cell_type": "markdown",
   "metadata": {
    "id": "IlBozDb60c6O"
   },
   "source": [
    "Насколько сильно отличаются распределения между классами? Есть ли очевидные отличия, сдвиг?\n",
    "\n",
    "**Вывод:**\n",
    "\n",
    "Наблюдается заметный сдвиг в продолжительности сна. Возраст также значительно изменён. При расстройствах частота сердечных сокращений явно ниже."
   ]
  },
  {
   "cell_type": "markdown",
   "metadata": {
    "id": "8dG2uhWtqOsR"
   },
   "source": [
    "Оцените, по каким признакам различаются классы, степень различия (сдвиг) и доверительный интервал сдвига. В качестве доверительного интервала используйте бутстрепный квантильный. Объясните выбор статистического теста.\n",
    "\n",
    "*Подсказка*: выбирая статистический тест и интерпретируя результаты, помните о нулевой гипотезе и мощности. Например, немного об этом в контексте АВ тестов можно почитать [здесь](https://https://habr.com/ru/companies/avito/articles/709596/)."
   ]
  },
  {
   "cell_type": "code",
   "execution_count": null,
   "metadata": {
    "id": "1z4aJ9EAjCNd"
   },
   "outputs": [],
   "source": [
    "def shift(x, y):\n",
    "    '''\n",
    "    Вычисление оценки параметра сдвига из критерия ранговых сумм Уилкоксона\n",
    "    '''\n",
    "\n",
    "    W = [y[j] - x[i] for i in range(len(x)) for j in range(len(y))]\n",
    "    return np.median(W)\n",
    "\n",
    "def estimator(sample, axis=0):\n",
    "    return np.median(sample, axis=axis)\n",
    "\n",
    "def bootstrap(sample, B=10_000):\n",
    "    '''\n",
    "    Реализует процедуру бутстрепа.\n",
    "\n",
    "    :param sample: исходная выборка, по которой будут вычисляться бутстрепные оценки\n",
    "    :param B: число бутстрепных оценок\n",
    "    :return: возвращает массив длины B c бутстрепными оценками\n",
    "    '''\n",
    "\n",
    "    n = len(sample)  # длина выборки\n",
    "    b_samples = np.random.choice(sample, size=(B, n), replace=True)\n",
    "    b_stats = estimator(b_samples, axis=1)\n",
    "    return b_stats\n",
    "\n",
    "def boostrap_quantile_confidence_interval(sample, alpha=0.95):\n",
    "    '''\n",
    "    Вычисляет бутстрепный доверительный интервал для квантиля.\n",
    "\n",
    "    :param sample: массив исходной выборки\n",
    "    :param alpha: уровень доверия (по умолчанию 0.95)\n",
    "    :return: кортеж с нижней и верхней границами доверительного интервала, округлёнными до 5 знаков\n",
    "    '''\n",
    "\n",
    "    bootstrap_estimations = np.sort(bootstrap(sample))\n",
    "    B = 10_000\n",
    "    up_ind = np.ceil(B * (1 + alpha) / 2).astype('int32')\n",
    "    down_ind = int(B * (1 - alpha) / 2)\n",
    "    up = bootstrap_estimations[up_ind-1]\n",
    "    down = bootstrap_estimations[down_ind-1]\n",
    "    return (round(down, 5), round(up, 5))\n",
    "\n",
    "def estimation(data, target, feature, p_values, shifts, ci_lefts, ci_rights, alpha=0.05):\n",
    "    '''\n",
    "    Вычисление оценки параметра сдвига, бутстрепного доверительного интервала для него, а также величины p-value.\n",
    "\n",
    "    Аргументы:\n",
    "    data -- pd.DataFrame данных эксперимента\n",
    "    target -- название колонки, содержащей информацию о группе (A/B)\n",
    "    feature -- название колонки с переменной, по которой проводим сравнение между группами\n",
    "    p_values -- массив для сохранения величины p-value\n",
    "    shifts -- массив для сохранения величины параметра сдвига\n",
    "    ci_lefts -- массив для сохранения величины левой границы доверительного интервала\n",
    "    ci_rights -- массив для сохранения величины правой границы доверительного интервала\n",
    "    alpha -- уровень значимости\n",
    "    '''\n",
    "\n",
    "    x = feature.values\n",
    "    y = target.values\n",
    "\n",
    "    p_values.append(sps.mannwhitneyu(x, y)[-1])\n",
    "\n",
    "    shifts.append(shift(x, y))\n",
    "\n",
    "    ci_bootst = boostrap_quantile_confidence_interval((y - x.reshape(-1, 1)).reshape(-1), alpha=0.95) # бутстрепный доверительный интервал\n",
    "    ci_lefts.append(ci_bootst[0])\n",
    "    ci_rights.append(ci_bootst[1])"
   ]
  },
  {
   "cell_type": "code",
   "execution_count": null,
   "metadata": {
    "colab": {
     "base_uri": "https://localhost:8080/"
    },
    "id": "h6mkiLrIQgoi",
    "outputId": "c6079fd1-4250-4d14-e894-873e57986340"
   },
   "outputs": [],
   "source": [
    "p_values, shifts, ci_lefts, ci_rights = [], [], [], []\n",
    "for column in tqdm(columns[:-1]):\n",
    "    estimation(data, data[column][data['Sleep Disorder']=='Order'], data[column][data['Sleep Disorder']=='Disorder'],\n",
    "               p_values, shifts, ci_lefts, ci_rights, alpha=0.05)"
   ]
  },
  {
   "cell_type": "code",
   "execution_count": null,
   "metadata": {
    "id": "W6hS7JWKmYje"
   },
   "outputs": [],
   "source": [
    "results = {'feature': columns[:-1],\n",
    "           'p_value': p_values,\n",
    "           'shift': shifts,\n",
    "           'ci_left': ci_lefts,\n",
    "           'ci_right': ci_rights}\n",
    "results = pd.DataFrame(results)"
   ]
  },
  {
   "cell_type": "code",
   "execution_count": null,
   "metadata": {
    "colab": {
     "base_uri": "https://localhost:8080/",
     "height": 206
    },
    "id": "Eh-aNYe-ozzX",
    "outputId": "c9df306c-65c4-4b3b-aa9a-2b9326eeac70"
   },
   "outputs": [],
   "source": [
    "results"
   ]
  },
  {
   "cell_type": "markdown",
   "metadata": {
    "id": "zn8N0aW31fnB"
   },
   "source": [
    "*Замечание.* Строго говоря, необходима поправка на множественное тестирование\n",
    "\n",
    "Какой тест вы использовали и почему? Какие выводы можно сделать по p-value? Как доверительный интервал соотносится с этими выводами?\n",
    "\n",
    "**Вывод:**\n",
    "\n",
    "Для анализа использовали тест Манна-Уитни, поскольку распределения данных не похожи на нормальные, а выборки независимые (группы людей с расстройством и без него разные).  \n",
    "\n",
    "Сдвиг выявлен для возраста, продолжительности сна и частоты сердечных сокращений. Это подтверждается крайне низкими значениями p-value и доверительными интервалами, которые полностью соответствуют оценкам сдвига.  \n",
    "\n",
    "Для уровня физической активности как сдвиг оказался равен нулю, так и p-value > 0.05, поэтому различий не обнаружено.  \n",
    "\n",
    "В случае Daily steps наблюдается сдвиг, однако доверительный интервал слишком широкий, а p-value > 0.05. Поэтому нулевую гипотезу в данном случае отклонить нельзя."
   ]
  }
 ],
 "metadata": {
  "colab": {
   "provenance": []
  },
  "kernelspec": {
   "display_name": "Python 3 (ipykernel)",
   "language": "python",
   "name": "python3"
  },
  "language_info": {
   "codemirror_mode": {
    "name": "ipython",
    "version": 3
   },
   "file_extension": ".py",
   "mimetype": "text/x-python",
   "name": "python",
   "nbconvert_exporter": "python",
   "pygments_lexer": "ipython3",
   "version": "3.10.9"
  }
 },
 "nbformat": 4,
 "nbformat_minor": 0
}
