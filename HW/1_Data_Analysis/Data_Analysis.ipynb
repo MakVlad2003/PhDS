{
 "cells": [
  {
   "cell_type": "markdown",
   "metadata": {
    "id": "9FPTr3p2DL4B"
   },
   "source": [
    "# ML в Биологии\n",
    "## 1. Анализ данных"
   ]
  },
  {
   "cell_type": "code",
   "execution_count": null,
   "metadata": {
    "colab": {
     "base_uri": "https://localhost:8080/"
    },
    "id": "rap_H2mSVrSx",
    "outputId": "a2dc851e-e8ce-4cd0-d826-65c3802fbcc7"
   },
   "outputs": [],
   "source": [
    "!pip install torchviz"
   ]
  },
  {
   "cell_type": "code",
   "execution_count": null,
   "metadata": {
    "colab": {
     "base_uri": "https://localhost:8080/"
    },
    "id": "ESGsfTQiMZ2a",
    "outputId": "6e649ed4-71f9-42fe-b3b7-9da71ff34009"
   },
   "outputs": [],
   "source": [
    "import torchviz\n",
    "\n",
    "import numpy as np\n",
    "import pandas as pd\n",
    "import matplotlib.pyplot as plt\n",
    "import seaborn as sns\n",
    "\n",
    "import torch\n",
    "from torch.autograd import grad\n",
    "from torch import nn\n",
    "from torch.utils.data import Dataset\n",
    "from sklearn.metrics import precision_recall_fscore_support as all_metrics\n",
    "from sklearn.metrics import accuracy_score, roc_auc_score\n",
    "from tqdm.autonotebook import trange, tqdm\n",
    "\n",
    "from collections import defaultdict\n",
    "\n",
    "from sklearn.preprocessing import LabelBinarizer, StandardScaler\n",
    "from sklearn.model_selection import train_test_split\n",
    "\n",
    "from IPython.display import clear_output"
   ]
  },
  {
   "cell_type": "code",
   "execution_count": null,
   "metadata": {
    "id": "8Wh6SdHK56xF"
   },
   "outputs": [],
   "source": [
    "sns.set(palette='Set2', font_scale=1.2)\n",
    "%matplotlib inline"
   ]
  },
  {
   "cell_type": "markdown",
   "metadata": {
    "id": "8NAj6T0XMX_i"
   },
   "source": [
    "### Задача 1. Дифференцирование\n",
    "\n",
    "Для функции\n",
    "\n",
    "$$ f(x, y, z)=\\left(\\frac{y^4}{1+e^{-x}}\\right)^3 + z$$\n",
    "\n",
    "С помощью Pytorch:\n",
    "\n",
    "- постройте вычислительный граф с возможностью считать производные по x, y.\n",
    "\n",
    "- выведите все узлы полученного графа и их атрибуты (рассмотренные на лекции)\n",
    "\n",
    "- объясните, почему атрибуты принимают такие значения\n",
    "\n",
    "Для точки (1, 3, 2):\n",
    "\n",
    "- посчитайте для функции все возможные первые частные производные методом backward()\n",
    "\n",
    "- посчитайте для функции все возможные вторые частные производные"
   ]
  },
  {
   "cell_type": "markdown",
   "metadata": {
    "id": "2MNWEzbISKqp"
   },
   "source": [
    "Импорт библиотек:"
   ]
  },
  {
   "cell_type": "code",
   "execution_count": null,
   "metadata": {
    "id": "1Xgo53TiRPfp"
   },
   "outputs": [],
   "source": [
    "import torch\n",
    "from torchviz import make_dot"
   ]
  },
  {
   "cell_type": "markdown",
   "metadata": {
    "id": "9Ic3GuJkS3Y2"
   },
   "source": [
    "Построим вычислительный граф для заданной функции:"
   ]
  },
  {
   "cell_type": "code",
   "execution_count": null,
   "metadata": {
    "id": "iiEjwV6QS7fz"
   },
   "outputs": [],
   "source": [
    "x = torch.tensor(1, requires_grad=True, dtype=torch.float)\n",
    "y = torch.tensor(3, requires_grad=True, dtype=torch.float)\n",
    "z = torch.tensor(2, requires_grad=True, dtype=torch.float)"
   ]
  },
  {
   "cell_type": "code",
   "execution_count": null,
   "metadata": {
    "id": "GW9g8cw8TH03"
   },
   "outputs": [],
   "source": [
    "f = (y**4 / (1 + torch.exp(-x)))**3 + z"
   ]
  },
  {
   "cell_type": "code",
   "execution_count": null,
   "metadata": {
    "colab": {
     "base_uri": "https://localhost:8080/",
     "height": 703
    },
    "id": "wcmAo2FcTQTo",
    "outputId": "5eada215-5fb9-4aa0-aef0-d26810097cfe"
   },
   "outputs": [],
   "source": [
    "make_dot(f, params={'x': x, 'y': y, 'z' : z, 'f': f})"
   ]
  },
  {
   "cell_type": "markdown",
   "metadata": {
    "id": "k0nfE3prTbPt"
   },
   "source": [
    "Из данного графа мы сможем увидеть порядок вычисления производной функции f по правилу взятия производной от сложной функции."
   ]
  },
  {
   "cell_type": "markdown",
   "metadata": {
    "id": "s-DOah0uTzBk"
   },
   "source": [
    "Выведем все узлы полученного графа и их атрибуты:"
   ]
  },
  {
   "cell_type": "code",
   "execution_count": null,
   "metadata": {
    "colab": {
     "base_uri": "https://localhost:8080/"
    },
    "id": "cjTPIvl7UKvs",
    "outputId": "ca0ee963-61c4-489d-b79a-e65eeda1d635"
   },
   "outputs": [],
   "source": [
    "print('Атрибуты для функции f:\\n')\n",
    "print(f'Значение функции в точке (1, 3, 2): {f.item()}')\n",
    "print(f'Функция вычисления градиента (последняя): {f.grad_fn}')\n",
    "print(f'Следит ли PyTorch за градиентами этого тензора: {f.requires_grad}')\n",
    "print(f'Является ли листом графа? Если нет - вершина: {f.is_leaf}')\n",
    "\n",
    "print('\\nАтрибуты для x:\\n')\n",
    "print(f'Значение x: {x.item()}')\n",
    "print(f'Градиент для x (пока None): {x.grad}')\n",
    "print(f'Функция вычисления градиента для x: {x.grad_fn}')\n",
    "print(f'Является ли x листом вычислительного графа: {x.is_leaf}')"
   ]
  },
  {
   "cell_type": "markdown",
   "metadata": {
    "id": "qMFyy8ZiXt1Z"
   },
   "source": [
    "Вычисление первых производных:"
   ]
  },
  {
   "cell_type": "code",
   "execution_count": null,
   "metadata": {
    "id": "j3TqyaiGVjNf"
   },
   "outputs": [],
   "source": [
    "f.backward()"
   ]
  },
  {
   "cell_type": "markdown",
   "metadata": {
    "id": "B-Azx9gAXx0r"
   },
   "source": [
    "Вывод градиентов (первых производных):"
   ]
  },
  {
   "cell_type": "code",
   "execution_count": null,
   "metadata": {
    "colab": {
     "base_uri": "https://localhost:8080/"
    },
    "id": "RzhwvZWjVjWd",
    "outputId": "1371c9af-18d9-4ad2-bd27-d34bd11f6920"
   },
   "outputs": [],
   "source": [
    "print(f'Градиенты: \\n ∂f/∂x = {x.grad.item()}, ∂f/∂y = {y.grad.item()}, ∂f/∂z = {z.grad.item()}')"
   ]
  },
  {
   "cell_type": "markdown",
   "metadata": {
    "id": "Cb3-TtOXYcc7"
   },
   "source": [
    "Сброс градиентов для дальнейших вычислений:"
   ]
  },
  {
   "cell_type": "code",
   "execution_count": null,
   "metadata": {
    "colab": {
     "base_uri": "https://localhost:8080/"
    },
    "id": "IdDBYjzzYZ5M",
    "outputId": "aa2320b7-cfb1-4765-9c61-442236549de8"
   },
   "outputs": [],
   "source": [
    "x.grad.zero_()\n",
    "y.grad.zero_()\n",
    "z.grad.zero_()"
   ]
  },
  {
   "cell_type": "markdown",
   "metadata": {
    "id": "wiYxkDqtYhaW"
   },
   "source": [
    "Явные выражения для первых производных:"
   ]
  },
  {
   "cell_type": "code",
   "execution_count": null,
   "metadata": {
    "id": "tz3ySbMIVjfQ"
   },
   "outputs": [],
   "source": [
    "fx = 3 * y ** 12 * torch.exp(-x) / ((1 + torch.exp(-x)) ** 4)\n",
    "fy = 12 * y ** 11 / ((1 + torch.exp(-x)) ** 3)"
   ]
  },
  {
   "cell_type": "markdown",
   "metadata": {
    "id": "NiWt06upYlod"
   },
   "source": [
    "Вычисление вторых производных:"
   ]
  },
  {
   "cell_type": "code",
   "execution_count": null,
   "metadata": {
    "colab": {
     "base_uri": "https://localhost:8080/"
    },
    "id": "PSQWJoPCVjm2",
    "outputId": "61239187-099f-4579-ef7b-ec7f411116ad"
   },
   "outputs": [],
   "source": [
    "fx.backward()\n",
    "print(f'Вторые производные: \\n ∂²f/∂x² = {x.grad.item()}, ∂²f/∂x∂y = {y.grad.item()}')\n",
    "\n",
    "x.grad.zero_()\n",
    "y.grad.zero_()\n",
    "\n",
    "fy.backward()\n",
    "print(f'∂²f/∂y∂x = {x.grad.item()}, ∂²f/∂y² = {y.grad.item()}')"
   ]
  },
  {
   "cell_type": "markdown",
   "metadata": {
    "id": "QgHTXFWmbN12"
   },
   "source": [
    "### Задача 2."
   ]
  },
  {
   "cell_type": "markdown",
   "metadata": {
    "id": "dVf3uScx95tj"
   },
   "source": [
    "**Далее идёт предобработка биологического датасета, которую можно удалить, если вы работаете с физическим. После этого блока (см. ниже) идёт общая часть с созданием, обучением и тестированием нейросети.**"
   ]
  },
  {
   "cell_type": "markdown",
   "metadata": {
    "id": "uehpM9ZNRRKo"
   },
   "source": [
    "#### Профиль биология\n",
    "\n",
    "Скачайте [датасет](https://disk.yandex.ru/d/FVoQGn5q1td7Vw), описывающий влияние курения и алкоголя на человека. Создайте и обучите нейросеть, разделяющую эти два класса.\n",
    "\n",
    "[Описание датасета](https://www.kaggle.com/datasets/sooyoungher/smoking-drinking-dataset)"
   ]
  },
  {
   "cell_type": "code",
   "execution_count": null,
   "metadata": {
    "colab": {
     "base_uri": "https://localhost:8080/"
    },
    "id": "P2EAzmxq8XPM",
    "outputId": "c562c6cd-a9ff-4a4c-cdc4-3d872f68d26c"
   },
   "outputs": [],
   "source": [
    "!unzip /content/smoking_driking_dataset.zip"
   ]
  },
  {
   "cell_type": "code",
   "execution_count": null,
   "metadata": {
    "colab": {
     "base_uri": "https://localhost:8080/",
     "height": 255
    },
    "id": "E8FRjWEDaedD",
    "outputId": "0768033c-64b3-456a-bebb-e56988f37676"
   },
   "outputs": [],
   "source": [
    "df = pd.read_csv('smoking_driking_dataset_Ver01.csv')\n",
    "df.head()"
   ]
  },
  {
   "cell_type": "code",
   "execution_count": null,
   "metadata": {
    "colab": {
     "base_uri": "https://localhost:8080/"
    },
    "id": "MNJHySKhawzU",
    "outputId": "d959dba0-a0ec-4b4e-ecc9-4f129f0e0b5b"
   },
   "outputs": [],
   "source": [
    "df.info()"
   ]
  },
  {
   "cell_type": "markdown",
   "metadata": {
    "id": "C4ikTNwHIsTj"
   },
   "source": [
    "Видно, что объекты класса `'sex'` принадлежат типу `'object'`. Заменим `Male` на 1, `Female` на 0:"
   ]
  },
  {
   "cell_type": "code",
   "execution_count": null,
   "metadata": {
    "colab": {
     "base_uri": "https://localhost:8080/",
     "height": 429
    },
    "id": "hVEQpUT19Lmb",
    "outputId": "b0eb50d6-6d50-4f51-945e-992e43706fcd"
   },
   "outputs": [],
   "source": [
    "df['sex'][df['sex'] == 'Male'] = 1\n",
    "df['sex'][df['sex'] == 'Female'] = 0\n",
    "df.head()"
   ]
  },
  {
   "cell_type": "markdown",
   "metadata": {
    "id": "3qHvZ5Ouuspf"
   },
   "source": [
    "Проанализируйте датасет, разделяя его по:\n",
    "* курит &mdash; 3\n",
    "* курил, но бросил &mdash; 2\n",
    "* никогда не курил &mdash; 1"
   ]
  },
  {
   "cell_type": "markdown",
   "metadata": {
    "id": "W_XgAfIPJg2o"
   },
   "source": [
    "Проведем поверхностный анализ, построив гистограмму:"
   ]
  },
  {
   "cell_type": "code",
   "execution_count": null,
   "metadata": {
    "id": "Z71SBlgRJkAV"
   },
   "outputs": [],
   "source": [
    "smokers = df[df.SMK_stat_type_cd == 3].shape[0]\n",
    "past_smokers = df[df.SMK_stat_type_cd == 2].shape[0]\n",
    "no_smokers = df[df.SMK_stat_type_cd == 1].shape[0]\n",
    "\n",
    "labels = ['smokers', 'past_smokers', 'no_smokers']\n",
    "values = [smokers, past_smokers, no_smokers]"
   ]
  },
  {
   "cell_type": "code",
   "execution_count": null,
   "metadata": {
    "colab": {
     "base_uri": "https://localhost:8080/",
     "height": 565
    },
    "id": "3_vy9tTZKtLQ",
    "outputId": "404201d9-6eae-4422-f99a-8eb3d0b0a6d2"
   },
   "outputs": [],
   "source": [
    "sns.barplot(x = labels, y = values, palette = ['blue', 'green', 'orange'])\n",
    "plt.title('Smoking Status Distribution')"
   ]
  },
  {
   "cell_type": "markdown",
   "metadata": {
    "id": "Wrn2mnwfQQBG"
   },
   "source": [
    "**Вывод:**\n",
    "\n",
    "Так как нам предстоит проклассифицировать людей с плохими привычками и без них, то нам нужно будет решить задачу бинарной классификации. Исходя из поверхностного анализа, предлагаю объединить курильщиков и бывших курильщиков в одну группу. Тогда наши классы будут вполне всбалансированы."
   ]
  },
  {
   "cell_type": "markdown",
   "metadata": {
    "id": "9f4jgeTtk59Q"
   },
   "source": [
    "Попробуем классифицировать людей с плохими привычками и без них. Для этого создайте дополнительный столбец в таблице, который будет содержать информацию о том, имеет ли человек вредные привычки или нет."
   ]
  },
  {
   "cell_type": "markdown",
   "metadata": {
    "id": "SgzPg11vRJ2J"
   },
   "source": [
    "**Невероятно, но факт:** употребление алкоголя/пьянство - это плохая привычка!\n",
    "\n",
    "Поэтому предлагаю создать столбец `Bad_habits` следующим образом:\n",
    "\n",
    "*   Пьющие, курящие и бросившие курить люди - `True`\n",
    "*   Непьющие и некурящие - `False`"
   ]
  },
  {
   "cell_type": "code",
   "execution_count": null,
   "metadata": {
    "colab": {
     "base_uri": "https://localhost:8080/",
     "height": 550
    },
    "id": "dhV6WxMG9ZB7",
    "outputId": "2b565e44-732f-4bb2-b653-aa7d9db3104c"
   },
   "outputs": [],
   "source": [
    "df['SMK_stat_type_cd'][df['SMK_stat_type_cd'] == 1] = False\n",
    "df['SMK_stat_type_cd'][df['SMK_stat_type_cd'] == 2] = True\n",
    "df['SMK_stat_type_cd'][df['SMK_stat_type_cd'] == 3] = True\n",
    "\n",
    "df['DRK_YN'][df['DRK_YN'] == 'Y'] = True\n",
    "df['DRK_YN'][df['DRK_YN'] == 'N'] = False\n",
    "\n",
    "df['Bad_habits'] = df['SMK_stat_type_cd'] | df['DRK_YN']\n",
    "\n",
    "df.head()"
   ]
  },
  {
   "cell_type": "markdown",
   "metadata": {
    "id": "G9-eDwLSnPbd"
   },
   "source": [
    "Теперь смотрим на разделение по привычкам"
   ]
  },
  {
   "cell_type": "code",
   "execution_count": null,
   "metadata": {
    "colab": {
     "base_uri": "https://localhost:8080/",
     "height": 565
    },
    "id": "JeBMMW8H9dkD",
    "outputId": "430969e5-12b3-4037-8b0f-12e07b6409ff"
   },
   "outputs": [],
   "source": [
    "bad = df[df.Bad_habits == 1].shape[0]\n",
    "good = df[df.Bad_habits == 0].shape[0]\n",
    "\n",
    "labels = ['Bad_habits', 'Good_habits']\n",
    "\n",
    "sns.barplot(x = labels, y = [bad, good], palette = ['green', 'orange'])\n",
    "plt.title('Habitis Status Distribution')"
   ]
  },
  {
   "cell_type": "markdown",
   "metadata": {
    "id": "WGhtMXA9T5eV"
   },
   "source": [
    "**Вывод:**\n",
    "\n",
    "Сильного дисбаланса не наблюдается. Жить можно."
   ]
  },
  {
   "cell_type": "markdown",
   "metadata": {
    "id": "gLKIv5opel5K"
   },
   "source": [
    "Какие признаки вы бы использовали для разделения людей по классам? Выберите эти столбцы и создайте наборы train и test с помощью функции train_test_split, а также выделите набор данных для валидации при обучении."
   ]
  },
  {
   "cell_type": "markdown",
   "metadata": {
    "id": "MEbkC4d8UKb0"
   },
   "source": [
    "Так как фичей у нас не очень много, то можно посмотреть на матрицу корреляций между признакми, где особое внимание обратим на корреляцию столбца `True` с остальными признаками:"
   ]
  },
  {
   "cell_type": "code",
   "execution_count": null,
   "metadata": {
    "colab": {
     "base_uri": "https://localhost:8080/",
     "height": 1000
    },
    "id": "bcUqqdZxcwN-",
    "outputId": "01046286-4143-4e78-e527-3fe6adc915ef"
   },
   "outputs": [],
   "source": [
    "corr = df[df.columns].corr()\n",
    "\n",
    "plt.figure(figsize = (15, 12))\n",
    "\n",
    "sns.heatmap(corr, xticklabels = corr.columns.values, yticklabels = corr.columns.values)"
   ]
  },
  {
   "cell_type": "markdown",
   "metadata": {
    "id": "GbyeWBoBXgwP"
   },
   "source": [
    "Выведем списки корреляций признаков со столбцом `Bad_habits`:"
   ]
  },
  {
   "cell_type": "code",
   "execution_count": null,
   "metadata": {
    "colab": {
     "base_uri": "https://localhost:8080/"
    },
    "id": "hiEPC00DXzZe",
    "outputId": "fb3272c8-25c8-4e65-cb8b-573cffdd7ba2"
   },
   "outputs": [],
   "source": [
    "cor = df.corr()['Bad_habits']\n",
    "\n",
    "# Сильная корреляция (0.7 <= r)\n",
    "strong = cor[abs(cor) >= 0.7].index.tolist()\n",
    "\n",
    "# Средняя корреляция (0.5 <= r < 0.7)\n",
    "medium = cor[(abs(cor) >= 0.5) & (abs(cor) < 0.7)].index.tolist()\n",
    "\n",
    "# Умеренная корреляция (0.3 <= r < 0.5)\n",
    "moderate = cor[(abs(cor) >= 0.3) & (abs(cor) < 0.5)].index.tolist()\n",
    "\n",
    "# Слабая корреляция (0.2 <= r < 0.3)\n",
    "weak = cor[(abs(cor) >= 0.2) & (abs(cor) < 0.3)].index.tolist()\n",
    "\n",
    "# Очень слабая корреляция (r < 0.2)\n",
    "so_weak = cor[abs(cor) < 0.2].index.tolist()\n",
    "\n",
    "print('Сильная корреляция:', strong)\n",
    "print('Средняя корреляция:', medium)\n",
    "print('Умеренная корреляция:', moderate)\n",
    "print('Слабая корреляция:', weak)\n",
    "print('Очень слабая корреляция:', so_weak)"
   ]
  },
  {
   "cell_type": "markdown",
   "metadata": {
    "id": "VHU8So5UYIP6"
   },
   "source": [
    "В качестве фичей возьмем фичи, обладающие слабой и средней корреляцией. `SMK_stat_type_cd` не будем учитывать так как ранее мы использовали это для анализа людей с плохими привычками. Посмотрим на их KDE:"
   ]
  },
  {
   "cell_type": "code",
   "execution_count": null,
   "metadata": {
    "colab": {
     "base_uri": "https://localhost:8080/",
     "height": 357
    },
    "id": "sk3STxvEeR9-",
    "outputId": "038b0101-06ea-4bcf-92ec-23bbefc81418"
   },
   "outputs": [],
   "source": [
    "plt.figure(figsize = (20, 5))\n",
    "\n",
    "features = ['sex', 'height', 'weight', 'hemoglobin', 'age']\n",
    "for i, feature in enumerate(features):\n",
    "    plt.subplot(1, len(features), i + 1)\n",
    "    if feature == 'sex':\n",
    "        sns.histplot(data = df, x = feature, hue = 'Bad_habits', multiple = 'stack', stat = 'density', alpha = 0.5)\n",
    "        plt.title(f'Гистограмма для {feature} по Bad_habits')\n",
    "    else:\n",
    "        sns.kdeplot(data = df, x = feature, hue = 'Bad_habits', fill = True)\n",
    "        plt.title(f'KDE для {feature} по Bad_habits')\n",
    "\n",
    "plt.tight_layout()\n",
    "plt.show()"
   ]
  },
  {
   "cell_type": "markdown",
   "metadata": {
    "id": "F58sFsF-iiOF"
   },
   "source": [
    "Попробоум провести дальнейший анализ на этих фичах."
   ]
  },
  {
   "cell_type": "code",
   "execution_count": null,
   "metadata": {
    "id": "trgCeGLziykZ"
   },
   "outputs": [],
   "source": [
    "data_features = df[features]\n",
    "target = df['Bad_habits'].astype(int)\n",
    "\n",
    "X_train, X_test_valid, y_train, y_test_valid = train_test_split(\n",
    "    data_features, target, test_size = 0.2, random_state = 42\n",
    ")\n",
    "\n",
    "X_valid, X_test, y_valid, y_test = train_test_split(\n",
    "    X_test_valid, y_test_valid, test_size = 0.5, random_state = 42)"
   ]
  },
  {
   "cell_type": "markdown",
   "metadata": {
    "id": "xuPQOf5HAUIA"
   },
   "source": [
    "#### Общая часть"
   ]
  },
  {
   "cell_type": "markdown",
   "metadata": {
    "id": "w42PMWrUmInz"
   },
   "source": [
    "Предлагаю в качесвте уелевой метрики использовать ROC AUC как классическую для задачи бинарной классификации. А в качесвте функции потерь - Binary Cross Entropy."
   ]
  },
  {
   "cell_type": "code",
   "execution_count": null,
   "metadata": {
    "id": "dPrD9dlrEKLL"
   },
   "outputs": [],
   "source": [
    "class_lim_proba = 0.5 # критерий принадлежности к тому или иному классу"
   ]
  },
  {
   "cell_type": "markdown",
   "metadata": {
    "id": "dW6vXt5FHnW3"
   },
   "source": [
    "Стандартизируйте данные"
   ]
  },
  {
   "cell_type": "code",
   "execution_count": null,
   "metadata": {
    "id": "gS-c8qg5-jqT"
   },
   "outputs": [],
   "source": [
    "from sklearn.preprocessing import StandardScaler\n",
    "\n",
    "scaler = StandardScaler()\n",
    "\n",
    "X_train_s = scaler.fit_transform(X_train)\n",
    "X_test_s  = scaler.transform(X_test)\n",
    "X_valid_s = scaler.transform(X_valid)"
   ]
  },
  {
   "cell_type": "markdown",
   "metadata": {
    "id": "wQ7gceuzqa3X"
   },
   "source": [
    "Далее сформируйте датасет в pytorch-обертке"
   ]
  },
  {
   "cell_type": "code",
   "execution_count": null,
   "metadata": {
    "colab": {
     "base_uri": "https://localhost:8080/"
    },
    "id": "qHYpL_9nlSG-",
    "outputId": "bd3fc832-78d9-4580-c507-ea3dbc03c48e"
   },
   "outputs": [],
   "source": [
    "from torch.utils.data import TensorDataset, DataLoader\n",
    "\n",
    "batch_size = 128\n",
    "\n",
    "device = torch.device('cuda') if torch.cuda.is_available() else 'cpu'\n",
    "device"
   ]
  },
  {
   "cell_type": "code",
   "execution_count": null,
   "metadata": {
    "id": "1LpeESL0-xDy"
   },
   "outputs": [],
   "source": [
    "X_train_t = torch.from_numpy(X_train_s).to(torch.float32).to(device)\n",
    "X_test_t  = torch.from_numpy(X_test_s ).to(torch.float32).to(device)\n",
    "X_val_t   = torch.from_numpy(X_valid_s).to(torch.float32).to(device)\n",
    "\n",
    "y_train_t = torch.from_numpy(np.array(y_train)).to(torch.float32).to(device)\n",
    "y_test_t  = torch.from_numpy(np.array(y_test )).to(torch.float32).to(device)\n",
    "y_val_t   = torch.from_numpy(np.array(y_valid)).to(torch.float32).to(device)\n",
    "\n",
    "train_dataset = TensorDataset(X_train_t, y_train_t)\n",
    "test_dataset = TensorDataset(X_test_t, y_test_t)\n",
    "val_dataset = TensorDataset(X_val_t, y_val_t)\n",
    "\n",
    "train_dataloader = DataLoader(train_dataset, batch_size=batch_size, drop_last=True)\n",
    "test_dataloader = DataLoader(test_dataset, batch_size=batch_size, drop_last=True)\n",
    "val_dataloader = DataLoader(val_dataset, batch_size=batch_size, drop_last=True)\n",
    "\n",
    "loaders = {\"train\": train_dataloader, 'valid' : val_dataloader}"
   ]
  },
  {
   "cell_type": "markdown",
   "metadata": {
    "id": "ayu3JfBzsqC6"
   },
   "source": [
    "Напишите вспомогательные функции, в одной из которых будет проходить обучение, а во вторй - валидация. Также в отдельной функцией можно описать отрисовку кривых обучения. На одном графике расположите значение функции потерь на трейне и валидации, а на другом -- значение метрики качества на ваш выбор, также для трейна и валидации)"
   ]
  },
  {
   "cell_type": "code",
   "execution_count": null,
   "metadata": {
    "id": "YJFrPQRAsjGz"
   },
   "outputs": [],
   "source": [
    "def plot_learning_curves(history):\n",
    "    '''\n",
    "    Функция для отображения лосса и метрики во время обучения.\n",
    "    '''\n",
    "    fig = plt.figure(figsize = (20,7))\n",
    "\n",
    "    plt.subplot(1,2,1)\n",
    "\n",
    "    plt.title('Loss', fontsize = 15)\n",
    "\n",
    "    plt.plot(history['Loss']['train'], label = 'train')\n",
    "    plt.plot(history['Loss']['valid'], label = 'val')\n",
    "\n",
    "    plt.xlabel('Epoch', fontsize = 15)\n",
    "\n",
    "    plt.legend()\n",
    "\n",
    "    plt.subplot(1,2,2)\n",
    "\n",
    "    plt.title('ROC AUC', fontsize = 15)\n",
    "\n",
    "    plt.plot(history['auc']['train'], label = 'train')\n",
    "    plt.plot(history['auc']['valid'], label = 'val')\n",
    "\n",
    "    plt.xlabel('Epoch', fontsize = 15)\n",
    "\n",
    "    plt.legend()\n",
    "    plt.show()\n",
    "\n",
    "\n",
    "def train_epoch(model, criterion, opt, loader):\n",
    "    '''\n",
    "    Проход по данным для обучения в одной эпохе\n",
    "    '''\n",
    "    hist = []\n",
    "    metr = []\n",
    "    model.train()\n",
    "\n",
    "    for x_batch, y_batch in loader:\n",
    "        opt.zero_grad()\n",
    "        outp = model(x_batch)\n",
    "        y_prob = torch.sigmoid(outp)\n",
    "        y_pred = torch.round(y_prob)\n",
    "\n",
    "        loss = criterion(y_prob, y_batch.view(-1, 1))\n",
    "        loss.backward()\n",
    "        opt.step()\n",
    "\n",
    "        hist.append(loss.cpu().detach())\n",
    "        metr.append(roc_auc_score(y_batch.cpu().detach().numpy(), y_prob.cpu().detach().numpy()))\n",
    "\n",
    "    return np.mean(hist), np.mean(metr)\n",
    "\n",
    "\n",
    "def test_epoch(model, criterion, opt, loader):\n",
    "    '''\n",
    "    Валидация на одной эпохе\n",
    "    '''\n",
    "    model.eval()\n",
    "    hist = []\n",
    "    metr = []\n",
    "\n",
    "    for x_batch, y_batch in loader:\n",
    "        with torch.no_grad():\n",
    "            outp = model(x_batch)\n",
    "\n",
    "        y_prob = torch.sigmoid(outp)\n",
    "        y_pred = torch.round(y_prob)\n",
    "\n",
    "        loss = criterion(y_prob, y_batch.view(-1, 1))\n",
    "\n",
    "        hist.append(loss.cpu().detach())\n",
    "        metr.append(roc_auc_score(y_batch.cpu().detach().numpy(), y_prob.cpu().detach().numpy()))\n",
    "\n",
    "    return np.mean(hist), np.mean(metr)\n",
    "\n",
    "def training_loop(model, criterion, opt, loaders, max_epochs):\n",
    "    '''\n",
    "    Весь цикл обучения\n",
    "    '''\n",
    "    auroc = {\"train\": [], \"valid\" : []}\n",
    "    loss_history = {\"train\": [], \"valid\" : []}\n",
    "\n",
    "    for epoch in trange(max_epochs):\n",
    "        for k, dataloader in loaders.items():\n",
    "            if k == 'train':\n",
    "                his, met = train_epoch(model, criterion, opt, dataloader)\n",
    "            elif k == 'valid':\n",
    "                his, met = test_epoch(model, criterion, opt, dataloader)\n",
    "\n",
    "            auroc[k].append(met)\n",
    "            loss_history[k].append(his)\n",
    "\n",
    "        val = 'valid'\n",
    "        print(f'Epoch: {epoch + 1}. Valid Loss: {loss_history[val][-1].round(5)}')\n",
    "\n",
    "    metrics = {\n",
    "        'auc' : auroc,\n",
    "        'Loss' : loss_history\n",
    "    }\n",
    "\n",
    "    return metrics"
   ]
  },
  {
   "cell_type": "markdown",
   "metadata": {
    "id": "-KRqsqFXrOj_"
   },
   "source": [
    "Создание модели"
   ]
  },
  {
   "cell_type": "code",
   "execution_count": null,
   "metadata": {
    "id": "0TgKtRfVrLpb"
   },
   "outputs": [],
   "source": [
    "class SimpleModel(nn.Module):\n",
    "    def __init__(self):\n",
    "        super(SimpleModel, self).__init__()\n",
    "        self.linear1 = nn.Linear(5, 128)\n",
    "        self.linear2 = nn.Linear(128, 32)\n",
    "        self.linear3 = nn.Linear(32, 1)\n",
    "        self.drop = nn.Dropout(0.5)\n",
    "        self.activation = nn.ReLU()\n",
    "\n",
    "    def forward(self, x):\n",
    "        x = self.activation(self.linear1(x))\n",
    "        x = self.drop(x)\n",
    "        x = self.activation(self.linear2(x))\n",
    "        x = self.drop(x)\n",
    "        x = self.linear3(x)\n",
    "        return x"
   ]
  },
  {
   "cell_type": "markdown",
   "metadata": {
    "id": "EllEx8_atGPX"
   },
   "source": [
    "Обучение"
   ]
  },
  {
   "cell_type": "code",
   "execution_count": null,
   "metadata": {
    "colab": {
     "base_uri": "https://localhost:8080/",
     "height": 570,
     "referenced_widgets": [
      "d21283d654884cb89d390b1a2f0f7d54",
      "f59021cbe5a548c0bd4529195a2d1a71",
      "12a47001747d43f7a3e6fa3a26c99725",
      "c782670f79bb4049bbd380ae4c097f14",
      "f6e47fa3ff5343639bcd35c2c5126a26",
      "16ca7ca6475c4baa855245c86fb7adfb",
      "8a93fb7d6e1346249080b9b829a09227",
      "1b800df6a33143a9b6b5b886914995af",
      "c1593caebf7e45a9955d560673f8ae4b",
      "570da07bf7c449f5b4ac46cfb2262ea3",
      "ce6e40f3071445fdae97d98f2d6579e8"
     ]
    },
    "id": "7Xz9XaHl_7eK",
    "outputId": "8eb05eda-2f8f-423f-c914-fa74994b22ae"
   },
   "outputs": [],
   "source": [
    "model = SimpleModel()\n",
    "model.to(device)\n",
    "\n",
    "criterion = nn.BCELoss()\n",
    "opt = torch.optim.Adam(model.parameters(), lr = 1e-3)\n",
    "\n",
    "max_epochs = 30\n",
    "\n",
    "metrics = training_loop(model, criterion, opt, loaders, max_epochs)"
   ]
  },
  {
   "cell_type": "code",
   "execution_count": null,
   "metadata": {
    "colab": {
     "base_uri": "https://localhost:8080/",
     "height": 570
    },
    "id": "EYiz3uOLpAdq",
    "outputId": "fce6045d-b97a-4eb8-d0dc-841588f58986"
   },
   "outputs": [],
   "source": [
    "plot_learning_curves(metrics)"
   ]
  },
  {
   "cell_type": "markdown",
   "metadata": {
    "id": "DkW1-Qjd_-dN"
   },
   "source": [
    "Тестирование"
   ]
  },
  {
   "cell_type": "code",
   "execution_count": null,
   "metadata": {
    "colab": {
     "base_uri": "https://localhost:8080/"
    },
    "id": "TkZtkmbD4PHI",
    "outputId": "3c53328d-6cc8-45ef-e0f5-5bc728588d7c"
   },
   "outputs": [],
   "source": [
    "model.eval()\n",
    "\n",
    "loss, roc_auc = test_epoch(model, criterion, opt, test_dataloader)\n",
    "\n",
    "print(f'Test loss: {loss}, test ROC_AUC: {roc_auc}')"
   ]
  },
  {
   "cell_type": "markdown",
   "metadata": {
    "id": "TV9-tci_jjHe"
   },
   "source": [
    "Попробуем для сравнения обучить моедль  на всех фичах (вдруг scor улучшиться):"
   ]
  },
  {
   "cell_type": "code",
   "execution_count": null,
   "metadata": {
    "id": "6QmZV70Ejw8s"
   },
   "outputs": [],
   "source": [
    "features = df.columns[:-3]\n",
    "data_features = df[features]\n",
    "target = df['Bad_habits'].astype(int)\n",
    "\n",
    "X_train, X_test_valid, y_train, y_test_valid = train_test_split(\n",
    "    data_features, target, test_size = 0.2, random_state = 42\n",
    ")\n",
    "\n",
    "X_valid, X_test, y_valid, y_test = train_test_split(\n",
    "    X_test_valid, y_test_valid, test_size = 0.5, random_state = 42)"
   ]
  },
  {
   "cell_type": "code",
   "execution_count": null,
   "metadata": {
    "id": "UnN9uOIgkTWo"
   },
   "outputs": [],
   "source": [
    "scaler = StandardScaler()\n",
    "\n",
    "X_train_s = scaler.fit_transform(X_train)\n",
    "X_test_s  = scaler.transform(X_test)\n",
    "X_valid_s = scaler.transform(X_valid)"
   ]
  },
  {
   "cell_type": "code",
   "execution_count": null,
   "metadata": {
    "id": "uz5Ba_svkWid"
   },
   "outputs": [],
   "source": [
    "batch_size = 128\n",
    "device = torch.device('cuda') if torch.cuda.is_available() else 'cpu'\n",
    "\n",
    "X_train_t = torch.from_numpy(X_train_s).to(torch.float32).to(device)\n",
    "X_test_t  = torch.from_numpy(X_test_s ).to(torch.float32).to(device)\n",
    "X_val_t   = torch.from_numpy(X_valid_s).to(torch.float32).to(device)\n",
    "y_train_t = torch.from_numpy(np.array(y_train)).to(torch.float32).to(device)\n",
    "y_test_t  = torch.from_numpy(np.array(y_test )).to(torch.float32).to(device)\n",
    "y_val_t   = torch.from_numpy(np.array(y_valid)).to(torch.float32).to(device)\n",
    "\n",
    "\n",
    "train_dataset = TensorDataset(X_train_t, y_train_t)\n",
    "test_dataset = TensorDataset(X_test_t, y_test_t)\n",
    "val_dataset = TensorDataset(X_val_t, y_val_t)\n",
    "\n",
    "train_dataloader = DataLoader(train_dataset, batch_size=batch_size, drop_last=True)\n",
    "test_dataloader = DataLoader(test_dataset, batch_size=batch_size, drop_last=True)\n",
    "val_dataloader = DataLoader(val_dataset, batch_size=batch_size, drop_last=True)\n",
    "\n",
    "\n",
    "loaders = {\"train\": train_dataloader, 'valid' : val_dataloader}"
   ]
  },
  {
   "cell_type": "code",
   "execution_count": null,
   "metadata": {
    "id": "Pr0PAf44nzcl"
   },
   "outputs": [],
   "source": [
    "class SimpleModel(nn.Module):\n",
    "    def __init__(self):\n",
    "        super(SimpleModel, self).__init__()\n",
    "        self.linear1 = nn.Linear(22, 128)\n",
    "        self.linear2 = nn.Linear(128, 32)\n",
    "        self.linear3 = nn.Linear(32, 1)\n",
    "        self.drop = nn.Dropout(0.5)\n",
    "        self.activation = nn.ReLU()\n",
    "\n",
    "    def forward(self, x):\n",
    "        x = self.activation(self.linear1(x))\n",
    "        x = self.drop(x)\n",
    "        x = self.activation(self.linear2(x))\n",
    "        x = self.drop(x)\n",
    "        x = self.linear3(x)\n",
    "        return x"
   ]
  },
  {
   "cell_type": "code",
   "execution_count": null,
   "metadata": {
    "colab": {
     "base_uri": "https://localhost:8080/",
     "height": 570,
     "referenced_widgets": [
      "b9b070c34a7b4fa8a92f062137bc13ca",
      "9a8117a39e5d40f89a16e8c0fb9ea089",
      "9ab4f6ac2b32419892dc2bbfa806ec05",
      "1528660b4fcf4dd4b46b677d2ee3760d",
      "caa33beeac8b47c582cb0795771e6819",
      "7c1fa88c49234cc7bd35bd06237edab8",
      "f6bdcce6508f424ca5893fd80ffab004",
      "69da8d30e81746eda79880bfd92a2299",
      "f0a1e6c099c14356a6322357f7518d30",
      "6125e1051ab447d194274422108f7114",
      "953b1f5c81d34ec187ce36512ae97d5b"
     ]
    },
    "id": "Cq6y3eIQkh2b",
    "outputId": "b6a3129d-dd59-45f7-90ab-d23d998f0cc7"
   },
   "outputs": [],
   "source": [
    "model = SimpleModel()\n",
    "model.to(device)\n",
    "\n",
    "criterion = nn.BCELoss()\n",
    "opt = torch.optim.Adam(model.parameters(), lr = 1e-3)\n",
    "\n",
    "max_epochs = 30\n",
    "\n",
    "metrics = training_loop(model, criterion, opt, loaders, max_epochs)"
   ]
  },
  {
   "cell_type": "code",
   "execution_count": null,
   "metadata": {
    "colab": {
     "base_uri": "https://localhost:8080/",
     "height": 570
    },
    "id": "aKy6qOE8ko57",
    "outputId": "6a7d9ea0-a94e-4073-b566-ab15d0e14c15"
   },
   "outputs": [],
   "source": [
    "plot_learning_curves(metrics)"
   ]
  },
  {
   "cell_type": "code",
   "execution_count": null,
   "metadata": {
    "colab": {
     "base_uri": "https://localhost:8080/"
    },
    "id": "KnwTjweckqUq",
    "outputId": "82b69b57-aa2e-4d74-bb1d-5c5b0fba0ec0"
   },
   "outputs": [],
   "source": [
    "model.eval()\n",
    "\n",
    "loss, auc = test_epoch(model, criterion, opt, test_dataloader)\n",
    "\n",
    "print(f'Test loss: {loss}, test ROC AUC: {auc}')"
   ]
  },
  {
   "cell_type": "markdown",
   "metadata": {
    "id": "AKaxR5ClAEzS"
   },
   "source": [
    "**Выводы:**\n",
    "\n",
    "Мы обработали данные о людях с вредными и здоровыми привычками и успешно обучили полносвязную модель для классификации. Модель показывает достойные результаты (ROC AUC > 0.5).\n",
    "\n",
    "Графики лосса свидетельствуют, что переобучения не произошло. Возможно, улучшение гиперпараметров, таких как размер скрытых слоёв, скорость обучения, использование дропаута, количество эпох или выбор функции активации, могло бы повысить точность и улучшить снижение лосса. Тем не менее, полученный результат уже является удовлетворительным и достаточным для текущих целей."
   ]
  }
 ],
 "metadata": {
  "accelerator": "GPU",
  "colab": {
   "gpuType": "T4",
   "provenance": []
  },
  "kernelspec": {
   "display_name": "Python 3",
   "name": "python3"
  },
  "language_info": {
   "name": "python"
  }
 },
 "nbformat": 4,
 "nbformat_minor": 0
}
