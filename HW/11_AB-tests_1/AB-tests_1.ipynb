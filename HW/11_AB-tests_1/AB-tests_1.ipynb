{
 "cells": [
  {
   "cell_type": "markdown",
   "metadata": {
    "id": "EHqr876e1ecf"
   },
   "source": [
    "# ML в Биологии\n",
    "## 11. AB-tests. Part I."
   ]
  },
  {
   "cell_type": "code",
   "execution_count": null,
   "metadata": {
    "id": "aBIdxQNbG2SV"
   },
   "outputs": [],
   "source": [
    "import scipy.stats as sps\n",
    "import numpy as np\n",
    "import pandas as pd\n",
    "from tqdm import tqdm\n",
    "from datetime import datetime, timedelta\n",
    "\n",
    "from statsmodels.stats.proportion import proportion_confint\n",
    "\n",
    "import warnings\n",
    "warnings.filterwarnings(\"ignore\")\n",
    "\n",
    "import matplotlib.pyplot as plt\n",
    "import seaborn as sns\n",
    "sns.set(style='whitegrid', font_scale=1.3, palette='Set2')"
   ]
  },
  {
   "cell_type": "markdown",
   "metadata": {
    "id": "AfmOvjXASSJ0"
   },
   "source": [
    "## Задача 1\n",
    "\n",
    "*Примечание для обоих профилей*: величину уровня значимости $\\alpha$ и минимально необходимой мощности $\\beta$ считать стандартными и равными **0.05** и **0.8** соответственно."
   ]
  },
  {
   "cell_type": "markdown",
   "metadata": {
    "id": "VbiLkltbioAj"
   },
   "source": [
    "### **Профиль биология**\n",
    "\n",
    "\n",
    "Рассмотрим [данные по медицинским страховкам](https://www.kaggle.com/datasets/gauravduttakiit/medical-insurance-cost?select=Train_Data.csv) из задачи 2 задания по AВ тестам. С помощью формулы для `MDE` оцените количество клиентов страховых компаний, на которых нужно провести AB-тест новых рекомендаций по употреблению витаминов, чтобы задетектировать снижение средней стоимости страховки на 600 долларов. Считайте, что компании не расширяют свою клиентскую базу и данные представляют собой информацию обо всех клиентах, которые могут участвовать в тесте"
   ]
  },
  {
   "cell_type": "code",
   "execution_count": null,
   "metadata": {
    "colab": {
     "base_uri": "https://localhost:8080/"
    },
    "id": "QngBkRBwTCMt",
    "outputId": "226c80f5-ccd5-4063-fa5c-6108fa9662b9"
   },
   "outputs": [],
   "source": [
    "!unzip /content/archive.zip"
   ]
  },
  {
   "cell_type": "code",
   "execution_count": null,
   "metadata": {
    "colab": {
     "base_uri": "https://localhost:8080/"
    },
    "id": "JP5PdoGmSSJ4",
    "outputId": "6b7d3db2-364d-4d4d-ec25-153b6f3cd4f9"
   },
   "outputs": [],
   "source": [
    "DATA_PATH = 'Train_Data.csv'\n",
    "\n",
    "data = pd.read_csv(DATA_PATH)['charges'].values\n",
    "data"
   ]
  },
  {
   "cell_type": "code",
   "execution_count": null,
   "metadata": {
    "colab": {
     "base_uri": "https://localhost:8080/"
    },
    "id": "VdyW5J0hixMw",
    "outputId": "0bb6deba-912a-4ef4-e7d9-35f0bbf5dd55"
   },
   "outputs": [],
   "source": [
    "data.shape"
   ]
  },
  {
   "cell_type": "markdown",
   "metadata": {
    "id": "DNeu9R6bSSJ4"
   },
   "source": [
    "Зафиксируем параметры уровня значимости, желаемой мощности и величины эффекта."
   ]
  },
  {
   "cell_type": "code",
   "execution_count": null,
   "metadata": {
    "id": "LL68VaCkSSJ5"
   },
   "outputs": [],
   "source": [
    "alpha = 0.05  # уровень значимости\n",
    "beta = 0.8  # мощности\n",
    "mde = 600  # размер эффекта"
   ]
  },
  {
   "cell_type": "code",
   "execution_count": null,
   "metadata": {
    "id": "lxIk22qJTj0S"
   },
   "outputs": [],
   "source": [
    "def get_mde(alpha, beta, sample_size, var_x, var_y):\n",
    "    '''Расчитывает MDE\n",
    "\n",
    "    :param alpha: желаемая ошибка первого рода\n",
    "    :param beta: желаемая мощность\n",
    "    :param sample_size: размер выборок\n",
    "    :param var_x, var_y: дисперсии выборок\n",
    "    :returns: теоретический MDE\n",
    "    '''\n",
    "\n",
    "    q_sum = sps.norm.ppf(1 - alpha) + sps.norm.ppf(beta)\n",
    "    res = q_sum / np.sqrt(sample_size) * np.sqrt(var_x + var_y)\n",
    "\n",
    "    return res\n",
    "\n",
    "\n",
    "def get_sample_size(alpha, beta, mde, var_x, var_y):\n",
    "    '''Расчитывает размер выборки для детектирование MDE\n",
    "\n",
    "    :param alpha: желаемая ошибка первого рода\n",
    "    :param beta: желаемая мощность\n",
    "    :param mde: необходимый эффект\n",
    "    :param var_x, var_y: дисперсии выборок\n",
    "    :returns: необходимый размер выборки\n",
    "    '''\n",
    "\n",
    "    q_sum = sps.norm.ppf(1 - alpha) + sps.norm.ppf(beta)\n",
    "    res = np.ceil((q_sum ** 2) * (var_x + var_y) / (mde * mde)).astype(int)\n",
    "\n",
    "    return res"
   ]
  },
  {
   "cell_type": "markdown",
   "metadata": {
    "id": "s7o3fh2mSSJ5"
   },
   "source": [
    "Вычислите необходимый размер выборки, воспользовавшись формулами с семинара."
   ]
  },
  {
   "cell_type": "code",
   "execution_count": null,
   "metadata": {
    "colab": {
     "base_uri": "https://localhost:8080/"
    },
    "id": "Vmd8Utr0ixMx",
    "outputId": "4381d663-5075-4f93-eaa1-2fdc3d75a7c1"
   },
   "outputs": [],
   "source": [
    "# сумма квантилей\n",
    "q = sps.norm.ppf(1 - alpha) + sps.norm.ppf(beta)\n",
    "\n",
    "var_0 = data.var()\n",
    "n_0 = get_sample_size(alpha, beta, mde, var_0, var_0)  # размер выборки\n",
    "\n",
    "n_0, var_0"
   ]
  },
  {
   "cell_type": "markdown",
   "metadata": {
    "id": "pCD3f3VtixMx"
   },
   "source": [
    "Достаточно ли у вас клиентов для исследования?\n",
    "\n",
    "**Ответ:** нет\n"
   ]
  },
  {
   "cell_type": "markdown",
   "metadata": {
    "id": "9z-oYYFIixMx"
   },
   "source": [
    "Посмотрите на распределение суммы страховки."
   ]
  },
  {
   "cell_type": "code",
   "execution_count": null,
   "metadata": {
    "colab": {
     "base_uri": "https://localhost:8080/",
     "height": 488
    },
    "id": "5nc_YDyZixMx",
    "outputId": "cb7f9d1a-0c80-48f8-9f9c-50eb7f88475b"
   },
   "outputs": [],
   "source": [
    "plt.title(fr'Гистограмма распределения суммы страховки')\n",
    "plt.hist(data, bins=100)\n",
    "plt.xlabel('Сумма страховки')\n",
    "plt.ylabel('Количество');"
   ]
  },
  {
   "cell_type": "markdown",
   "metadata": {
    "id": "Zp8WNVHASSJ5"
   },
   "source": [
    "Видим, что есть выбросы, завышающие нам дисперсию. Выполните фильтрацию данных.\n",
    "\n",
    "**Внимание! Определять параметры фильтрации выбросов можно только на основе данных ДО эксперимента. Удаление на основании экспериментальным данных может привести к большим ошибкам.**"
   ]
  },
  {
   "cell_type": "code",
   "execution_count": null,
   "metadata": {
    "id": "CX0zMksAixMx"
   },
   "outputs": [],
   "source": [
    "data_filtered = data[data<30000]"
   ]
  },
  {
   "cell_type": "code",
   "execution_count": null,
   "metadata": {
    "colab": {
     "base_uri": "https://localhost:8080/"
    },
    "id": "aO2i4JO7ixMx",
    "outputId": "e5a8c420-7bd8-4811-c619-a143aef51036"
   },
   "outputs": [],
   "source": [
    "data_filtered.shape"
   ]
  },
  {
   "cell_type": "markdown",
   "metadata": {
    "id": "ykZUlrueixMx"
   },
   "source": [
    "Посчитайте, сколько нужно клиентов в данном случае."
   ]
  },
  {
   "cell_type": "code",
   "execution_count": null,
   "metadata": {
    "colab": {
     "base_uri": "https://localhost:8080/"
    },
    "id": "6lX_Y3wHixMx",
    "outputId": "ce982f4b-fbd9-47f0-f133-47462e4c5de1"
   },
   "outputs": [],
   "source": [
    "var_1 = data_filtered.var()\n",
    "n_1 = get_sample_size(alpha, beta, mde, var_1, var_1)\n",
    "\n",
    "n_1, var_1"
   ]
  },
  {
   "cell_type": "markdown",
   "metadata": {
    "id": "4H-RqtAkixMy"
   },
   "source": [
    "Как зависит требуемый размер выборки в исследовании от размера эффекта? Постройте график размера выборки от `MDE` для ожидаемой в нашем исследовании дисперсии."
   ]
  },
  {
   "cell_type": "code",
   "execution_count": null,
   "metadata": {
    "colab": {
     "base_uri": "https://localhost:8080/",
     "height": 464
    },
    "id": "m0RzlICmixMz",
    "outputId": "32afa931-8ace-4920-be8d-df333e9bd7f8"
   },
   "outputs": [],
   "source": [
    "mde_grid = np.arange(200, 2000, 50)\n",
    "n = get_sample_size(alpha, beta, mde_grid, var_1, var_1)\n",
    "\n",
    "plt.plot(mde_grid, n, lw=3)\n",
    "plt.plot((250, 2000), (data_filtered.shape[0], data_filtered.shape[0]))\n",
    "plt.xlabel('Размер эффекта (MDE)')\n",
    "plt.ylabel('Размер выборки');"
   ]
  },
  {
   "cell_type": "markdown",
   "metadata": {
    "id": "Og0INzBJSSJ7"
   },
   "source": [
    "Какой минимальный эффект можно зафиксировать с нашей выборкой?"
   ]
  },
  {
   "cell_type": "markdown",
   "metadata": {
    "id": "H3Cqy8ZgSSJ7"
   },
   "source": [
    "**Ответ:**\n",
    "\n",
    "Мы удалили выбросы, и теперь размер выборки соответствует нашим требованиям.\n",
    "\n",
    "На графике заметно, что с уменьшением размера выборки минимально детектируемый эффект (MDE) увеличивается, причем зависимость напоминает гиперболу.\n",
    "\n",
    "Также из графика видно, что при текущем размере выборки MDE составляет около 400 долларов."
   ]
  },
  {
   "cell_type": "markdown",
   "metadata": {
    "id": "AaYPSUhjixMz"
   },
   "source": [
    "**Итоговый вывод по задаче:**\n",
    "\n",
    "После фильтрации выбросов размер выборки стал достаточным для проведения эксперимента. На графике видно, что минимальный детектируемый эффект (MDE) при текущем размере выборки составляет около 400 долларов, что меньше целевого значения в 600 долларов. Таким образом, эксперимента достаточно для проверки гипотезы."
   ]
  },
  {
   "cell_type": "markdown",
   "metadata": {
    "id": "BWHyQSBBHQ70"
   },
   "source": [
    "## Задача 2\n",
    "\n",
    "Выведите формулу `MDE` для относительного t-test. Рассмотрите случаи односторонней и двусторонней гипотез."
   ]
  },
  {
   "cell_type": "markdown",
   "metadata": {
    "id": "tvurRVk8WFm6"
   },
   "source": [
    "**Ответ:**\n",
    "\n",
    "Параметр несмещенности:\n",
    "$$\\lambda = \\delta \\sqrt{\\frac{n}{2 \\sigma^2}} = z_{\\alpha} + z_{1 - \\beta} \\; , где $$\n",
    "\n",
    "- $\\sigma$ - общее стандартное отклонение\n",
    "- $\\delta = \\mu_2 - \\mu_1$ - абсолютная разница средних\n",
    "- $n$ - размер выборки\n",
    "\n",
    "Тогда:\n",
    "\n",
    "$$ \\delta = (z_{\\alpha} + z_{1 - \\beta}) \\cdot \\sqrt{\\frac{2 \\sigma^2}{n}}$$\n",
    "\n",
    "Относительный эффект:\n",
    "\n",
    "$$\n",
    "MDE = \\frac{\\delta}{\\mu_1} = (z_{\\alpha} + z_{1 - \\beta}) \\cdot \\frac{\\sigma}{\\mu_1}\\sqrt{\\frac{2}{n}}\n",
    "$$\n",
    "\n",
    "**Односторонняя гипотеза:**\n",
    "\n",
    "$$\n",
    "MDE = (z_{\\alpha} + z_{1 - \\beta}) \\cdot \\frac{\\sigma}{\\mu_1}\\sqrt{\\frac{2}{n}}\n",
    "$$\n",
    "\n",
    "**Двусторонняя гипотеза:**\n",
    "\n",
    "$$\n",
    "MDE = (z_{\\alpha/2} + z_{1 - \\beta}) \\cdot \\frac{\\sigma}{\\mu_1}\\sqrt{\\frac{2}{n}}\n",
    "$$\n"
   ]
  },
  {
   "cell_type": "markdown",
   "metadata": {
    "id": "J8YMv3dJSSJ7"
   },
   "source": [
    "## Задача 3\n"
   ]
  },
  {
   "cell_type": "markdown",
   "metadata": {
    "id": "ZccDWa6RuNNI"
   },
   "source": [
    "### **Профиль биология**\n",
    "\n",
    "В одной фармацевтической компании собираются проводить II фазу клинических испытаний нового лекарства, ослабляющего симптомы диабета. Перед командой аналитики стоит задача о корректном проведении AB-тестирования. У вас имеются исторические [данные по пациентам](https://www.kaggle.com/datasets/jillanisofttech/diabetes-disease-updated-dataset?select=diabetes.csv), страдающим диабетом. С помощью них проведите дизайн эксперимента.\n",
    "\n",
    "\n",
    "Выберите или оцените каким-нибудь способом:\n",
    "\n",
    "1. Таргет клинических испытаний (первичную контрольную точку): уровень глюкозы, инсулина, толщину кожи и т.д.;\n",
    "\n",
    "2. Статистический критерий (название / односторонний или двусторонний / связные или независимые выборки);\n",
    "\n",
    "3. Размеры A и B групп;\n",
    "\n",
    "4. Желаемый минимальный детектируемый эффект;\n",
    "\n",
    "5. Мощность критерия.\n",
    "\n",
    "Обоснуйте свой выбор в каждом из пунктов.\n",
    "\n",
    "Все ли полученные показатели вас устраивают? Если нет, то какие могут быть способы их улучшить?\n",
    "\n",
    "*Примечание.* Если кажется, что информации недостаточно, сделайте свои дополнительные предположения, коррелирующие с реальностью, и работайте с ними.\n",
    "\n",
    "\n",
    "Для выбранного критерия проведите АА-тест по историческим данным. Если исторических данных оказалось недостаточно для вашей модели, придумайте способ решения проблемы."
   ]
  },
  {
   "cell_type": "code",
   "execution_count": null,
   "metadata": {
    "colab": {
     "base_uri": "https://localhost:8080/"
    },
    "id": "oA5hdjSOVZwx",
    "outputId": "661fffb8-531a-4619-d2af-d5e5c6096ed4"
   },
   "outputs": [],
   "source": [
    "!unzip /content/archive.zip"
   ]
  },
  {
   "cell_type": "code",
   "execution_count": null,
   "metadata": {
    "colab": {
     "base_uri": "https://localhost:8080/",
     "height": 423
    },
    "id": "IeP_ga6GrMU_",
    "outputId": "0c3226e6-95a0-4e0b-a97d-40557e68cbbf"
   },
   "outputs": [],
   "source": [
    "DATA_PATH = 'diabetes.csv'\n",
    "\n",
    "data = pd.read_csv(DATA_PATH)\n",
    "data = data[data['Outcome']==1]\n",
    "data"
   ]
  },
  {
   "cell_type": "markdown",
   "metadata": {
    "id": "Y1WS0oLvtyWe"
   },
   "source": [
    "Выберите, обоснуйте и визуализируйте:\n",
    "\n",
    "> Таргет клинических испытаний (первичную контрольную точку): уровень глюкозы, инсулина, толщину кожи и тд.;\n",
    "\n",
    "**Ответ:**\n",
    "\n",
    "Целевым показателем является уровень глюкозы, так как он наиболее точно отражает эффективность препарата при лечении диабета."
   ]
  },
  {
   "cell_type": "markdown",
   "metadata": {
    "id": "CZUrXET8SSJ_"
   },
   "source": [
    "Посмотрите на распределение значений выбранного таргета."
   ]
  },
  {
   "cell_type": "code",
   "execution_count": null,
   "metadata": {
    "colab": {
     "base_uri": "https://localhost:8080/",
     "height": 234
    },
    "id": "TtrjGVYYrMBB",
    "outputId": "1c64b534-c999-42da-cb91-239355b63581"
   },
   "outputs": [],
   "source": [
    "plt.figure(figsize=(10, 1.5))\n",
    "sns.boxplot(data['Glucose'], orient='h')\n",
    "plt.title('Glucose')\n",
    "plt.show()"
   ]
  },
  {
   "cell_type": "code",
   "execution_count": null,
   "metadata": {
    "colab": {
     "base_uri": "https://localhost:8080/",
     "height": 1000
    },
    "id": "xoXzmYnQVpT4",
    "outputId": "06e7919c-1e20-4c7f-9d6a-3e8fbfe07873"
   },
   "outputs": [],
   "source": [
    "data1 = pd.read_csv(DATA_PATH)\n",
    "sns.pairplot(data1, hue='Outcome')"
   ]
  },
  {
   "cell_type": "markdown",
   "metadata": {
    "id": "Vkj_jt4gvaNI"
   },
   "source": [
    "> Статистический критерий (название / абсолютный или относительный / односторонний или двусторонний / связные или независимые выборки);\n",
    "\n",
    "**Ответ:**\n",
    "\n",
    "Для сравнения средних значений используем t-критерий, поскольку уровень глюкозы является количественной переменной. Мы оцениваем относительный эффект, так как важно снижение уровня глюкозы относительно исходного состояния. Выбираем односторонний тест, так как нас интересует только снижение уровня глюкозы (улучшение). Выборки рассматриваются как независимые, поскольку группы A и B не пересекаются."
   ]
  },
  {
   "cell_type": "markdown",
   "metadata": {
    "id": "HgJ7CFyY2V3k"
   },
   "source": [
    "> Мощность критерия\n",
    "\n",
    "**Ответ:**\n",
    "\n",
    "$\\beta$  = 0.8"
   ]
  },
  {
   "cell_type": "markdown",
   "metadata": {
    "id": "ChHswB3A4WfC"
   },
   "source": [
    "> Желаемый минимальный детектируемый эффект:\n",
    "\n",
    "MDE = 10%\n",
    "\n",
    "> Размер А и В групп.\n",
    "\n",
    "Для расчета размера выборки необходимо задать следующие параметры:\n",
    "\n",
    "- Уровень значимости $\\alpha$: 0.05\n",
    "- Мощность $\\beta$ 0.8 .\n",
    "- MDE\n",
    "- Оценка дисперсии уровня глюкозы."
   ]
  },
  {
   "cell_type": "markdown",
   "metadata": {
    "id": "G_E94JxP4rTg"
   },
   "source": [
    "Будем подбирать по рассмотренной на семинаре таблице `MDE`-мощность-размер выборки"
   ]
  },
  {
   "cell_type": "code",
   "execution_count": null,
   "metadata": {
    "id": "XzAT-346tu8l"
   },
   "outputs": [],
   "source": [
    "def get_mde(alpha, beta, sample_size, var_R, two_sided=False):\n",
    "    '''Расcчитывает MDE\n",
    "\n",
    "    Аргументы:\n",
    "    alpha -- желаемая ошибка первого рода\n",
    "    beta -- желаемая мощность\n",
    "    sample_size -- размер выборок\n",
    "    var_R -- дисперсии выборок\n",
    "    two_sided -- двусторонний или односторонний тест\n",
    "\n",
    "    Возвращает:\n",
    "    mde -- теоретический MDE\n",
    "    '''\n",
    "\n",
    "    if two_sided:\n",
    "        z_alpha = sps.norm.ppf(1 - alpha / 2)\n",
    "    else:\n",
    "        z_alpha = sps.norm.ppf(1 - alpha)\n",
    "    z_beta = sps.norm.ppf(beta)\n",
    "    q_sum = z_alpha + z_beta\n",
    "    mde = q_sum / np.sqrt(sample_size) * np.sqrt(2 * var_R)\n",
    "    return mde\n",
    "\n",
    "\n",
    "def get_sample_size(alpha, beta, mde, var_R, two_sided=False):\n",
    "    '''Расcчитывает размер выборки для детектирование MDE\n",
    "\n",
    "    Аргументы:\n",
    "    alpha -- желаемая ошибка первого рода\n",
    "    beta -- желаемая мощность\n",
    "    mde -- необходимый эффект\n",
    "    var_R -- дисперсии выборок\n",
    "    two_sided -- двусторонний или односторонний тест\n",
    "\n",
    "    Возвращает:\n",
    "    n -- теоретический минимальный размер выборки\n",
    "    '''\n",
    "\n",
    "    if two_sided:\n",
    "        z_alpha = sps.norm.ppf(1 - alpha / 2)\n",
    "    else:\n",
    "        z_alpha = sps.norm.ppf(1 - alpha)\n",
    "    z_beta = sps.norm.ppf(beta)\n",
    "    q_sum = z_alpha + z_beta\n",
    "    n = np.ceil((q_sum ** 2) * 2 * var_R / (mde ** 2)).astype(int)\n",
    "    return n"
   ]
  },
  {
   "cell_type": "code",
   "execution_count": null,
   "metadata": {
    "colab": {
     "base_uri": "https://localhost:8080/",
     "height": 363
    },
    "id": "ZbkXDP7a5X_1",
    "outputId": "b95d0e7e-b75f-44ea-c165-8c0e9712cf7c"
   },
   "outputs": [],
   "source": [
    "mde_grid = np.arange(0.01, 0.1, 0.01).reshape(-1, 1)  # относительный MDE\n",
    "beta_grid = np.arange(0.6, 1, 0.05)  # мощность\n",
    "alpha = 0.05 # выбранный теоретический уровень значимости\n",
    "var = data['Glucose'].var()  # дисперсия, расчет зависит от выбранного типа теста: абсолютный или относительный\n",
    "mean_glucose = data['Glucose'].mean()  # среднее значение уровня глюкозы\n",
    "\n",
    "mde_grid_abs = mde_grid * mean_glucose\n",
    "\n",
    "sample_sizes = np.zeros((len(mde_grid), len(beta_grid)))\n",
    "\n",
    "for i, mde in enumerate(mde_grid_abs):\n",
    "    for j, beta in enumerate(beta_grid):\n",
    "        n = get_sample_size(alpha, beta, mde, var, two_sided=False)\n",
    "        sample_sizes[i, j] = n\n",
    "\n",
    "sample_sizes_df = pd.DataFrame(sample_sizes, index=mde_grid.flatten(), columns=beta_grid)\n",
    "sample_sizes_df.index.name = 'MDE'\n",
    "sample_sizes_df.columns.name = 'Power'\n",
    "\n",
    "sample_sizes_df"
   ]
  },
  {
   "cell_type": "markdown",
   "metadata": {
    "id": "ayHzW9KH-YCS"
   },
   "source": [
    "**Ответ:**\n",
    "\n",
    "Для необходимого размера выборки, равного 253, после фильтрации данных с условием `Outcome == 1`, в датасете остается всего 268 наблюдений. Это делает невозможным формирование двух независимых выборок размером 253 без замены, так как доступное количество данных недостаточно. В такой ситуации можно рассмотреть использование всего датасета без фильтрации по `Outcome`."
   ]
  },
  {
   "cell_type": "markdown",
   "metadata": {
    "id": "DwcI5HVVAkXt"
   },
   "source": [
    "Для выбранного критерия проведите АА-тест по историческим данным. Если исторических данных оказалось недостаточно для вашей модели, придумайте способ решения проблемы."
   ]
  },
  {
   "cell_type": "code",
   "execution_count": null,
   "metadata": {
    "id": "nA4KY1kVF16d"
   },
   "outputs": [],
   "source": [
    "DATA_PATH = './diabetes.csv'\n",
    "data = pd.read_csv(DATA_PATH)\n",
    "data_glucose = data['Glucose'].dropna().values"
   ]
  },
  {
   "cell_type": "code",
   "execution_count": null,
   "metadata": {
    "id": "kOuYrVw2_9md"
   },
   "outputs": [],
   "source": [
    "sample_size = 253\n",
    "alpha = 0.05"
   ]
  },
  {
   "cell_type": "code",
   "execution_count": null,
   "metadata": {
    "colab": {
     "base_uri": "https://localhost:8080/"
    },
    "id": "TPg7tfjyDkAy",
    "outputId": "a47dedc7-0030-45fb-b361-f3a07118f91b"
   },
   "outputs": [],
   "source": [
    "p_vals = []\n",
    "\n",
    "for i in tqdm(range(2000)):\n",
    "\n",
    "    sample1, sample2 = np.random.choice(data_glucose, (2, sample_size), replace=False)\n",
    "\n",
    "    t_stat, p_val = sps.ttest_ind(sample1, sample2, equal_var=False)\n",
    "    p_vals.append(p_val)\n",
    "\n",
    "p_vals = np.array(p_vals)"
   ]
  },
  {
   "cell_type": "code",
   "execution_count": null,
   "metadata": {
    "id": "Qe8lIpNPEoxt"
   },
   "outputs": [],
   "source": [
    "def draw_interval(\n",
    "    real_alpha, left_bound, right_bound,\n",
    "    alpha=0.05, new_fig=True\n",
    "):\n",
    "    '''\n",
    "    Отрисовка интервала для вероятности отвержения критерия\n",
    "\n",
    "    Аргументы:\n",
    "    real_alpha -- оценка реального уровня значимости\n",
    "    left_bound, right_bound -- границы дов. интервала\n",
    "    alpha -- теоретический уровень значимости\n",
    "    new_fig -- coздавать ли новую matplotlib figure\n",
    "    '''\n",
    "\n",
    "    if new_fig:\n",
    "        plt.figure(figsize=(7, 3.5))\n",
    "\n",
    "    plt.hlines(0, 0, 1,\n",
    "               color='black', lw=2, alpha=0.6)\n",
    "    plt.vlines(alpha, -1, 1,\n",
    "               color='red', lw=2, linestyle='--', alpha=0.6)\n",
    "    plt.fill_between([left_bound, right_bound], [0.1]*2, [-0.1]*2,\n",
    "                     color='green', alpha=0.6)\n",
    "    plt.scatter(real_alpha, 0, s=300, marker='*', color='red')\n",
    "    plt.xlim((min(alpha, left_bound)-1e-3, max(alpha, right_bound)+1e-3))\n",
    "    plt.title(\n",
    "            f'Доля отвержений = {100*real_alpha:.2f}%, '\n",
    "            f'интервал ({100*left_bound:.2f}%, {100*right_bound:.2f}%)'\n",
    "        )\n",
    "    plt.ylim((-0.5, 0.5))\n",
    "    plt.yticks([])"
   ]
  },
  {
   "cell_type": "code",
   "execution_count": null,
   "metadata": {
    "colab": {
     "base_uri": "https://localhost:8080/",
     "height": 380
    },
    "id": "gCkan5fPE0Ro",
    "outputId": "7d835bed-51a3-429b-90b8-f353a5a3d13b"
   },
   "outputs": [],
   "source": [
    "real_alpha = (p_vals < alpha).mean()\n",
    "print(f'Реальный уровень значимости: {real_alpha.round(2)}')\n",
    "left_alpha, right_alpha = proportion_confint((p_vals < alpha).sum(), len(p_vals), method='wilson')\n",
    "draw_interval(real_alpha, left_alpha, right_alpha, alpha=alpha)"
   ]
  },
  {
   "cell_type": "markdown",
   "metadata": {
    "id": "kQ687217fORS"
   },
   "source": [
    "Посмотрите также на гистограмму p-value"
   ]
  },
  {
   "cell_type": "code",
   "execution_count": null,
   "metadata": {
    "colab": {
     "base_uri": "https://localhost:8080/",
     "height": 590
    },
    "id": "2-fHP_TCfU33",
    "outputId": "58d1165d-9b71-4f2c-ae70-7e426f6308dd"
   },
   "outputs": [],
   "source": [
    "plt.figure(figsize=(10, 6))\n",
    "plt.hist(\n",
    "    p_vals, bins=20, alpha=0.8, color='#4A90E2', edgecolor='black', linewidth=1.2\n",
    ")\n",
    "plt.axvline(\n",
    "    alpha, color='red', linestyle='--', linewidth=2, label=f\"Уровень значимости (α = {alpha})\"\n",
    ")\n",
    "plt.title(\"Распределение p-значений в АА-тесте\", fontsize=16, fontweight='bold')\n",
    "plt.xlabel(\"p-value\", fontsize=14)\n",
    "plt.ylabel(\"Частота\", fontsize=14)\n",
    "plt.xticks(fontsize=12)\n",
    "plt.yticks(fontsize=12)\n",
    "plt.grid(True, which='both', linestyle='--', linewidth=0.5, alpha=0.7)\n",
    "plt.legend(fontsize=12)\n",
    "plt.tight_layout()\n",
    "plt.show()"
   ]
  },
  {
   "cell_type": "markdown",
   "metadata": {
    "id": "UE9wBtriHsaZ"
   },
   "source": [
    "Какие выводы о валидности выбранного критерия вы можете сделать?\n",
    "\n",
    "**Ответ:**\n",
    "\n",
    "Фактический уровень значимости составил 5.30%, что близко к теоретическому значению 5%. Это подтверждает, что тест корректно контролирует вероятность ошибки первого рода. Кроме того, доверительный интервал уровня значимости (4.40%−6.37%) включает целевое значение 5%, что дополнительно свидетельствует о корректности теста. Таким образом, критерий можно считать валидным для анализа данных в данной задаче.\n",
    "\n",
    "Проверьте также мощность критерия на выбранном `MDE`.\n"
   ]
  },
  {
   "cell_type": "code",
   "execution_count": null,
   "metadata": {
    "colab": {
     "base_uri": "https://localhost:8080/"
    },
    "id": "_ZOMPP6YHqJX",
    "outputId": "97e5cdde-5c89-4c5c-d135-c1cfb8fedaa9"
   },
   "outputs": [],
   "source": [
    "pvals = []\n",
    "\n",
    "for _ in tqdm(range(2000)):\n",
    "    sample1 = np.random.choice(data_glucose, sample_size, replace=False)\n",
    "    sample2 = np.random.choice(data_glucose, sample_size, replace=False)\n",
    "\n",
    "    sample2 = sample2 + mde\n",
    "    sample2 += sps.norm.rvs(size=len(sample2), scale=10)\n",
    "\n",
    "    t_stat, p_val = sps.ttest_ind(sample1, sample2, equal_var=False)\n",
    "    pvals.append(p_val)\n",
    "\n",
    "pvals = np.array(pvals)"
   ]
  },
  {
   "cell_type": "code",
   "execution_count": null,
   "metadata": {
    "colab": {
     "base_uri": "https://localhost:8080/"
    },
    "id": "eBL4O6CPIchI",
    "outputId": "49aef907-c251-4189-cacd-8ee9389413f1"
   },
   "outputs": [],
   "source": [
    "print(f'Реальная мощность критерия: {(pvals < alpha).mean().round(3)}')"
   ]
  },
  {
   "cell_type": "markdown",
   "metadata": {
    "id": "kuMtUTWK3ncc"
   },
   "source": [
    "**Итоговый вывод по задаче:**"
   ]
  },
  {
   "cell_type": "markdown",
   "metadata": {
    "id": "1U8cKTlHKXVv"
   },
   "source": [
    "При текущих параметрах эксперимента (размер выборки, уровень шума, MDE) реальная мощность критерия составляет 0.998, что свидетельствует о высокой способности теста обнаруживать эффект. Это означает, что выбранные параметры эксперимента обеспечивают достаточную чувствительность для выявления значимых изменений. Корректировка параметров, таких как размер выборки или уровень шума, в данном случае не требуется."
   ]
  }
 ],
 "metadata": {
  "colab": {
   "provenance": []
  },
  "kernelspec": {
   "display_name": "Python 3 (ipykernel)",
   "language": "python",
   "name": "python3"
  },
  "language_info": {
   "codemirror_mode": {
    "name": "ipython",
    "version": 3
   },
   "file_extension": ".py",
   "mimetype": "text/x-python",
   "name": "python",
   "nbconvert_exporter": "python",
   "pygments_lexer": "ipython3",
   "version": "3.10.9"
  }
 },
 "nbformat": 4,
 "nbformat_minor": 0
}
