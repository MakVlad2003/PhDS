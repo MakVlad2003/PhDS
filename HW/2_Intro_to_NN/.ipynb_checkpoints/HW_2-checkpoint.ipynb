{
 "cells": [
  {
   "cell_type": "markdown",
   "id": "0",
   "metadata": {
    "id": "7a7483403bdbd538"
   },
   "source": [
    "# <a href=\"https://miptstats.github.io/courses/ad_mipt.html\">Phystech@DataScience</a>\n",
    "## Домашнее задание 2\n",
    "\n",
    "**Правила, <font color=\"red\">прочитайте внимательно</font>:**\n",
    "\n",
    "* Выполненную работу нужно отправить телеграм-боту `@miptstats_pds_bot`. Для начала работы с ботом каждый раз отправляйте `/start`. **Работы, присланные иным способом, не принимаются.**\n",
    "* Дедлайн см. в боте. После дедлайна работы не принимаются кроме случаев наличия уважительной причины.\n",
    "* Прислать нужно ноутбук в формате `ipynb`.\n",
    "* Выполнять задание необходимо полностью самостоятельно. **При обнаружении списывания все участники списывания будут сдавать устный зачет.**\n",
    "* Решения, размещенные на каких-либо интернет-ресурсах, не принимаются. Кроме того, публикация решения в открытом доступе может быть приравнена к предоставлении возможности списать.\n",
    "* Для выполнения задания используйте этот ноутбук в качестве основы, ничего не удаляя из него. Можно добавлять необходимое количество ячеек.\n",
    "* Комментарии к решению пишите в markdown-ячейках.\n",
    "* Выполнение задания (ход решения, выводы и пр.) должно быть осуществлено на русском языке.\n",
    "* Если код будет не понятен проверяющему, оценка может быть снижена.\n",
    "* Никакой код из данного задания при проверке запускаться не будет. *Если код студента не выполнен, недописан и т.д., то он не оценивается.*\n",
    "* **Код из рассказанных на занятиях ноутбуков можно использовать без ограничений.**\n",
    "\n",
    "**Правила оформления теоретических задач:**\n",
    "\n",
    "* Решения необходимо прислать одним из следующих способов:\n",
    "  * фотографией в правильной ориентации, где все четко видно, а почерк разборчив,\n",
    "    * отправив ее как файл боту вместе с ноутбуком *или*\n",
    "    * вставив ее в ноутбук посредством `Edit -> Insert Image` (<font color=\"red\">фото, вставленные ссылкой, не принимаются</font>);\n",
    "  * в виде $\\LaTeX$ в markdown-ячейках.\n",
    "* Решения не проверяются, если какое-то требование не выполнено. Особенно внимательно все проверьте в случае выбора второго пункта (вставки фото в ноутбук). <font color=\"red\"><b>Неправильно вставленные фотографии могут не передаться при отправке.</b></font> Для проверки попробуйте переместить `ipynb` в другую папку и открыть его там.\n",
    "* В решениях поясняйте, чем вы пользуетесь, хотя бы кратко. Например, если пользуетесь независимостью, то достаточно подписи вида \"*X и Y незав.*\"\n",
    "* Решение, в котором есть только ответ, и отсутствуют вычисления, оценивается в 0 баллов.\n",
    "\n",
    "**Баллы за задание:**\n",
    "\n",
    "* Задача 1 &mdash;  50 баллов\n",
    "* Задача 2 &mdash;  30 баллов\n",
    "\n",
    "\n",
    "\n",
    "\n",
    "-----"
   ]
  },
  {
   "cell_type": "code",
   "execution_count": null,
   "id": "1",
   "metadata": {
    "id": "34e2ebd39891ec11"
   },
   "outputs": [],
   "source": [
    "import numpy as np\n",
    "import matplotlib.pyplot as plt\n",
    "import pandas as pd\n",
    "import seaborn as sns\n",
    "import os\n",
    "import shutil\n",
    "\n",
    "import torch\n",
    "from torch import nn\n",
    "import torchvision\n",
    "from torchvision import transforms\n",
    "from sklearn.metrics import f1_score\n",
    "from sklearn.utils.random import sample_without_replacement\n",
    "from IPython.display import Image, clear_output\n",
    "from collections import defaultdict\n",
    "from torch.optim import lr_scheduler\n",
    "from matplotlib.animation import FuncAnimation, ImageMagickFileWriter\n",
    "import time\n",
    "from sklearn.model_selection import train_test_split\n",
    "\n",
    "%matplotlib inline"
   ]
  },
  {
   "cell_type": "markdown",
   "id": "2",
   "metadata": {
    "id": "1f8dab69b24a754b"
   },
   "source": [
    "### Задача 1.\n",
    "\n",
    "* Реализуйте обучение и тестирование нейронной сети из прошлого домашнего задания с использованием PyTorch Lightning и Tensorboard.\n",
    "* Улучшите архитектуру сети с учетом новых знаний.\n",
    "* Проведите минимум 7 экспериментов для определения наилучших параметров обучения. Например, можно менять вероятность отключения нейронов в слоях Dropout, число нейронов на скрытых слоях, learning rate. Возможно, вы захотите воспользоваться learning rate scheduler, а также проверить разные оптимизаторы.\n",
    "\n",
    "**Полезные ссылки:**\n",
    "[Lightning callbacks](https://lightning.ai/docs/pytorch/stable/extensions/callbacks.html)\n",
    "[Lightning learning rate schedulers](https://pytorch.org/docs/2.4/optim.html#how-to-adjust-learning-rate)"
   ]
  },
  {
   "cell_type": "markdown",
   "id": "3",
   "metadata": {
    "id": "5556070d1a12d711"
   },
   "source": [
    "**Далее идёт предобработка биологического датасета, которую можно удалить, если вы работаете с физическим. После этого блока (см. ниже) идёт общая часть с созданием, обучением и тестированием нейросети.**"
   ]
  },
  {
   "cell_type": "markdown",
   "id": "4",
   "metadata": {
    "id": "85de8f50d202bd29"
   },
   "source": [
    "#### Профиль биология\n",
    "\n",
    "Скачайте [датасет](https://disk.yandex.ru/d/FVoQGn5q1td7Vw), описывающий влияние курения и алкоголя на человека. Создайте и обучите нейросеть, разделяющую эти два класса.\n",
    "\n",
    "[Описание датасета](https://www.kaggle.com/datasets/sooyoungher/smoking-drinking-dataset)"
   ]
  },
  {
   "cell_type": "markdown",
   "id": "5",
   "metadata": {
    "id": "EWnB361vA8QF"
   },
   "source": [
    "Всю предобработку я позаимвствую из предыдущего ДЗ"
   ]
  },
  {
   "cell_type": "code",
   "execution_count": null,
   "id": "6",
   "metadata": {
    "colab": {
     "base_uri": "https://localhost:8080/"
    },
    "id": "P2EAzmxq8XPM",
    "outputId": "d0f86aac-9c6e-4688-8263-829735c2b236"
   },
   "outputs": [],
   "source": [
    "!unzip /content/smoking_drinking_dataset.zip"
   ]
  },
  {
   "cell_type": "code",
   "execution_count": null,
   "id": "7",
   "metadata": {
    "colab": {
     "base_uri": "https://localhost:8080/",
     "height": 256
    },
    "id": "E8FRjWEDaedD",
    "outputId": "eecdc6a0-4d08-4b23-8afe-baf99d7349ff"
   },
   "outputs": [],
   "source": [
    "df = pd.read_csv('smoking_driking_dataset_Ver01.csv')\n",
    "df.head()"
   ]
  },
  {
   "cell_type": "code",
   "execution_count": null,
   "id": "8",
   "metadata": {
    "colab": {
     "base_uri": "https://localhost:8080/"
    },
    "id": "MNJHySKhawzU",
    "outputId": "8c081f93-b54b-475e-df88-124f93d70330"
   },
   "outputs": [],
   "source": [
    "df.info()"
   ]
  },
  {
   "cell_type": "markdown",
   "id": "9",
   "metadata": {
    "id": "C4ikTNwHIsTj"
   },
   "source": [
    "Видно, что объекты класса `'sex'` принадлежат типу `'object'`. Заменим `Male` на 1, `Female` на 0:"
   ]
  },
  {
   "cell_type": "code",
   "execution_count": null,
   "id": "10",
   "metadata": {
    "colab": {
     "base_uri": "https://localhost:8080/",
     "height": 429
    },
    "id": "hVEQpUT19Lmb",
    "outputId": "bfca2d34-4dda-40aa-88d2-3eb462572476"
   },
   "outputs": [],
   "source": [
    "df['sex'][df['sex'] == 'Male'] = 1\n",
    "df['sex'][df['sex'] == 'Female'] = 0\n",
    "df.head()"
   ]
  },
  {
   "cell_type": "markdown",
   "id": "11",
   "metadata": {
    "id": "3qHvZ5Ouuspf"
   },
   "source": [
    "Проанализируйте датасет, разделяя его по:\n",
    "* курит &mdash; 3\n",
    "* курил, но бросил &mdash; 2\n",
    "* никогда не курил &mdash; 1"
   ]
  },
  {
   "cell_type": "markdown",
   "id": "12",
   "metadata": {
    "id": "W_XgAfIPJg2o"
   },
   "source": [
    "Проведем поверхностный анализ, построив гистограмму:"
   ]
  },
  {
   "cell_type": "code",
   "execution_count": null,
   "id": "13",
   "metadata": {
    "id": "Z71SBlgRJkAV"
   },
   "outputs": [],
   "source": [
    "smokers = df[df.SMK_stat_type_cd == 3].shape[0]\n",
    "past_smokers = df[df.SMK_stat_type_cd == 2].shape[0]\n",
    "no_smokers = df[df.SMK_stat_type_cd == 1].shape[0]\n",
    "\n",
    "labels = ['smokers', 'past_smokers', 'no_smokers']\n",
    "values = [smokers, past_smokers, no_smokers]"
   ]
  },
  {
   "cell_type": "code",
   "execution_count": null,
   "id": "14",
   "metadata": {
    "colab": {
     "base_uri": "https://localhost:8080/",
     "height": 556
    },
    "id": "3_vy9tTZKtLQ",
    "outputId": "3ac7337d-b5c1-478b-c208-8d80fd0cfd30"
   },
   "outputs": [],
   "source": [
    "sns.barplot(x = labels, y = values, palette = ['blue', 'green', 'orange'])\n",
    "plt.title('Smoking Status Distribution')"
   ]
  },
  {
   "cell_type": "markdown",
   "id": "15",
   "metadata": {
    "id": "Wrn2mnwfQQBG"
   },
   "source": [
    "**Вывод:**\n",
    "\n",
    "Так как нам предстоит проклассифицировать людей с плохими привычками и без них, то нам нужно будет решить задачу бинарной классификации. Исходя из поверхностного анализа, предлагаю объединить курильщиков и бывших курильщиков в одну группу. Тогда наши классы будут вполне всбалансированы."
   ]
  },
  {
   "cell_type": "markdown",
   "id": "16",
   "metadata": {
    "id": "9f4jgeTtk59Q"
   },
   "source": [
    "Попробуем классифицировать людей с плохими привычками и без них. Для этого создайте дополнительный столбец в таблице, который будет содержать информацию о том, имеет ли человек вредные привычки или нет."
   ]
  },
  {
   "cell_type": "markdown",
   "id": "17",
   "metadata": {
    "id": "SgzPg11vRJ2J"
   },
   "source": [
    "**Невероятно, но факт:** употребление алкоголя/пьянство - это плохая привычка!\n",
    "\n",
    "Поэтому предлагаю создать столбец `Bad_habits` следующим образом:\n",
    "\n",
    "*   Пьющие, курящие и бросившие курить люди - `True`\n",
    "*   Непьющие и некурящие - `False`"
   ]
  },
  {
   "cell_type": "code",
   "execution_count": null,
   "id": "18",
   "metadata": {
    "colab": {
     "base_uri": "https://localhost:8080/",
     "height": 551
    },
    "id": "dhV6WxMG9ZB7",
    "outputId": "76901dcc-130d-4f04-b651-922a80bc27e5"
   },
   "outputs": [],
   "source": [
    "df['SMK_stat_type_cd'][df['SMK_stat_type_cd'] == 1] = False\n",
    "df['SMK_stat_type_cd'][df['SMK_stat_type_cd'] == 2] = True\n",
    "df['SMK_stat_type_cd'][df['SMK_stat_type_cd'] == 3] = True\n",
    "\n",
    "df['DRK_YN'][df['DRK_YN'] == 'Y'] = True\n",
    "df['DRK_YN'][df['DRK_YN'] == 'N'] = False\n",
    "\n",
    "df['Bad_habits'] = df['SMK_stat_type_cd'] | df['DRK_YN']\n",
    "\n",
    "df.head()"
   ]
  },
  {
   "cell_type": "markdown",
   "id": "19",
   "metadata": {
    "id": "G9-eDwLSnPbd"
   },
   "source": [
    "Теперь смотрим на разделение по привычкам"
   ]
  },
  {
   "cell_type": "code",
   "execution_count": null,
   "id": "20",
   "metadata": {
    "colab": {
     "base_uri": "https://localhost:8080/",
     "height": 556
    },
    "id": "JeBMMW8H9dkD",
    "outputId": "ad26a2a3-0dd2-401b-a4c7-405b85703c39"
   },
   "outputs": [],
   "source": [
    "bad = df[df.Bad_habits == 1].shape[0]\n",
    "good = df[df.Bad_habits == 0].shape[0]\n",
    "\n",
    "labels = ['Bad_habits', 'Good_habits']\n",
    "\n",
    "sns.barplot(x = labels, y = [bad, good], palette = ['green', 'orange'])\n",
    "plt.title('Habitis Status Distribution')"
   ]
  },
  {
   "cell_type": "markdown",
   "id": "21",
   "metadata": {
    "id": "WGhtMXA9T5eV"
   },
   "source": [
    "**Вывод:**\n",
    "\n",
    "Сильного дисбаланса не наблюдается. Жить можно."
   ]
  },
  {
   "cell_type": "markdown",
   "id": "22",
   "metadata": {
    "id": "gLKIv5opel5K"
   },
   "source": [
    "Какие признаки вы бы использовали для разделения людей по классам? Выберите эти столбцы и создайте наборы train и test с помощью функции train_test_split, а также выделите набор данных для валидации при обучении."
   ]
  },
  {
   "cell_type": "markdown",
   "id": "23",
   "metadata": {
    "id": "MEbkC4d8UKb0"
   },
   "source": [
    "Так как фичей у нас не очень много, то можно посмотреть на матрицу корреляций между признакми, где особое внимание обратим на корреляцию столбца `True` с остальными признаками:"
   ]
  },
  {
   "cell_type": "code",
   "execution_count": null,
   "id": "24",
   "metadata": {
    "colab": {
     "base_uri": "https://localhost:8080/",
     "height": 1000
    },
    "id": "bcUqqdZxcwN-",
    "outputId": "a4971133-8b20-4cc9-8c34-17fdd75aec55"
   },
   "outputs": [],
   "source": [
    "corr = df[df.columns].corr()\n",
    "\n",
    "plt.figure(figsize = (15, 12))\n",
    "\n",
    "sns.heatmap(corr, xticklabels = corr.columns.values, yticklabels = corr.columns.values)"
   ]
  },
  {
   "cell_type": "markdown",
   "id": "25",
   "metadata": {
    "id": "GbyeWBoBXgwP"
   },
   "source": [
    "Выведем списки корреляций признаков со столбцом `Bad_habits`:"
   ]
  },
  {
   "cell_type": "code",
   "execution_count": null,
   "id": "26",
   "metadata": {
    "colab": {
     "base_uri": "https://localhost:8080/"
    },
    "id": "hiEPC00DXzZe",
    "outputId": "737d8c24-17e3-401e-f711-18358ccb6702"
   },
   "outputs": [],
   "source": [
    "cor = df.corr()['Bad_habits']\n",
    "\n",
    "# Сильная корреляция (0.7 <= r)\n",
    "strong = cor[abs(cor) >= 0.7].index.tolist()\n",
    "\n",
    "# Средняя корреляция (0.5 <= r < 0.7)\n",
    "medium = cor[(abs(cor) >= 0.5) & (abs(cor) < 0.7)].index.tolist()\n",
    "\n",
    "# Умеренная корреляция (0.3 <= r < 0.5)\n",
    "moderate = cor[(abs(cor) >= 0.3) & (abs(cor) < 0.5)].index.tolist()\n",
    "\n",
    "# Слабая корреляция (0.2 <= r < 0.3)\n",
    "weak = cor[(abs(cor) >= 0.2) & (abs(cor) < 0.3)].index.tolist()\n",
    "\n",
    "# Очень слабая корреляция (r < 0.2)\n",
    "so_weak = cor[abs(cor) < 0.2].index.tolist()\n",
    "\n",
    "print('Сильная корреляция:', strong)\n",
    "print('Средняя корреляция:', medium)\n",
    "print('Умеренная корреляция:', moderate)\n",
    "print('Слабая корреляция:', weak)\n",
    "print('Очень слабая корреляция:', so_weak)"
   ]
  },
  {
   "cell_type": "markdown",
   "id": "27",
   "metadata": {
    "id": "VHU8So5UYIP6"
   },
   "source": [
    "В качестве фичей возьмем фичи, обладающие слабой и средней корреляцией. `SMK_stat_type_cd` не будем учитывать так как ранее мы использовали это для анализа людей с плохими привычками. Посмотрим на их KDE:"
   ]
  },
  {
   "cell_type": "code",
   "execution_count": null,
   "id": "28",
   "metadata": {
    "colab": {
     "base_uri": "https://localhost:8080/",
     "height": 385
    },
    "id": "sk3STxvEeR9-",
    "outputId": "e28c7412-ea79-48ba-83d3-057c6a5cdd4e"
   },
   "outputs": [],
   "source": [
    "plt.figure(figsize = (20, 5))\n",
    "\n",
    "features = ['sex', 'height', 'weight', 'hemoglobin', 'age']\n",
    "for i, feature in enumerate(features):\n",
    "    plt.subplot(1, len(features), i + 1)\n",
    "    if feature == 'sex':\n",
    "        sns.histplot(data = df, x = feature, hue = 'Bad_habits', multiple = 'stack', stat = 'density', alpha = 0.5)\n",
    "        plt.title(f'Гистограмма для {feature} по Bad_habits')\n",
    "    else:\n",
    "        sns.kdeplot(data = df, x = feature, hue = 'Bad_habits', fill = True)\n",
    "        plt.title(f'KDE для {feature} по Bad_habits')\n",
    "\n",
    "plt.tight_layout()\n",
    "plt.show()"
   ]
  },
  {
   "cell_type": "markdown",
   "id": "29",
   "metadata": {
    "id": "zV9rt8BEBunZ"
   },
   "source": [
    "В прошлый раз я решил провести дополнительный анализ на выбранных признаках, но результат оказался хуже, чем при использовании всего датасета. Теперь попробую улучшить результаты, изменив архитектуру нейронной сети, добавив BatchNorm и применив возможности PyTorch Lightning."
   ]
  },
  {
   "cell_type": "markdown",
   "id": "30",
   "metadata": {
    "id": "9664ad28fddf6743"
   },
   "source": [
    "#### Общая часть"
   ]
  },
  {
   "cell_type": "code",
   "execution_count": null,
   "id": "31",
   "metadata": {
    "colab": {
     "base_uri": "https://localhost:8080/"
    },
    "id": "4090067867437553",
    "outputId": "52060228-bc58-42bf-b70d-b177825e789d"
   },
   "outputs": [],
   "source": [
    "!pip install lightning\n",
    "!pip install tensorboard\n",
    "!pip install mlflow"
   ]
  },
  {
   "cell_type": "code",
   "execution_count": null,
   "id": "32",
   "metadata": {
    "id": "opZk4MET_SBJ"
   },
   "outputs": [],
   "source": [
    "data_features = df[features]\n",
    "target = df['Bad_habits'].astype(int)\n",
    "\n",
    "X_train, X_test_valid, y_train, y_test_valid = train_test_split(\n",
    "    data_features, target, test_size = 0.2, random_state = 42\n",
    ")\n",
    "\n",
    "X_valid, X_test, y_valid, y_test = train_test_split(\n",
    "    X_test_valid, y_test_valid, test_size = 0.5, random_state = 42)"
   ]
  },
  {
   "cell_type": "markdown",
   "id": "33",
   "metadata": {
    "id": "aBaqdwKXDt-O"
   },
   "source": [
    "Стандартизируйте данные"
   ]
  },
  {
   "cell_type": "code",
   "execution_count": null,
   "id": "34",
   "metadata": {
    "id": "c6IMu4K9Dvsc"
   },
   "outputs": [],
   "source": [
    "from sklearn.preprocessing import StandardScaler\n",
    "\n",
    "scaler = StandardScaler()\n",
    "\n",
    "X_train_s = scaler.fit_transform(X_train)\n",
    "X_test_s  = scaler.transform(X_test)\n",
    "X_valid_s = scaler.transform(X_valid)"
   ]
  },
  {
   "cell_type": "markdown",
   "id": "35",
   "metadata": {
    "id": "w6pfOEW2D06d"
   },
   "source": [
    "Далее сформируйте датасет в pytorch-обертке:"
   ]
  },
  {
   "cell_type": "code",
   "execution_count": null,
   "id": "36",
   "metadata": {
    "colab": {
     "base_uri": "https://localhost:8080/"
    },
    "id": "raedk77eD3Il",
    "outputId": "75c102a8-0c77-4606-b70c-b0a3133af3e8"
   },
   "outputs": [],
   "source": [
    "from torch.utils.data import TensorDataset, DataLoader\n",
    "\n",
    "batch_size = 512\n",
    "\n",
    "device = torch.device('cuda') if torch.cuda.is_available() else 'cpu'\n",
    "device"
   ]
  },
  {
   "cell_type": "code",
   "execution_count": null,
   "id": "37",
   "metadata": {
    "id": "jXIREm16Loqo"
   },
   "outputs": [],
   "source": [
    "X_train_t = torch.from_numpy(X_train_s).to(torch.float32).to(device)\n",
    "X_test_t  = torch.from_numpy(X_test_s ).to(torch.float32).to(device)\n",
    "X_val_t   = torch.from_numpy(X_valid_s).to(torch.float32).to(device)\n",
    "\n",
    "y_train_t = torch.from_numpy(np.array(y_train)).to(torch.float32).to(device)\n",
    "y_test_t  = torch.from_numpy(np.array(y_test )).to(torch.float32).to(device)\n",
    "y_val_t   = torch.from_numpy(np.array(y_valid)).to(torch.float32).to(device)\n",
    "\n",
    "train_dataset = TensorDataset(X_train_t, y_train_t)\n",
    "test_dataset = TensorDataset(X_test_t, y_test_t)\n",
    "val_dataset = TensorDataset(X_val_t, y_val_t)\n",
    "\n",
    "train_dataloader = DataLoader(train_dataset, batch_size=batch_size, drop_last=True)\n",
    "test_dataloader = DataLoader(test_dataset, batch_size=batch_size, drop_last=True)\n",
    "val_dataloader = DataLoader(val_dataset, batch_size=batch_size, drop_last=True)"
   ]
  },
  {
   "cell_type": "markdown",
   "id": "38",
   "metadata": {
    "id": "Nln9Ps9nELt-"
   },
   "source": [
    "Зададим базовый класс модели:"
   ]
  },
  {
   "cell_type": "code",
   "execution_count": null,
   "id": "39",
   "metadata": {
    "id": "FhPtd9WLEMj2"
   },
   "outputs": [],
   "source": [
    "class MySimpleModel(nn.Module):\n",
    "    def __init__(self):\n",
    "        '''\n",
    "        Здесь объявляем все слои, которые будем использовать\n",
    "        '''\n",
    "        super(MySimpleModel, self).__init__()\n",
    "        self.linear1 = nn.Linear(5, 256)\n",
    "        self.linear2 = nn.Linear(256, 64)\n",
    "        self.linear3 = nn.Linear(64, 1)\n",
    "\n",
    "    def forward(self, x):\n",
    "        '''\n",
    "        Здесь пишем в коде, в каком порядке какой слой будет применяться\n",
    "        '''\n",
    "        x = self.linear1(nn.Flatten()(x))\n",
    "        x = self.linear2(nn.ReLU()(x))\n",
    "        x = self.linear3(nn.ReLU()(x))\n",
    "        return x.squeeze()"
   ]
  },
  {
   "cell_type": "markdown",
   "id": "40",
   "metadata": {
    "id": "ZRPwWtjSEh8e"
   },
   "source": [
    "Теперь начнем использовать преимущества Lightning:"
   ]
  },
  {
   "cell_type": "code",
   "execution_count": null,
   "id": "41",
   "metadata": {
    "id": "YH3aADWmEj3k"
   },
   "outputs": [],
   "source": [
    "import lightning.pytorch as pl\n",
    "from torchmetrics.classification import BinaryAUROC\n",
    "from lightning.pytorch import loggers as pl_loggers\n",
    "from lightning.pytorch.callbacks import Callback, ModelCheckpoint, DeviceStatsMonitor, EarlyStopping"
   ]
  },
  {
   "cell_type": "code",
   "execution_count": null,
   "id": "42",
   "metadata": {
    "id": "i96n9oEaEnbq"
   },
   "outputs": [],
   "source": [
    "class MySimpleModelLightning(pl.LightningModule):\n",
    "    def __init__(self, lr=0.01, n_classes=2):\n",
    "        super().__init__()\n",
    "\n",
    "        self.criterion = nn.BCEWithLogitsLoss()\n",
    "        self.lr = lr\n",
    "        self.n_classes = n_classes\n",
    "        self.save_hyperparameters()\n",
    "        self.model = MySimpleModel()\n",
    "        self.roc_auc = BinaryAUROC()\n",
    "\n",
    "    def forward(self, x):\n",
    "        '''Forward pass'''\n",
    "        return self.model(x)\n",
    "\n",
    "    def training_step(self, batch, batch_idx):\n",
    "        '''Возвращает лосс с 1 шага обучения по батчу'''\n",
    "        preds_prob, loss, roc_auc = self.__get_preds_loss_roc_auc(batch)\n",
    "\n",
    "        # Логируем лосс и метрики\n",
    "        self.log('train_loss', loss)\n",
    "        self.log('train_roc_auc', roc_auc)\n",
    "        return loss\n",
    "\n",
    "    def validation_step(self, batch, batch_idx):\n",
    "        '''Используется для логирования метрик'''\n",
    "        preds_prob, loss, roc_auc = self.__get_preds_loss_roc_auc(batch)\n",
    "\n",
    "        # Логируем лосс и метрики\n",
    "        self.log('val_loss', loss)\n",
    "        self.log('val_roc_auc', roc_auc)\n",
    "\n",
    "        # Возвращаем предсказания, чтобы использовать их в callback\n",
    "        return preds_prob\n",
    "\n",
    "    def test_step(self, batch, batch_idx):\n",
    "        '''Шаг тестирования'''\n",
    "        preds_prob, loss, roc_auc = self.__get_preds_loss_roc_auc(batch)\n",
    "        self.log('test_loss', loss)\n",
    "        self.log('test_roc_auc', roc_auc)\n",
    "        return preds_prob\n",
    "\n",
    "    def configure_optimizers(self):\n",
    "        '''Определяет оптимизатор модели'''\n",
    "        return torch.optim.Adam(self.parameters(), lr=self.lr)\n",
    "\n",
    "    def __get_preds_loss_roc_auc(self, batch):\n",
    "        '''Вспомогательная функция для шага обучения / валидации'''\n",
    "        x, y = batch\n",
    "        logits = self(x)\n",
    "        preds_prob = torch.sigmoid(logits)  # Получаем вероятности\n",
    "        preds_class = (preds_prob > 0.5).float()  # Классы\n",
    "        loss = self.criterion(logits, y)\n",
    "        roc_auc = self.roc_auc(preds_prob, y.int())\n",
    "\n",
    "        return preds_class, loss, roc_auc"
   ]
  },
  {
   "cell_type": "markdown",
   "id": "43",
   "metadata": {
    "id": "ICI1M7o6HNq1"
   },
   "source": [
    "Инициализация логгеров:"
   ]
  },
  {
   "cell_type": "code",
   "execution_count": null,
   "id": "44",
   "metadata": {
    "id": "HqFlIlisHQC7"
   },
   "outputs": [],
   "source": [
    "tb_logger = pl_loggers.TensorBoardLogger(save_dir=\"lightning_logs/\")"
   ]
  },
  {
   "cell_type": "code",
   "execution_count": null,
   "id": "45",
   "metadata": {
    "id": "tz4L0iYNHYnG"
   },
   "outputs": [],
   "source": [
    "# инициализируем модель\n",
    "simple_model = MySimpleModelLightning()\n",
    "\n",
    "# Создаем чекпоинтер\n",
    "roc_auc_checkpoint_callback = ModelCheckpoint(monitor='val_roc_auc', mode='max')\n",
    "# Создаем мониторинг ресурсов\n",
    "device_stats = DeviceStatsMonitor()\n",
    "# Создаем коллбек для остановки обучения в случае отсутствия улучшений:\n",
    "early_stopping = EarlyStopping('val_loss')"
   ]
  },
  {
   "cell_type": "markdown",
   "id": "46",
   "metadata": {
    "id": "u31ipnHZIGN8"
   },
   "source": [
    "Создаем Trainer: нужно указать логгер, все функции callback, ускоритель и количество эпох."
   ]
  },
  {
   "cell_type": "code",
   "execution_count": null,
   "id": "47",
   "metadata": {
    "colab": {
     "base_uri": "https://localhost:8080/"
    },
    "id": "nTDOBQiCIHMQ",
    "outputId": "8d087596-9106-46fd-cce8-e52111838361"
   },
   "outputs": [],
   "source": [
    "trainer = pl.Trainer(\n",
    "    logger=tb_logger,\n",
    "    callbacks=[roc_auc_checkpoint_callback,\n",
    "               early_stopping,\n",
    "               device_stats],\n",
    "    accelerator=\"gpu\",\n",
    "    max_epochs=30)"
   ]
  },
  {
   "cell_type": "markdown",
   "id": "48",
   "metadata": {
    "id": "VFzXjNMKJfUu"
   },
   "source": [
    "Осталось обучить модель с помощью `train.fit`:"
   ]
  },
  {
   "cell_type": "code",
   "execution_count": null,
   "id": "49",
   "metadata": {
    "colab": {
     "base_uri": "https://localhost:8080/",
     "height": 535,
     "referenced_widgets": [
      "df04cdecc0c74a7eb9bf7444eb765aba",
      "b949491ebc424f98b0bc06da358dbd67",
      "5f3a42799b01408facd7ae92a521adca",
      "aa19a551dbf045fab9df9f8fffaa74de",
      "49cd6b5919144575aeaca067cdb3f970",
      "23c6451be091446ab831061b891ff135",
      "3a101e7b74f44a17b94920f37c9272b9",
      "8139dc06ee89441995b5d16178e98523",
      "3338bb9a52044dc78607fabb96397af3",
      "c9cca7630fad468a930b302c56f2832f",
      "f2bfde9d7c204ea687aed4bea5382fd6",
      "6831291ac50e404e83e87232ed148132",
      "767b4912577c425e941e8a62e5904bc2",
      "6524230f299244f1af4dc1e26035c0e2",
      "2b0012967215468babfd434bc96b1759",
      "aed9ca57c51a4900b28a22c080ccffef",
      "f331926a46744515b5c1f6c6c010c31b",
      "5cd4a317e0a0452890b24a4531ca76c2",
      "f65844f4081a43c595b13b28a1fa26f4",
      "9ef14218e0f64701ba5cd759508301c3",
      "0ef5f1bb64c44d93a7b3a79d8703f69d",
      "852c4b8caef04ef5990d829fbe0847b4",
      "8451ecbb1cad4877bea7e892a463dc26",
      "5c8906310c084d60b39ed76f539f512c",
      "c0a5920070dc49c8942cf30d856cf75b",
      "df4a165ad2734a41b5f6c446d3a07a04",
      "ffa47e63e4734105a7b049c4acc4be2f",
      "5b590bf138a94a5297e1eeffbc61992d",
      "e076da1103d24cafa28cd0287011e2ae",
      "79aa543733ef46179f241242c444ea3f",
      "b0bf9ee9e0ef405aa38ab37b68b67769",
      "079e6c56c24d4f279a7b6a7870d44720",
      "20ec28e5ec6a43279e56a6ca18396390",
      "310da5dd75b74ff5ab6b945713c918d1",
      "e75ff6e6c4cd4e6c97caa033b967f0bb",
      "012bc1b377f54d8798eff40a8c9fbaf6",
      "af6b522f0b8d471ea6080c1e98b6c892",
      "e0fa5ab55d08417bbdb2e0d039222716",
      "d89936d7dd7f4eb2b2805d7b9c127edb",
      "a85b5fa2a82547a6bc247309b1e4fed1",
      "e60f59d1364c4c04bbeafc001d9c3cd4",
      "450e7e3cdadc4f8495d178002481e67e",
      "3ec0e105c19547bd86d8a62d6b6017a7",
      "12f36e5dc01846cd8e94be26999fc53d",
      "232b23976d47433b83aef86a13d61d1e",
      "a81bf9891b8d47c9ab918527cddd88e6",
      "fcade87398684ffeaf1d65126a516259",
      "02b8578e8c7249b29c9f95d13d356648",
      "1ab8f3cfb92e4a0a8cf9498edc4ee0b3",
      "74d9127d8011428097408bd76ac94147",
      "544ba1c31e2843cea09bdbd4fea99067",
      "ef087619bc5244aab65a77621b4bf121",
      "7dfe7344c82c4c36b7025bb2fc0bb09f",
      "7eebc3a21ee64c3ab23bb0c7c7904892",
      "064e16fdc97143488ab7cc694b7ffb27",
      "b92cc8d3893041e0a9f169ac3c866095",
      "42e5316ba23e43d1873b3353b195805c",
      "a8021673c3d948a1a2dcb8bd531ec28d",
      "9ec6084cc2894f47834218a68baebfc7",
      "a129b3fc24784f8087daed80fec6b29c",
      "6c97e7c3b6bc49699eb01254016ac700",
      "d7daf763e7424714821112cc5ddd682b",
      "9144ef5ad4674a9f98dbb05e8e2b8e3f",
      "fe4d8a7ee54a4fb78fb57e1a179935f3",
      "b7f5714da676410f8afbed00ef57580b",
      "e29eaf4ff88f4de0a9cc614f9cd024dd",
      "ba9d85e9252347929dc4c3905ce8cddb",
      "4ef2cf34a2464db1a15a525b7037f703",
      "629f6c46c852449ebc02e05e6ed626ba",
      "9defa3917e6a4dc9a4d9eefc2d3844c2",
      "64825ddc1a144845a857eb78f4b1b3b6",
      "22fd67d11d324c7998f35b89ac9518ef",
      "a82d6b5f4d7e4349a94d2419ac5c4fdc",
      "cf50dcaab4af464d88b1dc3e7aa044b5",
      "98a196cea8e143858489144b93d1ff7e",
      "0f3d0533eee14bf183ebca5239163ca6",
      "dad2c2aef85f47ccbffdfcb671dd577a",
      "55215ceb774f4413aa3938f524afdf2a",
      "5e91770da1fe44e8a36e0f2fb06d273b",
      "650ad4664cc94fdda40b0868216aaa86",
      "acebe5a4849e4297ae48bb8d83cccdb8",
      "b21e3bdaf21d4c9fba617adfda15e7f3",
      "c1bab7fc5b644bce820087203d563c56",
      "d441a8e733004f2190bfd359a6753c54",
      "ebb86f151a224c0b80c0fcb4ae9e9fd4",
      "1f40b581c87a4dbdac1b435309702706",
      "ec44f498a8cc4ae8a95c12d38ef0f9ba",
      "acab39b95c3944c18d447386fea4c3ad"
     ]
    },
    "id": "T6wZcmWRJjDp",
    "outputId": "8a6138dd-f2b2-4da9-dddf-d8a0a2edff6c"
   },
   "outputs": [],
   "source": [
    "trainer.fit(simple_model, train_dataloader, val_dataloader)"
   ]
  },
  {
   "cell_type": "code",
   "execution_count": null,
   "id": "50",
   "metadata": {
    "id": "TZbMi2BGbImg"
   },
   "outputs": [],
   "source": [
    "# Интерактивный просмотр логов\n",
    "# %reload_ext tensorboard\n",
    "# %tensorboard --logdir=lightning_logs/"
   ]
  },
  {
   "cell_type": "code",
   "execution_count": null,
   "id": "51",
   "metadata": {
    "colab": {
     "base_uri": "https://localhost:8080/",
     "height": 203,
     "referenced_widgets": [
      "9df71e1d3f6347e3bf11999c73923bef",
      "e6814fbae8c947e5a0203c417d9044bd",
      "33309a5e319241c2ae3e7f92dcddaa94",
      "e0e4cdb4c900407f8dbb09ae4331f85c",
      "5d5d224a2a3c41ea8371159e754d94f4",
      "8fed8f1a2b9845cfb6b907f978656cad",
      "1255b4d7dece44fcacf523deae7814e3",
      "fbd9be8f08fa4ca79dfa3fb4b98a0bc7",
      "3f251ef0849a45d69a2786fa3aa53d4f",
      "93a73a877f2e4a6385fa820ab95ecc96",
      "453987f27a50465fa0d2baf56d73c6b0"
     ]
    },
    "id": "jgDjSjOMkspC",
    "outputId": "2d9e3d3a-8c03-4884-a03d-8b16bf7d8121"
   },
   "outputs": [],
   "source": [
    "trainer.test(simple_model, test_dataloader)"
   ]
  },
  {
   "cell_type": "markdown",
   "id": "52",
   "metadata": {
    "id": "kw-8qfs1cCRi"
   },
   "source": [
    "В целом получили те же результаты, что и в прошлой домашке. Это радует, значит мы нигде не ошиблись. Давайте улучшим архитектуру сети:"
   ]
  },
  {
   "cell_type": "code",
   "execution_count": null,
   "id": "53",
   "metadata": {
    "id": "FgpzaQ-OcI5e"
   },
   "outputs": [],
   "source": [
    "class MyEnhancedModel(nn.Module):\n",
    "    def __init__(self):\n",
    "        '''\n",
    "        Здесь объявляем все слои, которые будем использовать\n",
    "        '''\n",
    "        super(MyEnhancedModel, self).__init__()\n",
    "\n",
    "        self.linear1 = nn.Linear(5, 256)\n",
    "        self.bn1 = nn.BatchNorm1d(256)\n",
    "        self.dropout1 = nn.Dropout(0.2)\n",
    "\n",
    "        self.linear2 = nn.Linear(256, 64)\n",
    "        self.bn2 = nn.BatchNorm1d(64)\n",
    "        self.dropout2 = nn.Dropout(0.2)\n",
    "\n",
    "        self.linear3 = nn.Linear(64, 1)\n",
    "\n",
    "    def forward(self, x):\n",
    "        '''\n",
    "        Здесь пишем в коде, в каком порядке какой слой будет применяться\n",
    "        '''\n",
    "        x = self.dropout1(nn.ReLU()(self.bn1(self.linear1(nn.Flatten()(x)))))\n",
    "        x = self.dropout2(nn.ReLU()(self.bn2(self.linear2(x))))\n",
    "        x = self.linear3(x)\n",
    "\n",
    "        return x.squeeze()"
   ]
  },
  {
   "cell_type": "code",
   "execution_count": null,
   "id": "54",
   "metadata": {
    "id": "NXuYO6pwdOce"
   },
   "outputs": [],
   "source": [
    "class MyEnhancedModelLightning(pl.LightningModule):\n",
    "    def __init__(self, lr=0.01, n_classes=2):\n",
    "        super().__init__()\n",
    "\n",
    "        self.criterion = nn.BCEWithLogitsLoss()\n",
    "        self.lr = lr\n",
    "        self.n_classes = n_classes\n",
    "        self.save_hyperparameters()\n",
    "        self.model = MyEnhancedModel()\n",
    "        self.roc_auc = BinaryAUROC()\n",
    "\n",
    "    def forward(self, x):\n",
    "        '''Forward pass'''\n",
    "        return self.model(x)\n",
    "\n",
    "    def training_step(self, batch, batch_idx):\n",
    "        '''Возвращает лосс с 1 шага обучения по батчу'''\n",
    "        preds_prob, loss, roc_auc = self.__get_preds_loss_roc_auc(batch)\n",
    "\n",
    "        # Логируем лосс и метрики\n",
    "        self.log('train_loss', loss)\n",
    "        self.log('train_roc_auc', roc_auc)\n",
    "        return loss\n",
    "\n",
    "    def validation_step(self, batch, batch_idx):\n",
    "        '''Используется для логирования метрик'''\n",
    "        preds_prob, loss, roc_auc = self.__get_preds_loss_roc_auc(batch)\n",
    "\n",
    "        # Логируем лосс и метрики\n",
    "        self.log('val_loss', loss)\n",
    "        self.log('val_roc_auc', roc_auc)\n",
    "\n",
    "        # Возвращаем предсказания, чтобы использовать их в callback\n",
    "        return preds_prob\n",
    "\n",
    "    def test_step(self, batch, batch_idx):\n",
    "        '''Шаг тестирования'''\n",
    "        preds_prob, loss, roc_auc = self.__get_preds_loss_roc_auc(batch)\n",
    "        self.log('test_loss', loss)\n",
    "        self.log('test_roc_auc', roc_auc)\n",
    "        return preds_prob\n",
    "\n",
    "    def configure_optimizers(self):\n",
    "        '''Определяет оптимизатор модели'''\n",
    "        return torch.optim.Adam(self.parameters(), lr=self.lr)\n",
    "\n",
    "    def __get_preds_loss_roc_auc(self, batch):\n",
    "        '''Вспомогательная функция для шага обучения / валидации'''\n",
    "        x, y = batch\n",
    "        logits = self(x)\n",
    "        preds_prob = torch.sigmoid(logits)  # Получаем вероятности\n",
    "        preds_class = (preds_prob > 0.5).float()  # Классы\n",
    "        loss = self.criterion(logits, y)\n",
    "        roc_auc = self.roc_auc(preds_prob, y.int())\n",
    "\n",
    "        return preds_class, loss, roc_auc"
   ]
  },
  {
   "cell_type": "code",
   "execution_count": null,
   "id": "55",
   "metadata": {
    "colab": {
     "base_uri": "https://localhost:8080/",
     "height": 639,
     "referenced_widgets": [
      "039b460553ac4eef848bafed91c26b4e",
      "891db439ae7c4b2f9917f2a19daae9ea",
      "8ee012a8cf624b1b9d7c7e0107555849",
      "2e0a1e9b2858497e96274ea6d7d8ae55",
      "127a06a8e7c14e16bcb7ca7953acbc11",
      "2a7261c82f894d3dbc0b638dfbe86929",
      "f95fe88609a14c638c88b1c25316d077",
      "f557c1cd82244d61bc28980575da1dfb",
      "88344bde5c2645b7819917a7365f8ff7",
      "72c03767e95e452ea9e199c2d04938e5",
      "47b3496b086d4633beefb218218c6c54",
      "a5bffea98f924034918228848a39de3f",
      "27b7040cd55547e48f05293c54dfa293",
      "fec1808872944ef39f3d87073eb0e10b",
      "8f74eb2d763446398db87e4d4c7d83c1",
      "df8b524f092f4438a9b4006644fc2b79",
      "f7cea006bba149649d2fddaa03a1d417",
      "ec910e954ab640ad9c0174d763f95be3",
      "f7f541397478461c86a636047421e318",
      "e38c537a443841a78bd6a076908aa1a0",
      "0fca0429c7c243aab375db433b28dbb3",
      "46d7590b76904e77b26e5f643f979893",
      "118ed4466acf418b8e0ff62c489649b4",
      "3374cb0529cd4c5f8725d02fd6baa4d9",
      "bc6d914d98b540d4bc82c53cbf131d43",
      "38f06e93174e4531a5b49e595141aabd",
      "8e1fedb4b8fa45c8972d1eb2892d0165",
      "142572b46bde45eab1bcd8e042cee050",
      "43bd500c740b43a691ed6e37bb05f8a0",
      "ad3905d1163d475492ecc3fd2a43b16a",
      "e4f46bc4a88a4df0b99a340d0dc42c11",
      "aafa7b724f1c47ba840659340e4a80f9",
      "402ef6546bfa4d7fa1bbc71d41a6cda9",
      "1e8654b4f2ad4161a13847aaa2f2b154",
      "5379ef4e3bc54be190ac690b26e37fad",
      "90b0038972c846fd9134505852feeac4",
      "4d782786447b4e818d2d4a898853878e",
      "22ce692bd6aa4defbca3dc928843a12e",
      "d58f4f5b24bc4c24a937209b595bf4a8",
      "7d8bc0c44c0e4d07878c3172932fa7e0",
      "563f2c7f7f9941e19b9b49ac8a11644f",
      "5c948578f0ac4769832c8858b22e7c6a",
      "efd19212f01d4b8c93cb31d6bb03bae3",
      "889087344a284b02a46329a83d975d2e",
      "0ca0034a1df24c28908f5e0a18dd43ea",
      "8c91bab46fca4fafb7a791f193633db7",
      "00a6c216978a4cb2be84385188306d1b",
      "8e6fe1f6fc21496fa339c4d57b611139",
      "5ca8d8ecafd1408883e6ecabc1b5a25b",
      "e4941a89249a43e2a93ea4abeeae0dcc",
      "abae0a8ce5324274a3230d86489f7ad7",
      "e2a4001957cd4174b17942704cdc623b",
      "cf8166a00922403588d161132ba29ff0",
      "ab5f9267a9f44c539ca474eeabc07783",
      "8a232470b38a4983885031af647c9658",
      "3005cd8f77d9455e88e3f210a9036cd7",
      "41c6c7c6f0ce45c7a2b7b707c1f18887",
      "10f42430238f48b99a445b4b3b4a2a17",
      "fd8867f95ad249aa911a0d0be03327cc",
      "f6e1c084e9044088bf84b9666d435787",
      "f7cc3259268143d08fede154f4f81fe5",
      "1b27790daa6e4106a69048ba41c80cff",
      "77342aa4a373430dbcab63db22dda0cf",
      "e5e2918f7dc04d49b36bb834cb659fc8",
      "a05f0bbfd1524fb1ba252df714003f21",
      "210adc52ae454773b2742f333a06f2ae",
      "e5f1ca0cd5e144e68bb57d8a82373b21",
      "d2753fc6b4d24b3cb54268303af5c8a0",
      "d0eec18ab710480e8093b6a074e23f54",
      "aa63e8e98264417cb72265694208e1d6",
      "6bb434c4274949c6b5f277742724dc87",
      "503ae48990324f508209192a5c6dcbdc",
      "4bf0314d09094a02bee974aeef33cfb0",
      "3570132ff0aa4fc48635b61f8f30cc5b",
      "04b0eff53c4b4e689c0ebd1558b6133d",
      "f16a027430af4ce09af50aaf63057d83",
      "b71a76cd203a4b15891f84d4a1b1d7e7",
      "cc121e55ff5f461bb22f7c38465d23a3",
      "5ad923457e664daea8ec2ac6e79ac7e9",
      "520042248d2440c09a79359e27a3fa87",
      "64b72c128bb447499ec55ba4eae3caed",
      "067e9e29ccb74cdf8f652752e9eee469",
      "0f53d5f92b4148a5a329d910001b2e0b",
      "9d96e254cba346b9867eab1b50dd40d5",
      "c04d653e2e634a31be13e0d255949435",
      "89abb8729fbd467c96c1a644d4abe2c8",
      "e132f0c45a0544fab48fa42597bde797",
      "d83dce055128434384b0fcca35118d63"
     ]
    },
    "id": "uxKXC-h3dX0j",
    "outputId": "9be73045-c669-4a8b-a8fa-97130ba401f0"
   },
   "outputs": [],
   "source": [
    "tb_logger = pl_loggers.TensorBoardLogger(save_dir=\"lightning_logs/exp1/\")\n",
    "\n",
    "# Инициализация модели\n",
    "model_exp1 = MyEnhancedModelLightning(lr=0.01)\n",
    "\n",
    "# Чекпоинт для сохранения модели с максимальным ROC-AUC\n",
    "roc_auc_checkpoint_callback = ModelCheckpoint(monitor='val_roc_auc', mode='max')\n",
    "\n",
    "# Мониторинг использования устройства (GPU)\n",
    "device_stats = DeviceStatsMonitor()\n",
    "\n",
    "# Ранняя остановка, если валидационный лосс не улучшается\n",
    "early_stopping = EarlyStopping(monitor='val_loss')\n",
    "\n",
    "# Инициализация тренера\n",
    "trainer_exp1 = pl.Trainer(\n",
    "    logger=tb_logger,\n",
    "    callbacks=[roc_auc_checkpoint_callback, early_stopping, device_stats],\n",
    "    accelerator=\"gpu\",\n",
    "    max_epochs=30\n",
    ")\n",
    "\n",
    "# Запуск обучения\n",
    "trainer_exp1.fit(model_exp1, train_dataloader, val_dataloader)"
   ]
  },
  {
   "cell_type": "code",
   "execution_count": null,
   "id": "56",
   "metadata": {
    "id": "5JscWKRWdktU"
   },
   "outputs": [],
   "source": [
    "# Интерактивный просмотр логов\n",
    "# %reload_ext tensorboard\n",
    "# %tensorboard --logdir=lightning_logs/"
   ]
  },
  {
   "cell_type": "code",
   "execution_count": null,
   "id": "57",
   "metadata": {
    "colab": {
     "base_uri": "https://localhost:8080/",
     "height": 203,
     "referenced_widgets": [
      "953960ab59bd4fc093924bd82057ec02",
      "e632eb15d44d4c7ca2cd7bbd4e0f19ab",
      "404b9c880f4f48bb841f3ca21a06e6be",
      "e1b0fd844e78428d9173dca6a0ced1c1",
      "821547de1cef46f3a7abb71d61a2024b",
      "5a3ed3ad96d8413fa54fe4610d6381ff",
      "295306b3cb0e4b7ea01add9db380e45f",
      "cb08ca421d1b482dbdb82b85114033f8",
      "fd11496190d54b76b34f7c8777a08252",
      "255485ab56d441b2b0581351e4f7a9f3",
      "e5a60cd32bcc437a9d80f6ce7f145446"
     ]
    },
    "id": "9PSUXLCYlG94",
    "outputId": "1c8d2804-bb7b-4e53-bd5a-acd08c12e54a"
   },
   "outputs": [],
   "source": [
    "trainer_exp1.test(model_exp1, test_dataloader)"
   ]
  },
  {
   "cell_type": "markdown",
   "id": "58",
   "metadata": {
    "id": "a5a47b6477c88cba"
   },
   "source": [
    "**Выводы:**"
   ]
  },
  {
   "cell_type": "markdown",
   "id": "59",
   "metadata": {
    "id": "Eb6hbXiYCjoU"
   },
   "source": [
    "На первый взгляд может показаться странным, что вторая модель с добавлением Batch Normalization и Dropout показала немного худшие результаты, чем первая. Вот несколько причин, почему это может происходить:\n",
    "\n",
    "1. **Регуляризация через Dropout**: Dropout помогает избежать переобучения, отключая случайные нейроны во время тренировки. Но если данные не слишком сложные или модель не переобучается, использование высокого значения Dropout (например, 50%) может мешать ей научиться важным зависимостям.\n",
    "\n",
    "2. **Batch Normalization**: Этот метод помогает ускорить обучение и сделать его более стабильным. Однако в небольших моделях его влияние может быть непредсказуемым. Иногда он может вызвать незначительные колебания в результатах или даже усложнить обучение.\n",
    "\n",
    "3. **Стабильность результатов**: Результаты могут варьироваться из-за случайного характера обучения. Разница в метриках между моделями незначительна и может быть частью обычных флуктуаций, связанных с тренировочными и тестовыми данными.\n",
    "\n",
    "**Итог**: Наша основная цель заключалась в изучении PyTorch Lightning и использовании Batch Normalization, и мы успешно справились с этой задачей, получив неплохие результаты."
   ]
  },
  {
   "cell_type": "markdown",
   "id": "60",
   "metadata": {
    "id": "6e44d80a24ff45d"
   },
   "source": [
    "### Задача 2."
   ]
  },
  {
   "cell_type": "markdown",
   "id": "61",
   "metadata": {
    "id": "8626d28d1bf7d8d5"
   },
   "source": [
    "На семинаре вы уже познакомились с основными методами оптимизации, которые широко используются в классическом машинном обучении. С развитием нейронных сетей и активным внедрением нейросетевого подхода, методы оптимизации стали ещё более актуальными. Но стандартные методы оптимизации, SGD и метод тяжёлого шара, имеют ряд недостатков, из-за чего их редко применяют в чистом виде. Для обучения современных нейросетей используют более продвинутые методы.\n",
    "\n",
    "В данной задаче вам предстоит самостоятельно реализовать различные оптимизаторы (запущенные из одной точки) и сравнить скорости их сходимости.\n",
    "\n",
    "Пусть задача оптимизации имеет вид $f(x) \\longrightarrow \\min\\limits_x$, и $\\nabla_{x} f(x)$ &mdash; градиент функции $f(x)$."
   ]
  },
  {
   "cell_type": "code",
   "execution_count": null,
   "id": "62",
   "metadata": {
    "colab": {
     "base_uri": "https://localhost:8080/"
    },
    "id": "ccca84e6fd81e2d7",
    "outputId": "c98e75c1-935b-4b16-cb68-62c654bc46ee"
   },
   "outputs": [],
   "source": [
    "! apt-get install imagemagick"
   ]
  },
  {
   "cell_type": "markdown",
   "id": "63",
   "metadata": {
    "id": "d1e8069ba0ee8ac7"
   },
   "source": [
    "#### 1. SGD\n",
    "\n",
    "Обычный и стохастический градиентный спуск.\n",
    "\n",
    "$$x_{t + 1} = x_t - \\eta v_t,$$\n",
    "\n",
    "где $v_{t} = \\nabla f(x_{t})$ &mdash; аналогия со скоростью."
   ]
  },
  {
   "cell_type": "code",
   "execution_count": null,
   "id": "64",
   "metadata": {
    "id": "72455f186c99f35d"
   },
   "outputs": [],
   "source": [
    "def sgd(init_parameters, func_grad, lr, n_iter):\n",
    "    '''\n",
    "    Метод оптимизации SGD.\n",
    "\n",
    "    Параметры:\n",
    "    - parameters - начальное приближение параметров,\n",
    "    - func_grad - функция, задающая градиент оптимизируемой функции,\n",
    "    - lr - скорость обучения,\n",
    "    - n_iter - количество итераций метода.\n",
    "\n",
    "    Возвращает историю обновлений параметров.\n",
    "    '''\n",
    "\n",
    "    parameters = init_parameters.copy()\n",
    "    history = [parameters.copy()]\n",
    "\n",
    "    for i in range(n_iter):\n",
    "        parameters -= lr * func_grad(parameters)\n",
    "        history.append(parameters.copy())\n",
    "\n",
    "    return history"
   ]
  },
  {
   "cell_type": "markdown",
   "id": "65",
   "metadata": {
    "id": "c276bcda720dfd8c"
   },
   "source": [
    "#### 2. SGD + Momentum\n",
    "\n",
    "Сгладим градиент, используя информацию о том, как градиент изменялся раньше.\n",
    "Физическая аналогия &mdash; добавляем инерцию.\n",
    "\n",
    "\n",
    "$$x_{t + 1} = x_t + v_{t},$$\n",
    "где $v_{t} = \\mu v_{t - 1} - \\eta \\nabla f(x_{t})$ &mdash; сглаживаем градиенты."
   ]
  },
  {
   "cell_type": "code",
   "execution_count": null,
   "id": "66",
   "metadata": {
    "id": "e7de341b7965aff0"
   },
   "outputs": [],
   "source": [
    "def sgd_momentum(init_parameters, func_grad, lr, mu, n_iter):\n",
    "    '''\n",
    "    Метод оптимизации SGD Momentum.\n",
    "\n",
    "    Параметры:\n",
    "    - parameters - начальное приближение параметров,\n",
    "    - func_grad - функция, задающая градиент оптимизируемой функции,\n",
    "    - lr - скорость обучения,\n",
    "    - mu - коэффициент сглаживания,\n",
    "    - n_iter - количество итераций метода.\n",
    "\n",
    "    Возвращает историю обновлений параметров.\n",
    "    '''\n",
    "    parameters = init_parameters.copy()\n",
    "    history = [parameters.copy()]\n",
    "\n",
    "    v = 0\n",
    "\n",
    "    for i in range(n_iter):\n",
    "        v = mu * v - lr*func_grad(parameters)\n",
    "        parameters += v\n",
    "        history.append(parameters.copy())\n",
    "\n",
    "    return history"
   ]
  },
  {
   "cell_type": "markdown",
   "id": "67",
   "metadata": {
    "id": "e2831b7e1d3c763f"
   },
   "source": [
    "#### 3. Adagrad\n",
    "\n",
    "Adagrad &mdash; один из самых первых адаптивных методов оптимизации.\n",
    "\n",
    "Во всех изученных ранее методах есть необходимость подбирать шаг метода (коэффициент $\\eta$). На каждой итерации все компоненты градиента оптимизируемой функции домножаются на одно и то же число $\\eta$. Но использовать одно значение $\\eta$ для всех параметров не оптимально, так как они имеют различные распределения и оптимизируемая функция изменяется с совершенно разной скоростью при небольших изменениях разных параметров.\n",
    "\n",
    "Поэтому гораздо логичнее **изменять значение каждого параметра с индивидуальной скоростью**. При этом, *чем c большей степени от изменения параметра меняется значение оптимизируемой функции, тем с меньшей скоростью стоить обновлять этот параметр*. Иначе высок шанс расходимости метода. Получить такой результат удается, если разделить градиент на сумму квадратов скорости изменений параметров.\n",
    "\n",
    "Пусть $x^{(i)}$ &mdash; $i$-я компонента вектора $x$.\n",
    "$$x_{t+1, i} = x_{t, i} - \\frac{\\eta}{\\sqrt{g_{t, i}+\\varepsilon}}\\cdot \\nabla f_i(x_t)$$\n",
    "$$g_{t} = g_{t-1} + \\nabla f(x_t) \\odot \\nabla f(x_t)$$\n",
    "\n",
    "\n",
    "В матрично-векторном виде шаг алгоритма можно переписать так:\n",
    "$$x_{t+1} = x_{t} - \\frac{\\eta}{\\sqrt{g_{t} + \\varepsilon}}\\odot \\nabla f(x_t).$$\n",
    "Здесь $\\odot$ обозначает произведение Адамара, т.е. поэлементное перемножение векторов."
   ]
  },
  {
   "cell_type": "code",
   "execution_count": null,
   "id": "68",
   "metadata": {
    "id": "9bd4600966dd1f44"
   },
   "outputs": [],
   "source": [
    "def adagrad(init_parameters, func_grad, lr, eps, n_iter):\n",
    "    '''\n",
    "    Метод оптимизации Adagrad.\n",
    "\n",
    "    Параметры:\n",
    "    - parameters - начальное приближение параметров,\n",
    "    - func_grad - функция, задающая градиент оптимизируемой функции,\n",
    "    - lr - скорость обучения,\n",
    "    - eps - минимальное значение нормирующего члена,\n",
    "    - n_iter - количество итераций метода.\n",
    "\n",
    "    Возвращает историю обновлений параметров.\n",
    "    '''\n",
    "    parameters = init_parameters.copy()\n",
    "    history = [parameters.copy()]\n",
    "\n",
    "    g = 0\n",
    "\n",
    "    for iter_id in range(n_iter):\n",
    "        grad = func_grad(parameters)\n",
    "        g += grad**2\n",
    "        parameters -= lr / (g + eps) ** 0.5 * grad\n",
    "        history.append(parameters.copy())\n",
    "\n",
    "    return history"
   ]
  },
  {
   "cell_type": "markdown",
   "id": "69",
   "metadata": {
    "id": "3e510a01ac52613d"
   },
   "source": [
    "#### 4. RMSProp\n",
    "\n",
    "Алгоритм RMSProp основан на той же идее, что и алгоритм Adagrad &mdash; адаптировать learning rate отдельно для каждого параметра $\\theta^{(i)}$.  Однако Adagrad имеет серьёзный недостаток. Он с одинаковым весом учитывает квадраты градиентов как с самых первых итераций, так и с самых последних. Хотя, на самом деле, наибольшую значимость имеют модули градиентов на последних нескольких итерациях.\n",
    "\n",
    "Для этого предлагается использовать **экспоненциальное сглаживание**.\n",
    "$$x_{t+1} = x_{t} - \\frac{\\eta}{\\sqrt{g_{t} + \\varepsilon}}\\odot \\nabla f(x_t).$$\n",
    "$$g_t = \\mu g_{t-1} + (1-\\mu) \\nabla f(x_t) \\odot \\nabla f(x_t)$$\n",
    "\n",
    "Стандартные значения гиперпараметров: $\\mu = 0.9, \\eta = 0.001$."
   ]
  },
  {
   "cell_type": "code",
   "execution_count": null,
   "id": "70",
   "metadata": {
    "id": "cc5032dc7e33dc92"
   },
   "outputs": [],
   "source": [
    "def rmsprop(init_parameters, func_grad, lr, mu, eps, n_iter):\n",
    "    '''\n",
    "    Метод оптимизации RMSProp.\n",
    "\n",
    "    Параметры:\n",
    "    - parameters - начальное приближение параметров,\n",
    "    - func_grad - функция, задающая градиент оптимизируемой функции,\n",
    "    - lr - скорость обучения,\n",
    "    - mu - коэффициент сглаживания,\n",
    "    - eps - минимальное значение нормирующего члена,\n",
    "    - n_iter - количество итераций метода.\n",
    "\n",
    "    Возвращает историю обновлений параметров.\n",
    "    '''\n",
    "\n",
    "    parameters = init_parameters.copy()\n",
    "    history = [parameters.copy()]\n",
    "\n",
    "    g = 0\n",
    "\n",
    "    for iter_id in range(n_iter):\n",
    "        grad = func_grad(parameters)\n",
    "        g = mu * g + (1 - mu) * grad**2\n",
    "        parameters -= lr / (g + eps)**0.5 * grad\n",
    "        history.append(parameters.copy())\n",
    "\n",
    "    return history"
   ]
  },
  {
   "cell_type": "markdown",
   "id": "71",
   "metadata": {
    "id": "cafad7e666e95017"
   },
   "source": [
    "**5. Adam**\n",
    "\n",
    "Этот алгоритм совмещает в себе 2 идеи:\n",
    "* идею алгоритма Momentum *о накапливании градиента*,\n",
    "* идею методов Adadelta и RMSProp *об экспоненциальном сглаживании* информации о предыдущих значениях квадратов градиентов.\n",
    "\n",
    "Благодаря использованию этих двух идей, метод имеет 2 преимущества над большей частью методов первого порядка, описанных выше:\n",
    "\n",
    "\n",
    "1. Он обновляет все параметры $\\theta$ не с одинаковым `learning rate`, а выбирает для каждого $\\theta_i$ индивидуальный `learning rate`, что *позволяет учитывать разреженные признаки с большим весом*.\n",
    "\n",
    "\n",
    "2. Adam за счёт применения экспоненциального сглаживания к градиенту *работает более устойчиво в окрестности оптимального значения параметра $\\theta^*$*, чем методы, использующие градиент в точке $x_t$, не накапливая значения градиента с прошлых шагов.\n",
    "\n",
    "\n",
    "Формулы шага алгоритма выглядят так:\n",
    "$$v_{t + 1} = \\beta v_{t} + (1-\\beta) \\nabla x(x_{t})$$\n",
    "$$g_t = \\mu g_{t-1} + (1-\\mu) \\nabla x(x_t) \\odot \\nabla x(x_t)$$\n",
    "\n",
    "Чтобы эти оценки не были смещёнными, нужно их отнормировать:\n",
    "$$\\widehat{v}_{t + 1} = \\frac{v_{t + 1}}{1-\\beta^t},$$\n",
    "$$\\widehat{g}_t = \\frac{g_t}{1-\\mu^t}.$$\n",
    "\n",
    "Тогда получим итоговую формулу шага:\n",
    "\n",
    "$$x_{t+1} = x_t - \\frac{\\eta}{\\sqrt{\\widehat{g}_t + \\varepsilon}} \\odot \\widehat{v}_{t + 1}.$$"
   ]
  },
  {
   "cell_type": "code",
   "execution_count": null,
   "id": "72",
   "metadata": {
    "id": "401a354879cbf02d"
   },
   "outputs": [],
   "source": [
    "def adam(init_parameters, func_grad, eps, lr, beta, mu,  n_iter):\n",
    "    '''\n",
    "    Adam.\n",
    "\n",
    "    Параметры.\n",
    "    1) theta0 - начальное приближение theta,\n",
    "    2) func_grad - функция, задающая градиент оптимизируемой функции,\n",
    "    3) eps - мин. возможное значение знаменателя,\n",
    "    4) lr - скорость обучения,\n",
    "    5) beta - параметр экспоненциального сглаживания,\n",
    "    6) mu - параметр экспоненциального сглаживания,\n",
    "    7) n_iter - количество итераций метода.\n",
    "    '''\n",
    "\n",
    "    parameters = init_parameters.copy()\n",
    "    history = [parameters.copy()]\n",
    "\n",
    "    v, g = 0, 0\n",
    "\n",
    "    for iter_id in range(n_iter):\n",
    "        grad = func_grad(parameters)\n",
    "        v = beta*v + (1 - beta) * grad\n",
    "        g = mu*g + (1 - mu) * grad**2\n",
    "        v_hat = v / (1 - beta**iter_id + eps)\n",
    "        g_hat = g / (1 - mu**iter_id + eps)\n",
    "        parameters -= lr / (g_hat + eps)**0.5 * v_hat\n",
    "        history.append(parameters.copy())\n",
    "\n",
    "    return history"
   ]
  },
  {
   "cell_type": "markdown",
   "id": "73",
   "metadata": {
    "id": "141db75e059027fd"
   },
   "source": [
    "Сравнение оптимизаторов будем производить на примере двух функций:\n",
    "1. $f(x, y) = 5*x^2 + y^2$\n",
    "2. $f(x, y) = (x-3)^2 + 8(y-5)^4 + \\sqrt{x} + \\sin(xy)$\n",
    "\n",
    "Реализуйте данные функции в ячейке ниже для удобства и читаемости кода."
   ]
  },
  {
   "cell_type": "code",
   "execution_count": null,
   "id": "74",
   "metadata": {
    "id": "86099ed6909106cd"
   },
   "outputs": [],
   "source": [
    "def square_sum(x):\n",
    "    ''' f(x, y) = 5 * x^2 + y^2 '''\n",
    "\n",
    "    return 5 * x[0]**2 + x[1]**2\n",
    "\n",
    "def square_sum_grad(x):\n",
    "    ''' grad f(x, y) = <..> '''\n",
    "\n",
    "    return np.array([10 * x[0], 2 * x[1]])\n",
    "\n",
    "\n",
    "def complex_sum(x):\n",
    "    ''' f(x, y) = (x-3)^2 + 8(y-5)^4 + sqrt(x) + sin(xy)'''\n",
    "\n",
    "    return (x[0] - 3)**2 + 8 * (x[1] - 5)**4 + x[0]**0.5 + np.sin(x[0] * x[1])\n",
    "\n",
    "def complex_sum_grad(x, eps=1e-7):\n",
    "    ''' grad f(x, y) = <..> '''\n",
    "\n",
    "    partial_x = 2 * (x[0] - 3) + 1 / (2 * x[0]**0.5 + eps) + x[1] * np.cos(x[0] * x[1])\n",
    "    partial_y = 32 * (x[1] - 5)**3 + x[0] * np.cos(x[0] * x[1])\n",
    "\n",
    "    return np.array([partial_x, partial_y])"
   ]
  },
  {
   "cell_type": "markdown",
   "id": "75",
   "metadata": {
    "id": "41f4c75ca9819f42"
   },
   "source": [
    "Создадим директорию, в которой будем хранить визуализацию экспериментов."
   ]
  },
  {
   "cell_type": "code",
   "execution_count": null,
   "id": "76",
   "metadata": {
    "id": "f4d83baf3bd404c3"
   },
   "outputs": [],
   "source": [
    "!rm -rf saved_gifs\n",
    "!mkdir saved_gifs"
   ]
  },
  {
   "cell_type": "markdown",
   "id": "77",
   "metadata": {
    "id": "907ccb53b75bbdd5"
   },
   "source": [
    "Напишем функцию, которая будет отрисовывать процесс оптимизации."
   ]
  },
  {
   "cell_type": "code",
   "execution_count": null,
   "id": "78",
   "metadata": {
    "id": "fe17a76a824e900e"
   },
   "outputs": [],
   "source": [
    "def make_experiment(func, trajectory, graph_title,\n",
    "                    min_y=-7, max_y=7, min_x=-7, max_x=7):\n",
    "    '''\n",
    "    Функция, которая для заданной функции рисует её линии уровня,\n",
    "    а также траекторию сходимости метода оптимизации.\n",
    "\n",
    "    Параметры.\n",
    "    1) func - оптимизируемая функция,\n",
    "    2) trajectory - траектория метода оптимизации,\n",
    "    3) graph_name - заголовок графика.\n",
    "    '''\n",
    "\n",
    "    fig, ax = plt.subplots(figsize=(10, 8))\n",
    "    xdata, ydata = [], []\n",
    "    ln, = plt.plot([], [])\n",
    "\n",
    "    mesh_x = np.linspace(min_x, max_x, 300)\n",
    "    mesh_y = np.linspace(min_y, max_y, 300)\n",
    "    X, Y = np.meshgrid(mesh_x, mesh_y)\n",
    "    Z = np.zeros((len(mesh_x), len(mesh_y)))\n",
    "\n",
    "    for coord_x in range(len(mesh_x)):\n",
    "        for coord_y in range(len(mesh_y)):\n",
    "            Z[coord_y, coord_x] = func(\n",
    "                np.array((mesh_x[coord_x],\n",
    "                          mesh_y[coord_y]))\n",
    "            )\n",
    "\n",
    "    def init():\n",
    "        ax.contour(\n",
    "            X, Y, np.log(Z),\n",
    "            np.log([0.5, 10, 30, 80, 130, 200, 300, 500, 900]),\n",
    "            cmap='winter'\n",
    "        )\n",
    "        ax.set_title(graph_title)\n",
    "        return ln,\n",
    "\n",
    "    def update(frame):\n",
    "        xdata.append(trajectory[frame][0])\n",
    "        ydata.append(trajectory[frame][1])\n",
    "        ln.set_data(xdata, ydata)\n",
    "        return ln,\n",
    "\n",
    "    ani = FuncAnimation(\n",
    "        fig, update, frames=range(len(trajectory)),\n",
    "        init_func=init, repeat=True\n",
    "    )\n",
    "    writer = ImageMagickFileWriter(fps=10)\n",
    "    ani.save(f'saved_gifs/{graph_title}.gif',\n",
    "             writer=writer)\n",
    "    plt.show()"
   ]
  },
  {
   "cell_type": "markdown",
   "id": "79",
   "metadata": {
    "id": "5001c5262c79268a"
   },
   "source": [
    "### Простая функция $f(x, y) = x^2 + y^2$"
   ]
  },
  {
   "cell_type": "code",
   "execution_count": null,
   "id": "80",
   "metadata": {
    "id": "f479553797b94941"
   },
   "outputs": [],
   "source": [
    "parameters = np.array((5, 5), dtype=float)\n",
    "func_name = '$f(x, y) = 5x^2 + y^2$'\n",
    "func_grad = square_sum_grad\n",
    "func = square_sum\n",
    "n_iter = 100"
   ]
  },
  {
   "cell_type": "markdown",
   "id": "81",
   "metadata": {
    "id": "dfc60500b119dae4"
   },
   "source": [
    "**SGD**"
   ]
  },
  {
   "cell_type": "code",
   "execution_count": null,
   "id": "82",
   "metadata": {
    "colab": {
     "base_uri": "https://localhost:8080/",
     "height": 817
    },
    "id": "9f04d5a44ae56f8c",
    "outputId": "8800f99f-8887-4107-82c0-e1e6f59e2179"
   },
   "outputs": [],
   "source": [
    "sgd_trajectory = sgd(\n",
    "    init_parameters=parameters,\n",
    "    func_grad=func_grad,\n",
    "    lr=0.05,\n",
    "    n_iter=n_iter\n",
    ")\n",
    "graph_title = 'Траектория SGD, ' + func_name\n",
    "make_experiment(\n",
    "    func,\n",
    "    sgd_trajectory,\n",
    "    graph_title,\n",
    ")\n",
    "clear_output()\n",
    "Image(open(f'saved_gifs/{graph_title}.gif','rb').read())"
   ]
  },
  {
   "cell_type": "markdown",
   "id": "83",
   "metadata": {
    "id": "efa37078b393866d"
   },
   "source": [
    "**SGD Momentum**"
   ]
  },
  {
   "cell_type": "code",
   "execution_count": null,
   "id": "84",
   "metadata": {
    "colab": {
     "base_uri": "https://localhost:8080/",
     "height": 817
    },
    "id": "8f2042927e2c67fd",
    "outputId": "c64f4bac-48ce-49ba-c99b-13bf76905873"
   },
   "outputs": [],
   "source": [
    "sgd_momentum_trajectory = sgd_momentum(\n",
    "    init_parameters=parameters.copy(),\n",
    "    func_grad=func_grad,\n",
    "    lr=0.01,\n",
    "    n_iter=n_iter,\n",
    "    mu=0.9\n",
    ")\n",
    "graph_title = 'Траектория SGD Momentum, ' + func_name\n",
    "make_experiment(\n",
    "    func,\n",
    "    sgd_momentum_trajectory,\n",
    "    graph_title,\n",
    ")\n",
    "clear_output()\n",
    "Image(open(f'saved_gifs/{graph_title}.gif','rb').read())"
   ]
  },
  {
   "cell_type": "markdown",
   "id": "85",
   "metadata": {
    "id": "19c559dd6918f6da"
   },
   "source": [
    "**Adagrad**"
   ]
  },
  {
   "cell_type": "code",
   "execution_count": null,
   "id": "86",
   "metadata": {
    "colab": {
     "base_uri": "https://localhost:8080/",
     "height": 817
    },
    "id": "57fee3383ffc4c78",
    "outputId": "6bb86b9c-4dc3-47ae-9bc8-1920f6346c21"
   },
   "outputs": [],
   "source": [
    "adagrad_trajectory = adagrad(\n",
    "    init_parameters=parameters.copy(),\n",
    "    func_grad=func_grad,\n",
    "    lr=0.8,\n",
    "    n_iter=n_iter,\n",
    "    eps=1e-6,\n",
    ")\n",
    "graph_title = 'Траектория Adagrad, ' + func_name\n",
    "make_experiment(\n",
    "    func,\n",
    "    adagrad_trajectory,\n",
    "    graph_title,\n",
    ")\n",
    "clear_output()\n",
    "Image(open(f'saved_gifs/{graph_title}.gif','rb').read())"
   ]
  },
  {
   "cell_type": "markdown",
   "id": "87",
   "metadata": {
    "id": "ae721bdd18942cb0"
   },
   "source": [
    "**RMSProp**"
   ]
  },
  {
   "cell_type": "code",
   "execution_count": null,
   "id": "88",
   "metadata": {
    "colab": {
     "base_uri": "https://localhost:8080/",
     "height": 817
    },
    "id": "af148aee120c5fae",
    "outputId": "c669e208-0be7-45de-ef2c-a2b8f5cff8bf"
   },
   "outputs": [],
   "source": [
    "rmsprop_trajectory = rmsprop(\n",
    "    init_parameters=parameters.copy(),\n",
    "    func_grad=func_grad,\n",
    "    lr=0.1,\n",
    "    n_iter=n_iter,\n",
    "    eps=1e-6,\n",
    "    mu=0.9\n",
    ")\n",
    "graph_title = 'Траектория RMSProp, ' + func_name\n",
    "make_experiment(\n",
    "    func,\n",
    "    rmsprop_trajectory,\n",
    "    graph_title,\n",
    ")\n",
    "clear_output()\n",
    "Image(open(f'saved_gifs/{graph_title}.gif','rb').read())"
   ]
  },
  {
   "cell_type": "markdown",
   "id": "89",
   "metadata": {
    "id": "eb7349b2f5431485"
   },
   "source": [
    "**Adam**"
   ]
  },
  {
   "cell_type": "code",
   "execution_count": null,
   "id": "90",
   "metadata": {
    "colab": {
     "base_uri": "https://localhost:8080/",
     "height": 817
    },
    "id": "bbaf449c41312013",
    "outputId": "fc77fae1-e51a-485c-c104-a1d79f03433a"
   },
   "outputs": [],
   "source": [
    "adam_trajectory = adam(\n",
    "    init_parameters=parameters.copy(),\n",
    "    func_grad=func_grad,\n",
    "    lr=0.03,\n",
    "    n_iter=n_iter,\n",
    "    eps=1e-6,\n",
    "    mu=0.9,\n",
    "    beta=0.99\n",
    ")\n",
    "graph_title = 'Траектория Adam, ' + func_name\n",
    "make_experiment(\n",
    "    func,\n",
    "    adam_trajectory,\n",
    "    graph_title,\n",
    ")\n",
    "clear_output()\n",
    "Image(open(f'saved_gifs/{graph_title}.gif','rb').read())"
   ]
  },
  {
   "cell_type": "markdown",
   "id": "91",
   "metadata": {
    "id": "b7a6ed8a7fbca89e"
   },
   "source": [
    "**Вывод**"
   ]
  },
  {
   "cell_type": "markdown",
   "id": "92",
   "metadata": {
    "id": "d593c64d3d5082c7"
   },
   "source": [
    "### Сложная функция $f(x, y) = (x-3)^2 + 8(y-5)^4 + \\sqrt{x} + \\sin(xy)$"
   ]
  },
  {
   "cell_type": "code",
   "execution_count": null,
   "id": "93",
   "metadata": {
    "id": "823dcc5a6937a011"
   },
   "outputs": [],
   "source": [
    "parameters = np.array((5, -2), dtype=float)\n",
    "func_name = '$f(x, y) = (x-3)^2 + 8(y-5)^4 + \\sqrt{x} + \\sin(xy)$'\n",
    "func_grad = complex_sum_grad\n",
    "func = complex_sum\n",
    "n_iter = 100"
   ]
  },
  {
   "cell_type": "markdown",
   "id": "94",
   "metadata": {
    "id": "329e6d57de625557"
   },
   "source": [
    "**SGD**"
   ]
  },
  {
   "cell_type": "code",
   "execution_count": null,
   "id": "95",
   "metadata": {
    "colab": {
     "base_uri": "https://localhost:8080/",
     "height": 817
    },
    "id": "c326b3f3b72148d3",
    "outputId": "5b215c55-8168-4878-dc30-1ac6711750a4"
   },
   "outputs": [],
   "source": [
    "sgd_trajectory = sgd(\n",
    "    init_parameters=parameters,\n",
    "    func_grad=func_grad,\n",
    "    lr=0.0006,\n",
    "    n_iter=n_iter\n",
    ")\n",
    "graph_title = 'Траектория SGD, ' +  func_name\n",
    "make_experiment(\n",
    "    func,\n",
    "    sgd_trajectory,\n",
    "    graph_title,\n",
    "    -5, 10, 0, 10\n",
    ")\n",
    "clear_output()\n",
    "Image(open(f'saved_gifs/{graph_title}.gif','rb').read())"
   ]
  },
  {
   "cell_type": "markdown",
   "id": "96",
   "metadata": {
    "id": "de352da5e105ecdf"
   },
   "source": [
    "**SGD Momentum**"
   ]
  },
  {
   "cell_type": "code",
   "execution_count": null,
   "id": "97",
   "metadata": {
    "colab": {
     "base_uri": "https://localhost:8080/",
     "height": 817
    },
    "id": "2004321608fa348e",
    "outputId": "fe327b33-9448-48af-90b8-28adeb6bda3b"
   },
   "outputs": [],
   "source": [
    "sgd_momentum_trajectory = sgd_momentum(\n",
    "    init_parameters=parameters.copy(),\n",
    "    func_grad=func_grad,\n",
    "    lr=0.0002,\n",
    "    n_iter=n_iter,\n",
    "    mu=0.7\n",
    ")\n",
    "graph_title = 'Траектория SGD Momentum, ' +  func_name\n",
    "make_experiment(\n",
    "    func,\n",
    "    sgd_momentum_trajectory,\n",
    "    graph_title,\n",
    "    -5, 10, 0, 10\n",
    ")\n",
    "clear_output()\n",
    "Image(open(f'saved_gifs/{graph_title}.gif','rb').read())"
   ]
  },
  {
   "cell_type": "markdown",
   "id": "98",
   "metadata": {
    "id": "5653aafdd1dadd5b"
   },
   "source": [
    "**Adagrad**"
   ]
  },
  {
   "cell_type": "code",
   "execution_count": null,
   "id": "99",
   "metadata": {
    "colab": {
     "base_uri": "https://localhost:8080/",
     "height": 817
    },
    "id": "e522338acf42e633",
    "outputId": "06a1ec99-9097-4992-c18c-a57f0cbda452"
   },
   "outputs": [],
   "source": [
    "adagrad_trajectory = adagrad(\n",
    "    init_parameters=parameters.copy(),\n",
    "    func_grad=func_grad,\n",
    "    lr=2.0,\n",
    "    n_iter=n_iter,\n",
    "    eps=1e-6,\n",
    ")\n",
    "graph_title = 'Траектория Adagrad, ' + func_name\n",
    "make_experiment(\n",
    "    func,\n",
    "    adagrad_trajectory,\n",
    "    graph_title,\n",
    "    -5, 10, 0, 10\n",
    ")\n",
    "clear_output()\n",
    "Image(open(f'saved_gifs/{graph_title}.gif','rb').read())"
   ]
  },
  {
   "cell_type": "markdown",
   "id": "100",
   "metadata": {
    "id": "9e1042830fcb1604"
   },
   "source": [
    "**RMSProp**"
   ]
  },
  {
   "cell_type": "code",
   "execution_count": null,
   "id": "101",
   "metadata": {
    "colab": {
     "base_uri": "https://localhost:8080/",
     "height": 817
    },
    "id": "cc493a0575c6955b",
    "outputId": "2f50e0f3-382a-403c-d358-5d64feab7acc"
   },
   "outputs": [],
   "source": [
    "rmsprop_trajectory = rmsprop(\n",
    "    init_parameters=parameters.copy(),\n",
    "    func_grad=func_grad,\n",
    "    lr=0.3,\n",
    "    n_iter=n_iter,\n",
    "    eps=1e-6,\n",
    "    mu=0.9\n",
    ")\n",
    "graph_title = 'Траектория RMSProp, ' + func_name\n",
    "make_experiment(\n",
    "    func,\n",
    "    rmsprop_trajectory,\n",
    "    graph_title,\n",
    "    -5, 10, 0, 10\n",
    ")\n",
    "clear_output()\n",
    "Image(open(f'saved_gifs/{graph_title}.gif','rb').read())"
   ]
  },
  {
   "cell_type": "markdown",
   "id": "102",
   "metadata": {
    "id": "86273963ad16b5ae"
   },
   "source": [
    "**Adam**"
   ]
  },
  {
   "cell_type": "code",
   "execution_count": null,
   "id": "103",
   "metadata": {
    "colab": {
     "base_uri": "https://localhost:8080/",
     "height": 817
    },
    "id": "80cd1c97bf80929a",
    "outputId": "bcc1f302-b5cd-41c9-a336-56ba3c75fc24"
   },
   "outputs": [],
   "source": [
    "adam_trajectory = adam(\n",
    "    init_parameters=parameters.copy(),\n",
    "    func_grad=func_grad,\n",
    "    lr=0.008,\n",
    "    n_iter=n_iter,\n",
    "    eps=1e-7,\n",
    "    mu=0.7,\n",
    "    beta=0.9\n",
    ")\n",
    "graph_title = 'Траектория Adam, ' + func_name\n",
    "make_experiment(\n",
    "    func,\n",
    "    adam_trajectory,\n",
    "    graph_title,\n",
    "    -5, 10, 0, 10\n",
    ")\n",
    "clear_output()\n",
    "Image(open(f'saved_gifs/{graph_title}.gif','rb').read())"
   ]
  },
  {
   "cell_type": "markdown",
   "id": "104",
   "metadata": {
    "id": "98eed9343b39310a"
   },
   "source": [
    "**Вывод**"
   ]
  },
  {
   "cell_type": "markdown",
   "id": "105",
   "metadata": {
    "id": "8n7gvG5H17Lj"
   },
   "source": [
    "1. **SGD и SGD с Momentum**\n",
    "\n",
    "   Для простой функции видно, что **SGD** и **SGD + Momentum** достигают минимума по более извилистой траектории. **SGD** часто делает большие шаги в направлении градиента, что может привести к колебаниям около минимума. **SGD + Momentum** сглаживает этот процесс, добавляя ускорение, что позволяет стабилизировать траекторию, но всё равно она может быть менее прямолинейной, чем у более продвинутых методов.\n",
    "\n",
    "   Для сложных функций простые оптимизаторы (SGD и его модификации) могут сходиться быстрее, так как они делают шаги, основанные исключительно на текущем градиенте, не учитывая дополнительные параметры, как это делают более сложные методы. Однако их поведение может оставаться неоптимальным, если требуется высокая точность минимума.\n",
    "\n",
    "2. **Продвинутые оптимизаторы (Adagrad, RMSProp, Adam)**\n",
    "\n",
    "   Эти методы учитывают не только текущие значения градиента, но и его историю. **Adagrad** быстро адаптируется к редким признакам, но может замедляться в конце из-за накопления градиентов. **RMSProp** решает эту проблему, стабилизируя обучение, но может требовать точного подбора скорости обучения (`learning rate`). **Adam** комбинирует идеи Momentum и RMSProp, что делает его наиболее универсальным, но и наиболее чувствительным к настройкам гиперпараметров (особенно для сложных функций).\n",
    "\n",
    "   Для сложных функций **более продвинутые оптимизаторы** часто требуют тщательной настройки параметров, таких как скорость обучения, коэффициенты сглаживания градиентов (например, `beta1`, `beta2` в Adam). Иногда простые значения по умолчанию могут не дать желаемых результатов, и их приходится подбирать вручную для достижения лучшей сходимости.\n",
    "\n",
    "3. **Подбор параметров**\n",
    "\n",
    "   Каждому оптимизатору требуется свой подход к настройке гиперпараметров. Например, для одной и той же функции могут значительно различаться оптимальные значения `learning rate` и поведения оптимизаторов. Поэтому важно не полагаться на значения по умолчанию и адаптировать параметры под конкретную задачу."
   ]
  }
 ],
 "metadata": {
  "accelerator": "GPU",
  "colab": {
   "gpuType": "T4",
   "provenance": []
  },
  "kernelspec": {
   "display_name": "Python 3",
   "name": "python3"
  },
  "language_info": {
   "codemirror_mode": {
    "name": "ipython",
    "version": 2
   },
   "file_extension": ".py",
   "mimetype": "text/x-python",
   "name": "python",
   "nbconvert_exporter": "python",
   "pygments_lexer": "ipython2",
   "version": "2.7.6"
  }
 },
 "nbformat": 4,
 "nbformat_minor": 5
}
