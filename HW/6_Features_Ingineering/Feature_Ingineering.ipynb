{
 "cells": [
  {
   "cell_type": "markdown",
   "id": "0",
   "metadata": {
    "id": "631d69f1"
   },
   "source": [
    "# ML в Биологии\n",
    "## 6. Feature Ingineering"
   ]
  },
  {
   "cell_type": "code",
   "execution_count": null,
   "id": "1",
   "metadata": {
    "colab": {
     "base_uri": "https://localhost:8080/"
    },
    "id": "3y9I286xEItB",
    "outputId": "7a209c5a-1ed1-4c0a-c56c-31112bbef970"
   },
   "outputs": [],
   "source": [
    "!pip install feature_engine"
   ]
  },
  {
   "cell_type": "code",
   "execution_count": null,
   "id": "2",
   "metadata": {
    "colab": {
     "base_uri": "https://localhost:8080/"
    },
    "id": "uOoM-zK1P2Qt",
    "outputId": "6c99ac32-e3a3-4332-84e5-f7aefead77cc"
   },
   "outputs": [],
   "source": [
    "!pip install category_encoders"
   ]
  },
  {
   "cell_type": "code",
   "execution_count": null,
   "id": "3",
   "metadata": {
    "id": "4d9ff5fe"
   },
   "outputs": [],
   "source": [
    "# Основные библиотеки\n",
    "import pandas as pd\n",
    "import numpy as np\n",
    "import matplotlib.pyplot as plt\n",
    "import seaborn as sns\n",
    "import warnings\n",
    "\n",
    "# Настройки и стили\n",
    "plt.style.use('seaborn')\n",
    "%matplotlib inline\n",
    "warnings.filterwarnings('ignore')\n",
    "\n",
    "# Библиотеки для работы со временем\n",
    "from datetime import datetime, date, time, timedelta\n",
    "from calendar import monthrange\n",
    "\n",
    "# Библиотеки для предобработки\n",
    "from sklearn.model_selection import train_test_split, GridSearchCV\n",
    "from sklearn.preprocessing import StandardScaler\n",
    "from sklearn.pipeline import Pipeline\n",
    "from sklearn.compose import ColumnTransformer\n",
    "from sklearn.impute import SimpleImputer\n",
    "from category_encoders import TargetEncoder\n",
    "from feature_engine.encoding import MeanEncoder\n",
    "from sklearn.preprocessing import OneHotEncoder, LabelEncoder\n",
    "\n",
    "# Классификаторы\n",
    "from sklearn.linear_model import LogisticRegression\n",
    "from sklearn.tree import DecisionTreeClassifier\n",
    "\n",
    "# Рекомендованные регрессоры для физиков\n",
    "from sklearn.tree import DecisionTreeRegressor\n",
    "from sklearn.linear_model import LinearRegression, ElasticNet, Lasso, Ridge\n",
    "from sklearn.svm import SVR"
   ]
  },
  {
   "cell_type": "markdown",
   "id": "4",
   "metadata": {
    "id": "9b4c47d4"
   },
   "source": [
    "---\n",
    "\n",
    "#### Профиль биология"
   ]
  },
  {
   "cell_type": "markdown",
   "id": "5",
   "metadata": {
    "id": "zJm2ZKLu3LIp"
   },
   "source": [
    "Вам предстоит предсказать исход для животных, покидающих Центр животных. Эти исходы включают: Появление новых хозяев, Смерть, Эвтаназию, Возврат владельцу и Передачу (Adoption, Died, Euthanasia, Return to owner, and Transfer).\n",
    "\n",
    "\n",
    " Датасет можно найти по следующей ссылке (вам нужна только папка train): [Shelter Animal Outcomes](https://www.kaggle.com/competitions/shelter-animal-outcomes).\n",
    "\n",
    "##### Основные характеристики животных\n",
    "\n",
    "- **AnimalID**: уникальный идентификатор животного\n",
    "- **Name**: имя животного\n",
    "- **DateTime**: дата и время\n",
    "- **OutcomeType**: тип исхода (например, Появление новых хозяев, Смерть, Эвтаназия, Возврат владельцу, Передача)\n",
    "- **OutcomeSubtype**: подтип исхода\n",
    "- **AnimalType**: тип животного (например, кошка, собака)\n",
    "- **SexuponOutcome**: пол животного на момент исхода\n",
    "- **AgeuponOutcome**: возраст животного на момент исхода\n",
    "- **Breed**: порода животного\n",
    "- **Color**: цвет животного"
   ]
  },
  {
   "cell_type": "markdown",
   "id": "6",
   "metadata": {
    "id": "4aaa6613"
   },
   "source": [
    "**Метрикой в этой задаче является LogLoss !**"
   ]
  },
  {
   "cell_type": "markdown",
   "id": "7",
   "metadata": {
    "id": "019d626c"
   },
   "source": [
    " Формула тогда будет следующей:\n",
    "\n",
    "$$\n",
    "\\text{logloss} = -\\frac{1}{N} \\sum_{i=1}^{N} \\sum_{j=1}^{M} y_{ij} \\log(p_{ij}),\n",
    "$$\n",
    "\n",
    "где:\n",
    "- \\( N \\) — количество животных в тестовом наборе,\n",
    "- \\( M \\) — количество исходов,\n",
    "- \\( log \\) — натуральный логарифм,\n",
    "- \\( $y_{ij}$ \\) равно 1, если наблюдение \\( i \\) принадлежит исходу \\( j \\), и 0 в противном случае,\n",
    "- \\( $p_{ij}$ \\) — предсказанная вероятность того, что наблюдение \\( i \\) принадлежит исходу \\( j \\).\n"
   ]
  },
  {
   "cell_type": "code",
   "execution_count": null,
   "id": "8",
   "metadata": {
    "id": "5c7f68dd"
   },
   "outputs": [],
   "source": [
    "from sklearn.metrics import log_loss"
   ]
  },
  {
   "cell_type": "markdown",
   "id": "9",
   "metadata": {
    "id": "5e8cfb3b"
   },
   "source": [
    "Cкачайте и выведите датасет"
   ]
  },
  {
   "cell_type": "code",
   "execution_count": null,
   "id": "10",
   "metadata": {
    "colab": {
     "base_uri": "https://localhost:8080/",
     "height": 238
    },
    "id": "JlP8FJwfEqiM",
    "outputId": "52c8bd64-740a-4c53-b14d-8bbd8764b377"
   },
   "outputs": [],
   "source": [
    "import gzip\n",
    "\n",
    "with gzip.open('train.csv.gz', 'rt') as f:\n",
    "    df = pd.read_csv(f, index_col='AnimalID')\n",
    "\n",
    "df.head()"
   ]
  },
  {
   "cell_type": "code",
   "execution_count": null,
   "id": "11",
   "metadata": {
    "colab": {
     "base_uri": "https://localhost:8080/"
    },
    "id": "fbb5a6eb",
    "outputId": "8ed015d7-987a-46ee-a3aa-e796f899c087"
   },
   "outputs": [],
   "source": [
    "df.info()"
   ]
  },
  {
   "cell_type": "markdown",
   "id": "12",
   "metadata": {
    "id": "a658dbde"
   },
   "source": [
    "Ни одного числового признака! Ситуация осложняется тем, что не все столбцы могут быть \"в лоб\" преобразованы в числа.\n",
    "\n",
    "##### 1. Предобработка\n",
    "\n",
    "Приведём данные к более \"рабочему\" виду. Сначала преобразуем столбец возраста на момент выхода из приюта (`AgeuponOutcome`):"
   ]
  },
  {
   "cell_type": "code",
   "execution_count": null,
   "id": "13",
   "metadata": {
    "id": "0dd95158"
   },
   "outputs": [],
   "source": [
    "def apply_transform_dates(x):\n",
    "    \"\"\"\n",
    "    Считывает строку вида 'N период' и возвращает число дней равное N * (к-во дней в периоде)\n",
    "\n",
    "    Args:\n",
    "        x (str): объект\n",
    "\n",
    "    Returns:\n",
    "        float: возраст животного в днях\n",
    "    \"\"\"\n",
    "    if pd.isnull(x):\n",
    "        return x\n",
    "    num_val = float(x.split(\" \")[0])\n",
    "    if \"year\" in x.lower():\n",
    "        return num_val * 365  # 1 год = 365 дней\n",
    "    elif \"month\" in x.lower():\n",
    "        return num_val * 30.5  # 1 месяц примерно 30.5 дней (усредняя 30 и 31)\n",
    "    elif \"week\" in x.lower():\n",
    "        return num_val * 7  # 1 неделя = 7 дней\n",
    "\n",
    "df[\"AgeuponOutcome\"] = df[\"AgeuponOutcome\"].apply(apply_transform_dates)"
   ]
  },
  {
   "cell_type": "markdown",
   "id": "14",
   "metadata": {
    "id": "d931c6f2"
   },
   "source": [
    "Из столбца породы `Breed` выделим два признака: помесь/не помесь и  название породы. О регулярных выражениях (regex) можно почитать в интернете, например [тут](https://habr.com/ru/articles/349860/). Породы, которые встречаются редко, обозначим просто как \"Rare\"."
   ]
  },
  {
   "cell_type": "code",
   "execution_count": null,
   "id": "15",
   "metadata": {
    "id": "8f2526bf"
   },
   "outputs": [],
   "source": [
    "# Создание колонки помесь/не помесь\n",
    "df['Is_Mix'] = df['Breed'].str.contains('Mix', na=False)\n",
    "\n",
    "# Уберите слово Mix из названий пород, т. к. для него мы выделили отдельный столбец\n",
    "df['Breed'] = df['Breed'].str.replace('Mix', '', regex=False)\n",
    "\n",
    "# Убираем лишние символы при помощи regex\n",
    "df['Breed'] = df['Breed'].str.replace(r'\\s*Black\\s*|\\s*Tan\\s*', '', regex=True)\n",
    "df['Breed'] = df['Breed'].replace('/', '', regex=True)\n",
    "df['Breed'] = df['Breed'].str.strip('/')\n",
    "df['Breed'] = df['Breed'].str.split('/').str[0]"
   ]
  },
  {
   "cell_type": "markdown",
   "id": "16",
   "metadata": {
    "id": "07c571e5"
   },
   "source": [
    "Давайте посмотрим на количество уникальных пород"
   ]
  },
  {
   "cell_type": "code",
   "execution_count": null,
   "id": "17",
   "metadata": {
    "colab": {
     "base_uri": "https://localhost:8080/"
    },
    "id": "827ed8a8",
    "outputId": "ba278c5a-0d08-49ba-8ad4-9bc1e11fe96c"
   },
   "outputs": [],
   "source": [
    "unique_breeds = df['Breed'].unique()\n",
    "unique_breeds_count = df['Breed'].nunique()\n",
    "\n",
    "print(f'Количество уникальных пород: {unique_breeds_count}')\n",
    "print('Уникальные породы:', unique_breeds)"
   ]
  },
  {
   "cell_type": "markdown",
   "id": "18",
   "metadata": {
    "id": "072735fd"
   },
   "source": [
    "Видно что пород крайне много, давайте посмотрим сколько кого встречается, и попробуем оставить только более-менее распространенные породы"
   ]
  },
  {
   "cell_type": "code",
   "execution_count": null,
   "id": "19",
   "metadata": {
    "id": "fce22c42"
   },
   "outputs": [],
   "source": [
    "# Очистка редких пород\n",
    "breed_counts = df['Breed'].value_counts()\n",
    "\n",
    "freq_breed = 50 # укажите пороговое количество, начиная с которого породу будем считать редкой\n",
    "\n",
    "common_breeds = breed_counts[breed_counts > freq_breed].index.tolist()\n",
    "df['Breed'] = df['Breed'].apply(lambda x: 'Rare' if x not in common_breeds else x) # переименнуем породу в редкую"
   ]
  },
  {
   "cell_type": "markdown",
   "id": "20",
   "metadata": {
    "id": "a292fcc7"
   },
   "source": [
    "Преобразуйте столбец даты и времени. Можете добавить столбцы года, месяца, дня, часа, дня недели или любое их подмножество. Напоминаем, что библиотека pandas предоставляет для этого удобный функционал."
   ]
  },
  {
   "cell_type": "code",
   "execution_count": null,
   "id": "21",
   "metadata": {
    "colab": {
     "base_uri": "https://localhost:8080/",
     "height": 455
    },
    "id": "7983c076",
    "outputId": "1dfdb02f-04c5-47be-ceb3-07dfa331b7c7"
   },
   "outputs": [],
   "source": [
    "df['DateTime'] = pd.to_datetime(df['DateTime'])\n",
    "\n",
    "# Добавляем новые столбцы\n",
    "df['Year'] = df['DateTime'].dt.year\n",
    "df['Month'] = df['DateTime'].dt.month\n",
    "df['Day'] = df['DateTime'].dt.day\n",
    "df['Hour'] = df['DateTime'].dt.hour\n",
    "df['Weekday'] = df['DateTime'].dt.dayofweek  # 0 = понедельник, 6 = воскресенье\n",
    "\n",
    "df"
   ]
  },
  {
   "cell_type": "markdown",
   "id": "22",
   "metadata": {
    "id": "7919aa7d"
   },
   "source": [
    "Преобразуйте столбец пола (`SexuponOutcome`). Обратите внимание: помимо самого пола данный признак содержит информацию о стерилизации. Замените данный признак двумя столбцами:"
   ]
  },
  {
   "cell_type": "code",
   "execution_count": null,
   "id": "23",
   "metadata": {
    "id": "918b9b4b"
   },
   "outputs": [],
   "source": [
    "sex_data = df['SexuponOutcome'].str.split(' ', n=2, expand=True)\n",
    "\n",
    "df['Sterilized'] = sex_data[0].map({'Neutered': 1, 'Spayed': 1, 'Intact': 0})  # 1 для стерилизованных, 0 для нестирилизованных\n",
    "df['Sex'] = sex_data[1]"
   ]
  },
  {
   "cell_type": "markdown",
   "id": "24",
   "metadata": {
    "id": "20acd519"
   },
   "source": [
    "Также можно не выбрасывать столбец кличек животных. В предсказании целевой переменной может помочь информация о его наличии или отсутствии. Сгенерируйте соответствующий признак:"
   ]
  },
  {
   "cell_type": "code",
   "execution_count": null,
   "id": "25",
   "metadata": {
    "colab": {
     "base_uri": "https://localhost:8080/",
     "height": 822
    },
    "id": "5e4bac8e",
    "outputId": "9e66e273-0db5-4350-c3b3-ba96859a60c3"
   },
   "outputs": [],
   "source": [
    "df['Has_Name'] = df['Name'].notna().astype(int)  # 1, если кличка есть, 0, если нет\n",
    "df"
   ]
  },
  {
   "cell_type": "markdown",
   "id": "26",
   "metadata": {
    "id": "16bdd9d8"
   },
   "source": [
    "Обработайте пропуски в данных. Вспомните, какие методы обработки пропусков вы проходили в прошлом семестре. Объясните использование того или иного метода. Если будете удалять строки с пропусками, не забывайте что в столбце `Name` пропуски несут полезную информацию!"
   ]
  },
  {
   "cell_type": "code",
   "execution_count": null,
   "id": "27",
   "metadata": {
    "colab": {
     "base_uri": "https://localhost:8080/",
     "height": 822
    },
    "id": "c48cea09",
    "outputId": "0e8dd76b-0d92-4f48-c53a-5a1eb76283ec"
   },
   "outputs": [],
   "source": [
    "# Удаление строк с пропусками в критически важных столбцах\n",
    "df.dropna(subset=['DateTime', 'OutcomeType', 'AnimalType', 'SexuponOutcome'], inplace=True)\n",
    "\n",
    "# Заполнение пропусков в AgeuponOutcome и OutcomeSubtype\n",
    "df['AgeuponOutcome'].fillna(df['AgeuponOutcome'].mean(), inplace=True)\n",
    "df['OutcomeSubtype'].fillna(df['OutcomeSubtype'].mode()[0], inplace=True)\n",
    "\n",
    "# Создание индикатора для пропусков в SexuponOutcome\n",
    "df['Missing_Sex'] = df['SexuponOutcome'].isna().astype(int)\n",
    "\n",
    "# Заполнение пропусков в Sterilized и Sex\n",
    "df['Sterilized'].fillna(0, inplace=True)\n",
    "df['Sex'].fillna('Unknown', inplace=True)\n",
    "\n",
    "df"
   ]
  },
  {
   "cell_type": "code",
   "execution_count": null,
   "id": "28",
   "metadata": {
    "colab": {
     "base_uri": "https://localhost:8080/"
    },
    "id": "b23d1da7",
    "outputId": "3ffca9aa-36ac-468c-9d4b-3b1fcaf40cc0"
   },
   "outputs": [],
   "source": [
    "df.info()"
   ]
  },
  {
   "cell_type": "markdown",
   "id": "29",
   "metadata": {
    "id": "a7ee9000"
   },
   "source": [
    "Кажется... готово! Впрочем, если есть желание и светлые идеи как модернизировать предложенную предобработку данных, их воплощение только приветствуется. Главное &mdash; не забывайте писать пояснения!\n",
    "\n",
    "##### 2. Кодирование категориальных признаков\n",
    "\n",
    "А мы перейдём к кодированию категориальных признаков. Напомним подходящие методы: OneHotEncoding &mdash; для малого количества неупорядоченных меток, LabelEncoding &mdash; для упорядоченных меток, MeanEncoding &mdash;  большое количество неупорядоченных меток классов. Также в лекции упоминались Binary- и FrequencyEncoding. В случае, если возможна утечка таргета, напишите пояснение что вы собираетесь использовать для каждого столбца, а сам метод применяйте уже внутри пайплайна при подборе гиперпараметров. Столбцы, которые не собираетесь использовать &mdash; удалите."
   ]
  },
  {
   "cell_type": "markdown",
   "id": "30",
   "metadata": {
    "id": "1pR60dayLqZR"
   },
   "source": [
    "Давйте по порядку:\n",
    "\n",
    "Подходящие методы кодирования:\n",
    "\n",
    "1. **OneHotEncoding** подходит для столбцов с небольшим количеством уникальных категорий (например, `AnimalType`, `Color`), так как у этих значений нет порядкового отношения.\n",
    "\n",
    "2. **LabelEncoding** мы можем использовать для упорядоченных категориальных признаков. В вашем случае можно использовать для `Sex`.\n",
    "\n",
    "3. **MeanEncoding** подходит для столбцов с большим количеством уникальных значений и неупорядоченными метками (например, `Breed`). Плюсы? А это позволит нам избежать увеличения размерности, но проблемой будет требует возможность утечки информации о целевой переменной.\n",
    "\n",
    "4. **BinaryEncoding и FrequencyEncoding** мы можем использовать для уменьшения размерности при работе с большими набором категорий.\n",
    "\n",
    "Предварительный выбор методов кодирования:\n",
    "- **OutcomeType**: оставить, как есть (можно закодировать с помощью `OneHotEncoding`).\n",
    "- **AnimalType**: `OneHotEncoding`.\n",
    "- **Color**: `OneHotEncoding`.\n",
    "- **Sex**: `LabelEncoding` (или `OneHotEncoding`).\n",
    "- **Breed**: `MeanEncoding`."
   ]
  },
  {
   "cell_type": "code",
   "execution_count": null,
   "id": "31",
   "metadata": {
    "id": "gTJVFbOjkW7c"
   },
   "outputs": [],
   "source": [
    "X = df.drop(['OutcomeType', 'Name'], axis=1)\n",
    "y = df['OutcomeType']"
   ]
  },
  {
   "cell_type": "code",
   "execution_count": null,
   "id": "32",
   "metadata": {
    "id": "7ZOdzsI5kbAa"
   },
   "outputs": [],
   "source": [
    "X_train, X_test, y_train, y_test = train_test_split(X, y, test_size=0.2, random_state=42)"
   ]
  },
  {
   "cell_type": "code",
   "execution_count": null,
   "id": "33",
   "metadata": {
    "id": "MVHM89AOg07b"
   },
   "outputs": [],
   "source": [
    "categorical_columns = ['OutcomeSubtype', 'AnimalType', 'SexuponOutcome', 'Breed', 'Color', 'Sex']\n",
    "numeric_columns = X.select_dtypes(include=[np.number, 'boolean']).columns.tolist()\n",
    "\n",
    "preprocessor = ColumnTransformer(\n",
    "    transformers=[\n",
    "        ('cat', OneHotEncoder(handle_unknown='ignore'), categorical_columns),\n",
    "        ('num', StandardScaler(), numeric_columns)\n",
    "    ]\n",
    ")"
   ]
  },
  {
   "cell_type": "code",
   "execution_count": null,
   "id": "34",
   "metadata": {
    "colab": {
     "base_uri": "https://localhost:8080/",
     "height": 238
    },
    "id": "24ef1e53",
    "outputId": "96f52836-2ad5-47b4-974f-9283482d12d5"
   },
   "outputs": [],
   "source": [
    "numeric_columns = X.select_dtypes(include=[np.number, 'boolean']).columns.tolist()\n",
    "\n",
    "numeric_columns.append('OutcomeType')\n",
    "\n",
    "selected_df = df[numeric_columns]\n",
    "selected_df.head()"
   ]
  },
  {
   "cell_type": "markdown",
   "id": "35",
   "metadata": {
    "id": "ea6b4074"
   },
   "source": [
    "##### 3. Обучение модели на датасете с закодированными признаками\n",
    "\n",
    "Выберите и зафиксируйте семейство моделей, с которым будете проводить дальнейшие эксперименты. Используйте *интерпретируемую* модель &mdash; например, линейную регрессию с регуляризацией или решающее дерево. Это в дальнейшем нам пригодится.\n",
    "\n",
    "В каждом эксперименте проводите подбор наилучшей модели путём подбора гиперпараметров. Во избежание утечки таргета используйте `sklearn.Pipeline`.\n",
    "\n",
    "Для начала обучите модель на получившемся датасете."
   ]
  },
  {
   "cell_type": "code",
   "execution_count": null,
   "id": "36",
   "metadata": {
    "id": "HXMGNbfmlcCp"
   },
   "outputs": [],
   "source": [
    "from sklearn.metrics import make_scorer"
   ]
  },
  {
   "cell_type": "code",
   "execution_count": null,
   "id": "37",
   "metadata": {
    "id": "vekJFEYvfory"
   },
   "outputs": [],
   "source": [
    "model = LogisticRegression(max_iter=1000)"
   ]
  },
  {
   "cell_type": "code",
   "execution_count": null,
   "id": "38",
   "metadata": {
    "id": "SPFPqZ_fk-yb"
   },
   "outputs": [],
   "source": [
    "pipeline = Pipeline(steps=[\n",
    "    ('preprocessor', preprocessor),\n",
    "    ('model', model)\n",
    "])\n",
    "\n",
    "param_grid = {\n",
    "    'model__C': [0.1, 1.0, 10.0],\n",
    "    'model__solver': ['lbfgs', 'liblinear']\n",
    "}"
   ]
  },
  {
   "cell_type": "code",
   "execution_count": null,
   "id": "39",
   "metadata": {
    "id": "krc_vHm2lQeT"
   },
   "outputs": [],
   "source": [
    "grid_search = GridSearchCV(\n",
    "    pipeline,\n",
    "    param_grid,\n",
    "    cv=5,\n",
    "    scoring=make_scorer(log_loss, greater_is_better=False)\n",
    ")"
   ]
  },
  {
   "cell_type": "code",
   "execution_count": null,
   "id": "40",
   "metadata": {
    "colab": {
     "base_uri": "https://localhost:8080/",
     "height": 254
    },
    "id": "_v7xoU3rlvcb",
    "outputId": "f5f7171e-a636-4a32-ad08-4ad0f22005bd"
   },
   "outputs": [],
   "source": [
    "grid_search.fit(X_train, y_train)"
   ]
  },
  {
   "cell_type": "code",
   "execution_count": null,
   "id": "41",
   "metadata": {
    "colab": {
     "base_uri": "https://localhost:8080/"
    },
    "id": "MU2Q6mfRm_EU",
    "outputId": "3e4eb8b7-adcf-4516-964f-61e84100f34f"
   },
   "outputs": [],
   "source": [
    "best_model = grid_search.best_estimator_\n",
    "best_params = grid_search.best_params_\n",
    "\n",
    "print(\"Наилучшая модель:\", best_model)\n",
    "print(\"Наилучшие гиперпараметры:\", best_params)"
   ]
  },
  {
   "cell_type": "code",
   "execution_count": null,
   "id": "42",
   "metadata": {
    "id": "mkhinBf4q9Ob"
   },
   "outputs": [],
   "source": [
    "from sklearn.metrics import log_loss, accuracy_score, classification_report"
   ]
  },
  {
   "cell_type": "code",
   "execution_count": null,
   "id": "43",
   "metadata": {
    "colab": {
     "base_uri": "https://localhost:8080/"
    },
    "id": "Pk8KcPgqqhEj",
    "outputId": "227d0c13-3bb1-4014-c750-d3992aced3ca"
   },
   "outputs": [],
   "source": [
    "y_pred_prob = best_model.predict_proba(X_test)\n",
    "y_pred = best_model.predict(X_test)\n",
    "\n",
    "print(\"Log Loss на тестовом наборе:\", log_loss(y_test, y_pred_prob))\n",
    "print(\"Accuracy на тестовом наборе:\", accuracy_score(y_test, y_pred))\n",
    "print(\"Отчет по классификации:\\n\", classification_report(y_test, y_pred))"
   ]
  },
  {
   "cell_type": "markdown",
   "id": "44",
   "metadata": {
    "id": "015c4c2f"
   },
   "source": [
    "##### 3. Feature engineering\n",
    "Сгенерируйте новые признаки. Например, на основе даты и времени или возраста животных. Ниже приведён пример того как можно отобразить суммарную частоту смертельных исходов и эвтаназии по месяцам. На его основе вы можете посмотреть на аналогичные статистики за другой промежуток времени, по другим исходам или вообще по другим столбцам. Вдруг это поможет сгенерировать новые осмысленные признаки, связанные с выявленной периодичностью или чем-то ещё.\n",
    "\n",
    "Также, возможно, более тщательное изучение описания датасета, понимание смысла тех или иных признаков, натолкнёт вас на другие идеи."
   ]
  },
  {
   "cell_type": "code",
   "execution_count": null,
   "id": "45",
   "metadata": {
    "colab": {
     "base_uri": "https://localhost:8080/"
    },
    "id": "79a813f9",
    "outputId": "0ee5a877-a9c4-40c7-cbbd-94a58694b224"
   },
   "outputs": [],
   "source": [
    "# Переводим в формат даты-времени\n",
    "df['DateTime'] = pd.to_datetime(df['DateTime'])\n",
    "\n",
    "# Задаём периодичность\n",
    "freq_type = \"M\" # укажите тут любую другую частоту\n",
    "\n",
    "# Выделение смертельных исходов связанных с эвтаназией и с иными причинами\n",
    "death_outcomes      = df[[\"DateTime\", \"OutcomeType\"]].loc[(df['OutcomeType'] == 'Died')]\n",
    "euthanasia_outcomes = df[[\"DateTime\", \"OutcomeType\"]].loc[(df['OutcomeType'] == 'Euthanasia')]\n",
    "\n",
    "# Группировка соответствующих подтаблиц по месяцам. Описание объекта `pd.Grouper` см. в замечании ниже\n",
    "death_frequency_per_month = death_outcomes.groupby(pd.Grouper(key='DateTime', freq=freq_type)).value_counts()\n",
    "euthanasia_frequency_per_month = euthanasia_outcomes.groupby(pd.Grouper(key='DateTime', freq=freq_type)).value_counts()\n",
    "\n",
    "# Хотим сложить два исхода по соответствующим индексам.\n",
    "# Но индексы в даннном случае представляют собой объекты pd.MultiIndex вида ('DateTime', 'Death') или ('DateTime', 'Euthanasia')\n",
    "# Для сложения строк с одинаковыми датами нам нужны обычные индексы типа 'DateTime'. Сделаем это:\n",
    "death_frequency_per_month.index = death_frequency_per_month.index.get_level_values('DateTime')\n",
    "euthanasia_frequency_per_month.index = euthanasia_frequency_per_month.index.get_level_values('DateTime')\n",
    "\n",
    "# Наконец складываем 2 объекта pd.Series\n",
    "all_death_cases_per_month = death_frequency_per_month + euthanasia_frequency_per_month\n",
    "\n",
    "# Можете убедиться, что всё корректно:\n",
    "print('Первые две строки 1-го слагаемого\\n', death_frequency_per_month[0:2], '\\n')\n",
    "print('Первые две строки 2-го слагаемого\\n', euthanasia_frequency_per_month[0:2], '\\n')\n",
    "print('Первые две строки суммы\\n', all_death_cases_per_month[0:2], '\\n')\n"
   ]
  },
  {
   "cell_type": "markdown",
   "id": "46",
   "metadata": {
    "id": "df2d003d"
   },
   "source": [
    "*Замечание.* Метод `pd.Grouper` в библиотеке pandas используется для группировки данных по определенному ключу и частоте. Это особенно полезно для временных рядов, где необходимо агрегировать данные по определенным временным интервалам.\n",
    "\n",
    "Основные параметры\n",
    "1. `key`: Строка или объект, указывающий, по какому столбцу или индексу\n",
    "группировать данные.\n",
    "2. `freq`: Строка, указывающая частоту группировки. Поддерживаются различные частоты, такие как минуты, часы, дни, месяцы и т.д.\n",
    "\n",
    "Поддерживаемые частоты (`freq`)\n",
    "* T: Минуты\n",
    "* H: Часы\n",
    "* D: Дни\n",
    "* W: Недели\n",
    "* M: Месяцы\n",
    "* Q: Кварталы\n",
    "* A: Годы"
   ]
  },
  {
   "cell_type": "code",
   "execution_count": null,
   "id": "47",
   "metadata": {
    "colab": {
     "base_uri": "https://localhost:8080/",
     "height": 607
    },
    "id": "b8ad6816",
    "outputId": "61d1511f-c0e6-48c9-cb7c-eafd733591c6"
   },
   "outputs": [],
   "source": [
    "plt.figure(figsize=(12, 6))\n",
    "plt.plot(all_death_cases_per_month)\n",
    "plt.title('Среднее значение исхода по ' + str(freq_type))\n",
    "plt.xlabel('Дата')\n",
    "plt.ylabel('Среднее значение исхода')\n",
    "plt.xticks(rotation=45)\n",
    "plt.tight_layout()"
   ]
  },
  {
   "cell_type": "markdown",
   "id": "48",
   "metadata": {
    "id": "9bcce1e7"
   },
   "source": [
    "##### 4. Обучение модели на датасете с дополнительными признаками\n",
    "Проведите эксперимент"
   ]
  },
  {
   "cell_type": "code",
   "execution_count": null,
   "id": "49",
   "metadata": {
    "id": "ec7e23bd"
   },
   "outputs": [],
   "source": [
    "df['Season'] = df['DateTime'].dt.month % 12 // 3  # Зима=0, Весна=1, Лето=2, Осень=3\n",
    "df['High_Mortality_Period'] = df['DateTime'].dt.month.isin([6, 7, 8])  # Летние месяцы"
   ]
  },
  {
   "cell_type": "code",
   "execution_count": null,
   "id": "50",
   "metadata": {
    "id": "EFcq91_-o10f"
   },
   "outputs": [],
   "source": [
    "X = df.drop(['OutcomeType', 'Name'], axis=1)\n",
    "y = df['OutcomeType']"
   ]
  },
  {
   "cell_type": "code",
   "execution_count": null,
   "id": "51",
   "metadata": {
    "id": "z91xV7EKo6HO"
   },
   "outputs": [],
   "source": [
    "X_train, X_test, y_train, y_test = train_test_split(X, y, test_size=0.2, random_state=42)"
   ]
  },
  {
   "cell_type": "code",
   "execution_count": null,
   "id": "52",
   "metadata": {
    "id": "OJ8n4VP3o8Mo"
   },
   "outputs": [],
   "source": [
    "categorical_columns = ['OutcomeSubtype', 'AnimalType', 'SexuponOutcome', 'Breed', 'Color', 'Sex', 'Season', 'High_Mortality_Period']\n",
    "numeric_columns = X.select_dtypes(include=[np.number, 'boolean']).columns.tolist()\n",
    "\n",
    "preprocessor = ColumnTransformer(\n",
    "    transformers=[\n",
    "        ('cat', OneHotEncoder(handle_unknown='ignore'), categorical_columns),\n",
    "        ('num', StandardScaler(), numeric_columns)\n",
    "    ]\n",
    ")"
   ]
  },
  {
   "cell_type": "code",
   "execution_count": null,
   "id": "53",
   "metadata": {
    "id": "ZBmiyEkOpBzs"
   },
   "outputs": [],
   "source": [
    "model = LogisticRegression(max_iter=1000)\n",
    "\n",
    "pipeline = Pipeline(steps=[\n",
    "    ('preprocessor', preprocessor),\n",
    "    ('model', model)\n",
    "])"
   ]
  },
  {
   "cell_type": "code",
   "execution_count": null,
   "id": "54",
   "metadata": {
    "id": "-RzW_KtVpF6y"
   },
   "outputs": [],
   "source": [
    "param_grid = {\n",
    "    'model__C': [0.1, 1.0, 10.0],\n",
    "    'model__solver': ['lbfgs', 'liblinear']\n",
    "}\n",
    "\n",
    "grid_search = GridSearchCV(\n",
    "    pipeline,\n",
    "    param_grid,\n",
    "    cv=5,\n",
    "    scoring=make_scorer(log_loss, greater_is_better=False)\n",
    ")"
   ]
  },
  {
   "cell_type": "code",
   "execution_count": null,
   "id": "55",
   "metadata": {
    "colab": {
     "base_uri": "https://localhost:8080/"
    },
    "id": "gdZatr36pIF1",
    "outputId": "ef400cd9-398c-41b0-b40a-3cd4c2b7154c"
   },
   "outputs": [],
   "source": [
    "grid_search.fit(X_train, y_train)\n",
    "\n",
    "best_model = grid_search.best_estimator_\n",
    "best_params = grid_search.best_params_\n",
    "\n",
    "print(\"Наилучшая модель:\", best_model)\n",
    "print(\"Наилучшие гиперпараметры:\", best_params)"
   ]
  },
  {
   "cell_type": "code",
   "execution_count": null,
   "id": "56",
   "metadata": {
    "colab": {
     "base_uri": "https://localhost:8080/"
    },
    "id": "VJPZpiKfrEia",
    "outputId": "4faeb848-f176-4128-dad0-750244918dad"
   },
   "outputs": [],
   "source": [
    "y_pred_prob = best_model.predict_proba(X_test)\n",
    "y_pred = best_model.predict(X_test)\n",
    "\n",
    "print(\"Log Loss на тестовом наборе:\", log_loss(y_test, y_pred_prob))\n",
    "print(\"Accuracy на тестовом наборе:\", accuracy_score(y_test, y_pred))\n",
    "print(\"Отчет по классификации:\\n\", classification_report(y_test, y_pred))"
   ]
  },
  {
   "cell_type": "markdown",
   "id": "57",
   "metadata": {
    "id": "WbJq03xFuMAP"
   },
   "source": [
    "Из отчета по классификации видно что метрики не поменялись. Поэтому далее мы как раз и хотим отобрать наиболее важные признаки, чтобы улучшить нашу модель."
   ]
  },
  {
   "cell_type": "markdown",
   "id": "58",
   "metadata": {
    "id": "cacfa115"
   },
   "source": [
    "##### 5. Отбор признаков\n",
    "\n",
    "На лекции было рассказано о нескольких методах отбора признаков. Воспользуйтесь одним или несколькими из них, отберите наиболее важные признаки. Удобно отображать важность признаков при помощи гистограмм. Вновь произведите обучение и сравните полученные результаты с прошлыми экспериментами."
   ]
  },
  {
   "cell_type": "code",
   "execution_count": null,
   "id": "59",
   "metadata": {
    "id": "CU9B6KFDp8a2"
   },
   "outputs": [],
   "source": [
    "from sklearn.inspection import permutation_importance"
   ]
  },
  {
   "cell_type": "code",
   "execution_count": null,
   "id": "60",
   "metadata": {
    "id": "lKJxo0Bu15FR"
   },
   "outputs": [],
   "source": [
    "model = LogisticRegression(max_iter=1000)\n",
    "\n",
    "pipeline = Pipeline(steps=[\n",
    "    ('preprocessor', preprocessor),\n",
    "    ('model', model)\n",
    "])\n",
    "\n",
    "pipeline.fit(X_train, y_train)\n",
    "\n",
    "result = permutation_importance(pipeline, X_test, y_test, n_repeats=30, random_state=42)"
   ]
  },
  {
   "cell_type": "code",
   "execution_count": null,
   "id": "61",
   "metadata": {
    "colab": {
     "base_uri": "https://localhost:8080/",
     "height": 524
    },
    "id": "_glhXlN62rc6",
    "outputId": "fa0ebbb2-f6bb-4598-c430-8c77d3102d16"
   },
   "outputs": [],
   "source": [
    "sorted_idx = result.importances_mean.argsort()\n",
    "\n",
    "plt.barh(range(len(sorted_idx)), result.importances_mean[sorted_idx], align='center')\n",
    "plt.yticks(range(len(sorted_idx)), [X_test.columns[i] for i in sorted_idx])\n",
    "plt.xlabel(\"Увеличение точности\")\n",
    "plt.title(\"Важность признаков\")\n",
    "plt.show()"
   ]
  },
  {
   "cell_type": "code",
   "execution_count": null,
   "id": "62",
   "metadata": {
    "id": "2WbNiQG_3Sv_"
   },
   "outputs": [],
   "source": [
    "top_n = 10\n",
    "top_features = sorted_idx[-top_n:]\n",
    "\n",
    "X_selected = X.iloc[:, top_features]"
   ]
  },
  {
   "cell_type": "code",
   "execution_count": null,
   "id": "63",
   "metadata": {
    "id": "If4wYLL037Pc"
   },
   "outputs": [],
   "source": [
    "categorical_columns_selected = ['SexuponOutcome', 'Sex', 'Breed', 'AnimalType', 'OutcomeSubtype']\n",
    "numeric_columns_selected = ['Hour', 'AgeuponOutcome', 'Sterilized', 'Has_Name']\n",
    "\n",
    "preprocessor_selected = ColumnTransformer(\n",
    "    transformers=[\n",
    "        ('cat', OneHotEncoder(handle_unknown='ignore'), categorical_columns_selected),\n",
    "        ('num', StandardScaler(), numeric_columns_selected)\n",
    "    ]\n",
    ")\n",
    "\n",
    "pipeline_selected = Pipeline(steps=[\n",
    "    ('preprocessor', preprocessor_selected),\n",
    "    ('model', model)\n",
    "])"
   ]
  },
  {
   "cell_type": "code",
   "execution_count": null,
   "id": "64",
   "metadata": {
    "colab": {
     "base_uri": "https://localhost:8080/"
    },
    "id": "j_NXK07T3YWF",
    "outputId": "23682b3b-fcb4-4109-a31c-39c7421636a8"
   },
   "outputs": [],
   "source": [
    "X_train_selected, X_test_selected, y_train, y_test = train_test_split(X_selected, y, test_size=0.2, random_state=42)\n",
    "\n",
    "grid_search_selected = GridSearchCV(\n",
    "    pipeline_selected,\n",
    "    param_grid,\n",
    "    cv=5,\n",
    "    scoring=make_scorer(log_loss, greater_is_better=False)\n",
    ")\n",
    "\n",
    "grid_search_selected.fit(X_train_selected, y_train)\n",
    "\n",
    "best_model_selected = grid_search_selected.best_estimator_\n",
    "best_params_selected = grid_search_selected.best_params_\n",
    "\n",
    "print(\"Наилучшая модель с отобранными признаками:\", best_model_selected)\n",
    "print(\"Наилучшие гиперпараметры с отобранными признаками:\", best_params_selected)"
   ]
  },
  {
   "cell_type": "code",
   "execution_count": null,
   "id": "65",
   "metadata": {
    "colab": {
     "base_uri": "https://localhost:8080/"
    },
    "id": "trormsC43dus",
    "outputId": "a156bc1a-0e1c-483c-8f74-f640392e6cd2"
   },
   "outputs": [],
   "source": [
    "y_pred_prob_selected = best_model_selected.predict_proba(X_test_selected)\n",
    "y_pred_selected = best_model_selected.predict(X_test_selected)\n",
    "\n",
    "print(\"Log Loss на тестовом наборе с отобранными признаками:\", log_loss(y_test, y_pred_prob_selected))\n",
    "print(\"Accuracy на тестовом наборе с отобранными признаками:\", accuracy_score(y_test, y_pred_selected))\n",
    "print(\"Отчет по классификации:\\n\", classification_report(y_test, y_pred_selected))"
   ]
  },
  {
   "cell_type": "markdown",
   "id": "66",
   "metadata": {
    "id": "_qN-xprW6TCi"
   },
   "source": [
    "Метрики стали чуть хуже. Скорее всего выкинули слишком много признаков."
   ]
  },
  {
   "cell_type": "markdown",
   "id": "67",
   "metadata": {
    "id": "16e1229d"
   },
   "source": [
    "##### 6. Анализ зависимостей\n",
    "\n",
    "Выберите эксперимент с наилучшими результатами. Теперь вам необходимо попробовать посмотреть на саму модель. Выведите и проанализируйте коэффициенты, если это линейная модель; если это решающее дерево, то визуализируйте его структуру и посмотрите на узлы. Попробуйте что-то понять о данных и о зависимости признаков и таргета исходя из наилучшей модели. Оцениваются хорошая визуализация и выводы."
   ]
  },
  {
   "cell_type": "code",
   "execution_count": null,
   "id": "68",
   "metadata": {
    "id": "z3Suctts14a8"
   },
   "outputs": [],
   "source": [
    "best_model = grid_search.best_estimator_\n",
    "best_model.fit(X_train, y_train)\n",
    "\n",
    "coef = best_model.named_steps['model'].coef_\n",
    "features = best_model.named_steps['preprocessor'].get_feature_names_out()\n",
    "\n",
    "coef_df = pd.DataFrame(coef, index=best_model.named_steps['model'].classes_, columns=features)\n",
    "\n",
    "coef_abs_df = coef_df.abs().mean(axis=0).sort_values(ascending=False)"
   ]
  },
  {
   "cell_type": "code",
   "execution_count": null,
   "id": "69",
   "metadata": {
    "colab": {
     "base_uri": "https://localhost:8080/",
     "height": 717
    },
    "id": "ef9deb3e",
    "outputId": "59337f68-1ba2-47c9-b538-8f55f09c4e1d"
   },
   "outputs": [],
   "source": [
    "top_n = 15\n",
    "top_coef_abs_df = coef_abs_df.head(top_n)\n",
    "\n",
    "plt.figure(figsize=(12, 8))\n",
    "sns.barplot(x=top_coef_abs_df.values, y=top_coef_abs_df.index)\n",
    "plt.title('Топ 15 признаков по средним абсолютным значениям коэффициентов')\n",
    "plt.xlabel('Среднее абсолютное значение коэффициента')\n",
    "plt.ylabel('Признаки')\n",
    "plt.show()"
   ]
  },
  {
   "cell_type": "markdown",
   "id": "70",
   "metadata": {
    "id": "d5e1c969"
   },
   "source": [
    "##### 6. Сделайте общий вывод"
   ]
  },
  {
   "cell_type": "markdown",
   "id": "71",
   "metadata": {
    "id": "57f7346f"
   },
   "source": [
    "### **Общий вывод по задаче**\n",
    "\n",
    "#### **Процесс обработки данных**\n",
    "\n",
    "На этапе предобработки данных были выполнены следующие шаги:\n",
    "- Обработка пропусков и кодирование категориальных признаков с использованием методов One-Hot Encoding, Label Encoding и Mean Encoding в зависимости от количества уникальных значений и порядковости признаков.\n",
    "- Создание новых признаков на основе даты и времени, что позволило выявить сезонные зависимости в исходах.\n",
    "\n",
    "#### **Обучение моделей**\n",
    "\n",
    "Мы протестировали моедль логистической регрессию. Логистическая регрессия с регуляризацией показала наилучшие результаты, достигая Log Loss 0.63 и точности около 72%.\n",
    "\n",
    "#### **Результаты**\n",
    "\n",
    "Ключевые метрики, полученные в ходе тестирования, показали, что модель способна достаточно неплохо предсказывать исходы.\n",
    "\n",
    "#### **Анализ зависимостей**\n",
    "\n",
    "Анализ коэффициентов модели показал, что наибольшее влияние на исходы оказывают следующие признаки:\n",
    "\n",
    "1. **Категории исходов (OutcomeSubtype)**:\n",
    "\n",
    "   - `Partner`: 2.30\n",
    "   - `SCRP`: 1.33\n",
    "   - `Foster`: 1.24\n",
    "\n",
    "2. **Признаки животного**:\n",
    "\n",
    "   - `Sterilized`: 0.45\n",
    "   - `Has_Name`: 0.29\n",
    "   - `AnimalType_Cat`: 0.28\n",
    "\n",
    "Это указывает на то, что категория исхода, а также наличие стерилизации и имя животного играют важную роль в предсказании исхода.\n"
   ]
  }
 ],
 "metadata": {
  "colab": {
   "provenance": []
  },
  "kernelspec": {
   "display_name": "Python 3 (ipykernel)",
   "language": "python",
   "name": "python3"
  },
  "language_info": {
   "codemirror_mode": {
    "name": "ipython",
    "version": 3
   },
   "file_extension": ".py",
   "mimetype": "text/x-python",
   "name": "python",
   "nbconvert_exporter": "python",
   "pygments_lexer": "ipython3",
   "version": "3.9.12"
  }
 },
 "nbformat": 4,
 "nbformat_minor": 5
}
