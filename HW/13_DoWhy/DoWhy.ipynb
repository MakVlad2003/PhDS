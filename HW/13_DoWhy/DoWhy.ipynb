{
 "cells": [
  {
   "cell_type": "markdown",
   "metadata": {
    "id": "5AGF23TnJ6pA"
   },
   "source": [
    "# ML в Биологии\n",
    "## 13. DoWhy"
   ]
  },
  {
   "cell_type": "code",
   "execution_count": null,
   "metadata": {
    "colab": {
     "base_uri": "https://localhost:8080/"
    },
    "id": "8gj-yFwYFbTR",
    "outputId": "0b66d38e-d3a4-4471-f6e7-ff895fb54e75"
   },
   "outputs": [],
   "source": [
    "!pip install dowhy"
   ]
  },
  {
   "cell_type": "code",
   "execution_count": null,
   "metadata": {
    "id": "EFreO0vQslnZ"
   },
   "outputs": [],
   "source": [
    "import numpy as np\n",
    "import pandas as pd\n",
    "import matplotlib.pyplot as plt\n",
    "import seaborn as sns\n",
    "from tqdm.notebook import tqdm\n",
    "\n",
    "import networkx as nx\n",
    "from dowhy import gcm\n",
    "\n",
    "from dowhy.gcm import StructuralCausalModel, EmpiricalDistribution, ClassifierFCM\n",
    "from dowhy.gcm import interventional_samples\n",
    "from dowhy import CausalModel\n",
    "import dowhy.datasets\n",
    "\n",
    "import networkx as nx\n",
    "from IPython.display import Image, display\n",
    "\n",
    "import warnings\n",
    "warnings.filterwarnings(\"ignore\")\n",
    "\n",
    "options = {\n",
    "    \"font_size\": 14,\n",
    "    \"node_size\": 1500,\n",
    "    \"node_color\": \"#99FF99\",\n",
    "    \"edge_color\": \"#9999FF\",\n",
    "    \"arrowsize\": 25,\n",
    "    \"width\": 3,\n",
    "}\n",
    "\n",
    "def draw_graph(graphs, options):\n",
    "    nx.draw_networkx(graphs, **options)\n",
    "    ax = plt.gca()\n",
    "    ax.margins(0.20)\n",
    "    plt.axis(\"off\")\n",
    "\n",
    "sns.set(style='whitegrid', palette='Set2')"
   ]
  },
  {
   "cell_type": "markdown",
   "metadata": {
    "id": "Ody13WtbJ6pe"
   },
   "source": [
    "## Задача 1\n",
    "\n",
    "Загрузите <a href=\"https://github.com/robjellis/lalonde\">данные</a> об исследовании влияния эффективности программы профессиональной переподготовки по отношению к реальному заработку человека через пару лет после завершения программы (в 1978). Данные также содержат несколько демографических показателей &mdash; возраст, раса, академическое образование и предыдущий заработок.\n",
    "\n",
    "По аналогии с задачей 2 семинара 13 для имеющихся данных постройте граф причинно-следственных связей и оцените величину эффекта (и ее статистическую значимость) через ATE и ATT с помощью Propensity score, например, используя его как веса таргета (weighting) или как меру похожести при подборе тестовой группы (matching).\n",
    "\n",
    "Описание параметров датасета:\n",
    "- `treat` &mdash; были ли пройдена программа профессиональной переподготовки (1 = тестовая группа, 0 = контроль).\n",
    "- `age` &mdash; возраст.\n",
    "- `educ` &mdash; количество лет обучения.\n",
    "- `black` &mdash; обозначение расы (1 = афроамериканец, 0 = нет).\n",
    "- `hispan` &mdash; латиноамериканского происхождения (1 = да, 0 = нет).\n",
    "- `married` &mdash; семейное положение (1 = женат/замужем, 0 = неженат/незамужем).\n",
    "- `nodegree` &mdash; есть ли высшее образование (1 = да, 0 = нет).\n",
    "- `re74` &mdash; доход в 1974 году в долларах США.\n",
    "- `re75` &mdash; доход в 1975 году в долларах США.\n",
    "- `re78` &mdash; доход в 1978 году в долларах США."
   ]
  },
  {
   "cell_type": "code",
   "execution_count": null,
   "metadata": {
    "colab": {
     "base_uri": "https://localhost:8080/",
     "height": 238
    },
    "id": "3Z7B8oiUJ6pf",
    "outputId": "959ab747-92ec-4260-fcad-d7b98c5f6436"
   },
   "outputs": [],
   "source": [
    "data = pd.read_csv('/content/lalonde_data.csv', index_col=0)\n",
    "data.head()"
   ]
  },
  {
   "cell_type": "code",
   "execution_count": null,
   "metadata": {
    "colab": {
     "base_uri": "https://localhost:8080/",
     "height": 300
    },
    "id": "QxbQYNopJ6pg",
    "outputId": "444dd2d5-317d-4a98-9373-15d99588deae"
   },
   "outputs": [],
   "source": [
    "data.describe()"
   ]
  },
  {
   "cell_type": "markdown",
   "metadata": {
    "id": "vX2ZiPMVuVy6"
   },
   "source": [
    "**Построение DAG (граф причинно-следственных связей)**"
   ]
  },
  {
   "cell_type": "code",
   "execution_count": null,
   "metadata": {
    "colab": {
     "base_uri": "https://localhost:8080/",
     "height": 659
    },
    "id": "RZeg9_AvuV9h",
    "outputId": "1e3bf254-8894-4ec0-8844-faaa345ad214"
   },
   "outputs": [],
   "source": [
    "DAG = nx.DiGraph()\n",
    "DAG.add_edges_from([\n",
    "    ('age', 'treat'),\n",
    "    ('educ', 'treat'),\n",
    "    ('black', 'treat'),\n",
    "    ('hispan', 'treat'),\n",
    "    ('married', 'treat'),\n",
    "    ('nodegree', 'treat'),\n",
    "    ('re74', 'treat'),\n",
    "    ('re75', 'treat'),\n",
    "    ('treat', 're78')\n",
    "])\n",
    "\n",
    "plt.figure(figsize=(10, 6))\n",
    "pos = nx.spring_layout(DAG, seed=42)\n",
    "nx.draw(DAG, pos, with_labels=True, node_size=3000, node_color='lightblue', font_size=10)\n",
    "plt.title(\"DAG: Граф причинно-следственных связей\")\n",
    "plt.show()"
   ]
  },
  {
   "cell_type": "code",
   "execution_count": null,
   "metadata": {
    "id": "VIHGQjBfJ6pi"
   },
   "outputs": [],
   "source": [
    "T = data['treat']  # переменная treatment\n",
    "Y = data['re78']  # целевая переменная\n",
    "X = data[['age', 'educ', 'black', 'hispan', 'married', 'nodegree', 're74', 're75']]  # список кофаундереов"
   ]
  },
  {
   "cell_type": "code",
   "execution_count": null,
   "metadata": {
    "id": "RQjeMGTrFvRR"
   },
   "outputs": [],
   "source": [
    "from sklearn.preprocessing import StandardScaler\n",
    "from sklearn.linear_model import LogisticRegression\n",
    "from sklearn.neighbors import NearestNeighbors"
   ]
  },
  {
   "cell_type": "code",
   "execution_count": null,
   "metadata": {
    "id": "U0pE4qzkuqiM"
   },
   "outputs": [],
   "source": [
    "scaler = StandardScaler()\n",
    "X_scaled = scaler.fit_transform(X)"
   ]
  },
  {
   "cell_type": "markdown",
   "metadata": {
    "id": "VSetjceeus0s"
   },
   "source": [
    "**Расчет propensity score**"
   ]
  },
  {
   "cell_type": "code",
   "execution_count": null,
   "metadata": {
    "colab": {
     "base_uri": "https://localhost:8080/",
     "height": 455
    },
    "id": "-3QZuiVmuvvi",
    "outputId": "3f5ad3da-2001-4651-802f-b347dfdeb702"
   },
   "outputs": [],
   "source": [
    "ps_model = LogisticRegression(max_iter=1000, solver='liblinear')\n",
    "ps_model.fit(X_scaled, T)\n",
    "data['propensity_score'] = ps_model.predict_proba(X_scaled)[:, 1]\n",
    "data"
   ]
  },
  {
   "cell_type": "markdown",
   "metadata": {
    "id": "CkZ_q4-Ku15o"
   },
   "source": [
    "**Оценка эффекта через matching**"
   ]
  },
  {
   "cell_type": "code",
   "execution_count": null,
   "metadata": {
    "id": "QFOX0kFQu5EX"
   },
   "outputs": [],
   "source": [
    "nn = NearestNeighbors(n_neighbors=1)\n",
    "control_group = data[data['treat'] == 0]\n",
    "treated_group = data[data['treat'] == 1]\n",
    "\n",
    "nn.fit(control_group[['propensity_score']])\n",
    "distances, indices = nn.kneighbors(treated_group[['propensity_score']])\n",
    "matched_controls = control_group.iloc[indices.flatten()]\n",
    "\n",
    "ATT_matching = (treated_group['re78'].values - matched_controls['re78'].values).mean()"
   ]
  },
  {
   "cell_type": "markdown",
   "metadata": {
    "id": "cRVbQqaovBLT"
   },
   "source": [
    "**Оценка эффекта через weighting**"
   ]
  },
  {
   "cell_type": "code",
   "execution_count": null,
   "metadata": {
    "id": "yRkxkx4JvH7a"
   },
   "outputs": [],
   "source": [
    "weights = T / data['propensity_score'] + (1 - T) / (1 - data['propensity_score'])\n",
    "ATE_weighting = np.mean(weights * (T * Y / data['propensity_score'] - (1 - T) * Y / (1 - data['propensity_score'])))"
   ]
  },
  {
   "cell_type": "code",
   "execution_count": null,
   "metadata": {
    "colab": {
     "base_uri": "https://localhost:8080/"
    },
    "id": "y6f09bxfvLH4",
    "outputId": "758f3175-6445-4e8a-a63e-2dc4af5c4d5a"
   },
   "outputs": [],
   "source": [
    "print(f\"ATT (Matching): {ATT_matching:.2f}\")\n",
    "print(f\"ATE (Weighting): {ATE_weighting:.2f}\")"
   ]
  },
  {
   "cell_type": "markdown",
   "metadata": {
    "id": "3rSRQoXsrBQ6"
   },
   "source": [
    "**Выводы:**\n",
    "\n",
    "1. **Граф причинно-следственных связей (DAG)**\n",
    "\n",
    "Был построен граф, который отображает предполагаемые связи между демографическими характеристиками, доходом до программы (`re74`, `re75`), участием в программе профессиональной переподготовки (`treat`) и доходом через два года после программы (`re78`).\n",
    "\n",
    "2. **ATT**:\n",
    "\n",
    "Эффект программы на доход участников, рассчитанный методом matching, составил **1093.94 USD**. Это свидетельствует о том, что программа увеличивает доход для участвовавших в ней.\n",
    "\n",
    "3. **ATE**:\n",
    "\n",
    "Средний эффект программы на всю популяцию, рассчитанный методом weighting, составил **29921.89 USD**. Это предполагает значительный общий эффект программы на доход.\n",
    "\n",
    "**Итог**:\n",
    "\n",
    "- Программа профессиональной переподготовки положительно влияет на доходы участников, что подтверждается как методом matching, так и методом weighting.\n",
    "\n",
    "- Различие между ATT и ATE может быть связано с неоднородностью в демографических характеристиках или начальных доходах участников и всей популяции."
   ]
  },
  {
   "cell_type": "markdown",
   "metadata": {
    "id": "gb3SSd-OhbuN"
   },
   "source": [
    "---\n",
    "\n",
    "### Задача 2"
   ]
  },
  {
   "cell_type": "markdown",
   "metadata": {
    "id": "wy3WY4YLhbuN"
   },
   "source": [
    "**1.** Рассмотрим данные по заболеваемости и смертности от COVID-19 в марте 2020 года, когда пандемия только начиналась. В данных представлена информация по нескольким странам по разным возрастным категориям.\n",
    "\n",
    "Загрузите данные и рассчитайте Case Fatality Rate (CFR) &mdash; процент смертности при условии подтвержденного коронавируса (Confirmed cases)."
   ]
  },
  {
   "cell_type": "code",
   "execution_count": null,
   "metadata": {
    "colab": {
     "base_uri": "https://localhost:8080/",
     "height": 206
    },
    "id": "j2b8Kmd2hbuN",
    "outputId": "3da0c5e5-e7c3-4b89-d133-07b948e93243"
   },
   "outputs": [],
   "source": [
    "data = pd.read_excel(\"covid_data.xlsx\", index_col=0)\n",
    "data.head()"
   ]
  },
  {
   "cell_type": "markdown",
   "metadata": {
    "id": "Po_QcKvJhbuN"
   },
   "source": [
    "Будем рассматривать Китай и Италию как довольно разные страны, в которых коронавирус в начале 2020 развивался наиболее стремительно.\n",
    "\n",
    "Постройте гистограмму для сравнения CFR двух стран по возрастным категориям. Используйте для этого один вызов `seaborn.barplot` с необходимыми параметрами."
   ]
  },
  {
   "cell_type": "code",
   "execution_count": null,
   "metadata": {
    "colab": {
     "base_uri": "https://localhost:8080/",
     "height": 424
    },
    "id": "KAHCsTUpH0Pg",
    "outputId": "d9dcdf4b-8ba9-49ed-cf30-599df30d7488"
   },
   "outputs": [],
   "source": [
    "data['CFR'] = (data['Confirmed fatalities'] / data['Confirmed cases']) * 100\n",
    "data"
   ]
  },
  {
   "cell_type": "code",
   "execution_count": null,
   "metadata": {
    "colab": {
     "base_uri": "https://localhost:8080/",
     "height": 601
    },
    "id": "gXzDIfg6hbuN",
    "outputId": "47c88a51-3a7a-41b7-a4ae-7889c08c2e35"
   },
   "outputs": [],
   "source": [
    "countries_of_interest = ['China', 'Italy']\n",
    "data_filtered = data[data['Country'].isin(countries_of_interest)]\n",
    "\n",
    "plt.figure(figsize=(10, 6))\n",
    "sns.barplot(\n",
    "    data=data_filtered,\n",
    "    x='Age group',\n",
    "    y='CFR',\n",
    "    hue='Country',\n",
    "    palette='Set2'\n",
    ")\n",
    "\n",
    "plt.title('Case Fatality Rate (CFR) by Age Group: China vs Italy', fontsize=14)\n",
    "plt.xlabel('Age Group', fontsize=12)\n",
    "plt.ylabel('CFR (%)', fontsize=12)\n",
    "plt.xticks(rotation=45)\n",
    "plt.legend(title='Country', fontsize=10)\n",
    "plt.tight_layout()\n",
    "\n",
    "plt.show()"
   ]
  },
  {
   "cell_type": "markdown",
   "metadata": {
    "id": "bvq-tmpyhbuN"
   },
   "source": [
    "Теперь рассчитайте общую CFR на основе суммарного количества случаев по всем возрастным категориями и сравните их для этих двух стран."
   ]
  },
  {
   "cell_type": "code",
   "execution_count": null,
   "metadata": {
    "colab": {
     "base_uri": "https://localhost:8080/",
     "height": 112
    },
    "id": "xxWgadNYhbuO",
    "outputId": "13b58d23-c1cb-4fb8-ea4f-d6b3c938b7cc"
   },
   "outputs": [],
   "source": [
    "summary_data = data[data['Country'].isin(['China', 'Italy'])].groupby('Country').agg(\n",
    "    total_cases=('Confirmed cases', 'sum'),\n",
    "    total_fatalities=('Confirmed fatalities', 'sum')\n",
    ").reset_index()\n",
    "\n",
    "summary_data['CFR'] = (summary_data['total_fatalities'] / summary_data['total_cases']) * 100\n",
    "summary_data"
   ]
  },
  {
   "cell_type": "markdown",
   "metadata": {
    "id": "p1mSS2SBhbuO"
   },
   "source": [
    "Что можно наблюдать?"
   ]
  },
  {
   "cell_type": "markdown",
   "metadata": {
    "id": "tpz8DnIRhbuO"
   },
   "source": [
    "Китай: Общая CFR составляет 2.29%.\n",
    "Италия: Общая CFR равна 4.45%, что примерно в 2 раза выше, чем в Китае. Но при этом в старших возрастных группах (70-79 и 80+) CFR в Китае выше, чем в Италии"
   ]
  },
  {
   "cell_type": "markdown",
   "metadata": {
    "id": "Xbbo8um2hbuO"
   },
   "source": [
    "**2.** Итак, мы исследуем три признака: страна, возрастная категория, CFR. Определите на них граф причинно-следственных связей на основе логических соображений и визуализируйте его."
   ]
  },
  {
   "cell_type": "code",
   "execution_count": null,
   "metadata": {
    "colab": {
     "base_uri": "https://localhost:8080/",
     "height": 636
    },
    "id": "ECxzw66IhbuO",
    "outputId": "6a2c644e-b287-4c9c-b450-5789e91bbe3b"
   },
   "outputs": [],
   "source": [
    "causal_graph = nx.DiGraph()\n",
    "\n",
    "causal_graph.add_nodes_from([\"Country\", \"Age group\", \"CFR\"])\n",
    "\n",
    "causal_graph.add_edge(\"Country\", \"CFR\")\n",
    "causal_graph.add_edge(\"Age group\", \"CFR\")\n",
    "causal_graph.add_edge(\"Country\", \"Age group\")\n",
    "\n",
    "plt.figure(figsize=(8, 6))\n",
    "pos = nx.spring_layout(causal_graph, seed=42)\n",
    "nx.draw(causal_graph, pos, with_labels=True, node_size=3000, node_color='lightblue', font_size=10)\n",
    "plt.show()"
   ]
  },
  {
   "cell_type": "markdown",
   "metadata": {
    "id": "0laVPy9LhbuO"
   },
   "source": [
    "Для каждой вершины опишите характер причинно-следственной связи. Например, если это линейная регрессия, то надо *выписать ее формулу*."
   ]
  },
  {
   "cell_type": "markdown",
   "metadata": {
    "id": "hBZGytRLLEeg"
   },
   "source": [
    "### Описание причинно-следственных связей\n",
    "\n",
    "1. **Country $\\rightarrow$ Age group:**  \n",
    "Страна влияет на возрастную категорию через демографическую структуру населения.  \n",
    "   \n",
    "**Формула:**\n",
    "\n",
    "$$\n",
    "\\text{Age group} = \\alpha_0 + \\alpha_1 \\cdot \\text{Country}\n",
    "$$\n",
    "\n",
    "2. **Country $\\rightarrow$ CFR:**\n",
    "\n",
    "Страна влияет на Case Fatality Rate (CFR) через доступность медицины, качество здравоохранения и другие факторы.\n",
    "\n",
    "**Формула:**\n",
    "\n",
    "$$\n",
    "\\text{CFR} = \\beta_0 + \\beta_1 \\cdot \\text{Country}\n",
    "$$\n",
    "\n",
    "3. **Age group $\\rightarrow$ CFR**  \n",
    "\n",
    "Возрастная категория напрямую влияет на вероятность летального исхода из-за различий в иммунной системе.  \n",
    "\n",
    "**Формула:**\n",
    "\n",
    "$$\n",
    "\\text{CFR} = \\gamma_0 + \\gamma_1 \\cdot \\text{Age group}\n",
    "$$\n",
    "\n",
    "### Итоговая модель CFR:\n",
    "\n",
    "$$\n",
    "\\text{CFR} = \\delta_0 + \\delta_1 \\cdot \\text{Country} + \\delta_2 \\cdot \\text{Age group}\n",
    "$$"
   ]
  },
  {
   "cell_type": "markdown",
   "metadata": {
    "id": "qO2oVmoahbuO"
   },
   "source": [
    "**3.** Сделаем две копии признака \"страна\":\n",
    "* `demography` ($D$) &mdash; демографическая ситуация, определяемая страной;\n",
    "* `treatment methods` ($T$) &mdash; методы лечения, свойственные стране.\n",
    "\n",
    "Мы делаем такое разделение потому как, например, одна страна может взять методы лечения другой страны, но демографическую ситуацию поменять при этом не получится.\n",
    "\n",
    "Визуализируйте причинно-следственный граф с новыми признаками вместо `Country`."
   ]
  },
  {
   "cell_type": "code",
   "execution_count": null,
   "metadata": {
    "colab": {
     "base_uri": "https://localhost:8080/",
     "height": 536
    },
    "id": "XQIBil8IhbuO",
    "outputId": "de722e0f-a212-41d4-f686-300d26a99531"
   },
   "outputs": [],
   "source": [
    "data_filtered['demography'] = data_filtered['Country']\n",
    "data_filtered['treatment methods'] = data_filtered['Country']\n",
    "\n",
    "\n",
    "causal_graph = nx.DiGraph([\n",
    "    ('demography', 'Age group'),\n",
    "    ('treatment methods', 'CFR'),\n",
    "    ('Age group', 'CFR')\n",
    "])\n",
    "\n",
    "plt.figure(figsize=(8, 5))\n",
    "pos = nx.spring_layout(causal_graph, seed=42)\n",
    "nx.draw(causal_graph, pos, with_labels=True, node_size=3000, node_color='lightblue', font_size=10)\n",
    "plt.show()"
   ]
  },
  {
   "cell_type": "markdown",
   "metadata": {
    "id": "aEujOM1-hbuO"
   },
   "source": [
    "Определите по графу causal модель и обучите ее"
   ]
  },
  {
   "cell_type": "code",
   "execution_count": null,
   "metadata": {
    "id": "BnFhVqDtL9V-"
   },
   "outputs": [],
   "source": [
    "from dowhy.gcm import AdditiveNoiseModel, ClassifierFCM\n",
    "from dowhy.gcm.ml import create_linear_regressor"
   ]
  },
  {
   "cell_type": "code",
   "execution_count": null,
   "metadata": {
    "colab": {
     "base_uri": "https://localhost:8080/"
    },
    "id": "vCDHr5sEhbuO",
    "outputId": "ac48d1d0-8db9-47af-cf1a-1f1be438b54e"
   },
   "outputs": [],
   "source": [
    "model = StructuralCausalModel(causal_graph)\n",
    "\n",
    "model.set_causal_mechanism(\"demography\", EmpiricalDistribution())\n",
    "model.set_causal_mechanism(\"Age group\", ClassifierFCM())\n",
    "model.set_causal_mechanism(\"treatment methods\", EmpiricalDistribution())\n",
    "model.set_causal_mechanism(\"CFR\", AdditiveNoiseModel(prediction_model=create_linear_regressor()))\n",
    "\n",
    "gcm.fit(model, data_filtered)"
   ]
  },
  {
   "cell_type": "markdown",
   "metadata": {
    "id": "Iy20u9UChbuO"
   },
   "source": [
    "С помощью интервенции оцените, было бы эффективнее в Китае с его демографической ситуацией применять итальянские методы лечения. Для этого нужно оценить величину\n",
    "$$NDE = \\mathsf{E}(CFR\\ |\\ D:=China, T:=Italy) - \\mathsf{E}(CFR\\ |\\ D:=China, T:=China),$$\n",
    "\n",
    "где NDE &mdash; Natural Direct Effect. Используйте достаточно большое количество семплирований."
   ]
  },
  {
   "cell_type": "code",
   "execution_count": null,
   "metadata": {
    "colab": {
     "base_uri": "https://localhost:8080/",
     "height": 37
    },
    "id": "e1H-ShbuhbuP",
    "outputId": "3f4a45d8-276e-4f72-e18b-012f3ff76195"
   },
   "outputs": [],
   "source": [
    "nde = gcm.average_causal_effect(\n",
    "    model,\n",
    "    'CFR',\n",
    "    interventions_alternative={\n",
    "        \"demography\": lambda x: \"China\",\n",
    "        \"treatment methods\": lambda x: \"Italy\"\n",
    "    },\n",
    "    interventions_reference={\n",
    "        \"demography\": lambda x: \"China\",\n",
    "        \"treatment methods\": lambda x: \"China\"\n",
    "    },\n",
    "    num_samples_to_draw=1000\n",
    ")\n",
    "\n",
    "nde"
   ]
  },
  {
   "cell_type": "markdown",
   "metadata": {
    "id": "26zdES8ehbuP"
   },
   "source": [
    "Теперь, наоборот, оцените, было бы эффективнее применять в Италии с ее демографической ситуацией китайские методы лечения."
   ]
  },
  {
   "cell_type": "code",
   "execution_count": null,
   "metadata": {
    "colab": {
     "base_uri": "https://localhost:8080/",
     "height": 37
    },
    "id": "uMlZLYNYhbuP",
    "outputId": "ebf590a9-421e-4373-a8cb-3228506fd594"
   },
   "outputs": [],
   "source": [
    "nde = gcm.average_causal_effect(\n",
    "    model,\n",
    "    'CFR',\n",
    "    interventions_alternative={\n",
    "        \"demography\": lambda x: \"Italy\",\n",
    "        \"treatment methods\": lambda x: \"China\"\n",
    "    },\n",
    "    interventions_reference={\n",
    "        \"demography\": lambda x: \"Italy\",\n",
    "        \"treatment methods\": lambda x: \"Italy\"\n",
    "    },\n",
    "    num_samples_to_draw=1000\n",
    ")\n",
    "\n",
    "nde"
   ]
  },
  {
   "cell_type": "markdown",
   "metadata": {
    "id": "WX8M9prGhbuS"
   },
   "source": [
    "Наконец, оценим, что было бы, если в Китае с его методами лечения демографическая ситуация была бы такой же, как в Италии (Natural Indirect Effect). Какую величину при этом надо рассчитать? Рассчитайте ее."
   ]
  },
  {
   "cell_type": "code",
   "execution_count": null,
   "metadata": {
    "colab": {
     "base_uri": "https://localhost:8080/",
     "height": 37
    },
    "id": "lbHpb-AyhbuS",
    "outputId": "52845956-dc63-4231-86e7-cc076ceb38ab"
   },
   "outputs": [],
   "source": [
    "nie = gcm.average_causal_effect(\n",
    "    model,\n",
    "    'CFR',\n",
    "    interventions_alternative={\n",
    "        \"demography\": lambda x: \"Italy\",\n",
    "        \"treatment methods\": lambda x: \"China\"\n",
    "    },\n",
    "    interventions_reference={\n",
    "        \"demography\": lambda x: \"China\",\n",
    "        \"treatment methods\": lambda x: \"China\"\n",
    "    },\n",
    "    num_samples_to_draw=1000\n",
    ")\n",
    "\n",
    "nie"
   ]
  },
  {
   "cell_type": "markdown",
   "metadata": {
    "id": "BRwjtPp3F5D2"
   },
   "source": [
    "Можно также получить доверительный интервал оценки эффекта с помощью `gcm.confidence_intervals`, но, так как данный метод принимает только функции без параметров в качестве аргумента, нужно либо задать дополнительно вспомогательную функцию `def f(): return target_f(*args, **kwargs)`, либо передать `lambda`-функцию без параметров."
   ]
  },
  {
   "cell_type": "code",
   "execution_count": null,
   "metadata": {
    "colab": {
     "base_uri": "https://localhost:8080/"
    },
    "id": "ZH3SNDxkF5D2",
    "outputId": "72c00400-c6ca-4fba-bd5b-e3a9444f45f6"
   },
   "outputs": [],
   "source": [
    "def calculate_nie():\n",
    "    return gcm.average_causal_effect(\n",
    "        model,\n",
    "        'CFR',\n",
    "        interventions_alternative={\n",
    "            \"demography\": lambda x: \"Italy\",\n",
    "            \"treatment methods\": lambda x: \"China\"\n",
    "        },\n",
    "        interventions_reference={\n",
    "            \"demography\": lambda x: \"China\",\n",
    "            \"treatment methods\": lambda x: \"China\"\n",
    "        },\n",
    "        num_samples_to_draw=1000\n",
    "    )\n",
    "\n",
    "nie_confidence_interval = gcm.confidence_intervals(\n",
    "    calculate_nie,\n",
    ")\n",
    "\n",
    "print(f\"NIE: {calculate_nie()}\")\n",
    "print(f\"95% Confidence Interval: {nie_confidence_interval}\")"
   ]
  },
  {
   "cell_type": "markdown",
   "metadata": {
    "id": "as94gGGqF5D2"
   },
   "source": [
    "Повторите аналогичный эксперимент для Италии: если бы в этой стране применяли итальянские методы лечения, но демография была бы как в Китае."
   ]
  },
  {
   "cell_type": "code",
   "execution_count": null,
   "metadata": {
    "colab": {
     "base_uri": "https://localhost:8080/"
    },
    "id": "amb5p6-RF5D2",
    "outputId": "8908c16b-424f-43a1-dc81-314830ed7cd4"
   },
   "outputs": [],
   "source": [
    "def calculate_nie_italy():\n",
    "    return gcm.average_causal_effect(\n",
    "        model,\n",
    "        'CFR',\n",
    "        interventions_alternative={\n",
    "            \"demography\": lambda x: \"China\",\n",
    "            \"treatment methods\": lambda x: \"Italy\"\n",
    "        },\n",
    "        interventions_reference={\n",
    "            \"demography\": lambda x: \"Italy\",\n",
    "            \"treatment methods\": lambda x: \"Italy\"\n",
    "        },\n",
    "        num_samples_to_draw=1000\n",
    "    )\n",
    "\n",
    "nie_italy_confidence_interval = gcm.confidence_intervals(calculate_nie_italy)\n",
    "\n",
    "print(f\"NIE: {calculate_nie_italy():.2f}\")\n",
    "print(f\"95% Confidence Interval: {nie_italy_confidence_interval}\")"
   ]
  },
  {
   "cell_type": "markdown",
   "metadata": {
    "id": "pPTwu5bBhbuT"
   },
   "source": [
    "**Выводы:**\n",
    "\n",
    "Методы лечения имеют гораздо более сильное воздействие на показатель CFR, чем демографические факторы. Это видно из того, что значения NDE оказываются более выраженными и значимыми, чем NIE.\n",
    "\n",
    "Итальянские методы лечения менее эффективны в контексте китайской демографии, однако китайские методы могут значительно улучшить результаты в итальянской демографической ситуации.\n",
    "\n",
    "Демографическая ситуация Китая может немного улучшить результаты при применении итальянских методов лечения, но эффект этого изменения незначителен."
   ]
  },
  {
   "cell_type": "markdown",
   "metadata": {
    "id": "cUUuhlJfhbuT"
   },
   "source": [
    "**4.** Наконец, сравните между собой некоторые другие страны на ваш выбор. Каким странам вы рекомендовали бы поменять методы лечения на начальном этапе?"
   ]
  },
  {
   "cell_type": "code",
   "execution_count": null,
   "metadata": {
    "id": "3F9cH4m0F5D6"
   },
   "outputs": [],
   "source": [
    "filtered_data = data[data['Country'].isin(['USA', 'Spain'])]"
   ]
  },
  {
   "cell_type": "code",
   "execution_count": null,
   "metadata": {
    "colab": {
     "base_uri": "https://localhost:8080/",
     "height": 536
    },
    "id": "wNfl-ORjF5D7",
    "outputId": "06ebcd93-2d6e-4ec8-8cf6-6a8f34fa6105"
   },
   "outputs": [],
   "source": [
    "filtered_data['demography'] = filtered_data['Country']\n",
    "filtered_data['treatment methods'] = filtered_data['Country']\n",
    "\n",
    "causal_graph = nx.DiGraph([\n",
    "    ('demography', 'Age group'),\n",
    "    ('treatment methods', 'CFR'),\n",
    "    ('Age group', 'CFR')\n",
    "])\n",
    "\n",
    "plt.figure(figsize=(8, 5))\n",
    "pos = nx.spring_layout(causal_graph, seed=42)\n",
    "nx.draw(causal_graph, pos, with_labels=True, node_size=3000, node_color='lightblue', font_size=10)\n",
    "plt.show()"
   ]
  },
  {
   "cell_type": "code",
   "execution_count": null,
   "metadata": {
    "colab": {
     "base_uri": "https://localhost:8080/"
    },
    "id": "dQQHccv1F5D7",
    "outputId": "19ec5feb-457a-4bc7-bd75-662c4fc194fb"
   },
   "outputs": [],
   "source": [
    "model = StructuralCausalModel(causal_graph)\n",
    "\n",
    "model.set_causal_mechanism(\"demography\", EmpiricalDistribution())\n",
    "model.set_causal_mechanism(\"Age group\", ClassifierFCM())\n",
    "model.set_causal_mechanism(\"treatment methods\", EmpiricalDistribution())\n",
    "model.set_causal_mechanism(\"CFR\", AdditiveNoiseModel(prediction_model=create_linear_regressor()))  #\n",
    "\n",
    "gcm.fit(model, filtered_data)"
   ]
  },
  {
   "cell_type": "code",
   "execution_count": null,
   "metadata": {
    "colab": {
     "base_uri": "https://localhost:8080/",
     "height": 37
    },
    "id": "qPMtXRnzF5D7",
    "outputId": "02519884-c231-442c-f1a3-e22fadef98df"
   },
   "outputs": [],
   "source": [
    "nde = gcm.average_causal_effect(\n",
    "    model,\n",
    "    'CFR',\n",
    "    interventions_alternative={\n",
    "        \"demography\": lambda x: \"Spain\",\n",
    "        \"treatment methods\": lambda x: \"USA\"\n",
    "    },\n",
    "    interventions_reference={\n",
    "        \"demography\": lambda x: \"Spain\",\n",
    "        \"treatment methods\": lambda x: \"Spain\"\n",
    "    },\n",
    "    num_samples_to_draw=1000\n",
    ")\n",
    "\n",
    "nde"
   ]
  },
  {
   "cell_type": "code",
   "execution_count": null,
   "metadata": {
    "colab": {
     "base_uri": "https://localhost:8080/",
     "height": 37
    },
    "id": "3L9vd1E9F5D7",
    "outputId": "6124729e-600e-4b80-fc4c-89d75d747e8d"
   },
   "outputs": [],
   "source": [
    "nde = gcm.average_causal_effect(\n",
    "    model,\n",
    "    'CFR',\n",
    "    interventions_alternative={\n",
    "        \"demography\": lambda x: \"USA\",\n",
    "        \"treatment methods\": lambda x: \"Spain\"\n",
    "    },\n",
    "    interventions_reference={\n",
    "        \"demography\": lambda x: \"USA\",\n",
    "        \"treatment methods\": lambda x: \"USA\"\n",
    "    },\n",
    "    num_samples_to_draw=1000\n",
    ")\n",
    "\n",
    "nde"
   ]
  },
  {
   "cell_type": "code",
   "execution_count": null,
   "metadata": {
    "colab": {
     "base_uri": "https://localhost:8080/",
     "height": 37
    },
    "id": "cs-VyaC9F5D7",
    "outputId": "d4449dc5-7c79-4276-af0b-b158080c93e7"
   },
   "outputs": [],
   "source": [
    "nie = gcm.average_causal_effect(\n",
    "    model,\n",
    "    'CFR',\n",
    "    interventions_alternative={\n",
    "        \"demography\": lambda x: \"USA\",\n",
    "        \"treatment methods\": lambda x: \"Spain\"\n",
    "    },\n",
    "    interventions_reference={\n",
    "        \"demography\": lambda x: \"Spain\",\n",
    "        \"treatment methods\": lambda x: \"Spain\"\n",
    "    },\n",
    "    num_samples_to_draw=1000\n",
    ")\n",
    "\n",
    "nie"
   ]
  },
  {
   "cell_type": "code",
   "execution_count": null,
   "metadata": {
    "colab": {
     "base_uri": "https://localhost:8080/"
    },
    "id": "t4rKoH8jF5D8",
    "outputId": "c32f1704-d71f-4886-eb9c-4b949fe6a3ea"
   },
   "outputs": [],
   "source": [
    "def calculate_nie():\n",
    "    return gcm.average_causal_effect(\n",
    "        model,\n",
    "        'CFR',\n",
    "        interventions_alternative={\n",
    "            \"demography\": lambda x: \"USA\",\n",
    "            \"treatment methods\": lambda x: \"Spain\"\n",
    "        },\n",
    "        interventions_reference={\n",
    "            \"demography\": lambda x: \"Spain\",\n",
    "            \"treatment methods\": lambda x: \"Spain\"\n",
    "        },\n",
    "        num_samples_to_draw=1000\n",
    "    )\n",
    "\n",
    "nie_confidence_interval = gcm.confidence_intervals(calculate_nie)\n",
    "\n",
    "print(f\"NIE): {calculate_nie()}\")\n",
    "print(f\"95% Confidence Interval: {nie_confidence_interval}\")"
   ]
  },
  {
   "cell_type": "code",
   "execution_count": null,
   "metadata": {
    "colab": {
     "base_uri": "https://localhost:8080/"
    },
    "id": "IOjUVub_F5D8",
    "outputId": "90f0869a-63c6-462c-92fa-8a005451a634"
   },
   "outputs": [],
   "source": [
    "def calculate_nie_italy():\n",
    "    return gcm.average_causal_effect(\n",
    "        model,\n",
    "        'CFR',\n",
    "        interventions_alternative={\n",
    "            \"demography\": lambda x: \"USA\",\n",
    "            \"treatment methods\": lambda x: \"USA\"\n",
    "        },\n",
    "        interventions_reference={\n",
    "            \"demography\": lambda x: \"USA\",\n",
    "            \"treatment methods\": lambda x: \"USA\"\n",
    "        },\n",
    "        num_samples_to_draw=1000\n",
    "    )\n",
    "\n",
    "nie_italy_confidence_interval = gcm.confidence_intervals(calculate_nie_italy)\n",
    "\n",
    "print(f\"NIE: {calculate_nie_italy()}\")\n",
    "print(f\"95% Confidence Interval: {nie_italy_confidence_interval}\")"
   ]
  },
  {
   "cell_type": "markdown",
   "metadata": {
    "id": "oRSuVkRMF5D8"
   },
   "source": [
    "**Выводы:**\n",
    "\n",
    "1. Применение американских методов лечения в Испании снижает CFR, но эффект незначителен. Напротив, испанские методы в США не показывают существенного улучшения. Разница между странами минимальна.\n",
    "\n",
    "2. Изменение демографической ситуации, например, внедрение испанской демографии в США, заметно влияет на CFR. Это подтверждает, что демографические факторы имеют большое значение.\n",
    "\n",
    "3. Страны должны учитывать как демографию, так и методы лечения при принятии решений. Обмен методами лечения может быть полезным, но изменения в демографии также могут сыграть ключевую роль в снижении смертности.\n",
    "\n",
    "4. Разница в демографических факторах имеет более сильное воздействие на CFR, чем методы лечения, хотя оба аспекта важно учитывать при оптимизации подходов."
   ]
  }
 ],
 "metadata": {
  "colab": {
   "provenance": []
  },
  "kernelspec": {
   "display_name": "Python 3 (ipykernel)",
   "language": "python",
   "name": "python3"
  },
  "language_info": {
   "codemirror_mode": {
    "name": "ipython",
    "version": 3
   },
   "file_extension": ".py",
   "mimetype": "text/x-python",
   "name": "python",
   "nbconvert_exporter": "python",
   "pygments_lexer": "ipython3",
   "version": "3.10.9"
  }
 },
 "nbformat": 4,
 "nbformat_minor": 0
}
