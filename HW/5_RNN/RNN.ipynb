{
 "cells": [
  {
   "cell_type": "markdown",
   "metadata": {},
   "source": [
    "# ML в Биологии\n",
    "## 5. Введение в реккурентные нейронные сети"
   ]
  },
  {
   "cell_type": "code",
   "execution_count": null,
   "metadata": {
    "colab": {
     "base_uri": "https://localhost:8080/"
    },
    "id": "wA7C5QL9HbNZ",
    "outputId": "4dec2638-6fdb-48ae-905a-529ae14a60d0"
   },
   "outputs": [],
   "source": [
    "!pip install scikit-image\n",
    "!pip install lightning\n",
    "!pip install tensorboard\n",
    "!pip install mlflow"
   ]
  },
  {
   "cell_type": "code",
   "execution_count": null,
   "metadata": {
    "id": "NHpn4H19pvM0"
   },
   "outputs": [],
   "source": [
    "import time\n",
    "from tqdm.notebook import tqdm\n",
    "from collections import defaultdict\n",
    "\n",
    "import numpy as np\n",
    "import pandas as pd\n",
    "import seaborn as sns\n",
    "import scipy.stats as sps\n",
    "import matplotlib.pyplot as plt\n",
    "from sklearn.model_selection import train_test_split\n",
    "from sklearn.metrics import mean_squared_error\n",
    "from sklearn.preprocessing import MinMaxScaler\n",
    "\n",
    "import lightning.pytorch as pl\n",
    "from lightning.pytorch import loggers as pl_loggers\n",
    "from lightning.pytorch.callbacks import ModelCheckpoint\n",
    "\n",
    "import torch\n",
    "from torch import nn\n",
    "from torch.utils.data import Dataset, TensorDataset, \\\n",
    "                             DataLoader, RandomSampler, SequentialSampler\n",
    "\n",
    "from IPython.display import clear_output\n",
    "from pylab import rcParams\n",
    "\n",
    "rcParams['figure.figsize'] = 15, 7\n",
    "%matplotlib inline\n",
    "\n",
    "sns.set(font_scale=1.3, palette='Set2')"
   ]
  },
  {
   "cell_type": "code",
   "execution_count": null,
   "metadata": {
    "colab": {
     "base_uri": "https://localhost:8080/"
    },
    "id": "H2-xXFxdnf2D",
    "outputId": "61815925-e07d-423f-f5b0-b2c877a4f19f"
   },
   "outputs": [],
   "source": [
    "device = \"cuda\" if torch.cuda.is_available() else \"cpu\"\n",
    "print(device)"
   ]
  },
  {
   "cell_type": "markdown",
   "metadata": {
    "id": "tUWP1lO1qahF"
   },
   "source": [
    "# Данные"
   ]
  },
  {
   "cell_type": "markdown",
   "metadata": {
    "id": "mF6GYiBm5CrE"
   },
   "source": [
    "## Биология"
   ]
  },
  {
   "cell_type": "markdown",
   "metadata": {
    "id": "DZqaAnp0zNCr"
   },
   "source": [
    "#### **Профиль биология**\n",
    "\n",
    "### Загрузка данных\n",
    "В этом задании вы будете работать с данными о распространении COVID-19, их можно скачать [здесь](https://www.kaggle.com/datasets/gpreda/coronavirus-2019ncov). Мы будем предказывать показатель смертности, потому что способы измерения выздоровевших и заболевших разнятся между регионами.\n",
    "\n",
    " В данных представлены следующие столбцы:\n",
    "\n",
    "* `Country/Region` &mdash; страна или регион,\n",
    "\n",
    "* `Province/State` &mdash; город или населенный пункт,\n",
    "* `Latitude` &mdash; географическая широта,\n",
    "* `Longitude` &mdash; географическая долгота,\n",
    "* `Confirmed` &mdash; кол-во подтвержденных случаев заболевания,\n",
    "* `Recovered` &mdash; кол-во подтвержденных случаев выздоровления,\n",
    "* `Deaths` &mdash; кол-во смертей,\n",
    "* `Date` &mdash; дата."
   ]
  },
  {
   "cell_type": "markdown",
   "metadata": {
    "id": "FtLwptbG6Jq-"
   },
   "source": [
    "Выгрузим датасет."
   ]
  },
  {
   "cell_type": "code",
   "execution_count": null,
   "metadata": {
    "colab": {
     "base_uri": "https://localhost:8080/"
    },
    "id": "uAoimHEAr3EP",
    "outputId": "431bcd3f-e7b5-4139-c7aa-686ae85a527e"
   },
   "outputs": [],
   "source": [
    "!unzip archive"
   ]
  },
  {
   "cell_type": "code",
   "execution_count": null,
   "metadata": {
    "colab": {
     "base_uri": "https://localhost:8080/",
     "height": 206
    },
    "id": "2S3zcsSKo25R",
    "outputId": "dab70f61-4b78-431f-ba66-50cc5be23969"
   },
   "outputs": [],
   "source": [
    "df = pd.read_csv('covid-19-all.csv', dtype={'Country/Region': str, 'Province/State': str}, low_memory=False)\n",
    "df['Date'] = pd.to_datetime(df['Date'])\n",
    "df.head()"
   ]
  },
  {
   "cell_type": "markdown",
   "metadata": {
    "id": "x6ftcgfV5H0I"
   },
   "source": [
    "Установим в качестве индекса дату."
   ]
  },
  {
   "cell_type": "code",
   "execution_count": null,
   "metadata": {
    "colab": {
     "base_uri": "https://localhost:8080/",
     "height": 238
    },
    "id": "J74iDIfBr3I7",
    "outputId": "dc7bbd86-47b1-44c3-ee0e-ca50f32c65c7"
   },
   "outputs": [],
   "source": [
    "df.set_index('Date', inplace=True)\n",
    "df.head()"
   ]
  },
  {
   "cell_type": "markdown",
   "metadata": {
    "id": "dTwzbHWm5MZB"
   },
   "source": [
    "Избавимся от None если они есть."
   ]
  },
  {
   "cell_type": "code",
   "execution_count": null,
   "metadata": {
    "colab": {
     "base_uri": "https://localhost:8080/",
     "height": 238
    },
    "id": "1NcFlddosCWw",
    "outputId": "da5255e0-1c02-421f-e5ba-8b8937d3e484"
   },
   "outputs": [],
   "source": [
    "df.dropna(inplace=True)\n",
    "df.head()"
   ]
  },
  {
   "cell_type": "markdown",
   "metadata": {
    "id": "uBHkCPZc5SZP"
   },
   "source": [
    "Выберем страну и регион, где хотим предсказывать."
   ]
  },
  {
   "cell_type": "code",
   "execution_count": null,
   "metadata": {
    "colab": {
     "base_uri": "https://localhost:8080/",
     "height": 238
    },
    "id": "DlyDgWGfzZAO",
    "outputId": "92abd2d0-ff8e-495a-de44-4c94930bf43f"
   },
   "outputs": [],
   "source": [
    "country = 'Russia'\n",
    "region = 'Moscow'\n",
    "\n",
    "df_selected = df[(df['Country/Region'] == country) & (df['Province/State'] == region)]\n",
    "df_selected.head()"
   ]
  },
  {
   "cell_type": "markdown",
   "metadata": {
    "id": "m6Pleinb5iJL"
   },
   "source": [
    "Удалим лишние столбцы в выбранных данных."
   ]
  },
  {
   "cell_type": "code",
   "execution_count": null,
   "metadata": {
    "colab": {
     "base_uri": "https://localhost:8080/",
     "height": 238
    },
    "id": "Z4e4RS2dypt2",
    "outputId": "a231d4ee-6b49-44b8-a81f-5c29ffb97491"
   },
   "outputs": [],
   "source": [
    "df_selected = df_selected[['Confirmed', 'Recovered', 'Deaths']]\n",
    "df_selected.head()"
   ]
  },
  {
   "cell_type": "markdown",
   "metadata": {
    "id": "sEJb-Ote4qIu"
   },
   "source": [
    "Посмотрим на данные. Постройте графики заболевших, выздоровевших и количества смертей."
   ]
  },
  {
   "cell_type": "code",
   "execution_count": null,
   "metadata": {
    "colab": {
     "base_uri": "https://localhost:8080/",
     "height": 907
    },
    "id": "B-TCt6mx50Qu",
    "outputId": "3bec6f21-6a63-4197-fc06-9b994f2f1052"
   },
   "outputs": [],
   "source": [
    "# Построение графиков\n",
    "plt.figure(figsize=(25, 15))\n",
    "\n",
    "# График подтвержденных случаев\n",
    "plt.subplot(3, 1, 1)\n",
    "plt.plot(df_selected.index, df_selected['Confirmed'], label='Confirmed', color='blue')\n",
    "plt.title('Confirmed Cases Over Time in Moscow, Russia')\n",
    "plt.xlabel('Date')\n",
    "plt.ylabel('Confirmed Cases')\n",
    "plt.legend()\n",
    "plt.grid(True)\n",
    "\n",
    "# График выздоровевших\n",
    "plt.subplot(3, 1, 2)\n",
    "plt.plot(df_selected.index, df_selected['Recovered'], label='Recovered', color='green')\n",
    "plt.title('Recovered Cases Over Time in Moscow, Russia')\n",
    "plt.xlabel('Date')\n",
    "plt.ylabel('Recovered Cases')\n",
    "plt.legend()\n",
    "plt.grid(True)\n",
    "\n",
    "# График смертей\n",
    "plt.subplot(3, 1, 3)\n",
    "plt.plot(df_selected.index, df_selected['Deaths'], label='Deaths', color='red')\n",
    "plt.title('Deaths Over Time in Moscow, Russia')\n",
    "plt.xlabel('Date')\n",
    "plt.ylabel('Deaths')\n",
    "plt.legend()\n",
    "plt.grid(True)\n",
    "\n",
    "# Отображение графиков\n",
    "plt.tight_layout()\n",
    "plt.show()"
   ]
  },
  {
   "cell_type": "markdown",
   "metadata": {
    "id": "JPiC_g0VypNE"
   },
   "source": [
    "# Модели и обучение"
   ]
  },
  {
   "cell_type": "markdown",
   "metadata": {
    "id": "XhCTSHrm5bBl"
   },
   "source": [
    "## Вспомогательные функции"
   ]
  },
  {
   "cell_type": "markdown",
   "metadata": {
    "id": "mRkmKQlpAZbZ"
   },
   "source": [
    "Напишите класс датасета для данных в виде последовательности."
   ]
  },
  {
   "cell_type": "code",
   "execution_count": null,
   "metadata": {
    "id": "Dmrf65hF5h9U"
   },
   "outputs": [],
   "source": [
    "class TSDataset(torch.utils.data.Dataset):\n",
    "    def __init__(self, data, timesteps):\n",
    "        self.data = data\n",
    "        self.timesteps = timesteps\n",
    "\n",
    "    def __len__(self):\n",
    "        return self.data.shape[0] - self.timesteps\n",
    "\n",
    "    def __getitem__(self, index):\n",
    "        return self.data[index:index+self.timesteps], self.data[index+self.timesteps]"
   ]
  },
  {
   "cell_type": "markdown",
   "metadata": {
    "id": "eqUrmcv7Ai68"
   },
   "source": [
    "Здесь мы создаём функции для обучения, для вывода кривых обучения и для рекурсивного предсказания."
   ]
  },
  {
   "cell_type": "code",
   "execution_count": null,
   "metadata": {
    "id": "wmLfcVVnAvlI"
   },
   "outputs": [],
   "source": [
    "def evaluate_ts_model(model, start_seq, test_data, scaler, return_all=False, device='cpu'):\n",
    "    '''\n",
    "    Функция для проверки качества модели на обучающем отрезке ряда.\n",
    "\n",
    "    :param model: обучаемая модель,\n",
    "    :param start_seq: обучающие данные для первого предсказания,\n",
    "    :param test_data: тестовые данные.\n",
    "    :param return_all: возвращать все предсказания или только для 1-го магазина\n",
    "\n",
    "    :return: результаты предсказания.\n",
    "    '''\n",
    "    result = []\n",
    "    model.train(False)\n",
    "    input_tensor = torch.FloatTensor(start_seq).to(device).unsqueeze(0)\n",
    "\n",
    "    with torch.no_grad():\n",
    "        for i in range(len(test_data)):\n",
    "            # делаем предсказание, а unsqueeze нужны, чтобы сделать размерность (1, 1, 1) вместо (1)\n",
    "\n",
    "            logits = model(input_tensor[:, i:, :]).unsqueeze(0)#.unsqueeze(2)\n",
    "\n",
    "            # присоединяем предсказанное значение к последовательности:\n",
    "            #                        (1, timestep, 1) -> (1, 1, 1)   по оси 1\n",
    "            input_tensor = torch.cat((input_tensor,        logits),       1    )\n",
    "\n",
    "            # обратное преобразование к нормальным числам\n",
    "            logits = scaler.inverse_transform(logits.cpu().numpy().squeeze(0))\n",
    "\n",
    "            # результат сохраняем\n",
    "            result.append(logits.squeeze())\n",
    "\n",
    "    if return_all:\n",
    "        return np.array(result)\n",
    "\n",
    "    return np.array(result)"
   ]
  },
  {
   "cell_type": "markdown",
   "metadata": {
    "id": "qFvIrMeBApHC"
   },
   "source": [
    "Создадим класс модели."
   ]
  },
  {
   "cell_type": "code",
   "execution_count": null,
   "metadata": {
    "id": "R19GCMTKAvtA"
   },
   "outputs": [],
   "source": [
    "class LSTM(nn.Module):\n",
    "    def __init__(self, input_size, output_size, hidden_size, num_lstm_layers, use_pool=False):\n",
    "        super(LSTM, self).__init__()\n",
    "\n",
    "        self.hidden_size = hidden_size\n",
    "        self.num_layers  = num_lstm_layers\n",
    "        self.input_size  = input_size\n",
    "\n",
    "        self.lstm = nn.LSTM(input_size, hidden_size,\n",
    "                            num_layers=num_lstm_layers,\n",
    "                            batch_first=True,\n",
    "                            dropout=0.2) # LSTM-модель с batch_first=True и dropout=0.2\n",
    "\n",
    "        # Размерность пространства выхода последнего LSTM-слоя равна hidden_size.\n",
    "        # Линейный слой нужен, чтобы преобразовать выход LSTM к нужному размеру output_size.\n",
    "        self.fc = nn.Linear(in_features=hidden_size,\n",
    "                            out_features=output_size) # добавьте линейный слой\n",
    "\n",
    "        # Пуллинг\n",
    "        self.pool = nn.AdaptiveAvgPool1d(1) # добавьте усредняющий все выходы пуллинг-слой\n",
    "        self.use_pool = use_pool\n",
    "\n",
    "\n",
    "    def forward(self, input_seq):\n",
    "\n",
    "        # инициализируем начальные скрытые состояния\n",
    "        h_0 = torch.zeros(self.num_layers, input_seq.size(0), self.hidden_size).to(device=input_seq.device)\n",
    "        c_0 = torch.zeros(self.num_layers, input_seq.size(0), self.hidden_size).to(device=input_seq.device)\n",
    "\n",
    "        out, (_, _) = self.lstm(input_seq, (h_0, c_0))\n",
    "\n",
    "        if self.use_pool:\n",
    "            # берем среднее от векторов для всей последовательности\n",
    "            out_to_fc = self.pool(out.transpose(1, 2)).squeeze(-1)\n",
    "        else:\n",
    "            # берем последний выходной вектор\n",
    "            out_to_fc = out[:, -1, :]\n",
    "\n",
    "        return self.fc(out_to_fc)"
   ]
  },
  {
   "cell_type": "markdown",
   "metadata": {
    "id": "kfjCQET7ArlX"
   },
   "source": [
    "Напишем функцию для визуализации результатов предсказания."
   ]
  },
  {
   "cell_type": "code",
   "execution_count": null,
   "metadata": {
    "id": "tdazZJjTAv0D"
   },
   "outputs": [],
   "source": [
    "def plot_results(y_to_train, y_to_test=None, y_forecast=None):\n",
    "    \"\"\"\n",
    "        Функция для визуализации временного ряда и предсказания.\n",
    "\n",
    "        Параметры:\n",
    "            - y_to_train: pd.Series\n",
    "                Временной ряд, на котором обучалась модель.\n",
    "            - y_to_test: pd.Series\n",
    "                Временной ряд, который предсказывает модель.\n",
    "            - y_forecast: array\n",
    "                Предсказания модели.\n",
    "            - plot_conf_int: bool\n",
    "                Надо ли строить предсказательного интервал.\n",
    "            - left_bound: array\n",
    "                Левая граница предсказательного интервала.\n",
    "            - right_bound: array\n",
    "                Правая граница предсказательного интервала.\n",
    "    \"\"\"\n",
    "    plt.figure(figsize=(15, 5))\n",
    "    plt.plot(np.arange(len(y_to_train)), y_to_train, label='train')\n",
    "\n",
    "    if y_to_test is not None:\n",
    "        plt.plot(np.arange(len(y_to_train), len(y_to_train) + len(y_to_test)), y_to_test,  label='test')\n",
    "        if y_forecast is not None:\n",
    "            plt.plot(np.arange(len(y_to_train), len(y_to_train) + len(y_to_test)), y_forecast, label='prediction')\n",
    "    plt.legend()\n",
    "    plt.show()"
   ]
  },
  {
   "cell_type": "markdown",
   "metadata": {
    "id": "dJ0LA_ivypJN"
   },
   "source": [
    "## Биология"
   ]
  },
  {
   "cell_type": "markdown",
   "metadata": {
    "id": "tKcJOp-W5ykp"
   },
   "source": [
    "Разделим выборку на тест и трейн."
   ]
  },
  {
   "cell_type": "code",
   "execution_count": null,
   "metadata": {
    "colab": {
     "base_uri": "https://localhost:8080/"
    },
    "id": "myYiLYjeyo6N",
    "outputId": "37f331aa-5f20-4503-c3b3-698f67447fa7"
   },
   "outputs": [],
   "source": [
    "test_time = pd.Timestamp('2020-12-01')\n",
    "train_bio = df_selected[df_selected.index < test_time]['Deaths'].values.reshape(-1, 1)\n",
    "test_bio = df_selected[df_selected.index >= test_time]['Deaths'].values.reshape(-1, 1)\n",
    "train_bio.shape, test_bio.shape"
   ]
  },
  {
   "cell_type": "markdown",
   "metadata": {
    "id": "SOKkT7hZ54aO"
   },
   "source": [
    "Посмотрим на то, что получилось."
   ]
  },
  {
   "cell_type": "code",
   "execution_count": null,
   "metadata": {
    "colab": {
     "base_uri": "https://localhost:8080/",
     "height": 454
    },
    "id": "6tICfo8tOMd3",
    "outputId": "daa1365c-d5ea-4d2e-c9e0-e74667828b10"
   },
   "outputs": [],
   "source": [
    "plot_results(train_bio, test_bio)"
   ]
  },
  {
   "cell_type": "markdown",
   "metadata": {
    "id": "nn3yV5Nn57aN"
   },
   "source": [
    "Преобразуем данные."
   ]
  },
  {
   "cell_type": "code",
   "execution_count": null,
   "metadata": {
    "id": "lwDlLTbBOMMf"
   },
   "outputs": [],
   "source": [
    "scaler = MinMaxScaler(feature_range=(-1, 1))\n",
    "train_scaled = scaler.fit_transform(train_bio)"
   ]
  },
  {
   "cell_type": "markdown",
   "metadata": {
    "id": "W-nsCCg4-QQF"
   },
   "source": [
    "Зададим длину подпоследовательности, размер батча, девайс."
   ]
  },
  {
   "cell_type": "code",
   "execution_count": null,
   "metadata": {
    "id": "ZqxI-piXOh-m"
   },
   "outputs": [],
   "source": [
    "timesteps = 5\n",
    "batch_size = 32"
   ]
  },
  {
   "cell_type": "markdown",
   "metadata": {
    "id": "az-uo73v-Vzt"
   },
   "source": [
    "Преобразуем к датасету с помощью нашего класса и сделаем генератор батчей."
   ]
  },
  {
   "cell_type": "code",
   "execution_count": null,
   "metadata": {
    "id": "-PC0aFCKOyMx"
   },
   "outputs": [],
   "source": [
    "train_dataset = TSDataset(train_scaled, timesteps)\n",
    "test_dataset = TSDataset(scaler.transform(test_bio), timesteps)\n",
    "\n",
    "train_batch_gen = torch.utils.data.DataLoader(train_dataset, batch_size, shuffle=False)\n",
    "test_batch_gen = torch.utils.data.DataLoader(test_dataset, batch_size, shuffle=False)"
   ]
  },
  {
   "cell_type": "markdown",
   "metadata": {
    "id": "Po9i08Xo-qcl"
   },
   "source": [
    "Инициализируем модель."
   ]
  },
  {
   "cell_type": "code",
   "execution_count": null,
   "metadata": {
    "id": "KX-_eP25OyW0"
   },
   "outputs": [],
   "source": [
    "class TSModel(pl.LightningModule):\n",
    "    def __init__(self, model, lr=5e-4):\n",
    "        super().__init__()\n",
    "        self.lr = lr\n",
    "        self.criterion = nn.MSELoss()\n",
    "        self.save_hyperparameters()\n",
    "        self.model = model\n",
    "        self.predictions = []\n",
    "\n",
    "    def configure_optimizers(self):\n",
    "        return torch.optim.Adam(self.model.parameters(), lr=self.lr)\n",
    "\n",
    "    def forward(self, x):\n",
    "        return self.model(x)\n",
    "\n",
    "    def training_step(self, batch, batch_idx):\n",
    "        x_batch, y_batch = batch\n",
    "        output = self.forward(x_batch)\n",
    "        loss = self.criterion(output.squeeze(), y_batch.squeeze())\n",
    "        self.log('train_loss', loss)\n",
    "        return loss\n",
    "\n",
    "    def training_step(self, batch, batch_idx):\n",
    "        x_batch, y_batch = batch\n",
    "        output = self.forward(x_batch)\n",
    "        loss = self.criterion(output.squeeze(), y_batch.squeeze())\n",
    "        self.log('val_loss', loss)\n",
    "        return loss\n",
    "\n",
    "    def transfer_batch_to_device(self, batch, device, dataloader_idx):\n",
    "        x_batch, y_batch = batch\n",
    "        x_batch = x_batch.type(torch.float32).to(device)\n",
    "        y_batch = y_batch.type(torch.float32).to(device)\n",
    "        return x_batch, y_batch"
   ]
  },
  {
   "cell_type": "code",
   "execution_count": null,
   "metadata": {
    "colab": {
     "base_uri": "https://localhost:8080/"
    },
    "id": "P54gBhszKNUz",
    "outputId": "398efc52-9b98-4878-a9b2-912c70b5b0f3"
   },
   "outputs": [],
   "source": [
    "lstm_1 = LSTM(\n",
    "            input_size=1,\n",
    "            output_size=1,\n",
    "            hidden_size=50,\n",
    "            num_lstm_layers=2,\n",
    "            use_pool=False\n",
    "            )\n",
    "\n",
    "lstm_model_1 = TSModel(\n",
    "                    model=lstm_1,\n",
    "                    lr=5e-4,\n",
    "                    )"
   ]
  },
  {
   "cell_type": "code",
   "execution_count": null,
   "metadata": {
    "colab": {
     "base_uri": "https://localhost:8080/"
    },
    "id": "COnN6CrXOiCk",
    "outputId": "13017309-5518-4a22-d885-dd14f190672e"
   },
   "outputs": [],
   "source": [
    "checkpoint_callback = pl.callbacks.ModelCheckpoint(monitor='val_loss', mode='max')\n",
    "tb_logger = pl_loggers.TensorBoardLogger(save_dir=\"lightning_logs/lstm_1\")\n",
    "\n",
    "trainer = pl.Trainer(logger=tb_logger,\n",
    "                     accelerator='gpu',\n",
    "                     max_epochs=1000,\n",
    "                     devices=1,\n",
    "                     val_check_interval=5,\n",
    "                     callbacks=[checkpoint_callback])"
   ]
  },
  {
   "cell_type": "markdown",
   "metadata": {
    "id": "5op_7fB7-w8V"
   },
   "source": [
    "Создадим предсказания на тесте."
   ]
  },
  {
   "cell_type": "code",
   "execution_count": null,
   "metadata": {
    "colab": {
     "base_uri": "https://localhost:8080/",
     "height": 572,
     "referenced_widgets": [
      "a68a0f83c9f740c4bf2fa22baa3bcaa7",
      "82e8a4f118f84b2b8367fa5d95bda27b",
      "7a5f7f98b36845538cee86bcfb3a0a6a",
      "93a89dc6f6f5470b9d6a44fbced82df5",
      "69febabd2aeb4eabb40f265bff3cb8f2",
      "d7244836776348c1b6fe0b6b7b4e7c52",
      "01fb8b8d04d2456a83a42df2450103d6",
      "8c077f7f2da043da9fa2c058704ec79c",
      "74da249b245c45929cdf61d608bdb146",
      "167c57372b9d482a9e5cc942de234dc2",
      "8658a0dd86c7449395f63d407ce9153d"
     ]
    },
    "id": "YkGN3bsvPJax",
    "outputId": "e818d40d-f93e-4eea-9453-53c3aff73513"
   },
   "outputs": [],
   "source": [
    "trainer.fit(lstm_model_1, train_batch_gen, test_batch_gen)"
   ]
  },
  {
   "cell_type": "markdown",
   "metadata": {
    "id": "_6J6Lug6-2mR"
   },
   "source": [
    "Сравним предсказание с реальностью."
   ]
  },
  {
   "cell_type": "code",
   "execution_count": null,
   "metadata": {
    "colab": {
     "base_uri": "https://localhost:8080/",
     "height": 454
    },
    "id": "6qkNhZrzPJP_",
    "outputId": "de889903-bd87-444c-cc7c-d7dc90b2b21e"
   },
   "outputs": [],
   "source": [
    "lstm_model_1.cpu()\n",
    "start_seq = train_scaled[-timesteps:]\n",
    "test_pred = evaluate_ts_model(lstm_model_1, start_seq, scaler.transform(test_bio), scaler)\n",
    "plot_results(train_bio, test_bio, test_pred)"
   ]
  },
  {
   "cell_type": "code",
   "execution_count": null,
   "metadata": {
    "id": "lW6tsC5TNjPx"
   },
   "outputs": [],
   "source": [
    "#%reload_ext tensorboard\n",
    "#%tensorboard --logdir=lightning_logs/lstm_1"
   ]
  },
  {
   "cell_type": "markdown",
   "metadata": {
    "id": "55XdDJ_Q9X3k"
   },
   "source": [
    "**Вывод:**\n",
    "\n",
    "1. **Общая тенденция**:\n",
    "   - График показывает, что модель в целом неплохо схватывает общую тенденцию изменений в количестве смертей. Однако предсказания значительно отклоняются от реальных данных в определенные моменты времени.\n",
    "\n",
    "2. **Анализ предсказаний**:\n",
    "   - Линия реальных значений, как правило, сохраняет более стабильный, линейный тренд, в то время как предсказания имеют логарифмический характер.\n",
    "   - Предсказанные значения имеют значительные колебания, что может говорить о недостаточной адаптивности модели к изменяющимся условиям в течение времени.\n",
    "\n",
    "3. **Периоды несоответствия**:\n",
    "   - На графике можно заметить конкретные временные отрезки, где предсказания значительно расходятся с реальными данными. Это может указывать на влияние внешних факторов (например, всплески заболеваемости, изменения в политике, массовая вакцинация), которые модель не учла.\n",
    "\n",
    "4. **Заключение**:\n",
    "   - В общем, модель предоставляет полезные предсказания, но требует дальнейшего дообучения и адаптации для достижения большей точности."
   ]
  }
 ],
 "metadata": {
  "accelerator": "GPU",
  "colab": {
   "gpuType": "T4",
   "provenance": []
  },
  "kernelspec": {
   "display_name": "Python 3",
   "name": "python3"
  },
  "language_info": {
   "name": "python"
  }
 },
 "nbformat": 4,
 "nbformat_minor": 0
}
