{
 "cells": [
  {
   "cell_type": "code",
   "execution_count": null,
   "metadata": {
    "colab": {
     "base_uri": "https://localhost:8080/"
    },
    "id": "upyXrVTQUqxk",
    "outputId": "0a2a6516-fc30-42c2-c12f-6d0a5ddcc6c6"
   },
   "outputs": [],
   "source": [
    "!pip install scikit-image\n",
    "!pip install lightning\n",
    "!pip install tensorboard\n",
    "!pip install mlflow"
   ]
  },
  {
   "cell_type": "code",
   "execution_count": null,
   "metadata": {
    "id": "NHpn4H19pvM0"
   },
   "outputs": [],
   "source": [
    "import time\n",
    "from tqdm.notebook import tqdm\n",
    "from collections import defaultdict\n",
    "\n",
    "import numpy as np\n",
    "import pandas as pd\n",
    "import seaborn as sns\n",
    "import scipy.stats as sps\n",
    "import matplotlib.pyplot as plt\n",
    "from sklearn.model_selection import train_test_split\n",
    "from sklearn.metrics import mean_squared_error\n",
    "from sklearn.preprocessing import MinMaxScaler\n",
    "\n",
    "import lightning.pytorch as pl\n",
    "from lightning.pytorch import loggers as pl_loggers\n",
    "from lightning.pytorch.callbacks import ModelCheckpoint\n",
    "\n",
    "import torch\n",
    "from torch import nn\n",
    "from torch.utils.data import Dataset, TensorDataset, \\\n",
    "                             DataLoader, RandomSampler, SequentialSampler\n",
    "\n",
    "from IPython.display import clear_output\n",
    "from pylab import rcParams\n",
    "\n",
    "rcParams['figure.figsize'] = 15, 7\n",
    "%matplotlib inline\n",
    "\n",
    "sns.set(font_scale=1.3, palette='Set2')"
   ]
  },
  {
   "cell_type": "markdown",
   "metadata": {
    "id": "tUWP1lO1qahF"
   },
   "source": [
    "# Данные"
   ]
  },
  {
   "cell_type": "markdown",
   "metadata": {
    "id": "mF6GYiBm5CrE"
   },
   "source": [
    "## Биология"
   ]
  },
  {
   "cell_type": "markdown",
   "metadata": {
    "id": "DZqaAnp0zNCr"
   },
   "source": [
    "#### **Профиль биология**\n",
    "\n",
    "### Загрузка данных\n",
    "В этом задании вы будете работать с данными о распространении COVID-19, их можно скачать [здесь](https://www.kaggle.com/datasets/gpreda/coronavirus-2019ncov). Мы будем предказывать показатель смертности, потому что способы измерения выздоровевших и заболевших разнятся между регионами.\n",
    "\n",
    " В данных представлены следующие столбцы:\n",
    "\n",
    "* `Country/Region` &mdash; страна или регион,\n",
    "\n",
    "* `Province/State` &mdash; город или населенный пункт,\n",
    "* `Latitude` &mdash; географическая широта,\n",
    "* `Longitude` &mdash; географическая долгота,\n",
    "* `Confirmed` &mdash; кол-во подтвержденных случаев заболевания,\n",
    "* `Recovered` &mdash; кол-во подтвержденных случаев выздоровления,\n",
    "* `Deaths` &mdash; кол-во смертей,\n",
    "* `Date` &mdash; дата."
   ]
  },
  {
   "cell_type": "markdown",
   "metadata": {
    "id": "FtLwptbG6Jq-"
   },
   "source": [
    "Выгрузим датасет."
   ]
  },
  {
   "cell_type": "code",
   "execution_count": null,
   "metadata": {
    "colab": {
     "base_uri": "https://localhost:8080/"
    },
    "id": "uAoimHEAr3EP",
    "outputId": "4f52dfd6-00a8-4823-cfac-defdf7e039fa"
   },
   "outputs": [],
   "source": [
    "!unzip archive"
   ]
  },
  {
   "cell_type": "code",
   "execution_count": null,
   "metadata": {
    "colab": {
     "base_uri": "https://localhost:8080/",
     "height": 206
    },
    "id": "Di8jBMF0X3tU",
    "outputId": "659279b9-bc8b-469a-ab80-ce118afccc03"
   },
   "outputs": [],
   "source": [
    "df = pd.read_csv('covid-19-all.csv', dtype={'Country/Region': str, 'Province/State': str}, low_memory=False)\n",
    "df['Date'] = pd.to_datetime(df['Date'])\n",
    "df.head()"
   ]
  },
  {
   "cell_type": "markdown",
   "metadata": {
    "id": "x6ftcgfV5H0I"
   },
   "source": [
    "Установим в качестве индекса дату."
   ]
  },
  {
   "cell_type": "code",
   "execution_count": null,
   "metadata": {
    "colab": {
     "base_uri": "https://localhost:8080/",
     "height": 238
    },
    "id": "J74iDIfBr3I7",
    "outputId": "972cc7b2-0926-4888-baeb-8cc2cdaa2db6"
   },
   "outputs": [],
   "source": [
    "df.set_index('Date', inplace=True)\n",
    "df.head()"
   ]
  },
  {
   "cell_type": "markdown",
   "metadata": {
    "id": "dTwzbHWm5MZB"
   },
   "source": [
    "Избавимся от None если они есть."
   ]
  },
  {
   "cell_type": "code",
   "execution_count": null,
   "metadata": {
    "colab": {
     "base_uri": "https://localhost:8080/",
     "height": 238
    },
    "id": "1NcFlddosCWw",
    "outputId": "67c83cbc-bade-4051-8c6d-4058f41be466"
   },
   "outputs": [],
   "source": [
    "df.dropna(inplace=True)\n",
    "df.head()"
   ]
  },
  {
   "cell_type": "markdown",
   "metadata": {
    "id": "uBHkCPZc5SZP"
   },
   "source": [
    "Выберем страну и регион, где хотим предсказывать."
   ]
  },
  {
   "cell_type": "code",
   "execution_count": null,
   "metadata": {
    "colab": {
     "base_uri": "https://localhost:8080/",
     "height": 238
    },
    "id": "DlyDgWGfzZAO",
    "outputId": "6d321043-8710-48db-bd48-d9f3c499ea83"
   },
   "outputs": [],
   "source": [
    "country = 'Russia'\n",
    "region = 'Moscow'\n",
    "\n",
    "df_selected = df[(df['Country/Region'] == country) & (df['Province/State'] == region)]\n",
    "df_selected.head()"
   ]
  },
  {
   "cell_type": "markdown",
   "metadata": {
    "id": "m6Pleinb5iJL"
   },
   "source": [
    "Удалим лишние столбцы в выбранных данных."
   ]
  },
  {
   "cell_type": "code",
   "execution_count": null,
   "metadata": {
    "colab": {
     "base_uri": "https://localhost:8080/",
     "height": 238
    },
    "id": "Z4e4RS2dypt2",
    "outputId": "0247af40-0d83-4cf2-ecb1-23cf1934e338"
   },
   "outputs": [],
   "source": [
    "df_selected = df_selected[['Confirmed', 'Recovered', 'Deaths']]\n",
    "df_selected.head()"
   ]
  },
  {
   "cell_type": "code",
   "execution_count": null,
   "metadata": {
    "id": "IN8L3ZEz7kZ1"
   },
   "outputs": [],
   "source": [
    "data = df_selected.loc[:, ['Deaths']].values"
   ]
  },
  {
   "cell_type": "markdown",
   "metadata": {
    "id": "sEJb-Ote4qIu"
   },
   "source": [
    "Посмотрим на данные. Постройте графики заболевших, выздоровевших и количества смертей."
   ]
  },
  {
   "cell_type": "code",
   "execution_count": null,
   "metadata": {
    "colab": {
     "base_uri": "https://localhost:8080/",
     "height": 1000
    },
    "id": "B-TCt6mx50Qu",
    "outputId": "0006fbe1-650e-4d9f-e841-4ba20c6230c2"
   },
   "outputs": [],
   "source": [
    "def plot_ts(y_to_train, y_to_test=None, y_forecast=None, ylim=None, title=\"\"):\n",
    "    \"\"\"\n",
    "    Функция для визуализации временного ряда и предсказания.\n",
    "    \"\"\"\n",
    "    plt.figure(figsize=(15, 5))\n",
    "    plt.plot(np.arange(len(y_to_train)), y_to_train, label='Train')\n",
    "\n",
    "    if y_to_test is not None:\n",
    "        plt.plot(np.arange(len(y_to_train), len(y_to_train) + len(y_to_test)), y_to_test, label='Test')\n",
    "        if y_forecast is not None:\n",
    "            plt.plot(np.arange(len(y_to_train), len(y_to_train) + len(y_forecast)), y_forecast, label='Prediction')\n",
    "\n",
    "    if ylim is not None:\n",
    "        plt.ylim(ylim)\n",
    "\n",
    "    plt.title(title)\n",
    "    plt.legend()\n",
    "    plt.show()\n",
    "\n",
    "plot_ts(df_selected['Confirmed'], title=\"Динамика подтвержденных случаев COVID-19\")\n",
    "plot_ts(df_selected['Deaths'], title=\"Динамика смертей от COVID-19\")\n",
    "plot_ts(df_selected['Recovered'], title=\"Динамика выздоровлений от COVID-19\")"
   ]
  },
  {
   "cell_type": "markdown",
   "metadata": {
    "id": "JPiC_g0VypNE"
   },
   "source": [
    "# Модели и обучение"
   ]
  },
  {
   "cell_type": "markdown",
   "metadata": {
    "id": "XhCTSHrm5bBl"
   },
   "source": [
    "## Вспомогательные функции"
   ]
  },
  {
   "cell_type": "markdown",
   "metadata": {
    "id": "mRkmKQlpAZbZ"
   },
   "source": [
    "Напишите класс датасета для данных в виде последовательности."
   ]
  },
  {
   "cell_type": "code",
   "execution_count": null,
   "metadata": {
    "id": "Dmrf65hF5h9U"
   },
   "outputs": [],
   "source": [
    "class TSDataset(torch.utils.data.Dataset):\n",
    "    def __init__(self, data, timesteps):\n",
    "        self.data = data\n",
    "        self.timesteps = timesteps\n",
    "\n",
    "    def __len__(self):\n",
    "        return len(self.data) - self.timesteps\n",
    "\n",
    "    def __getitem__(self, index):\n",
    "        X = self.data[index:index + self.timesteps][['Confirmed']].values\n",
    "        y = self.data.iloc[index + self.timesteps]['Deaths']\n",
    "        return torch.FloatTensor(X), torch.FloatTensor([y])"
   ]
  },
  {
   "cell_type": "markdown",
   "metadata": {
    "id": "eqUrmcv7Ai68"
   },
   "source": [
    "Здесь мы создаём функции для обучения, для вывода кривых обучения и для рекурсивного предсказания."
   ]
  },
  {
   "cell_type": "code",
   "execution_count": null,
   "metadata": {
    "id": "wmLfcVVnAvlI"
   },
   "outputs": [],
   "source": [
    "def evaluate_ts_model(model, start_seq, test_data, scaler, return_all=False, device='cpu'):\n",
    "    '''\n",
    "    Функция для проверки качества модели на обучающем отрезке ряда.\n",
    "\n",
    "    :param model: обучаемая модель,\n",
    "    :param start_seq: обучающие данные для первого предсказания,\n",
    "    :param test_data: тестовые данные.\n",
    "    :param return_all: возвращать все предсказания или только для 1-го магазина\n",
    "\n",
    "    :return: результаты предсказания.\n",
    "    '''\n",
    "    result = []\n",
    "    model.train(False)\n",
    "    input_tensor = torch.FloatTensor(start_seq).to(device).unsqueeze(0)\n",
    "\n",
    "    with torch.no_grad():\n",
    "        for i in range(len(test_data)):\n",
    "            # делаем предсказание, а unsqueeze нужны, чтобы сделать размерность (1, 1, 1) вместо (1)\n",
    "\n",
    "            logits = model(input_tensor[:, i:, :]).unsqueeze(0)#.unsqueeze(2)\n",
    "\n",
    "            # присоединяем предсказанное значение к последовательности:\n",
    "            #                        (1, timestep, 1) -> (1, 1, 1)   по оси 1\n",
    "            input_tensor = torch.cat((input_tensor,        logits),       1    )\n",
    "\n",
    "            # обратное преобразование к нормальным числам\n",
    "            logits = scaler.inverse_transform(logits.cpu().numpy().squeeze(0))\n",
    "\n",
    "            # результат сохраняем\n",
    "            result.append(logits.squeeze())\n",
    "\n",
    "    if return_all:\n",
    "        return np.array(result)\n",
    "\n",
    "    return np.array(result)"
   ]
  },
  {
   "cell_type": "markdown",
   "metadata": {
    "id": "qFvIrMeBApHC"
   },
   "source": [
    "Создадим класс модели."
   ]
  },
  {
   "cell_type": "code",
   "execution_count": null,
   "metadata": {
    "id": "R19GCMTKAvtA"
   },
   "outputs": [],
   "source": [
    "class LSTM(nn.Module):\n",
    "    def __init__(self, input_size, output_size, hidden_size, num_lstm_layers, use_pool=False):\n",
    "        super(LSTM, self).__init__()\n",
    "\n",
    "        self.hidden_size = hidden_size\n",
    "        self.num_layers  = num_lstm_layers\n",
    "        self.input_size  = input_size\n",
    "\n",
    "        self.lstm = nn.LSTM(input_size, hidden_size, num_lstm_layers, batch_first=True, dropout=0.2) # LSTM-модель с batch_first=True и dropout=0.2\n",
    "\n",
    "        # Размерность пространства выхода последнего LSTM-слоя равна hidden_size.\n",
    "        # Линейный слой нужен, чтобы преобразовать выход LSTM к нужному размеру output_size.\n",
    "        self.fc = nn.Linear(hidden_size, output_size) # добавьте линейный слой\n",
    "\n",
    "        # Пуллинг\n",
    "        self.pool = nn.AdaptiveAvgPool1d(1) # добавьте усредняющий все выходы пуллинг-слой\n",
    "        self.use_pool = use_pool\n",
    "\n",
    "\n",
    "    def forward(self, input_seq):\n",
    "\n",
    "        # инициализируем начальные скрытые состояния\n",
    "        h_0 = torch.zeros(self.num_layers, input_seq.size(0), self.hidden_size).to(device=input_seq.device)\n",
    "        c_0 = torch.zeros(self.num_layers, input_seq.size(0), self.hidden_size).to(device=input_seq.device)\n",
    "\n",
    "        out, (_, _) = self.lstm(input_seq, (h_0, c_0))\n",
    "\n",
    "        if self.use_pool:\n",
    "            # берем среднее от векторов для всей последовательности\n",
    "            out_to_fc = self.pool(out.transpose(1, 2)).squeeze(-1)\n",
    "        else:\n",
    "            # берем последний выходной вектор\n",
    "            out_to_fc = out[:, -1, :]\n",
    "\n",
    "        return self.fc(out_to_fc)"
   ]
  },
  {
   "cell_type": "markdown",
   "metadata": {
    "id": "kfjCQET7ArlX"
   },
   "source": [
    "Напишем функцию для визуализации результатов предсказания."
   ]
  },
  {
   "cell_type": "code",
   "execution_count": null,
   "metadata": {
    "id": "tdazZJjTAv0D"
   },
   "outputs": [],
   "source": [
    "def plot_results(y_to_train, y_to_val=None, y_to_test=None, y_forecast=None):\n",
    "    \"\"\"\n",
    "        Функция для визуализации временного ряда и предсказания.\n",
    "\n",
    "        Параметры:\n",
    "            - y_to_train: pd.Series\n",
    "                Временной ряд, на котором обучалась модель.\n",
    "            - y_to_test: pd.Series\n",
    "                Временной ряд, который предсказывает модель.\n",
    "            - y_forecast: array\n",
    "                Предсказания модели.\n",
    "            - plot_conf_int: bool\n",
    "                Надо ли строить предсказательного интервал.\n",
    "            - left_bound: array\n",
    "                Левая граница предсказательного интервала.\n",
    "            - right_bound: array\n",
    "                Правая граница предсказательного интервала.\n",
    "    \"\"\"\n",
    "    plt.figure(figsize=(15, 5))\n",
    "    plt.plot(y_to_train.index, y_to_train, label='Train', color='blue')\n",
    "\n",
    "    if y_to_val is not None:\n",
    "        plt.plot(y_to_val.index, y_to_val, label='Validation', color='orange')\n",
    "\n",
    "    if y_to_test is not None:\n",
    "        plt.plot(y_to_test.index, y_to_test, label='Test', color='red')\n",
    "        if y_forecast is not None:\n",
    "            plt.plot(y_to_test.index, y_forecast, label='Prediction', color='green')\n",
    "\n",
    "    plt.xlabel('Date')\n",
    "    plt.ylabel('Cases')\n",
    "    plt.title(\"COVID-19 Cases Over Time\")\n",
    "    plt.legend()\n",
    "    plt.show()"
   ]
  },
  {
   "cell_type": "markdown",
   "metadata": {
    "id": "dJ0LA_ivypJN"
   },
   "source": [
    "## Биология"
   ]
  },
  {
   "cell_type": "markdown",
   "metadata": {
    "id": "tKcJOp-W5ykp"
   },
   "source": [
    "Разделим выборку на тест и трейн."
   ]
  },
  {
   "cell_type": "code",
   "execution_count": null,
   "metadata": {
    "id": "myYiLYjeyo6N"
   },
   "outputs": [],
   "source": [
    "train_time = pd.Timestamp('2020-11-01')  # Дата для разделения обучения и валидации\n",
    "val_time = pd.Timestamp('2020-12-01')  # Дата для разделения валидации и теста\n",
    "\n",
    "train_bio = df_selected[(df_selected.index < train_time)]\n",
    "val_bio = df_selected[(df_selected.index >= train_time) & (df_selected.index < val_time)]\n",
    "test_bio = df_selected[(df_selected.index >= val_time)]"
   ]
  },
  {
   "cell_type": "markdown",
   "metadata": {
    "id": "SOKkT7hZ54aO"
   },
   "source": [
    "Посмотрим на то, что получилось."
   ]
  },
  {
   "cell_type": "code",
   "execution_count": null,
   "metadata": {
    "colab": {
     "base_uri": "https://localhost:8080/",
     "height": 504
    },
    "id": "6tICfo8tOMd3",
    "outputId": "f7765f19-ee88-4970-f013-8ea131443204"
   },
   "outputs": [],
   "source": [
    "plot_results(train_bio, val_bio, test_bio)"
   ]
  },
  {
   "cell_type": "markdown",
   "metadata": {
    "id": "nn3yV5Nn57aN"
   },
   "source": [
    "Преобразуем данные."
   ]
  },
  {
   "cell_type": "code",
   "execution_count": null,
   "metadata": {
    "id": "lwDlLTbBOMMf"
   },
   "outputs": [],
   "source": [
    "scaler = MinMaxScaler(feature_range=(-1, 1))\n",
    "\n",
    "train_bio_scaled = scaler.fit_transform(train_bio[['Confirmed', 'Deaths']])\n",
    "val_bio_scaled = scaler.transform(val_bio[['Confirmed', 'Deaths']])\n",
    "test_bio_scaled = scaler.transform(test_bio[['Confirmed', 'Deaths']])"
   ]
  },
  {
   "cell_type": "markdown",
   "metadata": {
    "id": "W-nsCCg4-QQF"
   },
   "source": [
    "Зададим длину подпоследовательности, размер батча, девайс."
   ]
  },
  {
   "cell_type": "code",
   "execution_count": null,
   "metadata": {
    "id": "ZqxI-piXOh-m"
   },
   "outputs": [],
   "source": [
    "timesteps = 7  # Длина подпоследовательности\n",
    "batch_size = 32  # Размер батча"
   ]
  },
  {
   "cell_type": "code",
   "execution_count": null,
   "metadata": {
    "colab": {
     "base_uri": "https://localhost:8080/",
     "height": 35
    },
    "id": "CtHLgnKwqkPG",
    "outputId": "c481d3c0-1e96-436b-d303-c98fde024ce5"
   },
   "outputs": [],
   "source": [
    "device = 'cuda' if torch.cuda.is_available() else 'cpu'\n",
    "device"
   ]
  },
  {
   "cell_type": "markdown",
   "metadata": {
    "id": "az-uo73v-Vzt"
   },
   "source": [
    "Преобразуем к датасету с помощью нашего класса и сделаем генератор батчей."
   ]
  },
  {
   "cell_type": "code",
   "execution_count": null,
   "metadata": {
    "id": "-PC0aFCKOyMx"
   },
   "outputs": [],
   "source": [
    "# Преобразуем данные в датасеты\n",
    "train_dataset = TSDataset(pd.DataFrame(train_bio_scaled, columns=['Confirmed', 'Deaths']), timesteps)\n",
    "val_dataset = TSDataset(pd.DataFrame(val_bio_scaled, columns=['Confirmed', 'Deaths']), timesteps)\n",
    "test_dataset = TSDataset(pd.DataFrame(test_bio_scaled, columns=['Confirmed', 'Deaths']), timesteps)\n",
    "\n",
    "# Создание DataLoader для батчей\n",
    "train_loader = torch.utils.data.DataLoader(train_dataset, batch_size=batch_size, shuffle=True)\n",
    "val_loader = torch.utils.data.DataLoader(val_dataset, batch_size=batch_size, shuffle=False)\n",
    "test_loader = torch.utils.data.DataLoader(test_dataset, batch_size=batch_size, shuffle=False)"
   ]
  },
  {
   "cell_type": "markdown",
   "metadata": {
    "id": "Po9i08Xo-qcl"
   },
   "source": [
    "Инициализируем модель."
   ]
  },
  {
   "cell_type": "code",
   "execution_count": null,
   "metadata": {
    "id": "bhbjfF_AjBMt"
   },
   "outputs": [],
   "source": [
    "class TSModel(pl.LightningModule):\n",
    "    def __init__(self, model, lr=5e-4):\n",
    "        super().__init__()\n",
    "        self.lr = lr\n",
    "        self.criterion = nn.MSELoss()\n",
    "        self.save_hyperparameters()\n",
    "        self.model = model\n",
    "        self.predictions = []\n",
    "\n",
    "    def configure_optimizers(self):\n",
    "        return torch.optim.Adam(self.model.parameters(), lr=self.lr)\n",
    "\n",
    "    def forward(self, x):\n",
    "        return self.model(x)\n",
    "\n",
    "    def training_step(self, batch, batch_idx):\n",
    "        x_batch, y_batch = batch\n",
    "        output = self.forward(x_batch)\n",
    "        loss = self.criterion(output.squeeze(), y_batch.squeeze())\n",
    "        self.log('train_loss', loss)\n",
    "        return loss\n",
    "\n",
    "    def validation_step(self, batch, batch_idx):\n",
    "        x_batch, y_batch = batch\n",
    "        output = self.forward(x_batch)\n",
    "        loss = self.criterion(output.squeeze(), y_batch.squeeze())\n",
    "        self.log('val_loss', loss)\n",
    "        return loss\n",
    "\n",
    "    def test_step(self, batch, batch_idx):\n",
    "        x_batch, y_batch = batch\n",
    "        output = self.forward(x_batch)\n",
    "        loss = self.criterion(output.squeeze(), y_batch.squeeze())\n",
    "        self.log('test_loss', loss)\n",
    "        self.predictions.append(output.detach().cpu())\n",
    "        return loss\n",
    "\n",
    "    def transfer_batch_to_device(self, batch, device, dataloader_idx):\n",
    "        x_batch, y_batch = batch\n",
    "        x_batch = x_batch.type(torch.float32).to(device)\n",
    "        y_batch = y_batch.type(torch.float32).to(device)\n",
    "        return x_batch, y_batch"
   ]
  },
  {
   "cell_type": "code",
   "execution_count": null,
   "metadata": {
    "colab": {
     "base_uri": "https://localhost:8080/"
    },
    "id": "KX-_eP25OyW0",
    "outputId": "6b5ef7bc-170d-4936-d7ae-fce2b3b95c57"
   },
   "outputs": [],
   "source": [
    "lstm_model = LSTM(\n",
    "    input_size=1,  # Количество входных признаков\n",
    "    output_size=1,  # Предсказываем одно значение\n",
    "    hidden_size=50,  # Размер скрытого слоя\n",
    "    num_lstm_layers=2,  # Количество слоев LSTM\n",
    "    use_pool=False  # Без пуллинга\n",
    ")\n",
    "\n",
    "lstm_model_1 = TSModel(\n",
    "                    model=lstm_model,\n",
    "                    lr=5e-4,\n",
    "                    )"
   ]
  },
  {
   "cell_type": "markdown",
   "metadata": {
    "id": "v_SHxJ5B-tZo"
   },
   "source": [
    "Обучаем её."
   ]
  },
  {
   "cell_type": "code",
   "execution_count": null,
   "metadata": {
    "colab": {
     "base_uri": "https://localhost:8080/"
    },
    "id": "COnN6CrXOiCk",
    "outputId": "bb90e49c-2bd4-4651-ce08-fb5c5cbc2fe4"
   },
   "outputs": [],
   "source": [
    "checkpoint_callback = pl.callbacks.ModelCheckpoint(monitor='val_loss', mode='min')\n",
    "\n",
    "tb_logger = pl_loggers.TensorBoardLogger(save_dir=\"lightning_logs/\", name=\"lstm_model\")\n",
    "\n",
    "trainer = pl.Trainer(logger=tb_logger,\n",
    "                     accelerator='gpu',\n",
    "                     max_epochs=10,\n",
    "                     devices=1,\n",
    "                     val_check_interval=5,\n",
    "                     callbacks=[checkpoint_callback])"
   ]
  },
  {
   "cell_type": "code",
   "execution_count": null,
   "metadata": {
    "colab": {
     "base_uri": "https://localhost:8080/",
     "height": 572,
     "referenced_widgets": [
      "daf2f6e07d3f412882d7a826bc138ab8",
      "65593505351f477096f15e5677999808",
      "822ea92cef0c455db284b46c42f865fc",
      "f2badd717a744a898b2cdc788fefbb3f",
      "1069296661de4ca79785d75dfde6a37a",
      "2d6b26643643458380b09a9178eb3b80",
      "2106c3d1be734f49a5054943b3919f41",
      "cb2c5e8f8e3e432a8a483391bc67228b",
      "3c5ee05b2b0a4becb2e8ff80034d72e4",
      "f8c2dd7387f546aca217c61f0da1984c",
      "cbd8242fe2234cbe8d7bd173dd76c8a0",
      "e9a8ad0e127b4f42b84db3484bade776",
      "61b2524a983f4bd2808148240d9a4c8b",
      "f5507bb7329545e1829ce09225b42e2c",
      "a21b253a5bbb48488405711ad239bdeb",
      "72876dc833204c6f976e7475de0ad96e",
      "a1353d4a19444383b18fffdc36c6c752",
      "e5989c7604b34fdf8a88489c1cee7007",
      "17a0bca9b3ed4aea8eba98f934fb25f0",
      "94b9fcc616a146dfa4529c27735f7e73",
      "d66242b73fae4e83918435f2dbddc422",
      "30e55b763e6f472fb6660136310adf57",
      "d3b68e56e2c543e294e0b5220f47724e",
      "8a6145714b004a379ceb3fe1b640e0dd",
      "70d750f136aa4e6786a58a7c86739669",
      "6d95e3d51a1e420781f8dda3c9105c70",
      "b5261f35517f41f39a83c568564d4335",
      "66701d21e20f4da3bc62fa28f6796622",
      "ebc990a7e6984c768412839bf8c9dc31",
      "46d785b81d6a48d5b7784831dfe487b3",
      "fd98206f006b4c468d26d14443751746",
      "0e3471a86e614a9fa8f2ef46a7f5f308",
      "b5d662339b5f45ee812ad1084cc98c38",
      "6ac1212d393542bc9e5686dcff504f27",
      "42ed468d04764124947fc86fd6c8354a",
      "6ed34bf1da02479e99b66b867ff795e2",
      "9acffecba18247e285a317a0d17f56bb",
      "f565705ae5c847d3afca57613e288d3d",
      "b33bf34c5a1c4427aabf8e0676918d66",
      "1673d36ad0674c2cb06d49af7e264787",
      "078748b2e6534870b4c5369ec6656f1d",
      "7af7a2b0468e496582024f52fc8716ff",
      "c3908e644a3446f7a602e78fadc42120",
      "2cbc222cee2c4a95a7fee7037da4624f",
      "779fe88bc72c4d468eec64e3c1145a5a",
      "5d63f9d95ef44889ac1ff16737279434",
      "f21d1a6731f74699ac36220be3c51c6f",
      "64f90eb4185c4d73a0e145499a0039e9",
      "60f944f07b7946a1b86500f2489642e0",
      "6ee5fedc86ea4318b66b6b2687d52cee",
      "2a5f5cca0ce840eaa467868e955a2b7a",
      "cc349ced346f4abab03aaa9de39cc9de",
      "49c05c1567264a2697877c3600beac89",
      "cee4787e76a14e37a9e896e0c56fbfed",
      "4f4b7d3afeae4124a8479c01cc30295c",
      "11dce61eed5e47c495b02b15c7e6d643",
      "a76246d0c2c44f0e86b221539bc5b879",
      "8304dafc602a4831a41682c3da2a7ea4",
      "65fe771982d945eb837d19799f66743d",
      "af7c5672a88f45beb168e8d7ce7316e4",
      "3b4f0a35926d4b398b483d187a25837b",
      "27d6dc7d6d194753a406ee2ac0348448",
      "d104b6a3d8b248d897248d862d756b55",
      "d234c14f7f984ef0baeaab8030f492ad",
      "f05370d306684fa2b06de295af288dab",
      "c8bc6c1ca88c47f3aa1b55a26b0d987a",
      "484df8002af04a1396017b800f64a3ca",
      "167e20d8019f405ca95fab169589e3ae",
      "78d48b173d5845b09284b41f6537a694",
      "b737bddcf35540d5a0b795b27048bf4b",
      "156b77f5b3c54f5fa6e5f2467691fc1b",
      "1f12839e78634f5dae6e8690250234b1",
      "75736db6e4224ef299a0cc0e95d2d683",
      "5e515d37081a436083de7ace75f668e9",
      "46ddb7f7fb8b43c9b28e432d296b9d4d",
      "cca81bc2e3be4594a95532f61549a184",
      "09343a0f4c9f46759c146b36cd3e7951",
      "660efc67d505435f9836292cd1858093",
      "1cf66327cfca47cf9fc14bb055801634",
      "298dc07bcccf4cb59bf8c4ff9b65f0ae",
      "a820482abec54db6a0d95a591853e090",
      "323fc011fbcd446faa92f5b073957c28",
      "80c90a9ee9e84ae09b444c2d215f8b2b",
      "a443550b4f744f15881b8fb644653226",
      "e28d299c010f492b93acc38928e57000",
      "d6c795aef6454e898fd3b2c212cd35ff",
      "69034b86e06c40409839b830dd07dd57",
      "829275b707094e1da2c733cae9f1db70",
      "4930e54c9ef44384af3a6494e4c16f23",
      "9bc9319c851740aabdd6ae955cfc179b",
      "09d4c5913497472ca2e78c33b4d9e128",
      "e6414db4291f482087f303c09a2d7924",
      "8c5eefb47f424800ade29124753f80ca",
      "c74cf175df6b40e2a1ff7b06ac2cc48d",
      "7c332e98e74a48ce8c24ba90c3137929",
      "a24a50355d314198b381da04a1877548",
      "941424982e8c40c9aec9432c6dd2e62f",
      "5ac473292fce4c6d9700ddcc9e229eba",
      "46b47d1ef3444d1cb933abd7632d72cf",
      "360cc0e654234bf8aa5585e4d078cbaa",
      "8f4dd74028994422bde2ea7ab2ce3de6",
      "7ced7376115847eaaaa64a1f67c2dd3d",
      "4572934ea2504edb8e7dada30e3cb669",
      "31db40cca3f44ef2b325cc8d5379d3dc",
      "c4567348dfdb428c9f6129117fd60a8d",
      "be128a662c1f489693dc4281c8ec52da",
      "3056123a8b31437a838bcbab8f6c5d2a",
      "0f1faccb49f44b61b39e00909ca16fcb",
      "efc3382dd2fb41ab9e5ba5d347de6fe7",
      "915cc66fda334f64a62c4a6147032dc7",
      "1160e235a12546bb972debd8ddec6079",
      "bf24815f561345d288e5e3cf2347be5d",
      "233c9c2bda3d43fb885951bb90f3f60b",
      "7c43ebfaf4d947fab4793ba1c2f1a49c",
      "8056e6ad14b64f7eb89ad538ce692a64",
      "720ad5b03aed49b7b1cbba411c38add2",
      "7493ec12aaad44c7ab54f951789f07a9",
      "513720ddc04b4928a9427c6a7ffd9596",
      "75000ed7f9ce425a82d5dffdf1601db5",
      "0959a4d619324cc1bb597b653532720e",
      "eefca5c03a5f4af28a34f9b8e6570735",
      "74b0ff289f2a4c07a1e6545bd8474df9",
      "f8b444f0322a49098b34268457282169",
      "13ad97b774e2498293af2ab78cede8bf",
      "cdacb0173f424038b0ae79bd7ec87390",
      "fcb7e8ecaea74a638c8c6c9bbbaa91d5",
      "aa4f62000c9d463696a86fb181e4c38c",
      "c824e656aa9243c7b2cdcf3c6ddcd6a8",
      "0a114f109e0345a4af647441390f5038",
      "321bd1cbc2b1411e98ce05af77e296a2",
      "5d9086a838e04656b07e0a6b5bdfd0ca",
      "bd958888aa6b44808bf5d38c435658c4"
     ]
    },
    "id": "i4-J1oTokdfZ",
    "outputId": "0963de9b-00ad-408b-8edb-2f982f5136cf"
   },
   "outputs": [],
   "source": [
    "trainer.fit(lstm_model_1, train_loader, val_loader)"
   ]
  },
  {
   "cell_type": "code",
   "execution_count": null,
   "metadata": {
    "colab": {
     "base_uri": "https://localhost:8080/",
     "height": 193
    },
    "id": "SuKD00WS53Ir",
    "outputId": "959a59f8-c09a-4609-c8c3-4576b75f6828"
   },
   "outputs": [],
   "source": [
    "lstm_model_1.cpu()\n",
    "start_seq = train_scaled[-timesteps:]\n",
    "test_pred = evaluate_ts_model(lstm_model_1, start_seq, scaler.transform(test), scaler)\n",
    "plot_ts(train, test, test_pred)"
   ]
  },
  {
   "cell_type": "markdown",
   "metadata": {
    "id": "5op_7fB7-w8V"
   },
   "source": [
    "Создадим предсказания на тесте."
   ]
  },
  {
   "cell_type": "code",
   "execution_count": null,
   "metadata": {
    "colab": {
     "base_uri": "https://localhost:8080/",
     "height": 186,
     "referenced_widgets": [
      "d3f4535723834abc8e612ad7b52a2780",
      "14ccd40b818347bfa448b306da120872",
      "ad89cefb45e449e9a17756e6ee5d38dd",
      "afca6898e30243a8b2af7a44e36d4a30",
      "b9a5c43c82d24a1eaa54ae47e672dda2",
      "5fb1c301439a42fd940c77c6680eb240",
      "388bad3b48f44b0e9787f49cabe73ced",
      "d1035cba16e147c8a7a930643c75bef0",
      "0681505c9a5b43d2a1a8df2f667f3635",
      "6d7f7acddc764623ab6fc1e3a9764c95",
      "3d0f5188e03a494da25ba8f174b53d55"
     ]
    },
    "id": "YkGN3bsvPJax",
    "outputId": "dbb089de-806d-4385-a21f-e0709acaf687"
   },
   "outputs": [],
   "source": [
    "trainer.test(lstm_model_1, test_loader)"
   ]
  },
  {
   "cell_type": "markdown",
   "metadata": {
    "id": "_6J6Lug6-2mR"
   },
   "source": [
    "Сравним предсказание с реальностью."
   ]
  },
  {
   "cell_type": "code",
   "execution_count": null,
   "metadata": {
    "id": "6qkNhZrzPJP_"
   },
   "outputs": [],
   "source": [
    "# Переместите модель на CPU, если это необходимо\n",
    "ts_model.cpu()\n",
    "\n",
    "# Получите последние timesteps из обучающей выборки для начала предсказания\n",
    "start_seq = train_bio_scaled[-timesteps:]\n",
    "\n",
    "# Преобразуйте данные для предсказания\n",
    "# Мы должны преобразовать их в форму, подходящую для модели (добавить размерность)\n",
    "start_seq = torch.FloatTensor(start_seq).unsqueeze(0)  # Добавляем размерность для batch_size\n",
    "\n",
    "# Получите предсказания на тестовой выборке\n",
    "test_pred = evaluate_ts_model(ts_model.model, start_seq, scaler.transform(test_bio[['Confirmed', 'Deaths']]), scaler)\n",
    "\n",
    "# Визуализируем результаты\n",
    "plt.figure(figsize=(15, 5))\n",
    "plt.plot(range(len(train_bio)), train_bio['Deaths'], label='Train Deaths', color='blue')\n",
    "plt.plot(range(len(train_bio), len(train_bio) + len(test_bio)), test_bio['Deaths'], label='True Test Deaths', color='green')\n",
    "plt.plot(range(len(train_bio), len(train_bio) + len(test_pred)), test_pred, label='Predicted Test Deaths', color='orange')\n",
    "plt.title('Comparison of Real and Predicted Deaths')\n",
    "plt.xlabel('Time Steps')\n",
    "plt.ylabel('Deaths')\n",
    "plt.legend()\n",
    "plt.show()\n"
   ]
  },
  {
   "cell_type": "markdown",
   "metadata": {
    "id": "55XdDJ_Q9X3k"
   },
   "source": [
    "**Вывод**"
   ]
  }
 ],
 "metadata": {
  "accelerator": "GPU",
  "colab": {
   "gpuType": "T4",
   "provenance": []
  },
  "kernelspec": {
   "display_name": "Python 3",
   "name": "python3"
  },
  "language_info": {
   "name": "python"
  }
 },
 "nbformat": 4,
 "nbformat_minor": 0
}
