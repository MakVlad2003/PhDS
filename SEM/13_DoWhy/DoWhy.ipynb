{
 "cells": [
  {
   "cell_type": "markdown",
   "metadata": {
    "id": "wbNeZtFJygVh"
   },
   "source": [
    "# ML в Биологии\n",
    "## DoWhy"
   ]
  },
  {
   "cell_type": "code",
   "execution_count": 2,
   "metadata": {
    "colab": {
     "base_uri": "https://localhost:8080/"
    },
    "id": "NNbdntmQygVm",
    "outputId": "a6d34f66-2a86-4ba2-c9ae-ba624a1f7ca8"
   },
   "outputs": [
    {
     "name": "stdout",
     "output_type": "stream",
     "text": [
      "Collecting dowhy\n",
      "  Downloading dowhy-0.12-py3-none-any.whl.metadata (18 kB)\n",
      "Collecting causal-learn>=0.1.3.0 (from dowhy)\n",
      "  Downloading causal_learn-0.1.3.8-py3-none-any.whl.metadata (4.2 kB)\n",
      "Requirement already satisfied: cvxpy>=1.2.2 in /usr/local/lib/python3.10/dist-packages (from dowhy) (1.5.4)\n",
      "Collecting cython<3.0 (from dowhy)\n",
      "  Downloading Cython-0.29.37-cp310-cp310-manylinux_2_17_x86_64.manylinux2014_x86_64.manylinux_2_24_x86_64.whl.metadata (3.1 kB)\n",
      "Requirement already satisfied: joblib>=1.1.0 in /usr/local/lib/python3.10/dist-packages (from dowhy) (1.4.2)\n",
      "Requirement already satisfied: networkx>=2.8.5 in /usr/local/lib/python3.10/dist-packages (from dowhy) (3.4.2)\n",
      "Requirement already satisfied: numba>=0.59 in /usr/local/lib/python3.10/dist-packages (from dowhy) (0.60.0)\n",
      "Requirement already satisfied: numpy>1.0 in /usr/local/lib/python3.10/dist-packages (from dowhy) (1.26.4)\n",
      "Requirement already satisfied: pandas>1.0 in /usr/local/lib/python3.10/dist-packages (from dowhy) (2.2.2)\n",
      "Requirement already satisfied: scikit-learn>1.0 in /usr/local/lib/python3.10/dist-packages (from dowhy) (1.5.2)\n",
      "Requirement already satisfied: scipy>=1.10 in /usr/local/lib/python3.10/dist-packages (from dowhy) (1.13.1)\n",
      "Requirement already satisfied: statsmodels>=0.13.5 in /usr/local/lib/python3.10/dist-packages (from dowhy) (0.14.4)\n",
      "Requirement already satisfied: sympy>=1.10.1 in /usr/local/lib/python3.10/dist-packages (from dowhy) (1.13.1)\n",
      "Requirement already satisfied: tqdm>=4.64.0 in /usr/local/lib/python3.10/dist-packages (from dowhy) (4.66.6)\n",
      "Requirement already satisfied: graphviz in /usr/local/lib/python3.10/dist-packages (from causal-learn>=0.1.3.0->dowhy) (0.20.3)\n",
      "Requirement already satisfied: matplotlib in /usr/local/lib/python3.10/dist-packages (from causal-learn>=0.1.3.0->dowhy) (3.8.0)\n",
      "Requirement already satisfied: pydot in /usr/local/lib/python3.10/dist-packages (from causal-learn>=0.1.3.0->dowhy) (3.0.3)\n",
      "Requirement already satisfied: osqp>=0.6.2 in /usr/local/lib/python3.10/dist-packages (from cvxpy>=1.2.2->dowhy) (0.6.7.post3)\n",
      "Requirement already satisfied: ecos>=2 in /usr/local/lib/python3.10/dist-packages (from cvxpy>=1.2.2->dowhy) (2.0.14)\n",
      "Requirement already satisfied: clarabel>=0.5.0 in /usr/local/lib/python3.10/dist-packages (from cvxpy>=1.2.2->dowhy) (0.9.0)\n",
      "Requirement already satisfied: scs>=3.2.4.post1 in /usr/local/lib/python3.10/dist-packages (from cvxpy>=1.2.2->dowhy) (3.2.7)\n",
      "Requirement already satisfied: llvmlite<0.44,>=0.43.0dev0 in /usr/local/lib/python3.10/dist-packages (from numba>=0.59->dowhy) (0.43.0)\n",
      "Requirement already satisfied: python-dateutil>=2.8.2 in /usr/local/lib/python3.10/dist-packages (from pandas>1.0->dowhy) (2.8.2)\n",
      "Requirement already satisfied: pytz>=2020.1 in /usr/local/lib/python3.10/dist-packages (from pandas>1.0->dowhy) (2024.2)\n",
      "Requirement already satisfied: tzdata>=2022.7 in /usr/local/lib/python3.10/dist-packages (from pandas>1.0->dowhy) (2024.2)\n",
      "Requirement already satisfied: threadpoolctl>=3.1.0 in /usr/local/lib/python3.10/dist-packages (from scikit-learn>1.0->dowhy) (3.5.0)\n",
      "Requirement already satisfied: patsy>=0.5.6 in /usr/local/lib/python3.10/dist-packages (from statsmodels>=0.13.5->dowhy) (1.0.1)\n",
      "Requirement already satisfied: packaging>=21.3 in /usr/local/lib/python3.10/dist-packages (from statsmodels>=0.13.5->dowhy) (24.2)\n",
      "Requirement already satisfied: mpmath<1.4,>=1.1.0 in /usr/local/lib/python3.10/dist-packages (from sympy>=1.10.1->dowhy) (1.3.0)\n",
      "Requirement already satisfied: qdldl in /usr/local/lib/python3.10/dist-packages (from osqp>=0.6.2->cvxpy>=1.2.2->dowhy) (0.1.7.post4)\n",
      "Requirement already satisfied: six>=1.5 in /usr/local/lib/python3.10/dist-packages (from python-dateutil>=2.8.2->pandas>1.0->dowhy) (1.16.0)\n",
      "Requirement already satisfied: contourpy>=1.0.1 in /usr/local/lib/python3.10/dist-packages (from matplotlib->causal-learn>=0.1.3.0->dowhy) (1.3.1)\n",
      "Requirement already satisfied: cycler>=0.10 in /usr/local/lib/python3.10/dist-packages (from matplotlib->causal-learn>=0.1.3.0->dowhy) (0.12.1)\n",
      "Requirement already satisfied: fonttools>=4.22.0 in /usr/local/lib/python3.10/dist-packages (from matplotlib->causal-learn>=0.1.3.0->dowhy) (4.55.1)\n",
      "Requirement already satisfied: kiwisolver>=1.0.1 in /usr/local/lib/python3.10/dist-packages (from matplotlib->causal-learn>=0.1.3.0->dowhy) (1.4.7)\n",
      "Requirement already satisfied: pillow>=6.2.0 in /usr/local/lib/python3.10/dist-packages (from matplotlib->causal-learn>=0.1.3.0->dowhy) (11.0.0)\n",
      "Requirement already satisfied: pyparsing>=2.3.1 in /usr/local/lib/python3.10/dist-packages (from matplotlib->causal-learn>=0.1.3.0->dowhy) (3.2.0)\n",
      "Downloading dowhy-0.12-py3-none-any.whl (398 kB)\n",
      "\u001b[2K   \u001b[90m━━━━━━━━━━━━━━━━━━━━━━━━━━━━━━━━━━━━━━━━\u001b[0m \u001b[32m398.4/398.4 kB\u001b[0m \u001b[31m6.9 MB/s\u001b[0m eta \u001b[36m0:00:00\u001b[0m\n",
      "\u001b[?25hDownloading causal_learn-0.1.3.8-py3-none-any.whl (174 kB)\n",
      "\u001b[2K   \u001b[90m━━━━━━━━━━━━━━━━━━━━━━━━━━━━━━━━━━━━━━━━\u001b[0m \u001b[32m174.5/174.5 kB\u001b[0m \u001b[31m12.3 MB/s\u001b[0m eta \u001b[36m0:00:00\u001b[0m\n",
      "\u001b[?25hDownloading Cython-0.29.37-cp310-cp310-manylinux_2_17_x86_64.manylinux2014_x86_64.manylinux_2_24_x86_64.whl (1.9 MB)\n",
      "\u001b[2K   \u001b[90m━━━━━━━━━━━━━━━━━━━━━━━━━━━━━━━━━━━━━━━━\u001b[0m \u001b[32m1.9/1.9 MB\u001b[0m \u001b[31m20.5 MB/s\u001b[0m eta \u001b[36m0:00:00\u001b[0m\n",
      "\u001b[?25hInstalling collected packages: cython, causal-learn, dowhy\n",
      "  Attempting uninstall: cython\n",
      "    Found existing installation: Cython 3.0.11\n",
      "    Uninstalling Cython-3.0.11:\n",
      "      Successfully uninstalled Cython-3.0.11\n",
      "Successfully installed causal-learn-0.1.3.8 cython-0.29.37 dowhy-0.12\n"
     ]
    }
   ],
   "source": [
    "!pip install dowhy"
   ]
  },
  {
   "cell_type": "code",
   "execution_count": 3,
   "metadata": {
    "id": "QPLXBhgzTFhz"
   },
   "outputs": [],
   "source": [
    "import numpy as np\n",
    "import pandas as pd\n",
    "import matplotlib.pyplot as plt\n",
    "import seaborn as sns\n",
    "from tqdm.notebook import tqdm\n",
    "\n",
    "import networkx as nx\n",
    "from dowhy import gcm\n",
    "\n",
    "from dowhy import CausalModel\n",
    "import dowhy.datasets\n",
    "\n",
    "import networkx as nx\n",
    "from IPython.display import Image, display\n",
    "\n",
    "import warnings\n",
    "warnings.filterwarnings(\"ignore\")\n",
    "\n",
    "options = {\n",
    "    \"font_size\": 14,\n",
    "    \"node_size\": 1500,\n",
    "    \"node_color\": \"#99FF99\",\n",
    "    \"edge_color\": \"#9999FF\",\n",
    "    \"arrowsize\": 25,\n",
    "    \"width\": 3,\n",
    "}\n",
    "\n",
    "def draw_graph(graphs, options):\n",
    "    nx.draw_networkx(graphs, **options)\n",
    "    ax = plt.gca()\n",
    "    ax.margins(0.20)\n",
    "    plt.axis(\"off\")\n",
    "\n",
    "sns.set(style='whitegrid', palette='Set2')"
   ]
  },
  {
   "cell_type": "markdown",
   "metadata": {
    "id": "RboO7vUsPqow"
   },
   "source": [
    "---\n",
    "\n",
    "## Задача 1.\n",
    "\n",
    "При проведении испытания лекарства, влияющего на кровяное давление, получены следующие данные. В каждом случае указано количество успешных случаев.\n",
    "\n",
    "\n",
    "| Количество успешных        | Принимали плацебо | Принимали лекарство  |\n",
    "| :------------- |-------------:| -----:|\n",
    "| Низкое давление      | 81 из 87 | 234 из 270 |\n",
    "| Высокое давление     | 192 из 263      |   55 из 80 |\n",
    "\n",
    "\n",
    "Требуется оценить эффект влияния лекарства на успех в двух следующих случаях.\n",
    "\n",
    "* Кровяное давление пациентов измерялось до начала испытания, после чего принималось решение о приеме лекарства.\n",
    "\n",
    "* Кровяное давление пациентов измерялось в конце испытания. При этом известно, что лекарство может оказывать эффект на кровяное давление, которое в свою очередь может оказывать эффект на выздоровление.\n"
   ]
  },
  {
   "cell_type": "markdown",
   "metadata": {
    "id": "c822cD5jPqox"
   },
   "source": [
    "**1.** Нарисуйте граф причинно-следственных связей для каждого случая.\n",
    "\n",
    "---\n",
    "\n",
    "Обозначим\n",
    "* $T$ &mdash; лечение;\n",
    "* $Y$ &mdash; результат;\n",
    "* $X$ &mdash; давление.\n"
   ]
  },
  {
   "cell_type": "markdown",
   "metadata": {
    "id": "jZfYE8_tPqox"
   },
   "source": [
    "**Первый случай**\n",
    "\n",
    "Кровяное давление пациентов измерялось до начала испытания, после чего принималось решение о приеме лекарства.\n",
    "\n",
    "\n",
    "$$p(x, y, t) = p(x)p(t|x)p(y|x, t)$$\n",
    "\n",
    "\n",
    "$$\\widehat{\\mathsf{P}}(X = 1) = \\frac{263+80}{263+80+87+270}$$\n",
    "$$\\widehat{\\mathsf{P}}(T=1\\ |\\ X = 0) = \\frac{270}{87+270}$$\n",
    "$$\\widehat{\\mathsf{P}}(T=1\\ |\\ X = 1) = \\frac{80}{263+80}$$\n",
    "$$\\widehat{\\mathsf{P}}(Y=1\\ |\\ T=0, X = 0) = \\frac{81}{87}$$\n",
    "$$\\widehat{\\mathsf{P}}(Y=1\\ |\\ T=1, X = 0) = \\frac{234}{270}$$\n",
    "$$\\widehat{\\mathsf{P}}(Y=1\\ |\\ T=0, X = 1) = \\frac{192}{263}$$\n",
    "$$\\widehat{\\mathsf{P}}(Y=1\\ |\\ T=1, X = 1) = \\frac{55}{80}$$\n",
    "\n",
    "\n",
    "**Второй случай**\n",
    "\n",
    "Кровяное давление пациентов измерялось в конце испытания. При этом известно, что лекарство может оказывать эффект на кровяное давление, которое в свою очередь может оказывать эффект на выздоровление.\n",
    "\n",
    "\n",
    "$$p(x, y, t) = p(t)p(x|t)p(y|x, t)$$\n",
    "\n",
    "\n",
    "$$\\widehat{\\mathsf{P}}(T = 1) = \\frac{270+80}{263+80+87+270}$$\n",
    "$$\\widehat{\\mathsf{P}}(X=1\\ |\\ T = 0) = \\frac{270}{270+80}$$\n",
    "$$\\widehat{\\mathsf{P}}(X=1\\ |\\ T = 1) = \\frac{80}{270+80}$$\n",
    "$$\\widehat{\\mathsf{P}}(Y=1\\ |\\ T=0, X = 0) = \\frac{81}{87}$$\n",
    "$$\\widehat{\\mathsf{P}}(Y=1\\ |\\ T=1, X = 0) = \\frac{234}{270}$$\n",
    "$$\\widehat{\\mathsf{P}}(Y=1\\ |\\ T=0, X = 1) = \\frac{192}{263}$$\n",
    "$$\\widehat{\\mathsf{P}}(Y=1\\ |\\ T=1, X = 1) = \\frac{55}{80}$$"
   ]
  },
  {
   "cell_type": "code",
   "execution_count": 4,
   "metadata": {
    "colab": {
     "base_uri": "https://localhost:8080/",
     "height": 444
    },
    "id": "5u8HaTR6Pqox",
    "outputId": "7a0295dd-95a5-4afa-905a-bcf3068aaa16"
   },
   "outputs": [
    {
     "data": {
      "image/png": "[encoded data removed]",
      "text/plain": [
       "<Figure size 1200x500 with 2 Axes>"
      ]
     },
     "metadata": {},
     "output_type": "display_data"
    }
   ],
   "source": [
    "plt.figure(figsize=(12, 5))\n",
    "\n",
    "causal_graphs = [\n",
    "    nx.DiGraph([('X', 'T'), ('X', 'Y'), ('T', 'Y')]), # граф для случая: давление измеряется ДО решения о назначении лекарства\n",
    "    nx.DiGraph([('T', 'X'), ('X', 'Y'), ('T', 'Y')])  # граф для случая: давление измеряется ПОСЛЕ решения о назначении лекарства\n",
    "]\n",
    "\n",
    "for i, graphs in enumerate(causal_graphs):\n",
    "    plt.subplot(1, 2, i+1)\n",
    "    draw_graph(graphs, options)\n",
    "    plt.title(f'{i+1}-й случай')\n",
    "\n",
    "plt.show()"
   ]
  },
  {
   "cell_type": "markdown",
   "metadata": {
    "id": "9OUJQKVAzaFl"
   },
   "source": [
    "Создадим датасет."
   ]
  },
  {
   "cell_type": "code",
   "execution_count": 5,
   "metadata": {
    "colab": {
     "base_uri": "https://localhost:8080/",
     "height": 455
    },
    "id": "TTJSlJBgPqoy",
    "outputId": "1ec25cb1-ab09-4c94-e3c7-6f3f30acc8a0"
   },
   "outputs": [
    {
     "data": {
      "application/vnd.google.colaboratory.intrinsic+json": {
       "summary": "{\n  \"name\": \"data\",\n  \"rows\": 700,\n  \"fields\": [\n    {\n      \"column\": \"patient\",\n      \"properties\": {\n        \"dtype\": \"number\",\n        \"std\": 202,\n        \"min\": 0,\n        \"max\": 699,\n        \"num_unique_values\": 700,\n        \"samples\": [\n          158,\n          500,\n          396\n        ],\n        \"semantic_type\": \"\",\n        \"description\": \"\"\n      }\n    },\n    {\n      \"column\": \"treatment\",\n      \"properties\": {\n        \"dtype\": \"number\",\n        \"std\": 0,\n        \"min\": 0,\n        \"max\": 1,\n        \"num_unique_values\": 2,\n        \"samples\": [\n          1,\n          0\n        ],\n        \"semantic_type\": \"\",\n        \"description\": \"\"\n      }\n    },\n    {\n      \"column\": \"blood_pressure\",\n      \"properties\": {\n        \"dtype\": \"number\",\n        \"std\": 0,\n        \"min\": 0,\n        \"max\": 1,\n        \"num_unique_values\": 2,\n        \"samples\": [\n          1,\n          0\n        ],\n        \"semantic_type\": \"\",\n        \"description\": \"\"\n      }\n    },\n    {\n      \"column\": \"result\",\n      \"properties\": {\n        \"dtype\": \"number\",\n        \"std\": 0,\n        \"min\": 0,\n        \"max\": 1,\n        \"num_unique_values\": 2,\n        \"samples\": [\n          0,\n          1\n        ],\n        \"semantic_type\": \"\",\n        \"description\": \"\"\n      }\n    }\n  ]\n}",
       "type": "dataframe",
       "variable_name": "data"
      },
      "text/html": [
       "\n",
       "  <div id=\"df-b7355d66-9447-4de2-8daf-76902b3b8471\" class=\"colab-df-container\">\n",
       "    <div>\n",
       "<style scoped>\n",
       "    .dataframe tbody tr th:only-of-type {\n",
       "        vertical-align: middle;\n",
       "    }\n",
       "\n",
       "    .dataframe tbody tr th {\n",
       "        vertical-align: top;\n",
       "    }\n",
       "\n",
       "    .dataframe thead th {\n",
       "        text-align: right;\n",
       "    }\n",
       "</style>\n",
       "<table border=\"1\" class=\"dataframe\">\n",
       "  <thead>\n",
       "    <tr style=\"text-align: right;\">\n",
       "      <th></th>\n",
       "      <th>treatment</th>\n",
       "      <th>blood_pressure</th>\n",
       "      <th>result</th>\n",
       "    </tr>\n",
       "    <tr>\n",
       "      <th>patient</th>\n",
       "      <th></th>\n",
       "      <th></th>\n",
       "      <th></th>\n",
       "    </tr>\n",
       "  </thead>\n",
       "  <tbody>\n",
       "    <tr>\n",
       "      <th>0</th>\n",
       "      <td>0</td>\n",
       "      <td>0</td>\n",
       "      <td>1</td>\n",
       "    </tr>\n",
       "    <tr>\n",
       "      <th>1</th>\n",
       "      <td>0</td>\n",
       "      <td>0</td>\n",
       "      <td>1</td>\n",
       "    </tr>\n",
       "    <tr>\n",
       "      <th>2</th>\n",
       "      <td>0</td>\n",
       "      <td>0</td>\n",
       "      <td>1</td>\n",
       "    </tr>\n",
       "    <tr>\n",
       "      <th>3</th>\n",
       "      <td>0</td>\n",
       "      <td>0</td>\n",
       "      <td>1</td>\n",
       "    </tr>\n",
       "    <tr>\n",
       "      <th>4</th>\n",
       "      <td>0</td>\n",
       "      <td>0</td>\n",
       "      <td>1</td>\n",
       "    </tr>\n",
       "    <tr>\n",
       "      <th>...</th>\n",
       "      <td>...</td>\n",
       "      <td>...</td>\n",
       "      <td>...</td>\n",
       "    </tr>\n",
       "    <tr>\n",
       "      <th>695</th>\n",
       "      <td>1</td>\n",
       "      <td>1</td>\n",
       "      <td>0</td>\n",
       "    </tr>\n",
       "    <tr>\n",
       "      <th>696</th>\n",
       "      <td>1</td>\n",
       "      <td>1</td>\n",
       "      <td>0</td>\n",
       "    </tr>\n",
       "    <tr>\n",
       "      <th>697</th>\n",
       "      <td>1</td>\n",
       "      <td>1</td>\n",
       "      <td>0</td>\n",
       "    </tr>\n",
       "    <tr>\n",
       "      <th>698</th>\n",
       "      <td>1</td>\n",
       "      <td>1</td>\n",
       "      <td>0</td>\n",
       "    </tr>\n",
       "    <tr>\n",
       "      <th>699</th>\n",
       "      <td>1</td>\n",
       "      <td>1</td>\n",
       "      <td>0</td>\n",
       "    </tr>\n",
       "  </tbody>\n",
       "</table>\n",
       "<p>700 rows × 3 columns</p>\n",
       "</div>\n",
       "    <div class=\"colab-df-buttons\">\n",
       "\n",
       "  <div class=\"colab-df-container\">\n",
       "    <button class=\"colab-df-convert\" onclick=\"convertToInteractive('df-b7355d66-9447-4de2-8daf-76902b3b8471')\"\n",
       "            title=\"Convert this dataframe to an interactive table.\"\n",
       "            style=\"display:none;\">\n",
       "\n",
       "  <svg xmlns=\"http://www.w3.org/2000/svg\" height=\"24px\" viewBox=\"0 -960 960 960\">\n",
       "    <path d=\"M120-120v-720h720v720H120Zm60-500h600v-160H180v160Zm220 220h160v-160H400v160Zm0 220h160v-160H400v160ZM180-400h160v-160H180v160Zm440 0h160v-160H620v160ZM180-180h160v-160H180v160Zm440 0h160v-160H620v160Z\"/>\n",
       "  </svg>\n",
       "    </button>\n",
       "\n",
       "  <style>\n",
       "    .colab-df-container {\n",
       "      display:flex;\n",
       "      gap: 12px;\n",
       "    }\n",
       "\n",
       "    .colab-df-convert {\n",
       "      background-color: #E8F0FE;\n",
       "      border: none;\n",
       "      border-radius: 50%;\n",
       "      cursor: pointer;\n",
       "      display: none;\n",
       "      fill: #1967D2;\n",
       "      height: 32px;\n",
       "      padding: 0 0 0 0;\n",
       "      width: 32px;\n",
       "    }\n",
       "\n",
       "    .colab-df-convert:hover {\n",
       "      background-color: #E2EBFA;\n",
       "      box-shadow: 0px 1px 2px rgba(60, 64, 67, 0.3), 0px 1px 3px 1px rgba(60, 64, 67, 0.15);\n",
       "      fill: #174EA6;\n",
       "    }\n",
       "\n",
       "    .colab-df-buttons div {\n",
       "      margin-bottom: 4px;\n",
       "    }\n",
       "\n",
       "    [theme=dark] .colab-df-convert {\n",
       "      background-color: #3B4455;\n",
       "      fill: #D2E3FC;\n",
       "    }\n",
       "\n",
       "    [theme=dark] .colab-df-convert:hover {\n",
       "      background-color: #434B5C;\n",
       "      box-shadow: 0px 1px 3px 1px rgba(0, 0, 0, 0.15);\n",
       "      filter: drop-shadow(0px 1px 2px rgba(0, 0, 0, 0.3));\n",
       "      fill: #FFFFFF;\n",
       "    }\n",
       "  </style>\n",
       "\n",
       "    <script>\n",
       "      const buttonEl =\n",
       "        document.querySelector('#df-b7355d66-9447-4de2-8daf-76902b3b8471 button.colab-df-convert');\n",
       "      buttonEl.style.display =\n",
       "        google.colab.kernel.accessAllowed ? 'block' : 'none';\n",
       "\n",
       "      async function convertToInteractive(key) {\n",
       "        const element = document.querySelector('#df-b7355d66-9447-4de2-8daf-76902b3b8471');\n",
       "        const dataTable =\n",
       "          await google.colab.kernel.invokeFunction('convertToInteractive',\n",
       "                                                    [key], {});\n",
       "        if (!dataTable) return;\n",
       "\n",
       "        const docLinkHtml = 'Like what you see? Visit the ' +\n",
       "          '<a target=\"_blank\" href=https://colab.research.google.com/notebooks/data_table.ipynb>data table notebook</a>'\n",
       "          + ' to learn more about interactive tables.';\n",
       "        element.innerHTML = '';\n",
       "        dataTable['output_type'] = 'display_data';\n",
       "        await google.colab.output.renderOutput(dataTable, element);\n",
       "        const docLink = document.createElement('div');\n",
       "        docLink.innerHTML = docLinkHtml;\n",
       "        element.appendChild(docLink);\n",
       "      }\n",
       "    </script>\n",
       "  </div>\n",
       "\n",
       "\n",
       "<div id=\"df-4a133093-173a-4505-829a-7ad6684d3cba\">\n",
       "  <button class=\"colab-df-quickchart\" onclick=\"quickchart('df-4a133093-173a-4505-829a-7ad6684d3cba')\"\n",
       "            title=\"Suggest charts\"\n",
       "            style=\"display:none;\">\n",
       "\n",
       "<svg xmlns=\"http://www.w3.org/2000/svg\" height=\"24px\"viewBox=\"0 0 24 24\"\n",
       "     width=\"24px\">\n",
       "    <g>\n",
       "        <path d=\"M19 3H5c-1.1 0-2 .9-2 2v14c0 1.1.9 2 2 2h14c1.1 0 2-.9 2-2V5c0-1.1-.9-2-2-2zM9 17H7v-7h2v7zm4 0h-2V7h2v10zm4 0h-2v-4h2v4z\"/>\n",
       "    </g>\n",
       "</svg>\n",
       "  </button>\n",
       "\n",
       "<style>\n",
       "  .colab-df-quickchart {\n",
       "      --bg-color: #E8F0FE;\n",
       "      --fill-color: #1967D2;\n",
       "      --hover-bg-color: #E2EBFA;\n",
       "      --hover-fill-color: #174EA6;\n",
       "      --disabled-fill-color: #AAA;\n",
       "      --disabled-bg-color: #DDD;\n",
       "  }\n",
       "\n",
       "  [theme=dark] .colab-df-quickchart {\n",
       "      --bg-color: #3B4455;\n",
       "      --fill-color: #D2E3FC;\n",
       "      --hover-bg-color: #434B5C;\n",
       "      --hover-fill-color: #FFFFFF;\n",
       "      --disabled-bg-color: #3B4455;\n",
       "      --disabled-fill-color: #666;\n",
       "  }\n",
       "\n",
       "  .colab-df-quickchart {\n",
       "    background-color: var(--bg-color);\n",
       "    border: none;\n",
       "    border-radius: 50%;\n",
       "    cursor: pointer;\n",
       "    display: none;\n",
       "    fill: var(--fill-color);\n",
       "    height: 32px;\n",
       "    padding: 0;\n",
       "    width: 32px;\n",
       "  }\n",
       "\n",
       "  .colab-df-quickchart:hover {\n",
       "    background-color: var(--hover-bg-color);\n",
       "    box-shadow: 0 1px 2px rgba(60, 64, 67, 0.3), 0 1px 3px 1px rgba(60, 64, 67, 0.15);\n",
       "    fill: var(--button-hover-fill-color);\n",
       "  }\n",
       "\n",
       "  .colab-df-quickchart-complete:disabled,\n",
       "  .colab-df-quickchart-complete:disabled:hover {\n",
       "    background-color: var(--disabled-bg-color);\n",
       "    fill: var(--disabled-fill-color);\n",
       "    box-shadow: none;\n",
       "  }\n",
       "\n",
       "  .colab-df-spinner {\n",
       "    border: 2px solid var(--fill-color);\n",
       "    border-color: transparent;\n",
       "    border-bottom-color: var(--fill-color);\n",
       "    animation:\n",
       "      spin 1s steps(1) infinite;\n",
       "  }\n",
       "\n",
       "  @keyframes spin {\n",
       "    0% {\n",
       "      border-color: transparent;\n",
       "      border-bottom-color: var(--fill-color);\n",
       "      border-left-color: var(--fill-color);\n",
       "    }\n",
       "    20% {\n",
       "      border-color: transparent;\n",
       "      border-left-color: var(--fill-color);\n",
       "      border-top-color: var(--fill-color);\n",
       "    }\n",
       "    30% {\n",
       "      border-color: transparent;\n",
       "      border-left-color: var(--fill-color);\n",
       "      border-top-color: var(--fill-color);\n",
       "      border-right-color: var(--fill-color);\n",
       "    }\n",
       "    40% {\n",
       "      border-color: transparent;\n",
       "      border-right-color: var(--fill-color);\n",
       "      border-top-color: var(--fill-color);\n",
       "    }\n",
       "    60% {\n",
       "      border-color: transparent;\n",
       "      border-right-color: var(--fill-color);\n",
       "    }\n",
       "    80% {\n",
       "      border-color: transparent;\n",
       "      border-right-color: var(--fill-color);\n",
       "      border-bottom-color: var(--fill-color);\n",
       "    }\n",
       "    90% {\n",
       "      border-color: transparent;\n",
       "      border-bottom-color: var(--fill-color);\n",
       "    }\n",
       "  }\n",
       "</style>\n",
       "\n",
       "  <script>\n",
       "    async function quickchart(key) {\n",
       "      const quickchartButtonEl =\n",
       "        document.querySelector('#' + key + ' button');\n",
       "      quickchartButtonEl.disabled = true;  // To prevent multiple clicks.\n",
       "      quickchartButtonEl.classList.add('colab-df-spinner');\n",
       "      try {\n",
       "        const charts = await google.colab.kernel.invokeFunction(\n",
       "            'suggestCharts', [key], {});\n",
       "      } catch (error) {\n",
       "        console.error('Error during call to suggestCharts:', error);\n",
       "      }\n",
       "      quickchartButtonEl.classList.remove('colab-df-spinner');\n",
       "      quickchartButtonEl.classList.add('colab-df-quickchart-complete');\n",
       "    }\n",
       "    (() => {\n",
       "      let quickchartButtonEl =\n",
       "        document.querySelector('#df-4a133093-173a-4505-829a-7ad6684d3cba button');\n",
       "      quickchartButtonEl.style.display =\n",
       "        google.colab.kernel.accessAllowed ? 'block' : 'none';\n",
       "    })();\n",
       "  </script>\n",
       "</div>\n",
       "    </div>\n",
       "  </div>\n"
      ],
      "text/plain": [
       "         treatment  blood_pressure  result\n",
       "patient                                   \n",
       "0                0               0       1\n",
       "1                0               0       1\n",
       "2                0               0       1\n",
       "3                0               0       1\n",
       "4                0               0       1\n",
       "...            ...             ...     ...\n",
       "695              1               1       0\n",
       "696              1               1       0\n",
       "697              1               1       0\n",
       "698              1               1       0\n",
       "699              1               1       0\n",
       "\n",
       "[700 rows x 3 columns]"
      ]
     },
     "execution_count": 5,
     "metadata": {},
     "output_type": "execute_result"
    }
   ],
   "source": [
    "data = pd.DataFrame()\n",
    "data['treatment'] = [0]*(87+263) + [1]*(270+80)\n",
    "data['blood_pressure'] = [0]*87 + [1]*263 + [0]*270 + [1]*80\n",
    "data['result'] = [1]*81 + [0]*(87-81) + [1]*192 + [0]*(263-192) \\\n",
    "                + [1]*234 + [0]*(270-234) + [1]*55 + [0]*(80-55)\n",
    "data.index.name = 'patient'\n",
    "\n",
    "data"
   ]
  },
  {
   "cell_type": "markdown",
   "metadata": {
    "id": "fej87KFjzL5p"
   },
   "source": [
    "\n",
    "| Количество успешных        | Принимали плацебо T=0 | Принимали лекарство T=1 |\n",
    "| :------------- |-------------:| -----:|\n",
    "| Низкое давление X=0      | 81 из 87 | 234 из 270 |\n",
    "| Высокое давление X=1    | 192 из 263      |   55 из 80 |\n",
    "\n",
    "\n"
   ]
  },
  {
   "cell_type": "markdown",
   "metadata": {
    "id": "w2bZtEKIZgwg"
   },
   "source": [
    "Постройте графы обоих вариантов **в случае интервенции**."
   ]
  },
  {
   "cell_type": "code",
   "execution_count": 6,
   "metadata": {
    "colab": {
     "base_uri": "https://localhost:8080/",
     "height": 444
    },
    "id": "ds2JTEdCPqoz",
    "outputId": "b15effaf-de2b-4ff3-df69-4d7bbab25a38"
   },
   "outputs": [
    {
     "data": {
      "image/png": "[encoded data removed]",
      "text/plain": [
       "<Figure size 1200x500 with 2 Axes>"
      ]
     },
     "metadata": {},
     "output_type": "display_data"
    }
   ],
   "source": [
    "plt.figure(figsize=(12, 5))\n",
    "\n",
    "causal_graphs = [\n",
    "    nx.DiGraph([('X', 'Y'), ('T', 'Y')]), # do-граф для случая: давление измеряется ДО решения о назначении лекарства\n",
    "    nx.DiGraph([('X', 'Y'), ('T', 'Y')]) # do-граф для случая: давление измеряется ПОСЛЕ решения о назначении лекарства\n",
    "]\n",
    "\n",
    "for i, graphs in enumerate(causal_graphs):\n",
    "    plt.subplot(1, 2, i+1)\n",
    "    draw_graph(graphs, options)\n",
    "    plt.title(f'{i+1}-й случай')\n",
    "\n",
    "plt.show()"
   ]
  },
  {
   "cell_type": "markdown",
   "metadata": {
    "id": "FXn6g-SEPqoz"
   },
   "source": [
    "**2.** Поэкспериментируем с библиотекой DoWhy."
   ]
  },
  {
   "cell_type": "markdown",
   "metadata": {
    "id": "Cyl5URrpPqoz"
   },
   "source": [
    "Задайте граф причинно-следственных связей (задайте правильно названия вершин графа в соответствии с названиями колонок датасета, не меняйте тип данных) и постройте по нему модель `StructuralCausalModel` с автоматическим определением механизма причинно-следственных связей. Обучите полученную модель."
   ]
  },
  {
   "cell_type": "markdown",
   "metadata": {
    "id": "f9D5gp8-dDrF"
   },
   "source": [
    "**Первый случай.**"
   ]
  },
  {
   "cell_type": "code",
   "execution_count": 7,
   "metadata": {
    "id": "lHzCR7MFPqo0"
   },
   "outputs": [],
   "source": [
    "causal_graph = nx.DiGraph([\n",
    "    ('blood_pressure', 'treatment'),\n",
    "    ('blood_pressure', 'result'),\n",
    "    ('treatment', 'result')\n",
    "])"
   ]
  },
  {
   "cell_type": "code",
   "execution_count": 8,
   "metadata": {
    "colab": {
     "base_uri": "https://localhost:8080/"
    },
    "id": "e8TLlXT_eA1S",
    "outputId": "faf4a8c3-ee21-4ae7-e3d7-8b087e5288f1"
   },
   "outputs": [
    {
     "name": "stderr",
     "output_type": "stream",
     "text": [
      "Fitting causal mechanism of node result: 100%|██████████| 3/3 [00:00<00:00, 51.44it/s]\n"
     ]
    }
   ],
   "source": [
    "causal_model = gcm.StructuralCausalModel(causal_graph)\n",
    "gcm.auto.assign_causal_mechanisms(causal_model, data)\n",
    "\n",
    "gcm.fit(causal_model, data)"
   ]
  },
  {
   "cell_type": "markdown",
   "metadata": {
    "id": "b6BYGNv-Pqo0"
   },
   "source": [
    "Выясните, какие зависимости подобрались и напечатайте параметры этих моделей."
   ]
  },
  {
   "cell_type": "code",
   "execution_count": 12,
   "metadata": {
    "colab": {
     "base_uri": "https://localhost:8080/"
    },
    "id": "V29xuSBXPqo0",
    "outputId": "7c18a618-f64f-4760-90de-3d2dce13a5e5"
   },
   "outputs": [
    {
     "data": {
      "text/plain": [
       "(<dowhy.gcm.causal_mechanisms.DiscreteAdditiveNoiseModel at 0x7975fdc57a00>,\n",
       " <dowhy.gcm.causal_mechanisms.DiscreteAdditiveNoiseModel at 0x797603acb6a0>,\n",
       " <dowhy.gcm.stochastic_models.EmpiricalDistribution at 0x7975feac2dd0>)"
      ]
     },
     "execution_count": 12,
     "metadata": {},
     "output_type": "execute_result"
    }
   ],
   "source": [
    "model_T = causal_model.causal_mechanism('treatment')\n",
    "model_Y = causal_model.causal_mechanism('result')\n",
    "model_X = causal_model.causal_mechanism('blood_pressure')\n",
    "\n",
    "model_T, model_Y, model_X"
   ]
  },
  {
   "cell_type": "code",
   "execution_count": 13,
   "metadata": {
    "colab": {
     "base_uri": "https://localhost:8080/"
    },
    "id": "Qc5JmFgEPqo0",
    "outputId": "57060716-245d-4029-a786-5e7281cdcf02",
    "scrolled": true
   },
   "outputs": [
    {
     "data": {
      "text/plain": [
       "(array([-0.1903959 , -0.05383557]), 0.9230689186715357)"
      ]
     },
     "execution_count": 13,
     "metadata": {},
     "output_type": "execute_result"
    }
   ],
   "source": [
    "sklearn_model = model_Y.prediction_model.sklearn_model\n",
    "sklearn_model.coef_, sklearn_model.intercept_"
   ]
  },
  {
   "cell_type": "code",
   "execution_count": 14,
   "metadata": {
    "colab": {
     "base_uri": "https://localhost:8080/",
     "height": 80
    },
    "id": "5x5OIreqPqo0",
    "outputId": "3a6b968b-0322-4521-f1fd-fd39da0e0150"
   },
   "outputs": [
    {
     "data": {
      "text/html": [
       "<style>#sk-container-id-1 {\n",
       "  /* Definition of color scheme common for light and dark mode */\n",
       "  --sklearn-color-text: black;\n",
       "  --sklearn-color-line: gray;\n",
       "  /* Definition of color scheme for unfitted estimators */\n",
       "  --sklearn-color-unfitted-level-0: #fff5e6;\n",
       "  --sklearn-color-unfitted-level-1: #f6e4d2;\n",
       "  --sklearn-color-unfitted-level-2: #ffe0b3;\n",
       "  --sklearn-color-unfitted-level-3: chocolate;\n",
       "  /* Definition of color scheme for fitted estimators */\n",
       "  --sklearn-color-fitted-level-0: #f0f8ff;\n",
       "  --sklearn-color-fitted-level-1: #d4ebff;\n",
       "  --sklearn-color-fitted-level-2: #b3dbfd;\n",
       "  --sklearn-color-fitted-level-3: cornflowerblue;\n",
       "\n",
       "  /* Specific color for light theme */\n",
       "  --sklearn-color-text-on-default-background: var(--sg-text-color, var(--theme-code-foreground, var(--jp-content-font-color1, black)));\n",
       "  --sklearn-color-background: var(--sg-background-color, var(--theme-background, var(--jp-layout-color0, white)));\n",
       "  --sklearn-color-border-box: var(--sg-text-color, var(--theme-code-foreground, var(--jp-content-font-color1, black)));\n",
       "  --sklearn-color-icon: #696969;\n",
       "\n",
       "  @media (prefers-color-scheme: dark) {\n",
       "    /* Redefinition of color scheme for dark theme */\n",
       "    --sklearn-color-text-on-default-background: var(--sg-text-color, var(--theme-code-foreground, var(--jp-content-font-color1, white)));\n",
       "    --sklearn-color-background: var(--sg-background-color, var(--theme-background, var(--jp-layout-color0, #111)));\n",
       "    --sklearn-color-border-box: var(--sg-text-color, var(--theme-code-foreground, var(--jp-content-font-color1, white)));\n",
       "    --sklearn-color-icon: #878787;\n",
       "  }\n",
       "}\n",
       "\n",
       "#sk-container-id-1 {\n",
       "  color: var(--sklearn-color-text);\n",
       "}\n",
       "\n",
       "#sk-container-id-1 pre {\n",
       "  padding: 0;\n",
       "}\n",
       "\n",
       "#sk-container-id-1 input.sk-hidden--visually {\n",
       "  border: 0;\n",
       "  clip: rect(1px 1px 1px 1px);\n",
       "  clip: rect(1px, 1px, 1px, 1px);\n",
       "  height: 1px;\n",
       "  margin: -1px;\n",
       "  overflow: hidden;\n",
       "  padding: 0;\n",
       "  position: absolute;\n",
       "  width: 1px;\n",
       "}\n",
       "\n",
       "#sk-container-id-1 div.sk-dashed-wrapped {\n",
       "  border: 1px dashed var(--sklearn-color-line);\n",
       "  margin: 0 0.4em 0.5em 0.4em;\n",
       "  box-sizing: border-box;\n",
       "  padding-bottom: 0.4em;\n",
       "  background-color: var(--sklearn-color-background);\n",
       "}\n",
       "\n",
       "#sk-container-id-1 div.sk-container {\n",
       "  /* jupyter's `normalize.less` sets `[hidden] { display: none; }`\n",
       "     but bootstrap.min.css set `[hidden] { display: none !important; }`\n",
       "     so we also need the `!important` here to be able to override the\n",
       "     default hidden behavior on the sphinx rendered scikit-learn.org.\n",
       "     See: https://github.com/scikit-learn/scikit-learn/issues/21755 */\n",
       "  display: inline-block !important;\n",
       "  position: relative;\n",
       "}\n",
       "\n",
       "#sk-container-id-1 div.sk-text-repr-fallback {\n",
       "  display: none;\n",
       "}\n",
       "\n",
       "div.sk-parallel-item,\n",
       "div.sk-serial,\n",
       "div.sk-item {\n",
       "  /* draw centered vertical line to link estimators */\n",
       "  background-image: linear-gradient(var(--sklearn-color-text-on-default-background), var(--sklearn-color-text-on-default-background));\n",
       "  background-size: 2px 100%;\n",
       "  background-repeat: no-repeat;\n",
       "  background-position: center center;\n",
       "}\n",
       "\n",
       "/* Parallel-specific style estimator block */\n",
       "\n",
       "#sk-container-id-1 div.sk-parallel-item::after {\n",
       "  content: \"\";\n",
       "  width: 100%;\n",
       "  border-bottom: 2px solid var(--sklearn-color-text-on-default-background);\n",
       "  flex-grow: 1;\n",
       "}\n",
       "\n",
       "#sk-container-id-1 div.sk-parallel {\n",
       "  display: flex;\n",
       "  align-items: stretch;\n",
       "  justify-content: center;\n",
       "  background-color: var(--sklearn-color-background);\n",
       "  position: relative;\n",
       "}\n",
       "\n",
       "#sk-container-id-1 div.sk-parallel-item {\n",
       "  display: flex;\n",
       "  flex-direction: column;\n",
       "}\n",
       "\n",
       "#sk-container-id-1 div.sk-parallel-item:first-child::after {\n",
       "  align-self: flex-end;\n",
       "  width: 50%;\n",
       "}\n",
       "\n",
       "#sk-container-id-1 div.sk-parallel-item:last-child::after {\n",
       "  align-self: flex-start;\n",
       "  width: 50%;\n",
       "}\n",
       "\n",
       "#sk-container-id-1 div.sk-parallel-item:only-child::after {\n",
       "  width: 0;\n",
       "}\n",
       "\n",
       "/* Serial-specific style estimator block */\n",
       "\n",
       "#sk-container-id-1 div.sk-serial {\n",
       "  display: flex;\n",
       "  flex-direction: column;\n",
       "  align-items: center;\n",
       "  background-color: var(--sklearn-color-background);\n",
       "  padding-right: 1em;\n",
       "  padding-left: 1em;\n",
       "}\n",
       "\n",
       "\n",
       "/* Toggleable style: style used for estimator/Pipeline/ColumnTransformer box that is\n",
       "clickable and can be expanded/collapsed.\n",
       "- Pipeline and ColumnTransformer use this feature and define the default style\n",
       "- Estimators will overwrite some part of the style using the `sk-estimator` class\n",
       "*/\n",
       "\n",
       "/* Pipeline and ColumnTransformer style (default) */\n",
       "\n",
       "#sk-container-id-1 div.sk-toggleable {\n",
       "  /* Default theme specific background. It is overwritten whether we have a\n",
       "  specific estimator or a Pipeline/ColumnTransformer */\n",
       "  background-color: var(--sklearn-color-background);\n",
       "}\n",
       "\n",
       "/* Toggleable label */\n",
       "#sk-container-id-1 label.sk-toggleable__label {\n",
       "  cursor: pointer;\n",
       "  display: block;\n",
       "  width: 100%;\n",
       "  margin-bottom: 0;\n",
       "  padding: 0.5em;\n",
       "  box-sizing: border-box;\n",
       "  text-align: center;\n",
       "}\n",
       "\n",
       "#sk-container-id-1 label.sk-toggleable__label-arrow:before {\n",
       "  /* Arrow on the left of the label */\n",
       "  content: \"▸\";\n",
       "  float: left;\n",
       "  margin-right: 0.25em;\n",
       "  color: var(--sklearn-color-icon);\n",
       "}\n",
       "\n",
       "#sk-container-id-1 label.sk-toggleable__label-arrow:hover:before {\n",
       "  color: var(--sklearn-color-text);\n",
       "}\n",
       "\n",
       "/* Toggleable content - dropdown */\n",
       "\n",
       "#sk-container-id-1 div.sk-toggleable__content {\n",
       "  max-height: 0;\n",
       "  max-width: 0;\n",
       "  overflow: hidden;\n",
       "  text-align: left;\n",
       "  /* unfitted */\n",
       "  background-color: var(--sklearn-color-unfitted-level-0);\n",
       "}\n",
       "\n",
       "#sk-container-id-1 div.sk-toggleable__content.fitted {\n",
       "  /* fitted */\n",
       "  background-color: var(--sklearn-color-fitted-level-0);\n",
       "}\n",
       "\n",
       "#sk-container-id-1 div.sk-toggleable__content pre {\n",
       "  margin: 0.2em;\n",
       "  border-radius: 0.25em;\n",
       "  color: var(--sklearn-color-text);\n",
       "  /* unfitted */\n",
       "  background-color: var(--sklearn-color-unfitted-level-0);\n",
       "}\n",
       "\n",
       "#sk-container-id-1 div.sk-toggleable__content.fitted pre {\n",
       "  /* unfitted */\n",
       "  background-color: var(--sklearn-color-fitted-level-0);\n",
       "}\n",
       "\n",
       "#sk-container-id-1 input.sk-toggleable__control:checked~div.sk-toggleable__content {\n",
       "  /* Expand drop-down */\n",
       "  max-height: 200px;\n",
       "  max-width: 100%;\n",
       "  overflow: auto;\n",
       "}\n",
       "\n",
       "#sk-container-id-1 input.sk-toggleable__control:checked~label.sk-toggleable__label-arrow:before {\n",
       "  content: \"▾\";\n",
       "}\n",
       "\n",
       "/* Pipeline/ColumnTransformer-specific style */\n",
       "\n",
       "#sk-container-id-1 div.sk-label input.sk-toggleable__control:checked~label.sk-toggleable__label {\n",
       "  color: var(--sklearn-color-text);\n",
       "  background-color: var(--sklearn-color-unfitted-level-2);\n",
       "}\n",
       "\n",
       "#sk-container-id-1 div.sk-label.fitted input.sk-toggleable__control:checked~label.sk-toggleable__label {\n",
       "  background-color: var(--sklearn-color-fitted-level-2);\n",
       "}\n",
       "\n",
       "/* Estimator-specific style */\n",
       "\n",
       "/* Colorize estimator box */\n",
       "#sk-container-id-1 div.sk-estimator input.sk-toggleable__control:checked~label.sk-toggleable__label {\n",
       "  /* unfitted */\n",
       "  background-color: var(--sklearn-color-unfitted-level-2);\n",
       "}\n",
       "\n",
       "#sk-container-id-1 div.sk-estimator.fitted input.sk-toggleable__control:checked~label.sk-toggleable__label {\n",
       "  /* fitted */\n",
       "  background-color: var(--sklearn-color-fitted-level-2);\n",
       "}\n",
       "\n",
       "#sk-container-id-1 div.sk-label label.sk-toggleable__label,\n",
       "#sk-container-id-1 div.sk-label label {\n",
       "  /* The background is the default theme color */\n",
       "  color: var(--sklearn-color-text-on-default-background);\n",
       "}\n",
       "\n",
       "/* On hover, darken the color of the background */\n",
       "#sk-container-id-1 div.sk-label:hover label.sk-toggleable__label {\n",
       "  color: var(--sklearn-color-text);\n",
       "  background-color: var(--sklearn-color-unfitted-level-2);\n",
       "}\n",
       "\n",
       "/* Label box, darken color on hover, fitted */\n",
       "#sk-container-id-1 div.sk-label.fitted:hover label.sk-toggleable__label.fitted {\n",
       "  color: var(--sklearn-color-text);\n",
       "  background-color: var(--sklearn-color-fitted-level-2);\n",
       "}\n",
       "\n",
       "/* Estimator label */\n",
       "\n",
       "#sk-container-id-1 div.sk-label label {\n",
       "  font-family: monospace;\n",
       "  font-weight: bold;\n",
       "  display: inline-block;\n",
       "  line-height: 1.2em;\n",
       "}\n",
       "\n",
       "#sk-container-id-1 div.sk-label-container {\n",
       "  text-align: center;\n",
       "}\n",
       "\n",
       "/* Estimator-specific */\n",
       "#sk-container-id-1 div.sk-estimator {\n",
       "  font-family: monospace;\n",
       "  border: 1px dotted var(--sklearn-color-border-box);\n",
       "  border-radius: 0.25em;\n",
       "  box-sizing: border-box;\n",
       "  margin-bottom: 0.5em;\n",
       "  /* unfitted */\n",
       "  background-color: var(--sklearn-color-unfitted-level-0);\n",
       "}\n",
       "\n",
       "#sk-container-id-1 div.sk-estimator.fitted {\n",
       "  /* fitted */\n",
       "  background-color: var(--sklearn-color-fitted-level-0);\n",
       "}\n",
       "\n",
       "/* on hover */\n",
       "#sk-container-id-1 div.sk-estimator:hover {\n",
       "  /* unfitted */\n",
       "  background-color: var(--sklearn-color-unfitted-level-2);\n",
       "}\n",
       "\n",
       "#sk-container-id-1 div.sk-estimator.fitted:hover {\n",
       "  /* fitted */\n",
       "  background-color: var(--sklearn-color-fitted-level-2);\n",
       "}\n",
       "\n",
       "/* Specification for estimator info (e.g. \"i\" and \"?\") */\n",
       "\n",
       "/* Common style for \"i\" and \"?\" */\n",
       "\n",
       ".sk-estimator-doc-link,\n",
       "a:link.sk-estimator-doc-link,\n",
       "a:visited.sk-estimator-doc-link {\n",
       "  float: right;\n",
       "  font-size: smaller;\n",
       "  line-height: 1em;\n",
       "  font-family: monospace;\n",
       "  background-color: var(--sklearn-color-background);\n",
       "  border-radius: 1em;\n",
       "  height: 1em;\n",
       "  width: 1em;\n",
       "  text-decoration: none !important;\n",
       "  margin-left: 1ex;\n",
       "  /* unfitted */\n",
       "  border: var(--sklearn-color-unfitted-level-1) 1pt solid;\n",
       "  color: var(--sklearn-color-unfitted-level-1);\n",
       "}\n",
       "\n",
       ".sk-estimator-doc-link.fitted,\n",
       "a:link.sk-estimator-doc-link.fitted,\n",
       "a:visited.sk-estimator-doc-link.fitted {\n",
       "  /* fitted */\n",
       "  border: var(--sklearn-color-fitted-level-1) 1pt solid;\n",
       "  color: var(--sklearn-color-fitted-level-1);\n",
       "}\n",
       "\n",
       "/* On hover */\n",
       "div.sk-estimator:hover .sk-estimator-doc-link:hover,\n",
       ".sk-estimator-doc-link:hover,\n",
       "div.sk-label-container:hover .sk-estimator-doc-link:hover,\n",
       ".sk-estimator-doc-link:hover {\n",
       "  /* unfitted */\n",
       "  background-color: var(--sklearn-color-unfitted-level-3);\n",
       "  color: var(--sklearn-color-background);\n",
       "  text-decoration: none;\n",
       "}\n",
       "\n",
       "div.sk-estimator.fitted:hover .sk-estimator-doc-link.fitted:hover,\n",
       ".sk-estimator-doc-link.fitted:hover,\n",
       "div.sk-label-container:hover .sk-estimator-doc-link.fitted:hover,\n",
       ".sk-estimator-doc-link.fitted:hover {\n",
       "  /* fitted */\n",
       "  background-color: var(--sklearn-color-fitted-level-3);\n",
       "  color: var(--sklearn-color-background);\n",
       "  text-decoration: none;\n",
       "}\n",
       "\n",
       "/* Span, style for the box shown on hovering the info icon */\n",
       ".sk-estimator-doc-link span {\n",
       "  display: none;\n",
       "  z-index: 9999;\n",
       "  position: relative;\n",
       "  font-weight: normal;\n",
       "  right: .2ex;\n",
       "  padding: .5ex;\n",
       "  margin: .5ex;\n",
       "  width: min-content;\n",
       "  min-width: 20ex;\n",
       "  max-width: 50ex;\n",
       "  color: var(--sklearn-color-text);\n",
       "  box-shadow: 2pt 2pt 4pt #999;\n",
       "  /* unfitted */\n",
       "  background: var(--sklearn-color-unfitted-level-0);\n",
       "  border: .5pt solid var(--sklearn-color-unfitted-level-3);\n",
       "}\n",
       "\n",
       ".sk-estimator-doc-link.fitted span {\n",
       "  /* fitted */\n",
       "  background: var(--sklearn-color-fitted-level-0);\n",
       "  border: var(--sklearn-color-fitted-level-3);\n",
       "}\n",
       "\n",
       ".sk-estimator-doc-link:hover span {\n",
       "  display: block;\n",
       "}\n",
       "\n",
       "/* \"?\"-specific style due to the `<a>` HTML tag */\n",
       "\n",
       "#sk-container-id-1 a.estimator_doc_link {\n",
       "  float: right;\n",
       "  font-size: 1rem;\n",
       "  line-height: 1em;\n",
       "  font-family: monospace;\n",
       "  background-color: var(--sklearn-color-background);\n",
       "  border-radius: 1rem;\n",
       "  height: 1rem;\n",
       "  width: 1rem;\n",
       "  text-decoration: none;\n",
       "  /* unfitted */\n",
       "  color: var(--sklearn-color-unfitted-level-1);\n",
       "  border: var(--sklearn-color-unfitted-level-1) 1pt solid;\n",
       "}\n",
       "\n",
       "#sk-container-id-1 a.estimator_doc_link.fitted {\n",
       "  /* fitted */\n",
       "  border: var(--sklearn-color-fitted-level-1) 1pt solid;\n",
       "  color: var(--sklearn-color-fitted-level-1);\n",
       "}\n",
       "\n",
       "/* On hover */\n",
       "#sk-container-id-1 a.estimator_doc_link:hover {\n",
       "  /* unfitted */\n",
       "  background-color: var(--sklearn-color-unfitted-level-3);\n",
       "  color: var(--sklearn-color-background);\n",
       "  text-decoration: none;\n",
       "}\n",
       "\n",
       "#sk-container-id-1 a.estimator_doc_link.fitted:hover {\n",
       "  /* fitted */\n",
       "  background-color: var(--sklearn-color-fitted-level-3);\n",
       "}\n",
       "</style><div id=\"sk-container-id-1\" class=\"sk-top-container\"><div class=\"sk-text-repr-fallback\"><pre>HistGradientBoostingRegressor()</pre><b>In a Jupyter environment, please rerun this cell to show the HTML representation or trust the notebook. <br />On GitHub, the HTML representation is unable to render, please try loading this page with nbviewer.org.</b></div><div class=\"sk-container\" hidden><div class=\"sk-item\"><div class=\"sk-estimator fitted sk-toggleable\"><input class=\"sk-toggleable__control sk-hidden--visually\" id=\"sk-estimator-id-1\" type=\"checkbox\" checked><label for=\"sk-estimator-id-1\" class=\"sk-toggleable__label fitted sk-toggleable__label-arrow fitted\">&nbsp;&nbsp;HistGradientBoostingRegressor<a class=\"sk-estimator-doc-link fitted\" rel=\"noreferrer\" target=\"_blank\" href=\"https://scikit-learn.org/1.5/modules/generated/sklearn.ensemble.HistGradientBoostingRegressor.html\">?<span>Documentation for HistGradientBoostingRegressor</span></a><span class=\"sk-estimator-doc-link fitted\">i<span>Fitted</span></span></label><div class=\"sk-toggleable__content fitted\"><pre>HistGradientBoostingRegressor()</pre></div> </div></div></div></div>"
      ],
      "text/plain": [
       "HistGradientBoostingRegressor()"
      ]
     },
     "execution_count": 14,
     "metadata": {},
     "output_type": "execute_result"
    }
   ],
   "source": [
    "sklearn_model = model_T.prediction_model.sklearn_model\n",
    "sklearn_model"
   ]
  },
  {
   "cell_type": "markdown",
   "metadata": {
    "id": "SBdo5QW_Pqo0"
   },
   "source": [
    "Как видим, были использованы модели с аддитивным шумом, в то время как наши данные категориальные.\n",
    "\n",
    "Поменяем тип данных на строковые"
   ]
  },
  {
   "cell_type": "code",
   "execution_count": 15,
   "metadata": {
    "id": "0d5HPHODPqo0"
   },
   "outputs": [],
   "source": [
    "data = data.astype(str)"
   ]
  },
  {
   "cell_type": "markdown",
   "metadata": {
    "id": "y7z-wG6IPqo0"
   },
   "source": [
    "Задайте модели наследования вручную. Если у вершины нет предков, то используйте эмпирическое распределение, иначе &mdash; классификатор `gcm.ClassifierFCM()`. Обучите полученную causal модель."
   ]
  },
  {
   "cell_type": "code",
   "execution_count": 17,
   "metadata": {
    "colab": {
     "base_uri": "https://localhost:8080/"
    },
    "id": "QXh75DWdPqo1",
    "outputId": "c6eb6957-7c51-433e-e38c-e66c78c76d39"
   },
   "outputs": [
    {
     "name": "stderr",
     "output_type": "stream",
     "text": [
      "Fitting causal mechanism of node result: 100%|██████████| 3/3 [00:00<00:00,  7.32it/s]\n"
     ]
    },
    {
     "data": {
      "text/plain": [
       "(Classifier FCM based on HistGradientBoostingClassifier(),\n",
       " Classifier FCM based on HistGradientBoostingClassifier(),\n",
       " <dowhy.gcm.stochastic_models.EmpiricalDistribution at 0x797603ac98d0>)"
      ]
     },
     "execution_count": 17,
     "metadata": {},
     "output_type": "execute_result"
    }
   ],
   "source": [
    "from dowhy.gcm import EmpiricalDistribution, ClassifierFCM\n",
    "\n",
    "causal_model = gcm.StructuralCausalModel(causal_graph)\n",
    "\n",
    "causal_model.set_causal_mechanism('blood_pressure', EmpiricalDistribution())\n",
    "causal_model.set_causal_mechanism('treatment', ClassifierFCM())\n",
    "causal_model.set_causal_mechanism('result', ClassifierFCM())\n",
    "\n",
    "gcm.fit(causal_model, data)\n",
    "\n",
    "model_T = causal_model.causal_mechanism('treatment')\n",
    "model_Y = causal_model.causal_mechanism('result')\n",
    "model_X = causal_model.causal_mechanism('blood_pressure')\n",
    "\n",
    "model_T, model_Y, model_X"
   ]
  },
  {
   "cell_type": "markdown",
   "metadata": {
    "id": "ykWtkNxNPqo1"
   },
   "source": [
    "Наконец, посчитайте оценку ATE с помощью интервенции в построенной модели.\n",
    "Это фактически вычисление разницы средних таргета `result` при интервенции (искусственном установлении параметра) $treatment=1$ (т.е. всем участникам назначалось лекарство) и при $treatment=0$ (т.е. всем участникам не назначалось лекарство):\n",
    "\n",
    "$$ATE = \\mathsf{E}(Y|T:=1) - \\mathsf{E}(Y|T:=0)$$\n",
    "\n",
    "*Примечание*: в методе *average_causal_effect* `interventions_* = {'X': lambda x: '1'}` определяет условие интервенции *do(X:='1')*. Название ключей словаря соответствуют названиям переменных-вершин графа.\n",
    "\n",
    "Зададим количество генераций новых данных на базе нашего графа:\n"
   ]
  },
  {
   "cell_type": "code",
   "execution_count": 18,
   "metadata": {
    "id": "f6eklRZcygVu"
   },
   "outputs": [],
   "source": [
    "num_samples_to_draw = 1_000_000"
   ]
  },
  {
   "cell_type": "code",
   "execution_count": 19,
   "metadata": {
    "colab": {
     "base_uri": "https://localhost:8080/",
     "height": 72
    },
    "id": "WoYGuW5VPqo1",
    "outputId": "3e90cc5a-4ecd-40b8-c7e4-567aa51a95ad"
   },
   "outputs": [
    {
     "name": "stdout",
     "output_type": "stream",
     "text": [
      "CPU times: user 35.9 s, sys: 341 ms, total: 36.2 s\n",
      "Wall time: 37.3 s\n"
     ]
    },
    {
     "data": {
      "text/latex": [
       "$\\displaystyle -0.053669$"
      ],
      "text/plain": [
       "-0.05366899999999997"
      ]
     },
     "execution_count": 19,
     "metadata": {},
     "output_type": "execute_result"
    }
   ],
   "source": [
    "%%time\n",
    "ATE = gcm.average_causal_effect(causal_model,\n",
    "                                'result',\n",
    "                                interventions_alternative={'treatment': lambda x: '1'},  # условие интервенции альтернативного эксперимента\n",
    "                                interventions_reference={'treatment': lambda x: '0'},  # условие интервенции референсного эксперимента\n",
    "                                num_samples_to_draw=num_samples_to_draw)\n",
    "\n",
    "ATE"
   ]
  },
  {
   "cell_type": "markdown",
   "metadata": {
    "id": "oAIENxDHygVv"
   },
   "source": [
    "Также интервенцию можно посчитать напрямую, но стоит учесть, что в качестве значения интервенции нужно указать строку, а полученные семплы для вычисления средних значений контрафактивных исходов необходимо будет перевести в подходящий для математических операций (численный) формат."
   ]
  },
  {
   "cell_type": "code",
   "execution_count": 20,
   "metadata": {
    "colab": {
     "base_uri": "https://localhost:8080/",
     "height": 72
    },
    "id": "403cFRuMygVv",
    "outputId": "e465a671-26d8-47ee-e399-eaff3ed83f85"
   },
   "outputs": [
    {
     "name": "stdout",
     "output_type": "stream",
     "text": [
      "CPU times: user 46.4 s, sys: 377 ms, total: 46.8 s\n",
      "Wall time: 48 s\n"
     ]
    },
    {
     "data": {
      "text/latex": [
       "$\\displaystyle -0.052832$"
      ],
      "text/plain": [
       "-0.05283199999999999"
      ]
     },
     "execution_count": 20,
     "metadata": {},
     "output_type": "execute_result"
    }
   ],
   "source": [
    "%%time\n",
    "interventional_mean = []\n",
    "\n",
    "for i in range(2):\n",
    "    samples = gcm.interventional_samples(\n",
    "        causal_model,\n",
    "        {'treatment': lambda y: str(i) },  # условие интервенции\n",
    "        num_samples_to_draw=num_samples_to_draw  # количество семплирований\n",
    "    )\n",
    "    interventional_mean.append(samples['result'].astype(float).mean())\n",
    "\n",
    "ATE = interventional_mean[1] - interventional_mean[0]\n",
    "ATE"
   ]
  },
  {
   "cell_type": "markdown",
   "metadata": {
    "id": "UtuR5nI7ygVv"
   },
   "source": [
    "Сравните два подхода к вычислению ATE.\n",
    "\n",
    "**Ответ:**\n",
    "\n",
    "- Оба подхода дают схожие значения ATE (разница в пределах 0.001), что свидетельствует о стабильности оценки эффекта.\n",
    "\n",
    "- Первый метод проще и быстрее, так как выполняет всю работу за нас.\n",
    "\n",
    "- Второй метод предоставляет больше контроля над процессом, поскольку мы сами генерируете выборки и вычисляете средние значения, что может быть полезно, если требуется больше гибкости в оценке."
   ]
  },
  {
   "cell_type": "markdown",
   "metadata": {
    "id": "NxsVoZEa0t0Z"
   },
   "source": [
    "**Второй случай.**\n",
    "\n",
    "Задайте модель по аналогии с первым случаем для второго варианта эксперимента и обучите её. Подход к расчёту ATE можно выбирать любой."
   ]
  },
  {
   "cell_type": "code",
   "execution_count": 26,
   "metadata": {
    "id": "5UHFhS6kPqo1",
    "scrolled": true
   },
   "outputs": [],
   "source": [
    "causal_graph = nx.DiGraph([\n",
    "    ('treatment', 'blood_pressure'),\n",
    "    ('blood_pressure', 'result'),\n",
    "    ('treatment', 'result')\n",
    "])\n",
    "\n",
    "causal_model = gcm.StructuralCausalModel(causal_graph)\n",
    "\n",
    "causal_model.set_causal_mechanism('treatment', EmpiricalDistribution())\n",
    "causal_model.set_causal_mechanism('blood_pressure', ClassifierFCM())\n",
    "causal_model.set_causal_mechanism('result', ClassifierFCM())"
   ]
  },
  {
   "cell_type": "code",
   "execution_count": 27,
   "metadata": {
    "colab": {
     "base_uri": "https://localhost:8080/"
    },
    "id": "ptgtU_xA3_Z2",
    "outputId": "567b6e5e-ab3a-4791-a3a9-e7f7799ab7ed"
   },
   "outputs": [
    {
     "name": "stderr",
     "output_type": "stream",
     "text": [
      "Fitting causal mechanism of node result: 100%|██████████| 3/3 [00:00<00:00, 19.06it/s]\n"
     ]
    }
   ],
   "source": [
    "gcm.fit(causal_model, data)"
   ]
  },
  {
   "cell_type": "code",
   "execution_count": 28,
   "metadata": {
    "colab": {
     "base_uri": "https://localhost:8080/",
     "height": 37
    },
    "id": "zlr0XQoLPqo1",
    "outputId": "9d81c371-4c16-4c31-81be-3e7b6989b8ce"
   },
   "outputs": [
    {
     "data": {
      "text/latex": [
       "$\\displaystyle 0.045578$"
      ],
      "text/plain": [
       "0.04557800000000001"
      ]
     },
     "execution_count": 28,
     "metadata": {},
     "output_type": "execute_result"
    }
   ],
   "source": [
    "ATE = gcm.average_causal_effect(\n",
    "    causal_model,\n",
    "    'result',\n",
    "    interventions_alternative={'treatment': lambda x: '1'},\n",
    "    interventions_reference={'treatment': lambda x: '0'},\n",
    "    num_samples_to_draw=num_samples_to_draw\n",
    ")\n",
    "\n",
    "ATE"
   ]
  },
  {
   "cell_type": "markdown",
   "metadata": {
    "id": "XE5unajqPqo1"
   },
   "source": [
    "**Вывод:**\n",
    "\n",
    "Оценка ATE показала значение **0.045578**, что указывает на положительный эффект лекарства на результат выздоровления. Использован метод **average_causal_effect** с графом причинно-следственных связей и моделями **EmpiricalDistribution** для корневых узлов и **ClassifierFCM** для зависимых."
   ]
  },
  {
   "cell_type": "markdown",
   "metadata": {
    "id": "ceLUPYrzPbAX"
   },
   "source": [
    "# Propensity score и работа с ним в библиотеке DoWhy"
   ]
  },
  {
   "cell_type": "markdown",
   "metadata": {
    "id": "9d4ccab2"
   },
   "source": [
    "## Задача 2. Пайплайн оценки\n",
    "\n",
    "\n",
    "Для оценки эффекта библиотека DoWhy предоставляет четырехступенчатый интерфейс причинно-следственного вывода:\n",
    "1. Определение модели для причинно-следственной задачи\n",
    "2. Определение оценщика в рамках модели\n",
    "3. Оценка причинно-следственной связи по выбранному оценщику\n",
    "4. Тестирование полученной оценки\n"
   ]
  },
  {
   "cell_type": "markdown",
   "metadata": {
    "id": "2afcbc78"
   },
   "source": [
    "### 2.1. Определение модели\n",
    "\n",
    "```\n",
    "CausalModel(\n",
    "    data,\n",
    "    treatment,\n",
    "    outcome,\n",
    "    graph=None,\n",
    "    common_causes=None,\n",
    "    instruments=None,\n",
    "    effect_modifiers=None,\n",
    "    estimand_type='nonparametric-ate',\n",
    "    proceed_when_unidentifiable=False,\n",
    "    missing_nodes_as_confounders=False,\n",
    "    identify_vars=False,\n",
    "    **kwargs,\n",
    ")\n",
    "```\n",
    "\n",
    "**Стандартный способ**\n",
    "\n",
    "Определение причинно-следственной модели на основе данных и заданного графа. Этот граф не обязательно должен быть полным — можно предоставить частичный граф с предварительными знаниями о некоторых признаках. Тогда DoWhy автоматически рассматривает остальные признаким как потенциальные конфаундеры.\n",
    "\n",
    "Используйте граф для случая, где `blood_pressure` является конфаундером."
   ]
  },
  {
   "cell_type": "code",
   "execution_count": 30,
   "metadata": {
    "id": "RLawvy5LygV0"
   },
   "outputs": [],
   "source": [
    "data = data.astype({'treatment': int,\n",
    "                    'blood_pressure': float,\n",
    "                    'result': float})"
   ]
  },
  {
   "cell_type": "code",
   "execution_count": 31,
   "metadata": {
    "id": "ObynRfvNygV0"
   },
   "outputs": [],
   "source": [
    "causal_graph = nx.DiGraph([\n",
    "    ('blood_pressure', 'treatment'),\n",
    "    ('blood_pressure', 'result'),\n",
    "    ('treatment', 'result')\n",
    "])"
   ]
  },
  {
   "cell_type": "code",
   "execution_count": 32,
   "metadata": {
    "colab": {
     "base_uri": "https://localhost:8080/",
     "height": 745
    },
    "id": "5da9f13f",
    "outputId": "03edf521-4a5e-4082-beff-44ca6f002469"
   },
   "outputs": [
    {
     "data": {
      "image/png": "[encoded data removed]",
      "text/plain": [
       "<Figure size 600x400 with 1 Axes>"
      ]
     },
     "metadata": {},
     "output_type": "display_data"
    },
    {
     "data": {
      "image/png": "[encoded data removed]",
      "text/plain": [
       "<IPython.core.display.Image object>"
      ]
     },
     "metadata": {},
     "output_type": "display_data"
    }
   ],
   "source": [
    "model = CausalModel(\n",
    "    data=data,\n",
    "    treatment=\"treatment\",\n",
    "    outcome=\"result\",\n",
    "    graph=causal_graph\n",
    ")\n",
    "\n",
    "model.view_model(file_name=\"causal_model\", size=(6, 4))\n",
    "display(Image(filename=\"causal_model.png\"))"
   ]
  },
  {
   "cell_type": "markdown",
   "metadata": {
    "id": "81b31675"
   },
   "source": [
    "**Другой способ**\n",
    "\n",
    "Указание ковариат и инструментов (при их наличии) в явном виде."
   ]
  },
  {
   "cell_type": "code",
   "execution_count": 33,
   "metadata": {
    "colab": {
     "base_uri": "https://localhost:8080/",
     "height": 762
    },
    "id": "4dfbe17b",
    "outputId": "de479cf1-fdb1-4fb1-99e8-cfc41fdbe89a"
   },
   "outputs": [
    {
     "name": "stderr",
     "output_type": "stream",
     "text": [
      "WARNING:dowhy.causal_model:Causal Graph not provided. DoWhy will construct a graph based on data inputs.\n"
     ]
    },
    {
     "data": {
      "image/png": "[encoded data removed]",
      "text/plain": [
       "<Figure size 600x400 with 1 Axes>"
      ]
     },
     "metadata": {},
     "output_type": "display_data"
    },
    {
     "data": {
      "image/png": "[encoded data removed]",
      "text/plain": [
       "<IPython.core.display.Image object>"
      ]
     },
     "metadata": {},
     "output_type": "display_data"
    }
   ],
   "source": [
    "model_2 = CausalModel(\n",
    "    data=data,\n",
    "    treatment=\"treatment\",\n",
    "    outcome=\"result\",\n",
    "    common_causes=\"blood_pressure\"\n",
    ")\n",
    "\n",
    "model_2.view_model(file_name=\"causal_model\", size=(6, 4))\n",
    "display(Image(filename=\"causal_model.png\"))"
   ]
  },
  {
   "cell_type": "markdown",
   "metadata": {
    "id": "c1226c8c"
   },
   "source": [
    "### 2.2. Определение оценщика в рамках модели\n",
    "\n",
    "Основываясь на причинно-следственном графе, DoWhy находит все возможные способы идентификации желаемого причинно-следственного эффекта на основе графа. Используются критерии на графах и do-исчисление, для поиска всех возможных моделей, которые могут оценить причинно-следственную связь в данном случае."
   ]
  },
  {
   "cell_type": "code",
   "execution_count": 34,
   "metadata": {
    "colab": {
     "base_uri": "https://localhost:8080/"
    },
    "id": "aea8b5e1",
    "outputId": "a96cc1a7-9bcb-49b9-fc0b-43ef406bce22"
   },
   "outputs": [
    {
     "name": "stdout",
     "output_type": "stream",
     "text": [
      "Estimand type: EstimandType.NONPARAMETRIC_ATE\n",
      "\n",
      "### Estimand : 1\n",
      "Estimand name: backdoor\n",
      "Estimand expression:\n",
      "     d                               \n",
      "────────────(E[result|bloodₚᵣₑₛₛᵤᵣₑ])\n",
      "d[treatment]                         \n",
      "Estimand assumption 1, Unconfoundedness: If U→{treatment} and U→result then P(result|treatment,blood_pressure,U) = P(result|treatment,blood_pressure)\n",
      "\n",
      "### Estimand : 2\n",
      "Estimand name: iv\n",
      "No such variable(s) found!\n",
      "\n",
      "### Estimand : 3\n",
      "Estimand name: frontdoor\n",
      "No such variable(s) found!\n",
      "\n"
     ]
    }
   ],
   "source": [
    "identified_estimand = model_2.identify_effect()\n",
    "print(identified_estimand)"
   ]
  },
  {
   "cell_type": "markdown",
   "metadata": {
    "id": "3f39c506"
   },
   "source": [
    "### 2.3. Оценка причинно-следственной связи\n",
    "\n",
    "```\n",
    "model.estimate_effect(\n",
    "    identified_estimand,\n",
    "    method_name=None,\n",
    "    control_value=0,\n",
    "    treatment_value=1,\n",
    "    test_significance=None,\n",
    "    evaluate_effect_strength=False,\n",
    "    confidence_intervals=False,\n",
    "    target_units='ate',\n",
    "    effect_modifiers=None,\n",
    "    fit_estimator=True,\n",
    "    method_params=None,\n",
    ")\n",
    "\n",
    "```\n",
    "\n",
    "\n",
    "Поддерживаются следущие методы\n",
    "* Propensity Score Matching: \"`backdoor.propensity_score_matching`\"\n",
    "* Propensity Score Stratification: \"`backdoor.propensity_score_stratification`\" &mdash; использование оценок propensity score для определения бинов, по котором выполняется стратификация\n",
    "* Propensity Score-based Inverse Weighting: \"`backdoor.propensity_score_weighting`\"\n",
    "* Linear Regression: \"`backdoor.linear_regression`\"\n",
    "* Generalized Linear Models (e.g., logistic regression): \"`backdoor.generalized_linear_model`\"\n",
    "* Instrumental Variables: \"`iv.instrumental_variable`\"\n",
    "* Regression Discontinuity: \"`iv.regression_discontinuity`\""
   ]
  },
  {
   "cell_type": "markdown",
   "metadata": {
    "id": "R6Et8N1mygV4"
   },
   "source": [
    "Протестируйте оценку причинно-следственного эффекта при использовании propensity score как весов для исходов."
   ]
  },
  {
   "cell_type": "code",
   "execution_count": 35,
   "metadata": {
    "colab": {
     "base_uri": "https://localhost:8080/"
    },
    "id": "ba75b8fb",
    "outputId": "b5957686-8272-4083-c911-94a753be1298"
   },
   "outputs": [
    {
     "name": "stdout",
     "output_type": "stream",
     "text": [
      "*** Causal Estimate ***\n",
      "\n",
      "## Identified estimand\n",
      "Estimand type: EstimandType.NONPARAMETRIC_ATE\n",
      "\n",
      "### Estimand : 1\n",
      "Estimand name: backdoor\n",
      "Estimand expression:\n",
      "     d                               \n",
      "────────────(E[result|bloodₚᵣₑₛₛᵤᵣₑ])\n",
      "d[treatment]                         \n",
      "Estimand assumption 1, Unconfoundedness: If U→{treatment} and U→result then P(result|treatment,blood_pressure,U) = P(result|treatment,blood_pressure)\n",
      "\n",
      "## Realized estimand\n",
      "b: result~treatment+blood_pressure\n",
      "Target units: ate\n",
      "\n",
      "## Estimate\n",
      "Mean value: -0.050352250079951255\n",
      "\n"
     ]
    }
   ],
   "source": [
    "estimate = model.estimate_effect(\n",
    "    identified_estimand,\n",
    "    method_name=\"backdoor.propensity_score_weighting\",\n",
    ")\n",
    "\n",
    "print(estimate)"
   ]
  },
  {
   "cell_type": "markdown",
   "metadata": {
    "id": "af8044c4"
   },
   "source": [
    "Можно извлечь саму оценку причинно-следственного эффекта"
   ]
  },
  {
   "cell_type": "code",
   "execution_count": 36,
   "metadata": {
    "colab": {
     "base_uri": "https://localhost:8080/",
     "height": 37
    },
    "id": "fe7fcf72",
    "outputId": "5b92789d-d5cb-473d-a33d-cd05c91254eb"
   },
   "outputs": [
    {
     "data": {
      "text/latex": [
       "$\\displaystyle -0.0503522500799513$"
      ],
      "text/plain": [
       "-0.050352250079951255"
      ]
     },
     "execution_count": 36,
     "metadata": {},
     "output_type": "execute_result"
    }
   ],
   "source": [
    "estimate.value"
   ]
  },
  {
   "cell_type": "markdown",
   "metadata": {
    "id": "2e65ab6c"
   },
   "source": [
    "Также можно отдельно построить для нее доверительный интервал\n",
    "\n",
    "```\n",
    "estimate.get_confidence_intervals(\n",
    "    confidence_level=None,\n",
    "    method=None,\n",
    "    **kwargs,\n",
    ")\n",
    "```\n",
    "\n",
    "По умолчанию используется формула построения доверительного интервала для конкретного метода. Можно также использовать бутстреп, указав `method='bootstrap'`. Для некоторых методов интервал можно построить только бустрепом, например, для Propensity Score Stratification."
   ]
  },
  {
   "cell_type": "code",
   "execution_count": 37,
   "metadata": {
    "colab": {
     "base_uri": "https://localhost:8080/",
     "height": 72
    },
    "id": "deabf50c",
    "outputId": "6e80ea25-d0f6-42a6-b5c8-f3c5a7bcf1ff"
   },
   "outputs": [
    {
     "name": "stdout",
     "output_type": "stream",
     "text": [
      "CPU times: user 6.4 s, sys: 64.9 ms, total: 6.46 s\n",
      "Wall time: 6.58 s\n"
     ]
    },
    {
     "data": {
      "text/latex": [
       "$\\displaystyle \\left( -0.123276039402748, \\  0.0137585020124397\\right)$"
      ],
      "text/plain": [
       "(-0.12327603940274823, 0.013758502012439666)"
      ]
     },
     "execution_count": 37,
     "metadata": {},
     "output_type": "execute_result"
    }
   ],
   "source": [
    "%%time\n",
    "estimate.get_confidence_intervals()"
   ]
  },
  {
   "cell_type": "markdown",
   "metadata": {
    "id": "49c5117c"
   },
   "source": [
    "И проверить стат. значимость отличия от нуля, получив p-value. Здесь также можно использовать бутстреп"
   ]
  },
  {
   "cell_type": "code",
   "execution_count": 38,
   "metadata": {
    "colab": {
     "base_uri": "https://localhost:8080/"
    },
    "id": "d15cd431",
    "outputId": "5e729f62-54f8-473c-d29c-ef43f4327c0f"
   },
   "outputs": [
    {
     "name": "stdout",
     "output_type": "stream",
     "text": [
      "CPU times: user 15.9 s, sys: 169 ms, total: 16.1 s\n",
      "Wall time: 16.1 s\n"
     ]
    },
    {
     "data": {
      "text/plain": [
       "{'p_value': 0.068}"
      ]
     },
     "execution_count": 38,
     "metadata": {},
     "output_type": "execute_result"
    }
   ],
   "source": [
    "%%time\n",
    "estimate.test_stat_significance()"
   ]
  },
  {
   "cell_type": "markdown",
   "metadata": {
    "id": "dd60b8b4"
   },
   "source": [
    "Можно извлечь оценку стандартного отклонения"
   ]
  },
  {
   "cell_type": "code",
   "execution_count": 39,
   "metadata": {
    "colab": {
     "base_uri": "https://localhost:8080/",
     "height": 37
    },
    "id": "691a0ceb",
    "outputId": "f7285462-96a7-4537-ca1e-de7c99516f5f"
   },
   "outputs": [
    {
     "data": {
      "text/latex": [
       "$\\displaystyle 0.0348549132107426$"
      ],
      "text/plain": [
       "0.03485491321074261"
      ]
     },
     "execution_count": 39,
     "metadata": {},
     "output_type": "execute_result"
    }
   ],
   "source": [
    "estimate.get_standard_error()"
   ]
  },
  {
   "cell_type": "markdown",
   "metadata": {
    "id": "c4854182"
   },
   "source": [
    "Оценка произведена с помощью следующей формулы"
   ]
  },
  {
   "cell_type": "code",
   "execution_count": 40,
   "metadata": {
    "colab": {
     "base_uri": "https://localhost:8080/",
     "height": 35
    },
    "id": "2ae9ad99",
    "outputId": "9a3d23f4-887a-433e-8c25-dc13a442ed69"
   },
   "outputs": [
    {
     "data": {
      "application/vnd.google.colaboratory.intrinsic+json": {
       "type": "string"
      },
      "text/plain": [
       "'b: result~treatment+blood_pressure'"
      ]
     },
     "execution_count": 40,
     "metadata": {},
     "output_type": "execute_result"
    }
   ],
   "source": [
    "estimate.realized_estimand_expr"
   ]
  },
  {
   "cell_type": "markdown",
   "metadata": {
    "id": "29c40628"
   },
   "source": [
    "Также можно посмотреть на то, какие признаки использованы"
   ]
  },
  {
   "cell_type": "code",
   "execution_count": 41,
   "metadata": {
    "colab": {
     "base_uri": "https://localhost:8080/"
    },
    "id": "fd470f25",
    "outputId": "0dab34cc-d9af-4729-e870-c14d9776cbaf"
   },
   "outputs": [
    {
     "data": {
      "text/plain": [
       "['treatment']"
      ]
     },
     "execution_count": 41,
     "metadata": {},
     "output_type": "execute_result"
    }
   ],
   "source": [
    "estimate.target_estimand.treatment_variable"
   ]
  },
  {
   "cell_type": "markdown",
   "metadata": {
    "id": "MDunkCh_ygV9"
   },
   "source": [
    "Можно посмотреть на распределения интересующих нас признаков до и после применения соответствующего метода propensity score:"
   ]
  },
  {
   "cell_type": "code",
   "execution_count": 42,
   "metadata": {
    "colab": {
     "base_uri": "https://localhost:8080/",
     "height": 501
    },
    "id": "Dg3lC4oxygV-",
    "outputId": "2beaf17f-55b7-4f1e-fa1e-ba19b410d8d1"
   },
   "outputs": [
    {
     "data": {
      "image/png": "[encoded data removed]",
      "text/plain": [
       "<Figure size 1000x500 with 2 Axes>"
      ]
     },
     "metadata": {},
     "output_type": "display_data"
    }
   ],
   "source": [
    "estimate.interpret(method_name=\"confounder_distribution_interpreter\",\n",
    "                   var_type='discrete', var_name='blood_pressure',\n",
    "                   fig_size = (10, 5), font_size = 12)"
   ]
  },
  {
   "cell_type": "markdown",
   "metadata": {
    "id": "blgLLWaPygV-"
   },
   "source": [
    "Соответствуют ли полученные выше распределения теоретически ожидаемым?\n",
    "\n",
    "**Ответ:**\n",
    "\n",
    "После применения весов распределение значений **blood_pressure** для обеих групп (treated и untreated) выравнивается, что соответствует теоретически ожидаемому результату: веса корректируют различия между группами, что приводит к более сбалансированным распределениям и устраняет искажения, вызванные конфаундерами."
   ]
  },
  {
   "cell_type": "markdown",
   "metadata": {
    "id": "4a6ec527"
   },
   "source": [
    "### 2.4. Тестирование полученной оценки\n",
    "\n",
    "```\n",
    "model.refute_estimate(\n",
    "    estimand,\n",
    "    estimate,\n",
    "    method_name=None,\n",
    "    show_progress_bar=False,\n",
    "    **kwargs,\n",
    ")\n",
    "```\n",
    "\n",
    "Одно из основных преимущество DoWhy &mdash; несколько методов проверки устойчивости моделей.\n",
    "\n",
    "Поддерживаемые методы опровержения\n",
    "* **Добавить рандомный конфаундер:** Изменяет ли метод свою оценку добавления конфаундера-рандом в набор данных?\n",
    "    * *так не должно быть*\n",
    "\n",
    "* **Тритмент:** Что происходит с предполагаемым причинно-следственным эффектом, если мы тритмент заменим на рандом?\n",
    "    * *эффект должен быть равен нулю*\n",
    "\n",
    "* **Фиктивный результат:** Что происходит с предполагаемым причинно-следственным эффектом, при замене таргета на рандом?\n",
    "    * *эффект должен быть равен нулю*\n",
    "\n",
    "* **Моделирование:** Что происходит с предполагаемым причинно-следственным эффектом, при замене реального набора данных на искусственный, наиболее похожий по отношению к данному набору данных?\n",
    "    * *он должен соответствовать параметру effect из процесса генерации данных*\n",
    "\n",
    "* **Добавить ненаблюдаемый конфаундер:** Насколько чувствительна оценка эффекта при дополнительного конфаундера?\n",
    "    * *она не должен быть слишком чувствительным*\n",
    "\n",
    "* **Проверка подмножеств данных:** Существенно ли изменяется оцененный эффект при замене данных на случайно выбранное подмножество?\n",
    "    * *так не должно быть*\n",
    "\n",
    "* **Проверка бутстрепом:** Существенно ли меняется предполагаемый эффект при замене данных на бутстрепные рализации?\n",
    "    * *так не должно быть*\n"
   ]
  },
  {
   "cell_type": "code",
   "execution_count": 43,
   "metadata": {
    "colab": {
     "base_uri": "https://localhost:8080/",
     "height": 136,
     "referenced_widgets": [
      "5b59416f1c9140e09c90da58f8e7c146",
      "4a35f3a332df452a8790ac3142c77f4d",
      "c0e577325a614ff5bf3aba56a8983979",
      "350df1aebe3e4d0083144b52a277d05a",
      "9c86757695294a868717227797e6dcfb",
      "30b1b8d1757e44419cc5bcd31473a093",
      "ef244ddaf72f4228b30ed9db32186644",
      "b6791cd52e4940ae839b4dafeacc4b9e",
      "fbb8c5b7deb74b8cb3a74fdbcf364e34",
      "597e7ef83a76435485f076782fdacaff",
      "e02c671f77fd4a15b040b18da2173008"
     ]
    },
    "id": "f16b4993",
    "outputId": "564a119e-2ee6-4cb2-ee96-99d690414eb7",
    "scrolled": true
   },
   "outputs": [
    {
     "data": {
      "application/vnd.jupyter.widget-view+json": {
       "model_id": "5b59416f1c9140e09c90da58f8e7c146",
       "version_major": 2,
       "version_minor": 0
      },
      "text/plain": [
       "Refuting Estimates:   0%|          | 0/100 [00:00<?, ?it/s]"
      ]
     },
     "metadata": {},
     "output_type": "display_data"
    },
    {
     "name": "stdout",
     "output_type": "stream",
     "text": [
      "Refute: Add a random common cause\n",
      "Estimated effect:-0.050352250079951255\n",
      "New effect:-0.05035225007995127\n",
      "p value:1.0\n",
      "\n"
     ]
    }
   ],
   "source": [
    "refute_results = model.refute_estimate(\n",
    "    identified_estimand, estimate,\n",
    "    method_name=\"random_common_cause\",\n",
    "    show_progress_bar=True\n",
    ")\n",
    "\n",
    "print(refute_results)"
   ]
  },
  {
   "cell_type": "code",
   "execution_count": 44,
   "metadata": {
    "colab": {
     "base_uri": "https://localhost:8080/"
    },
    "id": "8e51a747",
    "outputId": "313f1c0b-712c-4ab5-bc68-5d829efe7e68"
   },
   "outputs": [
    {
     "name": "stdout",
     "output_type": "stream",
     "text": [
      "Refute: Add an Unobserved Common Cause\n",
      "Estimated effect:-0.050352250079951255\n",
      "New effect:-0.06962060222842636\n",
      "\n"
     ]
    }
   ],
   "source": [
    "refute_results = model.refute_estimate(\n",
    "    identified_estimand, estimate,\n",
    "    method_name=\"add_unobserved_common_cause\",\n",
    "    show_progress_bar=True\n",
    ")\n",
    "\n",
    "print(refute_results)"
   ]
  },
  {
   "cell_type": "code",
   "execution_count": 45,
   "metadata": {
    "colab": {
     "base_uri": "https://localhost:8080/",
     "height": 136,
     "referenced_widgets": [
      "a4fd17df824240feba5730387ccecad4",
      "38197c281d414f0d9ba9f294514fb7c3",
      "69cc9a95ca6441698ecd29ab7c10dad0",
      "282561cdf6b44bff91f23a0fd5e44172",
      "f85495c8bfe74b3d9317cf4ac6f01aae",
      "48d3832bd84349fcbf8d2843b6e8d479",
      "13efae4aae244d5f8335d7cfd8fe1fdb",
      "49b2484c85f9434aaaa42853a53da158",
      "7813ea68c9414030b26a0453c47fdc9e",
      "2001da14c7e04c8787dea5422f60e9b5",
      "c8306916e754428f88fcbb0a4a7ffbd9"
     ]
    },
    "id": "1b6900b0",
    "outputId": "71efa90d-8921-4966-b95e-15a3f3816ef8"
   },
   "outputs": [
    {
     "data": {
      "application/vnd.jupyter.widget-view+json": {
       "model_id": "a4fd17df824240feba5730387ccecad4",
       "version_major": 2,
       "version_minor": 0
      },
      "text/plain": [
       "Refuting Estimates:   0%|          | 0/100 [00:00<?, ?it/s]"
      ]
     },
     "metadata": {},
     "output_type": "display_data"
    },
    {
     "name": "stdout",
     "output_type": "stream",
     "text": [
      "Refute: Use a Placebo Treatment\n",
      "Estimated effect:-0.050352250079951255\n",
      "New effect:-0.08172348864109705\n",
      "p value:0.02\n",
      "\n"
     ]
    }
   ],
   "source": [
    "refute_results = model.refute_estimate(\n",
    "    identified_estimand, estimate,\n",
    "    method_name=\"placebo_treatment_refuter\",\n",
    "    show_progress_bar=True\n",
    ")\n",
    "\n",
    "print(refute_results)"
   ]
  },
  {
   "cell_type": "code",
   "execution_count": 46,
   "metadata": {
    "colab": {
     "base_uri": "https://localhost:8080/",
     "height": 136,
     "referenced_widgets": [
      "2a64accaf3084c4abc06373ada30dcc7",
      "c4d5f5b9240b49e6afd5b0f1f8d147ed",
      "e1621ff500a943d6b6638caea5f8db94",
      "586e07894907498794432847a693d949",
      "f98eccc475954b6e97bc961eb89a502f",
      "cf24b842ee8b4c188a41d58292ddb4ce",
      "3c7bcb54cdae43c7a8dc69386f96c472",
      "6a60201a5a074e8a8c7e20c4becfdf8a",
      "b67e23752b104e2b89574a9627cf57fd",
      "b808f19aaeac4419aebe238e871f11b7",
      "21eb697ccf2d43899e19e484f0462581"
     ]
    },
    "id": "3ce3b34b",
    "outputId": "f50746da-6240-49bf-8c7f-58e31b25ba73"
   },
   "outputs": [
    {
     "data": {
      "application/vnd.jupyter.widget-view+json": {
       "model_id": "2a64accaf3084c4abc06373ada30dcc7",
       "version_major": 2,
       "version_minor": 0
      },
      "text/plain": [
       "Refuting Estimates:   0%|          | 0/100 [00:00<?, ?it/s]"
      ]
     },
     "metadata": {},
     "output_type": "display_data"
    },
    {
     "name": "stdout",
     "output_type": "stream",
     "text": [
      "Refute: Use a subset of data\n",
      "Estimated effect:-0.050352250079951255\n",
      "New effect:-0.04750084079614864\n",
      "p value:0.8\n",
      "\n"
     ]
    }
   ],
   "source": [
    "refute_results = model.refute_estimate(\n",
    "    identified_estimand, estimate,\n",
    "    method_name=\"data_subset_refuter\",\n",
    "    show_progress_bar=True\n",
    ")\n",
    "\n",
    "print(refute_results)"
   ]
  },
  {
   "cell_type": "markdown",
   "metadata": {
    "id": "jOmIAg3zMBqc"
   },
   "source": [
    "**Вывод:**"
   ]
  },
  {
   "cell_type": "markdown",
   "metadata": {
    "id": "6tenbbpk9VcQ"
   },
   "source": [
    "1. **Добавление рандомного конфаундера**:\n",
    "\n",
    "Оценка эффекта не изменилась (новый эффект: **−0.05035**, p-значение = 1.0), что подтверждает устойчивость результата.\n",
    "\n",
    "2. **Добавление ненаблюдаемого конфаундера**:\n",
    "\n",
    "Эффект изменился (новый эффект: **−0.0696**), что может указывать на чувствительность модели к конфаундерам, которые не были учтены.\n",
    "\n",
    "3. **Использование фиктивного тритмента**:\n",
    "\n",
    "Эффект значительно изменился (новый эффект: **−0.0817**, p-значение = 0.02), что указывает на возможность того, что модель чувствительна к замене тритмента на случайный.\n",
    "\n",
    "4. **Проверка подмножеств данных**:\n",
    "\n",
    "Эффект не изменился существенно (новый эффект: **−0.0475**, p-значение = 0.8), что подтверждает стабильность оценки при случайном подмножестве данных."
   ]
  }
 ],
 "metadata": {
  "colab": {
   "provenance": []
  },
  "kernelspec": {
   "display_name": "Python 3 (ipykernel)",
   "language": "python",
   "name": "python3"
  },
  "language_info": {
   "codemirror_mode": {
    "name": "ipython",
    "version": 3
   },
   "file_extension": ".py",
   "mimetype": "text/x-python",
   "name": "python",
   "nbconvert_exporter": "python",
   "pygments_lexer": "ipython3",
   "version": "3.10.9"
  }
 },
 "nbformat": 4,
 "nbformat_minor": 0
}
