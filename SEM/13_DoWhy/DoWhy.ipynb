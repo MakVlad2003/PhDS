{
 "cells": [
  {
   "cell_type": "markdown",
   "metadata": {
    "id": "wbNeZtFJygVh"
   },
   "source": [
    "# ML в Биологии\n",
    "## DoWhy"
   ]
  },
  {
   "cell_type": "code",
   "execution_count": null,
   "metadata": {
    "colab": {
     "base_uri": "https://localhost:8080/"
    },
    "id": "NNbdntmQygVm",
    "outputId": "a6d34f66-2a86-4ba2-c9ae-ba624a1f7ca8"
   },
   "outputs": [],
   "source": [
    "!pip install dowhy"
   ]
  },
  {
   "cell_type": "code",
   "execution_count": null,
   "metadata": {
    "id": "QPLXBhgzTFhz"
   },
   "outputs": [],
   "source": [
    "import numpy as np\n",
    "import pandas as pd\n",
    "import matplotlib.pyplot as plt\n",
    "import seaborn as sns\n",
    "from tqdm.notebook import tqdm\n",
    "\n",
    "import networkx as nx\n",
    "from dowhy import gcm\n",
    "\n",
    "from dowhy import CausalModel\n",
    "import dowhy.datasets\n",
    "\n",
    "import networkx as nx\n",
    "from IPython.display import Image, display\n",
    "\n",
    "import warnings\n",
    "warnings.filterwarnings(\"ignore\")\n",
    "\n",
    "options = {\n",
    "    \"font_size\": 14,\n",
    "    \"node_size\": 1500,\n",
    "    \"node_color\": \"#99FF99\",\n",
    "    \"edge_color\": \"#9999FF\",\n",
    "    \"arrowsize\": 25,\n",
    "    \"width\": 3,\n",
    "}\n",
    "\n",
    "def draw_graph(graphs, options):\n",
    "    nx.draw_networkx(graphs, **options)\n",
    "    ax = plt.gca()\n",
    "    ax.margins(0.20)\n",
    "    plt.axis(\"off\")\n",
    "\n",
    "sns.set(style='whitegrid', palette='Set2')"
   ]
  },
  {
   "cell_type": "markdown",
   "metadata": {
    "id": "RboO7vUsPqow"
   },
   "source": [
    "---\n",
    "\n",
    "## Задача 1.\n",
    "\n",
    "При проведении испытания лекарства, влияющего на кровяное давление, получены следующие данные. В каждом случае указано количество успешных случаев.\n",
    "\n",
    "\n",
    "| Количество успешных        | Принимали плацебо | Принимали лекарство  |\n",
    "| :------------- |-------------:| -----:|\n",
    "| Низкое давление      | 81 из 87 | 234 из 270 |\n",
    "| Высокое давление     | 192 из 263      |   55 из 80 |\n",
    "\n",
    "\n",
    "Требуется оценить эффект влияния лекарства на успех в двух следующих случаях.\n",
    "\n",
    "* Кровяное давление пациентов измерялось до начала испытания, после чего принималось решение о приеме лекарства.\n",
    "\n",
    "* Кровяное давление пациентов измерялось в конце испытания. При этом известно, что лекарство может оказывать эффект на кровяное давление, которое в свою очередь может оказывать эффект на выздоровление.\n"
   ]
  },
  {
   "cell_type": "markdown",
   "metadata": {
    "id": "c822cD5jPqox"
   },
   "source": [
    "**1.** Нарисуйте граф причинно-следственных связей для каждого случая.\n",
    "\n",
    "---\n",
    "\n",
    "Обозначим\n",
    "* $T$ &mdash; лечение;\n",
    "* $Y$ &mdash; результат;\n",
    "* $X$ &mdash; давление.\n"
   ]
  },
  {
   "cell_type": "markdown",
   "metadata": {
    "id": "jZfYE8_tPqox"
   },
   "source": [
    "**Первый случай**\n",
    "\n",
    "Кровяное давление пациентов измерялось до начала испытания, после чего принималось решение о приеме лекарства.\n",
    "\n",
    "\n",
    "$$p(x, y, t) = p(x)p(t|x)p(y|x, t)$$\n",
    "\n",
    "\n",
    "$$\\widehat{\\mathsf{P}}(X = 1) = \\frac{263+80}{263+80+87+270}$$\n",
    "$$\\widehat{\\mathsf{P}}(T=1\\ |\\ X = 0) = \\frac{270}{87+270}$$\n",
    "$$\\widehat{\\mathsf{P}}(T=1\\ |\\ X = 1) = \\frac{80}{263+80}$$\n",
    "$$\\widehat{\\mathsf{P}}(Y=1\\ |\\ T=0, X = 0) = \\frac{81}{87}$$\n",
    "$$\\widehat{\\mathsf{P}}(Y=1\\ |\\ T=1, X = 0) = \\frac{234}{270}$$\n",
    "$$\\widehat{\\mathsf{P}}(Y=1\\ |\\ T=0, X = 1) = \\frac{192}{263}$$\n",
    "$$\\widehat{\\mathsf{P}}(Y=1\\ |\\ T=1, X = 1) = \\frac{55}{80}$$\n",
    "\n",
    "\n",
    "**Второй случай**\n",
    "\n",
    "Кровяное давление пациентов измерялось в конце испытания. При этом известно, что лекарство может оказывать эффект на кровяное давление, которое в свою очередь может оказывать эффект на выздоровление.\n",
    "\n",
    "\n",
    "$$p(x, y, t) = p(t)p(x|t)p(y|x, t)$$\n",
    "\n",
    "\n",
    "$$\\widehat{\\mathsf{P}}(T = 1) = \\frac{270+80}{263+80+87+270}$$\n",
    "$$\\widehat{\\mathsf{P}}(X=1\\ |\\ T = 0) = \\frac{270}{270+80}$$\n",
    "$$\\widehat{\\mathsf{P}}(X=1\\ |\\ T = 1) = \\frac{80}{270+80}$$\n",
    "$$\\widehat{\\mathsf{P}}(Y=1\\ |\\ T=0, X = 0) = \\frac{81}{87}$$\n",
    "$$\\widehat{\\mathsf{P}}(Y=1\\ |\\ T=1, X = 0) = \\frac{234}{270}$$\n",
    "$$\\widehat{\\mathsf{P}}(Y=1\\ |\\ T=0, X = 1) = \\frac{192}{263}$$\n",
    "$$\\widehat{\\mathsf{P}}(Y=1\\ |\\ T=1, X = 1) = \\frac{55}{80}$$"
   ]
  },
  {
   "cell_type": "code",
   "execution_count": null,
   "metadata": {
    "colab": {
     "base_uri": "https://localhost:8080/",
     "height": 444
    },
    "id": "5u8HaTR6Pqox",
    "outputId": "7a0295dd-95a5-4afa-905a-bcf3068aaa16"
   },
   "outputs": [],
   "source": [
    "plt.figure(figsize=(12, 5))\n",
    "\n",
    "causal_graphs = [\n",
    "    nx.DiGraph([('X', 'T'), ('X', 'Y'), ('T', 'Y')]), # граф для случая: давление измеряется ДО решения о назначении лекарства\n",
    "    nx.DiGraph([('T', 'X'), ('X', 'Y'), ('T', 'Y')])  # граф для случая: давление измеряется ПОСЛЕ решения о назначении лекарства\n",
    "]\n",
    "\n",
    "for i, graphs in enumerate(causal_graphs):\n",
    "    plt.subplot(1, 2, i+1)\n",
    "    draw_graph(graphs, options)\n",
    "    plt.title(f'{i+1}-й случай')\n",
    "\n",
    "plt.show()"
   ]
  },
  {
   "cell_type": "markdown",
   "metadata": {
    "id": "9OUJQKVAzaFl"
   },
   "source": [
    "Создадим датасет."
   ]
  },
  {
   "cell_type": "code",
   "execution_count": null,
   "metadata": {
    "colab": {
     "base_uri": "https://localhost:8080/",
     "height": 455
    },
    "id": "TTJSlJBgPqoy",
    "outputId": "1ec25cb1-ab09-4c94-e3c7-6f3f30acc8a0"
   },
   "outputs": [],
   "source": [
    "data = pd.DataFrame()\n",
    "data['treatment'] = [0]*(87+263) + [1]*(270+80)\n",
    "data['blood_pressure'] = [0]*87 + [1]*263 + [0]*270 + [1]*80\n",
    "data['result'] = [1]*81 + [0]*(87-81) + [1]*192 + [0]*(263-192) \\\n",
    "                + [1]*234 + [0]*(270-234) + [1]*55 + [0]*(80-55)\n",
    "data.index.name = 'patient'\n",
    "\n",
    "data"
   ]
  },
  {
   "cell_type": "markdown",
   "metadata": {
    "id": "fej87KFjzL5p"
   },
   "source": [
    "\n",
    "| Количество успешных        | Принимали плацебо T=0 | Принимали лекарство T=1 |\n",
    "| :------------- |-------------:| -----:|\n",
    "| Низкое давление X=0      | 81 из 87 | 234 из 270 |\n",
    "| Высокое давление X=1    | 192 из 263      |   55 из 80 |\n",
    "\n",
    "\n"
   ]
  },
  {
   "cell_type": "markdown",
   "metadata": {
    "id": "w2bZtEKIZgwg"
   },
   "source": [
    "Постройте графы обоих вариантов **в случае интервенции**."
   ]
  },
  {
   "cell_type": "code",
   "execution_count": null,
   "metadata": {
    "colab": {
     "base_uri": "https://localhost:8080/",
     "height": 444
    },
    "id": "ds2JTEdCPqoz",
    "outputId": "b15effaf-de2b-4ff3-df69-4d7bbab25a38"
   },
   "outputs": [],
   "source": [
    "plt.figure(figsize=(12, 5))\n",
    "\n",
    "causal_graphs = [\n",
    "    nx.DiGraph([('X', 'Y'), ('T', 'Y')]), # do-граф для случая: давление измеряется ДО решения о назначении лекарства\n",
    "    nx.DiGraph([('X', 'Y'), ('T', 'Y')]) # do-граф для случая: давление измеряется ПОСЛЕ решения о назначении лекарства\n",
    "]\n",
    "\n",
    "for i, graphs in enumerate(causal_graphs):\n",
    "    plt.subplot(1, 2, i+1)\n",
    "    draw_graph(graphs, options)\n",
    "    plt.title(f'{i+1}-й случай')\n",
    "\n",
    "plt.show()"
   ]
  },
  {
   "cell_type": "markdown",
   "metadata": {
    "id": "FXn6g-SEPqoz"
   },
   "source": [
    "**2.** Поэкспериментируем с библиотекой DoWhy."
   ]
  },
  {
   "cell_type": "markdown",
   "metadata": {
    "id": "Cyl5URrpPqoz"
   },
   "source": [
    "Задайте граф причинно-следственных связей (задайте правильно названия вершин графа в соответствии с названиями колонок датасета, не меняйте тип данных) и постройте по нему модель `StructuralCausalModel` с автоматическим определением механизма причинно-следственных связей. Обучите полученную модель."
   ]
  },
  {
   "cell_type": "markdown",
   "metadata": {
    "id": "f9D5gp8-dDrF"
   },
   "source": [
    "**Первый случай.**"
   ]
  },
  {
   "cell_type": "code",
   "execution_count": null,
   "metadata": {
    "id": "lHzCR7MFPqo0"
   },
   "outputs": [],
   "source": [
    "causal_graph = nx.DiGraph([\n",
    "    ('blood_pressure', 'treatment'),\n",
    "    ('blood_pressure', 'result'),\n",
    "    ('treatment', 'result')\n",
    "])"
   ]
  },
  {
   "cell_type": "code",
   "execution_count": null,
   "metadata": {
    "colab": {
     "base_uri": "https://localhost:8080/"
    },
    "id": "e8TLlXT_eA1S",
    "outputId": "faf4a8c3-ee21-4ae7-e3d7-8b087e5288f1"
   },
   "outputs": [],
   "source": [
    "causal_model = gcm.StructuralCausalModel(causal_graph)\n",
    "gcm.auto.assign_causal_mechanisms(causal_model, data)\n",
    "\n",
    "gcm.fit(causal_model, data)"
   ]
  },
  {
   "cell_type": "markdown",
   "metadata": {
    "id": "b6BYGNv-Pqo0"
   },
   "source": [
    "Выясните, какие зависимости подобрались и напечатайте параметры этих моделей."
   ]
  },
  {
   "cell_type": "code",
   "execution_count": null,
   "metadata": {
    "colab": {
     "base_uri": "https://localhost:8080/"
    },
    "id": "V29xuSBXPqo0",
    "outputId": "7c18a618-f64f-4760-90de-3d2dce13a5e5"
   },
   "outputs": [],
   "source": [
    "model_T = causal_model.causal_mechanism('treatment')\n",
    "model_Y = causal_model.causal_mechanism('result')\n",
    "model_X = causal_model.causal_mechanism('blood_pressure')\n",
    "\n",
    "model_T, model_Y, model_X"
   ]
  },
  {
   "cell_type": "code",
   "execution_count": null,
   "metadata": {
    "colab": {
     "base_uri": "https://localhost:8080/"
    },
    "id": "Qc5JmFgEPqo0",
    "outputId": "57060716-245d-4029-a786-5e7281cdcf02"
   },
   "outputs": [],
   "source": [
    "sklearn_model = model_Y.prediction_model.sklearn_model\n",
    "sklearn_model.coef_, sklearn_model.intercept_"
   ]
  },
  {
   "cell_type": "code",
   "execution_count": null,
   "metadata": {
    "colab": {
     "base_uri": "https://localhost:8080/",
     "height": 80
    },
    "id": "5x5OIreqPqo0",
    "outputId": "3a6b968b-0322-4521-f1fd-fd39da0e0150"
   },
   "outputs": [],
   "source": [
    "sklearn_model = model_T.prediction_model.sklearn_model\n",
    "sklearn_model"
   ]
  },
  {
   "cell_type": "markdown",
   "metadata": {
    "id": "SBdo5QW_Pqo0"
   },
   "source": [
    "Как видим, были использованы модели с аддитивным шумом, в то время как наши данные категориальные.\n",
    "\n",
    "Поменяем тип данных на строковые"
   ]
  },
  {
   "cell_type": "code",
   "execution_count": null,
   "metadata": {
    "id": "0d5HPHODPqo0"
   },
   "outputs": [],
   "source": [
    "data = data.astype(str)"
   ]
  },
  {
   "cell_type": "markdown",
   "metadata": {
    "id": "y7z-wG6IPqo0"
   },
   "source": [
    "Задайте модели наследования вручную. Если у вершины нет предков, то используйте эмпирическое распределение, иначе &mdash; классификатор `gcm.ClassifierFCM()`. Обучите полученную causal модель."
   ]
  },
  {
   "cell_type": "code",
   "execution_count": null,
   "metadata": {
    "colab": {
     "base_uri": "https://localhost:8080/"
    },
    "id": "QXh75DWdPqo1",
    "outputId": "c6eb6957-7c51-433e-e38c-e66c78c76d39"
   },
   "outputs": [],
   "source": [
    "from dowhy.gcm import EmpiricalDistribution, ClassifierFCM\n",
    "\n",
    "causal_model = gcm.StructuralCausalModel(causal_graph)\n",
    "\n",
    "causal_model.set_causal_mechanism('blood_pressure', EmpiricalDistribution())\n",
    "causal_model.set_causal_mechanism('treatment', ClassifierFCM())\n",
    "causal_model.set_causal_mechanism('result', ClassifierFCM())\n",
    "\n",
    "gcm.fit(causal_model, data)\n",
    "\n",
    "model_T = causal_model.causal_mechanism('treatment')\n",
    "model_Y = causal_model.causal_mechanism('result')\n",
    "model_X = causal_model.causal_mechanism('blood_pressure')\n",
    "\n",
    "model_T, model_Y, model_X"
   ]
  },
  {
   "cell_type": "markdown",
   "metadata": {
    "id": "ykWtkNxNPqo1"
   },
   "source": [
    "Наконец, посчитайте оценку ATE с помощью интервенции в построенной модели.\n",
    "Это фактически вычисление разницы средних таргета `result` при интервенции (искусственном установлении параметра) $treatment=1$ (т.е. всем участникам назначалось лекарство) и при $treatment=0$ (т.е. всем участникам не назначалось лекарство):\n",
    "\n",
    "$$ATE = \\mathsf{E}(Y|T:=1) - \\mathsf{E}(Y|T:=0)$$\n",
    "\n",
    "*Примечание*: в методе *average_causal_effect* `interventions_* = {'X': lambda x: '1'}` определяет условие интервенции *do(X:='1')*. Название ключей словаря соответствуют названиям переменных-вершин графа.\n",
    "\n",
    "Зададим количество генераций новых данных на базе нашего графа:\n"
   ]
  },
  {
   "cell_type": "code",
   "execution_count": null,
   "metadata": {
    "id": "f6eklRZcygVu"
   },
   "outputs": [],
   "source": [
    "num_samples_to_draw = 1_000_000"
   ]
  },
  {
   "cell_type": "code",
   "execution_count": null,
   "metadata": {
    "colab": {
     "base_uri": "https://localhost:8080/",
     "height": 72
    },
    "id": "WoYGuW5VPqo1",
    "outputId": "3e90cc5a-4ecd-40b8-c7e4-567aa51a95ad"
   },
   "outputs": [],
   "source": [
    "%%time\n",
    "ATE = gcm.average_causal_effect(causal_model,\n",
    "                                'result',\n",
    "                                interventions_alternative={'treatment': lambda x: '1'},  # условие интервенции альтернативного эксперимента\n",
    "                                interventions_reference={'treatment': lambda x: '0'},  # условие интервенции референсного эксперимента\n",
    "                                num_samples_to_draw=num_samples_to_draw)\n",
    "\n",
    "ATE"
   ]
  },
  {
   "cell_type": "markdown",
   "metadata": {
    "id": "oAIENxDHygVv"
   },
   "source": [
    "Также интервенцию можно посчитать напрямую, но стоит учесть, что в качестве значения интервенции нужно указать строку, а полученные семплы для вычисления средних значений контрафактивных исходов необходимо будет перевести в подходящий для математических операций (численный) формат."
   ]
  },
  {
   "cell_type": "code",
   "execution_count": null,
   "metadata": {
    "colab": {
     "base_uri": "https://localhost:8080/",
     "height": 72
    },
    "id": "403cFRuMygVv",
    "outputId": "e465a671-26d8-47ee-e399-eaff3ed83f85"
   },
   "outputs": [],
   "source": [
    "%%time\n",
    "interventional_mean = []\n",
    "\n",
    "for i in range(2):\n",
    "    samples = gcm.interventional_samples(\n",
    "        causal_model,\n",
    "        {'treatment': lambda y: str(i) },  # условие интервенции\n",
    "        num_samples_to_draw=num_samples_to_draw  # количество семплирований\n",
    "    )\n",
    "    interventional_mean.append(samples['result'].astype(float).mean())\n",
    "\n",
    "ATE = interventional_mean[1] - interventional_mean[0]\n",
    "ATE"
   ]
  },
  {
   "cell_type": "markdown",
   "metadata": {
    "id": "UtuR5nI7ygVv"
   },
   "source": [
    "Сравните два подхода к вычислению ATE.\n",
    "\n",
    "**Ответ:**\n",
    "\n",
    "- Оба подхода дают схожие значения ATE (разница в пределах 0.001), что свидетельствует о стабильности оценки эффекта.\n",
    "\n",
    "- Первый метод проще и быстрее, так как выполняет всю работу за нас.\n",
    "\n",
    "- Второй метод предоставляет больше контроля над процессом, поскольку мы сами генерируете выборки и вычисляете средние значения, что может быть полезно, если требуется больше гибкости в оценке."
   ]
  },
  {
   "cell_type": "markdown",
   "metadata": {
    "id": "NxsVoZEa0t0Z"
   },
   "source": [
    "**Второй случай.**\n",
    "\n",
    "Задайте модель по аналогии с первым случаем для второго варианта эксперимента и обучите её. Подход к расчёту ATE можно выбирать любой."
   ]
  },
  {
   "cell_type": "code",
   "execution_count": null,
   "metadata": {
    "id": "5UHFhS6kPqo1"
   },
   "outputs": [],
   "source": [
    "causal_graph = nx.DiGraph([\n",
    "    ('treatment', 'blood_pressure'),\n",
    "    ('blood_pressure', 'result'),\n",
    "    ('treatment', 'result')\n",
    "])\n",
    "\n",
    "causal_model = gcm.StructuralCausalModel(causal_graph)\n",
    "\n",
    "causal_model.set_causal_mechanism('treatment', EmpiricalDistribution())\n",
    "causal_model.set_causal_mechanism('blood_pressure', ClassifierFCM())\n",
    "causal_model.set_causal_mechanism('result', ClassifierFCM())"
   ]
  },
  {
   "cell_type": "code",
   "execution_count": null,
   "metadata": {
    "colab": {
     "base_uri": "https://localhost:8080/"
    },
    "id": "ptgtU_xA3_Z2",
    "outputId": "567b6e5e-ab3a-4791-a3a9-e7f7799ab7ed"
   },
   "outputs": [],
   "source": [
    "gcm.fit(causal_model, data)"
   ]
  },
  {
   "cell_type": "code",
   "execution_count": null,
   "metadata": {
    "colab": {
     "base_uri": "https://localhost:8080/",
     "height": 37
    },
    "id": "zlr0XQoLPqo1",
    "outputId": "9d81c371-4c16-4c31-81be-3e7b6989b8ce"
   },
   "outputs": [],
   "source": [
    "ATE = gcm.average_causal_effect(\n",
    "    causal_model,\n",
    "    'result',\n",
    "    interventions_alternative={'treatment': lambda x: '1'},\n",
    "    interventions_reference={'treatment': lambda x: '0'},\n",
    "    num_samples_to_draw=num_samples_to_draw\n",
    ")\n",
    "\n",
    "ATE"
   ]
  },
  {
   "cell_type": "markdown",
   "metadata": {
    "id": "XE5unajqPqo1"
   },
   "source": [
    "**Вывод:**\n",
    "\n",
    "Оценка ATE показала значение **0.045578**, что указывает на положительный эффект лекарства на результат выздоровления. Использован метод **average_causal_effect** с графом причинно-следственных связей и моделями **EmpiricalDistribution** для корневых узлов и **ClassifierFCM** для зависимых."
   ]
  },
  {
   "cell_type": "markdown",
   "metadata": {
    "id": "ceLUPYrzPbAX"
   },
   "source": [
    "# Propensity score и работа с ним в библиотеке DoWhy"
   ]
  },
  {
   "cell_type": "markdown",
   "metadata": {
    "id": "9d4ccab2"
   },
   "source": [
    "## Задача 2. Пайплайн оценки\n",
    "\n",
    "\n",
    "Для оценки эффекта библиотека DoWhy предоставляет четырехступенчатый интерфейс причинно-следственного вывода:\n",
    "1. Определение модели для причинно-следственной задачи\n",
    "2. Определение оценщика в рамках модели\n",
    "3. Оценка причинно-следственной связи по выбранному оценщику\n",
    "4. Тестирование полученной оценки\n"
   ]
  },
  {
   "cell_type": "markdown",
   "metadata": {
    "id": "2afcbc78"
   },
   "source": [
    "### 2.1. Определение модели\n",
    "\n",
    "```\n",
    "CausalModel(\n",
    "    data,\n",
    "    treatment,\n",
    "    outcome,\n",
    "    graph=None,\n",
    "    common_causes=None,\n",
    "    instruments=None,\n",
    "    effect_modifiers=None,\n",
    "    estimand_type='nonparametric-ate',\n",
    "    proceed_when_unidentifiable=False,\n",
    "    missing_nodes_as_confounders=False,\n",
    "    identify_vars=False,\n",
    "    **kwargs,\n",
    ")\n",
    "```\n",
    "\n",
    "**Стандартный способ**\n",
    "\n",
    "Определение причинно-следственной модели на основе данных и заданного графа. Этот граф не обязательно должен быть полным — можно предоставить частичный граф с предварительными знаниями о некоторых признаках. Тогда DoWhy автоматически рассматривает остальные признаким как потенциальные конфаундеры.\n",
    "\n",
    "Используйте граф для случая, где `blood_pressure` является конфаундером."
   ]
  },
  {
   "cell_type": "code",
   "execution_count": null,
   "metadata": {
    "id": "RLawvy5LygV0"
   },
   "outputs": [],
   "source": [
    "data = data.astype({'treatment': int,\n",
    "                    'blood_pressure': float,\n",
    "                    'result': float})"
   ]
  },
  {
   "cell_type": "code",
   "execution_count": null,
   "metadata": {
    "id": "ObynRfvNygV0"
   },
   "outputs": [],
   "source": [
    "causal_graph = nx.DiGraph([\n",
    "    ('blood_pressure', 'treatment'),\n",
    "    ('blood_pressure', 'result'),\n",
    "    ('treatment', 'result')\n",
    "])"
   ]
  },
  {
   "cell_type": "code",
   "execution_count": null,
   "metadata": {
    "colab": {
     "base_uri": "https://localhost:8080/",
     "height": 745
    },
    "id": "5da9f13f",
    "outputId": "03edf521-4a5e-4082-beff-44ca6f002469"
   },
   "outputs": [],
   "source": [
    "model = CausalModel(\n",
    "    data=data,\n",
    "    treatment=\"treatment\",\n",
    "    outcome=\"result\",\n",
    "    graph=causal_graph\n",
    ")\n",
    "\n",
    "model.view_model(file_name=\"causal_model\", size=(6, 4))\n",
    "display(Image(filename=\"causal_model.png\"))"
   ]
  },
  {
   "cell_type": "markdown",
   "metadata": {
    "id": "81b31675"
   },
   "source": [
    "**Другой способ**\n",
    "\n",
    "Указание ковариат и инструментов (при их наличии) в явном виде."
   ]
  },
  {
   "cell_type": "code",
   "execution_count": null,
   "metadata": {
    "colab": {
     "base_uri": "https://localhost:8080/",
     "height": 762
    },
    "id": "4dfbe17b",
    "outputId": "de479cf1-fdb1-4fb1-99e8-cfc41fdbe89a"
   },
   "outputs": [],
   "source": [
    "model_2 = CausalModel(\n",
    "    data=data,\n",
    "    treatment=\"treatment\",\n",
    "    outcome=\"result\",\n",
    "    common_causes=\"blood_pressure\"\n",
    ")\n",
    "\n",
    "model_2.view_model(file_name=\"causal_model\", size=(6, 4))\n",
    "display(Image(filename=\"causal_model.png\"))"
   ]
  },
  {
   "cell_type": "markdown",
   "metadata": {
    "id": "c1226c8c"
   },
   "source": [
    "### 2.2. Определение оценщика в рамках модели\n",
    "\n",
    "Основываясь на причинно-следственном графе, DoWhy находит все возможные способы идентификации желаемого причинно-следственного эффекта на основе графа. Используются критерии на графах и do-исчисление, для поиска всех возможных моделей, которые могут оценить причинно-следственную связь в данном случае."
   ]
  },
  {
   "cell_type": "code",
   "execution_count": null,
   "metadata": {
    "colab": {
     "base_uri": "https://localhost:8080/"
    },
    "id": "aea8b5e1",
    "outputId": "a96cc1a7-9bcb-49b9-fc0b-43ef406bce22"
   },
   "outputs": [],
   "source": [
    "identified_estimand = model_2.identify_effect()\n",
    "print(identified_estimand)"
   ]
  },
  {
   "cell_type": "markdown",
   "metadata": {
    "id": "3f39c506"
   },
   "source": [
    "### 2.3. Оценка причинно-следственной связи\n",
    "\n",
    "```\n",
    "model.estimate_effect(\n",
    "    identified_estimand,\n",
    "    method_name=None,\n",
    "    control_value=0,\n",
    "    treatment_value=1,\n",
    "    test_significance=None,\n",
    "    evaluate_effect_strength=False,\n",
    "    confidence_intervals=False,\n",
    "    target_units='ate',\n",
    "    effect_modifiers=None,\n",
    "    fit_estimator=True,\n",
    "    method_params=None,\n",
    ")\n",
    "\n",
    "```\n",
    "\n",
    "\n",
    "Поддерживаются следущие методы\n",
    "* Propensity Score Matching: \"`backdoor.propensity_score_matching`\"\n",
    "* Propensity Score Stratification: \"`backdoor.propensity_score_stratification`\" &mdash; использование оценок propensity score для определения бинов, по котором выполняется стратификация\n",
    "* Propensity Score-based Inverse Weighting: \"`backdoor.propensity_score_weighting`\"\n",
    "* Linear Regression: \"`backdoor.linear_regression`\"\n",
    "* Generalized Linear Models (e.g., logistic regression): \"`backdoor.generalized_linear_model`\"\n",
    "* Instrumental Variables: \"`iv.instrumental_variable`\"\n",
    "* Regression Discontinuity: \"`iv.regression_discontinuity`\""
   ]
  },
  {
   "cell_type": "markdown",
   "metadata": {
    "id": "R6Et8N1mygV4"
   },
   "source": [
    "Протестируйте оценку причинно-следственного эффекта при использовании propensity score как весов для исходов."
   ]
  },
  {
   "cell_type": "code",
   "execution_count": null,
   "metadata": {
    "colab": {
     "base_uri": "https://localhost:8080/"
    },
    "id": "ba75b8fb",
    "outputId": "b5957686-8272-4083-c911-94a753be1298"
   },
   "outputs": [],
   "source": [
    "estimate = model.estimate_effect(\n",
    "    identified_estimand,\n",
    "    method_name=\"backdoor.propensity_score_weighting\",\n",
    ")\n",
    "\n",
    "print(estimate)"
   ]
  },
  {
   "cell_type": "markdown",
   "metadata": {
    "id": "af8044c4"
   },
   "source": [
    "Можно извлечь саму оценку причинно-следственного эффекта"
   ]
  },
  {
   "cell_type": "code",
   "execution_count": null,
   "metadata": {
    "colab": {
     "base_uri": "https://localhost:8080/",
     "height": 37
    },
    "id": "fe7fcf72",
    "outputId": "5b92789d-d5cb-473d-a33d-cd05c91254eb"
   },
   "outputs": [],
   "source": [
    "estimate.value"
   ]
  },
  {
   "cell_type": "markdown",
   "metadata": {
    "id": "2e65ab6c"
   },
   "source": [
    "Также можно отдельно построить для нее доверительный интервал\n",
    "\n",
    "```\n",
    "estimate.get_confidence_intervals(\n",
    "    confidence_level=None,\n",
    "    method=None,\n",
    "    **kwargs,\n",
    ")\n",
    "```\n",
    "\n",
    "По умолчанию используется формула построения доверительного интервала для конкретного метода. Можно также использовать бутстреп, указав `method='bootstrap'`. Для некоторых методов интервал можно построить только бустрепом, например, для Propensity Score Stratification."
   ]
  },
  {
   "cell_type": "code",
   "execution_count": null,
   "metadata": {
    "colab": {
     "base_uri": "https://localhost:8080/",
     "height": 72
    },
    "id": "deabf50c",
    "outputId": "6e80ea25-d0f6-42a6-b5c8-f3c5a7bcf1ff"
   },
   "outputs": [],
   "source": [
    "%%time\n",
    "estimate.get_confidence_intervals()"
   ]
  },
  {
   "cell_type": "markdown",
   "metadata": {
    "id": "49c5117c"
   },
   "source": [
    "И проверить стат. значимость отличия от нуля, получив p-value. Здесь также можно использовать бутстреп"
   ]
  },
  {
   "cell_type": "code",
   "execution_count": null,
   "metadata": {
    "colab": {
     "base_uri": "https://localhost:8080/"
    },
    "id": "d15cd431",
    "outputId": "5e729f62-54f8-473c-d29c-ef43f4327c0f"
   },
   "outputs": [],
   "source": [
    "%%time\n",
    "estimate.test_stat_significance()"
   ]
  },
  {
   "cell_type": "markdown",
   "metadata": {
    "id": "dd60b8b4"
   },
   "source": [
    "Можно извлечь оценку стандартного отклонения"
   ]
  },
  {
   "cell_type": "code",
   "execution_count": null,
   "metadata": {
    "colab": {
     "base_uri": "https://localhost:8080/",
     "height": 37
    },
    "id": "691a0ceb",
    "outputId": "f7285462-96a7-4537-ca1e-de7c99516f5f"
   },
   "outputs": [],
   "source": [
    "estimate.get_standard_error()"
   ]
  },
  {
   "cell_type": "markdown",
   "metadata": {
    "id": "c4854182"
   },
   "source": [
    "Оценка произведена с помощью следующей формулы"
   ]
  },
  {
   "cell_type": "code",
   "execution_count": null,
   "metadata": {
    "colab": {
     "base_uri": "https://localhost:8080/",
     "height": 35
    },
    "id": "2ae9ad99",
    "outputId": "9a3d23f4-887a-433e-8c25-dc13a442ed69"
   },
   "outputs": [],
   "source": [
    "estimate.realized_estimand_expr"
   ]
  },
  {
   "cell_type": "markdown",
   "metadata": {
    "id": "29c40628"
   },
   "source": [
    "Также можно посмотреть на то, какие признаки использованы"
   ]
  },
  {
   "cell_type": "code",
   "execution_count": null,
   "metadata": {
    "colab": {
     "base_uri": "https://localhost:8080/"
    },
    "id": "fd470f25",
    "outputId": "0dab34cc-d9af-4729-e870-c14d9776cbaf"
   },
   "outputs": [],
   "source": [
    "estimate.target_estimand.treatment_variable"
   ]
  },
  {
   "cell_type": "markdown",
   "metadata": {
    "id": "MDunkCh_ygV9"
   },
   "source": [
    "Можно посмотреть на распределения интересующих нас признаков до и после применения соответствующего метода propensity score:"
   ]
  },
  {
   "cell_type": "code",
   "execution_count": null,
   "metadata": {
    "colab": {
     "base_uri": "https://localhost:8080/",
     "height": 501
    },
    "id": "Dg3lC4oxygV-",
    "outputId": "2beaf17f-55b7-4f1e-fa1e-ba19b410d8d1"
   },
   "outputs": [],
   "source": [
    "estimate.interpret(method_name=\"confounder_distribution_interpreter\",\n",
    "                   var_type='discrete', var_name='blood_pressure',\n",
    "                   fig_size = (10, 5), font_size = 12)"
   ]
  },
  {
   "cell_type": "markdown",
   "metadata": {
    "id": "blgLLWaPygV-"
   },
   "source": [
    "Соответствуют ли полученные выше распределения теоретически ожидаемым?\n",
    "\n",
    "**Ответ:**\n",
    "\n",
    "После применения весов распределение значений **blood_pressure** для обеих групп (treated и untreated) выравнивается, что соответствует теоретически ожидаемому результату: веса корректируют различия между группами, что приводит к более сбалансированным распределениям и устраняет искажения, вызванные конфаундерами."
   ]
  },
  {
   "cell_type": "markdown",
   "metadata": {
    "id": "4a6ec527"
   },
   "source": [
    "### 2.4. Тестирование полученной оценки\n",
    "\n",
    "```\n",
    "model.refute_estimate(\n",
    "    estimand,\n",
    "    estimate,\n",
    "    method_name=None,\n",
    "    show_progress_bar=False,\n",
    "    **kwargs,\n",
    ")\n",
    "```\n",
    "\n",
    "Одно из основных преимущество DoWhy &mdash; несколько методов проверки устойчивости моделей.\n",
    "\n",
    "Поддерживаемые методы опровержения\n",
    "* **Добавить рандомный конфаундер:** Изменяет ли метод свою оценку добавления конфаундера-рандом в набор данных?\n",
    "    * *так не должно быть*\n",
    "\n",
    "* **Тритмент:** Что происходит с предполагаемым причинно-следственным эффектом, если мы тритмент заменим на рандом?\n",
    "    * *эффект должен быть равен нулю*\n",
    "\n",
    "* **Фиктивный результат:** Что происходит с предполагаемым причинно-следственным эффектом, при замене таргета на рандом?\n",
    "    * *эффект должен быть равен нулю*\n",
    "\n",
    "* **Моделирование:** Что происходит с предполагаемым причинно-следственным эффектом, при замене реального набора данных на искусственный, наиболее похожий по отношению к данному набору данных?\n",
    "    * *он должен соответствовать параметру effect из процесса генерации данных*\n",
    "\n",
    "* **Добавить ненаблюдаемый конфаундер:** Насколько чувствительна оценка эффекта при дополнительного конфаундера?\n",
    "    * *она не должен быть слишком чувствительным*\n",
    "\n",
    "* **Проверка подмножеств данных:** Существенно ли изменяется оцененный эффект при замене данных на случайно выбранное подмножество?\n",
    "    * *так не должно быть*\n",
    "\n",
    "* **Проверка бутстрепом:** Существенно ли меняется предполагаемый эффект при замене данных на бутстрепные рализации?\n",
    "    * *так не должно быть*\n"
   ]
  },
  {
   "cell_type": "code",
   "execution_count": null,
   "metadata": {
    "colab": {
     "base_uri": "https://localhost:8080/",
     "height": 136,
     "referenced_widgets": [
      "5b59416f1c9140e09c90da58f8e7c146",
      "4a35f3a332df452a8790ac3142c77f4d",
      "c0e577325a614ff5bf3aba56a8983979",
      "350df1aebe3e4d0083144b52a277d05a",
      "9c86757695294a868717227797e6dcfb",
      "30b1b8d1757e44419cc5bcd31473a093",
      "ef244ddaf72f4228b30ed9db32186644",
      "b6791cd52e4940ae839b4dafeacc4b9e",
      "fbb8c5b7deb74b8cb3a74fdbcf364e34",
      "597e7ef83a76435485f076782fdacaff",
      "e02c671f77fd4a15b040b18da2173008"
     ]
    },
    "id": "f16b4993",
    "outputId": "564a119e-2ee6-4cb2-ee96-99d690414eb7"
   },
   "outputs": [],
   "source": [
    "refute_results = model.refute_estimate(\n",
    "    identified_estimand, estimate,\n",
    "    method_name=\"random_common_cause\",\n",
    "    show_progress_bar=True\n",
    ")\n",
    "\n",
    "print(refute_results)"
   ]
  },
  {
   "cell_type": "code",
   "execution_count": null,
   "metadata": {
    "colab": {
     "base_uri": "https://localhost:8080/"
    },
    "id": "8e51a747",
    "outputId": "313f1c0b-712c-4ab5-bc68-5d829efe7e68"
   },
   "outputs": [],
   "source": [
    "refute_results = model.refute_estimate(\n",
    "    identified_estimand, estimate,\n",
    "    method_name=\"add_unobserved_common_cause\",\n",
    "    show_progress_bar=True\n",
    ")\n",
    "\n",
    "print(refute_results)"
   ]
  },
  {
   "cell_type": "code",
   "execution_count": null,
   "metadata": {
    "colab": {
     "base_uri": "https://localhost:8080/",
     "height": 136,
     "referenced_widgets": [
      "a4fd17df824240feba5730387ccecad4",
      "38197c281d414f0d9ba9f294514fb7c3",
      "69cc9a95ca6441698ecd29ab7c10dad0",
      "282561cdf6b44bff91f23a0fd5e44172",
      "f85495c8bfe74b3d9317cf4ac6f01aae",
      "48d3832bd84349fcbf8d2843b6e8d479",
      "13efae4aae244d5f8335d7cfd8fe1fdb",
      "49b2484c85f9434aaaa42853a53da158",
      "7813ea68c9414030b26a0453c47fdc9e",
      "2001da14c7e04c8787dea5422f60e9b5",
      "c8306916e754428f88fcbb0a4a7ffbd9"
     ]
    },
    "id": "1b6900b0",
    "outputId": "71efa90d-8921-4966-b95e-15a3f3816ef8"
   },
   "outputs": [],
   "source": [
    "refute_results = model.refute_estimate(\n",
    "    identified_estimand, estimate,\n",
    "    method_name=\"placebo_treatment_refuter\",\n",
    "    show_progress_bar=True\n",
    ")\n",
    "\n",
    "print(refute_results)"
   ]
  },
  {
   "cell_type": "code",
   "execution_count": null,
   "metadata": {
    "colab": {
     "base_uri": "https://localhost:8080/",
     "height": 136,
     "referenced_widgets": [
      "2a64accaf3084c4abc06373ada30dcc7",
      "c4d5f5b9240b49e6afd5b0f1f8d147ed",
      "e1621ff500a943d6b6638caea5f8db94",
      "586e07894907498794432847a693d949",
      "f98eccc475954b6e97bc961eb89a502f",
      "cf24b842ee8b4c188a41d58292ddb4ce",
      "3c7bcb54cdae43c7a8dc69386f96c472",
      "6a60201a5a074e8a8c7e20c4becfdf8a",
      "b67e23752b104e2b89574a9627cf57fd",
      "b808f19aaeac4419aebe238e871f11b7",
      "21eb697ccf2d43899e19e484f0462581"
     ]
    },
    "id": "3ce3b34b",
    "outputId": "f50746da-6240-49bf-8c7f-58e31b25ba73"
   },
   "outputs": [],
   "source": [
    "refute_results = model.refute_estimate(\n",
    "    identified_estimand, estimate,\n",
    "    method_name=\"data_subset_refuter\",\n",
    "    show_progress_bar=True\n",
    ")\n",
    "\n",
    "print(refute_results)"
   ]
  },
  {
   "cell_type": "markdown",
   "metadata": {
    "id": "jOmIAg3zMBqc"
   },
   "source": [
    "**Вывод:**"
   ]
  },
  {
   "cell_type": "markdown",
   "metadata": {
    "id": "6tenbbpk9VcQ"
   },
   "source": [
    "1. **Добавление рандомного конфаундера**:\n",
    "\n",
    "Оценка эффекта не изменилась (новый эффект: **−0.05035**, p-значение = 1.0), что подтверждает устойчивость результата.\n",
    "\n",
    "2. **Добавление ненаблюдаемого конфаундера**:\n",
    "\n",
    "Эффект изменился (новый эффект: **−0.0696**), что может указывать на чувствительность модели к конфаундерам, которые не были учтены.\n",
    "\n",
    "3. **Использование фиктивного тритмента**:\n",
    "\n",
    "Эффект значительно изменился (новый эффект: **−0.0817**, p-значение = 0.02), что указывает на возможность того, что модель чувствительна к замене тритмента на случайный.\n",
    "\n",
    "4. **Проверка подмножеств данных**:\n",
    "\n",
    "Эффект не изменился существенно (новый эффект: **−0.0475**, p-значение = 0.8), что подтверждает стабильность оценки при случайном подмножестве данных."
   ]
  }
 ],
 "metadata": {
  "colab": {
   "provenance": []
  },
  "kernelspec": {
   "display_name": "Python 3 (ipykernel)",
   "language": "python",
   "name": "python3"
  },
  "language_info": {
   "codemirror_mode": {
    "name": "ipython",
    "version": 3
   },
   "file_extension": ".py",
   "mimetype": "text/x-python",
   "name": "python",
   "nbconvert_exporter": "python",
   "pygments_lexer": "ipython3",
   "version": "3.10.9"
  }
 },
 "nbformat": 4,
 "nbformat_minor": 0
}
