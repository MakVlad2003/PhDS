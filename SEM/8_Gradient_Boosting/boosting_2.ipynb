{
 "cells": [
  {
   "cell_type": "markdown",
   "metadata": {
    "id": "f3MNON4pOZ3N"
   },
   "source": [
    "# <a href=\"https://thetahat.ru/courses/ph-ds-2024-aut\">Phystech@DataScience</a>\n",
    "## Семинар 8 (Часть 2)\n",
    "\n",
    "**Правила, <font color=\"red\">прочитайте внимательно</font>:**\n",
    "\n",
    "* Выполненную работу нужно отправить телеграм-боту `@miptstats_pds_bot`. Для начала работы с ботом каждый раз отправляйте `/start`. **Работы, присланные иным способом, не принимаются.**\n",
    "* Дедлайн см. в боте. После дедлайна работы не принимаются кроме случаев наличия уважительной причины.\n",
    "* Прислать нужно ноутбук в формате `ipynb`.\n",
    "* Выполнять задание необходимо полностью самостоятельно. **При обнаружении списывания все участники списывания будут сдавать устный зачет.**\n",
    "* Решения, размещенные на каких-либо интернет-ресурсах, не принимаются. Кроме того, публикация решения в открытом доступе может быть приравнена к предоставлении возможности списать.\n",
    "* Для выполнения задания используйте этот ноутбук в качестве основы, ничего не удаляя из него. Можно добавлять необходимое количество ячеек.\n",
    "* Комментарии к решению пишите в markdown-ячейках.\n",
    "* Выполнение задания (ход решения, выводы и пр.) должно быть осуществлено на русском языке.\n",
    "* Если код будет не понятен проверяющему, оценка может быть снижена.\n",
    "* Никакой код из данного задания при проверке запускаться не будет. *Если код студента не выполнен, недописан и т.д., то он не оценивается.*\n",
    "* **Код из рассказанных на занятиях ноутбуков можно использовать без ограничений.**\n",
    "\n",
    "**Правила оформления теоретических задач:**\n",
    "\n",
    "* Решения необходимо прислать одним из следующих способов:\n",
    "  * фотографией в правильной ориентации, где все четко видно, а почерк разборчив,\n",
    "    * отправив ее как файл боту вместе с ноутбуком *или*\n",
    "    * вставив ее в ноутбук посредством `Edit -> Insert Image` (<font color=\"red\">фото, вставленные ссылкой, не принимаются</font>);\n",
    "  * в виде $\\LaTeX$ в markdown-ячейках.\n",
    "* Решения не проверяются, если какое-то требование не выполнено. Особенно внимательно все проверьте в случае выбора второго пункта (вставки фото в ноутбук). <font color=\"red\"><b>Неправильно вставленные фотографии могут не передаться при отправке.</b></font> Для проверки попробуйте переместить `ipynb` в другую папку и открыть его там.\n",
    "* В решениях поясняйте, чем вы пользуетесь, хотя бы кратко. Например, если пользуетесь независимостью, то достаточно подписи вида \"*X и Y незав.*\"\n",
    "* Решение, в котором есть только ответ, и отсутствуют вычисления, оценивается в 0 баллов."
   ]
  },
  {
   "cell_type": "code",
   "execution_count": null,
   "metadata": {
    "id": "EKpLmsVcOZ3O"
   },
   "outputs": [],
   "source": [
    "# Bot check\n",
    "\n",
    "# HW_ID: phds_sem8_2\n",
    "# Бот проверит этот ID и предупредит, если случайно сдать что-то не то.\n",
    "\n",
    "# Status: final\n",
    "# Перед отправкой в финальном решении удали \"not\" в строчке выше.\n",
    "# Так бот проверит, что ты отправляешь финальную версию, а не промежуточную.\n",
    "# Никакие значения в этой ячейке не влияют на факт сдачи работы."
   ]
  },
  {
   "cell_type": "code",
   "execution_count": null,
   "metadata": {
    "id": "4O-Qus5oOr54"
   },
   "outputs": [],
   "source": [
    "#!pip install catboost"
   ]
  },
  {
   "cell_type": "code",
   "execution_count": null,
   "metadata": {
    "id": "C4u801wWOZ3P"
   },
   "outputs": [],
   "source": [
    "import numpy as np\n",
    "import pandas as pd\n",
    "\n",
    "from tqdm.notebook import tqdm\n",
    "import matplotlib.pyplot as plt\n",
    "import seaborn as sns\n",
    "\n",
    "from catboost import CatBoostRegressor\n",
    "from lightgbm import LGBMRegressor\n",
    "from sklearn.ensemble import RandomForestRegressor\n",
    "from sklearn.ensemble import GradientBoostingRegressor\n",
    "\n",
    "from sklearn.ensemble import RandomForestClassifier\n",
    "from catboost import CatBoostClassifier\n",
    "from lightgbm import LGBMClassifier\n",
    "from sklearn.ensemble import GradientBoostingClassifier\n",
    "\n",
    "from sklearn.datasets import fetch_california_housing\n",
    "\n",
    "from sklearn.metrics import accuracy_score\n",
    "from sklearn.metrics import f1_score\n",
    "from sklearn.metrics import mean_squared_error as mse\n",
    "from sklearn.model_selection import GridSearchCV\n",
    "from sklearn.model_selection import RandomizedSearchCV\n",
    "from sklearn.model_selection import train_test_split\n",
    "from sklearn.utils import shuffle\n",
    "\n",
    "sns.set(font_scale=1.8, palette='Set2')"
   ]
  },
  {
   "cell_type": "markdown",
   "metadata": {
    "id": "5rZtK5OtdUK9"
   },
   "source": [
    "##  Сравнение различных бустингов и случайного леса\n",
    "\n",
    "###  №1 Задача регрессии на предсказание цены квартир\n",
    "\n",
    "Исследуем зависимость качества предсказаний градиентного бустинга и случайного леса в зависимости от числа базовых моделей на примере задаче регрессии. Для случайного леса будем использовать класс `RandomForestRegressor` библиотеки `sklearn`. В качестве таргета будет предсказание цены квартир в Калифорнии в зависимости от различных параметров."
   ]
  },
  {
   "cell_type": "code",
   "execution_count": null,
   "metadata": {
    "colab": {
     "base_uri": "https://localhost:8080/"
    },
    "id": "EplQ_NGddUK9",
    "outputId": "72f35ea2-0235-4387-9d2f-f5bec2ff7b0c"
   },
   "outputs": [],
   "source": [
    "housing = fetch_california_housing()\n",
    "print(\"Признаки:\",housing.feature_names)\n",
    "X, y = housing.data, housing.target"
   ]
  },
  {
   "cell_type": "markdown",
   "metadata": {
    "id": "mSZ8Rt3adUK9"
   },
   "source": [
    "Разобьём данные на обучающую выборку и на тестовую, выделив на тест 25% данных."
   ]
  },
  {
   "cell_type": "code",
   "execution_count": null,
   "metadata": {
    "id": "F-OhfAmEdUK9"
   },
   "outputs": [],
   "source": [
    "X_train, X_test, y_train, y_test = train_test_split(X, y, test_size=0.25)"
   ]
  },
  {
   "cell_type": "code",
   "execution_count": null,
   "metadata": {
    "id": "4yLRTjecdUK9"
   },
   "outputs": [],
   "source": [
    "def plot_compare_estimators(estimator_labels, param_grid, train_metrics,\n",
    "                            test_metrics, param_label='', metrics_label='',\n",
    "                            title=''):\n",
    "    '''Функция для построения графиков зависимости целевой метрики\n",
    "    от некоторого параметра модели на обучающей и на валидационной\n",
    "    выборке.\n",
    "\n",
    "    :param estimator_labels: массив названий моделей\n",
    "    :param param_grid: значения исследуемого параметра\n",
    "    :param train_metrics: массив, где i-ый элемент -\n",
    "        это массив значений метрики на обучающей выборке для i-ой модели\n",
    "    :param test_metrics: массив, где i-ый элемент -\n",
    "        это массив значений метрики на валидационной выборке для i-ой модели\n",
    "    :param param_label: названия параметра\n",
    "    :param metrics_label: название метрики\n",
    "    :param title: заголовок для графика\n",
    "    '''\n",
    "\n",
    "    plt.figure(figsize=(20, 7))\n",
    "\n",
    "    for estimator_id in range(len(estimator_labels)):\n",
    "        label = estimator_labels[estimator_id]\n",
    "        plt.plot(\n",
    "            param_grid, train_metrics[estimator_id],\n",
    "            label=f'{label} train', linewidth=3\n",
    "        )\n",
    "        plt.plot(\n",
    "            param_grid, test_metrics[estimator_id],\n",
    "            label=f'{label} test', linewidth=3\n",
    "        )\n",
    "\n",
    "    plt.legend()\n",
    "    plt.xlabel(param_label)\n",
    "    plt.ylabel(metrics_label)\n",
    "    plt.title(title, fontsize=20)"
   ]
  },
  {
   "cell_type": "markdown",
   "metadata": {
    "id": "hvFi-MOtdUK9"
   },
   "source": [
    "#### Обучим случайный лес для разного числа деревьев и посчитаем `mse`."
   ]
  },
  {
   "cell_type": "code",
   "execution_count": null,
   "metadata": {
    "colab": {
     "base_uri": "https://localhost:8080/",
     "height": 49,
     "referenced_widgets": [
      "2f49e4df9897498cb44129502c6a1259",
      "4c256770a7a44b239ad3493cc276c382",
      "d6fc845639b0433e86721696ae8f0979",
      "c84106f1e5b646bfa3c064eed00217a4",
      "c8440ab3298a4e4d94836f1fa14877c7",
      "3c16c1fce32141b88e6dd7248b1433f2",
      "cf5d6d188e5d462ea990f0092e341f05",
      "a6e5b562b0594509a67d4581b917c285",
      "ea48640dc8ef4c35ade8d74a1580ed0a",
      "860565f384414c0d8790aff4f94f83cb",
      "c7518a2e394e40acb81048152759892f"
     ]
    },
    "id": "K2SPY2WNdUK-",
    "outputId": "6708fead-6c31-459a-8101-bd45aa7c6d57"
   },
   "outputs": [],
   "source": [
    "rf_mse_train = []  # метрика на трейне\n",
    "rf_mse_test = []  # метрика на тесте\n",
    "n_estimators_grid = range(1, 300, 10)\n",
    "\n",
    "for n_estimators in tqdm(n_estimators_grid):\n",
    "    rf = RandomForestRegressor(n_estimators=n_estimators, n_jobs=-1)\n",
    "    rf.fit(X_train, y_train)\n",
    "    rf_mse_train.append(mse(y_train, rf.predict(X_train)))\n",
    "    rf_mse_test.append(mse(y_test, rf.predict(X_test)))"
   ]
  },
  {
   "cell_type": "markdown",
   "metadata": {
    "id": "hDeLGNPydUK-"
   },
   "source": [
    "Обучим градиентный бустинг для разного числа деревьев и посчитаем `mse`."
   ]
  },
  {
   "cell_type": "code",
   "execution_count": null,
   "metadata": {
    "colab": {
     "base_uri": "https://localhost:8080/",
     "height": 49,
     "referenced_widgets": [
      "54978cb9f0464b2b80beba1896ebbfea",
      "cbef1d6ed5734a0690a04cfce4adce4a",
      "f8fcdec9e02a45fb8d891ca717b21f90",
      "b24fca900bbb4a6e975d1fe518e35421",
      "6acd43199baa4fb5869c5e6f733cb765",
      "398d943bdaac4c22a2427730ae54dfa2",
      "47c17156e8574b5c94238b3f21d83ccf",
      "0fe899e509414b799c52ba7d62c85302",
      "50c32463ed94465b8ff7852e0a14e720",
      "5081f97a163f4ed4a361b01ce2aaa2b0",
      "78646bf307d6467fb5fe5493fb551f9b"
     ]
    },
    "id": "r89ZlrWcdUK-",
    "outputId": "91074300-98dc-4de7-b9e5-7efdea389fc0"
   },
   "outputs": [],
   "source": [
    "boosting_mse_train = []\n",
    "boosting_mse_test = []\n",
    "\n",
    "for n_estimators in tqdm(n_estimators_grid):\n",
    "    gb = GradientBoostingRegressor(n_estimators=n_estimators)\n",
    "    gb.fit(X_train, y_train)\n",
    "    boosting_mse_train.append(mse(y_train, gb.predict(X_train)))\n",
    "    boosting_mse_test.append(mse(y_test, gb.predict(X_test)))"
   ]
  },
  {
   "cell_type": "markdown",
   "metadata": {
    "id": "357EVqgLOZ3R"
   },
   "source": [
    "Обучим СatBoost для разного числа деревьев и посчитаем `mse`."
   ]
  },
  {
   "cell_type": "code",
   "execution_count": null,
   "metadata": {
    "colab": {
     "base_uri": "https://localhost:8080/",
     "height": 49,
     "referenced_widgets": [
      "b366b3334b434342b2c845e69e16f714",
      "797274d5d1c94e77a2f49d4cd5763227",
      "e62cb5be8aae4833bfb4dbccd753c57d",
      "9819d9696902426eb710b099af69de50",
      "cfa4e6562fdd4c929e0e9692059c531d",
      "0511ed5b0f73441eb2267c398f3d215d",
      "7b51fb80ed7d44cca73d994e7798ce42",
      "d01e8970632942f8936fc03a3ce22b51",
      "319eef1a722144b4b82f8032a2715ff1",
      "cce23c30217f413bba9577728b75637f",
      "996481b7e43d4ad5b389b90c8bf2e33a"
     ]
    },
    "id": "wRe0Vs5MOZ3R",
    "outputId": "0ad305bf-ee32-4e73-a2ab-98909bd0f679"
   },
   "outputs": [],
   "source": [
    "catboost_mse_train = []\n",
    "catboost_mse_test = []\n",
    "\n",
    "for n_estimators in tqdm(n_estimators_grid):\n",
    "    catboost = CatBoostRegressor(iterations=n_estimators, verbose=0)\n",
    "    catboost.fit(X_train, y_train)\n",
    "    catboost_mse_train.append(mse(y_train, catboost.predict(X_train)))\n",
    "    catboost_mse_test.append(mse(y_test, catboost.predict(X_test)))"
   ]
  },
  {
   "cell_type": "markdown",
   "metadata": {
    "id": "OF_KQXbdOZ3S"
   },
   "source": [
    "Обучим LGBM для разного числа деревьев и посчитаем `mse`."
   ]
  },
  {
   "cell_type": "code",
   "execution_count": null,
   "metadata": {
    "colab": {
     "base_uri": "https://localhost:8080/",
     "height": 1000,
     "referenced_widgets": [
      "876506e46c9d441aac4b77890dbfaf5a",
      "c03410b8f5914ff1b6c09cdbbf215c7e",
      "48a7f7693bd5412e8abca2980cfa1c7d",
      "c4b27e019faf483187f3137ff41b5e45",
      "5f84114d64e94a05b81c1f5db113e5cd",
      "602079dbdca64df5926c4733396bfa27",
      "07199c14e0734016bf83cc60125aabc0",
      "5e35e2c4644546258bff29c8f008eed5",
      "4136f8d4a672498f8f2069ec3591ab85",
      "db53ee0d2bc64c18baf910e86750f6ce",
      "5c2ef1e6cfa148d59e282ea1f2a8fccf"
     ]
    },
    "id": "9Ufmek3yOZ3S",
    "outputId": "bc541340-377d-47c2-929e-af7ee95ffa4c"
   },
   "outputs": [],
   "source": [
    "lgbm_mse_train = []\n",
    "lgbm_mse_test = []\n",
    "\n",
    "for n_estimators in tqdm(n_estimators_grid):\n",
    "    lgbm = LGBMRegressor(n_estimators=n_estimators)\n",
    "    lgbm.fit(X_train, y_train)\n",
    "    lgbm_mse_train.append(mse(y_train, lgbm.predict(X_train)))\n",
    "    lgbm_mse_test.append(mse(y_test, lgbm.predict(X_test)))"
   ]
  },
  {
   "cell_type": "markdown",
   "metadata": {
    "id": "YaYLWz1jdUK-"
   },
   "source": [
    "Построим график зависимости `mse` от количества базовых моделей."
   ]
  },
  {
   "cell_type": "code",
   "execution_count": null,
   "metadata": {
    "colab": {
     "base_uri": "https://localhost:8080/",
     "height": 288
    },
    "id": "Fta3_4ebdUK-",
    "outputId": "ebbe4940-6d93-4e98-8b0d-156c784c429a"
   },
   "outputs": [],
   "source": [
    "plot_compare_estimators(\n",
    "    ['random forest', 'boosting', \"CatBoost\", \"LGBM\"], n_estimators_grid,\n",
    "    [rf_mse_train, boosting_mse_train, catboost_mse_train, lgbm_mse_train],\n",
    "    [rf_mse_test, boosting_mse_test, catboost_mse_test,lgbm_mse_test],\n",
    "    'Количество деревьев', 'MSE',\n",
    "    'Сравнение случайного леса и бустингов'\n",
    ")"
   ]
  },
  {
   "cell_type": "markdown",
   "metadata": {
    "id": "Af92oqE5dUK_"
   },
   "source": [
    "**Вывод:**\n",
    "\n",
    "С увеличением числа деревьев лосс у случайного леса снижается быстрее, но быстро достигает плато. Также можно заметить, что случайный лес склонен к переобучению — его лосс на тестовых данных стабильно выше, чем на обучающих.\n",
    "\n",
    "В случае бустинга лосс уменьшается медленнее, но значения на трейне и тесте остаются примерно одинаковыми, что указывает на отсутствие явного переобучения. К концу нашей сетки лосс для бустинга всё ещё продолжает снижаться. Однако ближе к концу и у бустинга начинают расходиться значения лосса на тренировочных и тестовых данных, что указывает на начало переобучения."
   ]
  },
  {
   "cell_type": "markdown",
   "metadata": {
    "id": "EbpnyQEJOZ3S",
    "jupyter": {
     "outputs_hidden": false
    }
   },
   "source": [
    "#### Сравним времена обучения и предсказания случайного леса и бустингов с параметрами по умолчанию:"
   ]
  },
  {
   "cell_type": "markdown",
   "metadata": {
    "id": "8ZNIpS9WOZ3T"
   },
   "source": [
    "Градиентный бустинг"
   ]
  },
  {
   "cell_type": "code",
   "execution_count": null,
   "metadata": {
    "colab": {
     "base_uri": "https://localhost:8080/"
    },
    "id": "2NAdU6EIOZ3T",
    "jupyter": {
     "outputs_hidden": false
    },
    "outputId": "d04f0fff-ac5f-4203-a008-08f01d9ef696"
   },
   "outputs": [],
   "source": [
    "%%timeit\n",
    "\n",
    "regressor_boosting = GradientBoostingRegressor().fit(X_train, y_train)"
   ]
  },
  {
   "cell_type": "code",
   "execution_count": null,
   "metadata": {
    "id": "hxx9WHKiOZ3T",
    "jupyter": {
     "outputs_hidden": false
    }
   },
   "outputs": [],
   "source": [
    "regressor_boosting = GradientBoostingRegressor().fit(X_train, y_train)"
   ]
  },
  {
   "cell_type": "code",
   "execution_count": null,
   "metadata": {
    "colab": {
     "base_uri": "https://localhost:8080/"
    },
    "id": "mPXznQXoOZ3T",
    "jupyter": {
     "outputs_hidden": false
    },
    "outputId": "974c641d-6d80-4d02-e783-1a9fbc88dad3"
   },
   "outputs": [],
   "source": [
    "%%timeit\n",
    "\n",
    "regressor_boosting.predict(X_test)"
   ]
  },
  {
   "cell_type": "markdown",
   "metadata": {
    "id": "dcSNj4rOOZ3T"
   },
   "source": [
    "Случайный лес"
   ]
  },
  {
   "cell_type": "code",
   "execution_count": null,
   "metadata": {
    "colab": {
     "base_uri": "https://localhost:8080/"
    },
    "id": "_18S-xCKOZ3T",
    "jupyter": {
     "outputs_hidden": false
    },
    "outputId": "446a6af1-525b-430e-c428-6b0b07a81b56"
   },
   "outputs": [],
   "source": [
    "%%timeit\n",
    "\n",
    "regressor_forest = RandomForestRegressor(n_jobs=-1).fit(X_train, y_train)"
   ]
  },
  {
   "cell_type": "code",
   "execution_count": null,
   "metadata": {
    "id": "L_z2vnaMOZ3U",
    "jupyter": {
     "outputs_hidden": false
    }
   },
   "outputs": [],
   "source": [
    "regressor_forest = RandomForestRegressor(n_jobs=-1).fit(X_train, y_train)"
   ]
  },
  {
   "cell_type": "code",
   "execution_count": null,
   "metadata": {
    "colab": {
     "base_uri": "https://localhost:8080/"
    },
    "id": "ktYOyMjtOZ3U",
    "jupyter": {
     "outputs_hidden": false
    },
    "outputId": "219db908-5d30-4c0f-dcd8-a68c720c2c4e"
   },
   "outputs": [],
   "source": [
    "%%timeit\n",
    "\n",
    "regressor_forest.predict(X_test)"
   ]
  },
  {
   "cell_type": "markdown",
   "metadata": {
    "id": "LV92UYx-OZ3U"
   },
   "source": [
    "СatBoost regressor"
   ]
  },
  {
   "cell_type": "code",
   "execution_count": null,
   "metadata": {
    "colab": {
     "base_uri": "https://localhost:8080/"
    },
    "id": "CiKg9zIBOZ3U",
    "jupyter": {
     "outputs_hidden": false
    },
    "outputId": "c1f8b323-70bc-46d7-e9b7-1296b4d10a37"
   },
   "outputs": [],
   "source": [
    "%%timeit\n",
    "\n",
    "catboost = CatBoostRegressor(silent=True).fit(X_train, y_train)"
   ]
  },
  {
   "cell_type": "code",
   "execution_count": null,
   "metadata": {
    "id": "J58zx1jhOZ3U",
    "jupyter": {
     "outputs_hidden": false
    }
   },
   "outputs": [],
   "source": [
    "catboost = CatBoostRegressor(silent=True).fit(X_train, y_train)"
   ]
  },
  {
   "cell_type": "code",
   "execution_count": null,
   "metadata": {
    "colab": {
     "base_uri": "https://localhost:8080/"
    },
    "id": "RFi_G1vUOZ3U",
    "jupyter": {
     "outputs_hidden": false
    },
    "outputId": "4d1da8df-e509-4663-c266-9e32b0679012"
   },
   "outputs": [],
   "source": [
    "%%timeit\n",
    "\n",
    "catboost.predict(X_test)"
   ]
  },
  {
   "cell_type": "markdown",
   "metadata": {
    "id": "vjj6sl7lOZ3U"
   },
   "source": [
    "LGBM regressor"
   ]
  },
  {
   "cell_type": "code",
   "execution_count": null,
   "metadata": {
    "colab": {
     "base_uri": "https://localhost:8080/"
    },
    "id": "oI2tR8f5OZ3U",
    "jupyter": {
     "outputs_hidden": false
    },
    "outputId": "41ad2888-9d21-4c30-86e8-959115f194a5"
   },
   "outputs": [],
   "source": [
    "%%timeit\n",
    "\n",
    "lgbm = LGBMRegressor(silent=True).fit(X_train, y_train)"
   ]
  },
  {
   "cell_type": "code",
   "execution_count": null,
   "metadata": {
    "colab": {
     "base_uri": "https://localhost:8080/"
    },
    "id": "pMwLM18-OZ3U",
    "jupyter": {
     "outputs_hidden": false
    },
    "outputId": "e4b213ef-d257-4f02-f724-f5159dbcd733"
   },
   "outputs": [],
   "source": [
    "lgbm = LGBMRegressor(silent=True).fit(X_train, y_train)"
   ]
  },
  {
   "cell_type": "code",
   "execution_count": null,
   "metadata": {
    "colab": {
     "base_uri": "https://localhost:8080/"
    },
    "id": "ct5guTkLOZ3V",
    "jupyter": {
     "outputs_hidden": false
    },
    "outputId": "99384574-8b45-46e5-8a2c-3f961325b141"
   },
   "outputs": [],
   "source": [
    "%%timeit\n",
    "\n",
    "lgbm.predict(X_test)"
   ]
  },
  {
   "cell_type": "markdown",
   "metadata": {
    "id": "ZrW5FPYVOZ3V",
    "jupyter": {
     "outputs_hidden": false
    }
   },
   "source": [
    "**Вывод:**\n",
    "\n",
    "Обучение бустинга занимает примерно вдвое больше времени по сравнению со случайным лесом.\n",
    "\n",
    "Однако предсказание у бустинга проходит быстрее — примерно в 3.5 раза."
   ]
  },
  {
   "cell_type": "markdown",
   "metadata": {
    "id": "K3qHBCnFdUK_"
   },
   "source": [
    "### №2 Задача на классификацию студентов"
   ]
  },
  {
   "cell_type": "markdown",
   "metadata": {
    "id": "jasm7pZodUK_"
   },
   "source": [
    "Сделаем аналогичный эксперимент с датасетом для классификации на 3 класса студентов (отчислен, закончил обучение, продолжает обучение). Целевой колонкой является `Target`."
   ]
  },
  {
   "cell_type": "code",
   "execution_count": null,
   "metadata": {
    "colab": {
     "base_uri": "https://localhost:8080/",
     "height": 307
    },
    "id": "14CAvKxLdUK0",
    "outputId": "b43dbf56-7ca0-4352-acc3-2386aee8edf0"
   },
   "outputs": [],
   "source": [
    "students = pd.read_csv(\"students_dropout_succes.csv\")\n",
    "students.head()"
   ]
  },
  {
   "cell_type": "code",
   "execution_count": null,
   "metadata": {
    "id": "ryBGC_iFdUK_"
   },
   "outputs": [],
   "source": [
    "X = students.drop(columns = [\"Target\"])\n",
    "y = students[\"Target\"]"
   ]
  },
  {
   "cell_type": "markdown",
   "metadata": {
    "id": "m06PSb9kdUK_"
   },
   "source": [
    "Разобьём данные на обучающую и тестовую выборки, под тестовую выделим 30%. Обязательно зафиксируйте `random_state` для воспроизводимости результатов."
   ]
  },
  {
   "cell_type": "code",
   "execution_count": null,
   "metadata": {
    "id": "n85jCvJVdUK_"
   },
   "outputs": [],
   "source": [
    "X_train, X_test, y_train, y_test = train_test_split(X, y, test_size=0.3, random_state=42)"
   ]
  },
  {
   "cell_type": "markdown",
   "metadata": {
    "id": "M2TNNw92dULA"
   },
   "source": [
    "Обучим случайный лес для разного числа деревьев и посчитаем метрику `f1_score`."
   ]
  },
  {
   "cell_type": "code",
   "execution_count": null,
   "metadata": {
    "colab": {
     "base_uri": "https://localhost:8080/",
     "height": 49,
     "referenced_widgets": [
      "15ef146730bd48baa99c8979169750a5",
      "087494bebb904b0aa0788509da082481",
      "73152909981f42809f2b1a9f85857c60",
      "5a00997066ab49f3b67f6255a7445193",
      "7a6d3df96d6a475bac18105abc7583e1",
      "94385f9a005a45a6a8643296b4ab4f80",
      "0db285d6a98f4205b30ef6e0d7edcb03",
      "678445780c054f7bad132b71435784a8",
      "950abd2e2c5b467abf305805a20d677f",
      "2106488aa2cc4ffcbea134c3b1a74a30",
      "8f282c90972e471792130dc4a13fdf91"
     ]
    },
    "id": "s-Qpss4adULA",
    "outputId": "c2c0a908-d48b-4a71-c8ca-b1d7829f16e9"
   },
   "outputs": [],
   "source": [
    "rf_f1_train = []\n",
    "rf_f1_test = []\n",
    "n_estimators_grid = range(1, 300, 25)\n",
    "\n",
    "for n_estimators in tqdm(n_estimators_grid):\n",
    "    rf = RandomForestClassifier(n_estimators=n_estimators, n_jobs=-1)\n",
    "    rf.fit(X_train, y_train)\n",
    "    rf_f1_train.append(f1_score(y_train, rf.predict(X_train), average='weighted'))\n",
    "    rf_f1_test.append(f1_score(y_test, rf.predict(X_test), average='weighted'))"
   ]
  },
  {
   "cell_type": "markdown",
   "metadata": {
    "id": "kXKAgtThdULA"
   },
   "source": [
    "Обучим градиентный бустинг для разного числа деревьев и посчитаем метрику `f1_score`."
   ]
  },
  {
   "cell_type": "code",
   "execution_count": null,
   "metadata": {
    "colab": {
     "base_uri": "https://localhost:8080/",
     "height": 49,
     "referenced_widgets": [
      "ac0c576491f14f4d80b05cfd3f06266b",
      "54450a7b37eb4e0ab75c7ad2a3596969",
      "f4f7b2d982344537b2e0dabd84a40a6c",
      "f16a9c60f1d64ccea88bb436b6f6c059",
      "cb7892ed96434c8eb6d02651b1741b6a",
      "1c0b098a729e4c1296390177db1cb052",
      "a147466a212746da9aa1729638ff68ec",
      "2f0da4f0c0e6476d879b9abf93916315",
      "a524414dd2744c4da5fd35930542855d",
      "02245004c0eb42f0bc4c4b61278829e9",
      "dc8b2130d6ee47678cf3822ddfbaab3a"
     ]
    },
    "id": "EArC6NQndULA",
    "outputId": "223cbc33-9288-4ca3-ef5d-8ea3086717a4"
   },
   "outputs": [],
   "source": [
    "catboost_f1_train = []\n",
    "catboost_f1_test = []\n",
    "\n",
    "for n_estimators in tqdm(n_estimators_grid):\n",
    "    catboost = CatBoostClassifier(n_estimators=n_estimators, silent=True)\n",
    "    catboost.fit(X_train, y_train)\n",
    "    catboost_f1_train.append(f1_score(y_train, catboost.predict(X_train), average='weighted'))\n",
    "    catboost_f1_test.append(f1_score(y_test, catboost.predict(X_test), average='weighted'))"
   ]
  },
  {
   "cell_type": "markdown",
   "metadata": {
    "id": "4WgV1uY0OZ3b"
   },
   "source": [
    "Обучим LGBM для разного числа деревьев и посчитаем метрику `f1_score`."
   ]
  },
  {
   "cell_type": "code",
   "execution_count": null,
   "metadata": {
    "colab": {
     "base_uri": "https://localhost:8080/",
     "height": 1000,
     "referenced_widgets": [
      "9a382a778e4243b38a297d2320e48b0b",
      "92b4e80121304053bca50909506e2a4c",
      "5f199a11fdb74e7f94441cb6e5b1556f",
      "6a30d6a8f20341dab7e375aec734d7e9",
      "531f6505ffa043998891527c7414fadc",
      "9edb164fc1124991b33fc3d475e0b526",
      "12e2484d930f40ccb99d5b8e3b1380a1",
      "b561daccfce74ecd98fe5ecb1ea1fddb",
      "93709472de55499fbc4b1de090f5717c",
      "3a50e850c3e346309d26ef2b6cceeaa6",
      "234b6c94b623414fb41d7670cd27a957"
     ]
    },
    "id": "5n0myxF_OZ3b",
    "outputId": "79ff958f-cc32-4c6d-a0d2-c380ec33c875"
   },
   "outputs": [],
   "source": [
    "lgbm_f1_train = []\n",
    "lgbm_f1_test = []\n",
    "\n",
    "for n_estimators in tqdm(n_estimators_grid):\n",
    "    lgbm = LGBMClassifier(n_estimators=n_estimators)\n",
    "    lgbm.fit(X_train, y_train)\n",
    "    lgbm_f1_train.append(f1_score(y_train, lgbm.predict(X_train), average='weighted'))\n",
    "    lgbm_f1_test.append(f1_score(y_test, lgbm.predict(X_test), average='weighted'))"
   ]
  },
  {
   "cell_type": "markdown",
   "metadata": {
    "id": "gCFNBTz3dULA"
   },
   "source": [
    "Построим график зависимости `f1_score` от количества базовых моделей."
   ]
  },
  {
   "cell_type": "code",
   "execution_count": null,
   "metadata": {
    "colab": {
     "base_uri": "https://localhost:8080/",
     "height": 288
    },
    "id": "Ol2si0dYdULA",
    "outputId": "bacc1a12-afac-416b-ac78-f30d39412e6b"
   },
   "outputs": [],
   "source": [
    "plot_compare_estimators(\n",
    "    ['random forest', 'boosting', \"catboost\", \"lgbm\"],\n",
    "    n_estimators_grid,\n",
    "    [rf_f1_train, boosting_f1_train, catboost_f1_train, lgbm_f1_train],\n",
    "    [rf_f1_test, boosting_f1_test, catboost_f1_test, lgbm_f1_test],\n",
    "    'Количество деревьев',\n",
    "    'f1_score',\n",
    "    'Сравнение случайного леса и бустингов'\n",
    ")"
   ]
  },
  {
   "cell_type": "markdown",
   "metadata": {
    "id": "ehYEMx91dULB"
   },
   "source": [
    "**Вывод:**\n",
    "\n",
    "Ситуация, похоже, напоминает пункт о регрессии:\n",
    "\n",
    "Для случайного леса точность на обучающей выборке быстро достигла значения 1, в то время как на тестовой выборке она также быстро пришла к плато, не превышающему 1, что свидетельствует о переобучении.\n",
    "\n",
    "В случае с бустингом точность растет медленнее. Изначально результаты на тестовой и обучающей выборках почти не различаются, но после 50 деревьев наблюдается значительное расхождение. Ближе к 300 деревьям точность на обучающей выборке также достигает значения 1, а на тестовой — приближается к плато, аналогичному лесу. Тем не менее, есть вероятность, что она еще может немного вырасти."
   ]
  },
  {
   "cell_type": "markdown",
   "metadata": {
    "id": "QbgTukx1OZ3c"
   },
   "source": [
    "## AutoML &mdash; LightAutoMl Framework"
   ]
  },
  {
   "cell_type": "markdown",
   "metadata": {
    "id": "2KwILIs1OZ3c"
   },
   "source": [
    "LAMA AutoML (Automated Machine Learning) — это система автоматизированного машинного обучения, разработанная для упрощения процесса создания и оптимизации моделей машинного обучения. Она автоматизирует следующее:\n",
    "\n",
    "1. **Подготовка данных**. Автоматическая предобработка данных, включая нормализацию, заполнение пропущенных значений и другие преобразования.\n",
    "2. **Выбор признаков**. Автоматический отбор наиболее значимых признаков для модели.\n",
    "3. **Выбор модели**. Ансамблированный выбор комбинаций наилучших моделей.\n",
    "4. **Настройка гиперпараметров**. Автоматическая оптимизация гиперпараметров.\n",
    "5. **Оценка модели**. Автоматическая оценка производительности модели с использованием кросс-валидации и других методов.\n",
    "\n",
    "то есть 70% процентов наших текущих задач"
   ]
  },
  {
   "cell_type": "markdown",
   "metadata": {
    "id": "i44VIFS2OZ3c"
   },
   "source": [
    "![image.png](attachment:image.png)"
   ]
  },
  {
   "cell_type": "markdown",
   "metadata": {
    "id": "Zfh63wW8OZ3c"
   },
   "source": [
    "Подробнее можно прочитать тут: https://lightautoml.readthedocs.io/en/latest/pages/tutorials/Tutorial_1_basics.html"
   ]
  },
  {
   "cell_type": "markdown",
   "metadata": {
    "id": "h1hSgJtjOZ3c"
   },
   "source": [
    "Для начала скачаем библиотеку (может занять много времени, можно попробовать ставить в Google Collab)"
   ]
  },
  {
   "cell_type": "code",
   "execution_count": null,
   "metadata": {
    "colab": {
     "base_uri": "https://localhost:8080/"
    },
    "id": "-6IJH-D7OZ3c",
    "outputId": "53cbdac1-87e5-4a1d-92a7-37510a418144"
   },
   "outputs": [],
   "source": [
    "!pip install -U lightautoml"
   ]
  },
  {
   "cell_type": "markdown",
   "metadata": {
    "id": "2Z2W_X9ROZ3c"
   },
   "source": [
    "Импортируем нужные нам библиотеки"
   ]
  },
  {
   "cell_type": "code",
   "execution_count": null,
   "metadata": {
    "id": "TYzo6sW3OZ3d"
   },
   "outputs": [],
   "source": [
    "from lightautoml.automl.presets.tabular_presets import TabularAutoML, TabularUtilizedAutoML\n",
    "from lightautoml.tasks import Task"
   ]
  },
  {
   "cell_type": "markdown",
   "metadata": {
    "id": "Njq3-Xo0OZ3d"
   },
   "source": [
    "Для LAMA целевая колонка задается по другому, поэтому разобьем наш датасет на train и test"
   ]
  },
  {
   "cell_type": "code",
   "execution_count": null,
   "metadata": {
    "id": "rQ1oQms8OZ3d"
   },
   "outputs": [],
   "source": [
    "students = pd.read_csv(\"students_dropout_succes.csv\")\n",
    "train_data, test_data = train_test_split(students, test_size = 0.3, random_state=42)"
   ]
  },
  {
   "cell_type": "markdown",
   "metadata": {
    "id": "jTzOI-QwOZ3d"
   },
   "source": [
    "Теперь зададим целевую колонку с помощью атрибута `roles`"
   ]
  },
  {
   "cell_type": "code",
   "execution_count": null,
   "metadata": {
    "id": "r0bO0la0OZ3d"
   },
   "outputs": [],
   "source": [
    "roles = {\n",
    "    'target': 'Target', #целевая колонка тут Target\n",
    "}"
   ]
  },
  {
   "cell_type": "markdown",
   "metadata": {
    "id": "EqtnnR-yOZ3d"
   },
   "source": [
    "#### Создание объекта Task\n",
    "\n",
    "Сначала нам нужно создать объект `Task` — класс, чтобы указать, какую задачу должна решать модель LightAutoML с определенными потерями и метрикой, если это необходимо (более подробную информацию можно найти в документации).\n",
    "\n",
    "Доступные типы задач\n",
    "\n",
    "1. **'binary'** - для бинарной классификации.\n",
    "2. **'reg'** - для регрессии.\n",
    "3. **'multiclass'** - для многоклассовой классификации.\n",
    "4. **'multi:reg'** - для множественной регрессии.\n",
    "5. **'multilabel'** - для многомарковой классификации."
   ]
  },
  {
   "cell_type": "code",
   "execution_count": null,
   "metadata": {
    "id": "RCO1e2OGOZ3d"
   },
   "outputs": [],
   "source": [
    "automl = TabularAutoML(\n",
    "    task = Task('multiclass'), #введите, какую задачу мы собираемся решать\n",
    "    timeout = 600, #введите количество времени, в течении которого будет обучаться LAMA\n",
    ")"
   ]
  },
  {
   "cell_type": "markdown",
   "metadata": {
    "id": "2KJGYcW0OZ3d"
   },
   "source": [
    "Теперь запустим обучение:"
   ]
  },
  {
   "cell_type": "code",
   "execution_count": null,
   "metadata": {
    "colab": {
     "base_uri": "https://localhost:8080/"
    },
    "id": "5NqJwf2wOZ3e",
    "outputId": "860b7381-5fca-48b2-fd79-3b4ecdc77497"
   },
   "outputs": [],
   "source": [
    "%%time\n",
    "out_of_fold_predictions = automl.fit_predict(train_data, roles = roles, verbose = 1)"
   ]
  },
  {
   "cell_type": "markdown",
   "metadata": {
    "id": "V65_99cGOZ3e"
   },
   "source": [
    "Какие модели используются в итоговом предсказании и какими весами?"
   ]
  },
  {
   "cell_type": "markdown",
   "metadata": {
    "id": "cmG8qH7EjBTz"
   },
   "source": [
    "**Ответ:**\n",
    "\n",
    "В итоговом предсказании LightAutoML используются несколько базовых моделей, таких как CatBoost, LightGBM, и XGBoost. Веса моделей определяются в процессе обучения на валидационных данных и применяются в методе стекирования.  "
   ]
  },
  {
   "cell_type": "markdown",
   "metadata": {
    "id": "S49lxoowOZ3e"
   },
   "source": [
    "Сделаем обратный маппинг классов (из LabelEncoding в слова)"
   ]
  },
  {
   "cell_type": "code",
   "execution_count": null,
   "metadata": {
    "id": "XkUINrulOZ3e"
   },
   "outputs": [],
   "source": [
    "mapping = automl.reader.class_mapping\n",
    "def map_class(x):\n",
    "    return mapping[x]\n",
    "mapped = np.vectorize(map_class)"
   ]
  },
  {
   "cell_type": "markdown",
   "metadata": {
    "id": "h-g23tHzOZ3e"
   },
   "source": [
    "Посмотрим на результаты обучения"
   ]
  },
  {
   "cell_type": "code",
   "execution_count": null,
   "metadata": {
    "colab": {
     "base_uri": "https://localhost:8080/"
    },
    "id": "icZ673rYOZ3e",
    "outputId": "eaf5271b-461a-458a-f283-1644f62d3a08"
   },
   "outputs": [],
   "source": [
    "%%time\n",
    "\n",
    "test_predictions = automl.predict(test_data)\n",
    "\n",
    "print(f'Train F1 score: {f1_score(mapped(train_data[roles[\"target\"]].values), np.argmax(out_of_fold_predictions.data, axis = 1), average = \"weighted\")}')\n",
    "print(f'Test F1 score: {f1_score(mapped(test_data[roles[\"target\"]].values), np.argmax(test_predictions.data, axis = 1), average = \"weighted\")}')"
   ]
  },
  {
   "cell_type": "markdown",
   "metadata": {
    "id": "eDgdzEhcOZ3e"
   },
   "source": [
    "Посмотрите на важность фичей:"
   ]
  },
  {
   "cell_type": "code",
   "execution_count": null,
   "metadata": {
    "colab": {
     "base_uri": "https://localhost:8080/",
     "height": 568
    },
    "id": "NFUuyQ_kOZ3e",
    "outputId": "da7ef060-af4f-448d-e233-694937a9b2ee"
   },
   "outputs": [],
   "source": [
    "%%time\n",
    "\n",
    "# Fast feature importances calculation\n",
    "fast_fi = automl.get_feature_scores('fast')\n",
    "fast_fi.set_index('Feature')['Importance'].plot.bar(figsize = (30, 10), grid = True)"
   ]
  },
  {
   "cell_type": "markdown",
   "metadata": {
    "id": "JnYzuFoUOZ3f"
   },
   "source": [
    "**Выводы:**\n",
    "\n",
    "1. LightAutoML использует комбинацию CatBoost, LightGBM и XGBoost для улучшения точности предсказаний.\n",
    "\n",
    "2. Итоговые предсказания формируются на основе весов, которые определяются в процессе обучения, что повышает устойчивость модели.\n"
   ]
  }
 ],
 "metadata": {
  "colab": {
   "provenance": []
  },
  "kernelspec": {
   "display_name": "Python 3 (ipykernel)",
   "language": "python",
   "name": "python3"
  },
  "language_info": {
   "codemirror_mode": {
    "name": "ipython",
    "version": 3
   },
   "file_extension": ".py",
   "mimetype": "text/x-python",
   "name": "python",
   "nbconvert_exporter": "python",
   "pygments_lexer": "ipython3",
   "version": "3.9.12"
  }
 },
 "nbformat": 4,
 "nbformat_minor": 0
}
