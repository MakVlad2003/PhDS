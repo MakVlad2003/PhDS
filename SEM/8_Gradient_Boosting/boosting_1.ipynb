{
 "cells": [
  {
   "cell_type": "markdown",
   "metadata": {
    "id": "-Qu3pKh7MXtw"
   },
   "source": [
    "# <a href=\"https://thetahat.ru/courses/ph-ds-2024-aut\">Phystech@DataScience</a>\n",
    "## Семинар 8 (Часть 1)\n",
    "\n",
    "**Правила, <font color=\"red\">прочитайте внимательно</font>:**\n",
    "\n",
    "* Выполненную работу нужно отправить телеграм-боту `@miptstats_pds_bot`. Для начала работы с ботом каждый раз отправляйте `/start`. **Работы, присланные иным способом, не принимаются.**\n",
    "* Дедлайн см. в боте. После дедлайна работы не принимаются кроме случаев наличия уважительной причины.\n",
    "* Прислать нужно ноутбук в формате `ipynb`.\n",
    "* Выполнять задание необходимо полностью самостоятельно. **При обнаружении списывания все участники списывания будут сдавать устный зачет.**\n",
    "* Решения, размещенные на каких-либо интернет-ресурсах, не принимаются. Кроме того, публикация решения в открытом доступе может быть приравнена к предоставлении возможности списать.\n",
    "* Для выполнения задания используйте этот ноутбук в качестве основы, ничего не удаляя из него. Можно добавлять необходимое количество ячеек.\n",
    "* Комментарии к решению пишите в markdown-ячейках.\n",
    "* Выполнение задания (ход решения, выводы и пр.) должно быть осуществлено на русском языке.\n",
    "* Если код будет не понятен проверяющему, оценка может быть снижена.\n",
    "* Никакой код из данного задания при проверке запускаться не будет. *Если код студента не выполнен, недописан и т.д., то он не оценивается.*\n",
    "* **Код из рассказанных на занятиях ноутбуков можно использовать без ограничений.**\n",
    "\n",
    "**Правила оформления теоретических задач:**\n",
    "\n",
    "* Решения необходимо прислать одним из следующих способов:\n",
    "  * фотографией в правильной ориентации, где все четко видно, а почерк разборчив,\n",
    "    * отправив ее как файл боту вместе с ноутбуком *или*\n",
    "    * вставив ее в ноутбук посредством `Edit -> Insert Image` (<font color=\"red\">фото, вставленные ссылкой, не принимаются</font>);\n",
    "  * в виде $\\LaTeX$ в markdown-ячейках.\n",
    "* Решения не проверяются, если какое-то требование не выполнено. Особенно внимательно все проверьте в случае выбора второго пункта (вставки фото в ноутбук). <font color=\"red\"><b>Неправильно вставленные фотографии могут не передаться при отправке.</b></font> Для проверки попробуйте переместить `ipynb` в другую папку и открыть его там.\n",
    "* В решениях поясняйте, чем вы пользуетесь, хотя бы кратко. Например, если пользуетесь независимостью, то достаточно подписи вида \"*X и Y незав.*\"\n",
    "* Решение, в котором есть только ответ, и отсутствуют вычисления, оценивается в 0 баллов."
   ]
  },
  {
   "cell_type": "code",
   "execution_count": null,
   "metadata": {
    "id": "NAf0Td8pMXt2"
   },
   "outputs": [],
   "source": [
    "# Bot check\n",
    "\n",
    "# HW_ID: phds_sem8_1\n",
    "# Бот проверит этот ID и предупредит, если случайно сдать что-то не то.\n",
    "\n",
    "# Status: final\n",
    "# Перед отправкой в финальном решении удали \"not\" в строчке выше.\n",
    "# Так бот проверит, что ты отправляешь финальную версию, а не промежуточную.\n",
    "# Никакие значения в этой ячейке не влияют на факт сдачи работы."
   ]
  },
  {
   "cell_type": "code",
   "execution_count": null,
   "metadata": {
    "id": "AOcETDlHd1js"
   },
   "outputs": [],
   "source": [
    "import numpy as np\n",
    "import pandas as pd\n",
    "\n",
    "from tqdm.notebook import tqdm\n",
    "import matplotlib.pyplot as plt\n",
    "import seaborn as sns\n",
    "\n",
    "from sklearn.ensemble import GradientBoostingRegressor\n",
    "from sklearn.ensemble import GradientBoostingClassifier\n",
    "from sklearn.metrics import mean_squared_error as mse\n",
    "from sklearn.tree import plot_tree\n",
    "\n",
    "import scipy\n",
    "\n",
    "sns.set(font_scale=1.8, palette='Set2')"
   ]
  },
  {
   "cell_type": "markdown",
   "metadata": {
    "id": "WEDSdgQO7BRV"
   },
   "source": [
    "# Простая часть"
   ]
  },
  {
   "cell_type": "markdown",
   "metadata": {
    "id": "wn60RylR0VST"
   },
   "source": [
    "Сгенерируем данные."
   ]
  },
  {
   "cell_type": "code",
   "execution_count": null,
   "metadata": {
    "colab": {
     "base_uri": "https://localhost:8080/",
     "height": 510
    },
    "id": "Vrclw0zseOFH",
    "outputId": "5c475fea-39c2-41f0-c50b-a16e50a18a12"
   },
   "outputs": [],
   "source": [
    "np.random.seed(42)\n",
    "X_train = scipy.stats.uniform.rvs(loc=-3, scale = 6, size=(500, 1))\n",
    "y_train = np.ravel(np.sin(X_train)) + scipy.stats.norm.rvs(scale=0.1, size=500)\n",
    "\n",
    "plt.figure(figsize=(10, 8))\n",
    "plt.scatter(X_train, y_train)\n",
    "\n",
    "plt.show()"
   ]
  },
  {
   "cell_type": "code",
   "execution_count": null,
   "metadata": {
    "colab": {
     "base_uri": "https://localhost:8080/"
    },
    "id": "n1nYmG9TzWxL",
    "outputId": "10ebc71d-30fe-4abc-8efc-e5e8d47ed5c6"
   },
   "outputs": [],
   "source": [
    "X_train.shape, y_train.shape"
   ]
  },
  {
   "cell_type": "markdown",
   "metadata": {
    "id": "KGhDU4aCxCFH"
   },
   "source": [
    "Обучите градиентный бустинг `GradientBoostingRegressor` с параметром `learning_rate=1` и 10 деревьями."
   ]
  },
  {
   "cell_type": "code",
   "execution_count": null,
   "metadata": {
    "colab": {
     "base_uri": "https://localhost:8080/",
     "height": 80
    },
    "id": "wsD1AZ45f1jc",
    "outputId": "99bcc480-3481-4cc3-aaf4-249e3bb8e95b"
   },
   "outputs": [],
   "source": [
    "regressor = GradientBoostingRegressor(learning_rate=1, n_estimators=10)\n",
    "regressor.fit(X_train, y_train)"
   ]
  },
  {
   "cell_type": "markdown",
   "metadata": {
    "id": "TuSfWyNYyT5u"
   },
   "source": [
    "Выведите параметры бустинга. Какие деревья используются в бустинге по умолчанию?"
   ]
  },
  {
   "cell_type": "code",
   "execution_count": null,
   "metadata": {
    "colab": {
     "base_uri": "https://localhost:8080/"
    },
    "id": "TIPd1977lPAZ",
    "outputId": "24d480d1-22b9-4140-dc7d-a4a31b01acb4"
   },
   "outputs": [],
   "source": [
    "regressor.get_params()"
   ]
  },
  {
   "cell_type": "markdown",
   "metadata": {
    "id": "_hg9996f51x1"
   },
   "source": [
    "**Ответ:**\n",
    "\n",
    "Из `max_depth = 3` видно, что используются не очень глубокие деревья."
   ]
  },
  {
   "cell_type": "markdown",
   "metadata": {
    "id": "6Gf9WPU2yl8N"
   },
   "source": [
    "Нарисуйте первые 5 деревьев бустинга. Какие они?"
   ]
  },
  {
   "cell_type": "code",
   "execution_count": null,
   "metadata": {
    "colab": {
     "base_uri": "https://localhost:8080/"
    },
    "id": "l--juQLdzinR",
    "outputId": "da877fc1-32b7-42cf-8c68-9e30030eae40"
   },
   "outputs": [],
   "source": [
    "regressor.estimators_.shape"
   ]
  },
  {
   "cell_type": "code",
   "execution_count": null,
   "metadata": {
    "colab": {
     "base_uri": "https://localhost:8080/",
     "height": 1000
    },
    "id": "AybMkIygldkV",
    "outputId": "bb3e4b0f-a9c0-42bf-dfb3-61eee40ae294"
   },
   "outputs": [],
   "source": [
    "from sklearn.tree import plot_tree\n",
    "for elem in regressor.estimators_[:5]:\n",
    "    plt.figure(figsize=(15, 10))\n",
    "    plot_tree(elem[0])"
   ]
  },
  {
   "cell_type": "markdown",
   "metadata": {
    "id": "9iTsJG2b0CQd"
   },
   "source": [
    "**Ответ:**\n",
    "\n",
    "Снова видно, что деревья неглубокие, но почти все полностью разветвлены (глубина составляет 3, а число листьев — 7-8).\n",
    "\n",
    "Разделение на узлах осуществляется по одной характеристике, причём, что интересно, по одной и той же."
   ]
  },
  {
   "cell_type": "markdown",
   "metadata": {
    "id": "YnSWOFTgznq7"
   },
   "source": [
    "У бустинга есть метод `staged_predict`. Он выдает предсказания композиции первых $i$ моделей бустинга. Используя этот метод, нарисуйте для каждого  $i$ два графика:\n",
    "* График предсказаний первых $i$ моделей и истинных ответов;\n",
    "* График ошибки на шаге $i$ и предсказаний $i$-й компоненты бустинга."
   ]
  },
  {
   "cell_type": "code",
   "execution_count": null,
   "metadata": {
    "colab": {
     "base_uri": "https://localhost:8080/",
     "height": 1000
    },
    "id": "OmkRUzU6lqoN",
    "outputId": "c5e9bd9a-b069-4e9c-91c1-160c4d37dcd1"
   },
   "outputs": [],
   "source": [
    "staged = list(regressor.staged_predict(X_train))\n",
    "\n",
    "for i in range(10):\n",
    "    if i == 0:\n",
    "      previous_predict = 0\n",
    "    else:\n",
    "      previous_predict = staged[i-1]\n",
    "\n",
    "    error = y_train - previous_predict\n",
    "    current_step_predict = staged[i] - previous_predict\n",
    "\n",
    "    # построение графиков\n",
    "    fig, axs = plt.subplots(ncols=2, figsize=(18, 6))\n",
    "    axs[0].scatter(X_train, y_train, label='data')\n",
    "    axs[0].scatter(X_train, staged[i], label=f'prediction on {i}-th step')\n",
    "    axs[0].legend()\n",
    "\n",
    "    axs[1].scatter(X_train, y_train - previous_predict, label='error')\n",
    "    axs[1].scatter(X_train, current_step_predict, label=f'{i}-th tree prediction')\n",
    "    axs[1].legend()"
   ]
  },
  {
   "cell_type": "markdown",
   "metadata": {
    "id": "ZpRbo9Oe2QiW"
   },
   "source": [
    "Сделайте вывод. Как выглядят графики на разных шагах? Как обучается бустинг?"
   ]
  },
  {
   "cell_type": "markdown",
   "metadata": {
    "id": "Vz_5BieW2kB9"
   },
   "source": [
    "**Вывод:**\n",
    "\n",
    "На первых шагах ансамбль действует как отдельное дерево, выдавая кусочно-постоянную функцию. С каждым новым шагом предсказания становятся всё более плавными.\n",
    "\n",
    "С каждым шагом ошибка всё сильнее сосредотачивается около нуля, а предсказания каждой следующей модели всё больше напоминают прямую ``y = 0`` с небольшими \"корректировками\" для исправления ошибок.\n",
    "\n",
    "Таким образом, каждая последующая модель бустинга обучается на ошибках предыдущей."
   ]
  }
 ],
 "metadata": {
  "colab": {
   "provenance": []
  },
  "kernelspec": {
   "display_name": "Python 3 (ipykernel)",
   "language": "python",
   "name": "python3"
  },
  "language_info": {
   "codemirror_mode": {
    "name": "ipython",
    "version": 3
   },
   "file_extension": ".py",
   "mimetype": "text/x-python",
   "name": "python",
   "nbconvert_exporter": "python",
   "pygments_lexer": "ipython3",
   "version": "3.9.12"
  }
 },
 "nbformat": 4,
 "nbformat_minor": 0
}
