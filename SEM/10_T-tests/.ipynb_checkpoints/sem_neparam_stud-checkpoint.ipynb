{
 "cells": [
  {
   "cell_type": "markdown",
   "metadata": {
    "id": "UkF5e7f7neAf"
   },
   "source": [
    "# <a href=\"https://thetahat.ru/courses/ph-ds-2024-aut\">Phystech@DataScience</a>\n",
    "## Семинар 10 (Часть 2)\n",
    "\n",
    "**Правила, <font color=\"red\">прочитайте внимательно</font>:**\n",
    "\n",
    "* Выполненную работу нужно отправить телеграм-боту `@miptstats_pds_bot`. Для начала работы с ботом каждый раз отправляйте `/start`. **Работы, присланные иным способом, не принимаются.**\n",
    "* Дедлайн см. в боте. После дедлайна работы не принимаются кроме случаев наличия уважительной причины.\n",
    "* Прислать нужно ноутбук в формате `ipynb`.\n",
    "* Выполнять задание необходимо полностью самостоятельно. **При обнаружении списывания все участники списывания будут сдавать устный зачет.**\n",
    "* Решения, размещенные на каких-либо интернет-ресурсах, не принимаются. Кроме того, публикация решения в открытом доступе может быть приравнена к предоставлении возможности списать.\n",
    "* Для выполнения задания используйте этот ноутбук в качестве основы, ничего не удаляя из него. Можно добавлять необходимое количество ячеек.\n",
    "* Комментарии к решению пишите в markdown-ячейках.\n",
    "* Выполнение задания (ход решения, выводы и пр.) должно быть осуществлено на русском языке.\n",
    "* Если код будет не понятен проверяющему, оценка может быть снижена.\n",
    "* Никакой код из данного задания при проверке запускаться не будет. *Если код студента не выполнен, недописан и т.д., то он не оценивается.*\n",
    "* **Код из рассказанных на занятиях ноутбуков можно использовать без ограничений.**\n",
    "\n",
    "**Правила оформления теоретических задач:**\n",
    "\n",
    "* Решения необходимо прислать одним из следующих способов:\n",
    "  * фотографией в правильной ориентации, где все четко видно, а почерк разборчив,\n",
    "    * отправив ее как файл боту вместе с ноутбуком *или*\n",
    "    * вставив ее в ноутбук посредством `Edit -> Insert Image` (<font color=\"red\">фото, вставленные ссылкой, не принимаются</font>);\n",
    "  * в виде $\\LaTeX$ в markdown-ячейках.\n",
    "* Решения не проверяются, если какое-то требование не выполнено. Особенно внимательно все проверьте в случае выбора второго пункта (вставки фото в ноутбук). <font color=\"red\"><b>Неправильно вставленные фотографии могут не передаться при отправке.</b></font> Для проверки попробуйте переместить `ipynb` в другую папку и открыть его там.\n",
    "* В решениях поясняйте, чем вы пользуетесь, хотя бы кратко. Например, если пользуетесь независимостью, то достаточно подписи вида \"*X и Y незав.*\"\n",
    "* Решение, в котором есть только ответ, и отсутствуют вычисления, оценивается в 0 баллов.\n"
   ]
  },
  {
   "cell_type": "code",
   "execution_count": null,
   "metadata": {
    "id": "z8O4Li7eneAi"
   },
   "outputs": [],
   "source": [
    "# Bot check\n",
    "\n",
    "# HW_ID: phds_sem10\n",
    "# Бот проверит этот ID и предупредит, если случайно сдать что-то не то.\n",
    "\n",
    "# Status: final\n",
    "# Перед отправкой в финальном решении удали \"not\" в строчке выше.\n",
    "# Так бот проверит, что ты отправляешь финальную версию, а не промежуточную.\n",
    "# Никакие значения в этой ячейке не влияют на факт сдачи работы."
   ]
  },
  {
   "cell_type": "code",
   "execution_count": null,
   "metadata": {
    "id": "FJKCy1F70QRj"
   },
   "outputs": [],
   "source": [
    "import numpy as np\n",
    "import pandas as pd\n",
    "import scipy.stats as sps\n",
    "from statsmodels.sandbox.stats.multicomp import multipletests\n",
    "from copy import deepcopy\n",
    "\n",
    "import matplotlib.pyplot as plt\n",
    "%matplotlib inline\n",
    "\n",
    "import seaborn as sns\n",
    "sns.set(font_scale=1.3, palette='Set2')"
   ]
  },
  {
   "cell_type": "markdown",
   "metadata": {
    "id": "4SJXCdsIneAv"
   },
   "source": [
    "## Реализации непараметрических критериев в Python"
   ]
  },
  {
   "cell_type": "markdown",
   "metadata": {
    "id": "g9pKhbiCrFVv"
   },
   "source": [
    "### Критерий Смирнова <font color=\"red\">(независимые выборки)</font>\n",
    "\n",
    "$X_1, ..., X_n$ и $Y_1, ..., Y_m$ &mdash; независимые выборки, имеющие непрерывные функции распределения $F$ и $G$ соответственно.\n",
    "\n",
    "$\\mathsf{H}_0\\colon F = G$\n",
    "\n",
    "$\\mathsf{H}_1\\colon F \\not= G$\n",
    "\n",
    "Альтернатива двусторонняя, б*о*льшие значения статистики являются более экстремальными.\n",
    "\n",
    "<a href=\"https://docs.scipy.org/doc/scipy/reference/generated/scipy.stats.ks_2samp.html#scipy.stats.ks_2samp\">`ks_2samp`</a>`(data1, data2): statistic, pvalue`\n",
    "\n",
    "* `data1`, `data2` &mdash; две выборки\n",
    "\n",
    "---\n",
    "\n",
    "Определим несколько вспомогательных функций для отрисовки графиков"
   ]
  },
  {
   "cell_type": "code",
   "execution_count": null,
   "metadata": {
    "id": "qZDXlfkmrFVw"
   },
   "outputs": [],
   "source": [
    "def ecdf(sample):\n",
    "    \"\"\"\n",
    "    Вычисляет точки по X и по Y для построения ЭФР по выборке sample.\n",
    "    Учитываются как горизонтальные, так и вертикальные линии.\n",
    "    \"\"\"\n",
    "\n",
    "    # дублируем выборку и добавляем значения слева и справа\n",
    "    x = deepcopy(list(sample)*2 + [sample.min()-0.5, sample.max()+0.5])\n",
    "    # каждое значение два раза\n",
    "    y = deepcopy(list(np.linspace(0, 1, len(sample)+1)) * 2)\n",
    "\n",
    "    return np.sort(x), np.sort(y)\n",
    "\n",
    "\n",
    "def max_diff(x1, x2, y1, y2):\n",
    "    \"\"\" Вычисляет, где достигается максимальная разница между двумя ЭФР. \"\"\"\n",
    "\n",
    "    # объединим наборы и отсортируем по иксу\n",
    "    x_all, y_all = np.hstack([x1, x2]), np.hstack([y1, y2])\n",
    "    order = np.argsort(x_all)\n",
    "    x_all, y_all = x_all[order], y_all[order]\n",
    "\n",
    "    # найдем индекс наибольшейарзницы по Y между соседними\n",
    "    i = np.argmax(np.abs(y_all[1:] - y_all[:-1]))\n",
    "\n",
    "    # точка наибольшей разности и значения  в ней\n",
    "    return (x_all[i+1] + x_all[i]) / 2, y_all[i], y_all[i+1]"
   ]
  },
  {
   "cell_type": "code",
   "execution_count": null,
   "metadata": {
    "id": "SITF9fxJrFVx"
   },
   "outputs": [],
   "source": [
    "def apply_smirnov(distr1, distr2, size1=100, size2=100):\n",
    "    \"\"\"\n",
    "    Генерирует выборки из заданных распределений,\n",
    "    строит графики теоретических и эмпирических функций распределения,\n",
    "    применяет критерий Смирнова.\n",
    "\n",
    "    distr1, distr2 -- распределения для генерации выборок\n",
    "    size1, size2 -- размеры выборок\n",
    "    \"\"\"\n",
    "\n",
    "    # генерируем выборки\n",
    "    sample_1 = distr1.rvs(size=size1)\n",
    "    sample_2 = distr2.rvs(size=size2)\n",
    "\n",
    "    # определяем границы графика\n",
    "    x_min = min(distr1.ppf(0.01), distr2.ppf(0.01))\n",
    "    x_max = max(distr1.ppf(0.99), distr2.ppf(0.99))\n",
    "    grid = np.linspace(x_min, x_max, 200)\n",
    "\n",
    "    plt.figure(figsize=(16, 5))\n",
    "\n",
    "    # График истинных функций распределения\n",
    "    plt.subplot(121)\n",
    "    plt.plot(grid, distr1.cdf(grid), lw=3)\n",
    "    plt.plot(grid, distr2.cdf(grid), lw=3)\n",
    "    plt.title('CDF')\n",
    "\n",
    "    # График эмпирических функций распределения\n",
    "    plt.subplot(122)\n",
    "    x1, y1 = ecdf(sample_1)\n",
    "    plt.plot(x1, y1, lw=3)\n",
    "    x2, y2 = ecdf(sample_2)\n",
    "    plt.plot(x2, y2, lw=3)\n",
    "    plt.vlines(*max_diff(x1, x2, y1, y2), color='gray')\n",
    "    plt.title('ECDF')\n",
    "\n",
    "    # Применяем критерий Смирнова\n",
    "    print(sps.ks_2samp(sample_1, sample_2))"
   ]
  },
  {
   "cell_type": "markdown",
   "metadata": {
    "id": "qzGVfdHjrFVx"
   },
   "source": [
    "Сравним нормальные с разными средними"
   ]
  },
  {
   "cell_type": "code",
   "execution_count": null,
   "metadata": {
    "colab": {
     "base_uri": "https://localhost:8080/",
     "height": 495
    },
    "id": "RDL6Eu8lrFVx",
    "outputId": "fa8af060-7e7c-4419-d847-55bdcad1c04d"
   },
   "outputs": [],
   "source": [
    "apply_smirnov(sps.norm(loc=0), sps.norm(loc=1))"
   ]
  },
  {
   "cell_type": "markdown",
   "metadata": {
    "id": "TO8uG91-rFVy"
   },
   "source": [
    "Сравним нормальные с разными дисперсиями и разными размерами выборок"
   ]
  },
  {
   "cell_type": "code",
   "execution_count": null,
   "metadata": {
    "colab": {
     "base_uri": "https://localhost:8080/",
     "height": 495
    },
    "id": "qOcaGhNHrFVz",
    "outputId": "fb62fc73-6cc4-4b8e-c537-1b44abc78806"
   },
   "outputs": [],
   "source": [
    "apply_smirnov(sps.norm(loc=0, scale=1), sps.norm(loc=0, scale=2),\n",
    "              size1=30, size2=500)"
   ]
  },
  {
   "cell_type": "markdown",
   "metadata": {
    "id": "8RXz1AcarFVz"
   },
   "source": [
    "Если увеличить размер выборки"
   ]
  },
  {
   "cell_type": "code",
   "execution_count": null,
   "metadata": {
    "colab": {
     "base_uri": "https://localhost:8080/",
     "height": 495
    },
    "id": "WQ9i3PKwrFVz",
    "outputId": "e0467116-66dc-402a-c352-94182f55088c"
   },
   "outputs": [],
   "source": [
    "apply_smirnov(sps.norm(loc=0, scale=1), sps.norm(loc=0, scale=2),\n",
    "              size1=500, size2=500)"
   ]
  },
  {
   "cell_type": "markdown",
   "metadata": {
    "id": "nCx4LJsOrFVz"
   },
   "source": [
    "Маленькое отклонение при очень больших выборках"
   ]
  },
  {
   "cell_type": "code",
   "execution_count": null,
   "metadata": {
    "colab": {
     "base_uri": "https://localhost:8080/",
     "height": 495
    },
    "id": "H46ZdvlYrFV0",
    "outputId": "d3c19f3f-c80f-4d2e-8990-650a651787e7"
   },
   "outputs": [],
   "source": [
    "apply_smirnov(sps.norm, sps.norm(loc=0.02),\n",
    "              size1=50000, size2=50000)"
   ]
  },
  {
   "cell_type": "markdown",
   "metadata": {
    "id": "KovRiBRHrFV0"
   },
   "source": [
    "Сравним нормальное и Коши"
   ]
  },
  {
   "cell_type": "code",
   "execution_count": null,
   "metadata": {
    "colab": {
     "base_uri": "https://localhost:8080/",
     "height": 495
    },
    "id": "3Z4CPPNArFV0",
    "outputId": "fc8e7858-dfb3-455f-db6f-84a7ba727007"
   },
   "outputs": [],
   "source": [
    "apply_smirnov(sps.norm, sps.cauchy)"
   ]
  },
  {
   "cell_type": "markdown",
   "metadata": {
    "id": "U5gMXalirFV0"
   },
   "source": [
    "Сравним нормальное и Лапласса"
   ]
  },
  {
   "cell_type": "code",
   "execution_count": null,
   "metadata": {
    "colab": {
     "base_uri": "https://localhost:8080/",
     "height": 495
    },
    "id": "VzwSquYwrFV0",
    "outputId": "49915023-816c-421f-828e-a166047986b0"
   },
   "outputs": [],
   "source": [
    "apply_smirnov(sps.norm, sps.laplace)"
   ]
  },
  {
   "cell_type": "markdown",
   "metadata": {
    "id": "0UVvQwCGrFV0"
   },
   "source": [
    "### Критерий ранговых сумм Уилкоксона-Манна-Уитни <font color=\"red\">(независимые выборки)</font>\n",
    "\n",
    "$X_1, ..., X_n$ и $Y_1, ..., Y_m$ &mdash; независимые выборки, имеющие непрерывные функции распределения $F$ и $G$ соответственно.\n",
    "\n",
    "------\n",
    "\n",
    "* **\"Критерий Уилкоксона\"**\n",
    "\n",
    "$\\mathsf{H}_0\\colon F = G$\n",
    "\n",
    "$\\mathsf{H}_1\\colon \\{F \\leqslant G \\text{ или } F \\geqslant G\\}$, причем это не значит, что $\\mathsf{H}_1\\colon F \\not= G$.\n",
    "\n",
    "Используется нормированная версия статистики $V = S_1 + ... + S_m$ &mdash; сумма рангов наблюдений $Y_j$ по объединенной выборке.\n",
    "\n",
    "<a href=\"https://docs.scipy.org/doc/scipy/reference/generated/scipy.stats.ranksums.html#scipy.stats.ranksums\">`ranksums`</a>`(data1, data2): statistic, pvalue`\n",
    "\n",
    "* `data1`, `data2` &mdash; две выборки.\n",
    "\n",
    "------\n",
    "\n",
    "* **\"Критерий Манна-Уитни\"**\n",
    "\n",
    "$\\mathsf{H}_0\\colon F = G$\n",
    "\n",
    "$\\mathsf{H}_1\\colon F \\leqslant G$ или $\\mathsf{H}_1\\colon F \\geqslant G$ или $\\mathsf{H}_1\\colon \\{F \\leqslant G \\text{ или } F \\geqslant G\\}$\n",
    "\n",
    "Используется статистика $U = \\sum\\limits_{i=1}^n \\sum\\limits_{j=1}^m I\\{X_i < Y_j\\}$, причем $U = V - \\frac{m(m+1)}{2}$.\n",
    "\n",
    "<a href=\"https://docs.scipy.org/doc/scipy/reference/generated/scipy.stats.mannwhitneyu.html#scipy.stats.mannwhitneyu\">`mannwhitneyu`</a>`(data1, data2, use_continuity=True, alternative=None): statistic, pvalue`\n",
    "\n",
    "* `data1`, `data2` &mdash; две выборки;\n",
    "\n",
    "* `use_continuity` &mdash; использовать ли поправку 0.5 на непрерывность;\n",
    "* `alternative='less'` &mdash; используется альтернатива $\\mathsf{H}_1\\colon F \\leqslant G$;\n",
    "* `alternative='greater'` &mdash; используется альтернатива $\\mathsf{H}_1\\colon F \\geqslant G$;\n",
    "* `alternative='two-sided'` &mdash; используется альтернатива $\\mathsf{H}_1\\colon \\{F \\leqslant G \\text{ или } F \\geqslant G\\}$, причем эквивалентен `ranksums`.\n",
    "\n",
    "---\n",
    "\n",
    "Примеры"
   ]
  },
  {
   "cell_type": "code",
   "execution_count": null,
   "metadata": {
    "id": "I32xOLOarFV0"
   },
   "outputs": [],
   "source": [
    "def print_tests(sample_1, sample_2):\n",
    "    print(sps.ranksums(sample_1, sample_2))\n",
    "    print('two-sided:', sps.mannwhitneyu(sample_1, sample_2, alternative='two-sided'))\n",
    "    print('less:     ', sps.mannwhitneyu(sample_1, sample_2, alternative='less'))\n",
    "    print('greater:  ', sps.mannwhitneyu(sample_1, sample_2, alternative='greater'))"
   ]
  },
  {
   "cell_type": "code",
   "execution_count": null,
   "metadata": {
    "colab": {
     "base_uri": "https://localhost:8080/"
    },
    "id": "J-Gjf6a3rFV1",
    "outputId": "467fdfe2-7105-4bfc-897e-d585ac096ccc"
   },
   "outputs": [],
   "source": [
    "print_tests(sps.norm.rvs(size=100), sps.norm.rvs(size=100))"
   ]
  },
  {
   "cell_type": "code",
   "execution_count": null,
   "metadata": {
    "colab": {
     "base_uri": "https://localhost:8080/"
    },
    "id": "FMrh9AfyrFV1",
    "outputId": "2d286fd9-811c-423a-c683-a28997276e06"
   },
   "outputs": [],
   "source": [
    "print_tests(sps.norm.rvs(size=100), sps.norm(loc=1).rvs(size=100))"
   ]
  },
  {
   "cell_type": "code",
   "execution_count": null,
   "metadata": {
    "colab": {
     "base_uri": "https://localhost:8080/"
    },
    "id": "KYFJMV_prFV1",
    "outputId": "b5ace1a6-18aa-4972-e90c-c3c2a32522ec"
   },
   "outputs": [],
   "source": [
    "print_tests(sps.norm.rvs(size=100), sps.norm(loc=1, scale=10).rvs(size=100))"
   ]
  },
  {
   "cell_type": "code",
   "execution_count": null,
   "metadata": {
    "colab": {
     "base_uri": "https://localhost:8080/"
    },
    "id": "XiiWEp4xrFV1",
    "outputId": "393a4cc0-c8c9-473b-994a-25647a0a9773"
   },
   "outputs": [],
   "source": [
    "print_tests(sps.cauchy.rvs(size=100), sps.cauchy(loc=1).rvs(size=100))"
   ]
  },
  {
   "cell_type": "markdown",
   "metadata": {
    "id": "ggqFzxZCrFV1"
   },
   "source": [
    "### Критерий ранговых сумм Уилкоксона <font color=\"red\">(парные выборки)</font>\n",
    "\n",
    "$X_1, ..., X_n$ и $Y_1, ..., Y_n$ &mdash; связные выборки, имеющие непрерывные функции распределения $F$ и $G$ соответственно.\n",
    "\n",
    "Предполагается, что $Z_i = Y_i - X_i = \\theta + \\varepsilon_i$, причем $\\varepsilon_i$ независимы одинаково распределены, причем распределение непрерывное симметричное относительно нуля.\n",
    "\n",
    "Проверяются гипотезы\n",
    "\n",
    "$\\mathsf{H}_0\\colon \\theta = 0$,\n",
    "\n",
    "$\\mathsf{H}_1\\colon \\theta \\not= 0$.\n",
    "\n",
    "<a href=\"https://docs.scipy.org/doc/scipy/reference/generated/scipy.stats.wilcoxon.html#scipy.stats.wilcoxon\">`wilcoxon`</a>`(x, y=None, zero_method='wilcox'): statistic, pvalue`\n",
    "\n",
    "* `x`, `y` &mdash; выборки. Если `y=None`, то в `x` разности;\n",
    "* `zero_method='pratt'` &mdash; нулевые разности остаются (более консервативен);\n",
    "* `zero_method='wilcox'` &mdash; нулевые разности выкивываются;\n",
    "* `zero_method='zsplit'` &mdash; нулевые разности распределяются между положительными и отрицательными рангами.\n",
    "\n",
    "---\n",
    "\n",
    "Примеры:"
   ]
  },
  {
   "cell_type": "code",
   "execution_count": null,
   "metadata": {
    "colab": {
     "base_uri": "https://localhost:8080/"
    },
    "id": "Z2MBiCg2rFV1",
    "outputId": "feb89c01-580a-4109-e5e2-ea52a877f2ff"
   },
   "outputs": [],
   "source": [
    "sample_1 = sps.norm(loc=0).rvs(size=100)\n",
    "sample_2 = sample_1 + sps.norm(loc=0, scale=0.5).rvs(size=100)\n",
    "sps.wilcoxon(sample_1, sample_2)"
   ]
  },
  {
   "cell_type": "code",
   "execution_count": null,
   "metadata": {
    "colab": {
     "base_uri": "https://localhost:8080/"
    },
    "id": "siHfO1iWrFV1",
    "outputId": "e7fd65ab-3233-48b0-f831-cda51cb0ed91"
   },
   "outputs": [],
   "source": [
    "sample_1 = sps.norm(loc=0).rvs(size=100)\n",
    "sample_2 = sample_1 + sps.norm(loc=0.5, scale=0.5).rvs(size=100)\n",
    "sps.wilcoxon(sample_1, sample_2)"
   ]
  },
  {
   "cell_type": "code",
   "execution_count": null,
   "metadata": {
    "colab": {
     "base_uri": "https://localhost:8080/"
    },
    "id": "I2Kbm87KrFV1",
    "outputId": "2d0f4e99-9ac3-4bf6-cb79-2e15a5524a1f"
   },
   "outputs": [],
   "source": [
    "sample_1 = sps.norm(loc=0).rvs(size=100)\n",
    "sample_2 = sample_1 + sps.norm(loc=-0.5, scale=0.5).rvs(size=100)\n",
    "sps.wilcoxon(sample_1, sample_2)"
   ]
  },
  {
   "cell_type": "markdown",
   "metadata": {
    "id": "Qa90SzMsrFV1"
   },
   "source": [
    "Времена реакции (Лагутин)"
   ]
  },
  {
   "cell_type": "code",
   "execution_count": null,
   "metadata": {
    "colab": {
     "base_uri": "https://localhost:8080/"
    },
    "id": "dmnfLkk_rFV2",
    "outputId": "131a139c-e490-4bf1-a281-0542b99d5489"
   },
   "outputs": [],
   "source": [
    "sample_1 = [176, 163, 152, 155, 156, 178, 160, 164, 169, 155, 122, 144]\n",
    "sample_2 = [168, 215, 172, 200, 191, 197, 183, 174, 176, 155, 115, 163]\n",
    "print('wilcox:', sps.wilcoxon(sample_1, sample_2))\n",
    "print('pratt: ', sps.wilcoxon(sample_1, sample_2, zero_method='pratt'))\n",
    "print('zsplit:', sps.wilcoxon(sample_1, sample_2, zero_method='zsplit'))"
   ]
  },
  {
   "cell_type": "markdown",
   "metadata": {
    "id": "Zp2sFNqV0QRo"
   },
   "source": [
    "## Отток клиентов телекома\n",
    "\n",
    "Загрузим <a href=\"https://github.com/Yorko/mlcourse_open/blob/master/data/telecom_churn.csv\">данные</a> о клиентах оператора связи, которые содержат некоторую информацию тарифном плане клиента, статистику его использования услуг связи, а также его текущий статус `Churn` &mdash; ушел или нет."
   ]
  },
  {
   "cell_type": "code",
   "execution_count": null,
   "metadata": {
    "colab": {
     "base_uri": "https://localhost:8080/",
     "height": 241
    },
    "id": "oc9KBl5H0QRq",
    "outputId": "c8bf1002-e4b9-462f-e39e-6004caafc7ff"
   },
   "outputs": [],
   "source": [
    "telecom = pd.read_csv('./telecom_churn.csv')\n",
    "telecom.head()"
   ]
  },
  {
   "cell_type": "markdown",
   "metadata": {
    "id": "AlHwB7Tv0QRr"
   },
   "source": [
    "### Одинаково ли распределено количество минут днем?"
   ]
  },
  {
   "cell_type": "code",
   "execution_count": null,
   "metadata": {
    "colab": {
     "base_uri": "https://localhost:8080/",
     "height": 504
    },
    "id": "CwSThc5a0QRs",
    "outputId": "767e349c-bce3-41f9-a7fa-dedebff383e6"
   },
   "outputs": [],
   "source": [
    "plt.figure(figsize=(12, 5))\n",
    "sns.kdeplot(telecom[telecom['Churn'] == False]['Total day minutes'],\n",
    "            label='False', lw=3)\n",
    "sns.kdeplot(telecom[telecom['Churn'] == True]['Total day minutes'],\n",
    "            label='True', lw=3)\n",
    "plt.legend(title='Churn')\n",
    "\n",
    "plt.title('Ядерная оценка плотности при разных фиксированных значениях Churn')\n",
    "plt.ylabel('Плотность')\n",
    "plt.xlabel('Признак Total day minutes')\n",
    "\n",
    "plt.show()"
   ]
  },
  {
   "cell_type": "markdown",
   "metadata": {
    "id": "rLQCW0mI0QRs"
   },
   "source": [
    "Проверьте гипотезу однородности.\n",
    "\n",
    "Какой критерий вы бы выбрали? Какую альтернативу стоит использовать?"
   ]
  },
  {
   "cell_type": "markdown",
   "metadata": {
    "id": "vmNBKGA0mbtP"
   },
   "source": [
    "**Ответ:**\n",
    "\n",
    "Churn здесь выступает как взаимоисключающий параметр. Мы считаем, что разные люди являются независимыми, поэтому можно применить тест Манна-Уитни. Для альтернативной гипотезы выберем двусторонний подход, поскольку в этом случае уверенности в выборе односторонней нет."
   ]
  },
  {
   "cell_type": "code",
   "execution_count": null,
   "metadata": {
    "colab": {
     "base_uri": "https://localhost:8080/"
    },
    "id": "d1jpd4o10QRt",
    "outputId": "92cf2d33-5943-4f21-e4dd-23bf6a12b503"
   },
   "outputs": [],
   "source": [
    "x = telecom[telecom['Churn'] == False]['Total day minutes']\n",
    "y = telecom[telecom['Churn'] == True]['Total day minutes']\n",
    "\n",
    "sps.mannwhitneyu(x, y, alternative='two-sided')"
   ]
  },
  {
   "cell_type": "markdown",
   "metadata": {
    "id": "eeTROrnqbgGY"
   },
   "source": [
    "Для дальнейшего использования реализуем функцию оценки сдвига и функцию доверительного интервала оценки.\n",
    "\n",
    "Учтите, что по сравнению с формулами для доверительного интервала, из индексов надо вычесть 1, поскольку используется нумерация с нуля."
   ]
  },
  {
   "cell_type": "code",
   "execution_count": null,
   "metadata": {
    "id": "_oJOoplgbejc"
   },
   "outputs": [],
   "source": [
    "def shift(x, y):\n",
    "    '''Вычисление оценки параметра сдвига из критерия ранговых сумм Уилкоксона'''\n",
    "    shift = np.median([y[j] - x[i] for i in range(len(x)) for j in range(len(y))])\n",
    "    return shift\n",
    "\n",
    "def confidence_interval(x, y, alpha=0.05):\n",
    "    '''Вычисление границ доверительного интервала параметра сдвига из критерия ранговых сумм Уилкоксона'''\n",
    "    W = np.sort(np.array([y[j] - x[i] for i in range(len(x)) for j in range(len(y))]))\n",
    "    k_a = int(len(x) * len(y) / 2 - 1/2 - sps.norm.ppf(1 - alpha) * np.sqrt(len(x) * len(y)*(len(x) + len(y) + 1) / 12))\n",
    "    left, right = W[k_a + 1], W[len(x) * len(y) - k_a]\n",
    "    return left, right"
   ]
  },
  {
   "cell_type": "markdown",
   "metadata": {
    "id": "3p-1bffP0QRv"
   },
   "source": [
    "Оценим сдвиг"
   ]
  },
  {
   "cell_type": "code",
   "execution_count": null,
   "metadata": {
    "colab": {
     "base_uri": "https://localhost:8080/"
    },
    "id": "H45gMZ3f0QRx",
    "outputId": "98ab2750-d4f7-45c4-c124-e51610b0ce23"
   },
   "outputs": [],
   "source": [
    "shift(x.values, y.values)"
   ]
  },
  {
   "cell_type": "markdown",
   "metadata": {
    "id": "NG3l0SJ40QR0"
   },
   "source": [
    "Получите доверительный интервал величины сдвига."
   ]
  },
  {
   "cell_type": "code",
   "execution_count": null,
   "metadata": {
    "colab": {
     "base_uri": "https://localhost:8080/"
    },
    "id": "Ey4Dj2NG0QR0",
    "outputId": "0437a4a2-3ba3-4997-86dc-b0133b32d499"
   },
   "outputs": [],
   "source": [
    "confidence_interval(x.values, y.values)"
   ]
  },
  {
   "cell_type": "markdown",
   "metadata": {
    "id": "6v8sBFHI0QR1"
   },
   "source": [
    "### Одинаково ли распределено количество минут ночью?"
   ]
  },
  {
   "cell_type": "code",
   "execution_count": null,
   "metadata": {
    "colab": {
     "base_uri": "https://localhost:8080/",
     "height": 504
    },
    "id": "s9Thuygf0QR1",
    "outputId": "49dad565-6634-4ff4-9122-2df2662b2e89"
   },
   "outputs": [],
   "source": [
    "plt.figure(figsize=(12, 5))\n",
    "sns.kdeplot(telecom[telecom['Churn'] == False]['Total night minutes'],\n",
    "            label='False', lw=3)\n",
    "sns.kdeplot(telecom[telecom['Churn'] == True]['Total night minutes'],\n",
    "            label='True', lw=3)\n",
    "plt.xlabel('Признак Total day minutes')\n",
    "plt.legend(title='Churn')\n",
    "\n",
    "plt.title('Ядерная оценка плотности для разных значений Churn')\n",
    "plt.ylabel('Плотность')\n",
    "\n",
    "plt.show()"
   ]
  },
  {
   "cell_type": "markdown",
   "metadata": {
    "id": "fRYuydZ70QR2"
   },
   "source": [
    "Проверьте с помощью критерия.\n",
    "\n",
    "**Замечание:** Здесь распределение False, по-видимому, \"меньше\" распределения True, поэтому для альтернативной гипотезы выберем вариант \"less\"."
   ]
  },
  {
   "cell_type": "code",
   "execution_count": null,
   "metadata": {
    "colab": {
     "base_uri": "https://localhost:8080/"
    },
    "id": "UQFN1L1J0QR2",
    "outputId": "3f3f10f3-e79b-46af-9068-33bfe91c2ccc"
   },
   "outputs": [],
   "source": [
    "x = telecom[telecom['Churn'] == False]['Total night minutes']\n",
    "y = telecom[telecom['Churn'] == True]['Total night minutes']\n",
    "\n",
    "sps.mannwhitneyu(x, y, alternative='less')"
   ]
  },
  {
   "cell_type": "markdown",
   "metadata": {
    "id": "IzoVKSaL0QR3"
   },
   "source": [
    "Получим оценку сдвига."
   ]
  },
  {
   "cell_type": "code",
   "execution_count": null,
   "metadata": {
    "colab": {
     "base_uri": "https://localhost:8080/"
    },
    "id": "228Wl9yI0QR3",
    "outputId": "29d0823d-feb5-40ae-9ac6-f323eadd1979"
   },
   "outputs": [],
   "source": [
    "shift(x.values, y.values)"
   ]
  },
  {
   "cell_type": "markdown",
   "metadata": {
    "id": "clBMKVCu0QR4"
   },
   "source": [
    "Получим доверительный интервал."
   ]
  },
  {
   "cell_type": "code",
   "execution_count": null,
   "metadata": {
    "colab": {
     "base_uri": "https://localhost:8080/"
    },
    "id": "XF_-lDNb0QR4",
    "outputId": "01441f54-dfad-40cb-ee80-f251246e4c32"
   },
   "outputs": [],
   "source": [
    "confidence_interval(x.values, y.values)"
   ]
  },
  {
   "cell_type": "markdown",
   "metadata": {
    "id": "AWg3vT81m_59"
   },
   "source": [
    "Что вы можете сказать о проверке критерием, об оценке сдвига и о её доверительном интервале?"
   ]
  },
  {
   "cell_type": "markdown",
   "metadata": {
    "id": "QP_kCQ94nE4r"
   },
   "source": [
    "**Ответ:**\n",
    "\n",
    "Здесь p-value меньше 0.05, но не настолько мало, чтобы говорить с полной уверенностью. Сдвиг оказался незначительным, и левая граница доверительного интервала почти касается нуля.\n",
    "\n",
    "В целом, можно сказать, что распределения различаются, но довольно неуверенно."
   ]
  },
  {
   "cell_type": "markdown",
   "metadata": {
    "id": "H4qI2s8O0QR5"
   },
   "source": [
    "Распределения по графику похожи на нормальные, проверьте эту гипотезу. При прохождении критерия проверьте параметрическим критерием однородность выборок. Нужно ли использовать что-то ещё при проверке?"
   ]
  },
  {
   "cell_type": "code",
   "execution_count": null,
   "metadata": {
    "colab": {
     "base_uri": "https://localhost:8080/"
    },
    "id": "XVqqrdjq0QR6",
    "outputId": "3ecf315d-4f91-48f4-e1cc-9fe830dcd863"
   },
   "outputs": [],
   "source": [
    "# Тест колмогорова - Смирнова\n",
    "\n",
    "print(sps.kstest(x, 'norm'))\n",
    "print(sps.kstest(y, 'norm'))"
   ]
  },
  {
   "cell_type": "markdown",
   "metadata": {
    "id": "tNgbf2BwGEoQ"
   },
   "source": [
    "**Вывод:**\n",
    "\n",
    "Не очень..."
   ]
  },
  {
   "cell_type": "code",
   "execution_count": null,
   "metadata": {
    "colab": {
     "base_uri": "https://localhost:8080/"
    },
    "id": "ir0CjXics6GP",
    "outputId": "7622ce5d-b54e-451a-ce6c-b349a67aa867"
   },
   "outputs": [],
   "source": [
    "print(sps.shapiro(x))\n",
    "print(sps.shapiro(y))"
   ]
  },
  {
   "cell_type": "markdown",
   "metadata": {
    "id": "AkrPwURus_yX"
   },
   "source": [
    "Хорошо.\n",
    "\n",
    "Поверим Шапиро.\n",
    "\n",
    "Проверим t-testом на равенство среднего."
   ]
  },
  {
   "cell_type": "code",
   "execution_count": null,
   "metadata": {
    "colab": {
     "base_uri": "https://localhost:8080/"
    },
    "id": "Q_kWd-H2neBS",
    "outputId": "66b36950-5ff6-48ed-abfd-c663b42ed206"
   },
   "outputs": [],
   "source": [
    "sps.ttest_ind(x, y)"
   ]
  },
  {
   "cell_type": "markdown",
   "metadata": {
    "id": "ApfTqmmntJ2i"
   },
   "source": [
    "Похоже, мы можем отвергнуть гипотезу о равенстве средних значений...\n",
    "\n",
    "Однако перед t-тестом мы проверяли каждую выборку на нормальность, и каждая из этих проверок имеет собственное p-value. Поэтому здесь необходимо внести поправку на p-value."
   ]
  },
  {
   "cell_type": "code",
   "execution_count": null,
   "metadata": {
    "colab": {
     "base_uri": "https://localhost:8080/"
    },
    "id": "6BD2fAtitI-1",
    "outputId": "aa64d035-ee9f-4a46-92a7-cbbd9c1ffb6f"
   },
   "outputs": [],
   "source": [
    "multipletests([0.673305869102478, 0.646812915802002, 0.040466484637911374], method='holm')"
   ]
  },
  {
   "cell_type": "markdown",
   "metadata": {
    "id": "9m2y0x8QtVnv"
   },
   "source": [
    "С учётом поправки на множественное тестирование, мы не можем отвергнуть нулевую гипотезу и утверждать, что распределения различаются."
   ]
  }
 ],
 "metadata": {
  "colab": {
   "provenance": []
  },
  "kernelspec": {
   "display_name": "Python 3 (ipykernel)",
   "language": "python",
   "name": "python3"
  },
  "language_info": {
   "codemirror_mode": {
    "name": "ipython",
    "version": 3
   },
   "file_extension": ".py",
   "mimetype": "text/x-python",
   "name": "python",
   "nbconvert_exporter": "python",
   "pygments_lexer": "ipython3",
   "version": "3.10.9"
  }
 },
 "nbformat": 4,
 "nbformat_minor": 0
}
