{
 "cells": [
  {
   "cell_type": "markdown",
   "metadata": {
    "id": "T1p8J6NvnbPo"
   },
   "source": [
    "# <a href=\"https://thetahat.ru/courses/ph-ds-2024-aut\">Phystech@DataScience</a>\n",
    "## Семинар 10 (Часть 1)\n",
    "\n",
    "**Правила, <font color=\"red\">прочитайте внимательно</font>:**\n",
    "\n",
    "* Выполненную работу нужно отправить телеграм-боту `@miptstats_pds_bot`. Для начала работы с ботом каждый раз отправляйте `/start`. **Работы, присланные иным способом, не принимаются.**\n",
    "* Дедлайн см. в боте. После дедлайна работы не принимаются кроме случаев наличия уважительной причины.\n",
    "* Прислать нужно ноутбук в формате `ipynb`.\n",
    "* Выполнять задание необходимо полностью самостоятельно. **При обнаружении списывания все участники списывания будут сдавать устный зачет.**\n",
    "* Решения, размещенные на каких-либо интернет-ресурсах, не принимаются. Кроме того, публикация решения в открытом доступе может быть приравнена к предоставлении возможности списать.\n",
    "* Для выполнения задания используйте этот ноутбук в качестве основы, ничего не удаляя из него. Можно добавлять необходимое количество ячеек.\n",
    "* Комментарии к решению пишите в markdown-ячейках.\n",
    "* Выполнение задания (ход решения, выводы и пр.) должно быть осуществлено на русском языке.\n",
    "* Если код будет не понятен проверяющему, оценка может быть снижена.\n",
    "* Никакой код из данного задания при проверке запускаться не будет. *Если код студента не выполнен, недописан и т.д., то он не оценивается.*\n",
    "* **Код из рассказанных на занятиях ноутбуков можно использовать без ограничений.**\n",
    "\n",
    "**Правила оформления теоретических задач:**\n",
    "\n",
    "* Решения необходимо прислать одним из следующих способов:\n",
    "  * фотографией в правильной ориентации, где все четко видно, а почерк разборчив,\n",
    "    * отправив ее как файл боту вместе с ноутбуком *или*\n",
    "    * вставив ее в ноутбук посредством `Edit -> Insert Image` (<font color=\"red\">фото, вставленные ссылкой, не принимаются</font>);\n",
    "  * в виде $\\LaTeX$ в markdown-ячейках.\n",
    "* Решения не проверяются, если какое-то требование не выполнено. Особенно внимательно все проверьте в случае выбора второго пункта (вставки фото в ноутбук). <font color=\"red\"><b>Неправильно вставленные фотографии могут не передаться при отправке.</b></font> Для проверки попробуйте переместить `ipynb` в другую папку и открыть его там.\n",
    "* В решениях поясняйте, чем вы пользуетесь, хотя бы кратко. Например, если пользуетесь независимостью, то достаточно подписи вида \"*X и Y незав.*\"\n",
    "* Решение, в котором есть только ответ, и отсутствуют вычисления, оценивается в 0 баллов."
   ]
  },
  {
   "cell_type": "code",
   "execution_count": null,
   "metadata": {
    "id": "SvvRNGJXnbPp"
   },
   "outputs": [],
   "source": [
    "# Bot check\n",
    "\n",
    "# HW_ID: phds_sem10\n",
    "# Бот проверит этот ID и предупредит, если случайно сдать что-то не то.\n",
    "\n",
    "# Status: final\n",
    "# Перед отправкой в финальном решении удали \"not\" в строчке выше.\n",
    "# Так бот проверит, что ты отправляешь финальную версию, а не промежуточную.\n",
    "# Никакие значения в этой ячейке не влияют на факт сдачи работы."
   ]
  },
  {
   "cell_type": "code",
   "execution_count": null,
   "metadata": {
    "id": "gduLLylOysDS"
   },
   "outputs": [],
   "source": [
    "import numpy as np\n",
    "import pandas as pd\n",
    "import scipy.stats as sps\n",
    "from tqdm import tqdm\n",
    "import warnings\n",
    "warnings.filterwarnings(\"ignore\")\n",
    "\n",
    "import matplotlib.pyplot as plt\n",
    "import seaborn as sns\n",
    "sns.set_theme(style='darkgrid', font_scale=1.3, palette='Set2')\n",
    "\n",
    "%matplotlib inline"
   ]
  },
  {
   "cell_type": "markdown",
   "metadata": {
    "id": "bQLeVJvlnbPq"
   },
   "source": [
    "## Повторение"
   ]
  },
  {
   "cell_type": "markdown",
   "metadata": {
    "id": "isxbdR0xSZkG"
   },
   "source": [
    "### Одновыборочный T-test\n",
    "\n",
    "Дана одна выборка $X_1, ..., X_n$.\n",
    "\n",
    "Критерий проверяет гипотезы\n",
    "\n",
    "$\\mathsf{H}_0\\colon \\mathsf{E} X = a_0$\n",
    "\n",
    "$\\mathsf{H}_1\\colon \\mathsf{E} X \\not= a_0$\n",
    "\n",
    "<a href=\"https://docs.scipy.org/doc/scipy/reference/generated/scipy.stats.ttest_1samp.html#scipy.stats.ttest_1samp\">`ttest_1samp`</a>`(a, popmean): statistic, pvalue`\n",
    "\n",
    "* `a` &mdash; выборка\n",
    "* `popmean` &mdash; равно $a_0$"
   ]
  },
  {
   "cell_type": "code",
   "execution_count": null,
   "metadata": {
    "colab": {
     "base_uri": "https://localhost:8080/"
    },
    "id": "SgeRcE4gSZkJ",
    "outputId": "bf2cbca1-a9b6-4cd8-9b49-b962026c3a47"
   },
   "outputs": [],
   "source": [
    "sample = sps.norm(loc=0).rvs(size=100)\n",
    "sps.ttest_1samp(sample, 0), sps.ttest_1samp(sample, 0.5)"
   ]
  },
  {
   "cell_type": "markdown",
   "metadata": {
    "id": "uISSJPJYSZkK"
   },
   "source": [
    "### Двухвыборочный T-test &mdash; независимые выборки\n",
    "\n",
    "Даны две независимые выборки\n",
    "\n",
    "* $X_1, ..., X_n$,\n",
    "\n",
    "* $Y_1, ..., Y_m$.\n",
    "\n",
    "Критерий проверяет для их гипотезы о равенстве среднего:\n",
    "\n",
    "$\\mathsf{H}_0\\colon \\mathsf{E} X_1 = \\mathsf{E} X_2$\n",
    "\n",
    "$\\mathsf{H}_1\\colon \\mathsf{E} X_1 \\not= \\mathsf{E} X_2$\n",
    "\n",
    "<a href=\"https://docs.scipy.org/doc/scipy/reference/generated/scipy.stats.ttest_ind.html#scipy.stats.ttest_ind\">`ttest_ind`</a>`(a, b, equal_var=True): statistic, pvalue`\n",
    "\n",
    "`a`, `b` &mdash; выборка\n",
    "\n",
    "`equal_var` &mdash; известно ли равенство дисперсий"
   ]
  },
  {
   "cell_type": "code",
   "execution_count": null,
   "metadata": {
    "colab": {
     "base_uri": "https://localhost:8080/"
    },
    "id": "qs4dpPxbSZkL",
    "outputId": "0c06a0aa-570b-4b83-f4ec-4eb17a02d818"
   },
   "outputs": [],
   "source": [
    "sample_1 = sps.norm(loc=0).rvs(size=100)\n",
    "sample_2 = sps.norm(loc=1).rvs(size=100)\n",
    "sps.ttest_ind(sample_1, sample_2)"
   ]
  },
  {
   "cell_type": "code",
   "execution_count": null,
   "metadata": {
    "colab": {
     "base_uri": "https://localhost:8080/"
    },
    "id": "y6tHd9OUSZkL",
    "outputId": "2acadb1a-e97e-4edc-9833-06385b46f250"
   },
   "outputs": [],
   "source": [
    "sample_1 = sps.norm(loc=0).rvs(size=100)\n",
    "sample_2 = sps.norm(loc=1, scale=7).rvs(size=100)\n",
    "sps.ttest_ind(sample_1, sample_2, equal_var=False)"
   ]
  },
  {
   "cell_type": "markdown",
   "metadata": {
    "id": "TOouBlTUSZkM"
   },
   "source": [
    "### Двухвыборочный T-test &mdash; связные выборки\n",
    "\n",
    "Даны две связные выборки\n",
    "\n",
    "* $X_1, ..., X_n$,\n",
    "\n",
    "* $Y_1, ..., Y_n$.\n",
    "\n",
    "\n",
    "Критерий проверяет для их гипотезы о равенстве среднего:\n",
    "\n",
    "$\\mathsf{H}_0\\colon \\mathsf{E} X_1 = \\mathsf{E} X_2$\n",
    "\n",
    "$\\mathsf{H}_1\\colon \\mathsf{E} X_1 \\not= \\mathsf{E} X_2$\n",
    "\n",
    "<a href=\"https://docs.scipy.org/doc/scipy/reference/generated/scipy.stats.ttest_rel.html#scipy.stats.ttest_rel\">`ttest_rel`</a>`(a, b): statistic, pvalue`\n",
    "\n",
    "`a`, `b` &mdash; выборка"
   ]
  },
  {
   "cell_type": "code",
   "execution_count": null,
   "metadata": {
    "colab": {
     "base_uri": "https://localhost:8080/"
    },
    "id": "sR7L_kBPSZkM",
    "outputId": "5f6c6c13-81ed-4217-d461-390688312c2b"
   },
   "outputs": [],
   "source": [
    "sample_1 = sps.norm(loc=0).rvs(size=100)\n",
    "sample_2 = sample_1 + sps.norm(loc=0, scale=0.5).rvs(size=100)\n",
    "sps.ttest_rel(sample_1, sample_2)"
   ]
  },
  {
   "cell_type": "code",
   "execution_count": null,
   "metadata": {
    "colab": {
     "base_uri": "https://localhost:8080/"
    },
    "id": "qq4FuccySZkN",
    "outputId": "bb9177d9-62a1-4878-d8d6-bae7dc90c18c"
   },
   "outputs": [],
   "source": [
    "sample_1 = sps.norm(loc=0).rvs(size=100)\n",
    "sample_2 = sample_1 + sps.norm(loc=0.5, scale=0.5).rvs(size=100)\n",
    "sps.ttest_rel(sample_1, sample_2)"
   ]
  },
  {
   "cell_type": "markdown",
   "metadata": {
    "id": "xvxDlDYASZkN"
   },
   "source": [
    "### Пример: ирисы Фишера\n",
    "\n",
    "Визуализация данных"
   ]
  },
  {
   "cell_type": "code",
   "execution_count": null,
   "metadata": {
    "colab": {
     "base_uri": "https://localhost:8080/",
     "height": 1000
    },
    "id": "FixDXYMMSZkN",
    "outputId": "f5ba7812-f2d6-47c0-8e1d-17dffd9dc079"
   },
   "outputs": [],
   "source": [
    "df = sns.load_dataset(\"iris\")\n",
    "\n",
    "g = sns.PairGrid(df, hue='species')\n",
    "g.map_lower(sns.kdeplot, cmap =\"Blues_d\")\n",
    "g.map_upper(plt.scatter)\n",
    "g.map_diag(sns.kdeplot, lw=3)\n",
    "plt.legend();"
   ]
  },
  {
   "cell_type": "markdown",
   "metadata": {
    "id": "y1mf3eMlSZkO"
   },
   "source": [
    "Как выглядят данные"
   ]
  },
  {
   "cell_type": "code",
   "execution_count": null,
   "metadata": {
    "colab": {
     "base_uri": "https://localhost:8080/",
     "height": 206
    },
    "id": "KCLOJufMSZkO",
    "outputId": "96c868d7-3aa0-4ca1-98e7-1f552d6a5bb6"
   },
   "outputs": [],
   "source": [
    "df.head()"
   ]
  },
  {
   "cell_type": "markdown",
   "metadata": {
    "id": "D-WS-WwwSZkO"
   },
   "source": [
    "Виды ирисов"
   ]
  },
  {
   "cell_type": "code",
   "execution_count": null,
   "metadata": {
    "colab": {
     "base_uri": "https://localhost:8080/"
    },
    "id": "uxnVJJreSZkO",
    "outputId": "56516d25-039b-4b67-cbaa-88a5b5f49930"
   },
   "outputs": [],
   "source": [
    "np.unique(df.species)"
   ]
  },
  {
   "cell_type": "markdown",
   "metadata": {
    "id": "bcvFed00nbPt"
   },
   "source": [
    "Сравнение распределений параметров цветков"
   ]
  },
  {
   "cell_type": "code",
   "execution_count": null,
   "metadata": {
    "colab": {
     "base_uri": "https://localhost:8080/"
    },
    "id": "AT6Q8G37SZkP",
    "outputId": "0a394d91-cefd-4b4c-a6a1-4b504d7a135b"
   },
   "outputs": [],
   "source": [
    "sps.ttest_ind(df[df.species == 'setosa'].sepal_length,\n",
    "              df[df.species == 'versicolor'].sepal_length,\n",
    "              equal_var=False)"
   ]
  },
  {
   "cell_type": "code",
   "execution_count": null,
   "metadata": {
    "colab": {
     "base_uri": "https://localhost:8080/"
    },
    "id": "zH74cBnoSZkP",
    "outputId": "1c214926-715e-446f-f83c-f13a2e73b63b"
   },
   "outputs": [],
   "source": [
    "sps.ttest_ind(df[df.species == 'virginica'].sepal_length,\n",
    "              df[df.species == 'versicolor'].sepal_length,\n",
    "              equal_var=False)"
   ]
  },
  {
   "cell_type": "code",
   "execution_count": null,
   "metadata": {
    "colab": {
     "base_uri": "https://localhost:8080/"
    },
    "id": "2AS7loUgSZkP",
    "outputId": "206f1271-4991-41c7-da4a-608c93d3a2d4"
   },
   "outputs": [],
   "source": [
    "sps.ttest_ind(df[df.species == 'virginica'].sepal_width,\n",
    "              df[df.species == 'versicolor'].sepal_width,\n",
    "              equal_var=False)"
   ]
  },
  {
   "cell_type": "markdown",
   "metadata": {
    "id": "5fvBu_vZSZkQ"
   },
   "source": [
    "*Замечание.* Строго говоря, неоходима поправка на множественное тестирование гипотез."
   ]
  },
  {
   "cell_type": "markdown",
   "metadata": {
    "id": "GmSeryKAysDN"
   },
   "source": [
    "## AA-тесты: валидация критериев"
   ]
  },
  {
   "cell_type": "markdown",
   "metadata": {
    "id": "MUONOzByysDU"
   },
   "source": [
    "Напишем функцию, реализующую относительный t-test. Функция возвращает значение статистики, доверительный интервал, p-value.\n",
    "\n",
    "Для подсчёта статистики воспользуемся следующей формулой\n",
    "\n",
    "$$R = \\overline{X} / \\overline{Y} - 1$$\n",
    "\n",
    "где n &mdash; размер выборки.\n",
    "\n",
    "\n",
    "Для подсчёта `p-value` найдите вероятность того, что стандартно распределённая случайная велечина имеет значение по модулю большее чем\n",
    "\n",
    "$$z = \\sqrt{n}\\frac{|R|}{\\sqrt{\\frac{\\overline{(X - \\overline{X})^2}}{\\overline{Y}^2} + \\frac{\\overline{(Y - \\overline{Y})^2}\\overline{X}^2}{\\overline{Y}^4}}}$$\n",
    "\n",
    "Вам понадобится функция `sps.norm.sf`, также Вам может помочь функция `np.var`.\n",
    "\n",
    "\n",
    "Посчитайте доверительный интервал. Для этого найдите\n",
    "\n",
    "$$q = \\Phi^{-1}(1-\\alpha/2)$$\n",
    "\n",
    "где $\\Phi$ &mdash; функция распределения стандартного нормального распределения (воспользуйтесь методом `sps.norm.ppf`), $\\alpha$ &mdash; уровень значимости. Затем от $R$ отложите\n",
    "\n",
    "$$\\frac{q \\cdot \\sigma_R}{\\sqrt{n}}$$\n",
    "\n",
    "где $\\sigma_R$ &mdash; знаменатель из формулы для расчёта $z$."
   ]
  },
  {
   "cell_type": "code",
   "execution_count": null,
   "metadata": {
    "id": "bYOi8FY6ysDU"
   },
   "outputs": [],
   "source": [
    "def relative_ttest(x, y, alpha=0.05):\n",
    "    '''\n",
    "    Относительный t-test.\n",
    "\n",
    "    Аргументы:\n",
    "    x, y -- выборки одинакового размера\n",
    "    alpha -- уровень значимости\n",
    "\n",
    "    Возвращает:\n",
    "    stat -- статистика критерия\n",
    "    left_bound, right_bound -- границы дов. интервала\n",
    "    pvalue\n",
    "    '''\n",
    "\n",
    "    n = x.shape[0]\n",
    "    x_mean = np.mean(x)\n",
    "    y_mean = np.mean(y)\n",
    "\n",
    "    stat = x_mean / y_mean - 1\n",
    "    std = np.sqrt(np.var(x) / y_mean**2 + np.var(y) * x_mean**2 / y_mean**4)\n",
    "\n",
    "    z = np.sqrt(n) * np.abs(stat) / std\n",
    "    pvalue = 2 * sps.norm.sf(abs(z))\n",
    "\n",
    "    q = sps.norm.sf(1 - alpha/2)\n",
    "    left_bound  = stat - q * std / np.sqrt(n)\n",
    "    right_bound = stat + q * std / np.sqrt(n)\n",
    "\n",
    "    return stat, left_bound, right_bound, pvalue"
   ]
  },
  {
   "cell_type": "code",
   "execution_count": null,
   "metadata": {
    "id": "sD7vkRIVysDV"
   },
   "outputs": [],
   "source": [
    "def calculate_real_alpha(n_reject, n_iter):\n",
    "    '''\n",
    "    Оценка реального уровня значимости и его дов. интервала.\n",
    "    Используется для оценки вероятности ошибки первого рода и мощности\n",
    "\n",
    "    Аргументы:\n",
    "    n_reject -- количество отвержений H_0 в эксперименте\n",
    "    n_iter -- количество экспериментов\n",
    "\n",
    "    Возвращает:\n",
    "    real_alpha -- оценка реального уровня значимости\n",
    "    left_bound, right_bound -- границы соотв. дов. интервала\n",
    "    '''\n",
    "\n",
    "    real_alpha = n_reject / n_iter\n",
    "    std = np.sqrt(real_alpha * (1-real_alpha) / n_iter)\n",
    "    left_bound = real_alpha - 2 * std\n",
    "    right_bound = real_alpha + 2 * std\n",
    "\n",
    "    return real_alpha, left_bound, right_bound"
   ]
  },
  {
   "cell_type": "code",
   "execution_count": null,
   "metadata": {
    "id": "QlV2kjagysDV"
   },
   "outputs": [],
   "source": [
    "def draw_interval(\n",
    "    real_alpha, left_bound, right_bound,\n",
    "    alpha=0.05, new_fig=True\n",
    "):\n",
    "    '''\n",
    "    Отрисовка интервала для вероятности отвержения критерия\n",
    "\n",
    "    Аргументы:\n",
    "    real_alpha -- оценка реального уровня значимости\n",
    "    left_bound, right_bound -- границы дов. интервала\n",
    "    alpha -- теоретический уровень значимости\n",
    "    new_fig -- coздавать ли новую matplotlib figure\n",
    "    '''\n",
    "\n",
    "    if new_fig:\n",
    "        plt.figure(figsize=(7, 3.5))\n",
    "\n",
    "    plt.hlines(0, 0, 1,\n",
    "               color='black', lw=2, alpha=0.6)\n",
    "    plt.vlines(alpha, -1, 1,\n",
    "               color='red', lw=2, linestyle='--', alpha=0.6)\n",
    "    plt.fill_between([left_bound, right_bound], [0.1]*2, [-0.1]*2,\n",
    "                     color='green', alpha=0.6)\n",
    "    plt.scatter(real_alpha, 0, s=300, marker='*', color='red')\n",
    "    plt.xlim((min(alpha, left_bound)-1e-3, max(alpha, right_bound)+1e-3))\n",
    "    plt.title(\n",
    "            f'Доля отвержений = {100*real_alpha:.2f}%, '\n",
    "            f'интервал ({100*left_bound:.2f}%, {100*right_bound:.2f}%)'\n",
    "        )\n",
    "    plt.ylim((-0.5, 0.5))\n",
    "    plt.yticks([])"
   ]
  },
  {
   "cell_type": "code",
   "execution_count": null,
   "metadata": {
    "id": "8QapNx6jysDV"
   },
   "outputs": [],
   "source": [
    "def AB_test(\n",
    "    distr1, distr2, n_iter=10_000, sample_size=1_000, alpha=0.05\n",
    "):\n",
    "    '''\n",
    "    Проведение серии AB-тестов на искусственных выборках.\n",
    "\n",
    "    Аргументы:\n",
    "    distr1, distr2 -- распределения для семплирования выборок\n",
    "    n_iter -- количество итераций\n",
    "    sample_size -- размер выборок\n",
    "    alpha -- уровень значимости\n",
    "    '''\n",
    "\n",
    "    n_reject = 0  # количество отвержений H_0\n",
    "\n",
    "    # Проведение экспериментов\n",
    "    for _ in tqdm(range(n_iter)):\n",
    "        x = distr1.rvs(size=sample_size)\n",
    "        y = distr2.rvs(size=sample_size)\n",
    "        n_reject += (relative_ttest(x, y)[1] < alpha)\n",
    "\n",
    "    # Реальный уровень значимости\n",
    "    real_alpha, left_bound, right_bound = calculate_real_alpha(n_reject, n_iter)\n",
    "    print('{:.4f} +/- {:.4f}'.format(\n",
    "        real_alpha, (right_bound - left_bound)/2\n",
    "    ))\n",
    "\n",
    "    plt.figure(figsize=(14, 3.5))\n",
    "\n",
    "    # График плотности распределений\n",
    "    with sns.axes_style(\"darkgrid\"):\n",
    "        plt.subplot(1, 2, 1)\n",
    "        for d, label in zip([distr1, distr2], ['A', 'B']):\n",
    "            grid = np.linspace(d.ppf(0.005) - 0.2, d.ppf(0.995) + 0.2, 1000)\n",
    "            plt.plot(grid, d.pdf(grid), label=label, lw=3)\n",
    "        plt.legend()\n",
    "        plt.title('Плотности выборок')\n",
    "\n",
    "    # График интервала\n",
    "    with sns.axes_style(\"whitegrid\"):\n",
    "        plt.subplot(1, 2, 2)\n",
    "        draw_interval(\n",
    "            real_alpha, left_bound, right_bound,\n",
    "            alpha=alpha, new_fig=False\n",
    "        )\n",
    "\n",
    "    plt.tight_layout()"
   ]
  },
  {
   "cell_type": "markdown",
   "metadata": {
    "id": "1tsVv3OpysDW"
   },
   "source": [
    "Проверим корректность критерия методом AA-тестирования на искусственных данных. Рассмотрите разные виды распределений и разный размер выборки. Представим полученные результаты в удобном виде."
   ]
  },
  {
   "cell_type": "code",
   "execution_count": null,
   "metadata": {
    "id": "TwJg3bRNysDW"
   },
   "outputs": [],
   "source": [
    "n_iter = 20000  # количество итераций в одном эксперименте\n",
    "alpha = 0.05  # уровень значимости"
   ]
  },
  {
   "cell_type": "markdown",
   "metadata": {
    "id": "StdjQoy_ysDW"
   },
   "source": [
    "#### Экспоненциальное распределение"
   ]
  },
  {
   "cell_type": "markdown",
   "metadata": {
    "id": "HqGmGnLPnbPv"
   },
   "source": [
    "Проведем эксперименты для разных размеров выборок."
   ]
  },
  {
   "cell_type": "code",
   "execution_count": null,
   "metadata": {
    "colab": {
     "base_uri": "https://localhost:8080/",
     "height": 375
    },
    "id": "Pa1BuRflysDW",
    "outputId": "f2e1d873-f7eb-418f-9ef9-5b7400c2a02d"
   },
   "outputs": [],
   "source": [
    "AB_test(sps.expon, sps.expon, n_iter=n_iter, sample_size=10, alpha=alpha)"
   ]
  },
  {
   "cell_type": "code",
   "execution_count": null,
   "metadata": {
    "colab": {
     "base_uri": "https://localhost:8080/",
     "height": 375
    },
    "id": "wS445wSyysDX",
    "outputId": "310e80f6-5e24-4232-9755-df5141fdc67c"
   },
   "outputs": [],
   "source": [
    "AB_test(sps.expon, sps.expon, n_iter=n_iter, sample_size=100, alpha=alpha)"
   ]
  },
  {
   "cell_type": "code",
   "execution_count": null,
   "metadata": {
    "colab": {
     "base_uri": "https://localhost:8080/",
     "height": 375
    },
    "id": "V0uLnLoHysDX",
    "outputId": "518546a7-acef-4d3c-a68a-10eecf4a8179"
   },
   "outputs": [],
   "source": [
    "AB_test(sps.expon, sps.expon, n_iter=n_iter, sample_size=1_000, alpha=alpha)"
   ]
  },
  {
   "cell_type": "code",
   "execution_count": null,
   "metadata": {
    "colab": {
     "base_uri": "https://localhost:8080/",
     "height": 375
    },
    "id": "W-4yDw9BysDY",
    "outputId": "1cf388f1-347f-4b70-cca2-e804a3d475a2"
   },
   "outputs": [],
   "source": [
    "AB_test(sps.expon, sps.expon, n_iter=n_iter, sample_size=10_000, alpha=alpha)"
   ]
  },
  {
   "cell_type": "markdown",
   "metadata": {
    "id": "iGKtEFJPysDY"
   },
   "source": [
    "#### Гамма-распределение"
   ]
  },
  {
   "cell_type": "markdown",
   "metadata": {
    "id": "R9VZ0DcbnbPw"
   },
   "source": [
    "Проведем эксперименты для разных размеров выборок."
   ]
  },
  {
   "cell_type": "code",
   "execution_count": null,
   "metadata": {
    "colab": {
     "base_uri": "https://localhost:8080/",
     "height": 375
    },
    "id": "XXtWTuWLysDY",
    "outputId": "9dfebf2b-c8e4-4f54-fc77-9fb06b2af720"
   },
   "outputs": [],
   "source": [
    "AB_test(sps.gamma(a=3), sps.gamma(a=3), n_iter=n_iter, sample_size=10, alpha=alpha)"
   ]
  },
  {
   "cell_type": "code",
   "execution_count": null,
   "metadata": {
    "colab": {
     "base_uri": "https://localhost:8080/",
     "height": 375
    },
    "id": "jvUE-LRRysDY",
    "outputId": "17742868-9f43-47d8-b8a3-ed7fd2f09daf"
   },
   "outputs": [],
   "source": [
    "AB_test(sps.gamma(a=3), sps.gamma(a=3), n_iter=n_iter, sample_size=100, alpha=alpha)"
   ]
  },
  {
   "cell_type": "code",
   "execution_count": null,
   "metadata": {
    "colab": {
     "base_uri": "https://localhost:8080/",
     "height": 375
    },
    "id": "RFk7evqNysDZ",
    "outputId": "893f6d1f-676d-4055-8b8e-63ede0f5b9d5"
   },
   "outputs": [],
   "source": [
    "AB_test(sps.gamma(a=3), sps.gamma(a=3), n_iter=n_iter, sample_size=10_000, alpha=alpha)"
   ]
  },
  {
   "cell_type": "markdown",
   "metadata": {
    "id": "Cii0IifnysDZ"
   },
   "source": [
    "#### Распределение Коши"
   ]
  },
  {
   "cell_type": "markdown",
   "metadata": {
    "id": "lZUA6UWTnbPz"
   },
   "source": [
    "Проведем эксперименты для разных размеров выборок."
   ]
  },
  {
   "cell_type": "code",
   "execution_count": null,
   "metadata": {
    "colab": {
     "base_uri": "https://localhost:8080/",
     "height": 375
    },
    "id": "t_7RYKYKysDZ",
    "outputId": "a58b9d59-b0d3-441d-97b6-250775bf22fa"
   },
   "outputs": [],
   "source": [
    "AB_test(sps.cauchy(loc=1000), sps.cauchy(loc=1000), n_iter=n_iter, sample_size=1000, alpha=alpha)"
   ]
  },
  {
   "cell_type": "markdown",
   "metadata": {
    "id": "kt4uSAdzysDZ"
   },
   "source": [
    "#### Нормальное распределение"
   ]
  },
  {
   "cell_type": "markdown",
   "metadata": {
    "id": "JpZVF0B1nbP0"
   },
   "source": [
    "Проведем эксперименты для разных размеров выборок."
   ]
  },
  {
   "cell_type": "code",
   "execution_count": null,
   "metadata": {
    "colab": {
     "base_uri": "https://localhost:8080/",
     "height": 375
    },
    "id": "ngL8szFzysDZ",
    "outputId": "14f5b226-b841-4c7c-f962-af654f953caf"
   },
   "outputs": [],
   "source": [
    "AB_test(sps.norm, sps.norm, n_iter=n_iter, sample_size=100, alpha=alpha)"
   ]
  },
  {
   "cell_type": "code",
   "execution_count": null,
   "metadata": {
    "colab": {
     "base_uri": "https://localhost:8080/",
     "height": 375
    },
    "id": "lq4E-8oDysDa",
    "outputId": "f3fa845f-ffd7-495d-945c-de350bfbbc0f"
   },
   "outputs": [],
   "source": [
    "AB_test(sps.norm, sps.norm, n_iter=n_iter, sample_size=1000, alpha=alpha)"
   ]
  },
  {
   "cell_type": "markdown",
   "metadata": {
    "id": "8WWBfZPfV3MJ"
   },
   "source": [
    "**Вывод:**\n",
    "\n",
    "Увеличение размера выборки положительно сказывается на результатах анализа, обеспечивая более стабильные и точные выводы. Выборка в 10,000 считается оптимальной для достижения высокой достоверности данных, в то время как меньшие размеры, такие как распределение Коши, приводят к искажениям и менее надёжным результатам."
   ]
  },
  {
   "cell_type": "markdown",
   "metadata": {
    "id": "ymaUyG9FysDa"
   },
   "source": [
    "#### Мощность для распределения\n",
    "\n",
    "Зафиксируйте тип распределения и размер выборки. Исследуйте мощность критерия с помощью добавления смещения к одной из выборок."
   ]
  },
  {
   "cell_type": "code",
   "execution_count": null,
   "metadata": {
    "id": "9C5W4mMgysDa"
   },
   "outputs": [],
   "source": [
    "alpha=0.05"
   ]
  },
  {
   "cell_type": "code",
   "execution_count": null,
   "metadata": {
    "colab": {
     "base_uri": "https://localhost:8080/",
     "height": 375
    },
    "id": "JBPTUxPzysDa",
    "outputId": "206970b2-401f-4273-d1d2-bcdd452a842e"
   },
   "outputs": [],
   "source": [
    "AB_test(sps.gamma(a=3), sps.gamma(a=3, loc=0.01), n_iter=n_iter, sample_size=100, alpha=alpha)"
   ]
  },
  {
   "cell_type": "code",
   "execution_count": null,
   "metadata": {
    "colab": {
     "base_uri": "https://localhost:8080/",
     "height": 375
    },
    "id": "mPSlNFh3ysDa",
    "outputId": "9b9e0f33-45d4-49ff-8e2f-c3d6a537f8d6"
   },
   "outputs": [],
   "source": [
    "AB_test(sps.gamma(a=3), sps.gamma(a=3, loc=0.1), n_iter=n_iter, sample_size=100, alpha=alpha)"
   ]
  },
  {
   "cell_type": "code",
   "execution_count": null,
   "metadata": {
    "colab": {
     "base_uri": "https://localhost:8080/",
     "height": 375
    },
    "id": "L-PcYUCpysDb",
    "outputId": "08b11586-781d-4f5c-e117-a14a4bd944cc"
   },
   "outputs": [],
   "source": [
    "AB_test(sps.gamma(a=3), sps.gamma(a=3, loc=1), n_iter=n_iter, sample_size=100, alpha=alpha)"
   ]
  },
  {
   "cell_type": "markdown",
   "metadata": {
    "id": "8Igah0U4ysDb"
   },
   "source": [
    "Рассмотрим сетку значений сдвига"
   ]
  },
  {
   "cell_type": "code",
   "execution_count": null,
   "metadata": {
    "colab": {
     "base_uri": "https://localhost:8080/"
    },
    "id": "ZGXCfIYyysDb",
    "outputId": "aab69100-2609-4fbd-c266-f23cc728b9f3"
   },
   "outputs": [],
   "source": [
    "n_reject = []  # количество отвержений H_0\n",
    "sample_size = 1000\n",
    "shifts = np.linspace(0, 0.5, 21)\n",
    "\n",
    "for loc in tqdm(shifts):\n",
    "    n_reject.append(0)\n",
    "    for _ in range(n_iter):\n",
    "        x = sps.gamma.rvs(a=3, size=sample_size)\n",
    "        y = sps.gamma.rvs(a=3, size=sample_size) + loc\n",
    "        n_reject[-1] += relative_ttest(x, y)[3] < alpha"
   ]
  },
  {
   "cell_type": "code",
   "execution_count": null,
   "metadata": {
    "colab": {
     "base_uri": "https://localhost:8080/",
     "height": 488
    },
    "id": "LAc9XCSWysDb",
    "outputId": "489a9cde-00cc-4f8e-b6e5-f73deb36013a"
   },
   "outputs": [],
   "source": [
    "plt.plot(shifts, np.array(n_reject)/n_iter, lw=3)\n",
    "plt.title('Мощность относительного t-test')\n",
    "plt.xlabel('Смещение')\n",
    "plt.ylabel('Мощность');"
   ]
  },
  {
   "cell_type": "markdown",
   "metadata": {
    "id": "YcMlnvSFVrTz"
   },
   "source": [
    "**Вывод:**\n",
    "\n",
    "Чем больше сдвиг между двумя распределениями, тем выше вероятность, что тест корректно распознает их как разные. При сдвиге в 0.4 вероятность успешного различения достигает почти 100%."
   ]
  }
 ],
 "metadata": {
  "colab": {
   "provenance": []
  },
  "kernelspec": {
   "display_name": "Python 3 (ipykernel)",
   "language": "python",
   "name": "python3"
  },
  "language_info": {
   "codemirror_mode": {
    "name": "ipython",
    "version": 3
   },
   "file_extension": ".py",
   "mimetype": "text/x-python",
   "name": "python",
   "nbconvert_exporter": "python",
   "pygments_lexer": "ipython3",
   "version": "3.10.9"
  }
 },
 "nbformat": 4,
 "nbformat_minor": 0
}
