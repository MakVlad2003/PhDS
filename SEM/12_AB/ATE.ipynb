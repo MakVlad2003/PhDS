{
 "cells": [
  {
   "cell_type": "markdown",
   "id": "0",
   "metadata": {
    "id": "36bcd147"
   },
   "source": [
    "# ML в Биологии\n",
    "## ATE"
   ]
  },
  {
   "cell_type": "code",
   "execution_count": null,
   "id": "1",
   "metadata": {
    "id": "b961abfd"
   },
   "outputs": [],
   "source": [
    "import pandas as pd\n",
    "import numpy as np\n",
    "import scipy.stats as sps\n",
    "\n",
    "from matplotlib import pyplot as plt\n",
    "from matplotlib import style\n",
    "import seaborn as sns\n",
    "\n",
    "from tqdm.notebook import tqdm\n",
    "\n",
    "import statsmodels.api as sm\n",
    "import statsmodels.datasets as smd\n",
    "import statsmodels.formula.api as smf\n",
    "import statsmodels.stats.api as sms\n",
    "\n",
    "import graphviz as gr\n",
    "from IPython.display import Image\n",
    "\n",
    "import warnings\n",
    "warnings.filterwarnings(\"ignore\")\n",
    "\n",
    "sns.set(style='whitegrid', font_scale=1.3, palette='Set2')"
   ]
  },
  {
   "cell_type": "markdown",
   "id": "2",
   "metadata": {
    "id": "H7aofVVb07iZ"
   },
   "source": [
    "## Учет различных признаков в линейной регрессии для оценки ATE\n",
    "\n",
    "На основе материалов <a href=\"https://matheusfacure.github.io/python-causality-handbook/landing-page.html\">учебника</a>.\n",
    "\n",
    "$\\newcommand{\\indep}{\\perp \\!\\!\\! \\perp}$\n",
    "$\\newcommand{\\notindep}{\\not\\!\\perp \\!\\!\\! \\perp}$"
   ]
  },
  {
   "cell_type": "code",
   "execution_count": null,
   "id": "3",
   "metadata": {
    "colab": {
     "base_uri": "https://localhost:8080/"
    },
    "id": "5oeodAapv5xn",
    "outputId": "fe79167c-7cff-4a85-d0fd-3ea573b49c4e"
   },
   "outputs": [],
   "source": [
    "from google.colab import drive\n",
    "drive.mount('/content/drive')"
   ]
  },
  {
   "cell_type": "markdown",
   "id": "4",
   "metadata": {
    "id": "w0MZWjUyhwBa"
   },
   "source": [
    "### 0. Инициализация и обучение моделей через формулы\n",
    "В этом семинаре нам понадобится модуль `statsmodels.formula.api`, который позволяет задавать модели, указав формулу в виде `target ~ features`, которая означает линейную функцию `target` от `features`.\n",
    "\n",
    "Рассмотрим пример задания модели линейной регрессии OLS (подробнее можно почитать в [документации](https://www.statsmodels.org/dev/example_formulas.html)).\n"
   ]
  },
  {
   "cell_type": "code",
   "execution_count": null,
   "id": "5",
   "metadata": {
    "colab": {
     "base_uri": "https://localhost:8080/",
     "height": 206
    },
    "id": "X07zG9sgllz7",
    "outputId": "22564dce-6e9e-4147-dbcb-34c6e895c327"
   },
   "outputs": [],
   "source": [
    "df = sm.datasets.get_rdataset(\"Guerry\", \"HistData\").data\n",
    "df = df[['Lottery', 'Literacy', 'Wealth', 'Region']].dropna()\n",
    "df.head()"
   ]
  },
  {
   "cell_type": "markdown",
   "id": "6",
   "metadata": {
    "id": "V6wcFvKcmaK7"
   },
   "source": [
    "Итак, предположим, нам нужно обучить модель для таргета `Lottery` по признакам `Literacy`, `Wealth` и `Region` из датасета выше. Тогда синтаксис будет выглядеть таким образом:"
   ]
  },
  {
   "cell_type": "code",
   "execution_count": null,
   "id": "7",
   "metadata": {
    "id": "Ta7S8t7C3PVM"
   },
   "outputs": [],
   "source": [
    "model = smf.ols(formula='Lottery ~ Literacy + Wealth + Region', data=df)\n",
    "res = model.fit()"
   ]
  },
  {
   "cell_type": "markdown",
   "id": "8",
   "metadata": {
    "id": "jwqKlREm3EJV"
   },
   "source": [
    "Метод `fit` возвращает объект типа `statsmodels.regression.linear_model.RegressionResults`, который содержит различные характеристики модели:\n",
    "* в первой секции представлены различные характеристики самой модели\n",
    "  * параметры обучения,\n",
    "  * $R^2$\n",
    "  * проверка гипотезы о значимости регрессии в целом\n",
    "  * логарифмическая функция правдоподобия\n",
    "  * информационные критерии\n",
    "* во второй секции &mdash; подробная информация о коэффициентах, включая анализ их стат. значимости:\n",
    "  * названия коэффициентов (совпадают с именами признаков, или `Intercept` для свободного коэффициента);\n",
    "  * оценки коэффициентов;\n",
    "  * стандартные ошибки &mdash; корень из оценки дисперсии оценки каждого из коэффициентов;\n",
    "  * t-статистика для проверки гипотезы о незначимости коэффициента;\n",
    "  * p-value критерия для проверки гипотезы о незначимости коэффициента (правило: если $\\text{p-value} \\leqslant \\alpha=0.05$, то гипотеза отвергается, иначе &mdash; не отвергается);\n",
    "  * левая и правая граница 95\\% доверительного интервала для коэффициента.\n",
    "* в третьей секции &mdash; анализ остатков модели\n",
    "  * критерии проверки несмещенности, нормальности\n",
    "\n",
    "*Подробнее:* https://www.statsmodels.org/dev/generated/statsmodels.regression.linear_model.RegressionResults.html\n",
    "\n",
    "Посмотрим на результат **в предположении гомоскедастичности**"
   ]
  },
  {
   "cell_type": "code",
   "execution_count": null,
   "id": "9",
   "metadata": {
    "colab": {
     "base_uri": "https://localhost:8080/"
    },
    "id": "1BwoL53rmi9F",
    "outputId": "0de231e5-7106-433f-ac12-a08374c8b180"
   },
   "outputs": [],
   "source": [
    "print(res.summary())"
   ]
  },
  {
   "cell_type": "markdown",
   "id": "10",
   "metadata": {
    "id": "kWYdCe6KnwDL"
   },
   "source": [
    "Заметим, что модель автоматически добавила свободный член (`Intercept`) и рассмотрела признак `Region` как категориальный, затем удалив одну из категорий (`С`). Так произошло, потому что значения были строками. При этом, если бы мы имели целочисленный призак и хотели бы рассмотреть его как категориальный, то заключили бы его в `C()` при передаче в формулу. То есть, чтобы специфически указать, что признак категориальный, вот так:\n"
   ]
  },
  {
   "cell_type": "code",
   "execution_count": null,
   "id": "11",
   "metadata": {
    "colab": {
     "base_uri": "https://localhost:8080/"
    },
    "id": "_-xlddF6qfUG",
    "outputId": "ea66adc0-9be8-4d32-9948-0e6810073458"
   },
   "outputs": [],
   "source": [
    "model = smf.ols(formula='Lottery ~ Literacy + Wealth + C(Region)', data=df)\n",
    "res = model.fit()\n",
    "print(res.params)"
   ]
  },
  {
   "cell_type": "markdown",
   "id": "12",
   "metadata": {
    "id": "c3f18d69"
   },
   "source": [
    "*Примечение:* Во всех моделях ниже нас будет интересовать коэффициент при параметре, определяющим принадлежность к А или В группе, а также p-value для него."
   ]
  },
  {
   "cell_type": "markdown",
   "id": "13",
   "metadata": {
    "id": "ffa211ba"
   },
   "source": [
    "### 1. Использование признаков: хороший случай\n",
    "\n",
    "**Задача:** исследовать влияние отправки email с напоминанием о долге. Таргет &mdash; сумма платежей от клиентов, которые просрочили платеж.\n",
    "\n",
    "Выбраны 5000 случайных клиентов для проведения *рандомизированного эксперимента*. Каждый клиент получает электронное письмо случайно с вероятностью 0.5.\n",
    "\n",
    "Загрузим данные `collections_email.csv` из [репозитория](https://github.com/matheusfacure/python-causality-handbook/blob/master/causal-inference-for-the-brave-and-true/data/collections_email.csv)"
   ]
  },
  {
   "cell_type": "code",
   "execution_count": null,
   "id": "14",
   "metadata": {
    "id": "7cIYUSoQvZbG"
   },
   "outputs": [],
   "source": [
    "DATA_PATH = \"/content/drive/MyDrive/colab_data/collections_email.csv\""
   ]
  },
  {
   "cell_type": "code",
   "execution_count": null,
   "id": "15",
   "metadata": {
    "colab": {
     "base_uri": "https://localhost:8080/",
     "height": 206
    },
    "id": "2913e255",
    "outputId": "49f3c504-eea3-454c-a693-a1462ac8363a"
   },
   "outputs": [],
   "source": [
    "data = pd.read_csv(\"/content/collections_email.csv\")\n",
    "data.head()"
   ]
  },
  {
   "cell_type": "markdown",
   "id": "16",
   "metadata": {
    "id": "91feb905"
   },
   "source": [
    "Поскольку данные рандомизированы, простая разность средних оценивает ATE.\n",
    "Иначе говоря, ничто не может быть причиной тритмента (факта отправки письма), кроме рандомизации, поэтому потенциальные исходы не зависят от принадлежности к той или иной группе:  $C_0, C_1 \\indep T$"
   ]
  },
  {
   "cell_type": "code",
   "execution_count": null,
   "id": "17",
   "metadata": {
    "colab": {
     "base_uri": "https://localhost:8080/"
    },
    "id": "f9f47716",
    "outputId": "da9cd1ee-2cde-4724-aa5e-1ebe07e94c46"
   },
   "outputs": [],
   "source": [
    "data.query(\"email==1\")[\"payments\"].mean() - data.query(\"email==0\")[\"payments\"].mean()"
   ]
  },
  {
   "cell_type": "markdown",
   "id": "18",
   "metadata": {
    "id": "d5140d8e"
   },
   "source": [
    "Проведите АВ-тесты, чтобы оценить различие между группами (`email`) по таргету (`payments`), двумя способами: с помощью `ttest_ind` и модели OLS. Сравните результаты и сделайте выводы."
   ]
  },
  {
   "cell_type": "code",
   "execution_count": null,
   "id": "19",
   "metadata": {
    "colab": {
     "base_uri": "https://localhost:8080/"
    },
    "id": "8yxzcEmMsguv",
    "outputId": "4ad257a7-7e0c-4246-d585-5f447614a6ae"
   },
   "outputs": [],
   "source": [
    "from scipy.stats import ttest_ind\n",
    "\n",
    "group_treated = data.query(\"email == 1\")[\"payments\"]\n",
    "group_control = data.query(\"email == 0\")[\"payments\"]\n",
    "\n",
    "ttest_results = ttest_ind(group_treated, group_control, equal_var=False)\n",
    "print(f\"t-statistic: {ttest_results.statistic}, p-value: {ttest_results.pvalue}\")"
   ]
  },
  {
   "cell_type": "code",
   "execution_count": null,
   "id": "20",
   "metadata": {
    "colab": {
     "base_uri": "https://localhost:8080/"
    },
    "id": "13bd208a",
    "outputId": "973ecd78-68c0-4fe0-e4e6-647ba9ddfc70"
   },
   "outputs": [],
   "source": [
    "import statsmodels.formula.api as smf\n",
    "\n",
    "model = smf.ols(formula='payments ~ email', data=data)\n",
    "res = model.fit()\n",
    "\n",
    "print(res.summary().tables[1])"
   ]
  },
  {
   "cell_type": "markdown",
   "id": "21",
   "metadata": {
    "id": "JR8Y3jniwcDV"
   },
   "source": [
    "**Вывод:**\n",
    "\n",
    "1. **t-тест** и **OLS** показали отсутствие значимой разницы между группами (p-value = 0.833).  \n",
    "2. Коэффициент при `email` (-0.6203) статистически незначим, доверительный интервал включает 0.  \n",
    "3. **Вывод:** отправка email-напоминаний **не влияет** на платежи клиентов."
   ]
  },
  {
   "cell_type": "markdown",
   "id": "22",
   "metadata": {
    "id": "facc43e2"
   },
   "source": [
    "Обратим внимание на p-value. Что делать? Вернуться к заказчику, поджав хвост, и сказать, что эксперимент безрезультатен и нужно больше данных?\n",
    "\n",
    "Но посмотрим на другие признаки\n",
    "\n",
    "* `credit_limit` &mdash; кредитный лимит клиента до того, как он просрочил платеж;\n",
    "* `risk_score` &mdash; предполагаемый риск для клиента до момента отправки email.\n"
   ]
  },
  {
   "cell_type": "markdown",
   "id": "23",
   "metadata": {
    "id": "7a16b32d"
   },
   "source": [
    "Добавьте их в качестве признаков и обучите модель\n"
   ]
  },
  {
   "cell_type": "code",
   "execution_count": null,
   "id": "24",
   "metadata": {
    "colab": {
     "base_uri": "https://localhost:8080/"
    },
    "id": "639af8f4",
    "outputId": "3d44cf74-fb70-440d-afb8-28a68cfa7562"
   },
   "outputs": [],
   "source": [
    "model_2 = smf.ols(formula='payments ~ email + credit_limit + risk_score', data=data)\n",
    "res_2 = model_2.fit()\n",
    "print(res_2.summary().tables[1])"
   ]
  },
  {
   "cell_type": "markdown",
   "id": "25",
   "metadata": {
    "id": "_oygj1Tk5qI0"
   },
   "source": [
    "Заметим, что можно извлечь результаты отдельных тестов, например, проверку гипотезы о незначимости коэффициента перед признаком `email`"
   ]
  },
  {
   "cell_type": "code",
   "execution_count": null,
   "id": "26",
   "metadata": {
    "colab": {
     "base_uri": "https://localhost:8080/"
    },
    "id": "KvVpWT2r6Ch1",
    "outputId": "1fba016c-4179-4287-f771-3f0db53e860c"
   },
   "outputs": [],
   "source": [
    "result = res_2.t_test('email = 0')\n",
    "result"
   ]
  },
  {
   "cell_type": "markdown",
   "id": "27",
   "metadata": {
    "id": "e7b1df49"
   },
   "source": [
    "Нарисуем causal graph, чтобы визаулизировать влияние величин друг на друга.\n",
    "\n",
    "*Примечание:* `graphviz` не сохраняет изображения при перемещении ноутбука, поэтому запишем граф в файл с помощью метода `render`"
   ]
  },
  {
   "cell_type": "code",
   "execution_count": null,
   "id": "28",
   "metadata": {
    "colab": {
     "base_uri": "https://localhost:8080/",
     "height": 36
    },
    "id": "fde3dafa",
    "outputId": "1bf4c427-b22d-4aa6-ff93-d2b496f0078f"
   },
   "outputs": [],
   "source": [
    "g = gr.Digraph()\n",
    "\n",
    "g.node(\"email\", color=\"gold\")\n",
    "g.edge(\"credit_limit\", \"payments\")\n",
    "g.edge(\"risk_score\", \"payments\")\n",
    "g.edge(\"email\", \"payments\")\n",
    "\n",
    "g.render('emails_covariates', format=\"png\")"
   ]
  },
  {
   "cell_type": "code",
   "execution_count": null,
   "id": "29",
   "metadata": {
    "colab": {
     "base_uri": "https://localhost:8080/",
     "height": 172
    },
    "id": "499dff72",
    "outputId": "62802891-b53f-43df-94c8-772d8bfd1eba"
   },
   "outputs": [],
   "source": [
    "Image(filename='emails_covariates.png')"
   ]
  },
  {
   "cell_type": "markdown",
   "id": "30",
   "metadata": {
    "id": "8ca9bb4e"
   },
   "source": [
    "Рассмотренные признаки *могут объяснить разброс значений таргета*, снизив тем самым его дисперсию. Кроме того, они *не влияют* на принадлежность к группе, тем самым не могут внести смещение.\n",
    "\n",
    "Итог: **любые признаки, которые влияют на таргет, не влияя при этом на тритмент (принадлежность к А или В группе), можно использовать в модели**. Они называются **ковариатами**. Это помогает снизить дисперсию."
   ]
  },
  {
   "cell_type": "markdown",
   "id": "31",
   "metadata": {
    "id": "49ebc570"
   },
   "source": [
    "### 2. Использование признаков: нежелательный случай"
   ]
  },
  {
   "cell_type": "markdown",
   "id": "32",
   "metadata": {
    "id": "cc4f3b05"
   },
   "source": [
    "Загрузим данные `hospital_treatment.csv` из [репозитория](https://github.com/matheusfacure/python-causality-handbook/blob/master/causal-inference-for-the-brave-and-true/data/hospital_treatment.csv).\n",
    "\n",
    "Две больницы проводят рандомизированное испытание нового препарата для лечения некоторой болезни. **Таргет** &mdash; количество дней госпитализации, хотим сократить эту величину. В одной больнице его назначают 90% пациентам, соответственно 10% пациентов получают плацебо. В другой больнице дают препарат случайным 10% своих пациентам, соответственно 90% получают плацебо. Причем известно, что первая больница обычно получает более тяжелые случаи заболевания."
   ]
  },
  {
   "cell_type": "code",
   "execution_count": null,
   "id": "33",
   "metadata": {
    "id": "zrvY5u5BYnyM"
   },
   "outputs": [],
   "source": [
    "DATA_PATH = \"/content/drive/MyDrive/colab_data/hospital_treatment.csv\""
   ]
  },
  {
   "cell_type": "code",
   "execution_count": null,
   "id": "34",
   "metadata": {
    "colab": {
     "base_uri": "https://localhost:8080/",
     "height": 206
    },
    "id": "42a10a1e",
    "outputId": "42e5722c-a027-4cde-bb03-392f03bd9536"
   },
   "outputs": [],
   "source": [
    "hospital = pd.read_csv(\"/content/hospital_treatment.csv\")\n",
    "hospital.head()"
   ]
  },
  {
   "cell_type": "markdown",
   "id": "35",
   "metadata": {
    "id": "012ea07f"
   },
   "source": [
    "Так как исследование не рандомизированное, то по общим данным смотреть нельзя: обратите внимание на величину коэффициента при параметре `treatment` &mdash; относится пациент к группе, которой назначено лечение (1) или нет (0)"
   ]
  },
  {
   "cell_type": "code",
   "execution_count": null,
   "id": "36",
   "metadata": {
    "colab": {
     "base_uri": "https://localhost:8080/"
    },
    "id": "f3f9d5cd",
    "outputId": "0cb21202-044e-453e-dde3-bcd12f74db80"
   },
   "outputs": [],
   "source": [
    "hosp_1 = smf.ols(formula='days ~ treatment', data=hospital).fit()\n",
    "print(hosp_1.summary().tables[1])"
   ]
  },
  {
   "cell_type": "markdown",
   "id": "37",
   "metadata": {
    "id": "q1dSW52GXN4x"
   },
   "source": [
    "Но можно посмотреть отдельно по каждой больнице (`hospital`). Постройте две `OLS` на данных каждой из больниц по отдельности."
   ]
  },
  {
   "cell_type": "code",
   "execution_count": null,
   "id": "38",
   "metadata": {
    "colab": {
     "base_uri": "https://localhost:8080/"
    },
    "id": "c8bafe5c",
    "outputId": "ad583123-bbed-4bca-99c4-77c4bb9b0628"
   },
   "outputs": [],
   "source": [
    "hospital_1 = hospital.query(\"hospital == 1\")\n",
    "hosp_2 = smf.ols(formula='days ~ treatment', data=hospital_1).fit()\n",
    "print(hosp_2.summary().tables[1])"
   ]
  },
  {
   "cell_type": "code",
   "execution_count": null,
   "id": "39",
   "metadata": {
    "colab": {
     "base_uri": "https://localhost:8080/"
    },
    "id": "b7fb0bfa",
    "outputId": "014e1b3f-dd26-4f7c-d69f-a9e53dee7216"
   },
   "outputs": [],
   "source": [
    "hospital_2 = hospital.query(\"hospital == 0\")\n",
    "hosp_3 = smf.ols(formula='days ~ treatment', data=hospital_2).fit()\n",
    "print(hosp_3.summary().tables[1])"
   ]
  },
  {
   "cell_type": "markdown",
   "id": "40",
   "metadata": {
    "id": "63ab07e1"
   },
   "source": [
    "Поскольку мы рассматриваем каждую больницу отдельно, данных недостаточно, и результаты не являются стат. значимыми.\n",
    "\n",
    "Но мы знаем, что на результат влияет степень тяжести заболевания, и можем включить ее в модель. Такой признак называется **конфаундером (confounder)**, он влечет как тритмент (принадлежность к группе с назначенным лечением), так и таргет (количество дней госпитализации)."
   ]
  },
  {
   "cell_type": "code",
   "execution_count": null,
   "id": "41",
   "metadata": {
    "colab": {
     "base_uri": "https://localhost:8080/"
    },
    "id": "c6a36d2d",
    "outputId": "64f5c588-3704-4f51-e3c9-5ab7ae0a40ad"
   },
   "outputs": [],
   "source": [
    "hosp_4 = smf.ols(formula='days ~ treatment + severity', data=hospital).fit()\n",
    "print(hosp_4.summary().tables[1])"
   ]
  },
  {
   "cell_type": "code",
   "execution_count": null,
   "id": "42",
   "metadata": {
    "colab": {
     "base_uri": "https://localhost:8080/",
     "height": 36
    },
    "id": "816c40b5",
    "outputId": "893e1350-81a0-423f-b7e7-e8a607cfc750"
   },
   "outputs": [],
   "source": [
    "g = gr.Digraph()\n",
    "\n",
    "g.node(\"treatment\", color=\"gold\")\n",
    "g.edge(\"severity\", \"hospital\")\n",
    "g.edge(\"severity\", \"days\")\n",
    "g.edge(\"hospital\", \"treatment\")\n",
    "g.edge(\"treatment\", \"days\")\n",
    "\n",
    "g.render('hospitals_features', format=\"png\")"
   ]
  },
  {
   "cell_type": "code",
   "execution_count": null,
   "id": "43",
   "metadata": {
    "colab": {
     "base_uri": "https://localhost:8080/",
     "height": 364
    },
    "id": "87d32192",
    "outputId": "184dd339-7b38-438b-ff13-c9ea2c57e037"
   },
   "outputs": [],
   "source": [
    "Image(filename='hospitals_features.png')"
   ]
  },
  {
   "cell_type": "markdown",
   "id": "44",
   "metadata": {
    "id": "86fa5163"
   },
   "source": [
    "Нужно ли включить больницу в модель? Мы же знаем, что лечение назначается в больницах по-разному, и, кажется, это будет дополнительной информацией.\n",
    "\n",
    "Однако при фиксировании степени тяжести и тритмента, больница не коррелирует таргетом. Она влечет только тритмент, поэтому *не является* конфаундером. Для снижения дисперсии признак должен быть *хорошей ковариатой таргета*, а не тритмента.\n",
    "\n",
    "Если мы попробуем его использовать, мы повысим дисперсию. Проверьте это утверждение, построив соответствующую модель."
   ]
  },
  {
   "cell_type": "code",
   "execution_count": null,
   "id": "45",
   "metadata": {
    "colab": {
     "base_uri": "https://localhost:8080/"
    },
    "id": "368145e8",
    "outputId": "9e5daad9-6203-4382-d725-9c932e9f8e8c"
   },
   "outputs": [],
   "source": [
    "hosp_5 = smf.ols(formula='days ~ treatment + severity + C(hospital)', data=hospital).fit()\n",
    "print(hosp_5.summary().tables[1])"
   ]
  },
  {
   "cell_type": "markdown",
   "id": "46",
   "metadata": {
    "id": "LGfNm7XE8X3L"
   },
   "source": [
    "**Выводы:**\n",
    "\n",
    "1. **Общая модель:**\n",
    "\n",
    "   - Коэффициент при `treatment`: **+14.15**, значимый (p < 0.05)\n",
    "\n",
    "   - Без учета конфаундера (`severity`) результат ненадежен\n",
    "\n",
    "2. **Анализ по больницам:**\n",
    "\n",
    "   - Коэффициенты при `treatment`: **-10.40** (больница 1) и **-11.41** (больница 2), оба незначимы (p > 0.1)\n",
    "\n",
    "   - Малые выборки увеличивают неопределенность.\n",
    "\n",
    "3. **Учет степени тяжести (`severity`):**\n",
    "\n",
    "   - Коэффициент при `treatment`: **-7.59**, значимый (p < 0.05)\n",
    "\n",
    "   - Степень тяжести (`severity`): значима (коэффициент **+2.27**, p < 0.05), устраняет смещение.\n",
    "\n",
    "4. **Включение больницы (`C(hospital)`):**\n",
    "\n",
    "   - Коэффициент при `treatment`: **-5.09**, становится незначимым (p = 0.149)\n",
    "\n",
    "   - Больница (`C(hospital)[T.1]`): незначима (p = 0.35)\n",
    "\n",
    "   - Учет больницы увеличивает дисперсию без пользы.\n",
    "\n",
    "\n",
    "**Итог:** Использовать модель с признаками `treatment` и `severity`. Больницу исключить — она не улучшает модель."
   ]
  },
  {
   "cell_type": "markdown",
   "id": "47",
   "metadata": {
    "id": "2684d90e"
   },
   "source": [
    "-----\n",
    "**Итог:**\n",
    "* Необходимо добавлять в модель **переменные-ковариаты**, которые влекут таргет (целевую переменную).\n",
    "* Необходимо добавлять в модель **переменные-конфаундеры**, которые влекут как тритмент, так и таргет.\n",
    "* Не следует добавлять в модель переменные, которые могут только спрогнозировать тритмент."
   ]
  },
  {
   "cell_type": "markdown",
   "id": "48",
   "metadata": {
    "id": "3b18b5be"
   },
   "source": [
    "### 3. Использование признаков: плохой случай, возникновение смещения"
   ]
  },
  {
   "cell_type": "markdown",
   "id": "49",
   "metadata": {
    "id": "NDjXs2eyCgVz"
   },
   "source": [
    "Вернемся к примеру с письмами.\n",
    "\n",
    "Рассмотрим два дополнительных признака, которые есть в наших данных:\n",
    "* `opened` &mdash; открыл ли клиент письмо или нет,\n",
    "* `agreement` &mdash; клиент связался для обсуждения своего долга после получения письма.\n",
    "\n",
    "Какая из следующих моделей лучше? Только с `email + credit_limit + risk_score` (email_1) или с еще двумя дополнительными признаками (email_2)?"
   ]
  },
  {
   "cell_type": "code",
   "execution_count": null,
   "id": "50",
   "metadata": {
    "colab": {
     "base_uri": "https://localhost:8080/"
    },
    "id": "ac83fcc7",
    "outputId": "cdb93a12-5a61-49e0-d6e2-2eef270b8453"
   },
   "outputs": [],
   "source": [
    "email_1 = smf.ols(formula='payments ~ email + credit_limit + risk_score', data=data).fit()\n",
    "print(email_1.summary().tables[1])"
   ]
  },
  {
   "cell_type": "code",
   "execution_count": null,
   "id": "51",
   "metadata": {
    "colab": {
     "base_uri": "https://localhost:8080/"
    },
    "id": "02c64f43",
    "outputId": "28cf9359-7187-48d6-b00e-2eae6d1cc8bc"
   },
   "outputs": [],
   "source": [
    "email_2 = smf.ols(formula='payments ~ email + credit_limit + risk_score + opened + agreement', data=data).fit()\n",
    "print(email_2.summary().tables[1])"
   ]
  },
  {
   "cell_type": "markdown",
   "id": "52",
   "metadata": {
    "id": "4069368a"
   },
   "source": [
    "Первая модель находит статистически значимые результаты для коэффициента `email`, вторая &mdash; нет. Кажется, раз первая модель смогла найти разницу, то она круче. Но ведь во второй модели мы учли дополнительные факторы, и, может быть, она на самом деле правильная, и тритмент никак не влияет на результат?\n",
    "\n",
    "---\n",
    "\n",
    "Опишите, как связаны `opened` и `agreement` с таргетом и тритментом, и ответьте на вопрос, к какому из трех типов признаков (*коварианты, конфаундеры, инструменты*) эти переменные относятся?"
   ]
  },
  {
   "cell_type": "markdown",
   "id": "53",
   "metadata": {
    "id": "auLCHcwu9V8n"
   },
   "source": [
    "**Ответ:**\n",
    "\n",
    "Модель **email_1** (без `opened` и `agreement`) лучше, потому что в **email_2** эти признаки становятся **инструментами**, влияющими на таргет, и искажают эффект от `email`.  \n",
    "**`opened`** и **`agreement`** — **инструменты**, связанные с тритментом и таргетом, но не конфаундеры."
   ]
  },
  {
   "cell_type": "markdown",
   "id": "54",
   "metadata": {
    "id": "n5tBH6DT9lw9"
   },
   "source": [
    "*Примечание.* Заметим, что `email` может влиять на таргет не только через `opened`, но и напрямую. Например, клиент увидел письмо, и погасил свой долг, не открывая само письмо."
   ]
  },
  {
   "cell_type": "markdown",
   "id": "55",
   "metadata": {
    "id": "9a7b578c"
   },
   "source": [
    "Проблема заключается в том, что теперь помимо основного пути `email -> payment` у нас еще есть дополнительный путь `email -> opened -> agreement -> payment`. Тем самым часть истинного эффекта влияния тритмента на таргет перетекла на дополнительный путь, который не учтен в коэффициенте линейной регрессии перед `email`. Ведь есть еще и `opened=1`, то вклад в эффект является уже суммой двух коэффициентов линейной регрессии."
   ]
  },
  {
   "cell_type": "markdown",
   "id": "56",
   "metadata": {
    "id": "d82de01a"
   },
   "source": [
    "## Статистические свойства линейной регрессии\n",
    "\n",
    "Загрузим датасет с данными по стоимости квартир в Москве (<a href=\"https://raw.githubusercontent.com/bdemeshev/em301/master/datasets/flats_moscow.txt\">источник</a>)."
   ]
  },
  {
   "cell_type": "code",
   "execution_count": null,
   "id": "57",
   "metadata": {
    "colab": {
     "base_uri": "https://localhost:8080/",
     "height": 206
    },
    "id": "46d1d496",
    "outputId": "57e0d0db-1ade-4dc1-f96c-27b9397f34cf"
   },
   "outputs": [],
   "source": [
    "flats = pd.read_csv(\"/content/flats_moscow.txt\", sep='\\t')\n",
    "flats.head()"
   ]
  },
  {
   "cell_type": "markdown",
   "id": "58",
   "metadata": {
    "id": "b94cdabc"
   },
   "source": [
    "Будем рассматривать зависимость цены квартиры от ее площади."
   ]
  },
  {
   "cell_type": "markdown",
   "id": "59",
   "metadata": {
    "id": "6e89e6a4"
   },
   "source": [
    "### 1. Обучение простой линейной модели\n",
    "\n",
    "Сначала обучим линейную регрессию `OLS` предсказания стоимости квартиры по ее площади по аналогии с предыдущими пунктами."
   ]
  },
  {
   "cell_type": "code",
   "execution_count": null,
   "id": "60",
   "metadata": {
    "colab": {
     "base_uri": "https://localhost:8080/"
    },
    "id": "b395bd6a",
    "outputId": "3bcbfbb5-0dc5-4cf5-f7e4-02dca5c55bfe"
   },
   "outputs": [],
   "source": [
    "l_results = smf.ols(formula='price ~ totsp', data=flats).fit()\n",
    "print(l_results.summary())"
   ]
  },
  {
   "cell_type": "markdown",
   "id": "61",
   "metadata": {
    "id": "604ed614"
   },
   "source": [
    "Посмотрим на результаты модели, полученные **в предположении гомоскедастичности**."
   ]
  },
  {
   "cell_type": "markdown",
   "id": "62",
   "metadata": {
    "id": "69de10ab"
   },
   "source": [
    "Можно извлечь результаты отдельных тестов, например, проверка гипотезы о незначимости коэффициента перед признаком `totsp`."
   ]
  },
  {
   "cell_type": "code",
   "execution_count": null,
   "id": "63",
   "metadata": {
    "colab": {
     "base_uri": "https://localhost:8080/"
    },
    "id": "ba76cdcd",
    "outputId": "59ed9452-d53d-47eb-e149-5e26689d5910"
   },
   "outputs": [],
   "source": [
    "result = l_results.t_test('totsp = 0')\n",
    "result"
   ]
  },
  {
   "cell_type": "markdown",
   "id": "64",
   "metadata": {
    "id": "3133feba"
   },
   "source": [
    "Посмотрите, как зависят остатки обученной модели (используйте функцию `outlier_test()`) от общей площади квартиры"
   ]
  },
  {
   "cell_type": "code",
   "execution_count": null,
   "id": "65",
   "metadata": {
    "colab": {
     "base_uri": "https://localhost:8080/",
     "height": 361
    },
    "id": "19200618",
    "outputId": "5d6263f7-7a02-4eb0-ab4d-07c5b783e9c1"
   },
   "outputs": [],
   "source": [
    "plt.figure(figsize=(12, 6))\n",
    "plt.scatter(flats['totsp'], l_results.resid, alpha=0.4)\n",
    "plt.title('Стоимость квартир в Москве')\n",
    "plt.xlabel('Общая площадь квартиры, кв.м')\n",
    "plt.ylabel('Цена квартиры, $1000 (остатки модели)');"
   ]
  },
  {
   "cell_type": "markdown",
   "id": "66",
   "metadata": {
    "id": "l_Gek1vY8arv"
   },
   "source": [
    "По графику явно видна гетероскедастичность.\n",
    "\n",
    "*Примечание.* Если **хотя бы по одному** признаку, используемому в модели, видна разная дисперсия остатков, то имеет смысл говорить о гетероскедастичности."
   ]
  },
  {
   "cell_type": "markdown",
   "id": "67",
   "metadata": {
    "id": "34bda7bc"
   },
   "source": [
    "### 2. Проверка на гетероскедастичность\n",
    "\n",
    "*При наличии подозрений на гетероскедастичность рекомендуется сразу использовать устойчивые оценки дисперсии (см. далее), не применяя проверку на гетероскедастичность стат. критериями. Данные критерии также имеют свои ошибки, и последовательное применение нескольких критериев может суммировать вероятности ошибок.*\n",
    "\n",
    "$\\mathsf{H}_0: \\gamma_2 = \\gamma_3 = ... = \\gamma_p ⇔ σ_1^2 = ... = σ_n^2 \\Leftrightarrow \\,{\\large остатки \\,\\, гомоскедатичны}$\n",
    "\n",
    "$\\mathsf{H}_1: \\mathsf{H}_0 \\,\\,{\\large неверна}$\n",
    "\n",
    "В качестве параметров все методы принимают остатки `resid` и регрессоры (параметры) `model.exog` &mdash; именно в таком порядке"
   ]
  },
  {
   "cell_type": "markdown",
   "id": "68",
   "metadata": {
    "id": "b3fabdd3"
   },
   "source": [
    "**Критерий Бройша-Пагана**"
   ]
  },
  {
   "cell_type": "code",
   "execution_count": null,
   "id": "69",
   "metadata": {
    "colab": {
     "base_uri": "https://localhost:8080/",
     "height": 209
    },
    "id": "b9b48b16",
    "outputId": "f639682e-52ec-44d4-bde5-b34613982128"
   },
   "outputs": [],
   "source": [
    "test = sms.het_breuschpagan(l_results.resid, l_results.model.exog)\n",
    "\n",
    "name = [\"Lagrange multiplier statistic\", \"p-value\", \"f-value\", \"f p-value\"]\n",
    "pd.Series(test, index=name)"
   ]
  },
  {
   "cell_type": "markdown",
   "id": "70",
   "metadata": {
    "id": "902724a7"
   },
   "source": [
    "**Критерий Голдфелда-Квандта**"
   ]
  },
  {
   "cell_type": "code",
   "execution_count": null,
   "id": "71",
   "metadata": {
    "colab": {
     "base_uri": "https://localhost:8080/",
     "height": 178
    },
    "id": "5daaff1c",
    "outputId": "c8356012-96b8-4a5b-9686-d4b49e72d118"
   },
   "outputs": [],
   "source": [
    "test = sms.het_goldfeldquandt(l_results.resid, l_results.model.exog)\n",
    "\n",
    "name = [\"F statistic\", \"p-value\", \"type\"]\n",
    "pd.Series(test, index=name)"
   ]
  },
  {
   "cell_type": "markdown",
   "id": "72",
   "metadata": {
    "id": "e61412b3"
   },
   "source": [
    "**Критерий Уайта**"
   ]
  },
  {
   "cell_type": "code",
   "execution_count": null,
   "id": "73",
   "metadata": {
    "colab": {
     "base_uri": "https://localhost:8080/",
     "height": 209
    },
    "id": "06e00536",
    "outputId": "1be05b9b-b9aa-430f-bf7b-ef0d1fa6dd8f"
   },
   "outputs": [],
   "source": [
    "test = sms.het_white(l_results.resid, l_results.model.exog)\n",
    "\n",
    "name = [\"Lagrange multiplier statistic\", \"p-value\", \"f-value\", \"f p-value\"]\n",
    "pd.Series(test, index=name)"
   ]
  },
  {
   "cell_type": "markdown",
   "id": "74",
   "metadata": {
    "id": "3f6ac1b4"
   },
   "source": [
    "### 3. Использование устойчивых оценок дисперсии\n",
    "\n",
    "Обучите модель `OLS` в условиях гетероскедастичности. Возьмите `cov_type=\"HC3\"` у метода `fit` модели и посмотрите на результат. Интерпретация значений в таблицах аналогична, см. пояснения выше."
   ]
  },
  {
   "cell_type": "code",
   "execution_count": null,
   "id": "75",
   "metadata": {
    "colab": {
     "base_uri": "https://localhost:8080/"
    },
    "id": "5e037a62",
    "outputId": "068155ef-cd94-4c2f-8483-d666a9f93bf2"
   },
   "outputs": [],
   "source": [
    "l_results_robust = smf.ols(formula='price ~ totsp', data=flats).fit(cov_type='HC3')\n",
    "\n",
    "print(l_results_robust.summary())"
   ]
  },
  {
   "cell_type": "markdown",
   "id": "76",
   "metadata": {
    "id": "xXseZPNr_W8y"
   },
   "source": [
    "**Вопрос:** Что изменилось при использовании поправки на гетероскедатичность?\n",
    "\n",
    "**Ответ:**\n",
    "\n",
    "При использовании поправки на гетероскедастичность (`cov_type='HC3'`) стандартные ошибки увеличились, что сделало оценки более устойчивыми к изменчивости дисперсии остатков. Коэффициент `totsp` остался значимым, но с более высокой стандартной ошибкой.\n"
   ]
  },
  {
   "cell_type": "markdown",
   "id": "77",
   "metadata": {
    "id": "35a83b31"
   },
   "source": [
    "### 4. Пример с несколькими признаками\n",
    "\n",
    "Рассмотрим регрессионную модель $$price = \\theta_0 + \\theta_1 \\cdot totsp + \\theta_2 \\cdot livesp + \\theta_3 \\cdot dist$$\n",
    "\n",
    "Напишите формулу для модели и укажите тип используемой оценки матрицы ковариаций в предположении гетероскедастичности."
   ]
  },
  {
   "cell_type": "code",
   "execution_count": null,
   "id": "78",
   "metadata": {
    "colab": {
     "base_uri": "https://localhost:8080/"
    },
    "id": "d504fb91",
    "outputId": "e0e8ff7c-f9fd-4b55-8f96-1ac931f29a89"
   },
   "outputs": [],
   "source": [
    "model2 = smf.ols('price ~ totsp + livesp + dist', flats)\n",
    "results2 = model2.fit(cov_type='HC3')\n",
    "print(results2.summary())"
   ]
  },
  {
   "cell_type": "markdown",
   "id": "79",
   "metadata": {
    "id": "7ab86781"
   },
   "source": [
    "Как и раньше, можно извлечь результаты отдельных тестов."
   ]
  },
  {
   "cell_type": "code",
   "execution_count": null,
   "id": "80",
   "metadata": {
    "colab": {
     "base_uri": "https://localhost:8080/"
    },
    "id": "a966dc77",
    "outputId": "a6df1084-c715-4282-86a4-181d5f105bf8"
   },
   "outputs": [],
   "source": [
    "results2.t_test('totsp = 0')"
   ]
  },
  {
   "cell_type": "markdown",
   "id": "81",
   "metadata": {
    "id": "3a7f9b8d"
   },
   "source": [
    "С помощью t-критерия можно проверять одну любую линейную гипотезу. Например, гипотеза о равенстве $\\theta_{totsp} = 2\\theta_{dist}$."
   ]
  },
  {
   "cell_type": "code",
   "execution_count": null,
   "id": "82",
   "metadata": {
    "colab": {
     "base_uri": "https://localhost:8080/"
    },
    "id": "44ba1425",
    "outputId": "d09c2f21-588c-4f3c-fdc4-32f63ab7e638"
   },
   "outputs": [],
   "source": [
    "results2.t_test('totsp = 2*dist')"
   ]
  },
  {
   "cell_type": "markdown",
   "id": "83",
   "metadata": {
    "id": "46dfa80c"
   },
   "source": [
    "Можно использовать  f-критерий для проверки нескольких линейных гипотез.\n",
    "\n",
    "Например, проверим гипотезу об одновременной незначимости коэффициентов перед признаками `livesp`, `dist`."
   ]
  },
  {
   "cell_type": "code",
   "execution_count": null,
   "id": "84",
   "metadata": {
    "colab": {
     "base_uri": "https://localhost:8080/"
    },
    "id": "7cf54c56",
    "outputId": "99616a66-5b4b-4bf0-ab19-44a723d6d301"
   },
   "outputs": [],
   "source": [
    "print(results2.f_test(\"(livesp=0), (dist=0)\"))"
   ]
  },
  {
   "cell_type": "markdown",
   "id": "85",
   "metadata": {
    "id": "6261628b"
   },
   "source": [
    "Можно проверить гипотезу о равенстве $\\theta_{totsp} = \\theta_{dist}$."
   ]
  },
  {
   "cell_type": "code",
   "execution_count": null,
   "id": "86",
   "metadata": {
    "colab": {
     "base_uri": "https://localhost:8080/"
    },
    "id": "3d01cccf",
    "outputId": "b7add9d9-805c-4dbb-b9e6-91e929e2b2e9"
   },
   "outputs": [],
   "source": [
    "print(results2.f_test(\"(livesp=dist)\"))"
   ]
  },
  {
   "cell_type": "markdown",
   "id": "87",
   "metadata": {
    "id": "TXoBjeaOYEu9"
   },
   "source": [
    "**Выводы:**\n",
    "\n",
    "1. **Результаты модели**:\n",
    "\n",
    "   - Модель объясняет 64.4% дисперсии зависимой переменной (R-squared = 0.644)\n",
    "\n",
    "   - Все коэффициенты значимы (p-значения < 0.05):\n",
    "\n",
    "     - `totsp`: положительный эффект на цену\n",
    "\n",
    "     - `livesp`: положительный эффект на цену\n",
    "\n",
    "     - `dist`: отрицательный эффект на цену\n",
    "\n",
    "2. **Тесты гипотез**:\n",
    "\n",
    "   - **Тест для `totsp = 0`**: гипотеза отвергнута (p < 0.05)\n",
    "\n",
    "   - **Тест для `totsp = 2*dist`**: гипотеза отвергнута (p < 0.05)\n",
    "\n",
    "   - **Тест для `livesp=0`, `dist=0`**: гипотеза отвергнута (p < 0.05)\n",
    "\n",
    "   - **Тест для `totsp = dist`**: гипотеза отвергнута (p < 0.05)\n",
    "\n",
    "3. **Корректировка на гетероскедастичность**:\n",
    "\n",
    "   - Все стандартные ошибки были скорректированы с помощью метода HC3, что позволяет учесть возможную гетероскедастичность"
   ]
  }
 ],
 "metadata": {
  "colab": {
   "collapsed_sections": [
    "w0MZWjUyhwBa",
    "ffa211ba",
    "49ebc570",
    "3b18b5be",
    "db12007b",
    "6e89e6a4",
    "34bda7bc",
    "3f6ac1b4",
    "35a83b31"
   ],
   "provenance": []
  },
  "kernelspec": {
   "display_name": "Python 3 (ipykernel)",
   "language": "python",
   "name": "python3"
  },
  "language_info": {
   "codemirror_mode": {
    "name": "ipython",
    "version": 3
   },
   "file_extension": ".py",
   "mimetype": "text/x-python",
   "name": "python",
   "nbconvert_exporter": "python",
   "pygments_lexer": "ipython3",
   "version": "3.10.15"
  }
 },
 "nbformat": 4,
 "nbformat_minor": 5
}
