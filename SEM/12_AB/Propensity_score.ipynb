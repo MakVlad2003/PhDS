{
 "cells": [
  {
   "cell_type": "markdown",
   "metadata": {
    "id": "2rXzQUlOzRHf"
   },
   "source": [
    "# ML в Биологии\n",
    "## Propensity Score"
   ]
  },
  {
   "cell_type": "code",
   "execution_count": null,
   "metadata": {
    "id": "1b51d8ef"
   },
   "outputs": [],
   "source": [
    "import warnings\n",
    "warnings.filterwarnings('ignore')\n",
    "\n",
    "import numpy as np\n",
    "import pandas as pd\n",
    "from matplotlib import pyplot as plt\n",
    "import seaborn as sns\n",
    "\n",
    "import statsmodels.formula.api as smf\n",
    "from sklearn.linear_model import LogisticRegression, LinearRegression\n",
    "\n",
    "from joblib import Parallel, delayed\n",
    "\n",
    "sns.set(font_scale=1.3, palette='Set2', style='whitegrid')"
   ]
  },
  {
   "cell_type": "markdown",
   "metadata": {
    "id": "89dkWnZx6xku"
   },
   "source": [
    "На основе материалов <a href=\"https://matheusfacure.github.io/python-causality-handbook/landing-page.html\">учебника</a>.\n",
    "\n",
    "$\\newcommand{\\indep}{\\perp \\!\\!\\! \\perp}$\n",
    "$\\newcommand{\\notindep}{\\not\\!\\perp \\!\\!\\! \\perp}$"
   ]
  },
  {
   "cell_type": "markdown",
   "metadata": {
    "id": "7bae61c9"
   },
   "source": [
    "## 1. Propensity Score"
   ]
  },
  {
   "cell_type": "markdown",
   "metadata": {
    "id": "0fc0733d"
   },
   "source": [
    "Рассмотрим [данные](https://github.com/matheusfacure/python-causality-handbook/blob/c817a34e69ef96d2344064f01eeccc129ab365ca/causal-inference-for-the-brave-and-true/data/learning_mindset.csv) об исследовании семинаров о Growth Mindset (установка на рост). Это рандомизированное исследование, проведенное в государственных школах США, целью которого является выявление влияния специальных семинаров Growth Mindset. После прохождения семинаров исследователи наблюдают за студентами во время учебы в колледже. Реальные данные по этому исследованию не являются общедоступными для сохранения конфиденциальности. Будем работать с искусственным набором данных с теми же статистическими свойствами.\n",
    "\n",
    "\n",
    "Признаки\n",
    "\n",
    "* `schoolid` &mdash; идентификатор школы учащегося;\n",
    "\n",
    "* `intervention` &mdash; назначен ли ученику специальный семинар;\n",
    "\n",
    "* `achievement_score` &mdash; успешность ученика, стандартизированный признак;\n",
    "\n",
    "* `success_expect` &mdash; самооценка успеха в будущем, показатель предыдущих достижений, измеренный до случайного тритмента;\n",
    "\n",
    "* `ethnicity` &mdash; этническая принадлежность студента, категориальный признак;\n",
    "\n",
    "* `gender` &mdash; пол ученика, категориальный признак;\n",
    "\n",
    "* `frst_in_family` &mdash; первый ли в семье, поступивший в колледж, категориальный признак;\n",
    "\n",
    "* `school_urbanicity` &mdash; уровень урбанизации школы (сельская, пригородная и т.д.), категориальный признак;\n",
    "\n",
    "* `school_mindset` &mdash; среднее значение типа мышления учащихся на уровне школы, зафиксированное до эксперимента, стандартизированный признак;\n",
    "\n",
    "* `school_achievement` &mdash; уровень школьных достижений, измеряемый результатами тестов и подготовкой к колледжу для предыдущих 4 групп учащихся, стандартизированный признак;\n",
    "\n",
    "* `school_ethnic_minority` &mdash; этнический состав школы, т.е. процент чернокожих, латиноамериканцев или коренных американцев среди учащихся, стандартизированный признак;\n",
    "\n",
    "* `school_poverty` &mdash; концентрация бедности в школе, т.е. процент учащихся из семей, доходы которых ниже черты бедности, стандартизированный признак;\n",
    "\n",
    "* `school_size` &mdash; общее количество учащихся во всех четырех классах школы, стандартизированный признак."
   ]
  },
  {
   "cell_type": "code",
   "execution_count": null,
   "metadata": {
    "colab": {
     "base_uri": "https://localhost:8080/",
     "height": 226
    },
    "id": "3d4c2d17",
    "outputId": "4f0d00f4-6c86-4ac3-86e9-3941c0c7e0c3"
   },
   "outputs": [],
   "source": [
    "data = pd.read_csv(\"/content/learning_mindset.csv\")\n",
    "data.sample(5)"
   ]
  },
  {
   "cell_type": "markdown",
   "metadata": {
    "id": "4QGLQ7Y5EMqA"
   },
   "source": [
    "Хотя исследование было рандомизированным, не похоже на отсутствие смещения в данных. Дело в том, что возможность принять участие была случайной, но само участие таковым не являлось. Например, мы можем видеть, что студенты с более высокой самооценкой (до начала эксперимента) с большей вероятностью присоединились к семинару."
   ]
  },
  {
   "cell_type": "code",
   "execution_count": null,
   "metadata": {
    "colab": {
     "base_uri": "https://localhost:8080/",
     "height": 335
    },
    "id": "48093f71",
    "outputId": "4855ea1e-a191-4117-8fea-50727916de06"
   },
   "outputs": [],
   "source": [
    "data.groupby(\"success_expect\")[\"intervention\"].mean()"
   ]
  },
  {
   "cell_type": "markdown",
   "metadata": {
    "id": "95fd355c"
   },
   "source": [
    "Тем не менее посмотрим на разность средних $\\mathsf{E}(Y|T=1) - \\mathsf{E}(Y|T=0)$, будем рассматривать ее как бейзлайн (базовая оценка, с которой будем сравнивать последующие)."
   ]
  },
  {
   "cell_type": "code",
   "execution_count": null,
   "metadata": {
    "colab": {
     "base_uri": "https://localhost:8080/",
     "height": 81
    },
    "id": "0ef88117",
    "outputId": "37f04409-6284-4f19-f499-408cf23a5cb3"
   },
   "outputs": [],
   "source": [
    "smf.ols(\"achievement_score ~ intervention\", data=data).fit().summary().tables[1]"
   ]
  },
  {
   "cell_type": "markdown",
   "metadata": {
    "id": "4114a8c4"
   },
   "source": [
    "Видим, что у посещающих семинар оценка достижений в среднем на $0,3185 = 0,4723 - 0,1538$ выше общего среднего балла, который равен нулю, поскольку оценка стандартизирована."
   ]
  },
  {
   "cell_type": "code",
   "execution_count": null,
   "metadata": {
    "colab": {
     "base_uri": "https://localhost:8080/",
     "height": 464
    },
    "id": "fa1ab00d",
    "outputId": "918a47c4-133b-4fee-ac7e-7c1d5d334e6c"
   },
   "outputs": [],
   "source": [
    "plt.hist(\n",
    "    data[\"achievement_score\"],\n",
    "    bins=20, alpha=0.3, label=\"Вся совокупность\"\n",
    ")\n",
    "plt.hist(\n",
    "    data.query(\"intervention==0\")[\"achievement_score\"],\n",
    "    bins=20, alpha=0.3, color=\"C2\"\n",
    ")\n",
    "plt.hist(\n",
    "    data.query(\"intervention==1\")[\"achievement_score\"],\n",
    "    bins=20, alpha=0.3, color=\"C3\"\n",
    ")\n",
    "plt.vlines(-0.1538, 0, 300, label=\"Контроль\", color=\"C2\")\n",
    "plt.vlines(-0.1538+0.4723, 0, 300, label=\"Тест\", color=\"C3\")\n",
    "plt.xlabel(\"Успешность ученика\")\n",
    "plt.legend(fontsize=12)\n",
    "plt.show();"
   ]
  },
  {
   "cell_type": "markdown",
   "metadata": {
    "id": "819959ff"
   },
   "source": [
    "\n",
    "### 1.1 Непосредственно Propensity score\n",
    "\n",
    "Идея: нет необходимости напрямую в модели контролировать все конфаундеры $X$ для достижения условной независимости $(С_1, С_0){\\perp\\!\\!\\!\\perp} T | X$. Вместо этого достаточно контролировать условное мат. ожидание $\\mathsf{E}(T|X)$ как случайную величины. Если тритмент бинарный, то он является условной вероятностью тритмента $\\mathsf{P}(T=1|X)$, также называемый **propensity score** $P(x) = \\mathsf{P}(T=1|X=x)$.\n",
    "\n",
    "Propensity score позволяет не ставить условие на весь $X$ для получения независимости. Достаточно поставить условие только на propensity score\n",
    "$$(C_1, C_0) \\perp T | P(X)$$\n",
    "\n",
    "Propensity score &mdash; это условная вероятность тритмента, по сути это функция, которая преобразует признаки $X$ в тритмент $T$ (вероятность попасть в группу А или в группу В). В ней сосредоточена вся информация о том, как признаки $X$ влияют на распределение участников по группам, $T$. Все остальное &mdash; непрогнозируемый шум. Если мы фиксируем $P(X)$, то сам $X$ ничего не говорит о том, каким может быть $T$."
   ]
  },
  {
   "cell_type": "markdown",
   "metadata": {
    "id": "ZhPSbSak-yiQ"
   },
   "source": [
    "Посмотрим, как будет выглядеть наш граф."
   ]
  },
  {
   "cell_type": "markdown",
   "metadata": {
    "id": "r6KizV5L9Px4"
   },
   "source": [
    "<img src=\"data:image/png;base64,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\">"
   ]
  },
  {
   "cell_type": "markdown",
   "metadata": {
    "id": "16083c29"
   },
   "source": [
    "Посещающие семинар и не посещающие изначально несопоставимы, потому что у более амбициозных людей больше вероятность пройти семинар и достичь большего в жизни. Однако, если взять двух студентов из разных групп, но *с одинаковой вероятностью тритмента*, они будут сопоставимы. А **единственная причина**, по которой один из них посещал семинар, а другой нет &mdash; это чистая **случайность**. Фиксация propensity score приводит к тому, что данные выглядят подобно случайным.\n",
    "\n",
    "---\n",
    "\n",
    "Покажем, что условие $(C_1, C_0) {\\perp\\!\\!\\!\\perp} T | P(X)$ эквивалентно $\\mathsf{E}(T|P(X), X) = \\mathsf{E}(T|P(X))$\n",
    "Иначе говоря, при рассмотрении $P (X)$ в условии, сам $X$ не дает никакой дополнительной информации о $T$.\n",
    "\n",
    "Доказательство:\n",
    "* Левая часть\n",
    "$$\\mathsf{E}(T|P(X), X) = \\mathsf{E}(T|X) = P(X)$$\n",
    "\n",
    "* Правая часть\n",
    "$$\\mathsf{E}(T|P(X)) = \\mathsf{E}( \\ \\mathsf{E}(T|P(X), X) \\  |P(X)) = \\mathsf{E}( P(X)  |P(X)) = P(X)$$\n"
   ]
  },
  {
   "cell_type": "markdown",
   "metadata": {
    "id": "a45a18ac"
   },
   "source": [
    "### 1.2 Propensity Weighting\n",
    "\n",
    "После получения propensity score можно использовать оценку, которая зависит только от него, а не от всех признаков $X$.\n",
    "\n",
    "Идея следующая\n",
    "$$\\mathsf{E}(Y|X,T=1)−\\mathsf{E}(Y|X,T=0) = \\mathsf{E}\\bigg[\\left.\\dfrac{Y}{P(X)}\\right|X,T=1\\bigg]P(X) - \\mathsf{E}\\bigg[\\left.\\dfrac{Y}{1-P(X)}\\right|X,T=0\\bigg](1-P(X))$$\n",
    "\n",
    "\n",
    "Первое слагаемое берет всех тех, кто в тестовой группе, и масштабирует их по обратной вероятности попасть в тестовую группу. Тем самым люди с очень низкой вероятностью тритмента имеют высокий вес. Смысл в том, что если у кого-то низкая вероятность тритмента, то этот человек выглядит как представитель контрольной группы. Однако этот человек был в тестовой группе. Тем самым логично придать ему высокий вес. Это создает популяцию того же размера, что и исходная совокупность данных, но в которой тритмент оказывает влияние на всех.\n",
    "\n",
    "Аналогично второе слагаемое взаимодействует с контрольной группой, придавая высокий вес тем, которые выглядят так, как будто они в тестовой группе.\n",
    "\n",
    "\n",
    "Воспользовавшись теоремой Байеса и тем, что propensity score является функцией от $X$ при фиксированном значении $T$, получим:\n",
    "\n",
    "$$\\mathsf{E}\\bigg[Y \\dfrac{T-P(X)}{P(X)(1-P(X))}\\bigg|X\\bigg]$$\n",
    "\n",
    "Далее, интегрируя мат. ожидание по $X$, получаем\n",
    "\n",
    "$$\\mathsf{E}\\bigg[Y \\dfrac{T-P(X)}{P(X)(1-P(X))}\\bigg]$$\n",
    "\n",
    "Обратите внимание, что $P(X)$ и $1-P(X)$ должны быть больше нуля. Это означает, что у каждого должен быть хотя бы какой-то шанс получить тритмент или не получить его. Иначе говоря, распределения должны пересекаться. Иначе они будут очень разными, не получится надежно экстраполировать эффект одной группы на другую."
   ]
  },
  {
   "cell_type": "markdown",
   "metadata": {
    "id": "19b122bb"
   },
   "source": [
    "## 2. Propensity Score Estimation\n",
    "\n",
    "\n",
    "В идеальном мире у нас был бы истинный $P(x)$. Но в реальности мы можем получить только его оценку $\\widehat{P}(x)$. Наиболее распространенный способ &mdash; логистическая регрессия.\n",
    "\n",
    "Подготовим данные для последующего обучения моделей"
   ]
  },
  {
   "cell_type": "code",
   "execution_count": null,
   "metadata": {
    "colab": {
     "base_uri": "https://localhost:8080/"
    },
    "id": "556508d7",
    "outputId": "b0bde59d-50ba-4e9a-9b28-a810e3259497"
   },
   "outputs": [],
   "source": [
    "# список категориальных переменных\n",
    "categ = [\"ethnicity\", \"gender\", \"school_urbanicity\"]\n",
    "# список вещественных переменных\n",
    "cont = [\n",
    "    \"school_mindset\", \"school_achievement\",\n",
    "    \"school_ethnic_minority\", \"school_poverty\", \"school_size\"\n",
    "]\n",
    "\n",
    "data_with_categ = pd.concat([\n",
    "    # вещественные признаки\n",
    "    data.drop(columns=categ),\n",
    "    # преобразование категориальных признаков\n",
    "    pd.get_dummies(data[categ], columns=categ, drop_first=False)\n",
    "], axis=1)\n",
    "\n",
    "print(data_with_categ.shape)"
   ]
  },
  {
   "cell_type": "markdown",
   "metadata": {
    "id": "HpBM6UBKzRHo"
   },
   "source": [
    "Напишем функцию, позволяющую оценивать propensity score $\\mathsf{P}(T=1|X=x)$ с помощью лог регрессии и рассчитывать веса $\\dfrac{T-P(X)}{P(X)(1-P(X))}$ для ATE из формулы выше."
   ]
  },
  {
   "cell_type": "code",
   "execution_count": null,
   "metadata": {
    "id": "f8d91923"
   },
   "outputs": [],
   "source": [
    "def calculate_ps(df, X, T):\n",
    "    '''\n",
    "    Обучает логистическую регрессию для оценки propensity_score\n",
    "\n",
    "    Аргументы:\n",
    "    df : pd.DataFrame\n",
    "        данные\n",
    "    X : pd.DataFrame.columns\n",
    "        список признаков-конфаундеров для расчета propensity score\n",
    "    T : str\n",
    "        признак-тритмент (группа)\n",
    "\n",
    "    Возвращает:\n",
    "    ps --  propensity score\n",
    "    weight -- веса для объектов в группах теста и контроля\n",
    "    '''\n",
    "\n",
    "    # 1. Определим признаки и тритмент\n",
    "    X_data = df[X]\n",
    "    T_data = df[T]\n",
    "\n",
    "    # 2. Обучим логистическую регрессию для оценки propensity score\n",
    "    model = LogisticRegression(solver='liblinear')\n",
    "    model.fit(X_data, T_data)\n",
    "\n",
    "    # 3. Рассчитаем propensity score для каждого наблюдения\n",
    "    ps = model.predict_proba(X_data)[:, 1]\n",
    "\n",
    "    # 4. Рассчитаем веса\n",
    "    weight = (T_data - ps) / (ps * (1 - ps))\n",
    "\n",
    "    return ps, weight"
   ]
  },
  {
   "cell_type": "markdown",
   "metadata": {
    "id": "c9114b77"
   },
   "source": [
    "Рассчитаем propensity score, для этого выделим конфаундеры и воспользуемся `calculate_ps`"
   ]
  },
  {
   "cell_type": "code",
   "execution_count": null,
   "metadata": {
    "colab": {
     "base_uri": "https://localhost:8080/"
    },
    "id": "b3525083",
    "outputId": "1c47d19c-40bc-4aee-ae4c-3636279c4963"
   },
   "outputs": [],
   "source": [
    "X = cont + list(data_with_categ.columns[data_with_categ.columns.str.startswith(\"ethnicity\")])\n",
    "T = \"intervention\"\n",
    "\n",
    "ps, weight = calculate_ps(data_with_categ, X, T)\n",
    "\n",
    "# Выводим первые 5 значений propensity score и весов\n",
    "print(\"Первые 5 значений propensity score:\", ps[:5])\n",
    "print(\"Первые 5 значений весов:\", weight[:5])"
   ]
  },
  {
   "cell_type": "markdown",
   "metadata": {
    "id": "9fc09638"
   },
   "source": [
    "Убедимся, что propensity score действительно воссоздает популяцию, в которой на всех оказывается влияние, и наоборот."
   ]
  },
  {
   "cell_type": "code",
   "execution_count": null,
   "metadata": {
    "colab": {
     "base_uri": "https://localhost:8080/"
    },
    "id": "b784c46b",
    "outputId": "af107be7-de1f-41c9-a061-b94da856f047"
   },
   "outputs": [],
   "source": [
    "# Суммируем веса для тестовой группы и контрольной группы\n",
    "test_weight_sum = weight[data_with_categ[T] == 1].sum()\n",
    "control_weight_sum = weight[data_with_categ[T] == 0].sum()\n",
    "\n",
    "print(\"Размер исходной выборки:\", data_with_categ.shape[0])\n",
    "print(\"Размер раздутой тестовой выборки:\", test_weight_sum)\n",
    "print(\"Размер раздутой контрольной выборки:\", control_weight_sum)"
   ]
  },
  {
   "cell_type": "markdown",
   "metadata": {
    "id": "e081fa35"
   },
   "source": [
    "\n",
    "Можно также использовать propensity score, чтобы увидеть смещение.\n",
    "\n",
    "Если сегментация учеников по уровню самооценки имеет разный propensity score, это означает, что тритмент не является рандомным. Если эта же величина влияет и на таргет, получаем случай [парадокса Симпсона](https://ru.wikipedia.org/wiki/Парадокс_Симпсона)\n",
    "\n",
    "\n",
    "Постройте boxplot, демонстрирующий распределение propensity score в зависимости от самооценки студента `success_expect`."
   ]
  },
  {
   "cell_type": "code",
   "execution_count": null,
   "metadata": {
    "colab": {
     "base_uri": "https://localhost:8080/",
     "height": 417
    },
    "id": "9f165d69",
    "outputId": "4cdaec51-5d7d-42dc-baa3-9112827c0563"
   },
   "outputs": [],
   "source": [
    "data_with_categ['propensity_score'] = ps\n",
    "\n",
    "plt.figure(figsize=(10, 6))\n",
    "sns.boxplot(x='success_expect', y='propensity_score', data=data_with_categ)\n",
    "plt.title('Распределение Propensity Score в зависимости от самооценки студента')\n",
    "plt.xlabel('Самооценка студента (success_expect)')\n",
    "plt.ylabel('Propensity Score')\n",
    "plt.xticks(rotation=45)\n",
    "plt.show()"
   ]
  },
  {
   "cell_type": "markdown",
   "metadata": {
    "id": "585303ec"
   },
   "source": [
    "Также необходимо проверить, есть ли пересечение между тестом и контролем. Для этого можно построить гистограмму propensity score по двум группам (`hue` = $T$ при использовании методов библиотеки `seaborn`)."
   ]
  },
  {
   "cell_type": "code",
   "execution_count": null,
   "metadata": {
    "colab": {
     "base_uri": "https://localhost:8080/",
     "height": 435
    },
    "id": "d021e410",
    "outputId": "b200f592-d8ba-4eaa-a63d-663e55366cfc"
   },
   "outputs": [],
   "source": [
    "data_with_categ['propensity_score'] = ps\n",
    "\n",
    "plt.figure(figsize=(10, 6))\n",
    "sns.histplot(data=data_with_categ, x='propensity_score', hue='intervention', kde=True, bins=30, palette='muted', stat='density')\n",
    "plt.title('Распределение Propensity Score для тестовой и контрольной групп')\n",
    "plt.xlabel('Propensity Score')\n",
    "plt.ylabel('Плотность')\n",
    "plt.show()"
   ]
  },
  {
   "cell_type": "markdown",
   "metadata": {
    "id": "9PcEHk47zRHp"
   },
   "source": [
    "Что вы можете сказать о распределениях propensity score? Почему нужно пересечение гистограмм весов для тестовой и контрольной выборок?\n"
   ]
  },
  {
   "cell_type": "markdown",
   "metadata": {
    "id": "YxtvucIszRHp"
   },
   "source": [
    "**Ответ:**\n",
    "\n",
    "Гистограммы propensity score для тестовой и контрольной группы пересекаются, что означает, что в обеих группах есть схожие наблюдения по характеристикам. Это важно, потому что позволяет применить методы выравнивания (например, matching или weighting), минимизируя смещение и обеспечивая корректность оценки эффекта вмешательства. Без пересечения не будет возможности провести корректный анализ, так как для некоторых значений не будет соответствующих наблюдений в другой группе."
   ]
  },
  {
   "cell_type": "markdown",
   "metadata": {
    "id": "2341c68c"
   },
   "source": [
    "Наконец, можем использовать веса из propensity score для оценки среднего эффекта тритмента (можете использовать реализацию `calculate_ps`, написанную ранее)"
   ]
  },
  {
   "cell_type": "code",
   "execution_count": null,
   "metadata": {
    "id": "WQNwSugLC07p"
   },
   "outputs": [],
   "source": [
    "def calculate_ate(df, X, T, y):\n",
    "    '''\n",
    "    Считает средний причинно-следственный эффект\n",
    "\n",
    "    Аргументы:\n",
    "    df : pd.DataFrame\n",
    "        данные\n",
    "    X : list\n",
    "        список признаков для расчета propensity score\n",
    "    T : str\n",
    "        признак-тритмент\n",
    "    y : str\n",
    "        признак-таргет\n",
    "\n",
    "    Возвращает:\n",
    "    ate -- величину среднего эффекта тритмента\n",
    "    '''\n",
    "\n",
    "    # 1. Рассчитываем propensity score и веса\n",
    "    ps, weight = calculate_ps(df, X, T)\n",
    "\n",
    "    # 2. Разделяем данные на тестовую и контрольную группу\n",
    "    treated = df[df[T] == 1]\n",
    "    control = df[df[T] == 0]\n",
    "\n",
    "    # 3. Среднее для тестовой группы (с использованием весов)\n",
    "    mean_treated = (treated[y] * weight[treated.index]).sum() / weight[treated.index].sum()\n",
    "\n",
    "    # 4. Среднее для контрольной группы (с использованием весов)\n",
    "    mean_control = (control[y] * weight[control.index]).sum() / weight[control.index].sum()\n",
    "\n",
    "    # 5. Средний эффект тритмента\n",
    "    ate = mean_treated - mean_control\n",
    "\n",
    "    return ate, mean_treated, mean_control"
   ]
  },
  {
   "cell_type": "code",
   "execution_count": null,
   "metadata": {
    "colab": {
     "base_uri": "https://localhost:8080/"
    },
    "id": "58078ad1",
    "outputId": "c9771e48-4bcc-440d-9546-f7462dbff346"
   },
   "outputs": [],
   "source": [
    "ate, mean_treated, mean_control = calculate_ate(data_with_categ, X, T, 'achievement_score')\n",
    "\n",
    "print(f\"mean С1 = {mean_treated}\")\n",
    "print(f\"mean С0 = {mean_control}\")\n",
    "print(f\"ATE = {ate}\")"
   ]
  },
  {
   "cell_type": "markdown",
   "metadata": {
    "id": "dc59baee"
   },
   "source": [
    "**Выводы:**\n",
    "\n",
    "Средний эффект тритмента (ATE) составил 0.457. Это означает, что вмешательство (intervention) увеличивает таргетный показатель (achievement_score) на 0.457 по сравнению с контрольной группой. Среднее значение для тестовой группы (С1) равно 0.307, а для контрольной группы (С0) — -0.151."
   ]
  },
  {
   "cell_type": "markdown",
   "metadata": {
    "id": "63911ffb"
   },
   "source": [
    "При попытке оценить стат. значимость оценки ATE и построить для нее доверительный интервал возникнет следующая проблема. Обычные оценки ковариационной матрицы справедливы только если имеется истинная $P(x)$. Но мы используем оценку, которая вносит свое смещение. Простой способ исправить это &mdash; использование бутстрепа"
   ]
  },
  {
   "cell_type": "code",
   "execution_count": null,
   "metadata": {
    "id": "AZg4TybHN83c"
   },
   "outputs": [],
   "source": [
    "np.random.seed(88)\n",
    "bootstrap_sample = 10_000"
   ]
  },
  {
   "cell_type": "code",
   "execution_count": null,
   "metadata": {
    "colab": {
     "base_uri": "https://localhost:8080/"
    },
    "id": "a667881f",
    "outputId": "6fb8ac01-906b-4840-8173-86e7e46be6ce"
   },
   "outputs": [],
   "source": [
    "%%time\n",
    "\n",
    "# Запускаем параллельно функцию calculate_ate с указанными далее аргументами имитируя цикл\n",
    "ates = Parallel(n_jobs=4)(\n",
    "    delayed(calculate_ate)(data_with_categ.sample(frac=1, replace=True), X, T, \"achievement_score\")\n",
    "    for _ in range(bootstrap_sample)\n",
    ")\n",
    "ates = np.array(ates)"
   ]
  },
  {
   "cell_type": "markdown",
   "metadata": {
    "id": "02631fde"
   },
   "source": [
    "Посмотрим на результаты"
   ]
  },
  {
   "cell_type": "code",
   "execution_count": null,
   "metadata": {
    "colab": {
     "base_uri": "https://localhost:8080/"
    },
    "id": "95fc81b8",
    "outputId": "a1d08f9a-fc23-4dad-9cef-523fa682d756"
   },
   "outputs": [],
   "source": [
    "print(f\"ATE = {ates.mean():.3f}\")\n",
    "print(f\"95% C.I. = ({np.percentile(ates, 2.5):.3f}, {np.percentile(ates, 97.5):.3f})\")"
   ]
  },
  {
   "cell_type": "markdown",
   "metadata": {
    "id": "55323e17"
   },
   "source": [
    "Также можем посмотреть на бутстрепное распределение ATE"
   ]
  },
  {
   "cell_type": "code",
   "execution_count": null,
   "metadata": {
    "colab": {
     "base_uri": "https://localhost:8080/",
     "height": 463
    },
    "id": "f09c8543",
    "outputId": "fbb82126-dbc6-45f4-f955-b794fec7f70c"
   },
   "outputs": [],
   "source": [
    "sns.kdeplot(ates, lw=3)\n",
    "plt.vlines(np.percentile(ates, [2.5, 97.5]), 0, 25,\n",
    "           color='red', lw=3, linestyles=\"dotted\", label=\"95% CI\")\n",
    "plt.title(\"Бутстрепное распределение ATE\")\n",
    "plt.legend()\n",
    "plt.show();"
   ]
  },
  {
   "cell_type": "markdown",
   "metadata": {
    "id": "mc676otA2p-3"
   },
   "source": [
    "\n",
    "**Вывод**"
   ]
  },
  {
   "cell_type": "markdown",
   "metadata": {
    "id": "O6YAlfma8MrJ"
   },
   "source": [
    "1. Пик распределения ATE указывает на выраженный эффект тритмента, что подтверждается узким доверительным интервалом.\n",
    "\n",
    "2. 95% доверительный интервал (красные линии) четко указывает на область, где с вероятностью 95% находится истинное значение ATE.\n",
    "\n",
    "3. Сужение интервала подтверждает высокую статистическую значимость эффекта, но требует проверки на стабильность."
   ]
  },
  {
   "cell_type": "markdown",
   "metadata": {
    "id": "DQCCqFQSzRHv"
   },
   "source": [
    "# Справочный дополнительный материал"
   ]
  },
  {
   "cell_type": "markdown",
   "metadata": {
    "id": "0db7e9a4"
   },
   "source": [
    "## 4. Особенности работы с Propensity Score"
   ]
  },
  {
   "cell_type": "markdown",
   "metadata": {
    "id": "6c940ee7"
   },
   "source": [
    "Может возникнуть желание использовать все возможные инструменты машинного обучения, чтобы сделать оценку propensity score максимально точной. Но не стоит все это делать вслепую. Теория о propensity score появилась недавно, и в ней еще многое не изучено.\n",
    "\n",
    "Однако, можно сказать следующее. Прогнозное качество propensity score не отражается на его уравновешивающих свойствах. **По сравнению с традиционным машинным обучением в причинно-следственном выводе необходимо отказаться от рассмотрения любых задач как задач прогнозирования**. Фактически, минимизация ошибки propensity score может даже навредить цели причинно-следственного вывода. **Propensity score не обязательно должен очень хорошо предсказывать тритмент. Ему просто нужно учесть все конфаундеры.** Если мы будем использовать признаки, которые очень классные для прогнозирования тритмента, но не имеют никакого отношения к результату, это увеличит дисперсию propensity score."
   ]
  },
  {
   "cell_type": "markdown",
   "metadata": {
    "id": "b1af7854"
   },
   "source": [
    "---\n",
    "\n",
    "Для примера рассмотрим две школы. Одна в 99% случаев назначает тритмент (i.e. включает ученика в тестовую группу нового подхода к обучению), а другая только в 1% случаев. Причем делают это рандомизировано, поэтому нет необходимости что-либо контролировать дополнительно.\n",
    "\n",
    "Если добавить признак `school` в модель оценки propensity score, она будет обладать очень высокой прогнозной способностью. Однако в итоге получим выборку, в которой все в школе А проходят семинар, что приводит к огромной дисперсии.\n",
    "\n",
    "*Отметим, что в этом примере истинный эффект равен 0.1*"
   ]
  },
  {
   "cell_type": "code",
   "execution_count": null,
   "metadata": {
    "id": "7a0bb7b1",
    "outputId": "332d4e62-0f99-49da-efc7-4b4b1acc0e61"
   },
   "outputs": [],
   "source": [
    "np.random.seed(42)\n",
    "school_a = pd.DataFrame(dict(T=np.random.binomial(1, 0.99, 400), school=0, intercept=1))\n",
    "school_b = pd.DataFrame(dict(T=np.random.binomial(1, 0.01, 400), school=1, intercept=1))\n",
    "\n",
    "ex_data = pd.concat([school_a, school_b])\n",
    "ex_data['y'] = np.random.normal(1 +  0.1*ex_data[\"T\"])\n",
    "ex_data.head()"
   ]
  },
  {
   "cell_type": "markdown",
   "metadata": {
    "id": "ef015b2f"
   },
   "source": [
    "Проведем бутстреп по двум моделям. Первая использует `school` как признак, вторая обучает константу."
   ]
  },
  {
   "cell_type": "code",
   "execution_count": null,
   "metadata": {
    "id": "b29b70c2",
    "outputId": "243c338b-b1fe-4eef-bbf0-aa6e03e402bc"
   },
   "outputs": [],
   "source": [
    "%%time\n",
    "\n",
    "ate_w_f =  Parallel(n_jobs=4) (\n",
    "    delayed(run_ps) (ex_data.sample(frac=1, replace=True), [\"school\"], \"T\", \"y\")\n",
    "    for _ in range(bootstrap_sample)\n",
    ")\n",
    "ate_w_f = np.array(ate_w_f)\n",
    "\n",
    "\n",
    "ate_wo_f =  Parallel(n_jobs=4) (\n",
    "    delayed(run_ps) (ex_data.sample(frac=1, replace=True), [\"intercept\"], \"T\", \"y\")\n",
    "    for _ in range(bootstrap_sample)\n",
    ")\n",
    "ate_wo_f = np.array(ate_wo_f)"
   ]
  },
  {
   "cell_type": "code",
   "execution_count": null,
   "metadata": {
    "id": "7a2088ea",
    "outputId": "286051c5-e7b4-415b-9ab2-031971b8cca5"
   },
   "outputs": [],
   "source": [
    "plt.figure(figsize=(15, 5))\n",
    "plt.subplot(121)\n",
    "sns.histplot(ate_w_f, label=\"C доп. признаком\")\n",
    "sns.histplot(ate_wo_f, label=\"Без доп. признака\")\n",
    "plt.legend()\n",
    "plt.subplot(122)\n",
    "sns.kdeplot(ate_w_f, lw=3, common_norm=False, label=\"C доп. признаком\")\n",
    "sns.kdeplot(ate_wo_f, lw=3, common_norm=False, label=\"Без доп. признака\")\n",
    "plt.legend()\n",
    "plt.suptitle(\"Сравнение двух моделей оценки propensity score\")\n",
    "plt.show();"
   ]
  },
  {
   "cell_type": "markdown",
   "metadata": {
    "id": "42502cdd"
   },
   "source": [
    "По графику видим, что\n",
    "* оценка propensity score без признака `school` несмещенная и обладает небольшой дисперсией,\n",
    "* оценка propensity score с признаком `school` смещенная и обладает большой дисперсией.\n",
    "\n",
    "---\n",
    "\n",
    "Нередко, когда данные сильно не сбалансированы, можно наблюдать следующую ситуацию. Для большого количества объектов здесь вообще нет сопоставимых. В таком случае можно обрезать выборку на основне propensity score. Эмпирическое правило &mdash; удалять тех, у кого вес не меньше 20."
   ]
  },
  {
   "cell_type": "code",
   "execution_count": null,
   "metadata": {
    "id": "087807dc",
    "outputId": "6ac38786-3a9b-4415-be46-558063e7aed6"
   },
   "outputs": [],
   "source": [
    "ps_test = np.random.beta(4, 1, 500)\n",
    "ps_control = np.random.beta(1, 3, 500)\n",
    "\n",
    "plt.figure(figsize=(15, 5))\n",
    "plt.subplot(121)\n",
    "sns.histplot(ps_test, label=\"Тест\")\n",
    "sns.histplot(ps_control, label=\"Контроль\")\n",
    "plt.subplot(122)\n",
    "sns.kdeplot(ps_test, lw=3, common_norm=False, label=\"Тест\")\n",
    "sns.kdeplot(ps_control, lw=3, common_norm=False, label=\"Контроль\")\n",
    "plt.suptitle(\"Проверка на сопоставимость\")\n",
    "plt.show();"
   ]
  },
  {
   "cell_type": "markdown",
   "metadata": {
    "id": "d2f77290"
   },
   "source": [
    "### Propensity Score Matching"
   ]
  },
  {
   "cell_type": "markdown",
   "metadata": {
    "id": "bd682852"
   },
   "source": [
    "Можно также использовать propensity score как признак для линейной регрессии. Тем самым будет производится мэтчинг по propensity score"
   ]
  },
  {
   "cell_type": "code",
   "execution_count": null,
   "metadata": {
    "id": "90597912",
    "outputId": "76125290-46ea-4ca6-869d-ec136de1478f"
   },
   "outputs": [],
   "source": [
    "smf.ols(\n",
    "    \"achievement_score ~ intervention + propensity_score\", data=data_ps\n",
    ").fit().summary().tables[1]"
   ]
  }
 ],
 "metadata": {
  "colab": {
   "provenance": []
  },
  "kernelspec": {
   "display_name": "Python 3 (ipykernel)",
   "language": "python",
   "name": "python3"
  },
  "language_info": {
   "codemirror_mode": {
    "name": "ipython",
    "version": 3
   },
   "file_extension": ".py",
   "mimetype": "text/x-python",
   "name": "python",
   "nbconvert_exporter": "python",
   "pygments_lexer": "ipython3",
   "version": "3.10.15"
  }
 },
 "nbformat": 4,
 "nbformat_minor": 4
}
