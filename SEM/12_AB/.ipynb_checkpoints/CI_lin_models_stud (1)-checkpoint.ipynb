{
  "cells": [
    {
      "cell_type": "markdown",
      "id": "36bcd147",
      "metadata": {
        "id": "36bcd147"
      },
      "source": [
        "# <a href=\"https://thetahat.ru/courses/ph-ds-2024-aut\">Phystech@DataScience</a>\n",
        "## Семинар 12 (Часть 1)\n",
        "\n",
        "**Правила, <font color=\"red\">прочитайте внимательно</font>:**\n",
        "\n",
        "* Выполненную работу нужно отправить телеграм-боту `@miptstats_pds_bot`. Для начала работы с ботом каждый раз отправляйте `/start`. **Работы, присланные иным способом, не принимаются.**\n",
        "* Дедлайн см. в боте. После дедлайна работы не принимаются кроме случаев наличия уважительной причины.\n",
        "* Прислать нужно ноутбук в формате `ipynb`.\n",
        "* Выполнять задание необходимо полностью самостоятельно. **При обнаружении списывания все участники списывания будут сдавать устный зачет.**\n",
        "* Решения, размещенные на каких-либо интернет-ресурсах, не принимаются. Кроме того, публикация решения в открытом доступе может быть приравнена к предоставлении возможности списать.\n",
        "* Для выполнения задания используйте этот ноутбук в качестве основы, ничего не удаляя из него. Можно добавлять необходимое количество ячеек.\n",
        "* Комментарии к решению пишите в markdown-ячейках.\n",
        "* Выполнение задания (ход решения, выводы и пр.) должно быть осуществлено на русском языке.\n",
        "* Если код будет не понятен проверяющему, оценка может быть снижена.\n",
        "* Никакой код из данного задания при проверке запускаться не будет. *Если код студента не выполнен, недописан и т.д., то он не оценивается.*\n",
        "* **Код из рассказанных на занятиях ноутбуков можно использовать без ограничений.**\n",
        "\n",
        "**Правила оформления теоретических задач:**\n",
        "\n",
        "* Решения необходимо прислать одним из следующих способов:\n",
        "  * фотографией в правильной ориентации, где все четко видно, а почерк разборчив,\n",
        "    * отправив ее как файл боту вместе с ноутбуком *или*\n",
        "    * вставив ее в ноутбук посредством `Edit -> Insert Image` (<font color=\"red\">фото, вставленные ссылкой, не принимаются</font>);\n",
        "  * в виде $\\LaTeX$ в markdown-ячейках.\n",
        "* Решения не проверяются, если какое-то требование не выполнено. Особенно внимательно все проверьте в случае выбора второго пункта (вставки фото в ноутбук). <font color=\"red\"><b>Неправильно вставленные фотографии могут не передаться при отправке.</b></font> Для проверки попробуйте переместить `ipynb` в другую папку и открыть его там.\n",
        "* В решениях поясняйте, чем вы пользуетесь, хотя бы кратко. Например, если пользуетесь независимостью, то достаточно подписи вида \"*X и Y незав.*\"\n",
        "* Решение, в котором есть только ответ, и отсутствуют вычисления, оценивается в 0 баллов."
      ]
    },
    {
      "cell_type": "code",
      "execution_count": 1,
      "id": "3e408ebe",
      "metadata": {
        "id": "3e408ebe"
      },
      "outputs": [],
      "source": [
        "# Bot check\n",
        "\n",
        "# HW_ID: phds_sem12_new\n",
        "# Бот проверит этот ID и предупредит, если случайно сдать что-то не то.\n",
        "\n",
        "# Status: final\n",
        "# Перед отправкой в финальном решении удали \"not\" в строчке выше.\n",
        "# Так бот проверит, что ты отправляешь финальную версию, а не промежуточную.\n",
        "# Никакие значения в этой ячейке не влияют на факт сдачи работы."
      ]
    },
    {
      "cell_type": "code",
      "execution_count": 2,
      "id": "b961abfd",
      "metadata": {
        "id": "b961abfd"
      },
      "outputs": [],
      "source": [
        "import pandas as pd\n",
        "import numpy as np\n",
        "import scipy.stats as sps\n",
        "\n",
        "from matplotlib import pyplot as plt\n",
        "from matplotlib import style\n",
        "import seaborn as sns\n",
        "\n",
        "from tqdm.notebook import tqdm\n",
        "\n",
        "import statsmodels.api as sm\n",
        "import statsmodels.datasets as smd\n",
        "import statsmodels.formula.api as smf\n",
        "import statsmodels.stats.api as sms\n",
        "\n",
        "import graphviz as gr\n",
        "from IPython.display import Image\n",
        "\n",
        "import warnings\n",
        "warnings.filterwarnings(\"ignore\")\n",
        "\n",
        "sns.set(style='whitegrid', font_scale=1.3, palette='Set2')"
      ]
    },
    {
      "cell_type": "markdown",
      "id": "H7aofVVb07iZ",
      "metadata": {
        "id": "H7aofVVb07iZ"
      },
      "source": [
        "## Учет различных признаков в линейной регрессии для оценки ATE\n",
        "\n",
        "На основе материалов <a href=\"https://matheusfacure.github.io/python-causality-handbook/landing-page.html\">учебника</a>.\n",
        "\n",
        "$\\newcommand{\\indep}{\\perp \\!\\!\\! \\perp}$\n",
        "$\\newcommand{\\notindep}{\\not\\!\\perp \\!\\!\\! \\perp}$"
      ]
    },
    {
      "cell_type": "code",
      "execution_count": 7,
      "id": "5oeodAapv5xn",
      "metadata": {
        "colab": {
          "base_uri": "https://localhost:8080/"
        },
        "id": "5oeodAapv5xn",
        "outputId": "fe79167c-7cff-4a85-d0fd-3ea573b49c4e"
      },
      "outputs": [
        {
          "output_type": "stream",
          "name": "stdout",
          "text": [
            "Mounted at /content/drive\n"
          ]
        }
      ],
      "source": [
        "from google.colab import drive\n",
        "drive.mount('/content/drive')"
      ]
    },
    {
      "cell_type": "markdown",
      "id": "w0MZWjUyhwBa",
      "metadata": {
        "id": "w0MZWjUyhwBa"
      },
      "source": [
        "### 0. Инициализация и обучение моделей через формулы\n",
        "В этом семинаре нам понадобится модуль `statsmodels.formula.api`, который позволяет задавать модели, указав формулу в виде `target ~ features`, которая означает линейную функцию `target` от `features`.\n",
        "\n",
        "Рассмотрим пример задания модели линейной регрессии OLS (подробнее можно почитать в [документации](https://www.statsmodels.org/dev/example_formulas.html)).\n"
      ]
    },
    {
      "cell_type": "code",
      "execution_count": 3,
      "id": "X07zG9sgllz7",
      "metadata": {
        "colab": {
          "base_uri": "https://localhost:8080/",
          "height": 206
        },
        "id": "X07zG9sgllz7",
        "outputId": "22564dce-6e9e-4147-dbcb-34c6e895c327"
      },
      "outputs": [
        {
          "output_type": "execute_result",
          "data": {
            "text/plain": [
              "   Lottery  Literacy  Wealth Region\n",
              "0       41        37      73      E\n",
              "1       38        51      22      N\n",
              "2       66        13      61      C\n",
              "3       80        46      76      E\n",
              "4       79        69      83      E"
            ],
            "text/html": [
              "\n",
              "  <div id=\"df-dd062978-013a-41ea-9391-d7dcc5ef36fc\" class=\"colab-df-container\">\n",
              "    <div>\n",
              "<style scoped>\n",
              "    .dataframe tbody tr th:only-of-type {\n",
              "        vertical-align: middle;\n",
              "    }\n",
              "\n",
              "    .dataframe tbody tr th {\n",
              "        vertical-align: top;\n",
              "    }\n",
              "\n",
              "    .dataframe thead th {\n",
              "        text-align: right;\n",
              "    }\n",
              "</style>\n",
              "<table border=\"1\" class=\"dataframe\">\n",
              "  <thead>\n",
              "    <tr style=\"text-align: right;\">\n",
              "      <th></th>\n",
              "      <th>Lottery</th>\n",
              "      <th>Literacy</th>\n",
              "      <th>Wealth</th>\n",
              "      <th>Region</th>\n",
              "    </tr>\n",
              "  </thead>\n",
              "  <tbody>\n",
              "    <tr>\n",
              "      <th>0</th>\n",
              "      <td>41</td>\n",
              "      <td>37</td>\n",
              "      <td>73</td>\n",
              "      <td>E</td>\n",
              "    </tr>\n",
              "    <tr>\n",
              "      <th>1</th>\n",
              "      <td>38</td>\n",
              "      <td>51</td>\n",
              "      <td>22</td>\n",
              "      <td>N</td>\n",
              "    </tr>\n",
              "    <tr>\n",
              "      <th>2</th>\n",
              "      <td>66</td>\n",
              "      <td>13</td>\n",
              "      <td>61</td>\n",
              "      <td>C</td>\n",
              "    </tr>\n",
              "    <tr>\n",
              "      <th>3</th>\n",
              "      <td>80</td>\n",
              "      <td>46</td>\n",
              "      <td>76</td>\n",
              "      <td>E</td>\n",
              "    </tr>\n",
              "    <tr>\n",
              "      <th>4</th>\n",
              "      <td>79</td>\n",
              "      <td>69</td>\n",
              "      <td>83</td>\n",
              "      <td>E</td>\n",
              "    </tr>\n",
              "  </tbody>\n",
              "</table>\n",
              "</div>\n",
              "    <div class=\"colab-df-buttons\">\n",
              "\n",
              "  <div class=\"colab-df-container\">\n",
              "    <button class=\"colab-df-convert\" onclick=\"convertToInteractive('df-dd062978-013a-41ea-9391-d7dcc5ef36fc')\"\n",
              "            title=\"Convert this dataframe to an interactive table.\"\n",
              "            style=\"display:none;\">\n",
              "\n",
              "  <svg xmlns=\"http://www.w3.org/2000/svg\" height=\"24px\" viewBox=\"0 -960 960 960\">\n",
              "    <path d=\"M120-120v-720h720v720H120Zm60-500h600v-160H180v160Zm220 220h160v-160H400v160Zm0 220h160v-160H400v160ZM180-400h160v-160H180v160Zm440 0h160v-160H620v160ZM180-180h160v-160H180v160Zm440 0h160v-160H620v160Z\"/>\n",
              "  </svg>\n",
              "    </button>\n",
              "\n",
              "  <style>\n",
              "    .colab-df-container {\n",
              "      display:flex;\n",
              "      gap: 12px;\n",
              "    }\n",
              "\n",
              "    .colab-df-convert {\n",
              "      background-color: #E8F0FE;\n",
              "      border: none;\n",
              "      border-radius: 50%;\n",
              "      cursor: pointer;\n",
              "      display: none;\n",
              "      fill: #1967D2;\n",
              "      height: 32px;\n",
              "      padding: 0 0 0 0;\n",
              "      width: 32px;\n",
              "    }\n",
              "\n",
              "    .colab-df-convert:hover {\n",
              "      background-color: #E2EBFA;\n",
              "      box-shadow: 0px 1px 2px rgba(60, 64, 67, 0.3), 0px 1px 3px 1px rgba(60, 64, 67, 0.15);\n",
              "      fill: #174EA6;\n",
              "    }\n",
              "\n",
              "    .colab-df-buttons div {\n",
              "      margin-bottom: 4px;\n",
              "    }\n",
              "\n",
              "    [theme=dark] .colab-df-convert {\n",
              "      background-color: #3B4455;\n",
              "      fill: #D2E3FC;\n",
              "    }\n",
              "\n",
              "    [theme=dark] .colab-df-convert:hover {\n",
              "      background-color: #434B5C;\n",
              "      box-shadow: 0px 1px 3px 1px rgba(0, 0, 0, 0.15);\n",
              "      filter: drop-shadow(0px 1px 2px rgba(0, 0, 0, 0.3));\n",
              "      fill: #FFFFFF;\n",
              "    }\n",
              "  </style>\n",
              "\n",
              "    <script>\n",
              "      const buttonEl =\n",
              "        document.querySelector('#df-dd062978-013a-41ea-9391-d7dcc5ef36fc button.colab-df-convert');\n",
              "      buttonEl.style.display =\n",
              "        google.colab.kernel.accessAllowed ? 'block' : 'none';\n",
              "\n",
              "      async function convertToInteractive(key) {\n",
              "        const element = document.querySelector('#df-dd062978-013a-41ea-9391-d7dcc5ef36fc');\n",
              "        const dataTable =\n",
              "          await google.colab.kernel.invokeFunction('convertToInteractive',\n",
              "                                                    [key], {});\n",
              "        if (!dataTable) return;\n",
              "\n",
              "        const docLinkHtml = 'Like what you see? Visit the ' +\n",
              "          '<a target=\"_blank\" href=https://colab.research.google.com/notebooks/data_table.ipynb>data table notebook</a>'\n",
              "          + ' to learn more about interactive tables.';\n",
              "        element.innerHTML = '';\n",
              "        dataTable['output_type'] = 'display_data';\n",
              "        await google.colab.output.renderOutput(dataTable, element);\n",
              "        const docLink = document.createElement('div');\n",
              "        docLink.innerHTML = docLinkHtml;\n",
              "        element.appendChild(docLink);\n",
              "      }\n",
              "    </script>\n",
              "  </div>\n",
              "\n",
              "\n",
              "<div id=\"df-eea55ada-7413-424e-9a86-fcb0f7ad7fae\">\n",
              "  <button class=\"colab-df-quickchart\" onclick=\"quickchart('df-eea55ada-7413-424e-9a86-fcb0f7ad7fae')\"\n",
              "            title=\"Suggest charts\"\n",
              "            style=\"display:none;\">\n",
              "\n",
              "<svg xmlns=\"http://www.w3.org/2000/svg\" height=\"24px\"viewBox=\"0 0 24 24\"\n",
              "     width=\"24px\">\n",
              "    <g>\n",
              "        <path d=\"M19 3H5c-1.1 0-2 .9-2 2v14c0 1.1.9 2 2 2h14c1.1 0 2-.9 2-2V5c0-1.1-.9-2-2-2zM9 17H7v-7h2v7zm4 0h-2V7h2v10zm4 0h-2v-4h2v4z\"/>\n",
              "    </g>\n",
              "</svg>\n",
              "  </button>\n",
              "\n",
              "<style>\n",
              "  .colab-df-quickchart {\n",
              "      --bg-color: #E8F0FE;\n",
              "      --fill-color: #1967D2;\n",
              "      --hover-bg-color: #E2EBFA;\n",
              "      --hover-fill-color: #174EA6;\n",
              "      --disabled-fill-color: #AAA;\n",
              "      --disabled-bg-color: #DDD;\n",
              "  }\n",
              "\n",
              "  [theme=dark] .colab-df-quickchart {\n",
              "      --bg-color: #3B4455;\n",
              "      --fill-color: #D2E3FC;\n",
              "      --hover-bg-color: #434B5C;\n",
              "      --hover-fill-color: #FFFFFF;\n",
              "      --disabled-bg-color: #3B4455;\n",
              "      --disabled-fill-color: #666;\n",
              "  }\n",
              "\n",
              "  .colab-df-quickchart {\n",
              "    background-color: var(--bg-color);\n",
              "    border: none;\n",
              "    border-radius: 50%;\n",
              "    cursor: pointer;\n",
              "    display: none;\n",
              "    fill: var(--fill-color);\n",
              "    height: 32px;\n",
              "    padding: 0;\n",
              "    width: 32px;\n",
              "  }\n",
              "\n",
              "  .colab-df-quickchart:hover {\n",
              "    background-color: var(--hover-bg-color);\n",
              "    box-shadow: 0 1px 2px rgba(60, 64, 67, 0.3), 0 1px 3px 1px rgba(60, 64, 67, 0.15);\n",
              "    fill: var(--button-hover-fill-color);\n",
              "  }\n",
              "\n",
              "  .colab-df-quickchart-complete:disabled,\n",
              "  .colab-df-quickchart-complete:disabled:hover {\n",
              "    background-color: var(--disabled-bg-color);\n",
              "    fill: var(--disabled-fill-color);\n",
              "    box-shadow: none;\n",
              "  }\n",
              "\n",
              "  .colab-df-spinner {\n",
              "    border: 2px solid var(--fill-color);\n",
              "    border-color: transparent;\n",
              "    border-bottom-color: var(--fill-color);\n",
              "    animation:\n",
              "      spin 1s steps(1) infinite;\n",
              "  }\n",
              "\n",
              "  @keyframes spin {\n",
              "    0% {\n",
              "      border-color: transparent;\n",
              "      border-bottom-color: var(--fill-color);\n",
              "      border-left-color: var(--fill-color);\n",
              "    }\n",
              "    20% {\n",
              "      border-color: transparent;\n",
              "      border-left-color: var(--fill-color);\n",
              "      border-top-color: var(--fill-color);\n",
              "    }\n",
              "    30% {\n",
              "      border-color: transparent;\n",
              "      border-left-color: var(--fill-color);\n",
              "      border-top-color: var(--fill-color);\n",
              "      border-right-color: var(--fill-color);\n",
              "    }\n",
              "    40% {\n",
              "      border-color: transparent;\n",
              "      border-right-color: var(--fill-color);\n",
              "      border-top-color: var(--fill-color);\n",
              "    }\n",
              "    60% {\n",
              "      border-color: transparent;\n",
              "      border-right-color: var(--fill-color);\n",
              "    }\n",
              "    80% {\n",
              "      border-color: transparent;\n",
              "      border-right-color: var(--fill-color);\n",
              "      border-bottom-color: var(--fill-color);\n",
              "    }\n",
              "    90% {\n",
              "      border-color: transparent;\n",
              "      border-bottom-color: var(--fill-color);\n",
              "    }\n",
              "  }\n",
              "</style>\n",
              "\n",
              "  <script>\n",
              "    async function quickchart(key) {\n",
              "      const quickchartButtonEl =\n",
              "        document.querySelector('#' + key + ' button');\n",
              "      quickchartButtonEl.disabled = true;  // To prevent multiple clicks.\n",
              "      quickchartButtonEl.classList.add('colab-df-spinner');\n",
              "      try {\n",
              "        const charts = await google.colab.kernel.invokeFunction(\n",
              "            'suggestCharts', [key], {});\n",
              "      } catch (error) {\n",
              "        console.error('Error during call to suggestCharts:', error);\n",
              "      }\n",
              "      quickchartButtonEl.classList.remove('colab-df-spinner');\n",
              "      quickchartButtonEl.classList.add('colab-df-quickchart-complete');\n",
              "    }\n",
              "    (() => {\n",
              "      let quickchartButtonEl =\n",
              "        document.querySelector('#df-eea55ada-7413-424e-9a86-fcb0f7ad7fae button');\n",
              "      quickchartButtonEl.style.display =\n",
              "        google.colab.kernel.accessAllowed ? 'block' : 'none';\n",
              "    })();\n",
              "  </script>\n",
              "</div>\n",
              "    </div>\n",
              "  </div>\n"
            ],
            "application/vnd.google.colaboratory.intrinsic+json": {
              "type": "dataframe",
              "variable_name": "df",
              "summary": "{\n  \"name\": \"df\",\n  \"rows\": 85,\n  \"fields\": [\n    {\n      \"column\": \"Lottery\",\n      \"properties\": {\n        \"dtype\": \"number\",\n        \"std\": 24,\n        \"min\": 1,\n        \"max\": 86,\n        \"num_unique_values\": 85,\n        \"samples\": [\n          26,\n          41,\n          45\n        ],\n        \"semantic_type\": \"\",\n        \"description\": \"\"\n      }\n    },\n    {\n      \"column\": \"Literacy\",\n      \"properties\": {\n        \"dtype\": \"number\",\n        \"std\": 17,\n        \"min\": 12,\n        \"max\": 74,\n        \"num_unique_values\": 50,\n        \"samples\": [\n          36,\n          20,\n          24\n        ],\n        \"semantic_type\": \"\",\n        \"description\": \"\"\n      }\n    },\n    {\n      \"column\": \"Wealth\",\n      \"properties\": {\n        \"dtype\": \"number\",\n        \"std\": 25,\n        \"min\": 1,\n        \"max\": 86,\n        \"num_unique_values\": 85,\n        \"samples\": [\n          43,\n          73,\n          49\n        ],\n        \"semantic_type\": \"\",\n        \"description\": \"\"\n      }\n    },\n    {\n      \"column\": \"Region\",\n      \"properties\": {\n        \"dtype\": \"category\",\n        \"num_unique_values\": 5,\n        \"samples\": [\n          \"N\",\n          \"W\",\n          \"C\"\n        ],\n        \"semantic_type\": \"\",\n        \"description\": \"\"\n      }\n    }\n  ]\n}"
            }
          },
          "metadata": {},
          "execution_count": 3
        }
      ],
      "source": [
        "df = sm.datasets.get_rdataset(\"Guerry\", \"HistData\").data\n",
        "df = df[['Lottery', 'Literacy', 'Wealth', 'Region']].dropna()\n",
        "df.head()"
      ]
    },
    {
      "cell_type": "markdown",
      "id": "V6wcFvKcmaK7",
      "metadata": {
        "id": "V6wcFvKcmaK7"
      },
      "source": [
        "Итак, предположим, нам нужно обучить модель для таргета `Lottery` по признакам `Literacy`, `Wealth` и `Region` из датасета выше. Тогда синтаксис будет выглядеть таким образом:"
      ]
    },
    {
      "cell_type": "code",
      "execution_count": 4,
      "id": "Ta7S8t7C3PVM",
      "metadata": {
        "id": "Ta7S8t7C3PVM"
      },
      "outputs": [],
      "source": [
        "model = smf.ols(formula='Lottery ~ Literacy + Wealth + Region', data=df)\n",
        "res = model.fit()"
      ]
    },
    {
      "cell_type": "markdown",
      "id": "jwqKlREm3EJV",
      "metadata": {
        "id": "jwqKlREm3EJV"
      },
      "source": [
        "Метод `fit` возвращает объект типа `statsmodels.regression.linear_model.RegressionResults`, который содержит различные характеристики модели:\n",
        "* в первой секции представлены различные характеристики самой модели\n",
        "  * параметры обучения,\n",
        "  * $R^2$\n",
        "  * проверка гипотезы о значимости регрессии в целом\n",
        "  * логарифмическая функция правдоподобия\n",
        "  * информационные критерии\n",
        "* во второй секции &mdash; подробная информация о коэффициентах, включая анализ их стат. значимости:\n",
        "  * названия коэффициентов (совпадают с именами признаков, или `Intercept` для свободного коэффициента);\n",
        "  * оценки коэффициентов;\n",
        "  * стандартные ошибки &mdash; корень из оценки дисперсии оценки каждого из коэффициентов;\n",
        "  * t-статистика для проверки гипотезы о незначимости коэффициента;\n",
        "  * p-value критерия для проверки гипотезы о незначимости коэффициента (правило: если $\\text{p-value} \\leqslant \\alpha=0.05$, то гипотеза отвергается, иначе &mdash; не отвергается);\n",
        "  * левая и правая граница 95\\% доверительного интервала для коэффициента.\n",
        "* в третьей секции &mdash; анализ остатков модели\n",
        "  * критерии проверки несмещенности, нормальности\n",
        "\n",
        "*Подробнее:* https://www.statsmodels.org/dev/generated/statsmodels.regression.linear_model.RegressionResults.html\n",
        "\n",
        "Посмотрим на результат **в предположении гомоскедастичности**"
      ]
    },
    {
      "cell_type": "code",
      "execution_count": 5,
      "id": "1BwoL53rmi9F",
      "metadata": {
        "colab": {
          "base_uri": "https://localhost:8080/"
        },
        "id": "1BwoL53rmi9F",
        "outputId": "0de231e5-7106-433f-ac12-a08374c8b180"
      },
      "outputs": [
        {
          "output_type": "stream",
          "name": "stdout",
          "text": [
            "                            OLS Regression Results                            \n",
            "==============================================================================\n",
            "Dep. Variable:                Lottery   R-squared:                       0.338\n",
            "Model:                            OLS   Adj. R-squared:                  0.287\n",
            "Method:                 Least Squares   F-statistic:                     6.636\n",
            "Date:                Sat, 30 Nov 2024   Prob (F-statistic):           1.07e-05\n",
            "Time:                        15:14:50   Log-Likelihood:                -375.30\n",
            "No. Observations:                  85   AIC:                             764.6\n",
            "Df Residuals:                      78   BIC:                             781.7\n",
            "Df Model:                           6                                         \n",
            "Covariance Type:            nonrobust                                         \n",
            "===============================================================================\n",
            "                  coef    std err          t      P>|t|      [0.025      0.975]\n",
            "-------------------------------------------------------------------------------\n",
            "Intercept      38.6517      9.456      4.087      0.000      19.826      57.478\n",
            "Region[T.E]   -15.4278      9.727     -1.586      0.117     -34.793       3.938\n",
            "Region[T.N]   -10.0170      9.260     -1.082      0.283     -28.453       8.419\n",
            "Region[T.S]    -4.5483      7.279     -0.625      0.534     -19.039       9.943\n",
            "Region[T.W]   -10.0913      7.196     -1.402      0.165     -24.418       4.235\n",
            "Literacy       -0.1858      0.210     -0.886      0.378      -0.603       0.232\n",
            "Wealth          0.4515      0.103      4.390      0.000       0.247       0.656\n",
            "==============================================================================\n",
            "Omnibus:                        3.049   Durbin-Watson:                   1.785\n",
            "Prob(Omnibus):                  0.218   Jarque-Bera (JB):                2.694\n",
            "Skew:                          -0.340   Prob(JB):                        0.260\n",
            "Kurtosis:                       2.454   Cond. No.                         371.\n",
            "==============================================================================\n",
            "\n",
            "Notes:\n",
            "[1] Standard Errors assume that the covariance matrix of the errors is correctly specified.\n"
          ]
        }
      ],
      "source": [
        "print(res.summary())"
      ]
    },
    {
      "cell_type": "markdown",
      "id": "kWYdCe6KnwDL",
      "metadata": {
        "id": "kWYdCe6KnwDL"
      },
      "source": [
        "Заметим, что модель автоматически добавила свободный член (`Intercept`) и рассмотрела признак `Region` как категориальный, затем удалив одну из категорий (`С`). Так произошло, потому что значения были строками. При этом, если бы мы имели целочисленный призак и хотели бы рассмотреть его как категориальный, то заключили бы его в `C()` при передаче в формулу. То есть, чтобы специфически указать, что признак категориальный, вот так:\n"
      ]
    },
    {
      "cell_type": "code",
      "execution_count": 6,
      "id": "_-xlddF6qfUG",
      "metadata": {
        "colab": {
          "base_uri": "https://localhost:8080/"
        },
        "id": "_-xlddF6qfUG",
        "outputId": "ea66adc0-9be8-4d32-9948-0e6810073458"
      },
      "outputs": [
        {
          "output_type": "stream",
          "name": "stdout",
          "text": [
            "Intercept         38.651655\n",
            "C(Region)[T.E]   -15.427785\n",
            "C(Region)[T.N]   -10.016961\n",
            "C(Region)[T.S]    -4.548257\n",
            "C(Region)[T.W]   -10.091276\n",
            "Literacy          -0.185819\n",
            "Wealth             0.451475\n",
            "dtype: float64\n"
          ]
        }
      ],
      "source": [
        "model = smf.ols(formula='Lottery ~ Literacy + Wealth + C(Region)', data=df)\n",
        "res = model.fit()\n",
        "print(res.params)"
      ]
    },
    {
      "cell_type": "markdown",
      "id": "c3f18d69",
      "metadata": {
        "id": "c3f18d69"
      },
      "source": [
        "*Примечение:* Во всех моделях ниже нас будет интересовать коэффициент при параметре, определяющим принадлежность к А или В группе, а также p-value для него."
      ]
    },
    {
      "cell_type": "markdown",
      "id": "ffa211ba",
      "metadata": {
        "id": "ffa211ba"
      },
      "source": [
        "### 1. Использование признаков: хороший случай\n",
        "\n",
        "**Задача:** исследовать влияние отправки email с напоминанием о долге. Таргет &mdash; сумма платежей от клиентов, которые просрочили платеж.\n",
        "\n",
        "Выбраны 5000 случайных клиентов для проведения *рандомизированного эксперимента*. Каждый клиент получает электронное письмо случайно с вероятностью 0.5.\n",
        "\n",
        "Загрузим данные `collections_email.csv` из [репозитория](https://github.com/matheusfacure/python-causality-handbook/blob/master/causal-inference-for-the-brave-and-true/data/collections_email.csv)"
      ]
    },
    {
      "cell_type": "code",
      "execution_count": 9,
      "id": "7cIYUSoQvZbG",
      "metadata": {
        "id": "7cIYUSoQvZbG"
      },
      "outputs": [],
      "source": [
        "DATA_PATH = \"/content/drive/MyDrive/colab_data/collections_email.csv\""
      ]
    },
    {
      "cell_type": "code",
      "execution_count": 11,
      "id": "2913e255",
      "metadata": {
        "colab": {
          "base_uri": "https://localhost:8080/",
          "height": 206
        },
        "id": "2913e255",
        "outputId": "49f3c504-eea3-454c-a693-a1462ac8363a"
      },
      "outputs": [
        {
          "output_type": "execute_result",
          "data": {
            "text/plain": [
              "   payments  email  opened  agreement  credit_limit  risk_score\n",
              "0       740      1     1.0        0.0   2348.495260    0.666752\n",
              "1       580      1     1.0        1.0    334.111969    0.207395\n",
              "2       600      1     1.0        1.0   1360.660722    0.550479\n",
              "3       770      0     0.0        0.0   1531.828576    0.560488\n",
              "4       660      0     0.0        0.0    979.855647    0.455140"
            ],
            "text/html": [
              "\n",
              "  <div id=\"df-b4dcdb5e-7fc3-47d5-b327-149ef993ebca\" class=\"colab-df-container\">\n",
              "    <div>\n",
              "<style scoped>\n",
              "    .dataframe tbody tr th:only-of-type {\n",
              "        vertical-align: middle;\n",
              "    }\n",
              "\n",
              "    .dataframe tbody tr th {\n",
              "        vertical-align: top;\n",
              "    }\n",
              "\n",
              "    .dataframe thead th {\n",
              "        text-align: right;\n",
              "    }\n",
              "</style>\n",
              "<table border=\"1\" class=\"dataframe\">\n",
              "  <thead>\n",
              "    <tr style=\"text-align: right;\">\n",
              "      <th></th>\n",
              "      <th>payments</th>\n",
              "      <th>email</th>\n",
              "      <th>opened</th>\n",
              "      <th>agreement</th>\n",
              "      <th>credit_limit</th>\n",
              "      <th>risk_score</th>\n",
              "    </tr>\n",
              "  </thead>\n",
              "  <tbody>\n",
              "    <tr>\n",
              "      <th>0</th>\n",
              "      <td>740</td>\n",
              "      <td>1</td>\n",
              "      <td>1.0</td>\n",
              "      <td>0.0</td>\n",
              "      <td>2348.495260</td>\n",
              "      <td>0.666752</td>\n",
              "    </tr>\n",
              "    <tr>\n",
              "      <th>1</th>\n",
              "      <td>580</td>\n",
              "      <td>1</td>\n",
              "      <td>1.0</td>\n",
              "      <td>1.0</td>\n",
              "      <td>334.111969</td>\n",
              "      <td>0.207395</td>\n",
              "    </tr>\n",
              "    <tr>\n",
              "      <th>2</th>\n",
              "      <td>600</td>\n",
              "      <td>1</td>\n",
              "      <td>1.0</td>\n",
              "      <td>1.0</td>\n",
              "      <td>1360.660722</td>\n",
              "      <td>0.550479</td>\n",
              "    </tr>\n",
              "    <tr>\n",
              "      <th>3</th>\n",
              "      <td>770</td>\n",
              "      <td>0</td>\n",
              "      <td>0.0</td>\n",
              "      <td>0.0</td>\n",
              "      <td>1531.828576</td>\n",
              "      <td>0.560488</td>\n",
              "    </tr>\n",
              "    <tr>\n",
              "      <th>4</th>\n",
              "      <td>660</td>\n",
              "      <td>0</td>\n",
              "      <td>0.0</td>\n",
              "      <td>0.0</td>\n",
              "      <td>979.855647</td>\n",
              "      <td>0.455140</td>\n",
              "    </tr>\n",
              "  </tbody>\n",
              "</table>\n",
              "</div>\n",
              "    <div class=\"colab-df-buttons\">\n",
              "\n",
              "  <div class=\"colab-df-container\">\n",
              "    <button class=\"colab-df-convert\" onclick=\"convertToInteractive('df-b4dcdb5e-7fc3-47d5-b327-149ef993ebca')\"\n",
              "            title=\"Convert this dataframe to an interactive table.\"\n",
              "            style=\"display:none;\">\n",
              "\n",
              "  <svg xmlns=\"http://www.w3.org/2000/svg\" height=\"24px\" viewBox=\"0 -960 960 960\">\n",
              "    <path d=\"M120-120v-720h720v720H120Zm60-500h600v-160H180v160Zm220 220h160v-160H400v160Zm0 220h160v-160H400v160ZM180-400h160v-160H180v160Zm440 0h160v-160H620v160ZM180-180h160v-160H180v160Zm440 0h160v-160H620v160Z\"/>\n",
              "  </svg>\n",
              "    </button>\n",
              "\n",
              "  <style>\n",
              "    .colab-df-container {\n",
              "      display:flex;\n",
              "      gap: 12px;\n",
              "    }\n",
              "\n",
              "    .colab-df-convert {\n",
              "      background-color: #E8F0FE;\n",
              "      border: none;\n",
              "      border-radius: 50%;\n",
              "      cursor: pointer;\n",
              "      display: none;\n",
              "      fill: #1967D2;\n",
              "      height: 32px;\n",
              "      padding: 0 0 0 0;\n",
              "      width: 32px;\n",
              "    }\n",
              "\n",
              "    .colab-df-convert:hover {\n",
              "      background-color: #E2EBFA;\n",
              "      box-shadow: 0px 1px 2px rgba(60, 64, 67, 0.3), 0px 1px 3px 1px rgba(60, 64, 67, 0.15);\n",
              "      fill: #174EA6;\n",
              "    }\n",
              "\n",
              "    .colab-df-buttons div {\n",
              "      margin-bottom: 4px;\n",
              "    }\n",
              "\n",
              "    [theme=dark] .colab-df-convert {\n",
              "      background-color: #3B4455;\n",
              "      fill: #D2E3FC;\n",
              "    }\n",
              "\n",
              "    [theme=dark] .colab-df-convert:hover {\n",
              "      background-color: #434B5C;\n",
              "      box-shadow: 0px 1px 3px 1px rgba(0, 0, 0, 0.15);\n",
              "      filter: drop-shadow(0px 1px 2px rgba(0, 0, 0, 0.3));\n",
              "      fill: #FFFFFF;\n",
              "    }\n",
              "  </style>\n",
              "\n",
              "    <script>\n",
              "      const buttonEl =\n",
              "        document.querySelector('#df-b4dcdb5e-7fc3-47d5-b327-149ef993ebca button.colab-df-convert');\n",
              "      buttonEl.style.display =\n",
              "        google.colab.kernel.accessAllowed ? 'block' : 'none';\n",
              "\n",
              "      async function convertToInteractive(key) {\n",
              "        const element = document.querySelector('#df-b4dcdb5e-7fc3-47d5-b327-149ef993ebca');\n",
              "        const dataTable =\n",
              "          await google.colab.kernel.invokeFunction('convertToInteractive',\n",
              "                                                    [key], {});\n",
              "        if (!dataTable) return;\n",
              "\n",
              "        const docLinkHtml = 'Like what you see? Visit the ' +\n",
              "          '<a target=\"_blank\" href=https://colab.research.google.com/notebooks/data_table.ipynb>data table notebook</a>'\n",
              "          + ' to learn more about interactive tables.';\n",
              "        element.innerHTML = '';\n",
              "        dataTable['output_type'] = 'display_data';\n",
              "        await google.colab.output.renderOutput(dataTable, element);\n",
              "        const docLink = document.createElement('div');\n",
              "        docLink.innerHTML = docLinkHtml;\n",
              "        element.appendChild(docLink);\n",
              "      }\n",
              "    </script>\n",
              "  </div>\n",
              "\n",
              "\n",
              "<div id=\"df-9284b757-dadf-4034-a81d-1e10523df42f\">\n",
              "  <button class=\"colab-df-quickchart\" onclick=\"quickchart('df-9284b757-dadf-4034-a81d-1e10523df42f')\"\n",
              "            title=\"Suggest charts\"\n",
              "            style=\"display:none;\">\n",
              "\n",
              "<svg xmlns=\"http://www.w3.org/2000/svg\" height=\"24px\"viewBox=\"0 0 24 24\"\n",
              "     width=\"24px\">\n",
              "    <g>\n",
              "        <path d=\"M19 3H5c-1.1 0-2 .9-2 2v14c0 1.1.9 2 2 2h14c1.1 0 2-.9 2-2V5c0-1.1-.9-2-2-2zM9 17H7v-7h2v7zm4 0h-2V7h2v10zm4 0h-2v-4h2v4z\"/>\n",
              "    </g>\n",
              "</svg>\n",
              "  </button>\n",
              "\n",
              "<style>\n",
              "  .colab-df-quickchart {\n",
              "      --bg-color: #E8F0FE;\n",
              "      --fill-color: #1967D2;\n",
              "      --hover-bg-color: #E2EBFA;\n",
              "      --hover-fill-color: #174EA6;\n",
              "      --disabled-fill-color: #AAA;\n",
              "      --disabled-bg-color: #DDD;\n",
              "  }\n",
              "\n",
              "  [theme=dark] .colab-df-quickchart {\n",
              "      --bg-color: #3B4455;\n",
              "      --fill-color: #D2E3FC;\n",
              "      --hover-bg-color: #434B5C;\n",
              "      --hover-fill-color: #FFFFFF;\n",
              "      --disabled-bg-color: #3B4455;\n",
              "      --disabled-fill-color: #666;\n",
              "  }\n",
              "\n",
              "  .colab-df-quickchart {\n",
              "    background-color: var(--bg-color);\n",
              "    border: none;\n",
              "    border-radius: 50%;\n",
              "    cursor: pointer;\n",
              "    display: none;\n",
              "    fill: var(--fill-color);\n",
              "    height: 32px;\n",
              "    padding: 0;\n",
              "    width: 32px;\n",
              "  }\n",
              "\n",
              "  .colab-df-quickchart:hover {\n",
              "    background-color: var(--hover-bg-color);\n",
              "    box-shadow: 0 1px 2px rgba(60, 64, 67, 0.3), 0 1px 3px 1px rgba(60, 64, 67, 0.15);\n",
              "    fill: var(--button-hover-fill-color);\n",
              "  }\n",
              "\n",
              "  .colab-df-quickchart-complete:disabled,\n",
              "  .colab-df-quickchart-complete:disabled:hover {\n",
              "    background-color: var(--disabled-bg-color);\n",
              "    fill: var(--disabled-fill-color);\n",
              "    box-shadow: none;\n",
              "  }\n",
              "\n",
              "  .colab-df-spinner {\n",
              "    border: 2px solid var(--fill-color);\n",
              "    border-color: transparent;\n",
              "    border-bottom-color: var(--fill-color);\n",
              "    animation:\n",
              "      spin 1s steps(1) infinite;\n",
              "  }\n",
              "\n",
              "  @keyframes spin {\n",
              "    0% {\n",
              "      border-color: transparent;\n",
              "      border-bottom-color: var(--fill-color);\n",
              "      border-left-color: var(--fill-color);\n",
              "    }\n",
              "    20% {\n",
              "      border-color: transparent;\n",
              "      border-left-color: var(--fill-color);\n",
              "      border-top-color: var(--fill-color);\n",
              "    }\n",
              "    30% {\n",
              "      border-color: transparent;\n",
              "      border-left-color: var(--fill-color);\n",
              "      border-top-color: var(--fill-color);\n",
              "      border-right-color: var(--fill-color);\n",
              "    }\n",
              "    40% {\n",
              "      border-color: transparent;\n",
              "      border-right-color: var(--fill-color);\n",
              "      border-top-color: var(--fill-color);\n",
              "    }\n",
              "    60% {\n",
              "      border-color: transparent;\n",
              "      border-right-color: var(--fill-color);\n",
              "    }\n",
              "    80% {\n",
              "      border-color: transparent;\n",
              "      border-right-color: var(--fill-color);\n",
              "      border-bottom-color: var(--fill-color);\n",
              "    }\n",
              "    90% {\n",
              "      border-color: transparent;\n",
              "      border-bottom-color: var(--fill-color);\n",
              "    }\n",
              "  }\n",
              "</style>\n",
              "\n",
              "  <script>\n",
              "    async function quickchart(key) {\n",
              "      const quickchartButtonEl =\n",
              "        document.querySelector('#' + key + ' button');\n",
              "      quickchartButtonEl.disabled = true;  // To prevent multiple clicks.\n",
              "      quickchartButtonEl.classList.add('colab-df-spinner');\n",
              "      try {\n",
              "        const charts = await google.colab.kernel.invokeFunction(\n",
              "            'suggestCharts', [key], {});\n",
              "      } catch (error) {\n",
              "        console.error('Error during call to suggestCharts:', error);\n",
              "      }\n",
              "      quickchartButtonEl.classList.remove('colab-df-spinner');\n",
              "      quickchartButtonEl.classList.add('colab-df-quickchart-complete');\n",
              "    }\n",
              "    (() => {\n",
              "      let quickchartButtonEl =\n",
              "        document.querySelector('#df-9284b757-dadf-4034-a81d-1e10523df42f button');\n",
              "      quickchartButtonEl.style.display =\n",
              "        google.colab.kernel.accessAllowed ? 'block' : 'none';\n",
              "    })();\n",
              "  </script>\n",
              "</div>\n",
              "    </div>\n",
              "  </div>\n"
            ],
            "application/vnd.google.colaboratory.intrinsic+json": {
              "type": "dataframe",
              "variable_name": "data",
              "summary": "{\n  \"name\": \"data\",\n  \"rows\": 5000,\n  \"fields\": [\n    {\n      \"column\": \"payments\",\n      \"properties\": {\n        \"dtype\": \"number\",\n        \"std\": 103,\n        \"min\": 330,\n        \"max\": 1140,\n        \"num_unique_values\": 75,\n        \"samples\": [\n          660,\n          940,\n          670\n        ],\n        \"semantic_type\": \"\",\n        \"description\": \"\"\n      }\n    },\n    {\n      \"column\": \"email\",\n      \"properties\": {\n        \"dtype\": \"number\",\n        \"std\": 0,\n        \"min\": 0,\n        \"max\": 1,\n        \"num_unique_values\": 2,\n        \"samples\": [\n          0,\n          1\n        ],\n        \"semantic_type\": \"\",\n        \"description\": \"\"\n      }\n    },\n    {\n      \"column\": \"opened\",\n      \"properties\": {\n        \"dtype\": \"number\",\n        \"std\": 0.4457490083395411,\n        \"min\": 0.0,\n        \"max\": 1.0,\n        \"num_unique_values\": 2,\n        \"samples\": [\n          0.0,\n          1.0\n        ],\n        \"semantic_type\": \"\",\n        \"description\": \"\"\n      }\n    },\n    {\n      \"column\": \"agreement\",\n      \"properties\": {\n        \"dtype\": \"number\",\n        \"std\": 0.36738311620270697,\n        \"min\": 0.0,\n        \"max\": 1.0,\n        \"num_unique_values\": 2,\n        \"samples\": [\n          1.0,\n          0.0\n        ],\n        \"semantic_type\": \"\",\n        \"description\": \"\"\n      }\n    },\n    {\n      \"column\": \"credit_limit\",\n      \"properties\": {\n        \"dtype\": \"number\",\n        \"std\": 480.9789958099895,\n        \"min\": 193.6955728358575,\n        \"max\": 3882.178407510086,\n        \"num_unique_values\": 5000,\n        \"samples\": [\n          894.0984562805985,\n          1767.3562935006537\n        ],\n        \"semantic_type\": \"\",\n        \"description\": \"\"\n      }\n    },\n    {\n      \"column\": \"risk_score\",\n      \"properties\": {\n        \"dtype\": \"number\",\n        \"std\": 0.10037634035937809,\n        \"min\": 0.1317843803714987,\n        \"max\": 0.7734586786986704,\n        \"num_unique_values\": 5000,\n        \"samples\": [\n          0.4208623598127676,\n          0.6027133565554289\n        ],\n        \"semantic_type\": \"\",\n        \"description\": \"\"\n      }\n    }\n  ]\n}"
            }
          },
          "metadata": {},
          "execution_count": 11
        }
      ],
      "source": [
        "data = pd.read_csv(\"/content/collections_email.csv\")\n",
        "data.head()"
      ]
    },
    {
      "cell_type": "markdown",
      "id": "91feb905",
      "metadata": {
        "id": "91feb905"
      },
      "source": [
        "Поскольку данные рандомизированы, простая разность средних оценивает ATE.\n",
        "Иначе говоря, ничто не может быть причиной тритмента (факта отправки письма), кроме рандомизации, поэтому потенциальные исходы не зависят от принадлежности к той или иной группе:  $C_0, C_1 \\indep T$"
      ]
    },
    {
      "cell_type": "code",
      "execution_count": 12,
      "id": "f9f47716",
      "metadata": {
        "id": "f9f47716",
        "colab": {
          "base_uri": "https://localhost:8080/"
        },
        "outputId": "da9cd1ee-2cde-4724-aa5e-1ebe07e94c46"
      },
      "outputs": [
        {
          "output_type": "execute_result",
          "data": {
            "text/plain": [
              "-0.6202804021329484"
            ]
          },
          "metadata": {},
          "execution_count": 12
        }
      ],
      "source": [
        "data.query(\"email==1\")[\"payments\"].mean() - data.query(\"email==0\")[\"payments\"].mean()"
      ]
    },
    {
      "cell_type": "markdown",
      "id": "d5140d8e",
      "metadata": {
        "id": "d5140d8e"
      },
      "source": [
        "Проведите АВ-тесты, чтобы оценить различие между группами (`email`) по таргету (`payments`), двумя способами: с помощью `ttest_ind` и модели OLS. Сравните результаты и сделайте выводы."
      ]
    },
    {
      "cell_type": "code",
      "execution_count": 13,
      "id": "8yxzcEmMsguv",
      "metadata": {
        "id": "8yxzcEmMsguv",
        "colab": {
          "base_uri": "https://localhost:8080/"
        },
        "outputId": "4ad257a7-7e0c-4246-d585-5f447614a6ae"
      },
      "outputs": [
        {
          "output_type": "stream",
          "name": "stdout",
          "text": [
            "t-statistic: -0.21101233759987245, p-value: 0.8328862467289211\n"
          ]
        }
      ],
      "source": [
        "from scipy.stats import ttest_ind\n",
        "\n",
        "group_treated = data.query(\"email == 1\")[\"payments\"]\n",
        "group_control = data.query(\"email == 0\")[\"payments\"]\n",
        "\n",
        "ttest_results = ttest_ind(group_treated, group_control, equal_var=False)\n",
        "print(f\"t-statistic: {ttest_results.statistic}, p-value: {ttest_results.pvalue}\")"
      ]
    },
    {
      "cell_type": "code",
      "execution_count": 14,
      "id": "13bd208a",
      "metadata": {
        "id": "13bd208a",
        "colab": {
          "base_uri": "https://localhost:8080/"
        },
        "outputId": "973ecd78-68c0-4fe0-e4e6-647ba9ddfc70"
      },
      "outputs": [
        {
          "output_type": "stream",
          "name": "stdout",
          "text": [
            "==============================================================================\n",
            "                 coef    std err          t      P>|t|      [0.025      0.975]\n",
            "------------------------------------------------------------------------------\n",
            "Intercept    669.9764      2.061    325.116      0.000     665.937     674.016\n",
            "email         -0.6203      2.941     -0.211      0.833      -6.387       5.146\n",
            "==============================================================================\n"
          ]
        }
      ],
      "source": [
        "import statsmodels.formula.api as smf\n",
        "\n",
        "model = smf.ols(formula='payments ~ email', data=data)\n",
        "res = model.fit()\n",
        "\n",
        "print(res.summary().tables[1])"
      ]
    },
    {
      "cell_type": "markdown",
      "id": "JR8Y3jniwcDV",
      "metadata": {
        "id": "JR8Y3jniwcDV"
      },
      "source": [
        "**Вывод:**\n",
        "\n",
        "1. **t-тест** и **OLS** показали отсутствие значимой разницы между группами (p-value = 0.833).  \n",
        "2. Коэффициент при `email` (-0.6203) статистически незначим, доверительный интервал включает 0.  \n",
        "3. **Вывод:** отправка email-напоминаний **не влияет** на платежи клиентов."
      ]
    },
    {
      "cell_type": "markdown",
      "id": "facc43e2",
      "metadata": {
        "id": "facc43e2"
      },
      "source": [
        "Обратим внимание на p-value. Что делать? Вернуться к заказчику, поджав хвост, и сказать, что эксперимент безрезультатен и нужно больше данных?\n",
        "\n",
        "Но посмотрим на другие признаки\n",
        "\n",
        "* `credit_limit` &mdash; кредитный лимит клиента до того, как он просрочил платеж;\n",
        "* `risk_score` &mdash; предполагаемый риск для клиента до момента отправки email.\n"
      ]
    },
    {
      "cell_type": "markdown",
      "id": "7a16b32d",
      "metadata": {
        "id": "7a16b32d"
      },
      "source": [
        "Добавьте их в качестве признаков и обучите модель\n"
      ]
    },
    {
      "cell_type": "code",
      "execution_count": 15,
      "id": "639af8f4",
      "metadata": {
        "id": "639af8f4",
        "colab": {
          "base_uri": "https://localhost:8080/"
        },
        "outputId": "3d44cf74-fb70-440d-afb8-28a68cfa7562"
      },
      "outputs": [
        {
          "output_type": "stream",
          "name": "stdout",
          "text": [
            "================================================================================\n",
            "                   coef    std err          t      P>|t|      [0.025      0.975]\n",
            "--------------------------------------------------------------------------------\n",
            "Intercept      490.8653      9.715     50.527      0.000     471.820     509.911\n",
            "email            4.4304      2.130      2.080      0.038       0.255       8.606\n",
            "credit_limit     0.1511      0.008     18.833      0.000       0.135       0.167\n",
            "risk_score      -8.0516     38.424     -0.210      0.834     -83.379      67.276\n",
            "================================================================================\n"
          ]
        }
      ],
      "source": [
        "model_2 = smf.ols(formula='payments ~ email + credit_limit + risk_score', data=data)\n",
        "res_2 = model_2.fit()\n",
        "print(res_2.summary().tables[1])"
      ]
    },
    {
      "cell_type": "markdown",
      "id": "_oygj1Tk5qI0",
      "metadata": {
        "id": "_oygj1Tk5qI0"
      },
      "source": [
        "Заметим, что можно извлечь результаты отдельных тестов, например, проверку гипотезы о незначимости коэффициента перед признаком `email`"
      ]
    },
    {
      "cell_type": "code",
      "execution_count": 17,
      "id": "KvVpWT2r6Ch1",
      "metadata": {
        "id": "KvVpWT2r6Ch1",
        "colab": {
          "base_uri": "https://localhost:8080/"
        },
        "outputId": "1fba016c-4179-4287-f771-3f0db53e860c"
      },
      "outputs": [
        {
          "output_type": "execute_result",
          "data": {
            "text/plain": [
              "<class 'statsmodels.stats.contrast.ContrastResults'>\n",
              "                             Test for Constraints                             \n",
              "==============================================================================\n",
              "                 coef    std err          t      P>|t|      [0.025      0.975]\n",
              "------------------------------------------------------------------------------\n",
              "c0             4.4304      2.130      2.080      0.038       0.255       8.606\n",
              "=============================================================================="
            ]
          },
          "metadata": {},
          "execution_count": 17
        }
      ],
      "source": [
        "result = res_2.t_test('email = 0')\n",
        "result"
      ]
    },
    {
      "cell_type": "markdown",
      "id": "e7b1df49",
      "metadata": {
        "id": "e7b1df49"
      },
      "source": [
        "Нарисуем causal graph, чтобы визаулизировать влияние величин друг на друга.\n",
        "\n",
        "*Примечание:* `graphviz` не сохраняет изображения при перемещении ноутбука, поэтому запишем граф в файл с помощью метода `render`"
      ]
    },
    {
      "cell_type": "code",
      "execution_count": 18,
      "id": "fde3dafa",
      "metadata": {
        "colab": {
          "base_uri": "https://localhost:8080/",
          "height": 36
        },
        "id": "fde3dafa",
        "outputId": "1bf4c427-b22d-4aa6-ff93-d2b496f0078f"
      },
      "outputs": [
        {
          "output_type": "execute_result",
          "data": {
            "text/plain": [
              "'emails_covariates.png'"
            ],
            "application/vnd.google.colaboratory.intrinsic+json": {
              "type": "string"
            }
          },
          "metadata": {},
          "execution_count": 18
        }
      ],
      "source": [
        "g = gr.Digraph()\n",
        "\n",
        "g.node(\"email\", color=\"gold\")\n",
        "g.edge(\"credit_limit\", \"payments\")\n",
        "g.edge(\"risk_score\", \"payments\")\n",
        "g.edge(\"email\", \"payments\")\n",
        "\n",
        "g.render('emails_covariates', format=\"png\")"
      ]
    },
    {
      "cell_type": "code",
      "execution_count": 19,
      "id": "499dff72",
      "metadata": {
        "colab": {
          "base_uri": "https://localhost:8080/",
          "height": 172
        },
        "id": "499dff72",
        "outputId": "62802891-b53f-43df-94c8-772d8bfd1eba"
      },
      "outputs": [
        {
          "output_type": "execute_result",
          "data": {
            "image/png": "[encoded data removed]",
            "text/plain": [
              "<IPython.core.display.Image object>"
            ]
          },
          "metadata": {},
          "execution_count": 19
        }
      ],
      "source": [
        "Image(filename='emails_covariates.png')"
      ]
    },
    {
      "cell_type": "markdown",
      "id": "8ca9bb4e",
      "metadata": {
        "id": "8ca9bb4e"
      },
      "source": [
        "Рассмотренные признаки *могут объяснить разброс значений таргета*, снизив тем самым его дисперсию. Кроме того, они *не влияют* на принадлежность к группе, тем самым не могут внести смещение.\n",
        "\n",
        "Итог: **любые признаки, которые влияют на таргет, не влияя при этом на тритмент (принадлежность к А или В группе), можно использовать в модели**. Они называются **ковариатами**. Это помогает снизить дисперсию."
      ]
    },
    {
      "cell_type": "markdown",
      "id": "49ebc570",
      "metadata": {
        "id": "49ebc570"
      },
      "source": [
        "### 2. Использование признаков: нежелательный случай"
      ]
    },
    {
      "cell_type": "markdown",
      "id": "cc4f3b05",
      "metadata": {
        "id": "cc4f3b05"
      },
      "source": [
        "Загрузим данные `hospital_treatment.csv` из [репозитория](https://github.com/matheusfacure/python-causality-handbook/blob/master/causal-inference-for-the-brave-and-true/data/hospital_treatment.csv).\n",
        "\n",
        "Две больницы проводят рандомизированное испытание нового препарата для лечения некоторой болезни. **Таргет** &mdash; количество дней госпитализации, хотим сократить эту величину. В одной больнице его назначают 90% пациентам, соответственно 10% пациентов получают плацебо. В другой больнице дают препарат случайным 10% своих пациентам, соответственно 90% получают плацебо. Причем известно, что первая больница обычно получает более тяжелые случаи заболевания."
      ]
    },
    {
      "cell_type": "code",
      "execution_count": 20,
      "id": "zrvY5u5BYnyM",
      "metadata": {
        "id": "zrvY5u5BYnyM"
      },
      "outputs": [],
      "source": [
        "DATA_PATH = \"/content/drive/MyDrive/colab_data/hospital_treatment.csv\""
      ]
    },
    {
      "cell_type": "code",
      "execution_count": 21,
      "id": "42a10a1e",
      "metadata": {
        "id": "42a10a1e",
        "outputId": "42e5722c-a027-4cde-bb03-392f03bd9536",
        "colab": {
          "base_uri": "https://localhost:8080/",
          "height": 206
        }
      },
      "outputs": [
        {
          "output_type": "execute_result",
          "data": {
            "text/plain": [
              "   hospital  treatment   severity  days\n",
              "0         1          1  29.686618    82\n",
              "1         1          1  20.050340    57\n",
              "2         1          1  20.302399    49\n",
              "3         0          0  10.603118    44\n",
              "4         0          0   8.332793    15"
            ],
            "text/html": [
              "\n",
              "  <div id=\"df-25d6f6f0-e3ac-4ad4-bbdf-e46f2a1dbd38\" class=\"colab-df-container\">\n",
              "    <div>\n",
              "<style scoped>\n",
              "    .dataframe tbody tr th:only-of-type {\n",
              "        vertical-align: middle;\n",
              "    }\n",
              "\n",
              "    .dataframe tbody tr th {\n",
              "        vertical-align: top;\n",
              "    }\n",
              "\n",
              "    .dataframe thead th {\n",
              "        text-align: right;\n",
              "    }\n",
              "</style>\n",
              "<table border=\"1\" class=\"dataframe\">\n",
              "  <thead>\n",
              "    <tr style=\"text-align: right;\">\n",
              "      <th></th>\n",
              "      <th>hospital</th>\n",
              "      <th>treatment</th>\n",
              "      <th>severity</th>\n",
              "      <th>days</th>\n",
              "    </tr>\n",
              "  </thead>\n",
              "  <tbody>\n",
              "    <tr>\n",
              "      <th>0</th>\n",
              "      <td>1</td>\n",
              "      <td>1</td>\n",
              "      <td>29.686618</td>\n",
              "      <td>82</td>\n",
              "    </tr>\n",
              "    <tr>\n",
              "      <th>1</th>\n",
              "      <td>1</td>\n",
              "      <td>1</td>\n",
              "      <td>20.050340</td>\n",
              "      <td>57</td>\n",
              "    </tr>\n",
              "    <tr>\n",
              "      <th>2</th>\n",
              "      <td>1</td>\n",
              "      <td>1</td>\n",
              "      <td>20.302399</td>\n",
              "      <td>49</td>\n",
              "    </tr>\n",
              "    <tr>\n",
              "      <th>3</th>\n",
              "      <td>0</td>\n",
              "      <td>0</td>\n",
              "      <td>10.603118</td>\n",
              "      <td>44</td>\n",
              "    </tr>\n",
              "    <tr>\n",
              "      <th>4</th>\n",
              "      <td>0</td>\n",
              "      <td>0</td>\n",
              "      <td>8.332793</td>\n",
              "      <td>15</td>\n",
              "    </tr>\n",
              "  </tbody>\n",
              "</table>\n",
              "</div>\n",
              "    <div class=\"colab-df-buttons\">\n",
              "\n",
              "  <div class=\"colab-df-container\">\n",
              "    <button class=\"colab-df-convert\" onclick=\"convertToInteractive('df-25d6f6f0-e3ac-4ad4-bbdf-e46f2a1dbd38')\"\n",
              "            title=\"Convert this dataframe to an interactive table.\"\n",
              "            style=\"display:none;\">\n",
              "\n",
              "  <svg xmlns=\"http://www.w3.org/2000/svg\" height=\"24px\" viewBox=\"0 -960 960 960\">\n",
              "    <path d=\"M120-120v-720h720v720H120Zm60-500h600v-160H180v160Zm220 220h160v-160H400v160Zm0 220h160v-160H400v160ZM180-400h160v-160H180v160Zm440 0h160v-160H620v160ZM180-180h160v-160H180v160Zm440 0h160v-160H620v160Z\"/>\n",
              "  </svg>\n",
              "    </button>\n",
              "\n",
              "  <style>\n",
              "    .colab-df-container {\n",
              "      display:flex;\n",
              "      gap: 12px;\n",
              "    }\n",
              "\n",
              "    .colab-df-convert {\n",
              "      background-color: #E8F0FE;\n",
              "      border: none;\n",
              "      border-radius: 50%;\n",
              "      cursor: pointer;\n",
              "      display: none;\n",
              "      fill: #1967D2;\n",
              "      height: 32px;\n",
              "      padding: 0 0 0 0;\n",
              "      width: 32px;\n",
              "    }\n",
              "\n",
              "    .colab-df-convert:hover {\n",
              "      background-color: #E2EBFA;\n",
              "      box-shadow: 0px 1px 2px rgba(60, 64, 67, 0.3), 0px 1px 3px 1px rgba(60, 64, 67, 0.15);\n",
              "      fill: #174EA6;\n",
              "    }\n",
              "\n",
              "    .colab-df-buttons div {\n",
              "      margin-bottom: 4px;\n",
              "    }\n",
              "\n",
              "    [theme=dark] .colab-df-convert {\n",
              "      background-color: #3B4455;\n",
              "      fill: #D2E3FC;\n",
              "    }\n",
              "\n",
              "    [theme=dark] .colab-df-convert:hover {\n",
              "      background-color: #434B5C;\n",
              "      box-shadow: 0px 1px 3px 1px rgba(0, 0, 0, 0.15);\n",
              "      filter: drop-shadow(0px 1px 2px rgba(0, 0, 0, 0.3));\n",
              "      fill: #FFFFFF;\n",
              "    }\n",
              "  </style>\n",
              "\n",
              "    <script>\n",
              "      const buttonEl =\n",
              "        document.querySelector('#df-25d6f6f0-e3ac-4ad4-bbdf-e46f2a1dbd38 button.colab-df-convert');\n",
              "      buttonEl.style.display =\n",
              "        google.colab.kernel.accessAllowed ? 'block' : 'none';\n",
              "\n",
              "      async function convertToInteractive(key) {\n",
              "        const element = document.querySelector('#df-25d6f6f0-e3ac-4ad4-bbdf-e46f2a1dbd38');\n",
              "        const dataTable =\n",
              "          await google.colab.kernel.invokeFunction('convertToInteractive',\n",
              "                                                    [key], {});\n",
              "        if (!dataTable) return;\n",
              "\n",
              "        const docLinkHtml = 'Like what you see? Visit the ' +\n",
              "          '<a target=\"_blank\" href=https://colab.research.google.com/notebooks/data_table.ipynb>data table notebook</a>'\n",
              "          + ' to learn more about interactive tables.';\n",
              "        element.innerHTML = '';\n",
              "        dataTable['output_type'] = 'display_data';\n",
              "        await google.colab.output.renderOutput(dataTable, element);\n",
              "        const docLink = document.createElement('div');\n",
              "        docLink.innerHTML = docLinkHtml;\n",
              "        element.appendChild(docLink);\n",
              "      }\n",
              "    </script>\n",
              "  </div>\n",
              "\n",
              "\n",
              "<div id=\"df-0c8e8d6f-896f-43ae-9057-730059d91507\">\n",
              "  <button class=\"colab-df-quickchart\" onclick=\"quickchart('df-0c8e8d6f-896f-43ae-9057-730059d91507')\"\n",
              "            title=\"Suggest charts\"\n",
              "            style=\"display:none;\">\n",
              "\n",
              "<svg xmlns=\"http://www.w3.org/2000/svg\" height=\"24px\"viewBox=\"0 0 24 24\"\n",
              "     width=\"24px\">\n",
              "    <g>\n",
              "        <path d=\"M19 3H5c-1.1 0-2 .9-2 2v14c0 1.1.9 2 2 2h14c1.1 0 2-.9 2-2V5c0-1.1-.9-2-2-2zM9 17H7v-7h2v7zm4 0h-2V7h2v10zm4 0h-2v-4h2v4z\"/>\n",
              "    </g>\n",
              "</svg>\n",
              "  </button>\n",
              "\n",
              "<style>\n",
              "  .colab-df-quickchart {\n",
              "      --bg-color: #E8F0FE;\n",
              "      --fill-color: #1967D2;\n",
              "      --hover-bg-color: #E2EBFA;\n",
              "      --hover-fill-color: #174EA6;\n",
              "      --disabled-fill-color: #AAA;\n",
              "      --disabled-bg-color: #DDD;\n",
              "  }\n",
              "\n",
              "  [theme=dark] .colab-df-quickchart {\n",
              "      --bg-color: #3B4455;\n",
              "      --fill-color: #D2E3FC;\n",
              "      --hover-bg-color: #434B5C;\n",
              "      --hover-fill-color: #FFFFFF;\n",
              "      --disabled-bg-color: #3B4455;\n",
              "      --disabled-fill-color: #666;\n",
              "  }\n",
              "\n",
              "  .colab-df-quickchart {\n",
              "    background-color: var(--bg-color);\n",
              "    border: none;\n",
              "    border-radius: 50%;\n",
              "    cursor: pointer;\n",
              "    display: none;\n",
              "    fill: var(--fill-color);\n",
              "    height: 32px;\n",
              "    padding: 0;\n",
              "    width: 32px;\n",
              "  }\n",
              "\n",
              "  .colab-df-quickchart:hover {\n",
              "    background-color: var(--hover-bg-color);\n",
              "    box-shadow: 0 1px 2px rgba(60, 64, 67, 0.3), 0 1px 3px 1px rgba(60, 64, 67, 0.15);\n",
              "    fill: var(--button-hover-fill-color);\n",
              "  }\n",
              "\n",
              "  .colab-df-quickchart-complete:disabled,\n",
              "  .colab-df-quickchart-complete:disabled:hover {\n",
              "    background-color: var(--disabled-bg-color);\n",
              "    fill: var(--disabled-fill-color);\n",
              "    box-shadow: none;\n",
              "  }\n",
              "\n",
              "  .colab-df-spinner {\n",
              "    border: 2px solid var(--fill-color);\n",
              "    border-color: transparent;\n",
              "    border-bottom-color: var(--fill-color);\n",
              "    animation:\n",
              "      spin 1s steps(1) infinite;\n",
              "  }\n",
              "\n",
              "  @keyframes spin {\n",
              "    0% {\n",
              "      border-color: transparent;\n",
              "      border-bottom-color: var(--fill-color);\n",
              "      border-left-color: var(--fill-color);\n",
              "    }\n",
              "    20% {\n",
              "      border-color: transparent;\n",
              "      border-left-color: var(--fill-color);\n",
              "      border-top-color: var(--fill-color);\n",
              "    }\n",
              "    30% {\n",
              "      border-color: transparent;\n",
              "      border-left-color: var(--fill-color);\n",
              "      border-top-color: var(--fill-color);\n",
              "      border-right-color: var(--fill-color);\n",
              "    }\n",
              "    40% {\n",
              "      border-color: transparent;\n",
              "      border-right-color: var(--fill-color);\n",
              "      border-top-color: var(--fill-color);\n",
              "    }\n",
              "    60% {\n",
              "      border-color: transparent;\n",
              "      border-right-color: var(--fill-color);\n",
              "    }\n",
              "    80% {\n",
              "      border-color: transparent;\n",
              "      border-right-color: var(--fill-color);\n",
              "      border-bottom-color: var(--fill-color);\n",
              "    }\n",
              "    90% {\n",
              "      border-color: transparent;\n",
              "      border-bottom-color: var(--fill-color);\n",
              "    }\n",
              "  }\n",
              "</style>\n",
              "\n",
              "  <script>\n",
              "    async function quickchart(key) {\n",
              "      const quickchartButtonEl =\n",
              "        document.querySelector('#' + key + ' button');\n",
              "      quickchartButtonEl.disabled = true;  // To prevent multiple clicks.\n",
              "      quickchartButtonEl.classList.add('colab-df-spinner');\n",
              "      try {\n",
              "        const charts = await google.colab.kernel.invokeFunction(\n",
              "            'suggestCharts', [key], {});\n",
              "      } catch (error) {\n",
              "        console.error('Error during call to suggestCharts:', error);\n",
              "      }\n",
              "      quickchartButtonEl.classList.remove('colab-df-spinner');\n",
              "      quickchartButtonEl.classList.add('colab-df-quickchart-complete');\n",
              "    }\n",
              "    (() => {\n",
              "      let quickchartButtonEl =\n",
              "        document.querySelector('#df-0c8e8d6f-896f-43ae-9057-730059d91507 button');\n",
              "      quickchartButtonEl.style.display =\n",
              "        google.colab.kernel.accessAllowed ? 'block' : 'none';\n",
              "    })();\n",
              "  </script>\n",
              "</div>\n",
              "    </div>\n",
              "  </div>\n"
            ],
            "application/vnd.google.colaboratory.intrinsic+json": {
              "type": "dataframe",
              "variable_name": "hospital",
              "summary": "{\n  \"name\": \"hospital\",\n  \"rows\": 80,\n  \"fields\": [\n    {\n      \"column\": \"hospital\",\n      \"properties\": {\n        \"dtype\": \"number\",\n        \"std\": 0,\n        \"min\": 0,\n        \"max\": 1,\n        \"num_unique_values\": 2,\n        \"samples\": [\n          0,\n          1\n        ],\n        \"semantic_type\": \"\",\n        \"description\": \"\"\n      }\n    },\n    {\n      \"column\": \"treatment\",\n      \"properties\": {\n        \"dtype\": \"number\",\n        \"std\": 0,\n        \"min\": 0,\n        \"max\": 1,\n        \"num_unique_values\": 2,\n        \"samples\": [\n          0,\n          1\n        ],\n        \"semantic_type\": \"\",\n        \"description\": \"\"\n      }\n    },\n    {\n      \"column\": \"severity\",\n      \"properties\": {\n        \"dtype\": \"number\",\n        \"std\": 7.191461323340046,\n        \"min\": -4.030355814517009,\n        \"max\": 31.06741649115376,\n        \"num_unique_values\": 80,\n        \"samples\": [\n          10.662402581085296,\n          29.68661809190674\n        ],\n        \"semantic_type\": \"\",\n        \"description\": \"\"\n      }\n    },\n    {\n      \"column\": \"days\",\n      \"properties\": {\n        \"dtype\": \"number\",\n        \"std\": 16,\n        \"min\": 0,\n        \"max\": 82,\n        \"num_unique_values\": 47,\n        \"samples\": [\n          27,\n          38\n        ],\n        \"semantic_type\": \"\",\n        \"description\": \"\"\n      }\n    }\n  ]\n}"
            }
          },
          "metadata": {},
          "execution_count": 21
        }
      ],
      "source": [
        "hospital = pd.read_csv(\"/content/hospital_treatment.csv\")\n",
        "hospital.head()"
      ]
    },
    {
      "cell_type": "markdown",
      "id": "012ea07f",
      "metadata": {
        "id": "012ea07f"
      },
      "source": [
        "Так как исследование не рандомизированное, то по общим данным смотреть нельзя: обратите внимание на величину коэффициента при параметре `treatment` &mdash; относится пациент к группе, которой назначено лечение (1) или нет (0)"
      ]
    },
    {
      "cell_type": "code",
      "execution_count": 23,
      "id": "f3f9d5cd",
      "metadata": {
        "id": "f3f9d5cd",
        "colab": {
          "base_uri": "https://localhost:8080/"
        },
        "outputId": "0cb21202-044e-453e-dde3-bcd12f74db80"
      },
      "outputs": [
        {
          "output_type": "stream",
          "name": "stdout",
          "text": [
            "==============================================================================\n",
            "                 coef    std err          t      P>|t|      [0.025      0.975]\n",
            "------------------------------------------------------------------------------\n",
            "Intercept     33.2667      2.662     12.498      0.000      27.968      38.566\n",
            "treatment     14.1533      3.367      4.204      0.000       7.451      20.856\n",
            "==============================================================================\n"
          ]
        }
      ],
      "source": [
        "hosp_1 = smf.ols(formula='days ~ treatment', data=hospital).fit()\n",
        "print(hosp_1.summary().tables[1])"
      ]
    },
    {
      "cell_type": "markdown",
      "id": "q1dSW52GXN4x",
      "metadata": {
        "id": "q1dSW52GXN4x"
      },
      "source": [
        "Но можно посмотреть отдельно по каждой больнице (`hospital`). Постройте две `OLS` на данных каждой из больниц по отдельности."
      ]
    },
    {
      "cell_type": "code",
      "execution_count": 24,
      "id": "c8bafe5c",
      "metadata": {
        "id": "c8bafe5c",
        "colab": {
          "base_uri": "https://localhost:8080/"
        },
        "outputId": "ad583123-bbed-4bca-99c4-77c4bb9b0628"
      },
      "outputs": [
        {
          "output_type": "stream",
          "name": "stdout",
          "text": [
            "==============================================================================\n",
            "                 coef    std err          t      P>|t|      [0.025      0.975]\n",
            "------------------------------------------------------------------------------\n",
            "Intercept     59.0000      6.747      8.745      0.000      45.442      72.558\n",
            "treatment    -10.3958      6.955     -1.495      0.141     -24.371       3.580\n",
            "==============================================================================\n"
          ]
        }
      ],
      "source": [
        "hospital_1 = hospital.query(\"hospital == 1\")\n",
        "hosp_2 = smf.ols(formula='days ~ treatment', data=hospital_1).fit()\n",
        "print(hosp_2.summary().tables[1])"
      ]
    },
    {
      "cell_type": "code",
      "execution_count": 27,
      "id": "b7fb0bfa",
      "metadata": {
        "id": "b7fb0bfa",
        "colab": {
          "base_uri": "https://localhost:8080/"
        },
        "outputId": "014e1b3f-dd26-4f7c-d69f-a9e53dee7216"
      },
      "outputs": [
        {
          "output_type": "stream",
          "name": "stdout",
          "text": [
            "==============================================================================\n",
            "                 coef    std err          t      P>|t|      [0.025      0.975]\n",
            "------------------------------------------------------------------------------\n",
            "Intercept     30.4074      2.868     10.602      0.000      24.523      36.292\n",
            "treatment    -11.4074     10.921     -1.045      0.306     -33.816      11.001\n",
            "==============================================================================\n"
          ]
        }
      ],
      "source": [
        "hospital_2 = hospital.query(\"hospital == 0\")\n",
        "hosp_3 = smf.ols(formula='days ~ treatment', data=hospital_2).fit()\n",
        "print(hosp_3.summary().tables[1])"
      ]
    },
    {
      "cell_type": "markdown",
      "id": "63ab07e1",
      "metadata": {
        "id": "63ab07e1"
      },
      "source": [
        "Поскольку мы рассматриваем каждую больницу отдельно, данных недостаточно, и результаты не являются стат. значимыми.\n",
        "\n",
        "Но мы знаем, что на результат влияет степень тяжести заболевания, и можем включить ее в модель. Такой признак называется **конфаундером (confounder)**, он влечет как тритмент (принадлежность к группе с назначенным лечением), так и таргет (количество дней госпитализации)."
      ]
    },
    {
      "cell_type": "code",
      "execution_count": 28,
      "id": "c6a36d2d",
      "metadata": {
        "id": "c6a36d2d",
        "colab": {
          "base_uri": "https://localhost:8080/"
        },
        "outputId": "64f5c588-3704-4f51-e3c9-5ab7ae0a40ad"
      },
      "outputs": [
        {
          "output_type": "stream",
          "name": "stdout",
          "text": [
            "==============================================================================\n",
            "                 coef    std err          t      P>|t|      [0.025      0.975]\n",
            "------------------------------------------------------------------------------\n",
            "Intercept     11.6641      2.000      5.832      0.000       7.681      15.647\n",
            "treatment     -7.5912      2.269     -3.345      0.001     -12.110      -3.073\n",
            "severity       2.2741      0.154     14.793      0.000       1.968       2.580\n",
            "==============================================================================\n"
          ]
        }
      ],
      "source": [
        "hosp_4 = smf.ols(formula='days ~ treatment + severity', data=hospital).fit()\n",
        "print(hosp_4.summary().tables[1])"
      ]
    },
    {
      "cell_type": "code",
      "execution_count": 29,
      "id": "816c40b5",
      "metadata": {
        "colab": {
          "base_uri": "https://localhost:8080/",
          "height": 36
        },
        "id": "816c40b5",
        "outputId": "893e1350-81a0-423f-b7e7-e8a607cfc750"
      },
      "outputs": [
        {
          "output_type": "execute_result",
          "data": {
            "text/plain": [
              "'hospitals_features.png'"
            ],
            "application/vnd.google.colaboratory.intrinsic+json": {
              "type": "string"
            }
          },
          "metadata": {},
          "execution_count": 29
        }
      ],
      "source": [
        "g = gr.Digraph()\n",
        "\n",
        "g.node(\"treatment\", color=\"gold\")\n",
        "g.edge(\"severity\", \"hospital\")\n",
        "g.edge(\"severity\", \"days\")\n",
        "g.edge(\"hospital\", \"treatment\")\n",
        "g.edge(\"treatment\", \"days\")\n",
        "\n",
        "g.render('hospitals_features', format=\"png\")"
      ]
    },
    {
      "cell_type": "code",
      "execution_count": 30,
      "id": "87d32192",
      "metadata": {
        "colab": {
          "base_uri": "https://localhost:8080/",
          "height": 364
        },
        "id": "87d32192",
        "outputId": "184dd339-7b38-438b-ff13-c9ea2c57e037"
      },
      "outputs": [
        {
          "output_type": "execute_result",
          "data": {
            "image/png": "[encoded data removed]",
            "text/plain": [
              "<IPython.core.display.Image object>"
            ]
          },
          "metadata": {},
          "execution_count": 30
        }
      ],
      "source": [
        "Image(filename='hospitals_features.png')"
      ]
    },
    {
      "cell_type": "markdown",
      "id": "86fa5163",
      "metadata": {
        "id": "86fa5163"
      },
      "source": [
        "Нужно ли включить больницу в модель? Мы же знаем, что лечение назначается в больницах по-разному, и, кажется, это будет дополнительной информацией.\n",
        "\n",
        "Однако при фиксировании степени тяжести и тритмента, больница не коррелирует таргетом. Она влечет только тритмент, поэтому *не является* конфаундером. Для снижения дисперсии признак должен быть *хорошей ковариатой таргета*, а не тритмента.\n",
        "\n",
        "Если мы попробуем его использовать, мы повысим дисперсию. Проверьте это утверждение, построив соответствующую модель."
      ]
    },
    {
      "cell_type": "code",
      "execution_count": 31,
      "id": "368145e8",
      "metadata": {
        "id": "368145e8",
        "colab": {
          "base_uri": "https://localhost:8080/"
        },
        "outputId": "9e5daad9-6203-4382-d725-9c932e9f8e8c"
      },
      "outputs": [
        {
          "output_type": "stream",
          "name": "stdout",
          "text": [
            "====================================================================================\n",
            "                       coef    std err          t      P>|t|      [0.025      0.975]\n",
            "------------------------------------------------------------------------------------\n",
            "Intercept           11.0111      2.118      5.198      0.000       6.792      15.230\n",
            "C(hospital)[T.1]    -4.1535      4.413     -0.941      0.350     -12.943       4.636\n",
            "treatment           -5.0945      3.492     -1.459      0.149     -12.049       1.861\n",
            "severity             2.3865      0.195     12.251      0.000       1.999       2.774\n",
            "====================================================================================\n"
          ]
        }
      ],
      "source": [
        "hosp_5 = smf.ols(formula='days ~ treatment + severity + C(hospital)', data=hospital).fit()\n",
        "print(hosp_5.summary().tables[1])"
      ]
    },
    {
      "cell_type": "markdown",
      "id": "LGfNm7XE8X3L",
      "metadata": {
        "id": "LGfNm7XE8X3L"
      },
      "source": [
        "**Выводы:**\n",
        "\n",
        "1. **Общая модель:**\n",
        "\n",
        "   - Коэффициент при `treatment`: **+14.15**, значимый (p < 0.05)\n",
        "\n",
        "   - Без учета конфаундера (`severity`) результат ненадежен\n",
        "\n",
        "2. **Анализ по больницам:**\n",
        "\n",
        "   - Коэффициенты при `treatment`: **-10.40** (больница 1) и **-11.41** (больница 2), оба незначимы (p > 0.1)\n",
        "\n",
        "   - Малые выборки увеличивают неопределенность.\n",
        "\n",
        "3. **Учет степени тяжести (`severity`):**\n",
        "\n",
        "   - Коэффициент при `treatment`: **-7.59**, значимый (p < 0.05)\n",
        "\n",
        "   - Степень тяжести (`severity`): значима (коэффициент **+2.27**, p < 0.05), устраняет смещение.\n",
        "\n",
        "4. **Включение больницы (`C(hospital)`):**\n",
        "\n",
        "   - Коэффициент при `treatment`: **-5.09**, становится незначимым (p = 0.149)\n",
        "\n",
        "   - Больница (`C(hospital)[T.1]`): незначима (p = 0.35)\n",
        "\n",
        "   - Учет больницы увеличивает дисперсию без пользы.\n",
        "\n",
        "\n",
        "**Итог:** Использовать модель с признаками `treatment` и `severity`. Больницу исключить — она не улучшает модель."
      ]
    },
    {
      "cell_type": "markdown",
      "id": "2684d90e",
      "metadata": {
        "id": "2684d90e"
      },
      "source": [
        "-----\n",
        "**Итог:**\n",
        "* Необходимо добавлять в модель **переменные-ковариаты**, которые влекут таргет (целевую переменную).\n",
        "* Необходимо добавлять в модель **переменные-конфаундеры**, которые влекут как тритмент, так и таргет.\n",
        "* Не следует добавлять в модель переменные, которые могут только спрогнозировать тритмент."
      ]
    },
    {
      "cell_type": "markdown",
      "id": "3b18b5be",
      "metadata": {
        "id": "3b18b5be"
      },
      "source": [
        "### 3. Использование признаков: плохой случай, возникновение смещения"
      ]
    },
    {
      "cell_type": "markdown",
      "id": "NDjXs2eyCgVz",
      "metadata": {
        "id": "NDjXs2eyCgVz"
      },
      "source": [
        "Вернемся к примеру с письмами.\n",
        "\n",
        "Рассмотрим два дополнительных признака, которые есть в наших данных:\n",
        "* `opened` &mdash; открыл ли клиент письмо или нет,\n",
        "* `agreement` &mdash; клиент связался для обсуждения своего долга после получения письма.\n",
        "\n",
        "Какая из следующих моделей лучше? Только с `email + credit_limit + risk_score` (email_1) или с еще двумя дополнительными признаками (email_2)?"
      ]
    },
    {
      "cell_type": "code",
      "execution_count": 32,
      "id": "ac83fcc7",
      "metadata": {
        "id": "ac83fcc7",
        "colab": {
          "base_uri": "https://localhost:8080/"
        },
        "outputId": "cdb93a12-5a61-49e0-d6e2-2eef270b8453"
      },
      "outputs": [
        {
          "output_type": "stream",
          "name": "stdout",
          "text": [
            "================================================================================\n",
            "                   coef    std err          t      P>|t|      [0.025      0.975]\n",
            "--------------------------------------------------------------------------------\n",
            "Intercept      490.8653      9.715     50.527      0.000     471.820     509.911\n",
            "email            4.4304      2.130      2.080      0.038       0.255       8.606\n",
            "credit_limit     0.1511      0.008     18.833      0.000       0.135       0.167\n",
            "risk_score      -8.0516     38.424     -0.210      0.834     -83.379      67.276\n",
            "================================================================================\n"
          ]
        }
      ],
      "source": [
        "email_1 = smf.ols(formula='payments ~ email + credit_limit + risk_score', data=data).fit()\n",
        "print(email_1.summary().tables[1])"
      ]
    },
    {
      "cell_type": "code",
      "execution_count": 33,
      "id": "02c64f43",
      "metadata": {
        "id": "02c64f43",
        "colab": {
          "base_uri": "https://localhost:8080/"
        },
        "outputId": "28cf9359-7187-48d6-b00e-2eae6d1cc8bc"
      },
      "outputs": [
        {
          "output_type": "stream",
          "name": "stdout",
          "text": [
            "================================================================================\n",
            "                   coef    std err          t      P>|t|      [0.025      0.975]\n",
            "--------------------------------------------------------------------------------\n",
            "Intercept      488.4416      9.716     50.272      0.000     469.394     507.489\n",
            "email           -1.6095      2.724     -0.591      0.555      -6.949       3.730\n",
            "credit_limit     0.1507      0.008     18.809      0.000       0.135       0.166\n",
            "risk_score      -2.0929     38.375     -0.055      0.957     -77.325      73.139\n",
            "opened           3.9808      3.914      1.017      0.309      -3.692      11.654\n",
            "agreement       11.7093      4.166      2.811      0.005       3.542      19.876\n",
            "================================================================================\n"
          ]
        }
      ],
      "source": [
        "email_2 = smf.ols(formula='payments ~ email + credit_limit + risk_score + opened + agreement', data=data).fit()\n",
        "print(email_2.summary().tables[1])"
      ]
    },
    {
      "cell_type": "markdown",
      "id": "4069368a",
      "metadata": {
        "id": "4069368a"
      },
      "source": [
        "Первая модель находит статистически значимые результаты для коэффициента `email`, вторая &mdash; нет. Кажется, раз первая модель смогла найти разницу, то она круче. Но ведь во второй модели мы учли дополнительные факторы, и, может быть, она на самом деле правильная, и тритмент никак не влияет на результат?\n",
        "\n",
        "---\n",
        "\n",
        "Опишите, как связаны `opened` и `agreement` с таргетом и тритментом, и ответьте на вопрос, к какому из трех типов признаков (*коварианты, конфаундеры, инструменты*) эти переменные относятся?"
      ]
    },
    {
      "cell_type": "markdown",
      "id": "auLCHcwu9V8n",
      "metadata": {
        "id": "auLCHcwu9V8n"
      },
      "source": [
        "**Ответ:**\n",
        "\n",
        "Модель **email_1** (без `opened` и `agreement`) лучше, потому что в **email_2** эти признаки становятся **инструментами**, влияющими на таргет, и искажают эффект от `email`.  \n",
        "**`opened`** и **`agreement`** — **инструменты**, связанные с тритментом и таргетом, но не конфаундеры."
      ]
    },
    {
      "cell_type": "markdown",
      "id": "n5tBH6DT9lw9",
      "metadata": {
        "id": "n5tBH6DT9lw9"
      },
      "source": [
        "*Примечание.* Заметим, что `email` может влиять на таргет не только через `opened`, но и напрямую. Например, клиент увидел письмо, и погасил свой долг, не открывая само письмо."
      ]
    },
    {
      "cell_type": "markdown",
      "id": "9a7b578c",
      "metadata": {
        "id": "9a7b578c"
      },
      "source": [
        "Проблема заключается в том, что теперь помимо основного пути `email -> payment` у нас еще есть дополнительный путь `email -> opened -> agreement -> payment`. Тем самым часть истинного эффекта влияния тритмента на таргет перетекла на дополнительный путь, который не учтен в коэффициенте линейной регрессии перед `email`. Ведь есть еще и `opened=1`, то вклад в эффект является уже суммой двух коэффициентов линейной регрессии."
      ]
    },
    {
      "cell_type": "markdown",
      "id": "d82de01a",
      "metadata": {
        "id": "d82de01a"
      },
      "source": [
        "## Статистические свойства линейной регрессии\n",
        "\n",
        "Загрузим датасет с данными по стоимости квартир в Москве (<a href=\"https://raw.githubusercontent.com/bdemeshev/em301/master/datasets/flats_moscow.txt\">источник</a>)."
      ]
    },
    {
      "cell_type": "code",
      "execution_count": 35,
      "id": "46d1d496",
      "metadata": {
        "ExecuteTime": {
          "end_time": "2022-11-22T15:08:12.381685Z",
          "start_time": "2022-11-22T15:08:12.365772Z"
        },
        "id": "46d1d496",
        "colab": {
          "base_uri": "https://localhost:8080/",
          "height": 206
        },
        "outputId": "57e0d0db-1ade-4dc1-f96c-27b9397f34cf"
      },
      "outputs": [
        {
          "output_type": "execute_result",
          "data": {
            "text/plain": [
              "   n  price  totsp  livesp  kitsp  dist  metrdist  walk  brick  floor  code\n",
              "0  1     81     58      40    6.0  12.5         7     1      1      1     3\n",
              "1  2     75     44      28    6.0  13.5         7     1      0      1     6\n",
              "2  3    128     70      42    6.0  14.5         3     1      1      1     3\n",
              "3  4     95     61      37    6.0  13.5         7     1      0      1     1\n",
              "4  5    330    104      60   11.0  10.5         7     0      1      1     3"
            ],
            "text/html": [
              "\n",
              "  <div id=\"df-48327472-a1c6-4061-9ddd-f9977ee2f550\" class=\"colab-df-container\">\n",
              "    <div>\n",
              "<style scoped>\n",
              "    .dataframe tbody tr th:only-of-type {\n",
              "        vertical-align: middle;\n",
              "    }\n",
              "\n",
              "    .dataframe tbody tr th {\n",
              "        vertical-align: top;\n",
              "    }\n",
              "\n",
              "    .dataframe thead th {\n",
              "        text-align: right;\n",
              "    }\n",
              "</style>\n",
              "<table border=\"1\" class=\"dataframe\">\n",
              "  <thead>\n",
              "    <tr style=\"text-align: right;\">\n",
              "      <th></th>\n",
              "      <th>n</th>\n",
              "      <th>price</th>\n",
              "      <th>totsp</th>\n",
              "      <th>livesp</th>\n",
              "      <th>kitsp</th>\n",
              "      <th>dist</th>\n",
              "      <th>metrdist</th>\n",
              "      <th>walk</th>\n",
              "      <th>brick</th>\n",
              "      <th>floor</th>\n",
              "      <th>code</th>\n",
              "    </tr>\n",
              "  </thead>\n",
              "  <tbody>\n",
              "    <tr>\n",
              "      <th>0</th>\n",
              "      <td>1</td>\n",
              "      <td>81</td>\n",
              "      <td>58</td>\n",
              "      <td>40</td>\n",
              "      <td>6.0</td>\n",
              "      <td>12.5</td>\n",
              "      <td>7</td>\n",
              "      <td>1</td>\n",
              "      <td>1</td>\n",
              "      <td>1</td>\n",
              "      <td>3</td>\n",
              "    </tr>\n",
              "    <tr>\n",
              "      <th>1</th>\n",
              "      <td>2</td>\n",
              "      <td>75</td>\n",
              "      <td>44</td>\n",
              "      <td>28</td>\n",
              "      <td>6.0</td>\n",
              "      <td>13.5</td>\n",
              "      <td>7</td>\n",
              "      <td>1</td>\n",
              "      <td>0</td>\n",
              "      <td>1</td>\n",
              "      <td>6</td>\n",
              "    </tr>\n",
              "    <tr>\n",
              "      <th>2</th>\n",
              "      <td>3</td>\n",
              "      <td>128</td>\n",
              "      <td>70</td>\n",
              "      <td>42</td>\n",
              "      <td>6.0</td>\n",
              "      <td>14.5</td>\n",
              "      <td>3</td>\n",
              "      <td>1</td>\n",
              "      <td>1</td>\n",
              "      <td>1</td>\n",
              "      <td>3</td>\n",
              "    </tr>\n",
              "    <tr>\n",
              "      <th>3</th>\n",
              "      <td>4</td>\n",
              "      <td>95</td>\n",
              "      <td>61</td>\n",
              "      <td>37</td>\n",
              "      <td>6.0</td>\n",
              "      <td>13.5</td>\n",
              "      <td>7</td>\n",
              "      <td>1</td>\n",
              "      <td>0</td>\n",
              "      <td>1</td>\n",
              "      <td>1</td>\n",
              "    </tr>\n",
              "    <tr>\n",
              "      <th>4</th>\n",
              "      <td>5</td>\n",
              "      <td>330</td>\n",
              "      <td>104</td>\n",
              "      <td>60</td>\n",
              "      <td>11.0</td>\n",
              "      <td>10.5</td>\n",
              "      <td>7</td>\n",
              "      <td>0</td>\n",
              "      <td>1</td>\n",
              "      <td>1</td>\n",
              "      <td>3</td>\n",
              "    </tr>\n",
              "  </tbody>\n",
              "</table>\n",
              "</div>\n",
              "    <div class=\"colab-df-buttons\">\n",
              "\n",
              "  <div class=\"colab-df-container\">\n",
              "    <button class=\"colab-df-convert\" onclick=\"convertToInteractive('df-48327472-a1c6-4061-9ddd-f9977ee2f550')\"\n",
              "            title=\"Convert this dataframe to an interactive table.\"\n",
              "            style=\"display:none;\">\n",
              "\n",
              "  <svg xmlns=\"http://www.w3.org/2000/svg\" height=\"24px\" viewBox=\"0 -960 960 960\">\n",
              "    <path d=\"M120-120v-720h720v720H120Zm60-500h600v-160H180v160Zm220 220h160v-160H400v160Zm0 220h160v-160H400v160ZM180-400h160v-160H180v160Zm440 0h160v-160H620v160ZM180-180h160v-160H180v160Zm440 0h160v-160H620v160Z\"/>\n",
              "  </svg>\n",
              "    </button>\n",
              "\n",
              "  <style>\n",
              "    .colab-df-container {\n",
              "      display:flex;\n",
              "      gap: 12px;\n",
              "    }\n",
              "\n",
              "    .colab-df-convert {\n",
              "      background-color: #E8F0FE;\n",
              "      border: none;\n",
              "      border-radius: 50%;\n",
              "      cursor: pointer;\n",
              "      display: none;\n",
              "      fill: #1967D2;\n",
              "      height: 32px;\n",
              "      padding: 0 0 0 0;\n",
              "      width: 32px;\n",
              "    }\n",
              "\n",
              "    .colab-df-convert:hover {\n",
              "      background-color: #E2EBFA;\n",
              "      box-shadow: 0px 1px 2px rgba(60, 64, 67, 0.3), 0px 1px 3px 1px rgba(60, 64, 67, 0.15);\n",
              "      fill: #174EA6;\n",
              "    }\n",
              "\n",
              "    .colab-df-buttons div {\n",
              "      margin-bottom: 4px;\n",
              "    }\n",
              "\n",
              "    [theme=dark] .colab-df-convert {\n",
              "      background-color: #3B4455;\n",
              "      fill: #D2E3FC;\n",
              "    }\n",
              "\n",
              "    [theme=dark] .colab-df-convert:hover {\n",
              "      background-color: #434B5C;\n",
              "      box-shadow: 0px 1px 3px 1px rgba(0, 0, 0, 0.15);\n",
              "      filter: drop-shadow(0px 1px 2px rgba(0, 0, 0, 0.3));\n",
              "      fill: #FFFFFF;\n",
              "    }\n",
              "  </style>\n",
              "\n",
              "    <script>\n",
              "      const buttonEl =\n",
              "        document.querySelector('#df-48327472-a1c6-4061-9ddd-f9977ee2f550 button.colab-df-convert');\n",
              "      buttonEl.style.display =\n",
              "        google.colab.kernel.accessAllowed ? 'block' : 'none';\n",
              "\n",
              "      async function convertToInteractive(key) {\n",
              "        const element = document.querySelector('#df-48327472-a1c6-4061-9ddd-f9977ee2f550');\n",
              "        const dataTable =\n",
              "          await google.colab.kernel.invokeFunction('convertToInteractive',\n",
              "                                                    [key], {});\n",
              "        if (!dataTable) return;\n",
              "\n",
              "        const docLinkHtml = 'Like what you see? Visit the ' +\n",
              "          '<a target=\"_blank\" href=https://colab.research.google.com/notebooks/data_table.ipynb>data table notebook</a>'\n",
              "          + ' to learn more about interactive tables.';\n",
              "        element.innerHTML = '';\n",
              "        dataTable['output_type'] = 'display_data';\n",
              "        await google.colab.output.renderOutput(dataTable, element);\n",
              "        const docLink = document.createElement('div');\n",
              "        docLink.innerHTML = docLinkHtml;\n",
              "        element.appendChild(docLink);\n",
              "      }\n",
              "    </script>\n",
              "  </div>\n",
              "\n",
              "\n",
              "<div id=\"df-0e38f0e8-8817-46b3-92d6-d048bfb23a29\">\n",
              "  <button class=\"colab-df-quickchart\" onclick=\"quickchart('df-0e38f0e8-8817-46b3-92d6-d048bfb23a29')\"\n",
              "            title=\"Suggest charts\"\n",
              "            style=\"display:none;\">\n",
              "\n",
              "<svg xmlns=\"http://www.w3.org/2000/svg\" height=\"24px\"viewBox=\"0 0 24 24\"\n",
              "     width=\"24px\">\n",
              "    <g>\n",
              "        <path d=\"M19 3H5c-1.1 0-2 .9-2 2v14c0 1.1.9 2 2 2h14c1.1 0 2-.9 2-2V5c0-1.1-.9-2-2-2zM9 17H7v-7h2v7zm4 0h-2V7h2v10zm4 0h-2v-4h2v4z\"/>\n",
              "    </g>\n",
              "</svg>\n",
              "  </button>\n",
              "\n",
              "<style>\n",
              "  .colab-df-quickchart {\n",
              "      --bg-color: #E8F0FE;\n",
              "      --fill-color: #1967D2;\n",
              "      --hover-bg-color: #E2EBFA;\n",
              "      --hover-fill-color: #174EA6;\n",
              "      --disabled-fill-color: #AAA;\n",
              "      --disabled-bg-color: #DDD;\n",
              "  }\n",
              "\n",
              "  [theme=dark] .colab-df-quickchart {\n",
              "      --bg-color: #3B4455;\n",
              "      --fill-color: #D2E3FC;\n",
              "      --hover-bg-color: #434B5C;\n",
              "      --hover-fill-color: #FFFFFF;\n",
              "      --disabled-bg-color: #3B4455;\n",
              "      --disabled-fill-color: #666;\n",
              "  }\n",
              "\n",
              "  .colab-df-quickchart {\n",
              "    background-color: var(--bg-color);\n",
              "    border: none;\n",
              "    border-radius: 50%;\n",
              "    cursor: pointer;\n",
              "    display: none;\n",
              "    fill: var(--fill-color);\n",
              "    height: 32px;\n",
              "    padding: 0;\n",
              "    width: 32px;\n",
              "  }\n",
              "\n",
              "  .colab-df-quickchart:hover {\n",
              "    background-color: var(--hover-bg-color);\n",
              "    box-shadow: 0 1px 2px rgba(60, 64, 67, 0.3), 0 1px 3px 1px rgba(60, 64, 67, 0.15);\n",
              "    fill: var(--button-hover-fill-color);\n",
              "  }\n",
              "\n",
              "  .colab-df-quickchart-complete:disabled,\n",
              "  .colab-df-quickchart-complete:disabled:hover {\n",
              "    background-color: var(--disabled-bg-color);\n",
              "    fill: var(--disabled-fill-color);\n",
              "    box-shadow: none;\n",
              "  }\n",
              "\n",
              "  .colab-df-spinner {\n",
              "    border: 2px solid var(--fill-color);\n",
              "    border-color: transparent;\n",
              "    border-bottom-color: var(--fill-color);\n",
              "    animation:\n",
              "      spin 1s steps(1) infinite;\n",
              "  }\n",
              "\n",
              "  @keyframes spin {\n",
              "    0% {\n",
              "      border-color: transparent;\n",
              "      border-bottom-color: var(--fill-color);\n",
              "      border-left-color: var(--fill-color);\n",
              "    }\n",
              "    20% {\n",
              "      border-color: transparent;\n",
              "      border-left-color: var(--fill-color);\n",
              "      border-top-color: var(--fill-color);\n",
              "    }\n",
              "    30% {\n",
              "      border-color: transparent;\n",
              "      border-left-color: var(--fill-color);\n",
              "      border-top-color: var(--fill-color);\n",
              "      border-right-color: var(--fill-color);\n",
              "    }\n",
              "    40% {\n",
              "      border-color: transparent;\n",
              "      border-right-color: var(--fill-color);\n",
              "      border-top-color: var(--fill-color);\n",
              "    }\n",
              "    60% {\n",
              "      border-color: transparent;\n",
              "      border-right-color: var(--fill-color);\n",
              "    }\n",
              "    80% {\n",
              "      border-color: transparent;\n",
              "      border-right-color: var(--fill-color);\n",
              "      border-bottom-color: var(--fill-color);\n",
              "    }\n",
              "    90% {\n",
              "      border-color: transparent;\n",
              "      border-bottom-color: var(--fill-color);\n",
              "    }\n",
              "  }\n",
              "</style>\n",
              "\n",
              "  <script>\n",
              "    async function quickchart(key) {\n",
              "      const quickchartButtonEl =\n",
              "        document.querySelector('#' + key + ' button');\n",
              "      quickchartButtonEl.disabled = true;  // To prevent multiple clicks.\n",
              "      quickchartButtonEl.classList.add('colab-df-spinner');\n",
              "      try {\n",
              "        const charts = await google.colab.kernel.invokeFunction(\n",
              "            'suggestCharts', [key], {});\n",
              "      } catch (error) {\n",
              "        console.error('Error during call to suggestCharts:', error);\n",
              "      }\n",
              "      quickchartButtonEl.classList.remove('colab-df-spinner');\n",
              "      quickchartButtonEl.classList.add('colab-df-quickchart-complete');\n",
              "    }\n",
              "    (() => {\n",
              "      let quickchartButtonEl =\n",
              "        document.querySelector('#df-0e38f0e8-8817-46b3-92d6-d048bfb23a29 button');\n",
              "      quickchartButtonEl.style.display =\n",
              "        google.colab.kernel.accessAllowed ? 'block' : 'none';\n",
              "    })();\n",
              "  </script>\n",
              "</div>\n",
              "    </div>\n",
              "  </div>\n"
            ],
            "application/vnd.google.colaboratory.intrinsic+json": {
              "type": "dataframe",
              "variable_name": "flats",
              "summary": "{\n  \"name\": \"flats\",\n  \"rows\": 2040,\n  \"fields\": [\n    {\n      \"column\": \"n\",\n      \"properties\": {\n        \"dtype\": \"number\",\n        \"std\": 589,\n        \"min\": 1,\n        \"max\": 2040,\n        \"num_unique_values\": 2040,\n        \"samples\": [\n          1317,\n          1001,\n          1069\n        ],\n        \"semantic_type\": \"\",\n        \"description\": \"\"\n      }\n    },\n    {\n      \"column\": \"price\",\n      \"properties\": {\n        \"dtype\": \"number\",\n        \"std\": 51,\n        \"min\": 50,\n        \"max\": 730,\n        \"num_unique_values\": 180,\n        \"samples\": [\n          125,\n          180,\n          309\n        ],\n        \"semantic_type\": \"\",\n        \"description\": \"\"\n      }\n    },\n    {\n      \"column\": \"totsp\",\n      \"properties\": {\n        \"dtype\": \"number\",\n        \"std\": 15,\n        \"min\": 44,\n        \"max\": 192,\n        \"num_unique_values\": 91,\n        \"samples\": [\n          53,\n          92,\n          101\n        ],\n        \"semantic_type\": \"\",\n        \"description\": \"\"\n      }\n    },\n    {\n      \"column\": \"livesp\",\n      \"properties\": {\n        \"dtype\": \"number\",\n        \"std\": 7,\n        \"min\": 28,\n        \"max\": 102,\n        \"num_unique_values\": 58,\n        \"samples\": [\n          40,\n          50,\n          74\n        ],\n        \"semantic_type\": \"\",\n        \"description\": \"\"\n      }\n    },\n    {\n      \"column\": \"kitsp\",\n      \"properties\": {\n        \"dtype\": \"number\",\n        \"std\": 2.787073045152758,\n        \"min\": 5.0,\n        \"max\": 25.0,\n        \"num_unique_values\": 22,\n        \"samples\": [\n          6.0,\n          5.0,\n          14.0\n        ],\n        \"semantic_type\": \"\",\n        \"description\": \"\"\n      }\n    },\n    {\n      \"column\": \"dist\",\n      \"properties\": {\n        \"dtype\": \"number\",\n        \"std\": 3.375538613531841,\n        \"min\": 3.0,\n        \"max\": 17.0,\n        \"num_unique_values\": 22,\n        \"samples\": [\n          12.5,\n          7.0,\n          3.5\n        ],\n        \"semantic_type\": \"\",\n        \"description\": \"\"\n      }\n    },\n    {\n      \"column\": \"metrdist\",\n      \"properties\": {\n        \"dtype\": \"number\",\n        \"std\": 3,\n        \"min\": 1,\n        \"max\": 20,\n        \"num_unique_values\": 14,\n        \"samples\": [\n          6,\n          12,\n          7\n        ],\n        \"semantic_type\": \"\",\n        \"description\": \"\"\n      }\n    },\n    {\n      \"column\": \"walk\",\n      \"properties\": {\n        \"dtype\": \"number\",\n        \"std\": 0,\n        \"min\": 0,\n        \"max\": 1,\n        \"num_unique_values\": 2,\n        \"samples\": [\n          0,\n          1\n        ],\n        \"semantic_type\": \"\",\n        \"description\": \"\"\n      }\n    },\n    {\n      \"column\": \"brick\",\n      \"properties\": {\n        \"dtype\": \"number\",\n        \"std\": 0,\n        \"min\": 0,\n        \"max\": 1,\n        \"num_unique_values\": 2,\n        \"samples\": [\n          0,\n          1\n        ],\n        \"semantic_type\": \"\",\n        \"description\": \"\"\n      }\n    },\n    {\n      \"column\": \"floor\",\n      \"properties\": {\n        \"dtype\": \"number\",\n        \"std\": 0,\n        \"min\": 0,\n        \"max\": 1,\n        \"num_unique_values\": 2,\n        \"samples\": [\n          0,\n          1\n        ],\n        \"semantic_type\": \"\",\n        \"description\": \"\"\n      }\n    },\n    {\n      \"column\": \"code\",\n      \"properties\": {\n        \"dtype\": \"number\",\n        \"std\": 2,\n        \"min\": 1,\n        \"max\": 8,\n        \"num_unique_values\": 8,\n        \"samples\": [\n          6,\n          5\n        ],\n        \"semantic_type\": \"\",\n        \"description\": \"\"\n      }\n    }\n  ]\n}"
            }
          },
          "metadata": {},
          "execution_count": 35
        }
      ],
      "source": [
        "flats = pd.read_csv(\"/content/flats_moscow.txt\", sep='\\t')\n",
        "flats.head()"
      ]
    },
    {
      "cell_type": "markdown",
      "id": "b94cdabc",
      "metadata": {
        "id": "b94cdabc"
      },
      "source": [
        "Будем рассматривать зависимость цены квартиры от ее площади."
      ]
    },
    {
      "cell_type": "markdown",
      "id": "6e89e6a4",
      "metadata": {
        "id": "6e89e6a4"
      },
      "source": [
        "### 1. Обучение простой линейной модели\n",
        "\n",
        "Сначала обучим линейную регрессию `OLS` предсказания стоимости квартиры по ее площади по аналогии с предыдущими пунктами."
      ]
    },
    {
      "cell_type": "code",
      "execution_count": 37,
      "id": "b395bd6a",
      "metadata": {
        "ExecuteTime": {
          "end_time": "2022-11-22T15:08:12.593585Z",
          "start_time": "2022-11-22T15:08:12.580390Z"
        },
        "id": "b395bd6a",
        "colab": {
          "base_uri": "https://localhost:8080/"
        },
        "outputId": "3bcbfbb5-0dc5-4cf5-f7e4-02dca5c55bfe"
      },
      "outputs": [
        {
          "output_type": "stream",
          "name": "stdout",
          "text": [
            "                            OLS Regression Results                            \n",
            "==============================================================================\n",
            "Dep. Variable:                  price   R-squared:                       0.572\n",
            "Model:                            OLS   Adj. R-squared:                  0.571\n",
            "Method:                 Least Squares   F-statistic:                     2719.\n",
            "Date:                Sat, 30 Nov 2024   Prob (F-statistic):               0.00\n",
            "Time:                        15:45:10   Log-Likelihood:                -10085.\n",
            "No. Observations:                2040   AIC:                         2.017e+04\n",
            "Df Residuals:                    2038   BIC:                         2.019e+04\n",
            "Df Model:                           1                                         \n",
            "Covariance Type:            nonrobust                                         \n",
            "==============================================================================\n",
            "                 coef    std err          t      P>|t|      [0.025      0.975]\n",
            "------------------------------------------------------------------------------\n",
            "Intercept    -62.0448      3.712    -16.716      0.000     -69.324     -54.766\n",
            "totsp          2.5935      0.050     52.146      0.000       2.496       2.691\n",
            "==============================================================================\n",
            "Omnibus:                     1357.794   Durbin-Watson:                   2.001\n",
            "Prob(Omnibus):                  0.000   Jarque-Bera (JB):            41468.085\n",
            "Skew:                           2.673   Prob(JB):                         0.00\n",
            "Kurtosis:                      24.431   Cond. No.                         368.\n",
            "==============================================================================\n",
            "\n",
            "Notes:\n",
            "[1] Standard Errors assume that the covariance matrix of the errors is correctly specified.\n"
          ]
        }
      ],
      "source": [
        "l_results = smf.ols(formula='price ~ totsp', data=flats).fit()\n",
        "print(l_results.summary())"
      ]
    },
    {
      "cell_type": "markdown",
      "id": "604ed614",
      "metadata": {
        "id": "604ed614"
      },
      "source": [
        "Посмотрим на результаты модели, полученные **в предположении гомоскедастичности**."
      ]
    },
    {
      "cell_type": "markdown",
      "id": "69de10ab",
      "metadata": {
        "id": "69de10ab"
      },
      "source": [
        "Можно извлечь результаты отдельных тестов, например, проверка гипотезы о незначимости коэффициента перед признаком `totsp`."
      ]
    },
    {
      "cell_type": "code",
      "execution_count": 38,
      "id": "ba76cdcd",
      "metadata": {
        "ExecuteTime": {
          "end_time": "2022-11-22T15:08:12.620849Z",
          "start_time": "2022-11-22T15:08:12.612010Z"
        },
        "id": "ba76cdcd",
        "colab": {
          "base_uri": "https://localhost:8080/"
        },
        "outputId": "59ed9452-d53d-47eb-e149-5e26689d5910"
      },
      "outputs": [
        {
          "output_type": "execute_result",
          "data": {
            "text/plain": [
              "<class 'statsmodels.stats.contrast.ContrastResults'>\n",
              "                             Test for Constraints                             \n",
              "==============================================================================\n",
              "                 coef    std err          t      P>|t|      [0.025      0.975]\n",
              "------------------------------------------------------------------------------\n",
              "c0             2.5935      0.050     52.146      0.000       2.496       2.691\n",
              "=============================================================================="
            ]
          },
          "metadata": {},
          "execution_count": 38
        }
      ],
      "source": [
        "result = l_results.t_test('totsp = 0')\n",
        "result"
      ]
    },
    {
      "cell_type": "markdown",
      "id": "3133feba",
      "metadata": {
        "id": "3133feba"
      },
      "source": [
        "Посмотрите, как зависят остатки обученной модели (используйте функцию `outlier_test()`) от общей площади квартиры"
      ]
    },
    {
      "cell_type": "code",
      "execution_count": 39,
      "id": "19200618",
      "metadata": {
        "ExecuteTime": {
          "end_time": "2022-11-22T15:08:12.578657Z",
          "start_time": "2022-11-22T15:08:12.383366Z"
        },
        "id": "19200618",
        "colab": {
          "base_uri": "https://localhost:8080/",
          "height": 361
        },
        "outputId": "5d6263f7-7a02-4eb0-ab4d-07c5b783e9c1"
      },
      "outputs": [
        {
          "output_type": "display_data",
          "data": {
            "text/plain": [
              "<Figure size 1200x600 with 1 Axes>"
            ],
            "image/png": "[encoded data removed]"
          },
          "metadata": {}
        }
      ],
      "source": [
        "plt.figure(figsize=(12, 6))\n",
        "plt.scatter(flats['totsp'], l_results.resid, alpha=0.4)\n",
        "plt.title('Стоимость квартир в Москве')\n",
        "plt.xlabel('Общая площадь квартиры, кв.м')\n",
        "plt.ylabel('Цена квартиры, $1000 (остатки модели)');"
      ]
    },
    {
      "cell_type": "markdown",
      "id": "l_Gek1vY8arv",
      "metadata": {
        "id": "l_Gek1vY8arv"
      },
      "source": [
        "По графику явно видна гетероскедастичность.\n",
        "\n",
        "*Примечание.* Если **хотя бы по одному** признаку, используемому в модели, видна разная дисперсия остатков, то имеет смысл говорить о гетероскедастичности."
      ]
    },
    {
      "cell_type": "markdown",
      "id": "34bda7bc",
      "metadata": {
        "id": "34bda7bc"
      },
      "source": [
        "### 2. Проверка на гетероскедастичность\n",
        "\n",
        "*При наличии подозрений на гетероскедастичность рекомендуется сразу использовать устойчивые оценки дисперсии (см. далее), не применяя проверку на гетероскедастичность стат. критериями. Данные критерии также имеют свои ошибки, и последовательное применение нескольких критериев может суммировать вероятности ошибок.*\n",
        "\n",
        "$\\mathsf{H}_0: \\gamma_2 = \\gamma_3 = ... = \\gamma_p ⇔ σ_1^2 = ... = σ_n^2 \\Leftrightarrow \\,{\\large остатки \\,\\, гомоскедатичны}$\n",
        "\n",
        "$\\mathsf{H}_1: \\mathsf{H}_0 \\,\\,{\\large неверна}$\n",
        "\n",
        "В качестве параметров все методы принимают остатки `resid` и регрессоры (параметры) `model.exog` &mdash; именно в таком порядке"
      ]
    },
    {
      "cell_type": "markdown",
      "id": "b3fabdd3",
      "metadata": {
        "id": "b3fabdd3"
      },
      "source": [
        "**Критерий Бройша-Пагана**"
      ]
    },
    {
      "cell_type": "code",
      "execution_count": 43,
      "id": "b9b48b16",
      "metadata": {
        "ExecuteTime": {
          "end_time": "2022-11-22T15:08:12.681609Z",
          "start_time": "2022-11-22T15:08:12.664381Z"
        },
        "id": "b9b48b16",
        "colab": {
          "base_uri": "https://localhost:8080/",
          "height": 209
        },
        "outputId": "f639682e-52ec-44d4-bde5-b34613982128"
      },
      "outputs": [
        {
          "output_type": "execute_result",
          "data": {
            "text/plain": [
              "Lagrange multiplier statistic    2.019538e+02\n",
              "p-value                          7.824949e-46\n",
              "f-value                          2.239235e+02\n",
              "f p-value                        4.107852e-48\n",
              "dtype: float64"
            ],
            "text/html": [
              "<div>\n",
              "<style scoped>\n",
              "    .dataframe tbody tr th:only-of-type {\n",
              "        vertical-align: middle;\n",
              "    }\n",
              "\n",
              "    .dataframe tbody tr th {\n",
              "        vertical-align: top;\n",
              "    }\n",
              "\n",
              "    .dataframe thead th {\n",
              "        text-align: right;\n",
              "    }\n",
              "</style>\n",
              "<table border=\"1\" class=\"dataframe\">\n",
              "  <thead>\n",
              "    <tr style=\"text-align: right;\">\n",
              "      <th></th>\n",
              "      <th>0</th>\n",
              "    </tr>\n",
              "  </thead>\n",
              "  <tbody>\n",
              "    <tr>\n",
              "      <th>Lagrange multiplier statistic</th>\n",
              "      <td>2.019538e+02</td>\n",
              "    </tr>\n",
              "    <tr>\n",
              "      <th>p-value</th>\n",
              "      <td>7.824949e-46</td>\n",
              "    </tr>\n",
              "    <tr>\n",
              "      <th>f-value</th>\n",
              "      <td>2.239235e+02</td>\n",
              "    </tr>\n",
              "    <tr>\n",
              "      <th>f p-value</th>\n",
              "      <td>4.107852e-48</td>\n",
              "    </tr>\n",
              "  </tbody>\n",
              "</table>\n",
              "</div><br><label><b>dtype:</b> float64</label>"
            ]
          },
          "metadata": {},
          "execution_count": 43
        }
      ],
      "source": [
        "test = sms.het_breuschpagan(l_results.resid, l_results.model.exog)\n",
        "\n",
        "name = [\"Lagrange multiplier statistic\", \"p-value\", \"f-value\", \"f p-value\"]\n",
        "pd.Series(test, index=name)"
      ]
    },
    {
      "cell_type": "markdown",
      "id": "902724a7",
      "metadata": {
        "id": "902724a7"
      },
      "source": [
        "**Критерий Голдфелда-Квандта**"
      ]
    },
    {
      "cell_type": "code",
      "execution_count": 44,
      "id": "5daaff1c",
      "metadata": {
        "ExecuteTime": {
          "end_time": "2022-11-22T15:08:12.692814Z",
          "start_time": "2022-11-22T15:08:12.683293Z"
        },
        "id": "5daaff1c",
        "colab": {
          "base_uri": "https://localhost:8080/",
          "height": 178
        },
        "outputId": "c8356012-96b8-4a5b-9686-d4b49e72d118"
      },
      "outputs": [
        {
          "output_type": "execute_result",
          "data": {
            "text/plain": [
              "F statistic      0.827954\n",
              "p-value          0.998689\n",
              "type           increasing\n",
              "dtype: object"
            ],
            "text/html": [
              "<div>\n",
              "<style scoped>\n",
              "    .dataframe tbody tr th:only-of-type {\n",
              "        vertical-align: middle;\n",
              "    }\n",
              "\n",
              "    .dataframe tbody tr th {\n",
              "        vertical-align: top;\n",
              "    }\n",
              "\n",
              "    .dataframe thead th {\n",
              "        text-align: right;\n",
              "    }\n",
              "</style>\n",
              "<table border=\"1\" class=\"dataframe\">\n",
              "  <thead>\n",
              "    <tr style=\"text-align: right;\">\n",
              "      <th></th>\n",
              "      <th>0</th>\n",
              "    </tr>\n",
              "  </thead>\n",
              "  <tbody>\n",
              "    <tr>\n",
              "      <th>F statistic</th>\n",
              "      <td>0.827954</td>\n",
              "    </tr>\n",
              "    <tr>\n",
              "      <th>p-value</th>\n",
              "      <td>0.998689</td>\n",
              "    </tr>\n",
              "    <tr>\n",
              "      <th>type</th>\n",
              "      <td>increasing</td>\n",
              "    </tr>\n",
              "  </tbody>\n",
              "</table>\n",
              "</div><br><label><b>dtype:</b> object</label>"
            ]
          },
          "metadata": {},
          "execution_count": 44
        }
      ],
      "source": [
        "test = sms.het_goldfeldquandt(l_results.resid, l_results.model.exog)\n",
        "\n",
        "name = [\"F statistic\", \"p-value\", \"type\"]\n",
        "pd.Series(test, index=name)"
      ]
    },
    {
      "cell_type": "markdown",
      "id": "e61412b3",
      "metadata": {
        "id": "e61412b3"
      },
      "source": [
        "**Критерий Уайта**"
      ]
    },
    {
      "cell_type": "code",
      "execution_count": 45,
      "id": "06e00536",
      "metadata": {
        "ExecuteTime": {
          "end_time": "2022-11-22T15:08:12.711328Z",
          "start_time": "2022-11-22T15:08:12.697884Z"
        },
        "id": "06e00536",
        "colab": {
          "base_uri": "https://localhost:8080/",
          "height": 209
        },
        "outputId": "1be05b9b-b9aa-430f-bf7b-ef0d1fa6dd8f"
      },
      "outputs": [
        {
          "output_type": "execute_result",
          "data": {
            "text/plain": [
              "Lagrange multiplier statistic    2.473515e+02\n",
              "p-value                          1.942238e-54\n",
              "f-value                          1.405337e+02\n",
              "f p-value                        6.706169e-58\n",
              "dtype: float64"
            ],
            "text/html": [
              "<div>\n",
              "<style scoped>\n",
              "    .dataframe tbody tr th:only-of-type {\n",
              "        vertical-align: middle;\n",
              "    }\n",
              "\n",
              "    .dataframe tbody tr th {\n",
              "        vertical-align: top;\n",
              "    }\n",
              "\n",
              "    .dataframe thead th {\n",
              "        text-align: right;\n",
              "    }\n",
              "</style>\n",
              "<table border=\"1\" class=\"dataframe\">\n",
              "  <thead>\n",
              "    <tr style=\"text-align: right;\">\n",
              "      <th></th>\n",
              "      <th>0</th>\n",
              "    </tr>\n",
              "  </thead>\n",
              "  <tbody>\n",
              "    <tr>\n",
              "      <th>Lagrange multiplier statistic</th>\n",
              "      <td>2.473515e+02</td>\n",
              "    </tr>\n",
              "    <tr>\n",
              "      <th>p-value</th>\n",
              "      <td>1.942238e-54</td>\n",
              "    </tr>\n",
              "    <tr>\n",
              "      <th>f-value</th>\n",
              "      <td>1.405337e+02</td>\n",
              "    </tr>\n",
              "    <tr>\n",
              "      <th>f p-value</th>\n",
              "      <td>6.706169e-58</td>\n",
              "    </tr>\n",
              "  </tbody>\n",
              "</table>\n",
              "</div><br><label><b>dtype:</b> float64</label>"
            ]
          },
          "metadata": {},
          "execution_count": 45
        }
      ],
      "source": [
        "test = sms.het_white(l_results.resid, l_results.model.exog)\n",
        "\n",
        "name = [\"Lagrange multiplier statistic\", \"p-value\", \"f-value\", \"f p-value\"]\n",
        "pd.Series(test, index=name)"
      ]
    },
    {
      "cell_type": "markdown",
      "id": "3f6ac1b4",
      "metadata": {
        "id": "3f6ac1b4"
      },
      "source": [
        "### 3. Использование устойчивых оценок дисперсии\n",
        "\n",
        "Обучите модель `OLS` в условиях гетероскедастичности. Возьмите `cov_type=\"HC3\"` у метода `fit` модели и посмотрите на результат. Интерпретация значений в таблицах аналогична, см. пояснения выше."
      ]
    },
    {
      "cell_type": "code",
      "execution_count": 47,
      "id": "5e037a62",
      "metadata": {
        "ExecuteTime": {
          "end_time": "2022-11-22T15:08:12.726674Z",
          "start_time": "2022-11-22T15:08:12.713015Z"
        },
        "id": "5e037a62",
        "colab": {
          "base_uri": "https://localhost:8080/"
        },
        "outputId": "068155ef-cd94-4c2f-8483-d666a9f93bf2"
      },
      "outputs": [
        {
          "output_type": "stream",
          "name": "stdout",
          "text": [
            "                            OLS Regression Results                            \n",
            "==============================================================================\n",
            "Dep. Variable:                  price   R-squared:                       0.572\n",
            "Model:                            OLS   Adj. R-squared:                  0.571\n",
            "Method:                 Least Squares   F-statistic:                     516.0\n",
            "Date:                Sat, 30 Nov 2024   Prob (F-statistic):          5.24e-102\n",
            "Time:                        15:53:29   Log-Likelihood:                -10085.\n",
            "No. Observations:                2040   AIC:                         2.017e+04\n",
            "Df Residuals:                    2038   BIC:                         2.019e+04\n",
            "Df Model:                           1                                         \n",
            "Covariance Type:                  HC3                                         \n",
            "==============================================================================\n",
            "                 coef    std err          z      P>|z|      [0.025      0.975]\n",
            "------------------------------------------------------------------------------\n",
            "Intercept    -62.0448      7.859     -7.895      0.000     -77.449     -46.641\n",
            "totsp          2.5935      0.114     22.715      0.000       2.370       2.817\n",
            "==============================================================================\n",
            "Omnibus:                     1357.794   Durbin-Watson:                   2.001\n",
            "Prob(Omnibus):                  0.000   Jarque-Bera (JB):            41468.085\n",
            "Skew:                           2.673   Prob(JB):                         0.00\n",
            "Kurtosis:                      24.431   Cond. No.                         368.\n",
            "==============================================================================\n",
            "\n",
            "Notes:\n",
            "[1] Standard Errors are heteroscedasticity robust (HC3)\n"
          ]
        }
      ],
      "source": [
        "l_results_robust = smf.ols(formula='price ~ totsp', data=flats).fit(cov_type='HC3')\n",
        "\n",
        "print(l_results_robust.summary())"
      ]
    },
    {
      "cell_type": "markdown",
      "id": "xXseZPNr_W8y",
      "metadata": {
        "id": "xXseZPNr_W8y"
      },
      "source": [
        "**Вопрос:** Что изменилось при использовании поправки на гетероскедатичность?\n",
        "\n",
        "**Ответ:**\n",
        "\n",
        "При использовании поправки на гетероскедастичность (`cov_type='HC3'`) стандартные ошибки увеличились, что сделало оценки более устойчивыми к изменчивости дисперсии остатков. Коэффициент `totsp` остался значимым, но с более высокой стандартной ошибкой.\n"
      ]
    },
    {
      "cell_type": "markdown",
      "id": "35a83b31",
      "metadata": {
        "id": "35a83b31"
      },
      "source": [
        "### 4. Пример с несколькими признаками\n",
        "\n",
        "Рассмотрим регрессионную модель $$price = \\theta_0 + \\theta_1 \\cdot totsp + \\theta_2 \\cdot livesp + \\theta_3 \\cdot dist$$\n",
        "\n",
        "Напишите формулу для модели и укажите тип используемой оценки матрицы ковариаций в предположении гетероскедастичности."
      ]
    },
    {
      "cell_type": "code",
      "execution_count": 48,
      "id": "d504fb91",
      "metadata": {
        "ExecuteTime": {
          "end_time": "2022-11-22T15:08:12.795851Z",
          "start_time": "2022-11-22T15:08:12.761283Z"
        },
        "id": "d504fb91",
        "colab": {
          "base_uri": "https://localhost:8080/"
        },
        "outputId": "e0e8ff7c-f9fd-4b55-8f96-1ac931f29a89"
      },
      "outputs": [
        {
          "output_type": "stream",
          "name": "stdout",
          "text": [
            "                            OLS Regression Results                            \n",
            "==============================================================================\n",
            "Dep. Variable:                  price   R-squared:                       0.644\n",
            "Model:                            OLS   Adj. R-squared:                  0.643\n",
            "Method:                 Least Squares   F-statistic:                     356.3\n",
            "Date:                Sat, 30 Nov 2024   Prob (F-statistic):          5.54e-186\n",
            "Time:                        15:56:22   Log-Likelihood:                -9896.8\n",
            "No. Observations:                2040   AIC:                         1.980e+04\n",
            "Df Residuals:                    2036   BIC:                         1.982e+04\n",
            "Df Model:                           3                                         \n",
            "Covariance Type:                  HC3                                         \n",
            "==============================================================================\n",
            "                 coef    std err          z      P>|z|      [0.025      0.975]\n",
            "------------------------------------------------------------------------------\n",
            "Intercept    -36.2647     13.514     -2.683      0.007     -62.753      -9.777\n",
            "totsp          1.8651      0.175     10.657      0.000       1.522       2.208\n",
            "livesp         1.4203      0.477      2.975      0.003       0.484       2.356\n",
            "dist          -3.4822      0.231    -15.065      0.000      -3.935      -3.029\n",
            "==============================================================================\n",
            "Omnibus:                     1308.916   Durbin-Watson:                   2.036\n",
            "Prob(Omnibus):                  0.000   Jarque-Bera (JB):            40064.458\n",
            "Skew:                           2.528   Prob(JB):                         0.00\n",
            "Kurtosis:                      24.113   Cond. No.                         669.\n",
            "==============================================================================\n",
            "\n",
            "Notes:\n",
            "[1] Standard Errors are heteroscedasticity robust (HC3)\n"
          ]
        }
      ],
      "source": [
        "model2 = smf.ols('price ~ totsp + livesp + dist', flats)\n",
        "results2 = model2.fit(cov_type='HC3')\n",
        "print(results2.summary())"
      ]
    },
    {
      "cell_type": "markdown",
      "id": "7ab86781",
      "metadata": {
        "id": "7ab86781"
      },
      "source": [
        "Как и раньше, можно извлечь результаты отдельных тестов."
      ]
    },
    {
      "cell_type": "code",
      "execution_count": 49,
      "id": "a966dc77",
      "metadata": {
        "ExecuteTime": {
          "end_time": "2022-11-22T15:08:12.814833Z",
          "start_time": "2022-11-22T15:08:12.797928Z"
        },
        "id": "a966dc77",
        "colab": {
          "base_uri": "https://localhost:8080/"
        },
        "outputId": "a6df1084-c715-4282-86a4-181d5f105bf8"
      },
      "outputs": [
        {
          "output_type": "execute_result",
          "data": {
            "text/plain": [
              "<class 'statsmodels.stats.contrast.ContrastResults'>\n",
              "                             Test for Constraints                             \n",
              "==============================================================================\n",
              "                 coef    std err          z      P>|z|      [0.025      0.975]\n",
              "------------------------------------------------------------------------------\n",
              "c0             1.8651      0.175     10.657      0.000       1.522       2.208\n",
              "=============================================================================="
            ]
          },
          "metadata": {},
          "execution_count": 49
        }
      ],
      "source": [
        "results2.t_test('totsp = 0')"
      ]
    },
    {
      "cell_type": "markdown",
      "id": "3a7f9b8d",
      "metadata": {
        "id": "3a7f9b8d"
      },
      "source": [
        "С помощью t-критерия можно проверять одну любую линейную гипотезу. Например, гипотеза о равенстве $\\theta_{totsp} = 2\\theta_{dist}$."
      ]
    },
    {
      "cell_type": "code",
      "execution_count": 50,
      "id": "44ba1425",
      "metadata": {
        "ExecuteTime": {
          "end_time": "2022-11-22T15:08:12.823725Z",
          "start_time": "2022-11-22T15:08:12.816686Z"
        },
        "id": "44ba1425",
        "colab": {
          "base_uri": "https://localhost:8080/"
        },
        "outputId": "d09c2f21-588c-4f3c-fdc4-32f63ab7e638"
      },
      "outputs": [
        {
          "output_type": "execute_result",
          "data": {
            "text/plain": [
              "<class 'statsmodels.stats.contrast.ContrastResults'>\n",
              "                             Test for Constraints                             \n",
              "==============================================================================\n",
              "                 coef    std err          z      P>|z|      [0.025      0.975]\n",
              "------------------------------------------------------------------------------\n",
              "c0             8.8294      0.542     16.278      0.000       7.766       9.893\n",
              "=============================================================================="
            ]
          },
          "metadata": {},
          "execution_count": 50
        }
      ],
      "source": [
        "results2.t_test('totsp = 2*dist')"
      ]
    },
    {
      "cell_type": "markdown",
      "id": "46dfa80c",
      "metadata": {
        "id": "46dfa80c"
      },
      "source": [
        "Можно использовать  f-критерий для проверки нескольких линейных гипотез.\n",
        "\n",
        "Например, проверим гипотезу об одновременной незначимости коэффициентов перед признаками `livesp`, `dist`."
      ]
    },
    {
      "cell_type": "code",
      "execution_count": 51,
      "id": "7cf54c56",
      "metadata": {
        "ExecuteTime": {
          "end_time": "2022-11-22T15:08:12.846340Z",
          "start_time": "2022-11-22T15:08:12.825643Z"
        },
        "id": "7cf54c56",
        "colab": {
          "base_uri": "https://localhost:8080/"
        },
        "outputId": "99616a66-5b4b-4bf0-ab19-44a723d6d301"
      },
      "outputs": [
        {
          "output_type": "stream",
          "name": "stdout",
          "text": [
            "<F test: F=158.2785695858042, p=1.2819465639796012e-64, df_denom=2.04e+03, df_num=2>\n"
          ]
        }
      ],
      "source": [
        "print(results2.f_test(\"(livesp=0), (dist=0)\"))"
      ]
    },
    {
      "cell_type": "markdown",
      "id": "6261628b",
      "metadata": {
        "id": "6261628b"
      },
      "source": [
        "Можно проверить гипотезу о равенстве $\\theta_{totsp} = \\theta_{dist}$."
      ]
    },
    {
      "cell_type": "code",
      "execution_count": 52,
      "id": "3d01cccf",
      "metadata": {
        "ExecuteTime": {
          "end_time": "2022-11-22T15:08:12.853215Z",
          "start_time": "2022-11-22T15:08:12.848311Z"
        },
        "id": "3d01cccf",
        "colab": {
          "base_uri": "https://localhost:8080/"
        },
        "outputId": "b7add9d9-805c-4dbb-b9e6-91e929e2b2e9"
      },
      "outputs": [
        {
          "output_type": "stream",
          "name": "stdout",
          "text": [
            "<F test: F=122.08370500666065, p=1.3242745966320893e-27, df_denom=2.04e+03, df_num=1>\n"
          ]
        }
      ],
      "source": [
        "print(results2.f_test(\"(livesp=dist)\"))"
      ]
    },
    {
      "cell_type": "markdown",
      "id": "TXoBjeaOYEu9",
      "metadata": {
        "id": "TXoBjeaOYEu9"
      },
      "source": [
        "**Выводы:**\n",
        "\n",
        "1. **Результаты модели**:\n",
        "\n",
        "   - Модель объясняет 64.4% дисперсии зависимой переменной (R-squared = 0.644)\n",
        "\n",
        "   - Все коэффициенты значимы (p-значения < 0.05):\n",
        "\n",
        "     - `totsp`: положительный эффект на цену\n",
        "\n",
        "     - `livesp`: положительный эффект на цену\n",
        "\n",
        "     - `dist`: отрицательный эффект на цену\n",
        "\n",
        "2. **Тесты гипотез**:\n",
        "\n",
        "   - **Тест для `totsp = 0`**: гипотеза отвергнута (p < 0.05)\n",
        "\n",
        "   - **Тест для `totsp = 2*dist`**: гипотеза отвергнута (p < 0.05)\n",
        "\n",
        "   - **Тест для `livesp=0`, `dist=0`**: гипотеза отвергнута (p < 0.05)\n",
        "\n",
        "   - **Тест для `totsp = dist`**: гипотеза отвергнута (p < 0.05)\n",
        "\n",
        "3. **Корректировка на гетероскедастичность**:\n",
        "\n",
        "   - Все стандартные ошибки были скорректированы с помощью метода HC3, что позволяет учесть возможную гетероскедастичность"
      ]
    }
  ],
  "metadata": {
    "colab": {
      "collapsed_sections": [
        "w0MZWjUyhwBa",
        "ffa211ba",
        "49ebc570",
        "3b18b5be",
        "db12007b",
        "6e89e6a4",
        "34bda7bc",
        "3f6ac1b4",
        "35a83b31"
      ],
      "provenance": []
    },
    "kernelspec": {
      "display_name": "Python 3 (ipykernel)",
      "language": "python",
      "name": "python3"
    },
    "language_info": {
      "codemirror_mode": {
        "name": "ipython",
        "version": 3
      },
      "file_extension": ".py",
      "mimetype": "text/x-python",
      "name": "python",
      "nbconvert_exporter": "python",
      "pygments_lexer": "ipython3",
      "version": "3.10.9"
    }
  },
  "nbformat": 4,
  "nbformat_minor": 5
}