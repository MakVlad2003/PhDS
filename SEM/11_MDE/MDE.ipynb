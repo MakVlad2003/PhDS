{
 "cells": [
  {
   "cell_type": "markdown",
   "id": "0",
   "metadata": {
    "id": "68d3e233"
   },
   "source": [
    "# ML в Биологии\n",
    "## MDE"
   ]
  },
  {
   "cell_type": "markdown",
   "id": "1",
   "metadata": {
    "id": "g5KgUOcwrLU8"
   },
   "source": [
    "# Минимальный детектируемый эффект"
   ]
  },
  {
   "cell_type": "markdown",
   "id": "2",
   "metadata": {
    "id": "vmjKgqGKNAej"
   },
   "source": [
    "## Теория"
   ]
  },
  {
   "cell_type": "markdown",
   "id": "3",
   "metadata": {
    "id": "cJIHLupaTqIT"
   },
   "source": [
    "### Введение\n",
    "\n",
    "**MDE** := Minimum Detectable Effect (минимальный эффект, полученный от изменений в тестовой группе, который может быть обнаружен с заданной уверенностью (мощностью) в эксперименте).\n",
    "\n",
    "Обозначения:\n",
    "*   $\\alpha$ &mdash; уровень значимости,\n",
    "*   $\\beta$ &mdash; мощность,\n",
    "*   $n$ &mdash; размер группы,\n",
    "*   $\\varepsilon$ &mdash; величина эффекта.\n",
    "\n",
    "При дизайне эксперимента:\n",
    "1.   Задано: $\\alpha, \\beta, n \\implies$ Какой минимальный эффект $\\varepsilon$ можем задетектировать?\n",
    "2.   Задано: $\\alpha, \\beta, \\varepsilon \\implies$ Какой минимальный размер каждой из групп нам необходим?\n",
    "\n",
    "\n",
    "\n"
   ]
  },
  {
   "cell_type": "markdown",
   "id": "4",
   "metadata": {
    "id": "NGtyE7cTgb6I"
   },
   "source": [
    "### Что в основе\n",
    "\n",
    "\n",
    "$X_1...X_n$ &mdash; выборка  с параметрами $\\mathsf{E} X_i = a_1$, $\\mathsf{D} X_i = \\sigma_1^2$\n",
    "\n",
    "$Y_1...Y_m$ &mdash; выборка с параметрами $\\mathsf{E} Y_i = a_2$, $\\mathsf{D} Y_i = \\sigma_2^2$\n",
    "\n",
    "---\n",
    "Гипотезы:\n",
    "$\\mathsf{H}_0\\colon a_1 = a_2\\ \\ vs.\\ \\ \\mathsf{H}_1\\colon a_1 > a_2$\\\n",
    "Статистика:\n",
    "$T(\\overline{X}, \\overline{Y}) = f\\left(\\overline{X} - \\overline{Y}\\right)$\\\n",
    "Критерий: $S = \\left\\{T(\\overline{X}, \\overline{Y}) > z_{1-\\alpha}\\right\\}$.\n",
    "\n",
    "\n",
    "\n",
    "При справедливости $\\mathsf{H}_0$ получаем\\\n",
    "$$T(\\overline{X}, \\overline{Y}) = \\frac{\\overline{X} - \\overline{Y}}{\\sqrt{\\frac{\\sigma_1^2}{n} + \\frac{\\sigma_2^2}{m}}} \\stackrel{\\mathsf{H}_0}{\\approx} \\mathcal{N}(0, 1)$$.\n"
   ]
  },
  {
   "cell_type": "markdown",
   "id": "5",
   "metadata": {
    "id": "Sw5EfTajgfVP"
   },
   "source": [
    "### Случай наличия эффекта\n",
    "\n",
    "\n",
    "$X_1...X_n$ &mdash; выборка   $\\mathsf{E}X_i = a_1$,\n",
    "$\\mathsf{D}X_i = \\sigma_1^2$\\\n",
    "$Y_1...Y_m$ &mdash; выборка   $\\mathsf{E}Y_i = a_2$,\n",
    "$\\mathsf{D}Y_i = \\sigma_2^2$\n",
    "\n",
    "Гипотезы:\n",
    "$\\mathsf{H}_0\\colon a_1 = a_2\\  vs.\\ \\ \\mathsf{H}_1\\colon a_1 > a_2$\n",
    "\n",
    "---\n",
    "\n",
    "Пусть $\\varepsilon = (a_1 - a_2)$ &mdash; эффект.\\\n",
    "$$\\overline{X} - \\overline{Y} \\stackrel{\\mathsf{H}_1}{\\approx} \\mathcal{N}\\left(\\varepsilon, \\frac{\\sigma_1^2}{n} + \\frac{\\sigma_2^2}{m}\\right)$$.\\\n",
    "Тогда из условий на уровень значимости и мощность:\n",
    "$$\\varepsilon \\ge \\left( z_{1-\\alpha} + z_{\\beta}\\right) \\sqrt{\\frac{\\sigma_1^2}{n} + \\frac{\\sigma_2^2}{m}} \\stackrel{n=m}{=}\\left( z_{1-\\alpha} + z_{\\beta}\\right) \\sqrt{\\frac{\\sigma_1^2 +\\sigma_2^2}{n}}$$\n",
    "\n",
    "где $z_{1-\\alpha}$ и $z_{\\beta}$ &mdash; соответствующие квантили нормального распределения, $n$ &mdash; размер выборки, $\\sigma_1^2$ и $\\sigma_2^2$ - дисперсии."
   ]
  },
  {
   "cell_type": "markdown",
   "id": "6",
   "metadata": {
    "id": "G_QYYsEnfkK2"
   },
   "source": [
    "### Итоговый ответ\n",
    "\n",
    "\n",
    "$$\\varepsilon_{min} = MDE = \\left( z_{1-\\alpha} + z_{\\beta}\\right) \\sqrt{\\frac{\\sigma_1^2 +\\sigma_2^2}{n}}$$  \n",
    "  \n",
    "Также можно совершить обратную операцию: зная требуемое значение эффекта, получить необходимое количество объектов в каждой из групп по следующей формуле:\n",
    "\n",
    "$$n = \\left( z_{1-\\alpha} + z_{\\beta}\\right)^2 \\frac{\\sigma_1^2 +\\sigma_2^2}{\\varepsilon^2}$$"
   ]
  },
  {
   "cell_type": "markdown",
   "id": "7",
   "metadata": {
    "id": "FGcRM85Zq5SL"
   },
   "source": [
    "## Практика"
   ]
  },
  {
   "cell_type": "code",
   "execution_count": null,
   "id": "8",
   "metadata": {
    "id": "F65FzFwYrLVA"
   },
   "outputs": [],
   "source": [
    "import numpy as np\n",
    "import pandas as pd\n",
    "import seaborn as sns\n",
    "from tqdm import tqdm\n",
    "\n",
    "import matplotlib.pyplot as plt\n",
    "import scipy.stats as sps\n",
    "\n",
    "sns.set_style(\"darkgrid\")\n",
    "sns.set(palette='Set2', font_scale=1.5)"
   ]
  },
  {
   "cell_type": "markdown",
   "id": "9",
   "metadata": {
    "id": "4BsFvoaHrLVB"
   },
   "source": [
    "### 1. Визуализация теоретических зависимостей"
   ]
  },
  {
   "cell_type": "markdown",
   "id": "10",
   "metadata": {
    "id": "Pi0SPzP4rLVC"
   },
   "source": [
    "Рассмотрим зависимости MDE и размера выборки от дисперсии, желаемых ошибки первого рода и мощности критерия. Для начала зафиксируем значения переменных (будем считать, что мы из исторических данных или теоретических предположений знаем характерную величину дисперсии каждой из выборок)."
   ]
  },
  {
   "cell_type": "code",
   "execution_count": null,
   "id": "11",
   "metadata": {
    "id": "atpHqClhrLVC"
   },
   "outputs": [],
   "source": [
    "var_x = var_y = 1  # Дисперсии выборок\n",
    "sample_size = 100  # Размер выборки\n",
    "effect = 0.1  # Размер эффекта\n",
    "alpha = 0.05  # Уровень значимости\n",
    "betas = np.array([0.4, 0.6, 0.8, 0.99]).reshape(-1, 1)  # Значения мощности"
   ]
  },
  {
   "cell_type": "markdown",
   "id": "12",
   "metadata": {
    "id": "MhN6bvLRrLVC"
   },
   "source": [
    "Реализуйте функции подбора размера выборки и расчета MDE в соответствии с выведенными формулами. Обратите внимание, что величина дисперсии не требует расчета, а передается напрямую в функцию. Вам может потребоваться метод `sps.norm.ppf`.\n",
    "\n",
    "Подумайте, в какую сторону стоит округлять результат для минимально необходимого объема выборки."
   ]
  },
  {
   "cell_type": "code",
   "execution_count": null,
   "id": "13",
   "metadata": {
    "id": "BCTM7m_erLVC"
   },
   "outputs": [],
   "source": [
    "def get_mde(alpha, beta, sample_size, var_x, var_y=var_x):\n",
    "    '''Расчитывает MDE\n",
    "\n",
    "    Аргументы:\n",
    "    alpha -- желаемая ошибка первого рода\n",
    "    beta -- желаемая мощность\n",
    "    sample_size -- размер выборок\n",
    "    var_x, var_y -- дисперсии выборок\n",
    "\n",
    "    Возвращает:\n",
    "    mde -- теоретический MDE\n",
    "    '''\n",
    "\n",
    "    q_sum = sps.norm.ppf(1 - alpha) + sps.norm.ppf(beta)\n",
    "    mde = q_sum / np.sqrt(sample_size) * np.sqrt(var_x + var_y)\n",
    "\n",
    "    return mde"
   ]
  },
  {
   "cell_type": "code",
   "execution_count": null,
   "id": "14",
   "metadata": {
    "id": "-o67r7jPrLVC"
   },
   "outputs": [],
   "source": [
    "def get_sample_size(alpha, beta, mde, var_x, var_y=var_x):\n",
    "    '''Расчитывает количество объектов в группе для детектирование MDE\n",
    "\n",
    "    Аргументы:\n",
    "    alpha -- желаемая ошибка первого рода\n",
    "    beta -- желаемая мощность\n",
    "    mde -- необходимый эффект\n",
    "    var_x, var_y -- дисперсии выборок\n",
    "\n",
    "    Возвращает:\n",
    "    n -- теоретический минимальный размер выборки\n",
    "    '''\n",
    "\n",
    "    q_sum = sps.norm.ppf(1 - alpha) + sps.norm.ppf(beta)\n",
    "    n = np.ceil((q_sum ** 2) * (var_x + var_y) / (mde * mde)).astype(int)\n",
    "\n",
    "    return n"
   ]
  },
  {
   "cell_type": "markdown",
   "id": "15",
   "metadata": {
    "id": "iRd_SjDCrLVD"
   },
   "source": [
    "Также сделаем вспомогательную функцию для визуализации результатов"
   ]
  },
  {
   "cell_type": "code",
   "execution_count": null,
   "id": "16",
   "metadata": {
    "id": "OeIQIrOprLVD"
   },
   "outputs": [],
   "source": [
    "def plot(grid, mdes, sample_sizes, title='', third_dimension=None, label=''):\n",
    "    ''' Строит графики MDE и размера выборки по сетке значений. '''\n",
    "\n",
    "    _, axes = plt.subplots(1, 2, figsize=(20, 8))\n",
    "\n",
    "    plt.suptitle(title, fontsize=20)\n",
    "\n",
    "    if third_dimension is not None:\n",
    "        for mde, sample_size, third in zip(mdes, sample_sizes, third_dimension):\n",
    "            axes[0].plot(grid.reshape(-1), mde, lw=5, label=f'{label} = {third[0]}')\n",
    "            axes[0].legend()\n",
    "            axes[1].plot(grid.reshape(-1), sample_size, lw=5)\n",
    "    else:\n",
    "        axes[0].plot(grid.reshape(-1), mdes, lw=5)\n",
    "        axes[1].plot(grid.reshape(-1), sample_sizes, lw=5)\n",
    "\n",
    "\n",
    "    axes[0].set_title('MDE')\n",
    "    axes[0].set_xlabel(title, fontsize=20)\n",
    "    axes[1].set_title('Размер выборки')\n",
    "    axes[1].set_xlabel(title, fontsize=20)\n",
    "\n",
    "    plt.show()"
   ]
  },
  {
   "cell_type": "markdown",
   "id": "17",
   "metadata": {
    "id": "VVZcbRztrLVD"
   },
   "source": [
    "Будем исследовать зависимости следующим образом: зафиксируем все параметы эксперимента, кроме одного. Для этого выбранного параметра рассчитаем формулы в срезе по разным мощностям\n",
    "\n",
    "*Зависимость от дисперсии*"
   ]
  },
  {
   "cell_type": "code",
   "execution_count": null,
   "id": "18",
   "metadata": {
    "colab": {
     "base_uri": "https://localhost:8080/",
     "height": 702
    },
    "id": "zQ3uHKcTrLVD",
    "outputId": "99cc2d23-ae41-4860-c30f-69116e18b544"
   },
   "outputs": [],
   "source": [
    "var_x_grid = np.arange(0.1, 10, 0.01).reshape(1, -1)\n",
    "\n",
    "plot(\n",
    "    var_x_grid,\n",
    "    get_mde(alpha, betas, sample_size, var_x_grid),\n",
    "    get_sample_size(alpha, betas, effect, var_x_grid),\n",
    "    title='Дисперсия',\n",
    "    third_dimension=betas,\n",
    "    label='Мощность'\n",
    ")"
   ]
  },
  {
   "cell_type": "markdown",
   "id": "19",
   "metadata": {
    "id": "4aLrKvmTrLVE"
   },
   "source": [
    "*Зависимость от ошибки I рода*"
   ]
  },
  {
   "cell_type": "code",
   "execution_count": null,
   "id": "20",
   "metadata": {
    "colab": {
     "base_uri": "https://localhost:8080/",
     "height": 703
    },
    "id": "BCjTwnYmrLVE",
    "outputId": "2c860733-bb37-482c-8c34-afcf720bed19"
   },
   "outputs": [],
   "source": [
    "alpha_grid = np.arange(1e-4, 0.5, 1e-5)\n",
    "\n",
    "plot(\n",
    "    alpha_grid,\n",
    "    get_mde(alpha_grid, betas, sample_size, var_x),\n",
    "    get_sample_size(alpha_grid, betas, effect, var_x),\n",
    "    title='Ошибка первого рода',\n",
    "    third_dimension=betas,\n",
    "    label='Мощность'\n",
    ")"
   ]
  },
  {
   "cell_type": "markdown",
   "id": "21",
   "metadata": {
    "id": "2mUKl-u7rLVF"
   },
   "source": [
    "*Зависимость от мощности*"
   ]
  },
  {
   "cell_type": "code",
   "execution_count": null,
   "id": "22",
   "metadata": {
    "colab": {
     "base_uri": "https://localhost:8080/",
     "height": 702
    },
    "id": "rK2h5GmjrLVF",
    "outputId": "06643751-22f2-4bb8-ba2e-75db9e3d024d"
   },
   "outputs": [],
   "source": [
    "beta_grid = np.arange(1e-2, 1, 1e-5)\n",
    "\n",
    "plot(\n",
    "    beta_grid,\n",
    "    get_mde(alpha, beta_grid, sample_size, var_x),\n",
    "    get_sample_size(alpha, beta_grid, effect, var_x),\n",
    "    title='Мощность',\n",
    ")"
   ]
  },
  {
   "cell_type": "markdown",
   "id": "23",
   "metadata": {
    "id": "3pUbzCYGrLVF"
   },
   "source": [
    "*Зависимость MDE и размера выборки*"
   ]
  },
  {
   "cell_type": "code",
   "execution_count": null,
   "id": "24",
   "metadata": {
    "colab": {
     "base_uri": "https://localhost:8080/",
     "height": 649
    },
    "id": "IV1T1Cq7rLVF",
    "outputId": "d3e01b7e-74ad-4554-b40a-be1452b92277"
   },
   "outputs": [],
   "source": [
    "sample_size_grid = np.arange(10, 500, 10)\n",
    "effect_grid = np.arange(1e-2, 0.1, 1e-3)\n",
    "\n",
    "sample_sizes = get_sample_size(alpha, betas, effect_grid, var_x)\n",
    "mdes = get_mde(alpha, betas, sample_size_grid, var_x)\n",
    "\n",
    "third_dimension = betas\n",
    "\n",
    "_, axes = plt.subplots(1, 2, figsize=(20, 8))\n",
    "\n",
    "for mde, ss, third in zip(mdes, sample_sizes, third_dimension):\n",
    "    axes[0].plot(sample_size_grid.reshape(-1), mde, lw=3, label=f'Мощность = {third[0]}')\n",
    "    axes[0].legend()\n",
    "    axes[1].plot(effect_grid.reshape(-1), ss, lw=3)\n",
    "\n",
    "\n",
    "axes[0].set_title('MDE')\n",
    "axes[0].set_xlabel('Размер выборки')\n",
    "axes[1].set_title('Размер выборки')\n",
    "axes[1].set_xlabel('MDE')\n",
    "\n",
    "plt.show()"
   ]
  },
  {
   "cell_type": "markdown",
   "id": "25",
   "metadata": {
    "id": "ot7jd5g2rLVG"
   },
   "source": [
    "Теперь рассмотрим парную зависимость, а именно, как мощность и ошибка первого рода совместно влияют на MDE и размер выборки."
   ]
  },
  {
   "cell_type": "code",
   "execution_count": null,
   "id": "26",
   "metadata": {
    "id": "YmvC5OQArLVG"
   },
   "outputs": [],
   "source": [
    "alpha_grid = np.arange(1e-2, 1, 1e-2).reshape(-1, 1)\n",
    "beta_grid = np.arange(1e-2, 1, 1e-2)\n",
    "\n",
    "mdes = get_mde(alpha_grid, beta_grid, sample_size, var_x)\n",
    "sample_sizes = get_sample_size(alpha_grid, beta_grid, effect, var_x)"
   ]
  },
  {
   "cell_type": "code",
   "execution_count": null,
   "id": "27",
   "metadata": {
    "colab": {
     "base_uri": "https://localhost:8080/",
     "height": 663
    },
    "id": "v5K448i8rLVG",
    "outputId": "d2c37ef5-cd3f-415d-da84-fe79688b532a"
   },
   "outputs": [],
   "source": [
    "_, axes = plt.subplots(1, 2, figsize=(25, 10))\n",
    "\n",
    "ticks = [0, 20, 40, 60, 80, 99]\n",
    "ticklabels = alpha_grid.round(2).reshape(-1).tolist()[::20] + [alpha_grid[-1][0]]\n",
    "\n",
    "axes[0].set_title('MDE')\n",
    "sns.heatmap(mdes, ax=axes[0])\n",
    "\n",
    "axes[1].set_title('Размер выборки')\n",
    "sns.heatmap(sample_sizes, ax=axes[1])\n",
    "\n",
    "for i in [0, 1]:\n",
    "    axes[i].set_yticks(ticks)\n",
    "    axes[i].set_yticklabels(ticklabels)\n",
    "    axes[i].set_ylabel('Ошибка первого рода', fontsize=20)\n",
    "    axes[i].set_xticks(ticks)\n",
    "    axes[i].set_xticklabels(ticklabels)\n",
    "    axes[i].set_xlabel('Мощность', fontsize=20)\n",
    "\n",
    "plt.show()"
   ]
  },
  {
   "cell_type": "markdown",
   "id": "28",
   "metadata": {
    "id": "QLTNuanAxoYE"
   },
   "source": [
    "Опишите все наблюдаемые зависимости."
   ]
  },
  {
   "cell_type": "markdown",
   "id": "29",
   "metadata": {
    "id": "aAA7cqPnrLVG"
   },
   "source": [
    "**Вывод:**\n",
    "\n",
    "1. **MDE и размер выборки**:\n",
    "\n",
    "MDE увеличивается с ростом дисперсии, мощности теста $1-\\beta$ и снижением уровня ошибки первого рода $\\alpha$. Размер выборки растет при увеличении дисперсии, мощности теста и снижении $\\alpha$.\n",
    "\n",
    "2. **Взаимозависимость параметров**:\n",
    "\n",
    "Увеличение размера выборки снижает MDE, позволяя обнаруживать меньшие эффекты. Для уменьшения MDE требуется экспоненциальный рост выборки.\n",
    "\n",
    "3. **Оптимизация экспериментов**:\n",
    "\n",
    "Снижение дисперсии данных снижает требования к выборке и минимальному эффекту. Выбор более высокого значения $\\alpha$ или меньшей мощности позволяет сократить размер выборки. При проектировании тестов важно учитывать ограничения ресурсов и значимость результата."
   ]
  },
  {
   "cell_type": "markdown",
   "id": "30",
   "metadata": {
    "id": "6rzqpuEerLVG"
   },
   "source": [
    "### 2. Планирование эксперимента"
   ]
  },
  {
   "cell_type": "markdown",
   "id": "31",
   "metadata": {
    "id": "igs3YsssrLVG"
   },
   "source": [
    "Перед непосредственным проведением эксперимента параметры используемого критерия необходимо зафиксировать. Если для ошибки первого рода обычно берется значение $0.05$, дисперсия зависит от природы выборок, то величины других параметров нуждаются в подборе. Для этого подойдет следующая таблица:\n",
    "- по строкам отложены значения детектируемого эффекта\n",
    "- по столбцам отложены значения мощности\n",
    "- в ячейках находятся рассчитанные размеры выборок, соответствующие заданным MDE и мощности\n",
    "\n",
    "Теперь для выбора значений нужно понять размен между этими величинами. Например, насколько большую выборку исследователь может себе позволить: например, сколько человек может участовать в AB-тестировании и как долго. MDE также необходимо выбирать исходя из практической значимости эксперимента.\n",
    "\n",
    "Для примера рассмотрим построение подобной таблицы для $\\alpha=0.05$ и $\\sigma_1 = \\sigma_2 = 1$:"
   ]
  },
  {
   "cell_type": "code",
   "execution_count": null,
   "id": "32",
   "metadata": {
    "id": "Ml79jRiIrLVH"
   },
   "outputs": [],
   "source": [
    "mde_grid = np.arange(0.01, 0.1, 0.01).reshape(-1, 1)\n",
    "beta_grid = np.arange(0.1, 1, 0.1)"
   ]
  },
  {
   "cell_type": "code",
   "execution_count": null,
   "id": "33",
   "metadata": {
    "colab": {
     "base_uri": "https://localhost:8080/",
     "height": 363
    },
    "id": "SpmTvTT-rLVH",
    "outputId": "242f9fb7-6836-4589-9660-3b14da97fe4a"
   },
   "outputs": [],
   "source": [
    "sample_sizes = get_sample_size(alpha, beta_grid, mde_grid, var_x)\n",
    "df = pd.DataFrame(sample_sizes, columns=beta_grid.reshape(-1), index=mde_grid.reshape(-1))\n",
    "df.columns.name = 'beta'\n",
    "df.index.name = 'mde'\n",
    "\n",
    "df"
   ]
  },
  {
   "cell_type": "markdown",
   "id": "34",
   "metadata": {
    "id": "taO3rptxrLVH"
   },
   "source": [
    "Теперь попробуем провести эксперимент. Допустим мы хотим иметь $MDE=0.05$ и мощность $\\beta=0.8$. Оцените, какой размер выборки нам необходимо взять?"
   ]
  },
  {
   "cell_type": "code",
   "execution_count": null,
   "id": "35",
   "metadata": {
    "colab": {
     "base_uri": "https://localhost:8080/"
    },
    "id": "d6P8jnUorLVH",
    "outputId": "bc066eea-3465-4df0-b172-d001caee999d"
   },
   "outputs": [],
   "source": [
    "mde = 0.05\n",
    "beta = 0.8\n",
    "\n",
    "sample_size = get_sample_size(alpha=0.05, beta=beta, mde=mde, var_x=1)\n",
    "print(f'Размер контрольной и тестовой групп: {sample_size}')"
   ]
  },
  {
   "cell_type": "markdown",
   "id": "36",
   "metadata": {
    "id": "ZN0Mj3GRrLVH"
   },
   "source": [
    "Посмотрим, как ведет себя мощность критерия в зависимости от реального эффекта, выраженного статистикой $T(\\overline{X}, \\overline{Y}) = \\left(\\overline{X} - \\overline{Y}\\right)$.\n",
    "\n",
    "Напомним, что критерий имеет вид: $S = \\left\\{T(\\overline{X}, \\overline{Y}) \\geq с_{\\alpha}\\right\\}$. Для начала рассчитаем константу критерия."
   ]
  },
  {
   "cell_type": "code",
   "execution_count": null,
   "id": "37",
   "metadata": {
    "id": "JTWonXSd3JSw"
   },
   "outputs": [],
   "source": [
    "from scipy.stats import norm\n",
    "\n",
    "alpha = 0.05\n",
    "c_alpha = norm.ppf(1 - alpha)"
   ]
  },
  {
   "cell_type": "markdown",
   "id": "38",
   "metadata": {
    "id": "E6IuOaVI3JSx"
   },
   "source": [
    "Далее будем оценивать мощность как долю отверженных гипотез на случайных запусках.\n",
    "\n",
    "Для этого сгенерируйте две выборки (контрольную и тестовую со смещением) из нормального распределения размера `(iters_count, sample_size)`, усредните каждую из них по `axis=1`, посчитайте разность между получившимися средними и сравните с константой критерия. Посчитайте долю отвержения. Повторите для нескольких значений смещения и постройте график мощности от смещения (эффекта)."
   ]
  },
  {
   "cell_type": "code",
   "execution_count": null,
   "id": "39",
   "metadata": {
    "id": "xWsI_ER-1Vx2"
   },
   "outputs": [],
   "source": [
    "real_effect_grid = np.arange(-0.1, 0.3, 0.01) # смещение\n",
    "iters_count = 10_000"
   ]
  },
  {
   "cell_type": "code",
   "execution_count": null,
   "id": "40",
   "metadata": {
    "colab": {
     "base_uri": "https://localhost:8080/"
    },
    "id": "ZRCGLvG83JSy",
    "outputId": "87bcd3a6-7438-4a51-c710-1a199f2ca6c6"
   },
   "outputs": [],
   "source": [
    "power = []\n",
    "for real_effect in tqdm(real_effect_grid):\n",
    "    # сгенерирйте выборки\n",
    "    control_sample = np.random.normal(loc=0, scale=1, size=(iters_count, sample_size))\n",
    "    test_sample = np.random.normal(loc=real_effect, scale=1, size=(iters_count, sample_size))\n",
    "\n",
    "    # найдите среднее\n",
    "    control_sample_mean = control_sample.mean(axis=1)\n",
    "    test_sample_mean = test_sample.mean(axis=1)\n",
    "\n",
    "    T_values = test_sample_mean - control_sample_mean  # Разности средних\n",
    "\n",
    "    # посчитайте долю отвержения гипотезы\n",
    "    rejects = np.mean(T_values >= c_alpha)\n",
    "\n",
    "    power.append(rejects)"
   ]
  },
  {
   "cell_type": "code",
   "execution_count": null,
   "id": "41",
   "metadata": {
    "colab": {
     "base_uri": "https://localhost:8080/",
     "height": 645
    },
    "id": "_8ir3LJg3JSz",
    "outputId": "d8f74e82-9b8a-416d-ff0c-bc5f2f4b7b2e"
   },
   "outputs": [],
   "source": [
    "plt.figure(figsize=(10, 7))\n",
    "\n",
    "plt.plot(real_effect_grid, power, lw=3)\n",
    "\n",
    "plt.hlines(\n",
    "    beta, real_effect_grid.min(), real_effect_grid.max(),\n",
    "    color='red', label='Теоретические'\n",
    ")\n",
    "\n",
    "plt.xlabel('Реальный эффект', fontsize=20)\n",
    "plt.ylabel('Реальная мощность', fontsize=20)\n",
    "\n",
    "plt.legend()\n",
    "plt.show()"
   ]
  },
  {
   "cell_type": "markdown",
   "id": "42",
   "metadata": {
    "id": "wPHwjiQk3TLu"
   },
   "source": [
    "**Вывод:**\n",
    "\n",
    "Когда эффект (смещение) близок к нулю, тест редко отклоняет нулевую гипотезу, что приводит к низкой мощности. С увеличением реального эффекта мощность теста возрастает. Это делает тест более чувствительным к эффекту, увеличивая вероятность отклонения нулевой гипотезы.\n",
    "\n",
    "Для достижения высокой мощности теста (например, 80%), реальный эффект должен быть значительным. Это иллюстрирует, как размер эффекта влияет на способность теста обнаруживать различия между группами."
   ]
  }
 ],
 "metadata": {
  "colab": {
   "collapsed_sections": [
    "vmjKgqGKNAej",
    "cJIHLupaTqIT",
    "NGtyE7cTgb6I",
    "Sw5EfTajgfVP",
    "G_QYYsEnfkK2"
   ],
   "provenance": []
  },
  "kernelspec": {
   "display_name": "Python 3 (ipykernel)",
   "language": "python",
   "name": "python3"
  },
  "language_info": {
   "codemirror_mode": {
    "name": "ipython",
    "version": 3
   },
   "file_extension": ".py",
   "mimetype": "text/x-python",
   "name": "python",
   "nbconvert_exporter": "python",
   "pygments_lexer": "ipython3",
   "version": "3.10.15"
  }
 },
 "nbformat": 4,
 "nbformat_minor": 5
}
