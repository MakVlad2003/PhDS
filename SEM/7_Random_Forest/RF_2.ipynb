{
 "cells": [
  {
   "cell_type": "markdown",
   "id": "0",
   "metadata": {
    "id": "a7bb9687"
   },
   "source": [
    "# ML в Биологии\n",
    "## Random Forest. Part II."
   ]
  },
  {
   "cell_type": "code",
   "execution_count": null,
   "id": "1",
   "metadata": {
    "id": "4a3515d7"
   },
   "outputs": [],
   "source": [
    "import matplotlib.pyplot as plt\n",
    "import numpy as np\n",
    "import pandas as pd\n",
    "\n",
    "from sklearn.metrics import mean_squared_error as MSE\n",
    "from sklearn.metrics import accuracy_score, r2_score\n",
    "from sklearn.model_selection import train_test_split\n",
    "from sklearn.preprocessing import StandardScaler\n",
    "from sklearn.linear_model import Lasso, Ridge\n",
    "from sklearn.ensemble import RandomForestRegressor, RandomForestClassifier\n",
    "from sklearn.tree import DecisionTreeClassifier\n",
    "from sklearn.tree import plot_tree\n",
    "import seaborn as sns\n",
    "import scipy.stats\n",
    "from tqdm import tqdm_notebook\n",
    "from sklearn import datasets\n",
    "from sklearn.model_selection import GridSearchCV\n",
    "\n",
    "import warnings\n",
    "warnings.simplefilter(\"ignore\", DeprecationWarning)\n",
    "\n",
    "sns.set(context='poster')\n",
    "%matplotlib inline"
   ]
  },
  {
   "cell_type": "markdown",
   "id": "2",
   "metadata": {
    "id": "105da1ca1720f717"
   },
   "source": [
    "### Задача 2"
   ]
  },
  {
   "cell_type": "code",
   "execution_count": null,
   "id": "3",
   "metadata": {
    "colab": {
     "base_uri": "https://localhost:8080/",
     "height": 681
    },
    "id": "61a7eb1f1f4f2175",
    "outputId": "52c61b50-bd0c-48e8-f5e5-54733d9c79bf"
   },
   "outputs": [],
   "source": [
    "np.random.seed(42)\n",
    "X_train = scipy.stats.multivariate_normal.rvs(\n",
    "    size=500, mean=[0, 0], cov=[[3, 0], [0, 3]]\n",
    ")\n",
    "y_train = (X_train[:, 0] ** 2 + X_train[:, 1] ** 2) ** 0.5\n",
    "\n",
    "plt.figure(figsize=(10, 8))\n",
    "plt.scatter(X_train[:, 0], X_train[:, 1], c=y_train, cmap='spring',\n",
    "            s=100, alpha=0.8, linewidths=1, edgecolors='black')\n",
    "plt.show()"
   ]
  },
  {
   "cell_type": "markdown",
   "id": "4",
   "metadata": {
    "id": "1f2c669a7c0189fd"
   },
   "source": [
    "### Зависимость  качества предсказаний леса от `n_estimators`"
   ]
  },
  {
   "cell_type": "markdown",
   "id": "5",
   "metadata": {
    "id": "a25e04fa6bfe3dcb"
   },
   "source": [
    "Создадим тестовую выборку"
   ]
  },
  {
   "cell_type": "code",
   "execution_count": null,
   "id": "6",
   "metadata": {
    "id": "c3d9204d0cdb7dae"
   },
   "outputs": [],
   "source": [
    "np.random.seed(42)\n",
    "X_test = scipy.stats.multivariate_normal.rvs(\n",
    "    size=1000, mean=[0, 0], cov=[[3, 0], [0, 3]]\n",
    ")\n",
    "y_test = (X_test[:, 0] ** 2 + X_test[:, 1] ** 2) ** 0.5"
   ]
  },
  {
   "cell_type": "code",
   "execution_count": null,
   "id": "7",
   "metadata": {
    "id": "beb7a259242e6680"
   },
   "outputs": [],
   "source": [
    "def cum_metric(model, metric, x_test, y_test):\n",
    "    '''\n",
    "    Считает значение метрики в зависимости от количества деревьев в модели\n",
    "\n",
    "    Мы не обучаем много лесов с разным кол-вом деревьев,\n",
    "    а смотрим на один обученный лес. Предсказание леса из k деревьев —\n",
    "    усредненное предсказание первых k деревьев из нашего леса.\n",
    "\n",
    "    Параметры.\n",
    "    1) model — модель случайного леса,\n",
    "    2) metric — вычисляемая метрика,\n",
    "    3) x_test — данные тестовой выборки,\n",
    "    4) y_test — метки тестовой выборки.\n",
    "    '''\n",
    "\n",
    "    predictions_by_estimators = [est.predict(x_test) for est in model.estimators_] # предсказания конкретных деревьев\n",
    "    cumpred = np.array(predictions_by_estimators).cumsum(axis=0) \\\n",
    "              / (np.arange(len(predictions_by_estimators)) + 1)[:, np.newaxis] # усреднение первых k моделей для k от 1 до n_estimators\n",
    "    cumacc = [metric(y_test, pred) for pred in cumpred] # значения метрики качества для k деревьев\n",
    "    return np.array(cumacc)"
   ]
  },
  {
   "cell_type": "markdown",
   "id": "8",
   "metadata": {
    "id": "60024dd32232db3e"
   },
   "source": [
    "Визуализируем значение метрики MSE в зависимости от количества деревьев в модели.\n",
    "Поскольку каждая модель является случайной, **проведем обучение 1000 раз** и усредним значения метрики.\n",
    "На графике также нарисуем полупрозрачными кривыми зависимость MSE от количества деревьев для каждой модели."
   ]
  },
  {
   "cell_type": "code",
   "execution_count": null,
   "id": "9",
   "metadata": {
    "colab": {
     "base_uri": "https://localhost:8080/",
     "height": 483,
     "referenced_widgets": [
      "2d1be8f01fc54c3ead6ed10adb721963",
      "7f22f18a2ece4b71af9155d117ea9e62",
      "61d6866008dd41b8be51954a351d1ab8",
      "124ce74035cc41b7987528e14aa0d590",
      "462cefd14a7d4a55b8647d810c7a324a",
      "eb13e336bfdf41d38a09c468b5bad997",
      "4a580668e5ea48858eb4a1e04f8b42f0",
      "0c1457bf91c5446aa1deb3f56fadd5b5",
      "942d81f534bd4a4aa3d4f6d0a420660a",
      "dd235bcb22f64cb2942aae121e8441e8",
      "cd301572fadb4cac8331eb9ecda28cb7"
     ]
    },
    "id": "10d68ad99131073f",
    "outputId": "a2353a3e-4079-4036-bc2b-e577f9f0e269"
   },
   "outputs": [],
   "source": [
    "%%time\n",
    "\n",
    "n_iterations = 1000\n",
    "n_estimators = 200\n",
    "scores_train = np.zeros((n_iterations, n_estimators))\n",
    "scores_test = np.zeros((n_iterations, n_estimators))\n",
    "estrimator_range = np.arange(n_estimators) + 1\n",
    "\n",
    "plt.figure(figsize=(18, 9))\n",
    "\n",
    "for i in tqdm_notebook(range(n_iterations), leave=False):\n",
    "    rf = RandomForestRegressor(n_estimators=n_estimators, n_jobs=-1)\n",
    "    rf.fit(X_train, y_train)\n",
    "    scores_train[i] = cum_metric(rf, MSE, X_train, y_train)\n",
    "    scores_test[i] = cum_metric(rf, MSE, X_test, y_test)\n",
    "    plt.plot(estrimator_range, scores_train[i], color='blue', alpha=0.07)\n",
    "    plt.plot(estrimator_range, scores_test[i], color='pink', alpha=0.07)\n",
    "\n",
    "plt.plot(estrimator_range, scores_train.mean(axis=0),\n",
    "         lw=5, color='yellow', label='train')\n",
    "plt.plot(estrimator_range, scores_test.mean(axis=0),\n",
    "         lw=5, color='green', label='test')\n",
    "plt.xlabel('Количество деревьев'), plt.ylabel('MSE')\n",
    "plt.xlim((0, 200)), plt.ylim((0, 0.1))\n",
    "plt.legend()\n",
    "plt.show()"
   ]
  },
  {
   "cell_type": "markdown",
   "id": "10",
   "metadata": {
    "id": "27d42654ab4787d0"
   },
   "source": [
    "Как ведет себя ошибка с увеличением количества деревьев? Есть ли переобучение? Как это связано с пройденной теорией?"
   ]
  },
  {
   "cell_type": "markdown",
   "id": "11",
   "metadata": {
    "id": "aseGHds3LKCF"
   },
   "source": [
    "**Ответ:**\n",
    "\n",
    "Когда количество деревьев невелико, модель при каждом перезапуске ведёт себя по-разному (высокий разброс). По мере увеличения количества деревьев разброс уменьшается, что подтверждается тем, что результаты MSE при перезапусках становятся примерно одинаковыми.\n",
    "\n",
    "Это соответствует изученной теории: разброс должен уменьшаться приблизительно в T раз, где T — количество деревьев в лесу."
   ]
  },
  {
   "cell_type": "markdown",
   "id": "12",
   "metadata": {
    "id": "151eff44f5706b88"
   },
   "source": [
    "### Зависимость  качества предсказаний леса от значений гиперпараметров"
   ]
  },
  {
   "cell_type": "markdown",
   "id": "13",
   "metadata": {
    "id": "b1028e237e7408ab"
   },
   "source": [
    "Теперь исследуем зависимость качества предсказаний случайного леса от значений гиперпараметров. Рассмотрим датасет `diabetes` из `sklearn`. В нём исследуется численная оценка прогрессирования диабета у пациентов на основе таких признаков, как возраст, пол, масса тела, среднее кровяное давление и некоторых других. Для того, чтобы лучше понять, что из себя представляют признаки в этом датасете, можно обратиться к этой странице: https://www4.stat.ncsu.edu/~boos/var.select/diabetes.html."
   ]
  },
  {
   "cell_type": "code",
   "execution_count": null,
   "id": "14",
   "metadata": {
    "id": "d11b50c3dc7d7566"
   },
   "outputs": [],
   "source": [
    "diabetes = datasets.load_diabetes()\n",
    "X = diabetes.data\n",
    "y = diabetes.target"
   ]
  },
  {
   "cell_type": "code",
   "execution_count": null,
   "id": "15",
   "metadata": {
    "colab": {
     "base_uri": "https://localhost:8080/"
    },
    "id": "5ba791d5063d16f7",
    "outputId": "fc8918ee-4da7-46ad-a776-7184ca7b064a"
   },
   "outputs": [],
   "source": [
    "print('data shape:', X.shape)\n",
    "print('target shape:', y.shape)"
   ]
  },
  {
   "cell_type": "markdown",
   "id": "16",
   "metadata": {
    "id": "cbd0fdf51e2bcb35"
   },
   "source": [
    "Как и в предыдущих экспериментах, разобьём данные на обучение и тест."
   ]
  },
  {
   "cell_type": "code",
   "execution_count": null,
   "id": "17",
   "metadata": {
    "id": "f2604bde2e944fbd"
   },
   "outputs": [],
   "source": [
    "X_train, X_test, y_train, y_test = train_test_split(\n",
    "    X, y, random_state=42\n",
    ")"
   ]
  },
  {
   "cell_type": "markdown",
   "id": "18",
   "metadata": {
    "id": "764541b3afff526e"
   },
   "source": [
    "Подберём оптимальные параметры для `RandomForestRegressor` по сетке."
   ]
  },
  {
   "cell_type": "code",
   "execution_count": null,
   "id": "19",
   "metadata": {
    "id": "756359af6ac01dcb"
   },
   "outputs": [],
   "source": [
    "estimator = RandomForestRegressor(random_state=42)\n",
    "\n",
    "param_grid = {\n",
    "      'max_depth': [3, 5, None],\n",
    "      'n_estimators': [5, 10, 25, 50],\n",
    "      'min_samples_leaf': [1, 2, 5],\n",
    "      'min_samples_split': [2, 5]\n",
    "  }\n",
    "\n",
    "tree_gridsearch = GridSearchCV(estimator, param_grid, scoring='neg_mean_squared_error', n_jobs=-1)"
   ]
  },
  {
   "cell_type": "code",
   "execution_count": null,
   "id": "20",
   "metadata": {
    "colab": {
     "base_uri": "https://localhost:8080/",
     "height": 136
    },
    "id": "81e939afbbabfb37",
    "outputId": "efac8640-8370-4b64-b386-0cee9bf5674c"
   },
   "outputs": [],
   "source": [
    "tree_gridsearch.fit(X_train, y_train)"
   ]
  },
  {
   "cell_type": "markdown",
   "id": "21",
   "metadata": {
    "id": "3ba74161a3e8c97a"
   },
   "source": [
    "Выведите лучшие параметры."
   ]
  },
  {
   "cell_type": "code",
   "execution_count": null,
   "id": "22",
   "metadata": {
    "colab": {
     "base_uri": "https://localhost:8080/"
    },
    "id": "d85d7436fbeec4c4",
    "outputId": "a24e3de3-b00e-40aa-d841-34443e085887"
   },
   "outputs": [],
   "source": [
    "print(tree_gridsearch.best_params_)"
   ]
  },
  {
   "cell_type": "markdown",
   "id": "23",
   "metadata": {
    "id": "829c33a8064679c5"
   },
   "source": [
    "Посчитаем значение метрики `r2-score` для лучшей модели."
   ]
  },
  {
   "cell_type": "code",
   "execution_count": null,
   "id": "24",
   "metadata": {
    "colab": {
     "base_uri": "https://localhost:8080/"
    },
    "id": "ec8c8abe55f89a11",
    "outputId": "8f74fa70-ab33-450f-99d9-d548dde98b23"
   },
   "outputs": [],
   "source": [
    "print('train r2_score {:.4f}'.format(\n",
    "    r2_score(tree_gridsearch.best_estimator_.predict(X_train), y_train)\n",
    "))\n",
    "print('test r2_score {:.4f}'.format(\n",
    "    r2_score(tree_gridsearch.best_estimator_.predict(X_test), y_test)\n",
    "))"
   ]
  },
  {
   "cell_type": "markdown",
   "id": "25",
   "metadata": {
    "id": "692594e66210cae3"
   },
   "source": [
    "Теперь попробуем резко увеличить значение `min_samples_leaf`. Проведите аналогичный эксперимент."
   ]
  },
  {
   "cell_type": "code",
   "execution_count": null,
   "id": "26",
   "metadata": {
    "colab": {
     "base_uri": "https://localhost:8080/"
    },
    "id": "20f636662a28093e",
    "outputId": "92a3e8d4-f8a2-4006-e6e5-d874417bc1d7"
   },
   "outputs": [],
   "source": [
    "rf = RandomForestRegressor(random_state=42,\n",
    "                    max_depth=5, min_samples_leaf=50, min_samples_split=2, n_estimators=50)\n",
    "rf.fit(X_train, y_train)\n",
    "\n",
    "print('train r2_score {:.4f}'.format(\n",
    "    r2_score(rf.predict(X_train), y_train)\n",
    "))\n",
    "print('test r2_score {:.4f}'.format(\n",
    "    r2_score(rf.predict(X_test), y_test)\n",
    "))"
   ]
  },
  {
   "cell_type": "markdown",
   "id": "27",
   "metadata": {
    "id": "7e05372d9c52adf7"
   },
   "source": [
    "**Вывод:**\n",
    "\n",
    "Действительно, метрика стала хуже по сравнению с оптимальным результатом.\n",
    "\n",
    "Теперь попробуем, наоборот, сделать значение `min_samples_leaf` меньше оптимального."
   ]
  },
  {
   "cell_type": "code",
   "execution_count": null,
   "id": "28",
   "metadata": {
    "colab": {
     "base_uri": "https://localhost:8080/"
    },
    "id": "4ba1fa0495ff1efd",
    "outputId": "9ea0b532-0736-480c-8dc0-c405c27d1159"
   },
   "outputs": [],
   "source": [
    "rf = RandomForestRegressor(random_state=42,\n",
    "                    max_depth=5, min_samples_leaf=1, min_samples_split=2, n_estimators=50)\n",
    "rf.fit(X_train, y_train)\n",
    "\n",
    "print('train r2_score {:.4f}'.format(\n",
    "    r2_score(rf.predict(X_train), y_train)\n",
    "))\n",
    "print('test r2_score {:.4f}'.format(\n",
    "    r2_score(rf.predict(X_test), y_test)\n",
    "))"
   ]
  },
  {
   "cell_type": "markdown",
   "id": "29",
   "metadata": {
    "id": "86e8c23988a39bfc"
   },
   "source": [
    "**Вывод:**\n",
    "\n",
    "Метрика ухудшилась, но не так значительно, как при увеличении параметра. Это логично: повышение минимального значения накладывает дополнительные ограничения, что может всё испортить, тогда как уменьшение даёт больше свободы выбора, но модель всё ещё способна найти оптимальное значение во время обучения.\n",
    "\n",
    "К тому же, от значения 5 вниз особо сильно не отойдёшь.\n",
    "\n",
    "Главный вывод — grid search работает!\n"
   ]
  }
 ],
 "metadata": {
  "colab": {
   "provenance": []
  },
  "kernelspec": {
   "display_name": "Python 3",
   "language": "python",
   "name": "python3"
  },
  "language_info": {
   "codemirror_mode": {
    "name": "ipython",
    "version": 2
   },
   "file_extension": ".py",
   "mimetype": "text/x-python",
   "name": "python",
   "nbconvert_exporter": "python",
   "pygments_lexer": "ipython2",
   "version": "2.7.6"
  }
 },
 "nbformat": 4,
 "nbformat_minor": 5
}
