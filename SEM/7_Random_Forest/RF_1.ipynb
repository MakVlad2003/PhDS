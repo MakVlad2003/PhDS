{
 "cells": [
  {
   "cell_type": "markdown",
   "id": "0",
   "metadata": {
    "id": "f87abc57"
   },
   "source": [
    "# ML в Биологии\n",
    "## Random Forest. Part I."
   ]
  },
  {
   "cell_type": "code",
   "execution_count": null,
   "id": "1",
   "metadata": {
    "id": "e3e6def6"
   },
   "outputs": [],
   "source": [
    "import matplotlib.pyplot as plt\n",
    "import numpy as np\n",
    "import pandas as pd\n",
    "\n",
    "from sklearn.metrics import mean_squared_error as MSE\n",
    "from sklearn.metrics import accuracy_score, r2_score\n",
    "from sklearn.model_selection import train_test_split\n",
    "from sklearn.preprocessing import StandardScaler\n",
    "from sklearn.linear_model import Lasso, Ridge\n",
    "from sklearn.ensemble import RandomForestRegressor, RandomForestClassifier\n",
    "from sklearn.tree import DecisionTreeClassifier\n",
    "from sklearn.tree import plot_tree\n",
    "import seaborn as sns\n",
    "import scipy.stats\n",
    "from tqdm import tqdm_notebook\n",
    "from sklearn import datasets\n",
    "from sklearn.model_selection import GridSearchCV\n",
    "\n",
    "import warnings\n",
    "warnings.simplefilter(\"ignore\", DeprecationWarning)\n",
    "\n",
    "sns.set(context='poster')\n",
    "%matplotlib inline"
   ]
  },
  {
   "cell_type": "markdown",
   "id": "2",
   "metadata": {
    "id": "5eec7f92b8f04a22"
   },
   "source": [
    "### Задача 1:"
   ]
  },
  {
   "cell_type": "markdown",
   "id": "3",
   "metadata": {
    "id": "14b200e9da3068df"
   },
   "source": [
    "Скачайте датасет про классификацию женщин с диабетом. Разделите на трейн и тест."
   ]
  },
  {
   "cell_type": "code",
   "execution_count": null,
   "id": "4",
   "metadata": {
    "colab": {
     "base_uri": "https://localhost:8080/"
    },
    "id": "6-zNn7hFITn0",
    "outputId": "f00ee4e9-8895-4422-ea0f-21d197af9583"
   },
   "outputs": [],
   "source": [
    "!unzip archive"
   ]
  },
  {
   "cell_type": "code",
   "execution_count": null,
   "id": "5",
   "metadata": {
    "id": "e8283d7472c5dcb2"
   },
   "outputs": [],
   "source": [
    "data = pd.read_csv(\"diabetes.csv\")"
   ]
  },
  {
   "cell_type": "code",
   "execution_count": null,
   "id": "6",
   "metadata": {
    "colab": {
     "base_uri": "https://localhost:8080/",
     "height": 444
    },
    "id": "1a28fa40a65f363f",
    "outputId": "6cb37487-6368-4c12-e4fe-7cb0e9b2cc1e"
   },
   "outputs": [],
   "source": [
    "data"
   ]
  },
  {
   "cell_type": "code",
   "execution_count": null,
   "id": "7",
   "metadata": {
    "id": "8409324601afb64d"
   },
   "outputs": [],
   "source": [
    "X = data[data.columns[:-1]]\n",
    "y = data[data.columns[-1]]"
   ]
  },
  {
   "cell_type": "code",
   "execution_count": null,
   "id": "8",
   "metadata": {
    "id": "29bd20dddc122b78"
   },
   "outputs": [],
   "source": [
    "X_train, X_test, y_train, y_test = train_test_split(X, y, test_size=0.3)"
   ]
  },
  {
   "cell_type": "markdown",
   "id": "9",
   "metadata": {
    "id": "dfb74ad445b8ce1f"
   },
   "source": [
    "Обучите обычное решающее дерево глубины 3. Выведите его графическое представление, а также accuracy на тренировочной и тестовой выборке."
   ]
  },
  {
   "cell_type": "code",
   "execution_count": null,
   "id": "10",
   "metadata": {
    "colab": {
     "base_uri": "https://localhost:8080/"
    },
    "id": "fce47642884e8f49",
    "outputId": "24dd142f-3094-4580-a385-468ad6f9ba81"
   },
   "outputs": [],
   "source": [
    "tree = DecisionTreeClassifier(max_depth=3)\n",
    "tree.fit(X_train, y_train)\n",
    "tree.get_params()"
   ]
  },
  {
   "cell_type": "markdown",
   "id": "11",
   "metadata": {
    "id": "8b392c0ab3655e81"
   },
   "source": [
    "Посчитайте accuracy"
   ]
  },
  {
   "cell_type": "code",
   "execution_count": null,
   "id": "12",
   "metadata": {
    "colab": {
     "base_uri": "https://localhost:8080/"
    },
    "id": "59fd03c1fa553802",
    "outputId": "7f58cc75-4139-43d5-f72c-05fef6f6b5fd"
   },
   "outputs": [],
   "source": [
    "print(f'Train accuracy = {accuracy_score(y_train, tree.predict(X_train))}')\n",
    "print(f'Test accuracy = {accuracy_score(y_test, tree.predict(X_test))}')"
   ]
  },
  {
   "cell_type": "markdown",
   "id": "13",
   "metadata": {
    "id": "3d24f5788327f5d5"
   },
   "source": [
    "Визуализируйте дерево"
   ]
  },
  {
   "cell_type": "code",
   "execution_count": null,
   "id": "14",
   "metadata": {
    "colab": {
     "base_uri": "https://localhost:8080/",
     "height": 574
    },
    "id": "e0d793304e040e70",
    "outputId": "7a566fa5-4890-4abc-e4af-47ca99bc1b61"
   },
   "outputs": [],
   "source": [
    "plt.figure(figsize=(15, 10))\n",
    "plot_tree(tree)\n",
    "plt.show()"
   ]
  },
  {
   "cell_type": "markdown",
   "id": "15",
   "metadata": {
    "id": "4ef37e76f8f769f8"
   },
   "source": [
    "Теперь обучите случайный лес с 100 деревьями."
   ]
  },
  {
   "cell_type": "code",
   "execution_count": null,
   "id": "16",
   "metadata": {
    "colab": {
     "base_uri": "https://localhost:8080/",
     "height": 80
    },
    "id": "33ec6d26033e494e",
    "outputId": "ac53c04e-2862-4620-a1fe-e2bee86cb191"
   },
   "outputs": [],
   "source": [
    "n_estimators = 100\n",
    "\n",
    "forest = RandomForestClassifier(n_estimators=n_estimators)\n",
    "\n",
    "forest.fit(X_train, y_train)"
   ]
  },
  {
   "cell_type": "markdown",
   "id": "17",
   "metadata": {
    "id": "5729287fba74dee5"
   },
   "source": [
    "Выведите параметры леса."
   ]
  },
  {
   "cell_type": "code",
   "execution_count": null,
   "id": "18",
   "metadata": {
    "colab": {
     "base_uri": "https://localhost:8080/"
    },
    "id": "4921ba840e599fbf",
    "outputId": "f477fea4-6f8b-4d81-acef-7c745acf25ff"
   },
   "outputs": [],
   "source": [
    "forest.get_params()"
   ]
  },
  {
   "cell_type": "markdown",
   "id": "19",
   "metadata": {
    "id": "684cbfcfd459965"
   },
   "source": [
    "Какие параметры уже известны и относятся к решающему дереву?"
   ]
  },
  {
   "cell_type": "markdown",
   "id": "20",
   "metadata": {
    "id": "230bec67da9b341a"
   },
   "source": [
    "**Ответ:**\n",
    "\n",
    "Проще перечислить те, которые уже к лесу относятся: `bootstrap`, `n_estimators`, `n_jobs`, `oob_score`, `verbose`, `warm_start`"
   ]
  },
  {
   "cell_type": "markdown",
   "id": "21",
   "metadata": {
    "id": "974ae7b31b802f8"
   },
   "source": [
    "\n",
    "\n",
    "Появляются новые важные гиперпараметры: n_estimators (количество деревьев в лесу). Также важным является гиперапараметр max_features &mdash; максимальное количество признаков, которые могут быть перебраны при разбиении вершины дерева. Перед каждым разбиением дерева генерируется выборка из `min(k, max_features)` случайных признаков (`k` — количество признаков в датасете) и только эти признаки рассматриваются как разделяющие в данной вершине."
   ]
  },
  {
   "cell_type": "markdown",
   "id": "22",
   "metadata": {
    "id": "e7219606fbbf055c"
   },
   "source": [
    "Выведите качество, сравните с деревом."
   ]
  },
  {
   "cell_type": "code",
   "execution_count": null,
   "id": "23",
   "metadata": {
    "colab": {
     "base_uri": "https://localhost:8080/"
    },
    "id": "5aed76572732ef5d",
    "outputId": "a1e48c10-5f71-427c-82c9-c555b6c68f25"
   },
   "outputs": [],
   "source": [
    "print(f'Train accuracy = {accuracy_score(y_train, forest.predict(X_train))}')\n",
    "print(f'Test accuracy = {accuracy_score(y_test, forest.predict(X_test))}')"
   ]
  },
  {
   "cell_type": "markdown",
   "id": "24",
   "metadata": {
    "id": "c2fadfa82a28bcba"
   },
   "source": [
    "**Вывод:**\n",
    "\n",
    " Видно явное переобучение, так как на train лес выучил все, на test стало лучше, но не очень сильно\n"
   ]
  },
  {
   "cell_type": "markdown",
   "id": "25",
   "metadata": {
    "id": "86861f603b5bd096"
   },
   "source": [
    "Нарисуйте первые 6 деревьев леса."
   ]
  },
  {
   "cell_type": "code",
   "execution_count": null,
   "id": "26",
   "metadata": {
    "colab": {
     "base_uri": "https://localhost:8080/",
     "height": 1000
    },
    "id": "324e9a4a5696bdc4",
    "outputId": "b55c01c6-4045-4228-ad2b-4eb22c1d2a34"
   },
   "outputs": [],
   "source": [
    "i = 1\n",
    "for tree_in_forest in forest.estimators_:\n",
    "    plt.figure(figsize=(10, 7))\n",
    "    plot_tree(tree_in_forest)\n",
    "    plt.title(f'{i}-е дерево леса')\n",
    "    plt.show()\n",
    "    i += 1\n",
    "    if i > 6:\n",
    "        break"
   ]
  },
  {
   "cell_type": "markdown",
   "id": "27",
   "metadata": {
    "id": "e501ca96f98c4380"
   },
   "source": [
    "Как выглядят деревья в решающем дереве? Насколько они отличаются от обученного ранее дерева и друг от друга?"
   ]
  },
  {
   "cell_type": "markdown",
   "id": "28",
   "metadata": {
    "id": "f143c2083a703271"
   },
   "source": [
    "**Вывод:**\n",
    "\n",
    "Каждое дерево в лесу имеет большую глубину и сложную структуру (в отличие от ранее построенного дерева). При этом каждое дерево ветвится по-своему, с разной глубиной, но все они довольно объёмные. Параметры каждой вершины трудно различимы из-за обилия узлов и мелкого текста."
   ]
  }
 ],
 "metadata": {
  "colab": {
   "provenance": []
  },
  "kernelspec": {
   "display_name": "Python 3",
   "language": "python",
   "name": "python3"
  },
  "language_info": {
   "codemirror_mode": {
    "name": "ipython",
    "version": 2
   },
   "file_extension": ".py",
   "mimetype": "text/x-python",
   "name": "python",
   "nbconvert_exporter": "python",
   "pygments_lexer": "ipython2",
   "version": "2.7.6"
  }
 },
 "nbformat": 4,
 "nbformat_minor": 5
}
