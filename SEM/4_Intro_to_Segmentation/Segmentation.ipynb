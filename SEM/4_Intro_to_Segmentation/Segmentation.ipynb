{
 "cells": [
  {
   "cell_type": "markdown",
   "metadata": {
    "id": "zduL2QSiVQEE"
   },
   "source": [
    "# ML в Биологии\n",
    "## Сегментация\n"
   ]
  },
  {
   "cell_type": "code",
   "execution_count": null,
   "metadata": {
    "colab": {
     "base_uri": "https://localhost:8080/"
    },
    "id": "HBNTbRK9kPYW",
    "outputId": "f4ee2082-4bbc-4c08-c5fc-3a0431537b35"
   },
   "outputs": [],
   "source": [
    "import torch\n",
    "from torch import nn\n",
    "from torch.utils.data import Dataset, DataLoader, RandomSampler, random_split\n",
    "from torch.nn import BCEWithLogitsLoss\n",
    "import numpy as np\n",
    "\n",
    "import torchvision.transforms as tt\n",
    "from PIL import Image\n",
    "import os\n",
    "\n",
    "import lightning.pytorch as pl\n",
    "from torchmetrics.functional import accuracy\n",
    "from lightning.pytorch import loggers as pl_loggers\n",
    "from lightning.pytorch.callbacks import ModelCheckpoint, EarlyStopping\n",
    "\n",
    "import matplotlib.pyplot as plt\n",
    "\n",
    "from tqdm import tqdm\n",
    "from IPython.display import clear_output # для отчистки экрана\n",
    "\n",
    "import albumentations as A"
   ]
  },
  {
   "cell_type": "code",
   "execution_count": null,
   "metadata": {
    "id": "mmsShoClO6iV"
   },
   "outputs": [],
   "source": [
    "#!pip install lightning"
   ]
  },
  {
   "cell_type": "code",
   "execution_count": null,
   "metadata": {
    "id": "i-NouWRlOrhr"
   },
   "outputs": [],
   "source": [
    "torch.manual_seed(0)\n",
    "np.random.seed(0)"
   ]
  },
  {
   "cell_type": "code",
   "execution_count": null,
   "metadata": {
    "colab": {
     "base_uri": "https://localhost:8080/"
    },
    "id": "ioZX3SPqnMM6",
    "outputId": "837f1029-d526-4a99-d72a-2f0721cbc398"
   },
   "outputs": [],
   "source": [
    "device = f\"cuda\" if torch.cuda.is_available() else \"cpu\"\n",
    "# device = \"cpu\"\n",
    "print(device)"
   ]
  },
  {
   "cell_type": "markdown",
   "metadata": {
    "id": "12fT1cPpjl7F"
   },
   "source": [
    "## 1. Релизация метрики IoU\n",
    "Реализуйте метрику IoU. Она вам понадобится далее для оценивания результатов предсказания модели."
   ]
  },
  {
   "cell_type": "markdown",
   "metadata": {
    "id": "TU-23xXPOrhr"
   },
   "source": [
    "![image.png](data:image/png;base64,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)"
   ]
  },
  {
   "cell_type": "code",
   "execution_count": null,
   "metadata": {
    "id": "7-rAfw-COrhs"
   },
   "outputs": [],
   "source": [
    "def iou(predicted_mask_batch, target_mask_batch):\n",
    "    \"\"\" Считает среднее IoU для всех элементов батча\n",
    "    predicted_mask_batch - булев тензор размерности (batch_size, 1, H, W) - определяет предсказанную принадлежность пикселя к классу 1\n",
    "    target_mask_batch - булев тензор размерности (batch_size, 1, H, W) - определяет реальную принадлежность пикселя к классу 1\n",
    "    \"\"\"\n",
    "    # Площадь пересечения в пикселях для всех элементов батча\n",
    "    intersection = (predicted_mask_batch & target_mask_batch).shape[0]\n",
    "    # Площадь объединения в пикселях для всех элементов батча\n",
    "    union =  (predicted_mask_batch | target_mask_batch).shape[0]\n",
    "    # Посчитайте IoU для каждого элемента батча, а затем усредните по батчу\n",
    "    iou = intersection / union\n",
    "    return torch.tensor(iou)"
   ]
  },
  {
   "cell_type": "code",
   "execution_count": null,
   "metadata": {
    "id": "QsObLV1COrht"
   },
   "outputs": [],
   "source": [
    "predicted_mask_batch = torch.ones((1, 1, 10, 10)).bool()\n",
    "target_mask_batch =  torch.ones((1, 1, 10, 10)).bool()\n",
    "assert torch.allclose(iou(predicted_mask_batch, target_mask_batch), torch.tensor(1.0))"
   ]
  },
  {
   "cell_type": "markdown",
   "metadata": {
    "id": "c47wLlIEckQQ"
   },
   "source": [
    "## 2. Сегментация изображений"
   ]
  },
  {
   "cell_type": "markdown",
   "metadata": {
    "id": "SBQqL2NnOrht",
    "jupyter": {
     "outputs_hidden": false
    }
   },
   "source": [
    "Попробуем написать неглубокую сеть и сегментировать клетки рака груди. Более подробно про данные можно прочитать [тут:](https://www.kaggle.com/datasets/andrewmvd/breast-cancer-cell-segmentation)\n",
    "\n",
    "Для этого напишем энкодер, который будет применять к входному изображению несколько свёрток, а затем напишем декодер, который по скрытому представлению будет разворачивать картинку с помощью обратных свёрток."
   ]
  },
  {
   "cell_type": "code",
   "execution_count": null,
   "metadata": {
    "colab": {
     "base_uri": "https://localhost:8080/"
    },
    "id": "0ClQptyMOrht",
    "outputId": "3f352cf6-190f-40d1-d92d-e1a046d9ac2b"
   },
   "outputs": [],
   "source": [
    "!curl -JLO 'https://www.dropbox.com/scl/fi/gs3kzp6b8k6faf667m5tt/breast-cancer-cells-segmentation.zip?rlkey=md3mzikpwrvnaluxnhms7r4zn'\n",
    "!unzip breast-cancer-cells-segmentation.zip"
   ]
  },
  {
   "cell_type": "code",
   "execution_count": null,
   "metadata": {
    "id": "J8Gndq8VOrht"
   },
   "outputs": [],
   "source": [
    "IMAGES_PATH = 'Images'\n",
    "\n",
    "MASKS_PATH = 'Masks'"
   ]
  },
  {
   "cell_type": "markdown",
   "metadata": {
    "id": "Q29uVwmIOrhu",
    "jupyter": {
     "outputs_hidden": false
    }
   },
   "source": [
    "Посмотрим на наши данные. Для этого напишем класс датасета:"
   ]
  },
  {
   "cell_type": "code",
   "execution_count": null,
   "metadata": {
    "id": "TqWzGfbQOrhu"
   },
   "outputs": [],
   "source": [
    "class CellsDataset(Dataset):\n",
    "    def __init__(self, data_path, mask_path, aug=None):\n",
    "        \"\"\"\n",
    "        Args:\n",
    "            data_path: путь до изображений.\n",
    "            mask_path: путь до масок изображений.\n",
    "        \"\"\"\n",
    "        self.data_path = data_path\n",
    "        self.mask_path = mask_path\n",
    "\n",
    "        # Файлы с изображениями и масками\n",
    "        self.files = list(filter(lambda f: f.endswith('.tif'), os.listdir(self.data_path)))\n",
    "        self.mask_files = list(filter(lambda f: f.endswith('.TIF'), os.listdir(self.mask_path)))\n",
    "\n",
    "        assert len(self.files) == len(self.mask_files)\n",
    "\n",
    "        self.files.sort()\n",
    "        self.mask_files.sort()\n",
    "\n",
    "        # аугментация из albumentations\n",
    "        self.aug = aug\n",
    "\n",
    "    def __len__(self):\n",
    "        return len(self.files)\n",
    "\n",
    "    def __getitem__(self, idx):\n",
    "        # Загружаем изображение и маску\n",
    "        file_name = os.path.join(self.data_path, self.files[idx])\n",
    "        mask_name = os.path.join(self.mask_path, self.mask_files[idx])\n",
    "\n",
    "        input = np.array(Image.open(file_name), dtype=np.uint8)\n",
    "        target = np.array(Image.open(mask_name), dtype=np.uint8)\n",
    "\n",
    "        # применяем аугментацию\n",
    "        if self.aug:\n",
    "            augmented = self.aug(image=input, mask=target)\n",
    "            input = augmented['image']\n",
    "            target = augmented['mask']\n",
    "\n",
    "        # исправим порядок размерностей\n",
    "        input = input.transpose(2, 0, 1)\n",
    "\n",
    "        # Приводим к torch tensor\n",
    "        input = torch.tensor(input, dtype=torch.float32)\n",
    "        target = torch.from_numpy(target)\n",
    "\n",
    "        target = (target > 0).int().unsqueeze(0)\n",
    "\n",
    "        return input, target"
   ]
  },
  {
   "cell_type": "markdown",
   "metadata": {
    "id": "eFMgzaIMOrhu",
    "jupyter": {
     "outputs_hidden": false
    }
   },
   "source": [
    "Создайте датасет из всех данных.\n",
    "\n",
    "При создании датасета передайте в него преобразование (аргумент aug), переводящее картинки в тензор с размерами 160 на 240. Вам можем помочь преобразование Resize из библиотеки albumentations."
   ]
  },
  {
   "cell_type": "code",
   "execution_count": null,
   "metadata": {
    "id": "qEYPQlUcOrhu"
   },
   "outputs": [],
   "source": [
    "aug = A.Compose([\n",
    "    A.Resize(height=160, width=240),\n",
    "])\n",
    "\n",
    "dataset = CellsDataset(data_path=IMAGES_PATH, mask_path=MASKS_PATH, aug=aug)"
   ]
  },
  {
   "cell_type": "markdown",
   "metadata": {
    "id": "2p0yOyefOrhu",
    "jupyter": {
     "outputs_hidden": false
    }
   },
   "source": [
    "Создадим тренировочный и валидационный датасеты:"
   ]
  },
  {
   "cell_type": "code",
   "execution_count": null,
   "metadata": {
    "id": "nbffQq0cOrhu"
   },
   "outputs": [],
   "source": [
    "generator = torch.Generator().manual_seed(42)\n",
    "indices = torch.randperm(len(dataset), generator=generator).tolist()\n",
    "train_dataset = torch.utils.data.Subset(dataset, indices[:-14]) #создадим тренировочный датасет\n",
    "val_dataset = torch.utils.data.Subset(dataset, indices[-14:-7]) #создадим валидационный датасет"
   ]
  },
  {
   "cell_type": "markdown",
   "metadata": {
    "id": "bQQu-jdCOrhv"
   },
   "source": [
    "Сколько изображений в каждом из полученных датасетов?"
   ]
  },
  {
   "cell_type": "code",
   "execution_count": null,
   "metadata": {
    "colab": {
     "base_uri": "https://localhost:8080/"
    },
    "id": "WFVWA2pDOrhv",
    "outputId": "96ec9e20-7963-480f-dbd2-d98a72f349a9"
   },
   "outputs": [],
   "source": [
    "num_train_images = len(train_dataset)\n",
    "num_val_images = len(val_dataset)\n",
    "\n",
    "print(f\"Количество изображений в тренировочном датасете: {num_train_images}\")\n",
    "print(f\"Количество изображений в валидационном датасете: {num_val_images}\")"
   ]
  },
  {
   "cell_type": "markdown",
   "metadata": {
    "id": "FbNc_pk2Orhv",
    "jupyter": {
     "outputs_hidden": false
    }
   },
   "source": [
    "Посмотрим на данные:"
   ]
  },
  {
   "cell_type": "code",
   "execution_count": null,
   "metadata": {
    "colab": {
     "base_uri": "https://localhost:8080/",
     "height": 1000
    },
    "id": "l1plPLntOrhv",
    "outputId": "ee39efd5-cc65-43b1-ab4e-9e35ab465322"
   },
   "outputs": [],
   "source": [
    "for i in range(5):\n",
    "    plt.figure(figsize=(15, 7))\n",
    "\n",
    "    sample = train_dataset[i]\n",
    "\n",
    "    plt.subplot(1, 2, 1)\n",
    "    plt.title(\"Изображение\")\n",
    "    plt.imshow(sample[0].permute(1, 2, 0).int())\n",
    "    plt.axis(\"off\")\n",
    "\n",
    "    plt.subplot(1, 2, 2)\n",
    "    plt.title(\"Маска\")\n",
    "    plt.imshow(sample[1].squeeze(), cmap='Greys_r')\n",
    "    plt.axis(\"off\");\n",
    "\n",
    "    print(\"Значения в маске и количество значений:\", np.unique(train_dataset[i][1], return_counts=True))"
   ]
  },
  {
   "cell_type": "markdown",
   "metadata": {
    "id": "Ebj-3jHHOrhv"
   },
   "source": [
    "Теперь мы, наконец, готовы перейти к написанию энкодера!\n",
    "\n",
    "Напишем энкодер с тремя слоями свёрток, на каждом слое будем уменьшать вдвое размер изображения.\n",
    "\n",
    "*Подсказка: для получения нужных размеров изображений подберите подходящие разумные значения размера фильтра, padding и stride.*"
   ]
  },
  {
   "cell_type": "code",
   "execution_count": null,
   "metadata": {
    "id": "gH3tcNBOOrhv"
   },
   "outputs": [],
   "source": [
    "class Encoder(torch.nn.Module):\n",
    "    def __init__(self):\n",
    "        super(Encoder, self).__init__()\n",
    "\n",
    "        self.conv1 = torch.nn.Sequential(\n",
    "            torch.nn.Conv2d(in_channels=3, out_channels=32, kernel_size=3, stride=2, padding=1),  # 64x64x32\n",
    "            torch.nn.ReLU(),\n",
    "            torch.nn.BatchNorm2d(32)\n",
    "        )\n",
    "\n",
    "        self.conv2 = torch.nn.Sequential(\n",
    "            torch.nn.Conv2d(in_channels=32, out_channels=64, kernel_size=3, stride=2, padding=1),  # 32x32x64\n",
    "            torch.nn.ReLU(),\n",
    "            torch.nn.BatchNorm2d(64)\n",
    "        )\n",
    "\n",
    "        self.conv3 = torch.nn.Sequential(\n",
    "            torch.nn.Conv2d(in_channels=64, out_channels=128, kernel_size=3, stride=2, padding=1),  # 16x16x128\n",
    "            torch.nn.ReLU(),\n",
    "            torch.nn.BatchNorm2d(128)\n",
    "        )\n",
    "\n",
    "    def forward(self, x):\n",
    "        x = self.conv1(x)  # 64 х 64\n",
    "        x = self.conv2(x)  # 32 х 32\n",
    "        x = self.conv3(x)  # 16 х 16\n",
    "        return x"
   ]
  },
  {
   "cell_type": "markdown",
   "metadata": {
    "id": "shRmPe9EOrhv"
   },
   "source": [
    "С помощью операции обратной свёртки напишем декодер из трёх слоёв, на каждом из которых размер картинки на выходе будет соответствовать картинке в энкодере. Не забудем добавить нормализацию как в обычной сверточной сети."
   ]
  },
  {
   "cell_type": "code",
   "execution_count": null,
   "metadata": {
    "id": "v7JmMgJmOrhw"
   },
   "outputs": [],
   "source": [
    "class Decoder(torch.nn.Module):\n",
    "    def __init__(self):\n",
    "        super(Decoder, self).__init__()\n",
    "        self.convt1 = torch.nn.Sequential(\n",
    "            torch.nn.ConvTranspose2d(in_channels=128, out_channels=64, kernel_size=4, stride=2, padding=1),  # 16x16x128 -> 32x32x64\n",
    "            torch.nn.ReLU(),\n",
    "            torch.nn.BatchNorm2d(64)\n",
    "        )\n",
    "\n",
    "        self.convt2 = torch.nn.Sequential(\n",
    "            torch.nn.ConvTranspose2d(in_channels=64, out_channels=32, kernel_size=4, stride=2, padding=1),  # 32x32x64 -> 64x64x32\n",
    "            torch.nn.ReLU(),\n",
    "            torch.nn.BatchNorm2d(32)\n",
    "        )\n",
    "\n",
    "        self.convt3 = torch.nn.Sequential(\n",
    "            torch.nn.ConvTranspose2d(in_channels=32, out_channels=1, kernel_size=4, stride=2, padding=1),  # 64x64x32 -> 128x128x1\n",
    "        )\n",
    "\n",
    "    def forward(self, z, test=False):\n",
    "        z = self.convt1(z)\n",
    "        if test:\n",
    "            print(z.shape)\n",
    "\n",
    "        z = self.convt2(z)\n",
    "        if test:\n",
    "            print(z.shape)\n",
    "\n",
    "        z = self.convt3(z)\n",
    "        if test:\n",
    "            print(z.shape)\n",
    "\n",
    "        return z"
   ]
  },
  {
   "cell_type": "markdown",
   "metadata": {
    "id": "SfuZ4L2oOrhw"
   },
   "source": [
    "Соединяем всё в одну сеть и запустим процесс обучения."
   ]
  },
  {
   "cell_type": "code",
   "execution_count": null,
   "metadata": {
    "id": "95_l-buGOrhw"
   },
   "outputs": [],
   "source": [
    "class Segmentation(torch.nn.Module):\n",
    "    def __init__(self):\n",
    "        super(Segmentation, self).__init__()\n",
    "        self.enc = Encoder()\n",
    "        self.dec = Decoder()\n",
    "\n",
    "    def forward(self, x):\n",
    "        z = self.enc(x)\n",
    "        res = self.dec(z)\n",
    "        return res"
   ]
  },
  {
   "cell_type": "markdown",
   "metadata": {
    "id": "YvoCjubaOrhw",
    "jupyter": {
     "outputs_hidden": false
    }
   },
   "source": [
    "Обернем модель в lightningmodule. Поскольку выход сети будет говорить для каждого пикселя вероятность быть частью маски (насколько пиксель белый), то в качестве функции потерь возьмём попиксельную кросс-энтропию. Так как модель возвращает логиты, возьмем BCEWithLogitsLoss."
   ]
  },
  {
   "cell_type": "code",
   "execution_count": null,
   "metadata": {
    "id": "tieRdBQ7Orhw"
   },
   "outputs": [],
   "source": [
    "class SegmentationModel(pl.LightningModule):\n",
    "    def __init__(self, lr=2e-3):\n",
    "        '''Инициализирует модуль\n",
    "        * layer_widths -- список размерностей скрытых слоев в U-Net'''\n",
    "        super().__init__()\n",
    "        self.lr = lr\n",
    "        self.criterion = nn.BCEWithLogitsLoss()\n",
    "        self.save_hyperparameters()\n",
    "        self.model = Segmentation()\n",
    "        self.predictions = []\n",
    "        self.metric = iou\n",
    "\n",
    "    def configure_optimizers(self):\n",
    "        return torch.optim.Adam(self.model.parameters(), lr=self.lr)\n",
    "\n",
    "    def forward(self, x):\n",
    "        return self.model(x)\n",
    "\n",
    "    def __step(self, batch, name):\n",
    "        ''' Описывает 1 шаг обучения на batch\n",
    "        * name -- либо train, либо val'''\n",
    "        images, target = batch\n",
    "        output = self.model(images)\n",
    "        loss = self.criterion(output, target.float())\n",
    "        iou = self.metric(output > 0, target > 0)\n",
    "        self.log(name + '_loss', loss)\n",
    "        self.log(name + '_iou', iou, on_step=False, on_epoch=True)\n",
    "        return loss\n",
    "\n",
    "    def training_step(self, batch, batch_idx):\n",
    "        return self.__step(batch, 'train')\n",
    "\n",
    "    def validation_step(self, batch, batch_idx):\n",
    "        return self.__step(batch, 'val')"
   ]
  },
  {
   "cell_type": "markdown",
   "metadata": {
    "id": "Udj3tdq3Orhw",
    "jupyter": {
     "outputs_hidden": false
    }
   },
   "source": [
    "Создадим даталоадеры"
   ]
  },
  {
   "cell_type": "code",
   "execution_count": null,
   "metadata": {
    "id": "GEs1sSu7Orhw"
   },
   "outputs": [],
   "source": [
    "batch_size = 4\n",
    "\n",
    "train_sampler = torch.utils.data.RandomSampler(train_dataset)\n",
    "train_dataloader = DataLoader(train_dataset, batch_size=batch_size, sampler=train_sampler)\n",
    "val_dataloader = DataLoader(val_dataset, batch_size=batch_size)"
   ]
  },
  {
   "cell_type": "markdown",
   "metadata": {
    "id": "JNCI5gArOrhx",
    "jupyter": {
     "outputs_hidden": false
    }
   },
   "source": [
    "Объявим trainer и обучим на 50 эпохах:"
   ]
  },
  {
   "cell_type": "code",
   "execution_count": null,
   "metadata": {
    "colab": {
     "base_uri": "https://localhost:8080/"
    },
    "id": "5gnxca4COrhx",
    "outputId": "dcf28d6d-92da-4724-adae-733577f9044e"
   },
   "outputs": [],
   "source": [
    "model = SegmentationModel()\n",
    "checkpoint_callback = pl.callbacks.ModelCheckpoint(monitor='val_iou', mode='max')\n",
    "tb_logger = pl_loggers.TensorBoardLogger(save_dir=\"lightning_logs/simple_encoder_decoder\")\n",
    "early_stopping = EarlyStopping('val_loss', patience=10)\n",
    "trainer = pl.Trainer(\n",
    "    logger=tb_logger,\n",
    "    callbacks=[checkpoint_callback, early_stopping],\n",
    "    accelerator=\"gpu\",\n",
    "    max_epochs=30\n",
    ")"
   ]
  },
  {
   "cell_type": "code",
   "execution_count": null,
   "metadata": {
    "colab": {
     "base_uri": "https://localhost:8080/",
     "height": 537,
     "referenced_widgets": [
      "e14ffac36f254546bdd14c9f0df38eb5",
      "07b4b7abe43149d59ee08d233ace5944",
      "8ce8f655e60e4fa697f1d624244582c9",
      "7b8b74831c274438a4bf1d33e5128c33",
      "e7e1d2432cb746ada320b77bb847ad2c",
      "a9d420cced1f4e18a17b744ec38232ae",
      "f723e4c05f0542da8e2eda3ccc67df74",
      "9c32fcc38def4d2da514ae5944cdb13e",
      "e261cf00bd704d1098ca1451db047f3b",
      "c670a0ac952c48c989fc60946f850bcc",
      "727af535d0cb4de3a537fda3cfc64582",
      "432b407c010543b7a755df5456939c36",
      "027566256e86433b94f84114a9a51f05",
      "3fb816fb91f640628447d219c0763934",
      "01d5d0c3a0e649b08608a09b38454d9f",
      "fb5e69ee59d847a0853d11c5a77e686b",
      "d0aa324219df4253975e3c720e89997e",
      "b7e5c7f332c24237b0632b3764deb6eb",
      "d2c18d1a16f447eaa6ab8c3465f330fd",
      "7de10bbb8f7c4cdbb9dee94eddcbb663",
      "f524ceb64ef74b64a148035ffbf48269",
      "d822f974843c43d4b4396e805d8f5ed3",
      "4b05d8d53efc42218bfdb59e9ac04e2b",
      "fb7200a069bb4c06aca56385c325868b",
      "13456f20dcff4d678b311dde7f8161e7",
      "60a4b65c3c804921b67edb3ac931a9ca",
      "4b42e010b456432aba188342be31a9a0",
      "55245dd58c14465cab022558f31163f7",
      "74505647bee24eba901066ce01fafc99",
      "64e3fed71c734463ab96498f3cdfbe6f",
      "0b3e85cd206843deac58d115032939e1",
      "5d285f115f88424a9596eac7a5c5750e",
      "cfd99b6525ba4398a7dcdad3059e443f",
      "98f29953bbea4a769f71a653d1fa4391",
      "91c177aaa947490c96617933de780d92",
      "ab4245fc74cc481fb11d46857ae8b61b",
      "46e7ba401d374ea79ec638b2680bef6a",
      "a601684decef4f1cba29ac18cb564944",
      "d20411c0e0e6464cb39c3ff65626c551",
      "0fd1acd6f9d74436aea4b0b8d6b31b1c",
      "e776402824794653a702b0d43ca67753",
      "9bd7ee67e6894adf95fe1a1fd34ada5a",
      "c782380ceb734f5297b78b57b4d05fd7",
      "92f1693603af42df9da94ee312a1b326",
      "4d6b2b1b64ce4a9ea24085d2cfe5b3b3",
      "3d77a435f096487bab5157322b3e53ca",
      "3cb660d18d31448cbe1d2d038b6a2ca9",
      "24b80dd84d1d4227a0bf99f181af95da",
      "75118461752948ce93ec2facfa80d9c5",
      "9d319bdae5114c5b84d331db0ace45e9",
      "1cb1b2d13f4e400aa538335b7dbbf6f9",
      "0216952f88134eb7a5d9ad3689d46a8b",
      "18ca5905145a45209ca9560872bb1133",
      "35202a66f5774d629486bb3c2bb6df5a",
      "11cbf733e7774321868540a870ec3f12",
      "a151c222efd341bdbd24fac250a2082a",
      "6f3215e7470443809a0e3e9409d35354",
      "b812ccb73e714a9db174ed4c085e9343",
      "e32c06d1b3eb4123996879a85af898ec",
      "957a9bf184ec41ccb5bc0667efffc3cb",
      "f906bad4dbe64326b4d18d5073f98622",
      "f90a8afc97db4cb1b74be79198d7b999",
      "7c92213822a24d04b043be6d1f3386a3",
      "2be33d9accba454eb412a1fb75d97070",
      "f3b27e909608452187e493d18a60379d",
      "a3c06e262be0425f9e2bcc471a32dc8e",
      "c0aba30f839044c684fa2a67901bda3f",
      "9fab5b7fe3d04a54b050b9ddcbccb098",
      "c86114e5dcf94e94b13686fe6e25c8cc",
      "2c0522b8dfe04061923e16a42bfebf0b",
      "783ccfab713846fca1b1a8f9ed26ee7c",
      "a5f0b0f215ee49f78c52b6665d7f51f6",
      "c49c70b208a74978a9a4fd60c2204198",
      "286c4f7ba7534ed3b8750883669c5fec",
      "3dd2db27f0f6450b97d93d19bd1906b0",
      "1abff81b11034eb0ac5f4599bb66b194",
      "7f06b0fa14ce4eee90e3425d613d3128",
      "e5e1f509d5f84000a18a6037020d6aa2",
      "b915ea2550e94b5a840d90466f1aa781",
      "c9b54a7576e2443cb45bbc5a949beba7",
      "1a288c02fd8c45c182885a04a15a75a4",
      "45ba1840a75d493bbdfc42b3652af292",
      "79fd4088aefa4c80909419fd095a2668",
      "0d67675f8c824a45b0dd5881f310fdd9",
      "aa73c528ba804a8f801069d51aef5abf",
      "00c1fa0a12304b16b72db81e9a315d8c",
      "1d764a41086f4aae8684cf666c213fb9",
      "fda4b3ae7eaa4d1c8ec122a3c249523c",
      "02912f2f08604ed1bc65f9b31ef1f2ed",
      "8931bd89a72c49a887cea83873f0b6f0",
      "7c62a1ae849d4c538a698b05d6e8b873",
      "57367b3a2ccd4ebcbfb786337bbeb7d3",
      "c66d5b1179f6430cb49962fe6330bbf6",
      "8cf4374a634b4c84a25c1bb4fda5d1f6",
      "a46009231ec441bd94b3b39a39ff82ab",
      "a121b1922345470cbf1b7eb2f0f44f8a",
      "5daf106398d448a0b8677a32c166b538",
      "43b9530b9a9544cd88d99b5a35a50467",
      "dd526e8053e54ce8bf6c8875a43da121",
      "d56f3a33c28d4d9dac6f60fccb276893",
      "3de0b1e46e14460192d1491f6da3edfb",
      "3a99d1ac1e654d8b89e8d900c548a158",
      "c70a6b73a41c4c3a9fc335beeb86c63f",
      "f2af2b677fb744e1a6ba7312c241161a",
      "5bf74ce092e84130a313f6c9f5c23795",
      "6f349798974047409f8a0b1607ee219a",
      "4111a7cd982746c5b8dbb056524bdb51",
      "75e542558d214594bbbec86322576e16",
      "6a28b41e903b4c819755529c6fbe1ae8",
      "b0da5bd03a3a49e7ae66954c3d56c2a0",
      "73e55c45df684796aeebfc3521a582ba",
      "f4cccbe16a444094920a0bd20c199272",
      "6bca2c73d1754657b7bbb5782d8fbe44",
      "2865b387e33347c7aee80a9b18d95242",
      "6aad89ef6b7c49c48869fa4ae4e34b8b",
      "a7d87b2babb542bfb4ab0178f3c12de3",
      "f90a17cd10434571ab7016ba79f540fb",
      "a866ad66e3e44da1ac2b97020737b04d",
      "bfffa95855db4b50b72ccd81e2f07775",
      "0d86a784d469401dac6940ba1593c388",
      "4817b4c5f1f046489352d17b5874d4bb",
      "aace6e37d8914e4195e35dfdf2f544d5",
      "45f7d8b51fd043eb8a77cacf1b5dfdfe",
      "4305f12ca8e14c94a88ce665bf2eb827",
      "7f7660177cf146ce8bbdcb4683a11443",
      "8c3b2e3de0e2430dbd22cdf23b61210c",
      "40b647e9bdac43768a1dfa79a7206642",
      "044627f494b64d4791b0e23cc7cdf118",
      "8833a948011a49b3b410c7798b8f323e",
      "efecf5fe3b2e4476afca6f726ea60909",
      "2d2e2ea78271407991cccce311caad44",
      "2a7595b2201d4804ba732a1149318f6f",
      "dbcb674dfc89489aaa7a94e74fe8044a",
      "7131b3737ca242b1af5e59087a520fd0",
      "f76d1bd3212e4927ae9f2af4faf6d6fd",
      "3da2dfa007f0419a97955ebec29ebe2d",
      "6fd2d544e25e47d3ae6372a9f48d95f1",
      "32379b546c28461f816dbd5e39ceb3dd",
      "7a836db056f24571bf072750a8c257f5",
      "4142a9cad5854050ba3df1327bb383f0",
      "907ff6c9edcc4db1a3a831d9a3265888",
      "9b7d4479f0fb4466bde3c1200acbe9db",
      "8e0dd9207f9341caa055e8ba76dc68ac",
      "25e0845646444724883905c677aba276",
      "1ef921b53ebd4032ab68ac0b53a05b14",
      "2275dafb9ef8493cac2ec2dd489aee29",
      "55a0b44dcad6446ca719808ed239f504",
      "3e030bccd4f547089c767d0757d23fca",
      "f03e36d224374fd8b8761cb7df580318",
      "bbec3cf107314f5db9d14d881660d5a9",
      "002fe1e22e29485da00a102899a130e5",
      "6e9a040b4c9d4a979a7905fe97684187",
      "d43a9605e65645b080df5bb96261048d",
      "0499602056874e209b16d1104d3275d4",
      "06a6e2bbffa444dd928b7086ff0b3754",
      "b4029a570d63470b9302125aab487b2a",
      "29c01faed0ef4830a9a865c5d3a94970",
      "76d407f1b0b948bf9df1f44a5344bc39",
      "8086d750980b40c1829bb1a30459a7d0",
      "c9322ee244af4523ab3a4dbd190809ca",
      "f57b52c61b3d4801af96063a64b1e1d6",
      "fd92f9cbd2c346be815fda462e465dbc",
      "4a19891eadf745d3a5e554e2c6ead0cb",
      "c35fd6cf31254227b948b3694a4b2a39",
      "e32cb1fb31894f3eadde9d534798d751",
      "545ccc38a3314527a7114f332cb4f779",
      "7dabc6622a0942e1a3265dac6e9724d5",
      "a80f7fea85be4b999f981fe809fe33dc",
      "7b4a871c5c5b42ffbe53babc1b6c5e2a",
      "26371f294a9a451fbf562f3bc8956bb6",
      "336155b69e6845e48f68de345fb95654",
      "ad51f82729824c2680de1573fcbc6eb3",
      "f2ef135986ed45c1a73441f245ead4bd",
      "ad7a58cc37724e51abe035707b118b90",
      "92c4aa42c4a04f39ba3a3b22a1ecf62d",
      "b4fc523fd1ec483faf89ed82156c2b28",
      "5e1b428a552242eba9de6cf78620a13e",
      "10a978d5b56b4248a0999c774158bd55",
      "d66878f6821749c2ab8e22740f8fb07a",
      "bf45ecbf9a844736a07947e689857178",
      "61f6708514f741248a1b396e64b77153",
      "2802381157204ef38518aa92d05ec35c",
      "73377865039f4f01aeeb9024ad9692fd",
      "24fab824396e4064af1009e5291e1f7d",
      "2798750213a0433b97be99c97778cd6a",
      "fa2eb839fb7b470ba6f7804d9806a087",
      "9fe5a479783c418ea4b6537d364881d2",
      "5141dfbb5bb341dc9fa6294850ec87df",
      "77e00656626948298cc2e1e1f7fa2efb",
      "c35836dfc2e047d89741214094df25b7",
      "101182e50bea47fdb2e7d2657f082c9a",
      "45508621e7384922b1835b25267afbe3",
      "861cf7998a2e497fba127a0b40167d0b",
      "fb61087c5bb847119ee53e2ed20f2f27",
      "37e115f498f844aea341f8379bc09d65",
      "220d309c00444231b5e68dc8280ec7cb",
      "87fe12799bb247dcb6e4cd888ce3f732",
      "2523c1eabb25467c9d61385ed6cafc27",
      "30de702e7ed74291ad0db11257f06ed8",
      "b7fcaedcacc546bea0ca4df8728477be",
      "ff6e0cf2e93f476e985ea828fa80c299",
      "a436d1e66a7c488891a93abf82335c05",
      "d8d1aa9e6b70428bad2c698f132c51e9",
      "e70b5bc3a20e4339b9f5ecc55e23734c",
      "c2e7cfd304064dbba7c90f24a1414e60",
      "d9794c6ff39f44d19d1c5c67f12af885",
      "d019f1bc219143b09e08f1d0bc1c1d8a",
      "620d670ec4684dca9b747676b448ac0c",
      "e4dbe9e8a17845d2b5d404a697204f74",
      "d575a9aaa2554db1aeae1af63183257d",
      "42a96689983249649f5db51654aded7a",
      "520a2a6383c44afea6a8eade0dd7b2bb",
      "085a957258344da18d1fc066873d34e8",
      "d1538754a10c46388e4dccbe2acfd7e3",
      "a57599b404e54a3cbe9be58ad0c3611c",
      "fc6ebc26e2154e53befcd2f32b42c326",
      "140edea2eec34234baf5e1961d555350",
      "c8e8f8ae65064192ace5abe190066685",
      "e19c5b0292c74f79b815582ac6923457",
      "77731db93ea84890bfa9ae17cda83cf0",
      "950ec1cb0b5a4d03b5e10e9fbeea1cb0",
      "6d009c7c04d749f89657a1b228dc5508",
      "13e1827b79db40eda097c7d49b7a46c6",
      "5e13373bf94e49e298ed84fb40fa46e1",
      "8544118319e245129bca55d05375a0e8",
      "4b7db39f480a4917be6f2b19754e1ea9",
      "2dea68ab14354ce99169ff6aad39c126",
      "b2bcb67c4c9d4ba08d822823c3abaf81",
      "b6e0e4c404c449ffafba24e1d45e3b75",
      "538c1aac95e240e4a3c3df2ac1dd807b",
      "41853dbc25c14f04adb227b6ea3e8f11",
      "afce560b76104a4c9b467e3682345930",
      "3ef8a5ee7f5f47bd87ffe84981c806a7",
      "090311de2eca43748f3d8b727f2638c7",
      "dcde73bc693f4c13a48487b72cb2d93a",
      "1c25c336d4714da2938909b959954e2d",
      "a2e585060f734e8cb5435562e320950b",
      "0a542f83664f4be1b1c7751fa6138c3a",
      "a68636fc50a84b8daed80a7cffbe1b2c",
      "184fa3de5bd8475faee485b54c27fa0a",
      "643518fdf40545208f8c8d7e195c9593",
      "87f1b8228ec44bc49335d9db208c174e"
     ]
    },
    "id": "8bAr6LS4Orhx",
    "outputId": "346a5bfd-fe0c-4995-910b-86b8a5d8675c"
   },
   "outputs": [],
   "source": [
    "trainer.fit(model, train_dataloader, val_dataloader)"
   ]
  },
  {
   "cell_type": "markdown",
   "metadata": {
    "id": "uN9PWQCKOrhx"
   },
   "source": [
    "Напишем функцию для визуализации процесса обучения. Она будет выводить 4 колонки картинок: изображение, его маску, предсказанную моделью маску, логиты модели."
   ]
  },
  {
   "cell_type": "code",
   "execution_count": null,
   "metadata": {
    "id": "_1Yh0DD5Orhx"
   },
   "outputs": [],
   "source": [
    "def vis_dataset(val_dataset, segment_model, n_img=4, savefig_dir=None):\n",
    "    plt.figure(figsize=(20, n_img * 3.5))\n",
    "\n",
    "    for i, (image, mask) in enumerate(val_dataset):\n",
    "        if i == n_img:\n",
    "            break\n",
    "\n",
    "        plt.subplot(n_img, 4, 4 * i + 1)\n",
    "        plt.imshow(image.permute(1, 2, 0).cpu().int())\n",
    "        plt.axis(\"off\")\n",
    "        plt.title(\"Изображение\")\n",
    "\n",
    "        plt.subplot(n_img, 4, 4 * i + 2)\n",
    "        plt.imshow(mask.squeeze().cpu())\n",
    "        plt.axis(\"off\")\n",
    "        plt.title(\"Реальная маска\")\n",
    "\n",
    "        with torch.no_grad():\n",
    "            pred = segment_model(image.unsqueeze(dim=0)).squeeze().cpu()\n",
    "\n",
    "        plt.subplot(n_img, 4, 4 * i + 3)\n",
    "        plt.imshow(pred > 0.)\n",
    "        plt.axis(\"off\")\n",
    "        plt.title(\"Предсказанная маска\")\n",
    "\n",
    "        plt.subplot(n_img, 4, 4 * i + 4)\n",
    "        plt.imshow(pred)\n",
    "        plt.axis(\"off\")\n",
    "        plt.title(\"Логиты\")\n",
    "\n",
    "    plt.show()"
   ]
  },
  {
   "cell_type": "markdown",
   "metadata": {
    "id": "xYxhPp59Orhx",
    "jupyter": {
     "outputs_hidden": false
    }
   },
   "source": [
    "Посмотрим на результаты"
   ]
  },
  {
   "cell_type": "code",
   "execution_count": null,
   "metadata": {
    "colab": {
     "base_uri": "https://localhost:8080/",
     "height": 804
    },
    "id": "wHxH16McOrh2",
    "outputId": "cc4709c7-a861-403c-8071-0aa565c363e9"
   },
   "outputs": [],
   "source": [
    "# Отрисовка результатов\n",
    "vis_dataset(val_dataset, model, n_img=4, savefig_dir=None)"
   ]
  },
  {
   "cell_type": "markdown",
   "metadata": {
    "id": "mhlLGkimOrh2"
   },
   "source": [
    "Каких результатов удалось достичь с помощью неглубокой сети? Напишите вывод по графику и примерам изображения."
   ]
  },
  {
   "cell_type": "code",
   "execution_count": null,
   "metadata": {
    "id": "PPUVSuhrZzwd"
   },
   "outputs": [],
   "source": [
    "#%reload_ext tensorboard\n",
    "#%tensorboard --logdir=lightning_logs/"
   ]
  },
  {
   "cell_type": "markdown",
   "metadata": {
    "id": "6bIej9E3Orh2"
   },
   "source": [
    "**Вывод**:\n",
    "\n",
    "Очень здорово, что такая неглубокая модель смогла не переобучиться и достичь супер хорошего значения IoU."
   ]
  }
 ],
 "metadata": {
  "accelerator": "GPU",
  "colab": {
   "gpuType": "T4",
   "provenance": []
  },
  "kernelspec": {
   "display_name": "Python 3 (ipykernel)",
   "language": "python",
   "name": "python3"
  },
  "language_info": {
   "codemirror_mode": {
    "name": "ipython",
    "version": 3
   },
   "file_extension": ".py",
   "mimetype": "text/x-python",
   "name": "python",
   "nbconvert_exporter": "python",
   "pygments_lexer": "ipython3",
   "version": "3.11.7"
  },
  "toc": {
   "base_numbering": 1,
   "nav_menu": {},
   "number_sections": true,
   "sideBar": true,
   "skip_h1_title": false,
   "title_cell": "Table of Contents",
   "title_sidebar": "Contents",
   "toc_cell": false,
   "toc_position": {},
   "toc_section_display": true,
   "toc_window_display": false
  }
 },
 "nbformat": 4,
 "nbformat_minor": 4
}
